{
 "cells": [
  {
   "cell_type": "markdown",
   "id": "6881bd5e",
   "metadata": {
    "deletable": false,
    "editable": false,
    "id": "c81daeeb"
   },
   "source": [
    "# Исследование надежности заемщиков\n"
   ]
  },
  {
   "cell_type": "markdown",
   "id": "55a78b4b",
   "metadata": {
    "deletable": false,
    "editable": false,
    "id": "827c20bf"
   },
   "source": [
    "Во второй части проекта вы выполните шаги 3 и 4. Их вручную проверит ревьюер.\n",
    "Чтобы вам не пришлось писать код заново для шагов 1 и 2, мы добавили авторские решения в ячейки с кодом. \n",
    "\n"
   ]
  },
  {
   "cell_type": "markdown",
   "id": "262cbc16",
   "metadata": {
    "deletable": false,
    "editable": false,
    "id": "744d7639"
   },
   "source": [
    "## Откройте таблицу и изучите общую информацию о данных"
   ]
  },
  {
   "cell_type": "markdown",
   "id": "e9d7971c",
   "metadata": {
    "deletable": false,
    "editable": false,
    "id": "e7a14c31"
   },
   "source": [
    "**Задание 1. Импортируйте библиотеку pandas. Считайте данные из csv-файла в датафрейм и сохраните в переменную `data`. Путь к файлу:**\n",
    "\n",
    "`/datasets/data.csv`"
   ]
  },
  {
   "cell_type": "code",
   "execution_count": 2,
   "id": "7e3f957a",
   "metadata": {
    "deletable": false,
    "id": "7bcf75c9"
   },
   "outputs": [],
   "source": [
    "import pandas as pd\n",
    "import seaborn\n",
    "\n",
    "try:\n",
    "    data = pd.read_csv('/datasets/data.csv')\n",
    "except:\n",
    "    data = pd.read_csv('https://code.s3.yandex.net/datasets/data.csv')"
   ]
  },
  {
   "cell_type": "markdown",
   "id": "ae24b429",
   "metadata": {
    "deletable": false,
    "editable": false,
    "id": "b8038fe3"
   },
   "source": [
    "**Задание 2. Выведите первые 20 строчек датафрейма `data` на экран.**"
   ]
  },
  {
   "cell_type": "code",
   "execution_count": 3,
   "id": "992e7e96",
   "metadata": {
    "deletable": false,
    "id": "2a7cab99",
    "outputId": "1a8f3ef2-d323-4ec2-ddf7-89670b5944c4"
   },
   "outputs": [
    {
     "data": {
      "text/html": [
       "<div>\n",
       "<style scoped>\n",
       "    .dataframe tbody tr th:only-of-type {\n",
       "        vertical-align: middle;\n",
       "    }\n",
       "\n",
       "    .dataframe tbody tr th {\n",
       "        vertical-align: top;\n",
       "    }\n",
       "\n",
       "    .dataframe thead th {\n",
       "        text-align: right;\n",
       "    }\n",
       "</style>\n",
       "<table border=\"1\" class=\"dataframe\">\n",
       "  <thead>\n",
       "    <tr style=\"text-align: right;\">\n",
       "      <th></th>\n",
       "      <th>children</th>\n",
       "      <th>days_employed</th>\n",
       "      <th>dob_years</th>\n",
       "      <th>education</th>\n",
       "      <th>education_id</th>\n",
       "      <th>family_status</th>\n",
       "      <th>family_status_id</th>\n",
       "      <th>gender</th>\n",
       "      <th>income_type</th>\n",
       "      <th>debt</th>\n",
       "      <th>total_income</th>\n",
       "      <th>purpose</th>\n",
       "    </tr>\n",
       "  </thead>\n",
       "  <tbody>\n",
       "    <tr>\n",
       "      <th>0</th>\n",
       "      <td>1</td>\n",
       "      <td>-8437.673028</td>\n",
       "      <td>42</td>\n",
       "      <td>высшее</td>\n",
       "      <td>0</td>\n",
       "      <td>женат / замужем</td>\n",
       "      <td>0</td>\n",
       "      <td>F</td>\n",
       "      <td>сотрудник</td>\n",
       "      <td>0</td>\n",
       "      <td>253875.639453</td>\n",
       "      <td>покупка жилья</td>\n",
       "    </tr>\n",
       "    <tr>\n",
       "      <th>1</th>\n",
       "      <td>1</td>\n",
       "      <td>-4024.803754</td>\n",
       "      <td>36</td>\n",
       "      <td>среднее</td>\n",
       "      <td>1</td>\n",
       "      <td>женат / замужем</td>\n",
       "      <td>0</td>\n",
       "      <td>F</td>\n",
       "      <td>сотрудник</td>\n",
       "      <td>0</td>\n",
       "      <td>112080.014102</td>\n",
       "      <td>приобретение автомобиля</td>\n",
       "    </tr>\n",
       "    <tr>\n",
       "      <th>2</th>\n",
       "      <td>0</td>\n",
       "      <td>-5623.422610</td>\n",
       "      <td>33</td>\n",
       "      <td>Среднее</td>\n",
       "      <td>1</td>\n",
       "      <td>женат / замужем</td>\n",
       "      <td>0</td>\n",
       "      <td>M</td>\n",
       "      <td>сотрудник</td>\n",
       "      <td>0</td>\n",
       "      <td>145885.952297</td>\n",
       "      <td>покупка жилья</td>\n",
       "    </tr>\n",
       "    <tr>\n",
       "      <th>3</th>\n",
       "      <td>3</td>\n",
       "      <td>-4124.747207</td>\n",
       "      <td>32</td>\n",
       "      <td>среднее</td>\n",
       "      <td>1</td>\n",
       "      <td>женат / замужем</td>\n",
       "      <td>0</td>\n",
       "      <td>M</td>\n",
       "      <td>сотрудник</td>\n",
       "      <td>0</td>\n",
       "      <td>267628.550329</td>\n",
       "      <td>дополнительное образование</td>\n",
       "    </tr>\n",
       "    <tr>\n",
       "      <th>4</th>\n",
       "      <td>0</td>\n",
       "      <td>340266.072047</td>\n",
       "      <td>53</td>\n",
       "      <td>среднее</td>\n",
       "      <td>1</td>\n",
       "      <td>гражданский брак</td>\n",
       "      <td>1</td>\n",
       "      <td>F</td>\n",
       "      <td>пенсионер</td>\n",
       "      <td>0</td>\n",
       "      <td>158616.077870</td>\n",
       "      <td>сыграть свадьбу</td>\n",
       "    </tr>\n",
       "    <tr>\n",
       "      <th>5</th>\n",
       "      <td>0</td>\n",
       "      <td>-926.185831</td>\n",
       "      <td>27</td>\n",
       "      <td>высшее</td>\n",
       "      <td>0</td>\n",
       "      <td>гражданский брак</td>\n",
       "      <td>1</td>\n",
       "      <td>M</td>\n",
       "      <td>компаньон</td>\n",
       "      <td>0</td>\n",
       "      <td>255763.565419</td>\n",
       "      <td>покупка жилья</td>\n",
       "    </tr>\n",
       "    <tr>\n",
       "      <th>6</th>\n",
       "      <td>0</td>\n",
       "      <td>-2879.202052</td>\n",
       "      <td>43</td>\n",
       "      <td>высшее</td>\n",
       "      <td>0</td>\n",
       "      <td>женат / замужем</td>\n",
       "      <td>0</td>\n",
       "      <td>F</td>\n",
       "      <td>компаньон</td>\n",
       "      <td>0</td>\n",
       "      <td>240525.971920</td>\n",
       "      <td>операции с жильем</td>\n",
       "    </tr>\n",
       "    <tr>\n",
       "      <th>7</th>\n",
       "      <td>0</td>\n",
       "      <td>-152.779569</td>\n",
       "      <td>50</td>\n",
       "      <td>СРЕДНЕЕ</td>\n",
       "      <td>1</td>\n",
       "      <td>женат / замужем</td>\n",
       "      <td>0</td>\n",
       "      <td>M</td>\n",
       "      <td>сотрудник</td>\n",
       "      <td>0</td>\n",
       "      <td>135823.934197</td>\n",
       "      <td>образование</td>\n",
       "    </tr>\n",
       "    <tr>\n",
       "      <th>8</th>\n",
       "      <td>2</td>\n",
       "      <td>-6929.865299</td>\n",
       "      <td>35</td>\n",
       "      <td>ВЫСШЕЕ</td>\n",
       "      <td>0</td>\n",
       "      <td>гражданский брак</td>\n",
       "      <td>1</td>\n",
       "      <td>F</td>\n",
       "      <td>сотрудник</td>\n",
       "      <td>0</td>\n",
       "      <td>95856.832424</td>\n",
       "      <td>на проведение свадьбы</td>\n",
       "    </tr>\n",
       "    <tr>\n",
       "      <th>9</th>\n",
       "      <td>0</td>\n",
       "      <td>-2188.756445</td>\n",
       "      <td>41</td>\n",
       "      <td>среднее</td>\n",
       "      <td>1</td>\n",
       "      <td>женат / замужем</td>\n",
       "      <td>0</td>\n",
       "      <td>M</td>\n",
       "      <td>сотрудник</td>\n",
       "      <td>0</td>\n",
       "      <td>144425.938277</td>\n",
       "      <td>покупка жилья для семьи</td>\n",
       "    </tr>\n",
       "    <tr>\n",
       "      <th>10</th>\n",
       "      <td>2</td>\n",
       "      <td>-4171.483647</td>\n",
       "      <td>36</td>\n",
       "      <td>высшее</td>\n",
       "      <td>0</td>\n",
       "      <td>женат / замужем</td>\n",
       "      <td>0</td>\n",
       "      <td>M</td>\n",
       "      <td>компаньон</td>\n",
       "      <td>0</td>\n",
       "      <td>113943.491460</td>\n",
       "      <td>покупка недвижимости</td>\n",
       "    </tr>\n",
       "    <tr>\n",
       "      <th>11</th>\n",
       "      <td>0</td>\n",
       "      <td>-792.701887</td>\n",
       "      <td>40</td>\n",
       "      <td>среднее</td>\n",
       "      <td>1</td>\n",
       "      <td>женат / замужем</td>\n",
       "      <td>0</td>\n",
       "      <td>F</td>\n",
       "      <td>сотрудник</td>\n",
       "      <td>0</td>\n",
       "      <td>77069.234271</td>\n",
       "      <td>покупка коммерческой недвижимости</td>\n",
       "    </tr>\n",
       "    <tr>\n",
       "      <th>12</th>\n",
       "      <td>0</td>\n",
       "      <td>NaN</td>\n",
       "      <td>65</td>\n",
       "      <td>среднее</td>\n",
       "      <td>1</td>\n",
       "      <td>гражданский брак</td>\n",
       "      <td>1</td>\n",
       "      <td>M</td>\n",
       "      <td>пенсионер</td>\n",
       "      <td>0</td>\n",
       "      <td>NaN</td>\n",
       "      <td>сыграть свадьбу</td>\n",
       "    </tr>\n",
       "    <tr>\n",
       "      <th>13</th>\n",
       "      <td>0</td>\n",
       "      <td>-1846.641941</td>\n",
       "      <td>54</td>\n",
       "      <td>неоконченное высшее</td>\n",
       "      <td>2</td>\n",
       "      <td>женат / замужем</td>\n",
       "      <td>0</td>\n",
       "      <td>F</td>\n",
       "      <td>сотрудник</td>\n",
       "      <td>0</td>\n",
       "      <td>130458.228857</td>\n",
       "      <td>приобретение автомобиля</td>\n",
       "    </tr>\n",
       "    <tr>\n",
       "      <th>14</th>\n",
       "      <td>0</td>\n",
       "      <td>-1844.956182</td>\n",
       "      <td>56</td>\n",
       "      <td>высшее</td>\n",
       "      <td>0</td>\n",
       "      <td>гражданский брак</td>\n",
       "      <td>1</td>\n",
       "      <td>F</td>\n",
       "      <td>компаньон</td>\n",
       "      <td>1</td>\n",
       "      <td>165127.911772</td>\n",
       "      <td>покупка жилой недвижимости</td>\n",
       "    </tr>\n",
       "    <tr>\n",
       "      <th>15</th>\n",
       "      <td>1</td>\n",
       "      <td>-972.364419</td>\n",
       "      <td>26</td>\n",
       "      <td>среднее</td>\n",
       "      <td>1</td>\n",
       "      <td>женат / замужем</td>\n",
       "      <td>0</td>\n",
       "      <td>F</td>\n",
       "      <td>сотрудник</td>\n",
       "      <td>0</td>\n",
       "      <td>116820.904450</td>\n",
       "      <td>строительство собственной недвижимости</td>\n",
       "    </tr>\n",
       "    <tr>\n",
       "      <th>16</th>\n",
       "      <td>0</td>\n",
       "      <td>-1719.934226</td>\n",
       "      <td>35</td>\n",
       "      <td>среднее</td>\n",
       "      <td>1</td>\n",
       "      <td>женат / замужем</td>\n",
       "      <td>0</td>\n",
       "      <td>F</td>\n",
       "      <td>сотрудник</td>\n",
       "      <td>0</td>\n",
       "      <td>289202.704229</td>\n",
       "      <td>недвижимость</td>\n",
       "    </tr>\n",
       "    <tr>\n",
       "      <th>17</th>\n",
       "      <td>0</td>\n",
       "      <td>-2369.999720</td>\n",
       "      <td>33</td>\n",
       "      <td>высшее</td>\n",
       "      <td>0</td>\n",
       "      <td>гражданский брак</td>\n",
       "      <td>1</td>\n",
       "      <td>M</td>\n",
       "      <td>сотрудник</td>\n",
       "      <td>0</td>\n",
       "      <td>90410.586745</td>\n",
       "      <td>строительство недвижимости</td>\n",
       "    </tr>\n",
       "    <tr>\n",
       "      <th>18</th>\n",
       "      <td>0</td>\n",
       "      <td>400281.136913</td>\n",
       "      <td>53</td>\n",
       "      <td>среднее</td>\n",
       "      <td>1</td>\n",
       "      <td>вдовец / вдова</td>\n",
       "      <td>2</td>\n",
       "      <td>F</td>\n",
       "      <td>пенсионер</td>\n",
       "      <td>0</td>\n",
       "      <td>56823.777243</td>\n",
       "      <td>на покупку подержанного автомобиля</td>\n",
       "    </tr>\n",
       "    <tr>\n",
       "      <th>19</th>\n",
       "      <td>0</td>\n",
       "      <td>-10038.818549</td>\n",
       "      <td>48</td>\n",
       "      <td>СРЕДНЕЕ</td>\n",
       "      <td>1</td>\n",
       "      <td>в разводе</td>\n",
       "      <td>3</td>\n",
       "      <td>F</td>\n",
       "      <td>сотрудник</td>\n",
       "      <td>0</td>\n",
       "      <td>242831.107982</td>\n",
       "      <td>на покупку своего автомобиля</td>\n",
       "    </tr>\n",
       "  </tbody>\n",
       "</table>\n",
       "</div>"
      ],
      "text/plain": [
       "    children  days_employed  dob_years            education  education_id  \\\n",
       "0          1   -8437.673028         42               высшее             0   \n",
       "1          1   -4024.803754         36              среднее             1   \n",
       "2          0   -5623.422610         33              Среднее             1   \n",
       "3          3   -4124.747207         32              среднее             1   \n",
       "4          0  340266.072047         53              среднее             1   \n",
       "5          0    -926.185831         27               высшее             0   \n",
       "6          0   -2879.202052         43               высшее             0   \n",
       "7          0    -152.779569         50              СРЕДНЕЕ             1   \n",
       "8          2   -6929.865299         35               ВЫСШЕЕ             0   \n",
       "9          0   -2188.756445         41              среднее             1   \n",
       "10         2   -4171.483647         36               высшее             0   \n",
       "11         0    -792.701887         40              среднее             1   \n",
       "12         0            NaN         65              среднее             1   \n",
       "13         0   -1846.641941         54  неоконченное высшее             2   \n",
       "14         0   -1844.956182         56               высшее             0   \n",
       "15         1    -972.364419         26              среднее             1   \n",
       "16         0   -1719.934226         35              среднее             1   \n",
       "17         0   -2369.999720         33               высшее             0   \n",
       "18         0  400281.136913         53              среднее             1   \n",
       "19         0  -10038.818549         48              СРЕДНЕЕ             1   \n",
       "\n",
       "       family_status  family_status_id gender income_type  debt  \\\n",
       "0    женат / замужем                 0      F   сотрудник     0   \n",
       "1    женат / замужем                 0      F   сотрудник     0   \n",
       "2    женат / замужем                 0      M   сотрудник     0   \n",
       "3    женат / замужем                 0      M   сотрудник     0   \n",
       "4   гражданский брак                 1      F   пенсионер     0   \n",
       "5   гражданский брак                 1      M   компаньон     0   \n",
       "6    женат / замужем                 0      F   компаньон     0   \n",
       "7    женат / замужем                 0      M   сотрудник     0   \n",
       "8   гражданский брак                 1      F   сотрудник     0   \n",
       "9    женат / замужем                 0      M   сотрудник     0   \n",
       "10   женат / замужем                 0      M   компаньон     0   \n",
       "11   женат / замужем                 0      F   сотрудник     0   \n",
       "12  гражданский брак                 1      M   пенсионер     0   \n",
       "13   женат / замужем                 0      F   сотрудник     0   \n",
       "14  гражданский брак                 1      F   компаньон     1   \n",
       "15   женат / замужем                 0      F   сотрудник     0   \n",
       "16   женат / замужем                 0      F   сотрудник     0   \n",
       "17  гражданский брак                 1      M   сотрудник     0   \n",
       "18    вдовец / вдова                 2      F   пенсионер     0   \n",
       "19         в разводе                 3      F   сотрудник     0   \n",
       "\n",
       "     total_income                                 purpose  \n",
       "0   253875.639453                           покупка жилья  \n",
       "1   112080.014102                 приобретение автомобиля  \n",
       "2   145885.952297                           покупка жилья  \n",
       "3   267628.550329              дополнительное образование  \n",
       "4   158616.077870                         сыграть свадьбу  \n",
       "5   255763.565419                           покупка жилья  \n",
       "6   240525.971920                       операции с жильем  \n",
       "7   135823.934197                             образование  \n",
       "8    95856.832424                   на проведение свадьбы  \n",
       "9   144425.938277                 покупка жилья для семьи  \n",
       "10  113943.491460                    покупка недвижимости  \n",
       "11   77069.234271       покупка коммерческой недвижимости  \n",
       "12            NaN                         сыграть свадьбу  \n",
       "13  130458.228857                 приобретение автомобиля  \n",
       "14  165127.911772              покупка жилой недвижимости  \n",
       "15  116820.904450  строительство собственной недвижимости  \n",
       "16  289202.704229                            недвижимость  \n",
       "17   90410.586745              строительство недвижимости  \n",
       "18   56823.777243      на покупку подержанного автомобиля  \n",
       "19  242831.107982            на покупку своего автомобиля  "
      ]
     },
     "execution_count": 3,
     "metadata": {},
     "output_type": "execute_result"
    }
   ],
   "source": [
    "data.head(20)"
   ]
  },
  {
   "cell_type": "markdown",
   "id": "8a2d40f7",
   "metadata": {
    "deletable": false,
    "editable": false,
    "id": "1c12e233"
   },
   "source": [
    "**Задание 3. Выведите основную информацию о датафрейме с помощью метода `info()`.**"
   ]
  },
  {
   "cell_type": "code",
   "execution_count": 4,
   "id": "d6567522",
   "metadata": {
    "deletable": false,
    "id": "2b757bca",
    "outputId": "15376089-8dad-46c9-b520-c05248d43158"
   },
   "outputs": [
    {
     "name": "stdout",
     "output_type": "stream",
     "text": [
      "<class 'pandas.core.frame.DataFrame'>\n",
      "RangeIndex: 21525 entries, 0 to 21524\n",
      "Data columns (total 12 columns):\n",
      " #   Column            Non-Null Count  Dtype  \n",
      "---  ------            --------------  -----  \n",
      " 0   children          21525 non-null  int64  \n",
      " 1   days_employed     19351 non-null  float64\n",
      " 2   dob_years         21525 non-null  int64  \n",
      " 3   education         21525 non-null  object \n",
      " 4   education_id      21525 non-null  int64  \n",
      " 5   family_status     21525 non-null  object \n",
      " 6   family_status_id  21525 non-null  int64  \n",
      " 7   gender            21525 non-null  object \n",
      " 8   income_type       21525 non-null  object \n",
      " 9   debt              21525 non-null  int64  \n",
      " 10  total_income      19351 non-null  float64\n",
      " 11  purpose           21525 non-null  object \n",
      "dtypes: float64(2), int64(5), object(5)\n",
      "memory usage: 2.0+ MB\n"
     ]
    }
   ],
   "source": [
    "data.info()"
   ]
  },
  {
   "cell_type": "markdown",
   "id": "10275b32",
   "metadata": {
    "deletable": false,
    "editable": false,
    "id": "333ec665"
   },
   "source": [
    "## Предобработка данных"
   ]
  },
  {
   "cell_type": "markdown",
   "id": "0ed20363",
   "metadata": {
    "deletable": false,
    "editable": false,
    "id": "02d92d53"
   },
   "source": [
    "### Удаление пропусков"
   ]
  },
  {
   "cell_type": "markdown",
   "id": "9eeb3929",
   "metadata": {
    "deletable": false,
    "editable": false,
    "id": "cd84967c"
   },
   "source": [
    "**Задание 4. Выведите количество пропущенных значений для каждого столбца. Используйте комбинацию двух методов.**"
   ]
  },
  {
   "cell_type": "code",
   "execution_count": 5,
   "id": "e25181a3",
   "metadata": {
    "deletable": false,
    "id": "7f9b2309",
    "outputId": "81f4d817-781c-465c-ed15-91ce4446810d"
   },
   "outputs": [
    {
     "data": {
      "text/plain": [
       "children               0\n",
       "days_employed       2174\n",
       "dob_years              0\n",
       "education              0\n",
       "education_id           0\n",
       "family_status          0\n",
       "family_status_id       0\n",
       "gender                 0\n",
       "income_type            0\n",
       "debt                   0\n",
       "total_income        2174\n",
       "purpose                0\n",
       "dtype: int64"
      ]
     },
     "execution_count": 5,
     "metadata": {},
     "output_type": "execute_result"
    }
   ],
   "source": [
    "data.isna().sum()"
   ]
  },
  {
   "cell_type": "markdown",
   "id": "5f6d0c91",
   "metadata": {
    "deletable": false,
    "editable": false,
    "id": "db86e27b"
   },
   "source": [
    "**Задание 5. В двух столбцах есть пропущенные значения. Один из них — `days_employed`. Пропуски в этом столбце вы обработаете на следующем этапе. Другой столбец с пропущенными значениями — `total_income` — хранит данные о доходах. На сумму дохода сильнее всего влияет тип занятости, поэтому заполнить пропуски в этом столбце нужно медианным значением по каждому типу из столбца `income_type`. Например, у человека с типом занятости `сотрудник` пропуск в столбце `total_income` должен быть заполнен медианным доходом среди всех записей с тем же типом.**"
   ]
  },
  {
   "cell_type": "code",
   "execution_count": 6,
   "id": "7d9164c4",
   "metadata": {
    "deletable": false,
    "id": "42006a93"
   },
   "outputs": [],
   "source": [
    "for t in data['income_type'].unique():\n",
    "    data.loc[(data['income_type'] == t) & (data['total_income'].isna()), 'total_income'] = \\\n",
    "    data.loc[(data['income_type'] == t), 'total_income'].median()"
   ]
  },
  {
   "cell_type": "markdown",
   "id": "feee24e8",
   "metadata": {
    "deletable": false,
    "editable": false,
    "id": "89da5ece"
   },
   "source": [
    "### Обработка аномальных значений"
   ]
  },
  {
   "cell_type": "markdown",
   "id": "0d565318",
   "metadata": {
    "deletable": false,
    "editable": false,
    "id": "57964554"
   },
   "source": [
    "**Задание 6. В данных могут встречаться артефакты (аномалии) — значения, которые не отражают действительность и появились по какой-то ошибке. таким артефактом будет отрицательное количество дней трудового стажа в столбце `days_employed`. Для реальных данных это нормально. Обработайте значения в этом столбце: замените все отрицательные значения положительными с помощью метода `abs()`.**"
   ]
  },
  {
   "cell_type": "code",
   "execution_count": 7,
   "id": "085f93c4",
   "metadata": {
    "deletable": false,
    "id": "f6f055bf"
   },
   "outputs": [],
   "source": [
    "data['days_employed'] = data['days_employed'].abs()"
   ]
  },
  {
   "cell_type": "markdown",
   "id": "aede5b29",
   "metadata": {
    "deletable": false,
    "editable": false,
    "id": "6107dd2f"
   },
   "source": [
    "**Задание 7. Для каждого типа занятости выведите медианное значение трудового стажа `days_employed` в днях.**"
   ]
  },
  {
   "cell_type": "code",
   "execution_count": 8,
   "id": "c6ede815",
   "metadata": {
    "deletable": false,
    "id": "85a5faf6",
    "outputId": "801ef80e-522b-4668-f34e-565af7432bcf"
   },
   "outputs": [
    {
     "data": {
      "text/plain": [
       "income_type\n",
       "безработный        366413.652744\n",
       "в декрете            3296.759962\n",
       "госслужащий          2689.368353\n",
       "компаньон            1547.382223\n",
       "пенсионер          365213.306266\n",
       "предприниматель       520.848083\n",
       "сотрудник            1574.202821\n",
       "студент               578.751554\n",
       "Name: days_employed, dtype: float64"
      ]
     },
     "execution_count": 8,
     "metadata": {},
     "output_type": "execute_result"
    }
   ],
   "source": [
    "data.groupby('income_type')['days_employed'].agg('median')"
   ]
  },
  {
   "cell_type": "markdown",
   "id": "acc17fb2",
   "metadata": {
    "deletable": false,
    "editable": false,
    "id": "38d1a030"
   },
   "source": [
    "У двух типов (безработные и пенсионеры) получатся аномально большие значения. Исправить такие значения сложно, поэтому оставьте их как есть. Тем более этот столбец не понадобится вам для исследования."
   ]
  },
  {
   "cell_type": "markdown",
   "id": "c84b000d",
   "metadata": {
    "deletable": false,
    "editable": false,
    "id": "d8a9f147"
   },
   "source": [
    "**Задание 8. Выведите перечень уникальных значений столбца `children`.**"
   ]
  },
  {
   "cell_type": "code",
   "execution_count": 9,
   "id": "49e63e32",
   "metadata": {
    "deletable": false,
    "id": "ef5056eb",
    "outputId": "6975b15c-7f95-4697-d16d-a0c79b657b03"
   },
   "outputs": [
    {
     "data": {
      "text/plain": [
       "array([ 1,  0,  3,  2, -1,  4, 20,  5])"
      ]
     },
     "execution_count": 9,
     "metadata": {},
     "output_type": "execute_result"
    }
   ],
   "source": [
    "data['children'].unique()"
   ]
  },
  {
   "cell_type": "markdown",
   "id": "ca976b98",
   "metadata": {
    "deletable": false,
    "editable": false,
    "id": "40b9ebf2"
   },
   "source": [
    "**Задание 9. В столбце `children` есть два аномальных значения. Удалите строки, в которых встречаются такие аномальные значения из датафрейма `data`.**"
   ]
  },
  {
   "cell_type": "code",
   "execution_count": 10,
   "id": "444cffd7",
   "metadata": {
    "deletable": false,
    "id": "3ff9801d"
   },
   "outputs": [],
   "source": [
    "data = data[(data['children'] != -1) & (data['children'] != 20)]"
   ]
  },
  {
   "cell_type": "markdown",
   "id": "040f2b85",
   "metadata": {
    "deletable": false,
    "editable": false,
    "id": "bbc4d0ce"
   },
   "source": [
    "**Задание 10. Ещё раз выведите перечень уникальных значений столбца `children`, чтобы убедиться, что артефакты удалены.**"
   ]
  },
  {
   "cell_type": "code",
   "execution_count": 11,
   "id": "683fcce9",
   "metadata": {
    "deletable": false,
    "id": "ad4fa8b7",
    "outputId": "b2097101-d49d-44d9-901b-32a65c9463d1"
   },
   "outputs": [
    {
     "data": {
      "text/plain": [
       "array([1, 0, 3, 2, 4, 5])"
      ]
     },
     "execution_count": 11,
     "metadata": {},
     "output_type": "execute_result"
    }
   ],
   "source": [
    "data['children'].unique()"
   ]
  },
  {
   "cell_type": "markdown",
   "id": "d838e82e",
   "metadata": {
    "deletable": false,
    "editable": false,
    "id": "75440b63"
   },
   "source": [
    "### Удаление пропусков (продолжение)"
   ]
  },
  {
   "cell_type": "markdown",
   "id": "ba3a480e",
   "metadata": {
    "deletable": false,
    "editable": false,
    "id": "f4ea573f"
   },
   "source": [
    "**Задание 11. Заполните пропуски в столбце `days_employed` медианными значениями по каждого типа занятости `income_type`.**"
   ]
  },
  {
   "cell_type": "code",
   "execution_count": 12,
   "id": "b172f438",
   "metadata": {
    "deletable": false,
    "id": "af6b1a7e"
   },
   "outputs": [],
   "source": [
    "for t in data['income_type'].unique():\n",
    "    data.loc[(data['income_type'] == t) & (data['days_employed'].isna()), 'days_employed'] = \\\n",
    "    data.loc[(data['income_type'] == t), 'days_employed'].median()"
   ]
  },
  {
   "cell_type": "markdown",
   "id": "84cf4f31",
   "metadata": {
    "deletable": false,
    "editable": false,
    "id": "2753f40d"
   },
   "source": [
    "**Задание 12. Убедитесь, что все пропуски заполнены. Проверьте себя и ещё раз выведите количество пропущенных значений для каждого столбца с помощью двух методов.**"
   ]
  },
  {
   "cell_type": "code",
   "execution_count": 13,
   "id": "f18ab12e",
   "metadata": {
    "deletable": false,
    "id": "55f78bc2",
    "outputId": "8da1e4e1-358e-4e87-98c9-f261bce0a7b2"
   },
   "outputs": [
    {
     "data": {
      "text/plain": [
       "children            0\n",
       "days_employed       0\n",
       "dob_years           0\n",
       "education           0\n",
       "education_id        0\n",
       "family_status       0\n",
       "family_status_id    0\n",
       "gender              0\n",
       "income_type         0\n",
       "debt                0\n",
       "total_income        0\n",
       "purpose             0\n",
       "dtype: int64"
      ]
     },
     "execution_count": 13,
     "metadata": {},
     "output_type": "execute_result"
    }
   ],
   "source": [
    "data.isna().sum()"
   ]
  },
  {
   "cell_type": "markdown",
   "id": "70a2a25f",
   "metadata": {
    "deletable": false,
    "editable": false,
    "id": "ddc81e43"
   },
   "source": [
    "### Изменение типов данных"
   ]
  },
  {
   "cell_type": "markdown",
   "id": "734c45b3",
   "metadata": {
    "deletable": false,
    "editable": false,
    "id": "42d19d24"
   },
   "source": [
    "**Задание 13. Замените вещественный тип данных в столбце `total_income` на целочисленный с помощью метода `astype()`.**"
   ]
  },
  {
   "cell_type": "code",
   "execution_count": 14,
   "id": "b2f3d4e4",
   "metadata": {
    "deletable": false,
    "id": "920b65ad"
   },
   "outputs": [],
   "source": [
    "data['total_income'] = data['total_income'].astype(int)"
   ]
  },
  {
   "cell_type": "markdown",
   "id": "feb87620",
   "metadata": {
    "deletable": false,
    "editable": false,
    "id": "80c420ba"
   },
   "source": [
    "### Обработка дубликатов"
   ]
  },
  {
   "cell_type": "markdown",
   "id": "aa4aaf52",
   "metadata": {
    "deletable": false,
    "editable": false
   },
   "source": [
    "**Задание 14. Обработайте неявные дубликаты в столбце `education`. В этом столбце есть одни и те же значения, но записанные по-разному: с использованием заглавных и строчных букв. Приведите их к нижнему регистру. Проверьте остальные столбцы.**"
   ]
  },
  {
   "cell_type": "code",
   "execution_count": 15,
   "id": "284fcc50",
   "metadata": {
    "deletable": false
   },
   "outputs": [],
   "source": [
    "data['education'] = data['education'].str.lower()"
   ]
  },
  {
   "cell_type": "markdown",
   "id": "8351aa9e",
   "metadata": {
    "deletable": false,
    "editable": false,
    "id": "dc587695"
   },
   "source": [
    "**Задание 15. Выведите на экран количество строк-дубликатов в данных. Если такие строки присутствуют, удалите их.**"
   ]
  },
  {
   "cell_type": "code",
   "execution_count": 16,
   "id": "22ea7e35",
   "metadata": {
    "deletable": false,
    "id": "3ee445e4",
    "outputId": "9684deba-1934-42d1-99e1-cda61740f822"
   },
   "outputs": [
    {
     "data": {
      "text/plain": [
       "71"
      ]
     },
     "execution_count": 16,
     "metadata": {},
     "output_type": "execute_result"
    }
   ],
   "source": [
    "data.duplicated().sum()"
   ]
  },
  {
   "cell_type": "code",
   "execution_count": 17,
   "id": "693f16f3",
   "metadata": {
    "deletable": false,
    "id": "8575fe05"
   },
   "outputs": [],
   "source": [
    "data = data.drop_duplicates()"
   ]
  },
  {
   "cell_type": "markdown",
   "id": "75b558c3",
   "metadata": {
    "deletable": false,
    "editable": false,
    "id": "9904cf55"
   },
   "source": [
    "### Категоризация данных"
   ]
  },
  {
   "cell_type": "markdown",
   "id": "444736c1",
   "metadata": {
    "deletable": false,
    "editable": false,
    "id": "72fcc8a2"
   },
   "source": [
    "**Задание 16. На основании диапазонов, указанных ниже, создайте в датафрейме `data` столбец `total_income_category` с категориями:**\n",
    "\n",
    "- 0–30000 — `'E'`;\n",
    "- 30001–50000 — `'D'`;\n",
    "- 50001–200000 — `'C'`;\n",
    "- 200001–1000000 — `'B'`;\n",
    "- 1000001 и выше — `'A'`.\n",
    "\n",
    "\n",
    "**Например, кредитополучателю с доходом 25000 нужно назначить категорию `'E'`, а клиенту, получающему 235000, — `'B'`. Используйте собственную функцию с именем `categorize_income()` и метод `apply()`.**"
   ]
  },
  {
   "cell_type": "code",
   "execution_count": 18,
   "id": "ffef94eb",
   "metadata": {
    "deletable": false,
    "id": "e1771346"
   },
   "outputs": [],
   "source": [
    "def categorize_income(income):\n",
    "    try:\n",
    "        if 0 <= income <= 30000:\n",
    "            return 'E'\n",
    "        elif 30001 <= income <= 50000:\n",
    "            return 'D'\n",
    "        elif 50001 <= income <= 200000:\n",
    "            return 'C'\n",
    "        elif 200001 <= income <= 1000000:\n",
    "            return 'B'\n",
    "        elif income >= 1000001:\n",
    "            return 'A'\n",
    "    except:\n",
    "        pass"
   ]
  },
  {
   "cell_type": "code",
   "execution_count": 19,
   "id": "f09bff91",
   "metadata": {
    "deletable": false,
    "id": "d5f3586d"
   },
   "outputs": [],
   "source": [
    "data['total_income_category'] = data['total_income'].apply(categorize_income)"
   ]
  },
  {
   "cell_type": "markdown",
   "id": "8ecdd45c",
   "metadata": {
    "deletable": false,
    "editable": false,
    "id": "dde49b5c"
   },
   "source": [
    "**Задание 17. Выведите на экран перечень уникальных целей взятия кредита из столбца `purpose`.**"
   ]
  },
  {
   "cell_type": "code",
   "execution_count": 20,
   "id": "f6b6c8fe",
   "metadata": {
    "deletable": false,
    "id": "f67ce9b3",
    "outputId": "673c12d9-7d7e-4ae0-9812-c622c89dd244"
   },
   "outputs": [
    {
     "data": {
      "text/plain": [
       "array(['покупка жилья', 'приобретение автомобиля',\n",
       "       'дополнительное образование', 'сыграть свадьбу',\n",
       "       'операции с жильем', 'образование', 'на проведение свадьбы',\n",
       "       'покупка жилья для семьи', 'покупка недвижимости',\n",
       "       'покупка коммерческой недвижимости', 'покупка жилой недвижимости',\n",
       "       'строительство собственной недвижимости', 'недвижимость',\n",
       "       'строительство недвижимости', 'на покупку подержанного автомобиля',\n",
       "       'на покупку своего автомобиля',\n",
       "       'операции с коммерческой недвижимостью',\n",
       "       'строительство жилой недвижимости', 'жилье',\n",
       "       'операции со своей недвижимостью', 'автомобили',\n",
       "       'заняться образованием', 'сделка с подержанным автомобилем',\n",
       "       'получение образования', 'автомобиль', 'свадьба',\n",
       "       'получение дополнительного образования', 'покупка своего жилья',\n",
       "       'операции с недвижимостью', 'получение высшего образования',\n",
       "       'свой автомобиль', 'сделка с автомобилем',\n",
       "       'профильное образование', 'высшее образование',\n",
       "       'покупка жилья для сдачи', 'на покупку автомобиля', 'ремонт жилью',\n",
       "       'заняться высшим образованием'], dtype=object)"
      ]
     },
     "execution_count": 20,
     "metadata": {},
     "output_type": "execute_result"
    }
   ],
   "source": [
    "data['purpose'].unique()"
   ]
  },
  {
   "cell_type": "markdown",
   "id": "35e8b543",
   "metadata": {
    "deletable": false,
    "editable": false,
    "id": "85d0aef0"
   },
   "source": [
    "**Задание 18. Создайте функцию, которая на основании данных из столбца `purpose` сформирует новый столбец `purpose_category`, в который войдут следующие категории:**\n",
    "\n",
    "- `'операции с автомобилем'`,\n",
    "- `'операции с недвижимостью'`,\n",
    "- `'проведение свадьбы'`,\n",
    "- `'получение образования'`.\n",
    "\n",
    "**Например, если в столбце `purpose` находится подстрока `'на покупку автомобиля'`, то в столбце `purpose_category` должна появиться строка `'операции с автомобилем'`.**\n",
    "\n",
    "**Используйте собственную функцию с именем `categorize_purpose()` и метод `apply()`. Изучите данные в столбце `purpose` и определите, какие подстроки помогут вам правильно определить категорию.**"
   ]
  },
  {
   "cell_type": "code",
   "execution_count": 21,
   "id": "51abae9a",
   "metadata": {
    "deletable": false,
    "id": "e149fab4"
   },
   "outputs": [],
   "source": [
    "def categorize_purpose(row):\n",
    "    try:\n",
    "        if 'автом' in row:\n",
    "            return 'операции с автомобилем'\n",
    "        elif 'жил' in row or 'недвиж' in row:\n",
    "            return 'операции с недвижимостью'\n",
    "        elif 'свад' in row:\n",
    "            return 'проведение свадьбы'\n",
    "        elif 'образов' in row:\n",
    "            return 'получение образования'\n",
    "    except:\n",
    "        return 'нет категории'"
   ]
  },
  {
   "cell_type": "code",
   "execution_count": 22,
   "id": "e1822203",
   "metadata": {
    "deletable": false,
    "id": "bf36e69b"
   },
   "outputs": [],
   "source": [
    "data['purpose_category'] = data['purpose'].apply(categorize_purpose)"
   ]
  },
  {
   "cell_type": "markdown",
   "id": "c19b7059",
   "metadata": {
    "deletable": false,
    "editable": false,
    "id": "09b242bf"
   },
   "source": [
    "### Шаг 3. Исследуйте данные и ответьте на вопросы"
   ]
  },
  {
   "cell_type": "markdown",
   "id": "68057545",
   "metadata": {
    "deletable": false,
    "editable": false,
    "id": "c5d66278"
   },
   "source": [
    "#### 3.1 Есть ли зависимость между количеством детей и возвратом кредита в срок?"
   ]
  },
  {
   "cell_type": "markdown",
   "id": "329c9fae",
   "metadata": {},
   "source": [
    "Разделим людей на группы по количеству детей и найдем процент тех, кто имеет долг:"
   ]
  },
  {
   "cell_type": "code",
   "execution_count": 23,
   "id": "8c2e739a",
   "metadata": {
    "deletable": false,
    "id": "2cacfc4a",
    "scrolled": true
   },
   "outputs": [
    {
     "name": "stdout",
     "output_type": "stream",
     "text": [
      "Процент не вернувших в срок кредит по количеству детей:\n",
      "7.54%, 0 детей\n",
      "9.23%, 1 детей\n",
      "9.45%, 2 детей\n",
      "8.18%, 3 детей\n",
      "9.76%, 4 детей\n",
      "0.00%, 5 детей\n",
      "\n",
      "Разница между минимальным и максимальным значениями: 9.76%\n"
     ]
    }
   ],
   "source": [
    "print('Процент не вернувших в срок кредит по количеству детей:')\n",
    "in_debt_by_children = []\n",
    "for children in sorted(data['children'].unique()):\n",
    "    no_debt = data[(data['children'] == children) & (data['debt'] == 0)].shape[0]\n",
    "    debt = data[(data['children'] == children) & (data['debt'] == 1)].shape[0]\n",
    "    in_debt_by_children.append((debt / (debt + no_debt)))\n",
    "    print('{1:.2%}, {0} детей'.format(children, (debt / (debt + no_debt))))\n",
    "print('\\nРазница между минимальным и максимальным значениями: {:.2%}'.format(max(in_debt_by_children)-min(in_debt_by_children)))"
   ]
  },
  {
   "cell_type": "markdown",
   "id": "33eb8e2f",
   "metadata": {},
   "source": [
    "Итак, процент колебается от *0* до *10*, однако *0%* ярко выделяется на фоне остальных цифр, потому оценим репрезентативность группы с данным показателем."
   ]
  },
  {
   "cell_type": "code",
   "execution_count": 24,
   "id": "e47015f2",
   "metadata": {},
   "outputs": [
    {
     "name": "stdout",
     "output_type": "stream",
     "text": [
      "Людей с 5 детьми: 9\n",
      "От общего числа их процент составляет 0.04%\n"
     ]
    }
   ],
   "source": [
    "print('Людей с 5 детьми:', data[data['children'] == 5].shape[0])\n",
    "print('От общего числа их процент составляет {:.2%}'.format((data[data['children'] == 5].shape[0] / data.shape[0])))"
   ]
  },
  {
   "cell_type": "markdown",
   "id": "ab430acc",
   "metadata": {},
   "source": [
    "Процент людей с 5 детьми является слишком малым. Потому пересчитаем разницу между минимальным и максимальным."
   ]
  },
  {
   "cell_type": "code",
   "execution_count": 25,
   "id": "5ac9fe23",
   "metadata": {},
   "outputs": [
    {
     "name": "stdout",
     "output_type": "stream",
     "text": [
      "\n",
      "Разница между минимальным и максимальным значениями: 2.21%\n"
     ]
    }
   ],
   "source": [
    "in_debt_by_children.pop(-1)\n",
    "print('\\nРазница между минимальным и максимальным значениями: {:.2%}'.format(max(in_debt_by_children)-min(in_debt_by_children)))"
   ]
  },
  {
   "cell_type": "markdown",
   "id": "2d83613e",
   "metadata": {},
   "source": [
    "Для наглядности построим графики."
   ]
  },
  {
   "cell_type": "code",
   "execution_count": 26,
   "id": "1e2f6043",
   "metadata": {},
   "outputs": [],
   "source": [
    "# Функция для удобного представления процентов на графике\n",
    "def multiply_100(num):\n",
    "    return round(num * 100, 1)\n",
    "# list(map(multiply_100, in_debt_by_children))"
   ]
  },
  {
   "cell_type": "code",
   "execution_count": 27,
   "id": "67a74148",
   "metadata": {},
   "outputs": [
    {
     "data": {
      "text/plain": [
       "[Text(0.5, 0, 'Кол-во детей, шт'), Text(0, 0.5, 'Процент вернувших в срок, %')]"
      ]
     },
     "execution_count": 27,
     "metadata": {},
     "output_type": "execute_result"
    },
    {
     "data": {
      "image/png": "[encoded data removed]",
      "text/plain": [
       "<Figure size 432x288 with 1 Axes>"
      ]
     },
     "metadata": {
      "needs_background": "light"
     },
     "output_type": "display_data"
    }
   ],
   "source": [
    "seaborn.barplot(x=[x for x in range(5)], y=list(map(multiply_100, in_debt_by_children))).set(xlabel='Кол-во детей, шт', ylabel='Процент вернувших в срок, %')"
   ]
  },
  {
   "cell_type": "markdown",
   "id": "f987e1ca",
   "metadata": {},
   "source": [
    "Можно заметить рост значений, за исключением группы с 3 детьми."
   ]
  },
  {
   "cell_type": "markdown",
   "id": "ad33a3a5",
   "metadata": {
    "deletable": false,
    "id": "3a6b99ec"
   },
   "source": [
    "**Вывод:** Наблюдается зависимость между количеством детей и возвратом кредита в срок, за исключение группы с 3 детьми. Чем больше детей, тем выше процент людей вернувших кредит в срок."
   ]
  },
  {
   "cell_type": "markdown",
   "id": "67041d46",
   "metadata": {
    "deletable": false,
    "editable": false,
    "id": "97be82ca"
   },
   "source": [
    "#### 3.2 Есть ли зависимость между семейным положением и возвратом кредита в срок?"
   ]
  },
  {
   "cell_type": "code",
   "execution_count": 28,
   "id": "5ea0a784",
   "metadata": {
    "deletable": false,
    "id": "dc3f7ee8"
   },
   "outputs": [
    {
     "data": {
      "text/plain": [
       "family_status\n",
       "вдовец / вдова           6.624606\n",
       "в разводе                7.064760\n",
       "женат / замужем          7.560558\n",
       "гражданский брак         9.313014\n",
       "Не женат / не замужем    9.763948\n",
       "Name: debt, dtype: float64"
      ]
     },
     "execution_count": 28,
     "metadata": {},
     "output_type": "execute_result"
    }
   ],
   "source": [
    "data.groupby('family_status')['debt'].mean().sort_values() * 100"
   ]
  },
  {
   "cell_type": "markdown",
   "id": "5602fbf6",
   "metadata": {},
   "source": [
    "По данным выше можно заметить, что прослеживается очевидная корреляция семейного статуса и возврата кредита в срок. "
   ]
  },
  {
   "cell_type": "markdown",
   "id": "7fdf9978",
   "metadata": {},
   "source": [
    "Люди, состоящие в гражданском браке и не состоящие в браке вовсе, чаще возращают кредит в срок, чем те, кто остался без партнера или состоит в браке."
   ]
  },
  {
   "cell_type": "markdown",
   "id": "c445a328",
   "metadata": {
    "deletable": false,
    "id": "1cef7837"
   },
   "source": [
    "**Вывод:** Есть зависимость между семейным положением и возвратом кредита в срок."
   ]
  },
  {
   "cell_type": "markdown",
   "id": "84f44952",
   "metadata": {
    "deletable": false,
    "editable": false,
    "id": "1e8b2fca"
   },
   "source": [
    "#### 3.3 Есть ли зависимость между уровнем дохода и возвратом кредита в срок?"
   ]
  },
  {
   "cell_type": "code",
   "execution_count": 33,
   "id": "1ab4205c",
   "metadata": {
    "deletable": false,
    "id": "cd7e3720"
   },
   "outputs": [
    {
     "data": {
      "text/html": [
       "<div>\n",
       "<style scoped>\n",
       "    .dataframe tbody tr th:only-of-type {\n",
       "        vertical-align: middle;\n",
       "    }\n",
       "\n",
       "    .dataframe tbody tr th {\n",
       "        vertical-align: top;\n",
       "    }\n",
       "\n",
       "    .dataframe thead th {\n",
       "        text-align: right;\n",
       "    }\n",
       "</style>\n",
       "<table border=\"1\" class=\"dataframe\">\n",
       "  <thead>\n",
       "    <tr style=\"text-align: right;\">\n",
       "      <th></th>\n",
       "      <th>sum</th>\n",
       "      <th>count</th>\n",
       "      <th>mean</th>\n",
       "    </tr>\n",
       "    <tr>\n",
       "      <th>total_income_category</th>\n",
       "      <th></th>\n",
       "      <th></th>\n",
       "      <th></th>\n",
       "    </tr>\n",
       "  </thead>\n",
       "  <tbody>\n",
       "    <tr>\n",
       "      <th>A</th>\n",
       "      <td>2</td>\n",
       "      <td>25</td>\n",
       "      <td>0.080000</td>\n",
       "    </tr>\n",
       "    <tr>\n",
       "      <th>B</th>\n",
       "      <td>354</td>\n",
       "      <td>5014</td>\n",
       "      <td>0.070602</td>\n",
       "    </tr>\n",
       "    <tr>\n",
       "      <th>C</th>\n",
       "      <td>1353</td>\n",
       "      <td>15921</td>\n",
       "      <td>0.084982</td>\n",
       "    </tr>\n",
       "    <tr>\n",
       "      <th>D</th>\n",
       "      <td>21</td>\n",
       "      <td>349</td>\n",
       "      <td>0.060172</td>\n",
       "    </tr>\n",
       "    <tr>\n",
       "      <th>E</th>\n",
       "      <td>2</td>\n",
       "      <td>22</td>\n",
       "      <td>0.090909</td>\n",
       "    </tr>\n",
       "  </tbody>\n",
       "</table>\n",
       "</div>"
      ],
      "text/plain": [
       "                        sum  count      mean\n",
       "total_income_category                       \n",
       "A                         2     25  0.080000\n",
       "B                       354   5014  0.070602\n",
       "C                      1353  15921  0.084982\n",
       "D                        21    349  0.060172\n",
       "E                         2     22  0.090909"
      ]
     },
     "execution_count": 33,
     "metadata": {},
     "output_type": "execute_result"
    }
   ],
   "source": [
    "data.groupby('total_income_category')['debt'].agg({'sum', 'count','mean'}).sort_index()"
   ]
  },
  {
   "cell_type": "markdown",
   "id": "2e2ef515",
   "metadata": {},
   "source": [
    "Из информации выше не видно прямой корреляции между уровнем дохода и возвратом кредита в срок."
   ]
  },
  {
   "cell_type": "markdown",
   "id": "9498cf61",
   "metadata": {
    "deletable": false,
    "id": "e8593def"
   },
   "source": [
    "**Вывод:** Зависимости между уровнем дохода и возвратом кредита в срок нет."
   ]
  },
  {
   "cell_type": "markdown",
   "id": "c8b039a9",
   "metadata": {
    "deletable": false,
    "editable": false,
    "id": "99ecbd1f"
   },
   "source": [
    "#### 3.4 Как разные цели кредита влияют на его возврат в срок?"
   ]
  },
  {
   "cell_type": "code",
   "execution_count": 40,
   "id": "0bf1f5d3",
   "metadata": {
    "deletable": false,
    "id": "2b687290"
   },
   "outputs": [
    {
     "data": {
      "text/html": [
       "<div>\n",
       "<style scoped>\n",
       "    .dataframe tbody tr th:only-of-type {\n",
       "        vertical-align: middle;\n",
       "    }\n",
       "\n",
       "    .dataframe tbody tr th {\n",
       "        vertical-align: top;\n",
       "    }\n",
       "\n",
       "    .dataframe thead th {\n",
       "        text-align: right;\n",
       "    }\n",
       "</style>\n",
       "<table border=\"1\" class=\"dataframe\">\n",
       "  <thead>\n",
       "    <tr style=\"text-align: right;\">\n",
       "      <th></th>\n",
       "      <th>debt</th>\n",
       "    </tr>\n",
       "    <tr>\n",
       "      <th>purpose_category</th>\n",
       "      <th></th>\n",
       "    </tr>\n",
       "  </thead>\n",
       "  <tbody>\n",
       "    <tr>\n",
       "      <th>операции с автомобилем</th>\n",
       "      <td>0.093480</td>\n",
       "    </tr>\n",
       "    <tr>\n",
       "      <th>операции с недвижимостью</th>\n",
       "      <td>0.072551</td>\n",
       "    </tr>\n",
       "    <tr>\n",
       "      <th>получение образования</th>\n",
       "      <td>0.092528</td>\n",
       "    </tr>\n",
       "    <tr>\n",
       "      <th>проведение свадьбы</th>\n",
       "      <td>0.079118</td>\n",
       "    </tr>\n",
       "  </tbody>\n",
       "</table>\n",
       "</div>"
      ],
      "text/plain": [
       "                              debt\n",
       "purpose_category                  \n",
       "операции с автомобилем    0.093480\n",
       "операции с недвижимостью  0.072551\n",
       "получение образования     0.092528\n",
       "проведение свадьбы        0.079118"
      ]
     },
     "execution_count": 40,
     "metadata": {},
     "output_type": "execute_result"
    }
   ],
   "source": [
    "pd.pivot_table(data=data, index='purpose_category', values='debt')"
   ]
  },
  {
   "cell_type": "markdown",
   "id": "4f6f476f",
   "metadata": {},
   "source": [
    "Кредиты, взятые на получения образования и операции с автомобилем, возвращают в срок чаще, чем кредиты, взятые на проведение свадьбы и операции с недвижимостью."
   ]
  },
  {
   "cell_type": "markdown",
   "id": "bbf7afc1",
   "metadata": {
    "deletable": false,
    "id": "b4bb2ce6"
   },
   "source": [
    "**Вывод:** В зависимости от цели кредита меняется процент возврата кредитов в срок."
   ]
  },
  {
   "cell_type": "markdown",
   "id": "7df9ea1d",
   "metadata": {
    "deletable": false,
    "editable": false,
    "id": "09c3ac4c"
   },
   "source": [
    "#### 3.5 Приведите возможные причины появления пропусков в исходных данных."
   ]
  },
  {
   "cell_type": "markdown",
   "id": "b686fd32",
   "metadata": {
    "deletable": false,
    "id": "9da2ceda"
   },
   "source": [
    "*Ответ:* Отсутствие информации вовсе, ошибка сотрудников при внесении данных."
   ]
  },
  {
   "cell_type": "markdown",
   "id": "2e64ac1e",
   "metadata": {
    "deletable": false,
    "editable": false,
    "id": "7b0487d6"
   },
   "source": [
    "#### 3.6 Объясните, почему заполнить пропуски медианным значением — лучшее решение для количественных переменных."
   ]
  },
  {
   "cell_type": "markdown",
   "id": "74954923",
   "metadata": {
    "deletable": false,
    "id": "7ecf2b8e"
   },
   "source": [
    "*Ответ:* Некоторые значения могут сильно выделяться на фоне большинства, а медиана показывает середину набора чисел, из-за чего на нее не повлияют аномалии."
   ]
  },
  {
   "cell_type": "markdown",
   "id": "2a11bf2c",
   "metadata": {
    "deletable": false,
    "editable": false,
    "id": "6db5255a"
   },
   "source": [
    "### Шаг 4: общий вывод."
   ]
  },
  {
   "cell_type": "markdown",
   "id": "1b0db5c6",
   "metadata": {
    "deletable": false,
    "id": "bad65432"
   },
   "source": [
    "Напишите ваш общий вывод."
   ]
  },
  {
   "cell_type": "markdown",
   "id": "a76b0fcb",
   "metadata": {},
   "source": [
    "В итоге мы проверили зависимость возврата кредита в срок от 4 характеристик. Так, выяснилось, что корреляция прослеживается с целью кредита, семейным положением и количеством детей. С уровнем дохода же прямой зависимости не видно."
   ]
  }
 ],
 "metadata": {
  "ExecuteTimeLog": [
   {
    "duration": 46,
    "start_time": "2022-11-06T13:22:59.577Z"
   },
   {
    "duration": 437,
    "start_time": "2022-11-06T13:23:13.946Z"
   },
   {
    "duration": 21,
    "start_time": "2022-11-06T13:23:14.385Z"
   },
   {
    "duration": 15,
    "start_time": "2022-11-06T13:23:14.407Z"
   },
   {
    "duration": 12,
    "start_time": "2022-11-06T13:23:14.424Z"
   },
   {
    "duration": 39,
    "start_time": "2022-11-06T13:23:14.438Z"
   },
   {
    "duration": 3,
    "start_time": "2022-11-06T13:23:14.479Z"
   },
   {
    "duration": 11,
    "start_time": "2022-11-06T13:23:14.484Z"
   },
   {
    "duration": 27,
    "start_time": "2022-11-06T13:23:14.496Z"
   },
   {
    "duration": 9,
    "start_time": "2022-11-06T13:23:14.525Z"
   },
   {
    "duration": 4,
    "start_time": "2022-11-06T13:23:14.536Z"
   },
   {
    "duration": 35,
    "start_time": "2022-11-06T13:23:14.542Z"
   },
   {
    "duration": 9,
    "start_time": "2022-11-06T13:23:14.579Z"
   },
   {
    "duration": 33,
    "start_time": "2022-11-06T13:23:14.589Z"
   },
   {
    "duration": 11,
    "start_time": "2022-11-06T13:23:14.625Z"
   },
   {
    "duration": 21,
    "start_time": "2022-11-06T13:23:14.638Z"
   },
   {
    "duration": 15,
    "start_time": "2022-11-06T13:23:14.660Z"
   },
   {
    "duration": 3,
    "start_time": "2022-11-06T13:23:14.676Z"
   },
   {
    "duration": 12,
    "start_time": "2022-11-06T13:23:14.681Z"
   },
   {
    "duration": 29,
    "start_time": "2022-11-06T13:23:14.694Z"
   },
   {
    "duration": 3,
    "start_time": "2022-11-06T13:23:14.724Z"
   },
   {
    "duration": 11,
    "start_time": "2022-11-06T13:23:14.728Z"
   },
   {
    "duration": 19,
    "start_time": "2022-11-06T13:23:14.741Z"
   },
   {
    "duration": 2,
    "start_time": "2022-11-06T13:23:14.762Z"
   },
   {
    "duration": 4,
    "start_time": "2022-11-06T13:23:14.766Z"
   },
   {
    "duration": 5,
    "start_time": "2022-11-06T13:23:14.771Z"
   },
   {
    "duration": 4,
    "start_time": "2022-11-06T13:25:25.958Z"
   },
   {
    "duration": 14,
    "start_time": "2022-11-06T13:25:36.989Z"
   },
   {
    "duration": 879,
    "start_time": "2022-11-06T14:00:42.305Z"
   },
   {
    "duration": 92,
    "start_time": "2022-11-06T14:05:36.086Z"
   },
   {
    "duration": 165,
    "start_time": "2022-11-06T14:05:41.465Z"
   },
   {
    "duration": 10,
    "start_time": "2022-11-06T14:06:00.402Z"
   },
   {
    "duration": 329,
    "start_time": "2022-11-06T14:06:05.012Z"
   },
   {
    "duration": 156,
    "start_time": "2022-11-06T14:06:25.317Z"
   },
   {
    "duration": 189,
    "start_time": "2022-11-06T14:06:44.807Z"
   },
   {
    "duration": 11,
    "start_time": "2022-11-06T14:07:12.816Z"
   },
   {
    "duration": 164,
    "start_time": "2022-11-06T14:07:44.325Z"
   },
   {
    "duration": 146,
    "start_time": "2022-11-06T14:07:54.693Z"
   },
   {
    "duration": 153,
    "start_time": "2022-11-06T14:08:33.277Z"
   },
   {
    "duration": 217,
    "start_time": "2022-11-06T14:08:54.959Z"
   },
   {
    "duration": 196,
    "start_time": "2022-11-06T14:09:10.140Z"
   },
   {
    "duration": 146,
    "start_time": "2022-11-06T14:10:08.647Z"
   },
   {
    "duration": 132,
    "start_time": "2022-11-06T14:10:32.890Z"
   },
   {
    "duration": 115,
    "start_time": "2022-11-06T14:10:54.362Z"
   },
   {
    "duration": 161,
    "start_time": "2022-11-06T14:11:15.597Z"
   },
   {
    "duration": 10,
    "start_time": "2022-11-06T14:13:53.611Z"
   },
   {
    "duration": 8,
    "start_time": "2022-11-06T14:13:57.034Z"
   },
   {
    "duration": 9,
    "start_time": "2022-11-06T14:13:58.609Z"
   },
   {
    "duration": 8,
    "start_time": "2022-11-06T14:14:07.210Z"
   },
   {
    "duration": 2377,
    "start_time": "2022-11-06T14:14:42.654Z"
   },
   {
    "duration": 8,
    "start_time": "2022-11-06T14:14:55.738Z"
   },
   {
    "duration": 9,
    "start_time": "2022-11-06T14:15:04.353Z"
   },
   {
    "duration": 11,
    "start_time": "2022-11-06T14:15:58.913Z"
   },
   {
    "duration": 9,
    "start_time": "2022-11-06T14:16:02.083Z"
   },
   {
    "duration": 10,
    "start_time": "2022-11-06T14:16:16.115Z"
   },
   {
    "duration": 10,
    "start_time": "2022-11-06T14:16:22.809Z"
   },
   {
    "duration": 10,
    "start_time": "2022-11-06T14:16:33.194Z"
   },
   {
    "duration": 9,
    "start_time": "2022-11-06T14:16:50.370Z"
   },
   {
    "duration": 11,
    "start_time": "2022-11-06T14:16:53.762Z"
   },
   {
    "duration": 10,
    "start_time": "2022-11-06T14:16:58.191Z"
   },
   {
    "duration": 46,
    "start_time": "2022-11-06T14:17:11.926Z"
   },
   {
    "duration": 3,
    "start_time": "2022-11-06T14:17:15.884Z"
   },
   {
    "duration": 36,
    "start_time": "2022-11-06T14:19:38.059Z"
   },
   {
    "duration": 21,
    "start_time": "2022-11-06T14:20:40.828Z"
   },
   {
    "duration": 22,
    "start_time": "2022-11-06T14:20:51.747Z"
   },
   {
    "duration": 5,
    "start_time": "2022-11-06T14:21:45.677Z"
   },
   {
    "duration": 15,
    "start_time": "2022-11-06T14:22:39.313Z"
   },
   {
    "duration": 19,
    "start_time": "2022-11-06T14:22:57.907Z"
   },
   {
    "duration": 18,
    "start_time": "2022-11-06T14:35:36.088Z"
   },
   {
    "duration": 52,
    "start_time": "2022-11-06T14:37:19.297Z"
   },
   {
    "duration": 48,
    "start_time": "2022-11-06T14:40:05.721Z"
   },
   {
    "duration": 19,
    "start_time": "2022-11-06T14:41:05.908Z"
   },
   {
    "duration": 18,
    "start_time": "2022-11-06T14:41:50.486Z"
   },
   {
    "duration": 46,
    "start_time": "2022-11-06T14:43:11.909Z"
   },
   {
    "duration": 42,
    "start_time": "2022-11-06T14:43:26.305Z"
   },
   {
    "duration": 18,
    "start_time": "2022-11-06T14:43:37.700Z"
   },
   {
    "duration": 4,
    "start_time": "2022-11-06T14:43:55.627Z"
   },
   {
    "duration": 113,
    "start_time": "2022-11-06T14:46:17.819Z"
   },
   {
    "duration": 22,
    "start_time": "2022-11-06T14:55:16.123Z"
   },
   {
    "duration": 5,
    "start_time": "2022-11-06T14:55:26.595Z"
   },
   {
    "duration": 19,
    "start_time": "2022-11-06T14:58:36.993Z"
   },
   {
    "duration": 19,
    "start_time": "2022-11-06T14:58:40.520Z"
   },
   {
    "duration": 20,
    "start_time": "2022-11-06T14:58:45.297Z"
   },
   {
    "duration": 19,
    "start_time": "2022-11-06T15:04:26.241Z"
   },
   {
    "duration": 418,
    "start_time": "2022-11-06T15:04:40.266Z"
   },
   {
    "duration": 22,
    "start_time": "2022-11-06T15:04:40.686Z"
   },
   {
    "duration": 14,
    "start_time": "2022-11-06T15:04:40.709Z"
   },
   {
    "duration": 8,
    "start_time": "2022-11-06T15:04:40.725Z"
   },
   {
    "duration": 31,
    "start_time": "2022-11-06T15:04:40.735Z"
   },
   {
    "duration": 2,
    "start_time": "2022-11-06T15:04:40.768Z"
   },
   {
    "duration": 10,
    "start_time": "2022-11-06T15:04:40.772Z"
   },
   {
    "duration": 3,
    "start_time": "2022-11-06T15:04:40.784Z"
   },
   {
    "duration": 8,
    "start_time": "2022-11-06T15:04:40.789Z"
   },
   {
    "duration": 23,
    "start_time": "2022-11-06T15:04:40.800Z"
   },
   {
    "duration": 31,
    "start_time": "2022-11-06T15:04:40.825Z"
   },
   {
    "duration": 8,
    "start_time": "2022-11-06T15:04:40.858Z"
   },
   {
    "duration": 3,
    "start_time": "2022-11-06T15:04:40.867Z"
   },
   {
    "duration": 12,
    "start_time": "2022-11-06T15:04:40.872Z"
   },
   {
    "duration": 44,
    "start_time": "2022-11-06T15:04:40.886Z"
   },
   {
    "duration": 16,
    "start_time": "2022-11-06T15:04:40.932Z"
   },
   {
    "duration": 3,
    "start_time": "2022-11-06T15:04:40.950Z"
   },
   {
    "duration": 11,
    "start_time": "2022-11-06T15:04:40.955Z"
   },
   {
    "duration": 5,
    "start_time": "2022-11-06T15:04:40.967Z"
   },
   {
    "duration": 4,
    "start_time": "2022-11-06T15:04:40.974Z"
   },
   {
    "duration": 12,
    "start_time": "2022-11-06T15:04:40.979Z"
   },
   {
    "duration": 737,
    "start_time": "2022-11-06T15:04:40.992Z"
   },
   {
    "duration": 22,
    "start_time": "2022-11-06T15:04:41.731Z"
   },
   {
    "duration": 125,
    "start_time": "2022-11-06T15:04:41.754Z"
   },
   {
    "duration": 5,
    "start_time": "2022-11-06T15:04:41.880Z"
   },
   {
    "duration": 4,
    "start_time": "2022-11-06T15:04:41.886Z"
   },
   {
    "duration": 6,
    "start_time": "2022-11-06T15:04:41.892Z"
   },
   {
    "duration": 5,
    "start_time": "2022-11-06T15:04:41.901Z"
   },
   {
    "duration": 5,
    "start_time": "2022-11-06T15:05:55.780Z"
   },
   {
    "duration": 23,
    "start_time": "2022-11-06T15:08:18.291Z"
   },
   {
    "duration": 115,
    "start_time": "2022-11-06T15:08:24.831Z"
   },
   {
    "duration": 5,
    "start_time": "2022-11-06T15:14:32.540Z"
   },
   {
    "duration": 6,
    "start_time": "2022-11-06T15:14:37.167Z"
   },
   {
    "duration": 91,
    "start_time": "2022-11-06T15:14:44.206Z"
   },
   {
    "duration": 5,
    "start_time": "2022-11-06T15:14:46.141Z"
   },
   {
    "duration": 6,
    "start_time": "2022-11-06T15:14:56.761Z"
   },
   {
    "duration": 5,
    "start_time": "2022-11-06T15:15:16.066Z"
   },
   {
    "duration": 101,
    "start_time": "2022-11-06T15:16:38.860Z"
   },
   {
    "duration": 48,
    "start_time": "2022-11-06T15:17:30.612Z"
   },
   {
    "duration": 6,
    "start_time": "2022-11-06T15:17:34.120Z"
   },
   {
    "duration": 5,
    "start_time": "2022-11-06T15:17:37.619Z"
   },
   {
    "duration": 6,
    "start_time": "2022-11-06T15:17:46.709Z"
   },
   {
    "duration": 8,
    "start_time": "2022-11-06T15:19:23.218Z"
   },
   {
    "duration": 7,
    "start_time": "2022-11-06T15:19:32.756Z"
   },
   {
    "duration": 19,
    "start_time": "2022-11-06T15:30:39.201Z"
   },
   {
    "duration": 18,
    "start_time": "2022-11-06T15:31:37.138Z"
   },
   {
    "duration": 19,
    "start_time": "2022-11-06T15:32:30.093Z"
   },
   {
    "duration": 4,
    "start_time": "2022-11-06T15:33:29.048Z"
   },
   {
    "duration": 183,
    "start_time": "2022-11-06T15:33:37.772Z"
   },
   {
    "duration": 51,
    "start_time": "2022-11-06T15:34:26.884Z"
   },
   {
    "duration": 19,
    "start_time": "2022-11-06T15:36:01.446Z"
   },
   {
    "duration": 466,
    "start_time": "2022-11-06T15:36:19.429Z"
   },
   {
    "duration": 21,
    "start_time": "2022-11-06T15:36:19.897Z"
   },
   {
    "duration": 14,
    "start_time": "2022-11-06T15:36:19.922Z"
   },
   {
    "duration": 9,
    "start_time": "2022-11-06T15:36:19.937Z"
   },
   {
    "duration": 34,
    "start_time": "2022-11-06T15:36:19.948Z"
   },
   {
    "duration": 3,
    "start_time": "2022-11-06T15:36:19.983Z"
   },
   {
    "duration": 12,
    "start_time": "2022-11-06T15:36:19.988Z"
   },
   {
    "duration": 24,
    "start_time": "2022-11-06T15:36:20.001Z"
   },
   {
    "duration": 8,
    "start_time": "2022-11-06T15:36:20.031Z"
   },
   {
    "duration": 6,
    "start_time": "2022-11-06T15:36:20.041Z"
   },
   {
    "duration": 36,
    "start_time": "2022-11-06T15:36:20.048Z"
   },
   {
    "duration": 9,
    "start_time": "2022-11-06T15:36:20.086Z"
   },
   {
    "duration": 3,
    "start_time": "2022-11-06T15:36:20.122Z"
   },
   {
    "duration": 12,
    "start_time": "2022-11-06T15:36:20.127Z"
   },
   {
    "duration": 18,
    "start_time": "2022-11-06T15:36:20.140Z"
   },
   {
    "duration": 15,
    "start_time": "2022-11-06T15:36:20.159Z"
   },
   {
    "duration": 3,
    "start_time": "2022-11-06T15:36:20.175Z"
   },
   {
    "duration": 11,
    "start_time": "2022-11-06T15:36:20.180Z"
   },
   {
    "duration": 32,
    "start_time": "2022-11-06T15:36:20.192Z"
   },
   {
    "duration": 4,
    "start_time": "2022-11-06T15:36:20.225Z"
   },
   {
    "duration": 17,
    "start_time": "2022-11-06T15:36:20.231Z"
   },
   {
    "duration": 24,
    "start_time": "2022-11-06T15:36:20.250Z"
   },
   {
    "duration": 5,
    "start_time": "2022-11-06T15:36:20.275Z"
   },
   {
    "duration": 6,
    "start_time": "2022-11-06T15:36:20.282Z"
   },
   {
    "duration": 741,
    "start_time": "2022-11-06T15:36:20.290Z"
   },
   {
    "duration": 125,
    "start_time": "2022-11-06T15:36:21.032Z"
   },
   {
    "duration": 2,
    "start_time": "2022-11-06T15:36:21.160Z"
   },
   {
    "duration": 4,
    "start_time": "2022-11-06T15:36:21.164Z"
   },
   {
    "duration": 6,
    "start_time": "2022-11-06T15:36:21.170Z"
   },
   {
    "duration": 17,
    "start_time": "2022-11-06T16:24:18.020Z"
   },
   {
    "duration": 12,
    "start_time": "2022-11-06T16:24:35.762Z"
   },
   {
    "duration": 5,
    "start_time": "2022-11-06T16:25:30.050Z"
   },
   {
    "duration": 99,
    "start_time": "2022-11-06T16:26:48.201Z"
   },
   {
    "duration": 177,
    "start_time": "2022-11-06T16:26:55.991Z"
   },
   {
    "duration": 99,
    "start_time": "2022-11-06T16:27:05.225Z"
   },
   {
    "duration": 20,
    "start_time": "2022-11-06T16:35:05.850Z"
   },
   {
    "duration": 27,
    "start_time": "2022-11-06T16:41:49.961Z"
   },
   {
    "duration": 29,
    "start_time": "2022-11-06T16:42:07.975Z"
   },
   {
    "duration": 15,
    "start_time": "2022-11-06T16:43:30.398Z"
   },
   {
    "duration": 19,
    "start_time": "2022-11-06T16:43:35.070Z"
   },
   {
    "duration": 26,
    "start_time": "2022-11-06T16:43:42.978Z"
   },
   {
    "duration": 28,
    "start_time": "2022-11-06T16:43:47.759Z"
   },
   {
    "duration": 11,
    "start_time": "2022-11-06T16:45:03.205Z"
   },
   {
    "duration": 12,
    "start_time": "2022-11-06T16:45:37.202Z"
   },
   {
    "duration": 425,
    "start_time": "2022-11-06T16:48:54.075Z"
   },
   {
    "duration": 21,
    "start_time": "2022-11-06T16:48:54.501Z"
   },
   {
    "duration": 22,
    "start_time": "2022-11-06T16:48:54.524Z"
   },
   {
    "duration": 23,
    "start_time": "2022-11-06T16:48:54.548Z"
   },
   {
    "duration": 40,
    "start_time": "2022-11-06T16:48:54.572Z"
   },
   {
    "duration": 3,
    "start_time": "2022-11-06T16:48:54.614Z"
   },
   {
    "duration": 26,
    "start_time": "2022-11-06T16:48:54.618Z"
   },
   {
    "duration": 4,
    "start_time": "2022-11-06T16:48:54.646Z"
   },
   {
    "duration": 36,
    "start_time": "2022-11-06T16:48:54.651Z"
   },
   {
    "duration": 23,
    "start_time": "2022-11-06T16:48:54.689Z"
   },
   {
    "duration": 49,
    "start_time": "2022-11-06T16:48:54.714Z"
   },
   {
    "duration": 9,
    "start_time": "2022-11-06T16:48:54.765Z"
   },
   {
    "duration": 15,
    "start_time": "2022-11-06T16:48:54.776Z"
   },
   {
    "duration": 29,
    "start_time": "2022-11-06T16:48:54.793Z"
   },
   {
    "duration": 44,
    "start_time": "2022-11-06T16:48:54.825Z"
   },
   {
    "duration": 16,
    "start_time": "2022-11-06T16:48:54.871Z"
   },
   {
    "duration": 20,
    "start_time": "2022-11-06T16:48:54.889Z"
   },
   {
    "duration": 33,
    "start_time": "2022-11-06T16:48:54.910Z"
   },
   {
    "duration": 12,
    "start_time": "2022-11-06T16:48:54.945Z"
   },
   {
    "duration": 19,
    "start_time": "2022-11-06T16:48:54.958Z"
   },
   {
    "duration": 38,
    "start_time": "2022-11-06T16:48:54.979Z"
   },
   {
    "duration": 38,
    "start_time": "2022-11-06T16:48:55.019Z"
   },
   {
    "duration": 6,
    "start_time": "2022-11-06T16:48:55.060Z"
   },
   {
    "duration": 100,
    "start_time": "2022-11-06T16:48:55.068Z"
   },
   {
    "duration": 0,
    "start_time": "2022-11-06T16:48:55.169Z"
   },
   {
    "duration": 1,
    "start_time": "2022-11-06T16:48:55.173Z"
   },
   {
    "duration": 0,
    "start_time": "2022-11-06T16:48:55.175Z"
   },
   {
    "duration": 0,
    "start_time": "2022-11-06T16:48:55.176Z"
   },
   {
    "duration": 0,
    "start_time": "2022-11-06T16:48:55.177Z"
   },
   {
    "duration": 0,
    "start_time": "2022-11-06T16:48:55.178Z"
   },
   {
    "duration": 0,
    "start_time": "2022-11-06T16:48:55.180Z"
   },
   {
    "duration": 3,
    "start_time": "2022-11-06T16:49:06.246Z"
   },
   {
    "duration": 685,
    "start_time": "2022-11-06T16:49:07.846Z"
   },
   {
    "duration": 116,
    "start_time": "2022-11-06T16:49:08.533Z"
   },
   {
    "duration": 12,
    "start_time": "2022-11-06T16:49:38.652Z"
   },
   {
    "duration": 87,
    "start_time": "2022-11-06T16:49:53.882Z"
   },
   {
    "duration": 56,
    "start_time": "2022-11-06T16:50:04.748Z"
   },
   {
    "duration": 12,
    "start_time": "2022-11-06T16:50:38.756Z"
   },
   {
    "duration": 17,
    "start_time": "2022-11-06T16:50:49.132Z"
   },
   {
    "duration": 27,
    "start_time": "2022-11-06T16:51:16.376Z"
   },
   {
    "duration": 4,
    "start_time": "2022-11-06T16:53:54.264Z"
   },
   {
    "duration": 3,
    "start_time": "2022-11-06T16:53:59.772Z"
   },
   {
    "duration": 4,
    "start_time": "2022-11-06T17:09:03.050Z"
   },
   {
    "duration": 5,
    "start_time": "2022-11-06T17:09:09.508Z"
   },
   {
    "duration": 4,
    "start_time": "2022-11-06T17:10:34.957Z"
   },
   {
    "duration": 48,
    "start_time": "2022-11-18T08:54:13.750Z"
   },
   {
    "duration": 549,
    "start_time": "2022-11-18T08:54:32.528Z"
   },
   {
    "duration": 22,
    "start_time": "2022-11-18T08:54:33.374Z"
   },
   {
    "duration": 16,
    "start_time": "2022-11-18T08:54:33.439Z"
   },
   {
    "duration": 10,
    "start_time": "2022-11-18T08:54:33.577Z"
   },
   {
    "duration": 31,
    "start_time": "2022-11-18T08:54:33.641Z"
   },
   {
    "duration": 4,
    "start_time": "2022-11-18T08:54:33.735Z"
   },
   {
    "duration": 7,
    "start_time": "2022-11-18T08:54:33.799Z"
   },
   {
    "duration": 5,
    "start_time": "2022-11-18T08:54:33.907Z"
   },
   {
    "duration": 7,
    "start_time": "2022-11-18T08:54:34.778Z"
   },
   {
    "duration": 5,
    "start_time": "2022-11-18T08:54:34.841Z"
   },
   {
    "duration": 33,
    "start_time": "2022-11-18T08:54:34.934Z"
   },
   {
    "duration": 10,
    "start_time": "2022-11-18T08:54:34.997Z"
   },
   {
    "duration": 4,
    "start_time": "2022-11-18T08:54:35.108Z"
   },
   {
    "duration": 11,
    "start_time": "2022-11-18T08:54:37.168Z"
   },
   {
    "duration": 20,
    "start_time": "2022-11-18T08:54:37.229Z"
   },
   {
    "duration": 17,
    "start_time": "2022-11-18T08:54:37.261Z"
   },
   {
    "duration": 4,
    "start_time": "2022-11-18T08:54:37.372Z"
   },
   {
    "duration": 10,
    "start_time": "2022-11-18T08:54:37.402Z"
   },
   {
    "duration": 6,
    "start_time": "2022-11-18T08:54:37.465Z"
   },
   {
    "duration": 3,
    "start_time": "2022-11-18T08:54:37.527Z"
   },
   {
    "duration": 13,
    "start_time": "2022-11-18T08:54:37.557Z"
   },
   {
    "duration": 32,
    "start_time": "2022-11-18T08:54:37.701Z"
   },
   {
    "duration": 7,
    "start_time": "2022-11-18T08:54:37.762Z"
   },
   {
    "duration": 4,
    "start_time": "2022-11-18T08:54:37.824Z"
   },
   {
    "duration": 929,
    "start_time": "2022-11-18T08:54:40.582Z"
   },
   {
    "duration": 130,
    "start_time": "2022-11-18T08:54:41.513Z"
   },
   {
    "duration": 6,
    "start_time": "2022-11-18T08:55:19.259Z"
   },
   {
    "duration": 16,
    "start_time": "2022-11-18T08:55:22.402Z"
   },
   {
    "duration": 105,
    "start_time": "2022-11-18T08:55:36.874Z"
   },
   {
    "duration": 31,
    "start_time": "2022-11-18T08:57:39.504Z"
   },
   {
    "duration": 39,
    "start_time": "2022-11-18T08:58:16.486Z"
   },
   {
    "duration": 27,
    "start_time": "2022-11-18T09:01:52.160Z"
   },
   {
    "duration": 27,
    "start_time": "2022-11-18T09:06:50.482Z"
   },
   {
    "duration": 9,
    "start_time": "2022-11-18T09:06:53.456Z"
   },
   {
    "duration": 3,
    "start_time": "2022-11-18T09:07:11.387Z"
   },
   {
    "duration": 4,
    "start_time": "2022-11-18T09:07:12.168Z"
   },
   {
    "duration": 29,
    "start_time": "2022-11-18T09:07:38.922Z"
   },
   {
    "duration": 4,
    "start_time": "2022-11-18T09:10:18.464Z"
   },
   {
    "duration": 10,
    "start_time": "2022-11-18T09:10:35.461Z"
   },
   {
    "duration": 4,
    "start_time": "2022-11-18T09:10:53.251Z"
   },
   {
    "duration": 3,
    "start_time": "2022-11-18T09:12:13.466Z"
   },
   {
    "duration": 18,
    "start_time": "2022-11-18T09:13:19.205Z"
   },
   {
    "duration": 26,
    "start_time": "2022-11-18T09:13:29.359Z"
   },
   {
    "duration": 8,
    "start_time": "2022-11-18T09:15:34.551Z"
   },
   {
    "duration": 8,
    "start_time": "2022-11-18T09:15:56.939Z"
   },
   {
    "duration": 5,
    "start_time": "2022-11-18T09:16:08.170Z"
   },
   {
    "duration": 7,
    "start_time": "2022-11-18T09:16:10.742Z"
   },
   {
    "duration": 10,
    "start_time": "2022-11-18T09:16:20.228Z"
   },
   {
    "duration": 4,
    "start_time": "2022-11-18T09:16:22.606Z"
   },
   {
    "duration": 6,
    "start_time": "2022-11-18T09:16:43.335Z"
   },
   {
    "duration": 8,
    "start_time": "2022-11-18T09:16:51.721Z"
   },
   {
    "duration": 28,
    "start_time": "2022-11-18T09:17:02.200Z"
   },
   {
    "duration": 6,
    "start_time": "2022-11-18T09:17:06.707Z"
   },
   {
    "duration": 9,
    "start_time": "2022-11-18T09:17:12.518Z"
   },
   {
    "duration": 13,
    "start_time": "2022-11-18T09:17:37.818Z"
   },
   {
    "duration": 12,
    "start_time": "2022-11-18T09:18:34.115Z"
   },
   {
    "duration": 35,
    "start_time": "2022-11-18T09:19:05.852Z"
   },
   {
    "duration": 17,
    "start_time": "2022-11-18T09:19:26.189Z"
   },
   {
    "duration": 18,
    "start_time": "2022-11-18T09:19:52.659Z"
   },
   {
    "duration": 15,
    "start_time": "2022-11-18T09:19:55.607Z"
   },
   {
    "duration": 73,
    "start_time": "2022-11-18T09:20:26.707Z"
   },
   {
    "duration": 75,
    "start_time": "2022-11-18T09:20:59.260Z"
   },
   {
    "duration": 5,
    "start_time": "2022-11-18T09:21:40.058Z"
   },
   {
    "duration": 76,
    "start_time": "2022-11-18T09:21:42.856Z"
   },
   {
    "duration": 77,
    "start_time": "2022-11-18T09:22:02.020Z"
   },
   {
    "duration": 66,
    "start_time": "2022-11-18T09:22:10.827Z"
   },
   {
    "duration": 49,
    "start_time": "2022-11-18T09:22:53.122Z"
   },
   {
    "duration": 16,
    "start_time": "2022-11-18T09:23:12.839Z"
   },
   {
    "duration": 24,
    "start_time": "2022-11-18T09:24:32.704Z"
   },
   {
    "duration": 24,
    "start_time": "2022-11-18T09:24:36.816Z"
   },
   {
    "duration": 25,
    "start_time": "2022-11-18T09:24:40.224Z"
   },
   {
    "duration": 24,
    "start_time": "2022-11-18T09:25:50.576Z"
   },
   {
    "duration": 435,
    "start_time": "2022-11-18T09:26:07.611Z"
   },
   {
    "duration": 29,
    "start_time": "2022-11-18T09:26:08.047Z"
   },
   {
    "duration": 18,
    "start_time": "2022-11-18T09:26:08.078Z"
   },
   {
    "duration": 9,
    "start_time": "2022-11-18T09:26:08.098Z"
   },
   {
    "duration": 52,
    "start_time": "2022-11-18T09:26:08.108Z"
   },
   {
    "duration": 3,
    "start_time": "2022-11-18T09:26:08.162Z"
   },
   {
    "duration": 15,
    "start_time": "2022-11-18T09:26:08.167Z"
   },
   {
    "duration": 7,
    "start_time": "2022-11-18T09:26:08.183Z"
   },
   {
    "duration": 10,
    "start_time": "2022-11-18T09:26:08.191Z"
   },
   {
    "duration": 5,
    "start_time": "2022-11-18T09:26:08.204Z"
   },
   {
    "duration": 53,
    "start_time": "2022-11-18T09:26:08.211Z"
   },
   {
    "duration": 10,
    "start_time": "2022-11-18T09:26:08.265Z"
   },
   {
    "duration": 4,
    "start_time": "2022-11-18T09:26:08.276Z"
   },
   {
    "duration": 15,
    "start_time": "2022-11-18T09:26:08.281Z"
   },
   {
    "duration": 20,
    "start_time": "2022-11-18T09:26:08.298Z"
   },
   {
    "duration": 40,
    "start_time": "2022-11-18T09:26:08.319Z"
   },
   {
    "duration": 3,
    "start_time": "2022-11-18T09:26:08.361Z"
   },
   {
    "duration": 15,
    "start_time": "2022-11-18T09:26:08.366Z"
   },
   {
    "duration": 11,
    "start_time": "2022-11-18T09:26:08.383Z"
   },
   {
    "duration": 9,
    "start_time": "2022-11-18T09:26:08.395Z"
   },
   {
    "duration": 13,
    "start_time": "2022-11-18T09:26:08.406Z"
   },
   {
    "duration": 33,
    "start_time": "2022-11-18T09:26:08.421Z"
   },
   {
    "duration": 6,
    "start_time": "2022-11-18T09:26:08.456Z"
   },
   {
    "duration": 9,
    "start_time": "2022-11-18T09:26:08.463Z"
   },
   {
    "duration": 761,
    "start_time": "2022-11-18T09:26:08.473Z"
   },
   {
    "duration": 133,
    "start_time": "2022-11-18T09:26:09.236Z"
   },
   {
    "duration": 29,
    "start_time": "2022-11-18T09:26:09.371Z"
   },
   {
    "duration": 49,
    "start_time": "2022-11-18T09:26:09.404Z"
   },
   {
    "duration": 119,
    "start_time": "2022-11-18T09:26:09.455Z"
   },
   {
    "duration": 0,
    "start_time": "2022-11-18T09:26:09.576Z"
   },
   {
    "duration": 25,
    "start_time": "2022-11-18T09:26:31.686Z"
   },
   {
    "duration": 26,
    "start_time": "2022-11-18T09:26:45.442Z"
   },
   {
    "duration": 26,
    "start_time": "2022-11-18T09:26:47.284Z"
   },
   {
    "duration": 39,
    "start_time": "2022-11-18T09:27:33.300Z"
   },
   {
    "duration": 37,
    "start_time": "2022-11-18T09:27:38.179Z"
   },
   {
    "duration": 39,
    "start_time": "2022-11-18T09:27:47.017Z"
   },
   {
    "duration": 27,
    "start_time": "2022-11-18T09:29:16.058Z"
   },
   {
    "duration": 40,
    "start_time": "2022-11-18T09:29:34.976Z"
   },
   {
    "duration": 24,
    "start_time": "2022-11-18T09:29:46.354Z"
   },
   {
    "duration": 27,
    "start_time": "2022-11-18T09:30:06.981Z"
   },
   {
    "duration": 28,
    "start_time": "2022-11-18T09:30:08.153Z"
   },
   {
    "duration": 500,
    "start_time": "2022-11-18T09:30:26.485Z"
   },
   {
    "duration": 27,
    "start_time": "2022-11-18T09:30:26.987Z"
   },
   {
    "duration": 25,
    "start_time": "2022-11-18T09:30:27.015Z"
   },
   {
    "duration": 15,
    "start_time": "2022-11-18T09:30:27.052Z"
   },
   {
    "duration": 55,
    "start_time": "2022-11-18T09:30:27.069Z"
   },
   {
    "duration": 4,
    "start_time": "2022-11-18T09:30:27.127Z"
   },
   {
    "duration": 9,
    "start_time": "2022-11-18T09:30:27.152Z"
   },
   {
    "duration": 17,
    "start_time": "2022-11-18T09:30:27.163Z"
   },
   {
    "duration": 19,
    "start_time": "2022-11-18T09:30:27.182Z"
   },
   {
    "duration": 7,
    "start_time": "2022-11-18T09:30:27.205Z"
   },
   {
    "duration": 77,
    "start_time": "2022-11-18T09:30:27.215Z"
   },
   {
    "duration": 12,
    "start_time": "2022-11-18T09:30:27.294Z"
   },
   {
    "duration": 26,
    "start_time": "2022-11-18T09:30:27.309Z"
   },
   {
    "duration": 27,
    "start_time": "2022-11-18T09:30:27.338Z"
   },
   {
    "duration": 43,
    "start_time": "2022-11-18T09:30:27.368Z"
   },
   {
    "duration": 21,
    "start_time": "2022-11-18T09:30:27.413Z"
   },
   {
    "duration": 4,
    "start_time": "2022-11-18T09:30:27.437Z"
   },
   {
    "duration": 24,
    "start_time": "2022-11-18T09:30:27.443Z"
   },
   {
    "duration": 8,
    "start_time": "2022-11-18T09:30:27.469Z"
   },
   {
    "duration": 9,
    "start_time": "2022-11-18T09:30:27.479Z"
   },
   {
    "duration": 25,
    "start_time": "2022-11-18T09:30:27.490Z"
   },
   {
    "duration": 46,
    "start_time": "2022-11-18T09:30:27.517Z"
   },
   {
    "duration": 9,
    "start_time": "2022-11-18T09:30:27.566Z"
   },
   {
    "duration": 13,
    "start_time": "2022-11-18T09:30:27.577Z"
   },
   {
    "duration": 829,
    "start_time": "2022-11-18T09:30:27.592Z"
   },
   {
    "duration": 171,
    "start_time": "2022-11-18T09:30:28.424Z"
   },
   {
    "duration": 34,
    "start_time": "2022-11-18T09:30:28.597Z"
   },
   {
    "duration": 39,
    "start_time": "2022-11-18T09:30:28.635Z"
   },
   {
    "duration": 27,
    "start_time": "2022-11-18T09:30:28.676Z"
   },
   {
    "duration": 2,
    "start_time": "2022-11-18T09:30:28.705Z"
   },
   {
    "duration": 24,
    "start_time": "2022-11-18T09:37:07.168Z"
   },
   {
    "duration": 29,
    "start_time": "2022-11-18T10:14:26.096Z"
   },
   {
    "duration": 27,
    "start_time": "2022-11-18T10:14:26.595Z"
   },
   {
    "duration": 1430,
    "start_time": "2022-11-22T18:18:15.073Z"
   },
   {
    "duration": 100,
    "start_time": "2022-11-22T18:19:59.201Z"
   },
   {
    "duration": 66,
    "start_time": "2022-11-22T18:24:00.651Z"
   },
   {
    "duration": 20,
    "start_time": "2022-11-22T18:24:00.719Z"
   },
   {
    "duration": 20,
    "start_time": "2022-11-22T18:24:00.740Z"
   },
   {
    "duration": 14,
    "start_time": "2022-11-22T18:24:00.762Z"
   },
   {
    "duration": 53,
    "start_time": "2022-11-22T18:24:00.778Z"
   },
   {
    "duration": 4,
    "start_time": "2022-11-22T18:24:00.833Z"
   },
   {
    "duration": 18,
    "start_time": "2022-11-22T18:24:00.838Z"
   },
   {
    "duration": 11,
    "start_time": "2022-11-22T18:24:00.857Z"
   },
   {
    "duration": 18,
    "start_time": "2022-11-22T18:24:00.870Z"
   },
   {
    "duration": 17,
    "start_time": "2022-11-22T18:24:00.890Z"
   },
   {
    "duration": 39,
    "start_time": "2022-11-22T18:24:00.908Z"
   },
   {
    "duration": 12,
    "start_time": "2022-11-22T18:24:00.949Z"
   },
   {
    "duration": 16,
    "start_time": "2022-11-22T18:24:00.963Z"
   },
   {
    "duration": 24,
    "start_time": "2022-11-22T18:24:00.981Z"
   },
   {
    "duration": 34,
    "start_time": "2022-11-22T18:24:01.006Z"
   },
   {
    "duration": 19,
    "start_time": "2022-11-22T18:24:01.043Z"
   },
   {
    "duration": 4,
    "start_time": "2022-11-22T18:24:01.064Z"
   },
   {
    "duration": 22,
    "start_time": "2022-11-22T18:24:01.070Z"
   },
   {
    "duration": 21,
    "start_time": "2022-11-22T18:24:01.094Z"
   },
   {
    "duration": 10,
    "start_time": "2022-11-22T18:24:01.117Z"
   },
   {
    "duration": 26,
    "start_time": "2022-11-22T18:24:01.128Z"
   },
   {
    "duration": 23,
    "start_time": "2022-11-22T18:24:23.611Z"
   },
   {
    "duration": 5,
    "start_time": "2022-11-22T18:24:27.473Z"
   },
   {
    "duration": 3,
    "start_time": "2022-11-22T18:24:28.264Z"
   },
   {
    "duration": 7,
    "start_time": "2022-11-22T18:24:31.514Z"
   },
   {
    "duration": 4,
    "start_time": "2022-11-22T18:25:08.645Z"
   },
   {
    "duration": 4,
    "start_time": "2022-11-22T18:25:26.888Z"
   },
   {
    "duration": 8,
    "start_time": "2022-11-22T18:26:23.730Z"
   },
   {
    "duration": 4,
    "start_time": "2022-11-22T18:28:31.765Z"
   },
   {
    "duration": 4,
    "start_time": "2022-11-22T18:29:08.149Z"
   },
   {
    "duration": 4,
    "start_time": "2022-11-22T18:29:11.921Z"
   },
   {
    "duration": 110,
    "start_time": "2022-11-22T18:29:27.311Z"
   },
   {
    "duration": 106,
    "start_time": "2022-11-22T18:30:32.993Z"
   },
   {
    "duration": 132,
    "start_time": "2022-11-22T18:31:03.720Z"
   },
   {
    "duration": 4,
    "start_time": "2022-11-22T18:32:12.945Z"
   },
   {
    "duration": 3,
    "start_time": "2022-11-22T18:32:32.419Z"
   },
   {
    "duration": 5,
    "start_time": "2022-11-22T18:36:02.339Z"
   },
   {
    "duration": 4,
    "start_time": "2022-11-22T18:36:21.259Z"
   },
   {
    "duration": 22,
    "start_time": "2022-11-22T18:39:09.868Z"
   },
   {
    "duration": 5,
    "start_time": "2022-11-22T18:39:57.245Z"
   },
   {
    "duration": 9,
    "start_time": "2022-11-22T18:40:54.586Z"
   },
   {
    "duration": 8,
    "start_time": "2022-11-22T18:41:14.425Z"
   },
   {
    "duration": 8,
    "start_time": "2022-11-22T18:41:25.670Z"
   },
   {
    "duration": 8,
    "start_time": "2022-11-22T18:41:50.586Z"
   },
   {
    "duration": 8,
    "start_time": "2022-11-22T18:42:07.368Z"
   },
   {
    "duration": 9,
    "start_time": "2022-11-22T18:43:56.458Z"
   },
   {
    "duration": 10,
    "start_time": "2022-11-22T18:44:06.040Z"
   },
   {
    "duration": 12,
    "start_time": "2022-11-22T18:44:53.243Z"
   },
   {
    "duration": 7,
    "start_time": "2022-11-22T18:53:37.070Z"
   },
   {
    "duration": 12,
    "start_time": "2022-11-22T18:55:09.710Z"
   },
   {
    "duration": 18,
    "start_time": "2022-11-22T18:55:16.489Z"
   },
   {
    "duration": 28,
    "start_time": "2022-11-22T18:56:06.868Z"
   },
   {
    "duration": 19,
    "start_time": "2022-11-22T18:56:17.864Z"
   },
   {
    "duration": 9,
    "start_time": "2022-11-22T18:56:31.425Z"
   },
   {
    "duration": 12,
    "start_time": "2022-11-22T18:57:00.870Z"
   },
   {
    "duration": 7,
    "start_time": "2022-11-22T18:57:08.145Z"
   },
   {
    "duration": 8,
    "start_time": "2022-11-22T18:57:49.591Z"
   },
   {
    "duration": 50,
    "start_time": "2022-11-23T07:43:49.499Z"
   },
   {
    "duration": 1433,
    "start_time": "2022-11-23T07:44:01.934Z"
   },
   {
    "duration": 29,
    "start_time": "2022-11-23T07:44:03.370Z"
   },
   {
    "duration": 22,
    "start_time": "2022-11-23T07:44:03.401Z"
   },
   {
    "duration": 9,
    "start_time": "2022-11-23T07:44:03.425Z"
   },
   {
    "duration": 32,
    "start_time": "2022-11-23T07:44:03.436Z"
   },
   {
    "duration": 3,
    "start_time": "2022-11-23T07:44:03.469Z"
   },
   {
    "duration": 10,
    "start_time": "2022-11-23T07:44:03.474Z"
   },
   {
    "duration": 5,
    "start_time": "2022-11-23T07:44:03.486Z"
   },
   {
    "duration": 6,
    "start_time": "2022-11-23T07:44:03.523Z"
   },
   {
    "duration": 4,
    "start_time": "2022-11-23T07:44:03.531Z"
   },
   {
    "duration": 32,
    "start_time": "2022-11-23T07:44:03.537Z"
   },
   {
    "duration": 9,
    "start_time": "2022-11-23T07:44:03.570Z"
   },
   {
    "duration": 5,
    "start_time": "2022-11-23T07:44:03.580Z"
   },
   {
    "duration": 42,
    "start_time": "2022-11-23T07:44:03.587Z"
   },
   {
    "duration": 19,
    "start_time": "2022-11-23T07:44:03.631Z"
   },
   {
    "duration": 17,
    "start_time": "2022-11-23T07:44:03.652Z"
   },
   {
    "duration": 3,
    "start_time": "2022-11-23T07:44:03.671Z"
   },
   {
    "duration": 14,
    "start_time": "2022-11-23T07:44:03.675Z"
   },
   {
    "duration": 37,
    "start_time": "2022-11-23T07:44:03.691Z"
   },
   {
    "duration": 3,
    "start_time": "2022-11-23T07:44:03.729Z"
   },
   {
    "duration": 17,
    "start_time": "2022-11-23T07:44:03.734Z"
   },
   {
    "duration": 25,
    "start_time": "2022-11-23T07:44:03.753Z"
   },
   {
    "duration": 6,
    "start_time": "2022-11-23T07:44:03.780Z"
   },
   {
    "duration": 6,
    "start_time": "2022-11-23T07:44:03.788Z"
   },
   {
    "duration": 3,
    "start_time": "2022-11-23T07:44:03.822Z"
   },
   {
    "duration": 149,
    "start_time": "2022-11-23T07:44:03.827Z"
   },
   {
    "duration": 9,
    "start_time": "2022-11-23T07:44:03.977Z"
   },
   {
    "duration": 69,
    "start_time": "2022-11-23T07:44:08.165Z"
   },
   {
    "duration": 11,
    "start_time": "2022-11-23T07:44:17.436Z"
   },
   {
    "duration": 12,
    "start_time": "2022-11-23T07:44:29.627Z"
   },
   {
    "duration": 16,
    "start_time": "2022-11-23T07:44:34.406Z"
   },
   {
    "duration": 13,
    "start_time": "2022-11-23T07:45:13.291Z"
   },
   {
    "duration": 26,
    "start_time": "2022-11-23T07:47:01.864Z"
   },
   {
    "duration": 38,
    "start_time": "2022-11-23T07:47:57.364Z"
   },
   {
    "duration": 94,
    "start_time": "2022-11-23T07:48:12.313Z"
   },
   {
    "duration": 22,
    "start_time": "2022-11-23T07:48:49.098Z"
   },
   {
    "duration": 22,
    "start_time": "2022-11-23T07:49:06.465Z"
   },
   {
    "duration": 21,
    "start_time": "2022-11-23T07:49:15.486Z"
   },
   {
    "duration": 24,
    "start_time": "2022-11-23T07:49:28.895Z"
   }
  ],
  "colab": {
   "name": "dpp_template_part2.ipynb",
   "provenance": []
  },
  "kernelspec": {
   "display_name": "Python 3 (ipykernel)",
   "language": "python",
   "name": "python3"
  },
  "language_info": {
   "codemirror_mode": {
    "name": "ipython",
    "version": 3
   },
   "file_extension": ".py",
   "mimetype": "text/x-python",
   "name": "python",
   "nbconvert_exporter": "python",
   "pygments_lexer": "ipython3",
   "version": "3.9.5"
  },
  "toc": {
   "base_numbering": 1,
   "nav_menu": {},
   "number_sections": true,
   "sideBar": true,
   "skip_h1_title": true,
   "title_cell": "Table of Contents",
   "title_sidebar": "Contents",
   "toc_cell": false,
   "toc_position": {},
   "toc_section_display": true,
   "toc_window_display": false
  }
 },
 "nbformat": 4,
 "nbformat_minor": 5
}
