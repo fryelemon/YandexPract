{
 "cells": [
  {
   "cell_type": "markdown",
   "metadata": {},
   "source": [
    "# Восстановление золота из руды"
   ]
  },
  {
   "cell_type": "markdown",
   "metadata": {},
   "source": [
    "Подготовьте прототип модели машинного обучения для «Цифры». Компания разрабатывает решения для эффективной работы промышленных предприятий.\n",
    "\n",
    "Модель должна предсказать коэффициент восстановления золота из золотосодержащей руды. Используйте данные с параметрами добычи и очистки. \n",
    "\n",
    "Модель поможет оптимизировать производство, чтобы не запускать предприятие с убыточными характеристиками.\n",
    "\n",
    "Вам нужно:\n",
    "\n",
    "1. Подготовить данные;\n",
    "2. Провести исследовательский анализ данных;\n",
    "3. Построить и обучить модель.\n",
    "\n",
    "Чтобы выполнить проект, обращайтесь к библиотекам *pandas*, *matplotlib* и *sklearn.* Вам поможет их документация."
   ]
  },
  {
   "cell_type": "code",
   "execution_count": 1,
   "metadata": {},
   "outputs": [],
   "source": [
    "import pandas as pd\n",
    "import numpy as np\n",
    "from scipy import stats as st \n",
    "\n",
    "from sklearn.metrics import mean_absolute_error as MAE\n",
    "from sklearn.impute import SimpleImputer\n",
    "\n",
    "from sklearn.metrics import mean_absolute_error\n",
    "from sklearn.model_selection import cross_val_score\n",
    "from sklearn.model_selection import cross_val_predict\n",
    "from sklearn.metrics import fbeta_score, make_scorer\n",
    "\n",
    "from sklearn.model_selection import GridSearchCV\n",
    "from sklearn.pipeline import  make_pipeline\n",
    "from sklearn.preprocessing import StandardScaler\n",
    "\n",
    "from sklearn.linear_model import LinearRegression\n",
    "from sklearn.ensemble import RandomForestRegressor\n",
    "from sklearn.tree import DecisionTreeRegressor\n",
    "from sklearn.dummy import DummyRegressor\n",
    "\n",
    "import matplotlib.pyplot as plt\n",
    "import seaborn as sns\n",
    "sns.set_theme()\n",
    "\n",
    "import collections"
   ]
  },
  {
   "cell_type": "markdown",
   "metadata": {},
   "source": [
    "## Подготовка данных"
   ]
  },
  {
   "cell_type": "markdown",
   "metadata": {},
   "source": [
    "### Загрузка данных"
   ]
  },
  {
   "cell_type": "code",
   "execution_count": 2,
   "metadata": {},
   "outputs": [],
   "source": [
    "train = pd.read_csv('/datasets/gold_recovery_train_new.csv')\n",
    "test = pd.read_csv('/datasets/gold_recovery_test_new.csv')\n",
    "full = pd.read_csv('/datasets/gold_recovery_full_new.csv')"
   ]
  },
  {
   "cell_type": "code",
   "execution_count": 3,
   "metadata": {},
   "outputs": [
    {
     "data": {
      "text/html": [
       "<div>\n",
       "<style scoped>\n",
       "    .dataframe tbody tr th:only-of-type {\n",
       "        vertical-align: middle;\n",
       "    }\n",
       "\n",
       "    .dataframe tbody tr th {\n",
       "        vertical-align: top;\n",
       "    }\n",
       "\n",
       "    .dataframe thead th {\n",
       "        text-align: right;\n",
       "    }\n",
       "</style>\n",
       "<table border=\"1\" class=\"dataframe\">\n",
       "  <thead>\n",
       "    <tr style=\"text-align: right;\">\n",
       "      <th></th>\n",
       "      <th>date</th>\n",
       "      <th>final.output.concentrate_ag</th>\n",
       "      <th>final.output.concentrate_pb</th>\n",
       "      <th>final.output.concentrate_sol</th>\n",
       "      <th>final.output.concentrate_au</th>\n",
       "      <th>final.output.recovery</th>\n",
       "      <th>final.output.tail_ag</th>\n",
       "      <th>final.output.tail_pb</th>\n",
       "      <th>final.output.tail_sol</th>\n",
       "      <th>final.output.tail_au</th>\n",
       "      <th>...</th>\n",
       "      <th>secondary_cleaner.state.floatbank4_a_air</th>\n",
       "      <th>secondary_cleaner.state.floatbank4_a_level</th>\n",
       "      <th>secondary_cleaner.state.floatbank4_b_air</th>\n",
       "      <th>secondary_cleaner.state.floatbank4_b_level</th>\n",
       "      <th>secondary_cleaner.state.floatbank5_a_air</th>\n",
       "      <th>secondary_cleaner.state.floatbank5_a_level</th>\n",
       "      <th>secondary_cleaner.state.floatbank5_b_air</th>\n",
       "      <th>secondary_cleaner.state.floatbank5_b_level</th>\n",
       "      <th>secondary_cleaner.state.floatbank6_a_air</th>\n",
       "      <th>secondary_cleaner.state.floatbank6_a_level</th>\n",
       "    </tr>\n",
       "  </thead>\n",
       "  <tbody>\n",
       "    <tr>\n",
       "      <th>0</th>\n",
       "      <td>2016-01-15 00:00:00</td>\n",
       "      <td>6.055403</td>\n",
       "      <td>9.889648</td>\n",
       "      <td>5.507324</td>\n",
       "      <td>42.192020</td>\n",
       "      <td>70.541216</td>\n",
       "      <td>10.411962</td>\n",
       "      <td>0.895447</td>\n",
       "      <td>16.904297</td>\n",
       "      <td>2.143149</td>\n",
       "      <td>...</td>\n",
       "      <td>14.016835</td>\n",
       "      <td>-502.488007</td>\n",
       "      <td>12.099931</td>\n",
       "      <td>-504.715942</td>\n",
       "      <td>9.925633</td>\n",
       "      <td>-498.310211</td>\n",
       "      <td>8.079666</td>\n",
       "      <td>-500.470978</td>\n",
       "      <td>14.151341</td>\n",
       "      <td>-605.841980</td>\n",
       "    </tr>\n",
       "    <tr>\n",
       "      <th>1</th>\n",
       "      <td>2016-01-15 01:00:00</td>\n",
       "      <td>6.029369</td>\n",
       "      <td>9.968944</td>\n",
       "      <td>5.257781</td>\n",
       "      <td>42.701629</td>\n",
       "      <td>69.266198</td>\n",
       "      <td>10.462676</td>\n",
       "      <td>0.927452</td>\n",
       "      <td>16.634514</td>\n",
       "      <td>2.224930</td>\n",
       "      <td>...</td>\n",
       "      <td>13.992281</td>\n",
       "      <td>-505.503262</td>\n",
       "      <td>11.950531</td>\n",
       "      <td>-501.331529</td>\n",
       "      <td>10.039245</td>\n",
       "      <td>-500.169983</td>\n",
       "      <td>7.984757</td>\n",
       "      <td>-500.582168</td>\n",
       "      <td>13.998353</td>\n",
       "      <td>-599.787184</td>\n",
       "    </tr>\n",
       "    <tr>\n",
       "      <th>2</th>\n",
       "      <td>2016-01-15 02:00:00</td>\n",
       "      <td>6.055926</td>\n",
       "      <td>10.213995</td>\n",
       "      <td>5.383759</td>\n",
       "      <td>42.657501</td>\n",
       "      <td>68.116445</td>\n",
       "      <td>10.507046</td>\n",
       "      <td>0.953716</td>\n",
       "      <td>16.208849</td>\n",
       "      <td>2.257889</td>\n",
       "      <td>...</td>\n",
       "      <td>14.015015</td>\n",
       "      <td>-502.520901</td>\n",
       "      <td>11.912783</td>\n",
       "      <td>-501.133383</td>\n",
       "      <td>10.070913</td>\n",
       "      <td>-500.129135</td>\n",
       "      <td>8.013877</td>\n",
       "      <td>-500.517572</td>\n",
       "      <td>14.028663</td>\n",
       "      <td>-601.427363</td>\n",
       "    </tr>\n",
       "    <tr>\n",
       "      <th>3</th>\n",
       "      <td>2016-01-15 03:00:00</td>\n",
       "      <td>6.047977</td>\n",
       "      <td>9.977019</td>\n",
       "      <td>4.858634</td>\n",
       "      <td>42.689819</td>\n",
       "      <td>68.347543</td>\n",
       "      <td>10.422762</td>\n",
       "      <td>0.883763</td>\n",
       "      <td>16.532835</td>\n",
       "      <td>2.146849</td>\n",
       "      <td>...</td>\n",
       "      <td>14.036510</td>\n",
       "      <td>-500.857308</td>\n",
       "      <td>11.999550</td>\n",
       "      <td>-501.193686</td>\n",
       "      <td>9.970366</td>\n",
       "      <td>-499.201640</td>\n",
       "      <td>7.977324</td>\n",
       "      <td>-500.255908</td>\n",
       "      <td>14.005551</td>\n",
       "      <td>-599.996129</td>\n",
       "    </tr>\n",
       "    <tr>\n",
       "      <th>4</th>\n",
       "      <td>2016-01-15 04:00:00</td>\n",
       "      <td>6.148599</td>\n",
       "      <td>10.142511</td>\n",
       "      <td>4.939416</td>\n",
       "      <td>42.774141</td>\n",
       "      <td>66.927016</td>\n",
       "      <td>10.360302</td>\n",
       "      <td>0.792826</td>\n",
       "      <td>16.525686</td>\n",
       "      <td>2.055292</td>\n",
       "      <td>...</td>\n",
       "      <td>14.027298</td>\n",
       "      <td>-499.838632</td>\n",
       "      <td>11.953070</td>\n",
       "      <td>-501.053894</td>\n",
       "      <td>9.925709</td>\n",
       "      <td>-501.686727</td>\n",
       "      <td>7.894242</td>\n",
       "      <td>-500.356035</td>\n",
       "      <td>13.996647</td>\n",
       "      <td>-601.496691</td>\n",
       "    </tr>\n",
       "  </tbody>\n",
       "</table>\n",
       "<p>5 rows × 87 columns</p>\n",
       "</div>"
      ],
      "text/plain": [
       "                  date  final.output.concentrate_ag  \\\n",
       "0  2016-01-15 00:00:00                     6.055403   \n",
       "1  2016-01-15 01:00:00                     6.029369   \n",
       "2  2016-01-15 02:00:00                     6.055926   \n",
       "3  2016-01-15 03:00:00                     6.047977   \n",
       "4  2016-01-15 04:00:00                     6.148599   \n",
       "\n",
       "   final.output.concentrate_pb  final.output.concentrate_sol  \\\n",
       "0                     9.889648                      5.507324   \n",
       "1                     9.968944                      5.257781   \n",
       "2                    10.213995                      5.383759   \n",
       "3                     9.977019                      4.858634   \n",
       "4                    10.142511                      4.939416   \n",
       "\n",
       "   final.output.concentrate_au  final.output.recovery  final.output.tail_ag  \\\n",
       "0                    42.192020              70.541216             10.411962   \n",
       "1                    42.701629              69.266198             10.462676   \n",
       "2                    42.657501              68.116445             10.507046   \n",
       "3                    42.689819              68.347543             10.422762   \n",
       "4                    42.774141              66.927016             10.360302   \n",
       "\n",
       "   final.output.tail_pb  final.output.tail_sol  final.output.tail_au  ...  \\\n",
       "0              0.895447              16.904297              2.143149  ...   \n",
       "1              0.927452              16.634514              2.224930  ...   \n",
       "2              0.953716              16.208849              2.257889  ...   \n",
       "3              0.883763              16.532835              2.146849  ...   \n",
       "4              0.792826              16.525686              2.055292  ...   \n",
       "\n",
       "   secondary_cleaner.state.floatbank4_a_air  \\\n",
       "0                                 14.016835   \n",
       "1                                 13.992281   \n",
       "2                                 14.015015   \n",
       "3                                 14.036510   \n",
       "4                                 14.027298   \n",
       "\n",
       "   secondary_cleaner.state.floatbank4_a_level  \\\n",
       "0                                 -502.488007   \n",
       "1                                 -505.503262   \n",
       "2                                 -502.520901   \n",
       "3                                 -500.857308   \n",
       "4                                 -499.838632   \n",
       "\n",
       "   secondary_cleaner.state.floatbank4_b_air  \\\n",
       "0                                 12.099931   \n",
       "1                                 11.950531   \n",
       "2                                 11.912783   \n",
       "3                                 11.999550   \n",
       "4                                 11.953070   \n",
       "\n",
       "   secondary_cleaner.state.floatbank4_b_level  \\\n",
       "0                                 -504.715942   \n",
       "1                                 -501.331529   \n",
       "2                                 -501.133383   \n",
       "3                                 -501.193686   \n",
       "4                                 -501.053894   \n",
       "\n",
       "   secondary_cleaner.state.floatbank5_a_air  \\\n",
       "0                                  9.925633   \n",
       "1                                 10.039245   \n",
       "2                                 10.070913   \n",
       "3                                  9.970366   \n",
       "4                                  9.925709   \n",
       "\n",
       "   secondary_cleaner.state.floatbank5_a_level  \\\n",
       "0                                 -498.310211   \n",
       "1                                 -500.169983   \n",
       "2                                 -500.129135   \n",
       "3                                 -499.201640   \n",
       "4                                 -501.686727   \n",
       "\n",
       "   secondary_cleaner.state.floatbank5_b_air  \\\n",
       "0                                  8.079666   \n",
       "1                                  7.984757   \n",
       "2                                  8.013877   \n",
       "3                                  7.977324   \n",
       "4                                  7.894242   \n",
       "\n",
       "   secondary_cleaner.state.floatbank5_b_level  \\\n",
       "0                                 -500.470978   \n",
       "1                                 -500.582168   \n",
       "2                                 -500.517572   \n",
       "3                                 -500.255908   \n",
       "4                                 -500.356035   \n",
       "\n",
       "   secondary_cleaner.state.floatbank6_a_air  \\\n",
       "0                                 14.151341   \n",
       "1                                 13.998353   \n",
       "2                                 14.028663   \n",
       "3                                 14.005551   \n",
       "4                                 13.996647   \n",
       "\n",
       "   secondary_cleaner.state.floatbank6_a_level  \n",
       "0                                 -605.841980  \n",
       "1                                 -599.787184  \n",
       "2                                 -601.427363  \n",
       "3                                 -599.996129  \n",
       "4                                 -601.496691  \n",
       "\n",
       "[5 rows x 87 columns]"
      ]
     },
     "execution_count": 3,
     "metadata": {},
     "output_type": "execute_result"
    }
   ],
   "source": [
    "train.head()"
   ]
  },
  {
   "cell_type": "code",
   "execution_count": 4,
   "metadata": {
    "scrolled": true
   },
   "outputs": [
    {
     "name": "stdout",
     "output_type": "stream",
     "text": [
      "<class 'pandas.core.frame.DataFrame'>\n",
      "RangeIndex: 14149 entries, 0 to 14148\n",
      "Data columns (total 87 columns):\n",
      " #   Column                                              Non-Null Count  Dtype  \n",
      "---  ------                                              --------------  -----  \n",
      " 0   date                                                14149 non-null  object \n",
      " 1   final.output.concentrate_ag                         14148 non-null  float64\n",
      " 2   final.output.concentrate_pb                         14148 non-null  float64\n",
      " 3   final.output.concentrate_sol                        13938 non-null  float64\n",
      " 4   final.output.concentrate_au                         14149 non-null  float64\n",
      " 5   final.output.recovery                               14149 non-null  float64\n",
      " 6   final.output.tail_ag                                14149 non-null  float64\n",
      " 7   final.output.tail_pb                                14049 non-null  float64\n",
      " 8   final.output.tail_sol                               14144 non-null  float64\n",
      " 9   final.output.tail_au                                14149 non-null  float64\n",
      " 10  primary_cleaner.input.sulfate                       14129 non-null  float64\n",
      " 11  primary_cleaner.input.depressant                    14117 non-null  float64\n",
      " 12  primary_cleaner.input.feed_size                     14149 non-null  float64\n",
      " 13  primary_cleaner.input.xanthate                      14049 non-null  float64\n",
      " 14  primary_cleaner.output.concentrate_ag               14149 non-null  float64\n",
      " 15  primary_cleaner.output.concentrate_pb               14063 non-null  float64\n",
      " 16  primary_cleaner.output.concentrate_sol              13863 non-null  float64\n",
      " 17  primary_cleaner.output.concentrate_au               14149 non-null  float64\n",
      " 18  primary_cleaner.output.tail_ag                      14148 non-null  float64\n",
      " 19  primary_cleaner.output.tail_pb                      14134 non-null  float64\n",
      " 20  primary_cleaner.output.tail_sol                     14103 non-null  float64\n",
      " 21  primary_cleaner.output.tail_au                      14149 non-null  float64\n",
      " 22  primary_cleaner.state.floatbank8_a_air              14145 non-null  float64\n",
      " 23  primary_cleaner.state.floatbank8_a_level            14148 non-null  float64\n",
      " 24  primary_cleaner.state.floatbank8_b_air              14145 non-null  float64\n",
      " 25  primary_cleaner.state.floatbank8_b_level            14148 non-null  float64\n",
      " 26  primary_cleaner.state.floatbank8_c_air              14147 non-null  float64\n",
      " 27  primary_cleaner.state.floatbank8_c_level            14148 non-null  float64\n",
      " 28  primary_cleaner.state.floatbank8_d_air              14146 non-null  float64\n",
      " 29  primary_cleaner.state.floatbank8_d_level            14148 non-null  float64\n",
      " 30  rougher.calculation.sulfate_to_au_concentrate       14148 non-null  float64\n",
      " 31  rougher.calculation.floatbank10_sulfate_to_au_feed  14148 non-null  float64\n",
      " 32  rougher.calculation.floatbank11_sulfate_to_au_feed  14148 non-null  float64\n",
      " 33  rougher.calculation.au_pb_ratio                     14149 non-null  float64\n",
      " 34  rougher.input.feed_ag                               14149 non-null  float64\n",
      " 35  rougher.input.feed_pb                               14049 non-null  float64\n",
      " 36  rougher.input.feed_rate                             14141 non-null  float64\n",
      " 37  rougher.input.feed_size                             14005 non-null  float64\n",
      " 38  rougher.input.feed_sol                              14071 non-null  float64\n",
      " 39  rougher.input.feed_au                               14149 non-null  float64\n",
      " 40  rougher.input.floatbank10_sulfate                   14120 non-null  float64\n",
      " 41  rougher.input.floatbank10_xanthate                  14141 non-null  float64\n",
      " 42  rougher.input.floatbank11_sulfate                   14113 non-null  float64\n",
      " 43  rougher.input.floatbank11_xanthate                  13721 non-null  float64\n",
      " 44  rougher.output.concentrate_ag                       14149 non-null  float64\n",
      " 45  rougher.output.concentrate_pb                       14149 non-null  float64\n",
      " 46  rougher.output.concentrate_sol                      14127 non-null  float64\n",
      " 47  rougher.output.concentrate_au                       14149 non-null  float64\n",
      " 48  rougher.output.recovery                             14149 non-null  float64\n",
      " 49  rougher.output.tail_ag                              14148 non-null  float64\n",
      " 50  rougher.output.tail_pb                              14149 non-null  float64\n",
      " 51  rougher.output.tail_sol                             14149 non-null  float64\n",
      " 52  rougher.output.tail_au                              14149 non-null  float64\n",
      " 53  rougher.state.floatbank10_a_air                     14148 non-null  float64\n",
      " 54  rougher.state.floatbank10_a_level                   14148 non-null  float64\n",
      " 55  rougher.state.floatbank10_b_air                     14148 non-null  float64\n",
      " 56  rougher.state.floatbank10_b_level                   14148 non-null  float64\n",
      " 57  rougher.state.floatbank10_c_air                     14148 non-null  float64\n",
      " 58  rougher.state.floatbank10_c_level                   14148 non-null  float64\n",
      " 59  rougher.state.floatbank10_d_air                     14149 non-null  float64\n",
      " 60  rougher.state.floatbank10_d_level                   14149 non-null  float64\n",
      " 61  rougher.state.floatbank10_e_air                     13713 non-null  float64\n",
      " 62  rougher.state.floatbank10_e_level                   14149 non-null  float64\n",
      " 63  rougher.state.floatbank10_f_air                     14149 non-null  float64\n",
      " 64  rougher.state.floatbank10_f_level                   14149 non-null  float64\n",
      " 65  secondary_cleaner.output.tail_ag                    14147 non-null  float64\n",
      " 66  secondary_cleaner.output.tail_pb                    14139 non-null  float64\n",
      " 67  secondary_cleaner.output.tail_sol                   12544 non-null  float64\n",
      " 68  secondary_cleaner.output.tail_au                    14149 non-null  float64\n",
      " 69  secondary_cleaner.state.floatbank2_a_air            13932 non-null  float64\n",
      " 70  secondary_cleaner.state.floatbank2_a_level          14148 non-null  float64\n",
      " 71  secondary_cleaner.state.floatbank2_b_air            14128 non-null  float64\n",
      " 72  secondary_cleaner.state.floatbank2_b_level          14148 non-null  float64\n",
      " 73  secondary_cleaner.state.floatbank3_a_air            14145 non-null  float64\n",
      " 74  secondary_cleaner.state.floatbank3_a_level          14148 non-null  float64\n",
      " 75  secondary_cleaner.state.floatbank3_b_air            14148 non-null  float64\n",
      " 76  secondary_cleaner.state.floatbank3_b_level          14148 non-null  float64\n",
      " 77  secondary_cleaner.state.floatbank4_a_air            14143 non-null  float64\n",
      " 78  secondary_cleaner.state.floatbank4_a_level          14148 non-null  float64\n",
      " 79  secondary_cleaner.state.floatbank4_b_air            14148 non-null  float64\n",
      " 80  secondary_cleaner.state.floatbank4_b_level          14148 non-null  float64\n",
      " 81  secondary_cleaner.state.floatbank5_a_air            14148 non-null  float64\n",
      " 82  secondary_cleaner.state.floatbank5_a_level          14148 non-null  float64\n",
      " 83  secondary_cleaner.state.floatbank5_b_air            14148 non-null  float64\n",
      " 84  secondary_cleaner.state.floatbank5_b_level          14148 non-null  float64\n",
      " 85  secondary_cleaner.state.floatbank6_a_air            14147 non-null  float64\n",
      " 86  secondary_cleaner.state.floatbank6_a_level          14148 non-null  float64\n",
      "dtypes: float64(86), object(1)\n",
      "memory usage: 9.4+ MB\n"
     ]
    }
   ],
   "source": [
    "train.info()"
   ]
  },
  {
   "cell_type": "code",
   "execution_count": 5,
   "metadata": {
    "scrolled": true
   },
   "outputs": [
    {
     "name": "stdout",
     "output_type": "stream",
     "text": [
      "<class 'pandas.core.frame.DataFrame'>\n",
      "RangeIndex: 5290 entries, 0 to 5289\n",
      "Data columns (total 53 columns):\n",
      " #   Column                                      Non-Null Count  Dtype  \n",
      "---  ------                                      --------------  -----  \n",
      " 0   date                                        5290 non-null   object \n",
      " 1   primary_cleaner.input.sulfate               5286 non-null   float64\n",
      " 2   primary_cleaner.input.depressant            5285 non-null   float64\n",
      " 3   primary_cleaner.input.feed_size             5290 non-null   float64\n",
      " 4   primary_cleaner.input.xanthate              5286 non-null   float64\n",
      " 5   primary_cleaner.state.floatbank8_a_air      5290 non-null   float64\n",
      " 6   primary_cleaner.state.floatbank8_a_level    5290 non-null   float64\n",
      " 7   primary_cleaner.state.floatbank8_b_air      5290 non-null   float64\n",
      " 8   primary_cleaner.state.floatbank8_b_level    5290 non-null   float64\n",
      " 9   primary_cleaner.state.floatbank8_c_air      5290 non-null   float64\n",
      " 10  primary_cleaner.state.floatbank8_c_level    5290 non-null   float64\n",
      " 11  primary_cleaner.state.floatbank8_d_air      5290 non-null   float64\n",
      " 12  primary_cleaner.state.floatbank8_d_level    5290 non-null   float64\n",
      " 13  rougher.input.feed_ag                       5290 non-null   float64\n",
      " 14  rougher.input.feed_pb                       5290 non-null   float64\n",
      " 15  rougher.input.feed_rate                     5287 non-null   float64\n",
      " 16  rougher.input.feed_size                     5289 non-null   float64\n",
      " 17  rougher.input.feed_sol                      5269 non-null   float64\n",
      " 18  rougher.input.feed_au                       5290 non-null   float64\n",
      " 19  rougher.input.floatbank10_sulfate           5285 non-null   float64\n",
      " 20  rougher.input.floatbank10_xanthate          5290 non-null   float64\n",
      " 21  rougher.input.floatbank11_sulfate           5282 non-null   float64\n",
      " 22  rougher.input.floatbank11_xanthate          5265 non-null   float64\n",
      " 23  rougher.state.floatbank10_a_air             5290 non-null   float64\n",
      " 24  rougher.state.floatbank10_a_level           5290 non-null   float64\n",
      " 25  rougher.state.floatbank10_b_air             5290 non-null   float64\n",
      " 26  rougher.state.floatbank10_b_level           5290 non-null   float64\n",
      " 27  rougher.state.floatbank10_c_air             5290 non-null   float64\n",
      " 28  rougher.state.floatbank10_c_level           5290 non-null   float64\n",
      " 29  rougher.state.floatbank10_d_air             5290 non-null   float64\n",
      " 30  rougher.state.floatbank10_d_level           5290 non-null   float64\n",
      " 31  rougher.state.floatbank10_e_air             5290 non-null   float64\n",
      " 32  rougher.state.floatbank10_e_level           5290 non-null   float64\n",
      " 33  rougher.state.floatbank10_f_air             5290 non-null   float64\n",
      " 34  rougher.state.floatbank10_f_level           5290 non-null   float64\n",
      " 35  secondary_cleaner.state.floatbank2_a_air    5287 non-null   float64\n",
      " 36  secondary_cleaner.state.floatbank2_a_level  5290 non-null   float64\n",
      " 37  secondary_cleaner.state.floatbank2_b_air    5288 non-null   float64\n",
      " 38  secondary_cleaner.state.floatbank2_b_level  5290 non-null   float64\n",
      " 39  secondary_cleaner.state.floatbank3_a_air    5281 non-null   float64\n",
      " 40  secondary_cleaner.state.floatbank3_a_level  5290 non-null   float64\n",
      " 41  secondary_cleaner.state.floatbank3_b_air    5290 non-null   float64\n",
      " 42  secondary_cleaner.state.floatbank3_b_level  5290 non-null   float64\n",
      " 43  secondary_cleaner.state.floatbank4_a_air    5290 non-null   float64\n",
      " 44  secondary_cleaner.state.floatbank4_a_level  5290 non-null   float64\n",
      " 45  secondary_cleaner.state.floatbank4_b_air    5290 non-null   float64\n",
      " 46  secondary_cleaner.state.floatbank4_b_level  5290 non-null   float64\n",
      " 47  secondary_cleaner.state.floatbank5_a_air    5290 non-null   float64\n",
      " 48  secondary_cleaner.state.floatbank5_a_level  5290 non-null   float64\n",
      " 49  secondary_cleaner.state.floatbank5_b_air    5290 non-null   float64\n",
      " 50  secondary_cleaner.state.floatbank5_b_level  5290 non-null   float64\n",
      " 51  secondary_cleaner.state.floatbank6_a_air    5290 non-null   float64\n",
      " 52  secondary_cleaner.state.floatbank6_a_level  5290 non-null   float64\n",
      "dtypes: float64(52), object(1)\n",
      "memory usage: 2.1+ MB\n"
     ]
    }
   ],
   "source": [
    "test.info()"
   ]
  },
  {
   "cell_type": "code",
   "execution_count": 6,
   "metadata": {
    "scrolled": true
   },
   "outputs": [
    {
     "name": "stdout",
     "output_type": "stream",
     "text": [
      "<class 'pandas.core.frame.DataFrame'>\n",
      "RangeIndex: 19439 entries, 0 to 19438\n",
      "Data columns (total 87 columns):\n",
      " #   Column                                              Non-Null Count  Dtype  \n",
      "---  ------                                              --------------  -----  \n",
      " 0   date                                                19439 non-null  object \n",
      " 1   final.output.concentrate_ag                         19438 non-null  float64\n",
      " 2   final.output.concentrate_pb                         19438 non-null  float64\n",
      " 3   final.output.concentrate_sol                        19228 non-null  float64\n",
      " 4   final.output.concentrate_au                         19439 non-null  float64\n",
      " 5   final.output.recovery                               19439 non-null  float64\n",
      " 6   final.output.tail_ag                                19438 non-null  float64\n",
      " 7   final.output.tail_pb                                19338 non-null  float64\n",
      " 8   final.output.tail_sol                               19433 non-null  float64\n",
      " 9   final.output.tail_au                                19439 non-null  float64\n",
      " 10  primary_cleaner.input.sulfate                       19415 non-null  float64\n",
      " 11  primary_cleaner.input.depressant                    19402 non-null  float64\n",
      " 12  primary_cleaner.input.feed_size                     19439 non-null  float64\n",
      " 13  primary_cleaner.input.xanthate                      19335 non-null  float64\n",
      " 14  primary_cleaner.output.concentrate_ag               19439 non-null  float64\n",
      " 15  primary_cleaner.output.concentrate_pb               19323 non-null  float64\n",
      " 16  primary_cleaner.output.concentrate_sol              19069 non-null  float64\n",
      " 17  primary_cleaner.output.concentrate_au               19439 non-null  float64\n",
      " 18  primary_cleaner.output.tail_ag                      19435 non-null  float64\n",
      " 19  primary_cleaner.output.tail_pb                      19418 non-null  float64\n",
      " 20  primary_cleaner.output.tail_sol                     19377 non-null  float64\n",
      " 21  primary_cleaner.output.tail_au                      19439 non-null  float64\n",
      " 22  primary_cleaner.state.floatbank8_a_air              19435 non-null  float64\n",
      " 23  primary_cleaner.state.floatbank8_a_level            19438 non-null  float64\n",
      " 24  primary_cleaner.state.floatbank8_b_air              19435 non-null  float64\n",
      " 25  primary_cleaner.state.floatbank8_b_level            19438 non-null  float64\n",
      " 26  primary_cleaner.state.floatbank8_c_air              19437 non-null  float64\n",
      " 27  primary_cleaner.state.floatbank8_c_level            19438 non-null  float64\n",
      " 28  primary_cleaner.state.floatbank8_d_air              19436 non-null  float64\n",
      " 29  primary_cleaner.state.floatbank8_d_level            19438 non-null  float64\n",
      " 30  rougher.calculation.sulfate_to_au_concentrate       19437 non-null  float64\n",
      " 31  rougher.calculation.floatbank10_sulfate_to_au_feed  19437 non-null  float64\n",
      " 32  rougher.calculation.floatbank11_sulfate_to_au_feed  19437 non-null  float64\n",
      " 33  rougher.calculation.au_pb_ratio                     19439 non-null  float64\n",
      " 34  rougher.input.feed_ag                               19439 non-null  float64\n",
      " 35  rougher.input.feed_pb                               19339 non-null  float64\n",
      " 36  rougher.input.feed_rate                             19428 non-null  float64\n",
      " 37  rougher.input.feed_size                             19294 non-null  float64\n",
      " 38  rougher.input.feed_sol                              19340 non-null  float64\n",
      " 39  rougher.input.feed_au                               19439 non-null  float64\n",
      " 40  rougher.input.floatbank10_sulfate                   19405 non-null  float64\n",
      " 41  rougher.input.floatbank10_xanthate                  19431 non-null  float64\n",
      " 42  rougher.input.floatbank11_sulfate                   19395 non-null  float64\n",
      " 43  rougher.input.floatbank11_xanthate                  18986 non-null  float64\n",
      " 44  rougher.output.concentrate_ag                       19439 non-null  float64\n",
      " 45  rougher.output.concentrate_pb                       19439 non-null  float64\n",
      " 46  rougher.output.concentrate_sol                      19416 non-null  float64\n",
      " 47  rougher.output.concentrate_au                       19439 non-null  float64\n",
      " 48  rougher.output.recovery                             19439 non-null  float64\n",
      " 49  rougher.output.tail_ag                              19438 non-null  float64\n",
      " 50  rougher.output.tail_pb                              19439 non-null  float64\n",
      " 51  rougher.output.tail_sol                             19439 non-null  float64\n",
      " 52  rougher.output.tail_au                              19439 non-null  float64\n",
      " 53  rougher.state.floatbank10_a_air                     19438 non-null  float64\n",
      " 54  rougher.state.floatbank10_a_level                   19438 non-null  float64\n",
      " 55  rougher.state.floatbank10_b_air                     19438 non-null  float64\n",
      " 56  rougher.state.floatbank10_b_level                   19438 non-null  float64\n",
      " 57  rougher.state.floatbank10_c_air                     19438 non-null  float64\n",
      " 58  rougher.state.floatbank10_c_level                   19438 non-null  float64\n",
      " 59  rougher.state.floatbank10_d_air                     19439 non-null  float64\n",
      " 60  rougher.state.floatbank10_d_level                   19439 non-null  float64\n",
      " 61  rougher.state.floatbank10_e_air                     19003 non-null  float64\n",
      " 62  rougher.state.floatbank10_e_level                   19439 non-null  float64\n",
      " 63  rougher.state.floatbank10_f_air                     19439 non-null  float64\n",
      " 64  rougher.state.floatbank10_f_level                   19439 non-null  float64\n",
      " 65  secondary_cleaner.output.tail_ag                    19437 non-null  float64\n",
      " 66  secondary_cleaner.output.tail_pb                    19427 non-null  float64\n",
      " 67  secondary_cleaner.output.tail_sol                   17691 non-null  float64\n",
      " 68  secondary_cleaner.output.tail_au                    19439 non-null  float64\n",
      " 69  secondary_cleaner.state.floatbank2_a_air            19219 non-null  float64\n",
      " 70  secondary_cleaner.state.floatbank2_a_level          19438 non-null  float64\n",
      " 71  secondary_cleaner.state.floatbank2_b_air            19416 non-null  float64\n",
      " 72  secondary_cleaner.state.floatbank2_b_level          19438 non-null  float64\n",
      " 73  secondary_cleaner.state.floatbank3_a_air            19426 non-null  float64\n",
      " 74  secondary_cleaner.state.floatbank3_a_level          19438 non-null  float64\n",
      " 75  secondary_cleaner.state.floatbank3_b_air            19438 non-null  float64\n",
      " 76  secondary_cleaner.state.floatbank3_b_level          19438 non-null  float64\n",
      " 77  secondary_cleaner.state.floatbank4_a_air            19433 non-null  float64\n",
      " 78  secondary_cleaner.state.floatbank4_a_level          19438 non-null  float64\n",
      " 79  secondary_cleaner.state.floatbank4_b_air            19438 non-null  float64\n",
      " 80  secondary_cleaner.state.floatbank4_b_level          19438 non-null  float64\n",
      " 81  secondary_cleaner.state.floatbank5_a_air            19438 non-null  float64\n",
      " 82  secondary_cleaner.state.floatbank5_a_level          19438 non-null  float64\n",
      " 83  secondary_cleaner.state.floatbank5_b_air            19438 non-null  float64\n",
      " 84  secondary_cleaner.state.floatbank5_b_level          19438 non-null  float64\n",
      " 85  secondary_cleaner.state.floatbank6_a_air            19437 non-null  float64\n",
      " 86  secondary_cleaner.state.floatbank6_a_level          19438 non-null  float64\n",
      "dtypes: float64(86), object(1)\n",
      "memory usage: 12.9+ MB\n"
     ]
    }
   ],
   "source": [
    "full.info()"
   ]
  },
  {
   "cell_type": "markdown",
   "metadata": {},
   "source": [
    "### Проверка эффективности обогащения"
   ]
  },
  {
   "cell_type": "code",
   "execution_count": 7,
   "metadata": {},
   "outputs": [],
   "source": [
    "# Функция для проверки эффективности обогащения\n",
    "def recovery(C, F, T):\n",
    "    '''\n",
    "    C  — доля золота в концентрате после флотации/очистки;\n",
    "    F — доля золота в сырье/концентрате до флотации/очистки;\n",
    "    T — доля золота в отвальных хвостах после флотации/очистки.\n",
    "    '''\n",
    "    return (C * (F - T)) / (F * (C - T)) * 100"
   ]
  },
  {
   "cell_type": "code",
   "execution_count": 8,
   "metadata": {},
   "outputs": [],
   "source": [
    "recovery_train = (\n",
    "    train.loc[:, ['rougher.output.recovery', 'rougher.input.feed_au', 'rougher.output.concentrate_au', 'rougher.output.tail_au']])\n",
    "recovery_train = recovery_train.dropna(subset=['rougher.output.recovery'], axis=0)"
   ]
  },
  {
   "cell_type": "code",
   "execution_count": 9,
   "metadata": {},
   "outputs": [
    {
     "data": {
      "text/plain": [
       "9.73512347450521e-15"
      ]
     },
     "execution_count": 9,
     "metadata": {},
     "output_type": "execute_result"
    }
   ],
   "source": [
    "recovery_check = recovery(\n",
    "        recovery_train['rougher.output.concentrate_au'],\n",
    "        recovery_train['rougher.input.feed_au'],\n",
    "        recovery_train['rougher.output.tail_au'])\n",
    "\n",
    "MAE(recovery_train['rougher.output.recovery'], recovery_check)"
   ]
  },
  {
   "cell_type": "code",
   "execution_count": 10,
   "metadata": {},
   "outputs": [
    {
     "data": {
      "image/png": "[encoded data removed]",
      "text/plain": [
       "<Figure size 1080x576 with 1 Axes>"
      ]
     },
     "metadata": {},
     "output_type": "display_data"
    }
   ],
   "source": [
    "fig, ax = plt.subplots(figsize=(15, 8))\n",
    "\n",
    "sns.kdeplot(recovery_train['rougher.output.recovery'], label='Настоящий', alpha=.5, linewidth=6);\n",
    "sns.kdeplot(recovery_check, label='Расчитанный', alpha=.1, linewidth=3);\n",
    "\n",
    "plt.legend(prop={'size': 10});"
   ]
  },
  {
   "cell_type": "markdown",
   "metadata": {},
   "source": [
    "Эффективность расчитана правильно, присутствует лишь незначительно малое отличие."
   ]
  },
  {
   "cell_type": "markdown",
   "metadata": {},
   "source": [
    "### Признаки, недоступные в тестовой выборке"
   ]
  },
  {
   "cell_type": "code",
   "execution_count": 11,
   "metadata": {},
   "outputs": [
    {
     "name": "stdout",
     "output_type": "stream",
     "text": [
      "Cтолбцов должно быть по итогу проверки: 34\n"
     ]
    }
   ],
   "source": [
    "print(f'Cтолбцов должно быть по итогу проверки: {train.shape[1] - test.shape[1]}')"
   ]
  },
  {
   "cell_type": "code",
   "execution_count": 12,
   "metadata": {},
   "outputs": [],
   "source": [
    "# Простой цикл, который соберет все названия, которых нет в тестовой выборке\n",
    "unavailable_columns = [i for i in train.columns if i not in test.columns]"
   ]
  },
  {
   "cell_type": "code",
   "execution_count": 13,
   "metadata": {},
   "outputs": [
    {
     "data": {
      "text/plain": [
       "34"
      ]
     },
     "execution_count": 13,
     "metadata": {},
     "output_type": "execute_result"
    }
   ],
   "source": [
    "len(unavailable_columns)"
   ]
  },
  {
   "cell_type": "code",
   "execution_count": 14,
   "metadata": {
    "scrolled": true
   },
   "outputs": [
    {
     "data": {
      "text/plain": [
       "['final.output.concentrate_ag',\n",
       " 'final.output.concentrate_pb',\n",
       " 'final.output.concentrate_sol',\n",
       " 'final.output.concentrate_au',\n",
       " 'final.output.recovery',\n",
       " 'final.output.tail_ag',\n",
       " 'final.output.tail_pb',\n",
       " 'final.output.tail_sol',\n",
       " 'final.output.tail_au',\n",
       " 'primary_cleaner.output.concentrate_ag',\n",
       " 'primary_cleaner.output.concentrate_pb',\n",
       " 'primary_cleaner.output.concentrate_sol',\n",
       " 'primary_cleaner.output.concentrate_au',\n",
       " 'primary_cleaner.output.tail_ag',\n",
       " 'primary_cleaner.output.tail_pb',\n",
       " 'primary_cleaner.output.tail_sol',\n",
       " 'primary_cleaner.output.tail_au',\n",
       " 'rougher.calculation.sulfate_to_au_concentrate',\n",
       " 'rougher.calculation.floatbank10_sulfate_to_au_feed',\n",
       " 'rougher.calculation.floatbank11_sulfate_to_au_feed',\n",
       " 'rougher.calculation.au_pb_ratio',\n",
       " 'rougher.output.concentrate_ag',\n",
       " 'rougher.output.concentrate_pb',\n",
       " 'rougher.output.concentrate_sol',\n",
       " 'rougher.output.concentrate_au',\n",
       " 'rougher.output.recovery',\n",
       " 'rougher.output.tail_ag',\n",
       " 'rougher.output.tail_pb',\n",
       " 'rougher.output.tail_sol',\n",
       " 'rougher.output.tail_au',\n",
       " 'secondary_cleaner.output.tail_ag',\n",
       " 'secondary_cleaner.output.tail_pb',\n",
       " 'secondary_cleaner.output.tail_sol',\n",
       " 'secondary_cleaner.output.tail_au']"
      ]
     },
     "execution_count": 14,
     "metadata": {},
     "output_type": "execute_result"
    }
   ],
   "source": [
    "unavailable_columns"
   ]
  },
  {
   "cell_type": "markdown",
   "metadata": {},
   "source": [
    "#### Проанализируем признаки, недоступные в тестовой выборке"
   ]
  },
  {
   "cell_type": "code",
   "execution_count": 15,
   "metadata": {},
   "outputs": [],
   "source": [
    "# Для облегчения будем использовать collections\n",
    "step = collections.Counter()\n",
    "param_type = collections.Counter()\n",
    "param_name = collections.Counter()\n",
    "\n",
    "for column in unavailable_columns:\n",
    "    words = column.split('.')\n",
    "\n",
    "    step[words[0]] += 1\n",
    "    param_type[words[1]] += 1\n",
    "    param_name[words[2]] += 1"
   ]
  },
  {
   "cell_type": "code",
   "execution_count": 16,
   "metadata": {
    "scrolled": false
   },
   "outputs": [
    {
     "data": {
      "text/plain": [
       "(Counter({'final': 9,\n",
       "          'primary_cleaner': 8,\n",
       "          'rougher': 13,\n",
       "          'secondary_cleaner': 4}),\n",
       " Counter({'output': 30, 'calculation': 4}),\n",
       " Counter({'concentrate_ag': 3,\n",
       "          'concentrate_pb': 3,\n",
       "          'concentrate_sol': 3,\n",
       "          'concentrate_au': 3,\n",
       "          'recovery': 2,\n",
       "          'tail_ag': 4,\n",
       "          'tail_pb': 4,\n",
       "          'tail_sol': 4,\n",
       "          'tail_au': 4,\n",
       "          'sulfate_to_au_concentrate': 1,\n",
       "          'floatbank10_sulfate_to_au_feed': 1,\n",
       "          'floatbank11_sulfate_to_au_feed': 1,\n",
       "          'au_pb_ratio': 1}))"
      ]
     },
     "execution_count": 16,
     "metadata": {},
     "output_type": "execute_result"
    }
   ],
   "source": [
    "step, param_type, param_name"
   ]
  },
  {
   "cell_type": "markdown",
   "metadata": {},
   "source": [
    "Сложно глазу зацепиться, давайте посчитаем типы параметров вместе с наименованием."
   ]
  },
  {
   "cell_type": "code",
   "execution_count": 17,
   "metadata": {},
   "outputs": [],
   "source": [
    "param = collections.Counter()\n",
    "\n",
    "for column in unavailable_columns:\n",
    "    param[column.split('.', 1)[1]] += 1"
   ]
  },
  {
   "cell_type": "code",
   "execution_count": 18,
   "metadata": {},
   "outputs": [
    {
     "data": {
      "text/plain": [
       "Counter({'output.concentrate_ag': 3,\n",
       "         'output.concentrate_pb': 3,\n",
       "         'output.concentrate_sol': 3,\n",
       "         'output.concentrate_au': 3,\n",
       "         'output.recovery': 2,\n",
       "         'output.tail_ag': 4,\n",
       "         'output.tail_pb': 4,\n",
       "         'output.tail_sol': 4,\n",
       "         'output.tail_au': 4,\n",
       "         'calculation.sulfate_to_au_concentrate': 1,\n",
       "         'calculation.floatbank10_sulfate_to_au_feed': 1,\n",
       "         'calculation.floatbank11_sulfate_to_au_feed': 1,\n",
       "         'calculation.au_pb_ratio': 1})"
      ]
     },
     "execution_count": 18,
     "metadata": {},
     "output_type": "execute_result"
    }
   ],
   "source": [
    "param"
   ]
  },
  {
   "cell_type": "markdown",
   "metadata": {},
   "source": [
    "1. Большая часть параметров отсутствует именно в параметрах продукта: \n",
    "- Отвальные хвосты\n",
    "- Концентрация металлов\n",
    "- Эффективность обогащения\n",
    "2. Отсутствует некоторые параметры в расчётных характеристиках:\n",
    "- Концентрация сульфата к золоту\n",
    "- Отношение золота к свинцу\n",
    "- У этапа флотации и финального этапа отсутствуют признаки обогащения"
   ]
  },
  {
   "cell_type": "markdown",
   "metadata": {},
   "source": [
    "### Предобработка данных"
   ]
  },
  {
   "cell_type": "markdown",
   "metadata": {},
   "source": [
    "#### Recovery в тестовой выборке"
   ]
  },
  {
   "cell_type": "markdown",
   "metadata": {},
   "source": [
    "Попробуем восстановить *recovery* в тестовой выборке."
   ]
  },
  {
   "cell_type": "code",
   "execution_count": 19,
   "metadata": {},
   "outputs": [],
   "source": [
    "test_recovery = test.merge(\n",
    "    full.loc[:,['date', 'rougher.output.recovery', 'final.output.recovery']],on='date')"
   ]
  },
  {
   "cell_type": "code",
   "execution_count": 20,
   "metadata": {},
   "outputs": [],
   "source": [
    "cleared_test = test_recovery.drop(['date'], axis=1)"
   ]
  },
  {
   "cell_type": "code",
   "execution_count": 21,
   "metadata": {},
   "outputs": [
    {
     "name": "stdout",
     "output_type": "stream",
     "text": [
      "<class 'pandas.core.frame.DataFrame'>\n",
      "Int64Index: 5290 entries, 0 to 5289\n",
      "Data columns (total 2 columns):\n",
      " #   Column                   Non-Null Count  Dtype  \n",
      "---  ------                   --------------  -----  \n",
      " 0   rougher.output.recovery  5290 non-null   float64\n",
      " 1   final.output.recovery    5290 non-null   float64\n",
      "dtypes: float64(2)\n",
      "memory usage: 124.0 KB\n"
     ]
    }
   ],
   "source": [
    "cleared_test[['rougher.output.recovery', 'final.output.recovery']].info()"
   ]
  },
  {
   "cell_type": "markdown",
   "metadata": {},
   "source": [
    "Восстановление было проведено удачно. "
   ]
  },
  {
   "cell_type": "markdown",
   "metadata": {},
   "source": [
    "#### Пропуски"
   ]
  },
  {
   "cell_type": "markdown",
   "metadata": {},
   "source": [
    "Пропуски будем заполнять медианой."
   ]
  },
  {
   "cell_type": "code",
   "execution_count": 22,
   "metadata": {},
   "outputs": [],
   "source": [
    "imputer = SimpleImputer(strategy='median')\n",
    "\n",
    "cleared_train = train.drop(['date'], axis=1)\n",
    "train_data = pd.DataFrame(data = imputer.fit_transform(cleared_train),\n",
    "             columns=cleared_train.columns,\n",
    "             index = cleared_train.index)"
   ]
  },
  {
   "cell_type": "code",
   "execution_count": 23,
   "metadata": {},
   "outputs": [],
   "source": [
    "imputer = SimpleImputer(strategy='median')\n",
    "\n",
    "test_data = pd.DataFrame(data = imputer.fit_transform(cleared_test),\n",
    "             columns= cleared_test.columns,\n",
    "             index = cleared_test.index)"
   ]
  },
  {
   "cell_type": "markdown",
   "metadata": {},
   "source": [
    "## Анализ данных"
   ]
  },
  {
   "cell_type": "markdown",
   "metadata": {},
   "source": [
    "### Концентрация металлов на разных этапах"
   ]
  },
  {
   "cell_type": "markdown",
   "metadata": {},
   "source": [
    "Делать функцию для такого будет лишь усложнение, на мой взгляд, потому вручную для каждого металла соберем в датафрейм информацию по этапам и визуализируем эти датафреймы."
   ]
  },
  {
   "cell_type": "code",
   "execution_count": 24,
   "metadata": {},
   "outputs": [],
   "source": [
    "df_ag = full[['rougher.input.feed_ag',\n",
    "              'rougher.output.concentrate_ag', \n",
    "              'primary_cleaner.output.concentrate_ag', \n",
    "              'final.output.concentrate_ag']]\n",
    "\n",
    "df_ag = df_ag.rename(columns={'rougher.input.feed_ag': 'до флотации', \n",
    "                              'rougher.output.concentrate_ag': 'после флотации', \n",
    "                              'primary_cleaner.output.concentrate_ag': 'первичная очистка', \n",
    "                              'final.output.concentrate_ag': 'финальная очистка'})"
   ]
  },
  {
   "cell_type": "code",
   "execution_count": 25,
   "metadata": {},
   "outputs": [],
   "source": [
    "df_pb = full[['rougher.input.feed_pb',\n",
    "              'rougher.output.concentrate_pb', \n",
    "              'primary_cleaner.output.concentrate_pb', \n",
    "              'final.output.concentrate_pb']]\n",
    "\n",
    "df_pb = df_pb.rename(columns={'rougher.input.feed_pb': 'до флотации',\n",
    "                              'rougher.output.concentrate_pb': 'флотация', \n",
    "                              'primary_cleaner.output.concentrate_pb': 'первичная очистка', \n",
    "                              'final.output.concentrate_pb': 'финальная очистка'})"
   ]
  },
  {
   "cell_type": "code",
   "execution_count": 26,
   "metadata": {},
   "outputs": [],
   "source": [
    "df_au = full[['rougher.input.feed_au',\n",
    "              'rougher.output.concentrate_au', \n",
    "              'primary_cleaner.output.concentrate_au', \n",
    "              'final.output.concentrate_au']]\n",
    "\n",
    "df_au = df_au.rename(columns={'rougher.input.feed_au': 'до флотации',\n",
    "                              'rougher.output.concentrate_au': 'флотация', \n",
    "                              'primary_cleaner.output.concentrate_au': 'первичная очистка', \n",
    "                              'final.output.concentrate_au': 'финальная очистка'})"
   ]
  },
  {
   "cell_type": "code",
   "execution_count": 27,
   "metadata": {},
   "outputs": [
    {
     "data": {
      "image/png": "[encoded data removed]",
      "text/plain": [
       "<Figure size 1080x432 with 3 Axes>"
      ]
     },
     "metadata": {},
     "output_type": "display_data"
    }
   ],
   "source": [
    "fig, (ax1, ax2, ax3) = plt.subplots(1, 3, figsize=(15, 6))\n",
    "\n",
    "sns.barplot(data=df_pb, ax=ax1);\n",
    "plt.setp(ax1.get_xticklabels(), rotation=30);\n",
    "ax1.set_title('Свинец (Pb)', fontsize=15);\n",
    "\n",
    "sns.barplot(data=df_ag, ax=ax2);\n",
    "plt.setp(ax2.get_xticklabels(), rotation=30);\n",
    "ax2.set_title('Серебро (Ag)', fontsize=15);\n",
    "\n",
    "sns.barplot(data=df_au, ax=ax3);\n",
    "plt.setp(ax3.get_xticklabels(), rotation=30);\n",
    "ax3.set_title('Золото (Au)', fontsize=15);"
   ]
  },
  {
   "cell_type": "markdown",
   "metadata": {},
   "source": [
    "Концентрация свинца и золота увеличивается на каждом этапе. "
   ]
  },
  {
   "cell_type": "markdown",
   "metadata": {},
   "source": [
    "Концентрация серебра увеличивается после флотации, но уменьшается после очисток."
   ]
  },
  {
   "cell_type": "markdown",
   "metadata": {},
   "source": [
    "### Распределение размеров гранул сырья на обучающей и тестовой выборках"
   ]
  },
  {
   "cell_type": "code",
   "execution_count": 28,
   "metadata": {
    "scrolled": false
   },
   "outputs": [
    {
     "data": {
      "text/plain": [
       "count    14005.000000\n",
       "mean        60.110518\n",
       "std         22.418485\n",
       "min          9.659576\n",
       "25%         48.973027\n",
       "50%         55.373885\n",
       "75%         66.080172\n",
       "max        484.967466\n",
       "Name: rougher.input.feed_size, dtype: float64"
      ]
     },
     "execution_count": 28,
     "metadata": {},
     "output_type": "execute_result"
    }
   ],
   "source": [
    "train['rougher.input.feed_size'].describe()"
   ]
  },
  {
   "cell_type": "code",
   "execution_count": 29,
   "metadata": {},
   "outputs": [
    {
     "data": {
      "text/plain": [
       "count    5289.000000\n",
       "mean       55.951097\n",
       "std        19.081758\n",
       "min         0.046369\n",
       "25%        43.906347\n",
       "50%        50.841029\n",
       "75%        62.431047\n",
       "max       392.494040\n",
       "Name: rougher.input.feed_size, dtype: float64"
      ]
     },
     "execution_count": 29,
     "metadata": {},
     "output_type": "execute_result"
    }
   ],
   "source": [
    "test['rougher.input.feed_size'].describe()"
   ]
  },
  {
   "cell_type": "code",
   "execution_count": 30,
   "metadata": {},
   "outputs": [
    {
     "data": {
      "image/png": "[encoded data removed]",
      "text/plain": [
       "<Figure size 1080x576 with 1 Axes>"
      ]
     },
     "metadata": {},
     "output_type": "display_data"
    }
   ],
   "source": [
    "fig, ax = plt.subplots(figsize=(15, 8))\n",
    "\n",
    "sns.kdeplot(data=train_data['rougher.input.feed_size'], label='Обучающая выборка', alpha=.5, linewidth=0, fill=True);\n",
    "sns.kdeplot(data=test_data['rougher.input.feed_size'], label='Тестовая выборка', alpha=.5, linewidth=0, fill=True);\n",
    "\n",
    "ax.set_xticks([x for x in range(0, 500, 20)])\n",
    "ax.set_xlabel('')\n",
    "\n",
    "plt.xlabel('Размер частиц');\n",
    "plt.ylabel('Количество');\n",
    "\n",
    "plt.legend(prop={'size': 10});\n",
    "plt.title('Размер гранул', fontdict={'fontsize': 15});"
   ]
  },
  {
   "cell_type": "markdown",
   "metadata": {},
   "source": [
    "Графики хоть и отличаются, но имеют схожую тенденцию. Более того, среднее двух выборок тоже отличается не так сильно. Будем считать, что распределения равны."
   ]
  },
  {
   "cell_type": "markdown",
   "metadata": {},
   "source": [
    "### Суммарная концентрация веществ на разных стадиях"
   ]
  },
  {
   "cell_type": "code",
   "execution_count": 31,
   "metadata": {},
   "outputs": [],
   "source": [
    "rough_feed = full[['rougher.input.feed_ag', \n",
    "                   'rougher.input.feed_pb', \n",
    "                   'rougher.input.feed_sol', \n",
    "                   'rougher.input.feed_au']].sum(axis=1)"
   ]
  },
  {
   "cell_type": "code",
   "execution_count": 32,
   "metadata": {},
   "outputs": [
    {
     "data": {
      "image/png": "[encoded data removed]",
      "text/plain": [
       "<Figure size 1080x504 with 1 Axes>"
      ]
     },
     "metadata": {},
     "output_type": "display_data"
    }
   ],
   "source": [
    "plt.subplots(figsize = (15, 7))\n",
    "\n",
    "sns.histplot(rough_feed, bins=80)\n",
    "\n",
    "plt.title('Концентрация металлов в сырье');"
   ]
  },
  {
   "cell_type": "code",
   "execution_count": 33,
   "metadata": {},
   "outputs": [],
   "source": [
    "rough_concentration = full[['rougher.output.concentrate_pb', \n",
    "                            'rougher.output.concentrate_ag', \n",
    "                            'rougher.output.concentrate_sol', \n",
    "                            'rougher.output.concentrate_au']].sum(axis=1)"
   ]
  },
  {
   "cell_type": "code",
   "execution_count": 34,
   "metadata": {},
   "outputs": [
    {
     "data": {
      "image/png": "[encoded data removed]",
      "text/plain": [
       "<Figure size 1080x504 with 1 Axes>"
      ]
     },
     "metadata": {},
     "output_type": "display_data"
    }
   ],
   "source": [
    "plt.subplots(figsize = (15, 7))\n",
    "\n",
    "sns.histplot(rough_concentration, bins=80)\n",
    "\n",
    "plt.title('Концентрация металлов в черновом концентрате');"
   ]
  },
  {
   "cell_type": "code",
   "execution_count": 35,
   "metadata": {},
   "outputs": [],
   "source": [
    "fin_concentration = full[['final.output.concentrate_pb', \n",
    "                          'final.output.concentrate_ag', \n",
    "                          'final.output.concentrate_sol', \n",
    "                          'final.output.concentrate_au']].sum(axis=1)"
   ]
  },
  {
   "cell_type": "code",
   "execution_count": 36,
   "metadata": {},
   "outputs": [
    {
     "data": {
      "image/png": "[encoded data removed]",
      "text/plain": [
       "<Figure size 1080x504 with 1 Axes>"
      ]
     },
     "metadata": {},
     "output_type": "display_data"
    }
   ],
   "source": [
    "plt.subplots(figsize = (15, 7))\n",
    "\n",
    "sns.histplot(fin_concentration, bins=80)\n",
    "\n",
    "plt.title('Концентрация металлов в финальном концентрате');"
   ]
  },
  {
   "cell_type": "markdown",
   "metadata": {},
   "source": [
    "Невероятное количество значений равных 0. Аномально. Они могут ухудшить качество финальной модели, потому лучше избавиться от них. Меньше, зато качественней."
   ]
  },
  {
   "cell_type": "markdown",
   "metadata": {},
   "source": [
    "#### Избавимся от аномалий"
   ]
  },
  {
   "cell_type": "code",
   "execution_count": 37,
   "metadata": {},
   "outputs": [
    {
     "data": {
      "text/plain": [
       "(0,)"
      ]
     },
     "execution_count": 37,
     "metadata": {},
     "output_type": "execute_result"
    }
   ],
   "source": [
    "rough_feed[rough_feed == 0].shape"
   ]
  },
  {
   "cell_type": "code",
   "execution_count": 38,
   "metadata": {},
   "outputs": [
    {
     "data": {
      "text/plain": [
       "(394,)"
      ]
     },
     "execution_count": 38,
     "metadata": {},
     "output_type": "execute_result"
    }
   ],
   "source": [
    "rough_concentration[rough_concentration == 0].shape"
   ]
  },
  {
   "cell_type": "code",
   "execution_count": 39,
   "metadata": {},
   "outputs": [
    {
     "data": {
      "text/plain": [
       "(98,)"
      ]
     },
     "execution_count": 39,
     "metadata": {},
     "output_type": "execute_result"
    }
   ],
   "source": [
    "fin_concentration[fin_concentration == 0].shape"
   ]
  },
  {
   "cell_type": "markdown",
   "metadata": {},
   "source": [
    "Удалим нули в концентрате."
   ]
  },
  {
   "cell_type": "code",
   "execution_count": 40,
   "metadata": {},
   "outputs": [
    {
     "data": {
      "text/plain": [
       "354"
      ]
     },
     "execution_count": 40,
     "metadata": {},
     "output_type": "execute_result"
    }
   ],
   "source": [
    "# находим строки, где сумма одного из концентратов для тренировочной выборки равна 0\n",
    "indexes_of_0_train = (train_data[['final.output.concentrate_pb', 'final.output.concentrate_ag', \n",
    "                          'final.output.concentrate_sol', 'final.output.concentrate_au']].sum(axis=1) == 0) | (\n",
    "    train_data[['rougher.output.concentrate_pb', 'rougher.output.concentrate_ag', \n",
    "                'rougher.output.concentrate_sol', 'rougher.output.concentrate_au']].sum(axis=1) == 0\n",
    ")\n",
    "\n",
    "indexes_of_0_train.sum()"
   ]
  },
  {
   "cell_type": "code",
   "execution_count": 41,
   "metadata": {},
   "outputs": [],
   "source": [
    "train_data = train_data.drop(train_data[indexes_of_0_train].index, axis=0).reset_index(drop=True)"
   ]
  },
  {
   "cell_type": "code",
   "execution_count": 42,
   "metadata": {},
   "outputs": [
    {
     "data": {
      "text/plain": [
       "490"
      ]
     },
     "execution_count": 42,
     "metadata": {},
     "output_type": "execute_result"
    }
   ],
   "source": [
    "# находим строки, где сумма одного из концентратов равна 0\n",
    "indexes_of_0_full = (full[['final.output.concentrate_pb', 'final.output.concentrate_ag', \n",
    "                          'final.output.concentrate_sol', 'final.output.concentrate_au']].sum(axis=1) == 0) | (\n",
    "    full[['rougher.output.concentrate_pb', 'rougher.output.concentrate_ag', \n",
    "                'rougher.output.concentrate_sol', 'rougher.output.concentrate_au']].sum(axis=1) == 0\n",
    ")\n",
    "indexes_of_0_full.sum()"
   ]
  },
  {
   "cell_type": "code",
   "execution_count": 43,
   "metadata": {},
   "outputs": [],
   "source": [
    "full_data = full.drop(full[indexes_of_0_full].index, axis=0).reset_index(drop=True)"
   ]
  },
  {
   "cell_type": "markdown",
   "metadata": {},
   "source": [
    "Проверим"
   ]
  },
  {
   "cell_type": "code",
   "execution_count": 44,
   "metadata": {},
   "outputs": [
    {
     "data": {
      "text/plain": [
       "0"
      ]
     },
     "execution_count": 44,
     "metadata": {},
     "output_type": "execute_result"
    }
   ],
   "source": [
    "# находим строки, где сумма одного из концентратов для тренировочной выборки равна 0\n",
    "indexes_of_0_train = (train_data[['final.output.concentrate_pb', 'final.output.concentrate_ag', \n",
    "                          'final.output.concentrate_sol', 'final.output.concentrate_au']].sum(axis=1) == 0) | (\n",
    "    train_data[['rougher.output.concentrate_pb', 'rougher.output.concentrate_ag', \n",
    "                'rougher.output.concentrate_sol', 'rougher.output.concentrate_au']].sum(axis=1) == 0\n",
    ")\n",
    "\n",
    "indexes_of_0_train.sum()"
   ]
  },
  {
   "cell_type": "code",
   "execution_count": 45,
   "metadata": {},
   "outputs": [
    {
     "data": {
      "text/plain": [
       "0"
      ]
     },
     "execution_count": 45,
     "metadata": {},
     "output_type": "execute_result"
    }
   ],
   "source": [
    "# находим строки, где сумма одного из концентратов равна 0\n",
    "indexes_of_0_full = (full_data[['final.output.concentrate_pb', 'final.output.concentrate_ag', \n",
    "                          'final.output.concentrate_sol', 'final.output.concentrate_au']].sum(axis=1) == 0) | (\n",
    "    full_data[['rougher.output.concentrate_pb', 'rougher.output.concentrate_ag', \n",
    "                'rougher.output.concentrate_sol', 'rougher.output.concentrate_au']].sum(axis=1) == 0\n",
    ")\n",
    "indexes_of_0_full.sum()"
   ]
  },
  {
   "cell_type": "markdown",
   "metadata": {},
   "source": [
    "Аномалий больше нет."
   ]
  },
  {
   "cell_type": "markdown",
   "metadata": {},
   "source": [
    "## Модель"
   ]
  },
  {
   "cell_type": "markdown",
   "metadata": {},
   "source": [
    "### SMAPE"
   ]
  },
  {
   "cell_type": "markdown",
   "metadata": {},
   "source": [
    "sMAPE - симметричное среднее абсолютное процентное отклонение. Эта метрика понадобиться для нынешней задачи, так как в отличие от MAE она относительна, одинаково учитывает масштаб и целевого признака, и предсказания."
   ]
  },
  {
   "cell_type": "code",
   "execution_count": 59,
   "metadata": {},
   "outputs": [],
   "source": [
    "def sMAPE(y_true,y_pred):\n",
    "    return np.sum(abs(y_true - y_pred)/((abs(y_true)+abs(y_pred))/2)) * 100 * 1/len(y_true)"
   ]
  },
  {
   "cell_type": "code",
   "execution_count": 60,
   "metadata": {},
   "outputs": [],
   "source": [
    "def final_sMAPE(sMAPE_rougher,sMAPE_final):\n",
    "    return (0.25*sMAPE_rougher + 0.75*sMAPE_final)"
   ]
  },
  {
   "cell_type": "code",
   "execution_count": 48,
   "metadata": {},
   "outputs": [],
   "source": [
    "custom_score = make_scorer(sMAPE,greater_is_better=False)"
   ]
  },
  {
   "cell_type": "markdown",
   "metadata": {},
   "source": [
    "### Обучение моделей"
   ]
  },
  {
   "cell_type": "markdown",
   "metadata": {},
   "source": [
    "#### Разделим данные"
   ]
  },
  {
   "cell_type": "code",
   "execution_count": 78,
   "metadata": {},
   "outputs": [],
   "source": [
    "# выделим признаки и цель для тестовой выборки для концентрата чернового\n",
    "features_test_rough = test_data.filter(regex='^rougher',axis=1).drop(['rougher.output.recovery'], axis=1)\n",
    "target_test_rough = test_data['rougher.output.recovery']\n",
    "\n",
    "# и концентрата финального\n",
    "features_test_final = test_data.drop(['rougher.output.recovery', 'final.output.recovery'], axis=1)\n",
    "target_test_final = test_data['final.output.recovery']"
   ]
  },
  {
   "cell_type": "code",
   "execution_count": 88,
   "metadata": {},
   "outputs": [],
   "source": [
    "# выделим признаки и цель для тренировочной выборки для концентрата чернового\n",
    "features_train_rough = features_train_rough.loc[:, features_test_rough.columns]\n",
    "target_train_rough = train_data['rougher.output.recovery']\n",
    "\n",
    "# и концентрата финального\n",
    "features_train_final = train_data.loc[:, features_test_final.columns]\n",
    "target_train_final = train_data['final.output.recovery']"
   ]
  },
  {
   "cell_type": "code",
   "execution_count": 89,
   "metadata": {
    "scrolled": true
   },
   "outputs": [
    {
     "name": "stdout",
     "output_type": "stream",
     "text": [
      "(13795, 22)\n",
      "(13795,)\n",
      "\n",
      "(13795, 52)\n",
      "(13795,)\n",
      "\n",
      "(5290, 22)\n",
      "(5290,)\n",
      "\n",
      "(5290, 52)\n",
      "(5290,)\n"
     ]
    }
   ],
   "source": [
    "print(features_train_rough.shape)\n",
    "print(target_train_rough.shape)\n",
    "print()\n",
    "print(features_train_final.shape)\n",
    "print(target_train_final.shape)\n",
    "print()\n",
    "print(features_test_rough.shape)\n",
    "print(target_test_rough.shape)\n",
    "print()\n",
    "print(features_test_final.shape)\n",
    "print(target_test_final.shape)"
   ]
  },
  {
   "cell_type": "markdown",
   "metadata": {},
   "source": [
    "#### Лучшая модель"
   ]
  },
  {
   "cell_type": "code",
   "execution_count": 90,
   "metadata": {},
   "outputs": [
    {
     "name": "stdout",
     "output_type": "stream",
     "text": [
      "sMAPE: -10.162835385066364\n"
     ]
    }
   ],
   "source": [
    "model = LinearRegression()\n",
    "scorer = make_scorer(sMAPE, greater_is_better=False)\n",
    "\n",
    "rougher_lin = cross_val_score(model, features_train_rough, target_train_rough, scoring=scorer, cv=5)\n",
    "final_lin =  cross_val_score(model, features_train_final, target_train_final, scoring=scorer, cv=5)\n",
    "\n",
    "print('sMAPE:', final_sMAPE(rougher_lin, final_lin).mean())"
   ]
  },
  {
   "cell_type": "code",
   "execution_count": 91,
   "metadata": {
    "scrolled": true
   },
   "outputs": [
    {
     "name": "stdout",
     "output_type": "stream",
     "text": [
      "Глубина: 1\n",
      "sMAPE: -9.917744000522646\n",
      "\n",
      "Глубина: 4\n",
      "sMAPE: -9.652099671905114\n",
      "\n",
      "Глубина: 7\n",
      "sMAPE: -12.037620269775957\n",
      "\n",
      "Глубина: 10\n",
      "sMAPE: -14.232910864428996\n",
      "\n",
      "Глубина: 13\n",
      "sMAPE: -15.3082626663677\n",
      "\n",
      "Глубина: 16\n",
      "sMAPE: -16.30168170412155\n",
      "\n",
      "Глубина: 19\n",
      "sMAPE: -16.809663036494893\n",
      "\n"
     ]
    }
   ],
   "source": [
    "for depth in range(1, 21, 3):\n",
    "    model = DecisionTreeRegressor(random_state=12345, max_depth=depth)\n",
    "    scorer = make_scorer(sMAPE, greater_is_better=False)\n",
    "    \n",
    "    rougher_tree = cross_val_score(model, features_train_rough, target_train_final, scoring=scorer, cv=5)\n",
    "    final_tree = cross_val_score(model, features_train_final, target_train_final, scoring=scorer, cv=5)\n",
    "    \n",
    "    print('Глубина:',depth)\n",
    "    print('sMAPE:', final_sMAPE(rougher_tree, final_tree).mean())\n",
    "    print()"
   ]
  },
  {
   "cell_type": "code",
   "execution_count": 109,
   "metadata": {
    "scrolled": false
   },
   "outputs": [
    {
     "name": "stdout",
     "output_type": "stream",
     "text": [
      "Глубина: 1\n",
      "sMAPE: -9.77840376187601\n",
      "\n",
      "Глубина: 3\n",
      "sMAPE: -9.55004989312354\n",
      "\n",
      "Глубина: 5\n",
      "sMAPE: -9.388074791725737\n",
      "\n",
      "Глубина: 7\n",
      "sMAPE: -9.574964462264287\n",
      "\n",
      "Глубина: 9\n",
      "sMAPE: -9.767969235208904\n",
      "\n"
     ]
    }
   ],
   "source": [
    "for depth in range(1, 11, 2):\n",
    "    model = RandomForestRegressor(random_state=12345, max_depth=depth, n_estimators=10)\n",
    "    scorer = make_scorer(sMAPE, greater_is_better=False)\n",
    "    \n",
    "    rougher_tree = cross_val_score(model, features_train_rough, target_train_final, scoring=scorer, cv=5)\n",
    "    final_tree = cross_val_score(model, features_train_final, target_train_final, scoring=scorer, cv=5)\n",
    "    \n",
    "    print('Глубина:',depth)\n",
    "    print('sMAPE:', final_sMAPE(rougher_tree, final_tree).mean())\n",
    "    print()"
   ]
  },
  {
   "cell_type": "markdown",
   "metadata": {},
   "source": [
    "По итогу лучшей моделью оказался RandomForestRegressor с показателем sMAPE - **9.38**."
   ]
  },
  {
   "cell_type": "markdown",
   "metadata": {},
   "source": [
    "#### Лучшая модель"
   ]
  },
  {
   "cell_type": "code",
   "execution_count": 110,
   "metadata": {},
   "outputs": [
    {
     "name": "stdout",
     "output_type": "stream",
     "text": [
      "sMAPE: 9.253286671019488\n"
     ]
    }
   ],
   "source": [
    "model_rough = RandomForestRegressor(random_state=12345, max_depth=5, n_estimators=100)\n",
    "model_final = RandomForestRegressor(random_state=12345, max_depth=5, n_estimators=100)\n",
    "\n",
    "model_rough.fit(features_train_rough, target_train_rough)\n",
    "model_final.fit(features_train_final, target_train_final)\n",
    "\n",
    "test_predictions_rough = model_rough.predict(features_test_rough)\n",
    "test_predictions_final = model_final.predict(features_test_final)\n",
    "\n",
    "print('sMAPE:',final_sMAPE(\n",
    "    sMAPE(target_test_rough, test_predictions_rough), sMAPE(target_test_final, test_predictions_final)))"
   ]
  },
  {
   "cell_type": "markdown",
   "metadata": {},
   "source": [
    "#### Константная модель"
   ]
  },
  {
   "cell_type": "markdown",
   "metadata": {},
   "source": [
    "Для сравнения посмотрим на константную модель."
   ]
  },
  {
   "cell_type": "code",
   "execution_count": 111,
   "metadata": {},
   "outputs": [],
   "source": [
    "base = DummyRegressor(strategy=\"median\")\n",
    "base_final = DummyRegressor(strategy=\"median\")\n",
    "\n",
    "base.fit(features_train_rough, target_train_rough)\n",
    "base_final.fit(features_train_final, target_train_final)\n",
    "\n",
    "base_rougher = base.predict(features_test_rough)\n",
    "base_final_pred = base_final.predict(features_test_final)"
   ]
  },
  {
   "cell_type": "code",
   "execution_count": 115,
   "metadata": {},
   "outputs": [
    {
     "data": {
      "text/plain": [
       "9.438994563642638"
      ]
     },
     "execution_count": 115,
     "metadata": {},
     "output_type": "execute_result"
    }
   ],
   "source": [
    "final_sMAPE(sMAPE(target_test_rough, base_rougher), sMAPE(target_test_final, base_final_pred))"
   ]
  },
  {
   "cell_type": "markdown",
   "metadata": {},
   "source": [
    "#### Промежуточный вывод"
   ]
  },
  {
   "cell_type": "markdown",
   "metadata": {},
   "source": [
    "sMAPE у финальной модели лучше, чем у константной, значит модель вменяема."
   ]
  },
  {
   "cell_type": "markdown",
   "metadata": {},
   "source": [
    "### Вывод"
   ]
  },
  {
   "cell_type": "markdown",
   "metadata": {},
   "source": [
    "- В итоге для финальной модели был выбран **RandomForestRegressor**, как лучший\n",
    "- Финальная ошибка **9.25**, что лучше, чем у константной модели"
   ]
  }
 ],
 "metadata": {
  "ExecuteTimeLog": [
   {
    "duration": 1288,
    "start_time": "2023-04-12T15:47:47.149Z"
   },
   {
    "duration": 54,
    "start_time": "2023-04-13T09:55:05.613Z"
   },
   {
    "duration": 1518,
    "start_time": "2023-04-13T09:55:09.451Z"
   },
   {
    "duration": 135,
    "start_time": "2023-04-13T09:55:10.971Z"
   },
   {
    "duration": 3367,
    "start_time": "2023-04-13T09:55:36.656Z"
   },
   {
    "duration": 29,
    "start_time": "2023-04-13T09:55:45.599Z"
   },
   {
    "duration": 37,
    "start_time": "2023-04-13T09:57:53.410Z"
   },
   {
    "duration": 24,
    "start_time": "2023-04-13T09:59:11.354Z"
   },
   {
    "duration": 4,
    "start_time": "2023-04-13T09:59:25.117Z"
   },
   {
    "duration": 6,
    "start_time": "2023-04-13T09:59:29.540Z"
   },
   {
    "duration": 5,
    "start_time": "2023-04-13T09:59:34.020Z"
   },
   {
    "duration": 46,
    "start_time": "2023-04-16T15:43:09.736Z"
   },
   {
    "duration": 1380,
    "start_time": "2023-04-16T15:43:12.503Z"
   },
   {
    "duration": 2239,
    "start_time": "2023-04-16T15:43:13.885Z"
   },
   {
    "duration": 25,
    "start_time": "2023-04-16T15:44:06.955Z"
   },
   {
    "duration": 34,
    "start_time": "2023-04-16T15:44:27.272Z"
   },
   {
    "duration": 14,
    "start_time": "2023-04-16T15:44:41.608Z"
   },
   {
    "duration": 21,
    "start_time": "2023-04-16T15:44:49.704Z"
   },
   {
    "duration": 3,
    "start_time": "2023-04-16T16:19:30.632Z"
   },
   {
    "duration": 4,
    "start_time": "2023-04-16T16:20:13.353Z"
   },
   {
    "duration": 3,
    "start_time": "2023-04-16T16:22:16.922Z"
   },
   {
    "duration": 242,
    "start_time": "2023-04-16T16:25:17.921Z"
   },
   {
    "duration": 13,
    "start_time": "2023-04-16T16:35:08.230Z"
   },
   {
    "duration": 103,
    "start_time": "2023-04-16T16:35:32.434Z"
   },
   {
    "duration": 21,
    "start_time": "2023-04-16T16:37:32.126Z"
   },
   {
    "duration": 31,
    "start_time": "2023-04-16T16:41:39.077Z"
   },
   {
    "duration": 32,
    "start_time": "2023-04-16T16:42:10.437Z"
   },
   {
    "duration": 21,
    "start_time": "2023-04-16T16:42:21.016Z"
   },
   {
    "duration": 30,
    "start_time": "2023-04-16T16:42:55.104Z"
   },
   {
    "duration": 31,
    "start_time": "2023-04-16T16:44:17.036Z"
   },
   {
    "duration": 44,
    "start_time": "2023-04-16T16:44:31.384Z"
   },
   {
    "duration": 15,
    "start_time": "2023-04-16T16:45:10.808Z"
   },
   {
    "duration": 12,
    "start_time": "2023-04-16T16:45:21.419Z"
   },
   {
    "duration": 4,
    "start_time": "2023-04-16T16:45:32.735Z"
   },
   {
    "duration": 89,
    "start_time": "2023-04-16T16:45:39.426Z"
   },
   {
    "duration": 5,
    "start_time": "2023-04-16T16:46:05.009Z"
   },
   {
    "duration": 9,
    "start_time": "2023-04-16T16:46:08.414Z"
   },
   {
    "duration": 10,
    "start_time": "2023-04-16T16:46:29.128Z"
   },
   {
    "duration": 9,
    "start_time": "2023-04-16T16:46:34.748Z"
   },
   {
    "duration": 13,
    "start_time": "2023-04-16T16:46:48.820Z"
   },
   {
    "duration": 8,
    "start_time": "2023-04-16T16:46:59.422Z"
   },
   {
    "duration": 6,
    "start_time": "2023-04-16T16:47:53.675Z"
   },
   {
    "duration": 18,
    "start_time": "2023-04-16T16:49:26.880Z"
   },
   {
    "duration": 297,
    "start_time": "2023-04-16T16:49:39.946Z"
   },
   {
    "duration": 199,
    "start_time": "2023-04-16T16:49:48.231Z"
   },
   {
    "duration": 170,
    "start_time": "2023-04-16T16:49:54.448Z"
   },
   {
    "duration": 141,
    "start_time": "2023-04-16T16:50:43.074Z"
   },
   {
    "duration": 113,
    "start_time": "2023-04-16T16:51:02.722Z"
   },
   {
    "duration": 3,
    "start_time": "2023-04-16T16:51:38.937Z"
   },
   {
    "duration": 146,
    "start_time": "2023-04-16T16:51:40.716Z"
   },
   {
    "duration": 4,
    "start_time": "2023-04-16T16:51:50.830Z"
   },
   {
    "duration": 272,
    "start_time": "2023-04-16T16:51:53.251Z"
   },
   {
    "duration": 10,
    "start_time": "2023-04-16T16:59:34.158Z"
   },
   {
    "duration": 7,
    "start_time": "2023-04-16T16:59:38.880Z"
   },
   {
    "duration": 13,
    "start_time": "2023-04-16T16:59:40.174Z"
   },
   {
    "duration": 14,
    "start_time": "2023-04-16T16:59:46.236Z"
   },
   {
    "duration": 26,
    "start_time": "2023-04-16T17:00:38.341Z"
   },
   {
    "duration": 136,
    "start_time": "2023-04-16T17:01:42.936Z"
   },
   {
    "duration": 141,
    "start_time": "2023-04-16T17:01:47.372Z"
   },
   {
    "duration": 9,
    "start_time": "2023-04-16T17:01:56.770Z"
   },
   {
    "duration": 16,
    "start_time": "2023-04-16T17:02:09.639Z"
   },
   {
    "duration": 15,
    "start_time": "2023-04-16T17:02:44.621Z"
   },
   {
    "duration": 8,
    "start_time": "2023-04-16T17:02:47.643Z"
   },
   {
    "duration": 15,
    "start_time": "2023-04-16T17:03:54.318Z"
   },
   {
    "duration": 1685,
    "start_time": "2023-04-18T13:56:58.622Z"
   },
   {
    "duration": 2297,
    "start_time": "2023-04-18T13:57:00.309Z"
   },
   {
    "duration": 18,
    "start_time": "2023-04-18T13:57:02.608Z"
   },
   {
    "duration": 22,
    "start_time": "2023-04-18T13:57:02.627Z"
   },
   {
    "duration": 19,
    "start_time": "2023-04-18T13:57:02.651Z"
   },
   {
    "duration": 4,
    "start_time": "2023-04-18T13:57:02.672Z"
   },
   {
    "duration": 14,
    "start_time": "2023-04-18T13:57:02.678Z"
   },
   {
    "duration": 9,
    "start_time": "2023-04-18T13:57:02.693Z"
   },
   {
    "duration": 9,
    "start_time": "2023-04-18T13:59:17.131Z"
   },
   {
    "duration": 242,
    "start_time": "2023-04-18T13:59:28.987Z"
   },
   {
    "duration": 296,
    "start_time": "2023-04-18T13:59:40.612Z"
   },
   {
    "duration": 313,
    "start_time": "2023-04-18T13:59:45.116Z"
   },
   {
    "duration": 600,
    "start_time": "2023-04-18T14:00:02.160Z"
   },
   {
    "duration": 431,
    "start_time": "2023-04-18T14:01:12.802Z"
   },
   {
    "duration": 515,
    "start_time": "2023-04-18T14:01:35.213Z"
   },
   {
    "duration": 613,
    "start_time": "2023-04-18T14:01:43.079Z"
   },
   {
    "duration": 119,
    "start_time": "2023-04-18T14:02:40.184Z"
   },
   {
    "duration": 3,
    "start_time": "2023-04-18T14:03:06.455Z"
   },
   {
    "duration": 558,
    "start_time": "2023-04-18T14:03:11.682Z"
   },
   {
    "duration": 219,
    "start_time": "2023-04-18T14:03:24.534Z"
   },
   {
    "duration": 188,
    "start_time": "2023-04-18T14:03:37.543Z"
   },
   {
    "duration": 216,
    "start_time": "2023-04-18T14:03:41.925Z"
   },
   {
    "duration": 198,
    "start_time": "2023-04-18T14:03:54.096Z"
   },
   {
    "duration": 188,
    "start_time": "2023-04-18T14:04:39.512Z"
   },
   {
    "duration": 834,
    "start_time": "2023-04-18T14:04:46.253Z"
   },
   {
    "duration": 95,
    "start_time": "2023-04-18T14:04:50.925Z"
   },
   {
    "duration": 201,
    "start_time": "2023-04-18T14:04:53.117Z"
   },
   {
    "duration": 241,
    "start_time": "2023-04-18T14:05:07.805Z"
   },
   {
    "duration": 654,
    "start_time": "2023-04-18T14:05:11.523Z"
   },
   {
    "duration": 757,
    "start_time": "2023-04-18T14:05:22.001Z"
   },
   {
    "duration": 709,
    "start_time": "2023-04-18T14:05:30.421Z"
   },
   {
    "duration": 684,
    "start_time": "2023-04-18T14:05:42.387Z"
   },
   {
    "duration": 813,
    "start_time": "2023-04-18T14:06:18.344Z"
   },
   {
    "duration": 728,
    "start_time": "2023-04-18T14:06:25.805Z"
   },
   {
    "duration": 210,
    "start_time": "2023-04-18T14:06:58.522Z"
   },
   {
    "duration": 762,
    "start_time": "2023-04-18T14:07:28.896Z"
   },
   {
    "duration": 545,
    "start_time": "2023-04-18T14:08:42.088Z"
   },
   {
    "duration": 5,
    "start_time": "2023-04-18T14:10:37.390Z"
   },
   {
    "duration": 14,
    "start_time": "2023-04-18T14:10:45.386Z"
   },
   {
    "duration": 10,
    "start_time": "2023-04-18T14:10:49.127Z"
   },
   {
    "duration": 4,
    "start_time": "2023-04-18T14:11:53.091Z"
   },
   {
    "duration": 4,
    "start_time": "2023-04-18T14:13:25.090Z"
   },
   {
    "duration": 4,
    "start_time": "2023-04-18T14:13:30.420Z"
   },
   {
    "duration": 3,
    "start_time": "2023-04-18T14:13:35.096Z"
   },
   {
    "duration": 5,
    "start_time": "2023-04-18T14:13:35.488Z"
   },
   {
    "duration": 6,
    "start_time": "2023-04-18T14:13:42.271Z"
   },
   {
    "duration": 3,
    "start_time": "2023-04-18T14:13:52.012Z"
   },
   {
    "duration": 4,
    "start_time": "2023-04-18T14:13:52.495Z"
   },
   {
    "duration": 9,
    "start_time": "2023-04-18T14:13:57.051Z"
   },
   {
    "duration": 6,
    "start_time": "2023-04-18T14:14:03.630Z"
   },
   {
    "duration": 4,
    "start_time": "2023-04-18T14:14:14.746Z"
   },
   {
    "duration": 3,
    "start_time": "2023-04-18T14:16:09.326Z"
   },
   {
    "duration": 4,
    "start_time": "2023-04-18T14:16:33.958Z"
   },
   {
    "duration": 4,
    "start_time": "2023-04-18T14:17:15.807Z"
   },
   {
    "duration": 4,
    "start_time": "2023-04-18T14:17:41.845Z"
   },
   {
    "duration": 5,
    "start_time": "2023-04-18T14:17:50.781Z"
   },
   {
    "duration": 3,
    "start_time": "2023-04-18T14:18:14.499Z"
   },
   {
    "duration": 4,
    "start_time": "2023-04-18T14:18:31.893Z"
   },
   {
    "duration": 9,
    "start_time": "2023-04-18T14:21:42.651Z"
   },
   {
    "duration": 9,
    "start_time": "2023-04-18T14:21:50.887Z"
   },
   {
    "duration": 3,
    "start_time": "2023-04-18T14:22:00.403Z"
   },
   {
    "duration": 3,
    "start_time": "2023-04-18T14:22:53.140Z"
   },
   {
    "duration": 9,
    "start_time": "2023-04-18T14:23:05.013Z"
   },
   {
    "duration": 7,
    "start_time": "2023-04-18T14:23:10.461Z"
   },
   {
    "duration": 4,
    "start_time": "2023-04-18T14:23:17.008Z"
   },
   {
    "duration": 4,
    "start_time": "2023-04-18T14:27:40.323Z"
   },
   {
    "duration": 4,
    "start_time": "2023-04-18T14:27:41.436Z"
   },
   {
    "duration": 4,
    "start_time": "2023-04-18T14:27:49.726Z"
   },
   {
    "duration": 3,
    "start_time": "2023-04-18T14:28:34.191Z"
   },
   {
    "duration": 3,
    "start_time": "2023-04-18T14:28:43.146Z"
   },
   {
    "duration": 4,
    "start_time": "2023-04-18T14:30:27.438Z"
   },
   {
    "duration": 8,
    "start_time": "2023-04-18T14:30:28.579Z"
   },
   {
    "duration": 4,
    "start_time": "2023-04-18T14:30:31.806Z"
   },
   {
    "duration": 3,
    "start_time": "2023-04-18T14:30:34.249Z"
   },
   {
    "duration": 18,
    "start_time": "2023-04-18T14:32:17.370Z"
   },
   {
    "duration": 4,
    "start_time": "2023-04-18T14:32:29.620Z"
   },
   {
    "duration": 4,
    "start_time": "2023-04-18T14:32:30.218Z"
   },
   {
    "duration": 12,
    "start_time": "2023-04-18T14:32:31.868Z"
   },
   {
    "duration": 4,
    "start_time": "2023-04-18T14:32:34.004Z"
   },
   {
    "duration": 11,
    "start_time": "2023-04-18T14:32:39.507Z"
   },
   {
    "duration": 10,
    "start_time": "2023-04-18T14:32:47.568Z"
   },
   {
    "duration": 4,
    "start_time": "2023-04-18T14:32:48.976Z"
   },
   {
    "duration": 3,
    "start_time": "2023-04-18T14:33:02.513Z"
   },
   {
    "duration": 3,
    "start_time": "2023-04-18T14:33:03.088Z"
   },
   {
    "duration": 4,
    "start_time": "2023-04-18T14:33:18.413Z"
   },
   {
    "duration": 3,
    "start_time": "2023-04-18T14:33:18.988Z"
   },
   {
    "duration": 92,
    "start_time": "2023-04-18T14:33:46.341Z"
   },
   {
    "duration": 88,
    "start_time": "2023-04-18T14:33:52.216Z"
   },
   {
    "duration": 8,
    "start_time": "2023-04-18T14:33:58.044Z"
   },
   {
    "duration": 4,
    "start_time": "2023-04-18T14:34:06.689Z"
   },
   {
    "duration": 4,
    "start_time": "2023-04-18T14:34:18.803Z"
   },
   {
    "duration": 3,
    "start_time": "2023-04-18T14:34:50.136Z"
   },
   {
    "duration": 4,
    "start_time": "2023-04-18T14:34:54.941Z"
   },
   {
    "duration": 5,
    "start_time": "2023-04-18T14:34:55.185Z"
   },
   {
    "duration": 4,
    "start_time": "2023-04-18T15:02:44.534Z"
   },
   {
    "duration": 5,
    "start_time": "2023-04-18T15:02:46.820Z"
   },
   {
    "duration": 11,
    "start_time": "2023-04-18T15:02:57.430Z"
   },
   {
    "duration": 86,
    "start_time": "2023-04-18T15:03:29.725Z"
   },
   {
    "duration": 6,
    "start_time": "2023-04-18T15:03:34.393Z"
   },
   {
    "duration": 4,
    "start_time": "2023-04-18T15:03:35.530Z"
   },
   {
    "duration": 5,
    "start_time": "2023-04-18T15:04:24.328Z"
   },
   {
    "duration": 10,
    "start_time": "2023-04-18T15:04:25.388Z"
   },
   {
    "duration": 32,
    "start_time": "2023-04-18T15:04:51.360Z"
   },
   {
    "duration": 124,
    "start_time": "2023-04-18T15:10:36.139Z"
   },
   {
    "duration": 3,
    "start_time": "2023-04-18T15:10:44.288Z"
   },
   {
    "duration": 4,
    "start_time": "2023-04-18T15:10:44.852Z"
   },
   {
    "duration": 4,
    "start_time": "2023-04-18T15:12:30.523Z"
   },
   {
    "duration": 3,
    "start_time": "2023-04-18T15:21:12.834Z"
   },
   {
    "duration": 3,
    "start_time": "2023-04-18T15:21:16.288Z"
   },
   {
    "duration": 60,
    "start_time": "2023-04-18T18:52:40.153Z"
   },
   {
    "duration": 1698,
    "start_time": "2023-04-18T18:52:47.090Z"
   },
   {
    "duration": 2405,
    "start_time": "2023-04-18T18:52:48.791Z"
   },
   {
    "duration": 26,
    "start_time": "2023-04-18T18:52:51.198Z"
   },
   {
    "duration": 1430,
    "start_time": "2023-04-18T18:53:19.306Z"
   },
   {
    "duration": 6,
    "start_time": "2023-04-18T18:53:27.210Z"
   },
   {
    "duration": 15,
    "start_time": "2023-04-18T18:53:39.411Z"
   },
   {
    "duration": 17,
    "start_time": "2023-04-18T18:54:50.412Z"
   },
   {
    "duration": 15,
    "start_time": "2023-04-18T18:54:57.498Z"
   },
   {
    "duration": 8,
    "start_time": "2023-04-18T18:55:14.106Z"
   },
   {
    "duration": 10,
    "start_time": "2023-04-18T18:55:36.210Z"
   },
   {
    "duration": 41,
    "start_time": "2023-04-18T18:57:36.409Z"
   },
   {
    "duration": 35,
    "start_time": "2023-04-18T18:58:05.314Z"
   },
   {
    "duration": 41,
    "start_time": "2023-04-18T18:58:13.939Z"
   },
   {
    "duration": 838,
    "start_time": "2023-04-18T18:58:35.508Z"
   },
   {
    "duration": 8,
    "start_time": "2023-04-18T18:58:41.910Z"
   },
   {
    "duration": 35,
    "start_time": "2023-04-18T18:58:43.414Z"
   },
   {
    "duration": 1388,
    "start_time": "2023-04-18T18:59:03.113Z"
   },
   {
    "duration": 789,
    "start_time": "2023-04-18T18:59:04.503Z"
   },
   {
    "duration": 24,
    "start_time": "2023-04-18T18:59:05.294Z"
   },
   {
    "duration": 17,
    "start_time": "2023-04-18T18:59:05.319Z"
   },
   {
    "duration": 40,
    "start_time": "2023-04-18T18:59:05.338Z"
   },
   {
    "duration": 21,
    "start_time": "2023-04-18T18:59:05.384Z"
   },
   {
    "duration": 3,
    "start_time": "2023-04-18T18:59:05.406Z"
   },
   {
    "duration": 15,
    "start_time": "2023-04-18T18:59:05.411Z"
   },
   {
    "duration": 17,
    "start_time": "2023-04-18T18:59:05.428Z"
   },
   {
    "duration": 681,
    "start_time": "2023-04-18T18:59:05.447Z"
   },
   {
    "duration": 4,
    "start_time": "2023-04-18T18:59:06.130Z"
   },
   {
    "duration": 9,
    "start_time": "2023-04-18T18:59:06.136Z"
   },
   {
    "duration": 30,
    "start_time": "2023-04-18T18:59:06.147Z"
   },
   {
    "duration": 5,
    "start_time": "2023-04-18T18:59:06.180Z"
   },
   {
    "duration": 21,
    "start_time": "2023-04-18T18:59:06.187Z"
   },
   {
    "duration": 6,
    "start_time": "2023-04-18T18:59:06.211Z"
   },
   {
    "duration": 6,
    "start_time": "2023-04-18T18:59:06.219Z"
   },
   {
    "duration": 6,
    "start_time": "2023-04-18T18:59:06.227Z"
   },
   {
    "duration": 159,
    "start_time": "2023-04-18T18:59:06.234Z"
   },
   {
    "duration": 40,
    "start_time": "2023-04-18T18:59:17.110Z"
   },
   {
    "duration": 1081,
    "start_time": "2023-04-18T18:59:26.553Z"
   },
   {
    "duration": 29,
    "start_time": "2023-04-18T18:59:31.401Z"
   },
   {
    "duration": 42,
    "start_time": "2023-04-18T18:59:37.898Z"
   },
   {
    "duration": 829,
    "start_time": "2023-04-18T18:59:44.042Z"
   },
   {
    "duration": 35,
    "start_time": "2023-04-18T18:59:44.875Z"
   },
   {
    "duration": 22,
    "start_time": "2023-04-18T19:00:17.704Z"
   },
   {
    "duration": 25,
    "start_time": "2023-04-18T19:00:34.014Z"
   },
   {
    "duration": 1628,
    "start_time": "2023-04-18T19:01:14.122Z"
   },
   {
    "duration": 12,
    "start_time": "2023-04-18T19:01:32.238Z"
   },
   {
    "duration": 12,
    "start_time": "2023-04-18T19:01:45.708Z"
   },
   {
    "duration": 262,
    "start_time": "2023-04-18T19:02:27.523Z"
   },
   {
    "duration": 18,
    "start_time": "2023-04-18T19:02:34.180Z"
   },
   {
    "duration": 24,
    "start_time": "2023-04-18T19:04:47.463Z"
   },
   {
    "duration": 28,
    "start_time": "2023-04-18T19:04:54.922Z"
   },
   {
    "duration": 176,
    "start_time": "2023-04-18T19:16:58.038Z"
   },
   {
    "duration": 217,
    "start_time": "2023-04-18T19:17:42.054Z"
   },
   {
    "duration": 33,
    "start_time": "2023-04-18T19:17:52.141Z"
   },
   {
    "duration": 16,
    "start_time": "2023-04-18T19:18:04.028Z"
   },
   {
    "duration": 201,
    "start_time": "2023-04-18T19:18:19.456Z"
   },
   {
    "duration": 16,
    "start_time": "2023-04-18T19:18:19.968Z"
   },
   {
    "duration": 7,
    "start_time": "2023-04-18T19:18:43.772Z"
   },
   {
    "duration": 212,
    "start_time": "2023-04-18T19:18:44.671Z"
   },
   {
    "duration": 9,
    "start_time": "2023-04-18T19:18:45.946Z"
   },
   {
    "duration": 12,
    "start_time": "2023-04-18T19:18:55.357Z"
   },
   {
    "duration": 206,
    "start_time": "2023-04-18T19:18:56.315Z"
   },
   {
    "duration": 15,
    "start_time": "2023-04-18T19:18:56.804Z"
   },
   {
    "duration": 10,
    "start_time": "2023-04-18T19:32:13.901Z"
   },
   {
    "duration": 18,
    "start_time": "2023-04-18T19:32:25.510Z"
   },
   {
    "duration": 13,
    "start_time": "2023-04-18T19:32:26.316Z"
   },
   {
    "duration": 105,
    "start_time": "2023-04-18T19:32:45.637Z"
   },
   {
    "duration": 16,
    "start_time": "2023-04-18T19:32:46.235Z"
   },
   {
    "duration": 176,
    "start_time": "2023-04-18T19:32:58.310Z"
   },
   {
    "duration": 14,
    "start_time": "2023-04-18T19:32:58.723Z"
   },
   {
    "duration": 16,
    "start_time": "2023-04-18T19:33:09.534Z"
   },
   {
    "duration": 14,
    "start_time": "2023-04-18T19:42:07.712Z"
   },
   {
    "duration": 6,
    "start_time": "2023-04-18T19:42:08.013Z"
   },
   {
    "duration": 37,
    "start_time": "2023-04-18T19:42:13.948Z"
   },
   {
    "duration": 1333,
    "start_time": "2023-04-18T19:42:40.004Z"
   },
   {
    "duration": 10,
    "start_time": "2023-04-18T19:42:49.613Z"
   },
   {
    "duration": 15,
    "start_time": "2023-04-18T19:43:00.281Z"
   },
   {
    "duration": 1818,
    "start_time": "2023-04-19T13:46:42.546Z"
   },
   {
    "duration": 2326,
    "start_time": "2023-04-19T13:46:44.368Z"
   },
   {
    "duration": 32,
    "start_time": "2023-04-19T13:46:46.704Z"
   },
   {
    "duration": 22,
    "start_time": "2023-04-19T13:46:46.739Z"
   },
   {
    "duration": 35,
    "start_time": "2023-04-19T13:46:46.763Z"
   },
   {
    "duration": 24,
    "start_time": "2023-04-19T13:46:46.800Z"
   },
   {
    "duration": 5,
    "start_time": "2023-04-19T13:46:46.826Z"
   },
   {
    "duration": 16,
    "start_time": "2023-04-19T13:46:46.833Z"
   },
   {
    "duration": 55,
    "start_time": "2023-04-19T13:46:46.852Z"
   },
   {
    "duration": 626,
    "start_time": "2023-04-19T13:46:46.915Z"
   },
   {
    "duration": 3,
    "start_time": "2023-04-19T13:46:47.543Z"
   },
   {
    "duration": 14,
    "start_time": "2023-04-19T13:46:47.548Z"
   },
   {
    "duration": 10,
    "start_time": "2023-04-19T13:46:47.564Z"
   },
   {
    "duration": 23,
    "start_time": "2023-04-19T13:46:47.577Z"
   },
   {
    "duration": 9,
    "start_time": "2023-04-19T13:46:47.602Z"
   },
   {
    "duration": 6,
    "start_time": "2023-04-19T13:46:47.614Z"
   },
   {
    "duration": 7,
    "start_time": "2023-04-19T13:46:47.621Z"
   },
   {
    "duration": 6,
    "start_time": "2023-04-19T13:46:47.630Z"
   },
   {
    "duration": 16,
    "start_time": "2023-04-19T13:46:47.638Z"
   },
   {
    "duration": 11,
    "start_time": "2023-04-19T13:46:47.656Z"
   },
   {
    "duration": 118,
    "start_time": "2023-04-19T13:46:47.690Z"
   },
   {
    "duration": 207,
    "start_time": "2023-04-19T13:46:47.811Z"
   },
   {
    "duration": 138,
    "start_time": "2023-04-19T13:46:48.020Z"
   },
   {
    "duration": 17,
    "start_time": "2023-04-19T13:47:04.877Z"
   },
   {
    "duration": 70,
    "start_time": "2023-04-19T13:47:15.973Z"
   },
   {
    "duration": 13,
    "start_time": "2023-04-19T14:09:13.758Z"
   },
   {
    "duration": 269,
    "start_time": "2023-04-19T14:10:44.038Z"
   },
   {
    "duration": 262,
    "start_time": "2023-04-19T14:10:50.276Z"
   },
   {
    "duration": 272,
    "start_time": "2023-04-19T14:10:53.978Z"
   },
   {
    "duration": 36,
    "start_time": "2023-04-19T14:12:48.069Z"
   },
   {
    "duration": 237,
    "start_time": "2023-04-19T14:12:55.011Z"
   },
   {
    "duration": 26,
    "start_time": "2023-04-19T14:13:16.934Z"
   },
   {
    "duration": 11,
    "start_time": "2023-04-19T14:15:17.083Z"
   },
   {
    "duration": 135,
    "start_time": "2023-04-19T14:15:23.149Z"
   },
   {
    "duration": 195,
    "start_time": "2023-04-19T14:15:52.015Z"
   },
   {
    "duration": 172,
    "start_time": "2023-04-19T14:16:21.908Z"
   },
   {
    "duration": 146,
    "start_time": "2023-04-19T14:17:00.512Z"
   },
   {
    "duration": 19,
    "start_time": "2023-04-19T14:17:09.443Z"
   },
   {
    "duration": 12,
    "start_time": "2023-04-19T14:17:13.209Z"
   },
   {
    "duration": 20,
    "start_time": "2023-04-19T14:17:18.255Z"
   },
   {
    "duration": 16,
    "start_time": "2023-04-19T14:18:16.588Z"
   },
   {
    "duration": 281,
    "start_time": "2023-04-19T14:18:23.654Z"
   },
   {
    "duration": 13,
    "start_time": "2023-04-19T14:18:52.683Z"
   },
   {
    "duration": 14,
    "start_time": "2023-04-19T14:20:54.390Z"
   },
   {
    "duration": 13,
    "start_time": "2023-04-19T14:20:58.804Z"
   },
   {
    "duration": 19,
    "start_time": "2023-04-19T14:23:35.789Z"
   },
   {
    "duration": 5,
    "start_time": "2023-04-19T14:23:45.712Z"
   },
   {
    "duration": 22,
    "start_time": "2023-04-19T14:24:02.950Z"
   },
   {
    "duration": 22,
    "start_time": "2023-04-19T14:24:10.573Z"
   },
   {
    "duration": 18,
    "start_time": "2023-04-19T14:24:24.384Z"
   },
   {
    "duration": 78,
    "start_time": "2023-04-19T14:25:27.045Z"
   },
   {
    "duration": 424,
    "start_time": "2023-04-19T14:25:41.271Z"
   },
   {
    "duration": 440,
    "start_time": "2023-04-19T14:26:05.469Z"
   },
   {
    "duration": 413,
    "start_time": "2023-04-19T14:26:55.578Z"
   },
   {
    "duration": 136,
    "start_time": "2023-04-19T14:28:45.182Z"
   },
   {
    "duration": 133,
    "start_time": "2023-04-19T14:28:50.510Z"
   },
   {
    "duration": 414,
    "start_time": "2023-04-19T14:29:36.377Z"
   },
   {
    "duration": 405,
    "start_time": "2023-04-19T14:29:50.236Z"
   },
   {
    "duration": 410,
    "start_time": "2023-04-19T14:31:43.773Z"
   },
   {
    "duration": 436,
    "start_time": "2023-04-19T14:31:53.727Z"
   },
   {
    "duration": 426,
    "start_time": "2023-04-19T14:32:31.393Z"
   },
   {
    "duration": 4,
    "start_time": "2023-04-19T14:35:55.826Z"
   },
   {
    "duration": 399,
    "start_time": "2023-04-19T14:36:23.154Z"
   },
   {
    "duration": 1635,
    "start_time": "2023-04-19T14:36:50.988Z"
   },
   {
    "duration": 4,
    "start_time": "2023-04-19T14:37:58.075Z"
   },
   {
    "duration": 4,
    "start_time": "2023-04-19T14:38:01.775Z"
   },
   {
    "duration": 1557,
    "start_time": "2023-04-19T14:38:02.342Z"
   },
   {
    "duration": 5,
    "start_time": "2023-04-19T14:38:08.160Z"
   },
   {
    "duration": 1649,
    "start_time": "2023-04-19T14:38:08.507Z"
   },
   {
    "duration": 4,
    "start_time": "2023-04-19T14:38:15.245Z"
   },
   {
    "duration": 1516,
    "start_time": "2023-04-19T14:38:15.552Z"
   },
   {
    "duration": 4,
    "start_time": "2023-04-19T14:38:43.618Z"
   },
   {
    "duration": 1520,
    "start_time": "2023-04-19T14:38:44.737Z"
   },
   {
    "duration": 4,
    "start_time": "2023-04-19T14:38:53.629Z"
   },
   {
    "duration": 1546,
    "start_time": "2023-04-19T14:38:53.882Z"
   },
   {
    "duration": 6,
    "start_time": "2023-04-19T14:39:52.488Z"
   },
   {
    "duration": 1654,
    "start_time": "2023-04-19T14:39:52.801Z"
   },
   {
    "duration": 6,
    "start_time": "2023-04-19T14:40:48.790Z"
   },
   {
    "duration": 1685,
    "start_time": "2023-04-19T14:40:49.047Z"
   },
   {
    "duration": 1776,
    "start_time": "2023-04-19T14:41:49.277Z"
   },
   {
    "duration": 11,
    "start_time": "2023-04-19T14:41:51.056Z"
   },
   {
    "duration": 1946,
    "start_time": "2023-04-19T14:44:01.776Z"
   },
   {
    "duration": 6,
    "start_time": "2023-04-19T14:44:12.758Z"
   },
   {
    "duration": 1643,
    "start_time": "2023-04-19T14:44:13.183Z"
   },
   {
    "duration": 1594,
    "start_time": "2023-04-19T14:44:33.882Z"
   },
   {
    "duration": 403,
    "start_time": "2023-04-19T14:44:47.009Z"
   },
   {
    "duration": 442,
    "start_time": "2023-04-19T14:44:57.705Z"
   },
   {
    "duration": 452,
    "start_time": "2023-04-19T14:45:54.089Z"
   },
   {
    "duration": 417,
    "start_time": "2023-04-19T14:46:10.653Z"
   },
   {
    "duration": 6,
    "start_time": "2023-04-19T14:47:53.584Z"
   },
   {
    "duration": 442,
    "start_time": "2023-04-19T14:47:54.002Z"
   },
   {
    "duration": 448,
    "start_time": "2023-04-19T14:48:02.753Z"
   },
   {
    "duration": 450,
    "start_time": "2023-04-19T14:48:20.955Z"
   },
   {
    "duration": 397,
    "start_time": "2023-04-19T14:49:10.810Z"
   },
   {
    "duration": 400,
    "start_time": "2023-04-19T14:49:58.840Z"
   },
   {
    "duration": 546,
    "start_time": "2023-04-19T14:55:31.442Z"
   },
   {
    "duration": 821,
    "start_time": "2023-04-19T14:55:59.510Z"
   },
   {
    "duration": 681,
    "start_time": "2023-04-19T14:56:30.393Z"
   },
   {
    "duration": 213,
    "start_time": "2023-04-19T14:58:03.116Z"
   },
   {
    "duration": 230,
    "start_time": "2023-04-19T14:58:12.282Z"
   },
   {
    "duration": 1165,
    "start_time": "2023-04-19T14:58:14.830Z"
   },
   {
    "duration": 1048,
    "start_time": "2023-04-19T14:58:24.982Z"
   },
   {
    "duration": 1151,
    "start_time": "2023-04-19T14:59:27.723Z"
   },
   {
    "duration": 1067,
    "start_time": "2023-04-19T14:59:58.849Z"
   },
   {
    "duration": 816,
    "start_time": "2023-04-19T15:00:10.493Z"
   },
   {
    "duration": 1970,
    "start_time": "2023-04-19T15:00:38.238Z"
   },
   {
    "duration": 1911,
    "start_time": "2023-04-19T15:01:24.928Z"
   },
   {
    "duration": 2061,
    "start_time": "2023-04-19T15:02:13.559Z"
   },
   {
    "duration": 439,
    "start_time": "2023-04-19T15:03:05.147Z"
   },
   {
    "duration": 425,
    "start_time": "2023-04-19T15:03:13.481Z"
   },
   {
    "duration": 391,
    "start_time": "2023-04-19T15:03:27.801Z"
   },
   {
    "duration": 22,
    "start_time": "2023-04-19T15:05:07.684Z"
   },
   {
    "duration": 10,
    "start_time": "2023-04-19T15:05:13.157Z"
   },
   {
    "duration": 399,
    "start_time": "2023-04-19T15:05:20.816Z"
   },
   {
    "duration": 460,
    "start_time": "2023-04-19T15:05:34.935Z"
   },
   {
    "duration": 594,
    "start_time": "2023-04-19T15:07:07.109Z"
   },
   {
    "duration": 692,
    "start_time": "2023-04-19T15:07:59.340Z"
   },
   {
    "duration": 433,
    "start_time": "2023-04-19T15:08:10.708Z"
   },
   {
    "duration": 441,
    "start_time": "2023-04-19T15:08:17.832Z"
   },
   {
    "duration": 579,
    "start_time": "2023-04-19T15:08:47.585Z"
   },
   {
    "duration": 447,
    "start_time": "2023-04-19T15:08:53.212Z"
   },
   {
    "duration": 521,
    "start_time": "2023-04-19T15:09:00.816Z"
   },
   {
    "duration": 537,
    "start_time": "2023-04-19T15:09:05.501Z"
   },
   {
    "duration": 428,
    "start_time": "2023-04-19T15:10:05.815Z"
   },
   {
    "duration": 514,
    "start_time": "2023-04-19T15:10:11.613Z"
   },
   {
    "duration": 534,
    "start_time": "2023-04-19T15:10:16.616Z"
   },
   {
    "duration": 517,
    "start_time": "2023-04-19T15:12:48.811Z"
   },
   {
    "duration": 507,
    "start_time": "2023-04-19T15:22:15.057Z"
   },
   {
    "duration": 542,
    "start_time": "2023-04-19T15:24:44.061Z"
   },
   {
    "duration": 708,
    "start_time": "2023-04-19T15:24:48.792Z"
   },
   {
    "duration": 6,
    "start_time": "2023-04-19T15:25:16.105Z"
   },
   {
    "duration": 1668,
    "start_time": "2023-04-19T15:25:28.050Z"
   },
   {
    "duration": 905,
    "start_time": "2023-04-19T15:25:29.720Z"
   },
   {
    "duration": 40,
    "start_time": "2023-04-19T15:25:30.630Z"
   },
   {
    "duration": 34,
    "start_time": "2023-04-19T15:25:30.673Z"
   },
   {
    "duration": 28,
    "start_time": "2023-04-19T15:25:30.710Z"
   },
   {
    "duration": 113,
    "start_time": "2023-04-19T15:25:30.740Z"
   },
   {
    "duration": 26,
    "start_time": "2023-04-19T15:25:30.857Z"
   },
   {
    "duration": 41,
    "start_time": "2023-04-19T15:25:30.886Z"
   },
   {
    "duration": 39,
    "start_time": "2023-04-19T15:25:30.931Z"
   },
   {
    "duration": 738,
    "start_time": "2023-04-19T15:25:30.973Z"
   },
   {
    "duration": 4,
    "start_time": "2023-04-19T15:25:31.713Z"
   },
   {
    "duration": 38,
    "start_time": "2023-04-19T15:25:31.718Z"
   },
   {
    "duration": 19,
    "start_time": "2023-04-19T15:25:31.759Z"
   },
   {
    "duration": 28,
    "start_time": "2023-04-19T15:25:31.782Z"
   },
   {
    "duration": 26,
    "start_time": "2023-04-19T15:25:31.812Z"
   },
   {
    "duration": 18,
    "start_time": "2023-04-19T15:25:31.841Z"
   },
   {
    "duration": 12,
    "start_time": "2023-04-19T15:25:31.861Z"
   },
   {
    "duration": 20,
    "start_time": "2023-04-19T15:25:31.875Z"
   },
   {
    "duration": 25,
    "start_time": "2023-04-19T15:25:31.900Z"
   },
   {
    "duration": 11,
    "start_time": "2023-04-19T15:25:31.927Z"
   },
   {
    "duration": 111,
    "start_time": "2023-04-19T15:25:31.941Z"
   },
   {
    "duration": 195,
    "start_time": "2023-04-19T15:25:32.055Z"
   },
   {
    "duration": 57,
    "start_time": "2023-04-19T15:25:32.252Z"
   },
   {
    "duration": 5,
    "start_time": "2023-04-19T15:25:32.311Z"
   },
   {
    "duration": 420,
    "start_time": "2023-04-19T15:25:32.318Z"
   },
   {
    "duration": 428,
    "start_time": "2023-04-19T15:25:32.740Z"
   },
   {
    "duration": 456,
    "start_time": "2023-04-19T15:25:33.170Z"
   },
   {
    "duration": 512,
    "start_time": "2023-04-19T15:25:33.629Z"
   },
   {
    "duration": 546,
    "start_time": "2023-04-19T15:25:34.144Z"
   },
   {
    "duration": 677,
    "start_time": "2023-04-19T15:26:44.403Z"
   },
   {
    "duration": 539,
    "start_time": "2023-04-19T15:28:45.077Z"
   },
   {
    "duration": 645,
    "start_time": "2023-04-19T15:29:28.956Z"
   },
   {
    "duration": 78,
    "start_time": "2023-04-19T15:30:13.493Z"
   },
   {
    "duration": 631,
    "start_time": "2023-04-19T15:30:19.602Z"
   },
   {
    "duration": 401,
    "start_time": "2023-04-19T15:30:23.480Z"
   },
   {
    "duration": 8,
    "start_time": "2023-04-19T15:31:18.605Z"
   },
   {
    "duration": 1345,
    "start_time": "2023-04-19T15:31:33.702Z"
   },
   {
    "duration": 643,
    "start_time": "2023-04-19T15:31:45.205Z"
   },
   {
    "duration": 715,
    "start_time": "2023-04-19T15:32:15.629Z"
   },
   {
    "duration": 4,
    "start_time": "2023-04-19T16:06:28.790Z"
   },
   {
    "duration": 735,
    "start_time": "2023-04-19T16:07:06.803Z"
   },
   {
    "duration": 742,
    "start_time": "2023-04-19T16:07:26.158Z"
   },
   {
    "duration": 80,
    "start_time": "2023-04-19T16:08:03.597Z"
   },
   {
    "duration": 768,
    "start_time": "2023-04-19T16:08:32.897Z"
   },
   {
    "duration": 741,
    "start_time": "2023-04-19T16:08:56.020Z"
   },
   {
    "duration": 826,
    "start_time": "2023-04-19T16:09:06.987Z"
   },
   {
    "duration": 794,
    "start_time": "2023-04-19T16:09:20.652Z"
   },
   {
    "duration": 929,
    "start_time": "2023-04-19T16:09:26.597Z"
   },
   {
    "duration": 449,
    "start_time": "2023-04-19T16:09:34.270Z"
   },
   {
    "duration": 762,
    "start_time": "2023-04-19T16:09:41.324Z"
   },
   {
    "duration": 935,
    "start_time": "2023-04-19T16:10:26.812Z"
   },
   {
    "duration": 819,
    "start_time": "2023-04-19T16:10:36.403Z"
   },
   {
    "duration": 630,
    "start_time": "2023-04-19T16:10:44.120Z"
   },
   {
    "duration": 841,
    "start_time": "2023-04-19T16:10:52.130Z"
   },
   {
    "duration": 735,
    "start_time": "2023-04-19T16:10:56.143Z"
   },
   {
    "duration": 767,
    "start_time": "2023-04-19T16:11:11.411Z"
   },
   {
    "duration": 432,
    "start_time": "2023-04-19T16:12:03.554Z"
   },
   {
    "duration": 712,
    "start_time": "2023-04-19T16:12:58.545Z"
   },
   {
    "duration": 751,
    "start_time": "2023-04-19T16:13:04.016Z"
   },
   {
    "duration": 767,
    "start_time": "2023-04-19T16:13:28.093Z"
   },
   {
    "duration": 751,
    "start_time": "2023-04-19T16:13:40.407Z"
   },
   {
    "duration": 791,
    "start_time": "2023-04-19T16:13:52.467Z"
   },
   {
    "duration": 726,
    "start_time": "2023-04-19T16:13:57.858Z"
   },
   {
    "duration": 752,
    "start_time": "2023-04-19T16:14:04.690Z"
   },
   {
    "duration": 650,
    "start_time": "2023-04-19T16:28:24.876Z"
   },
   {
    "duration": 8,
    "start_time": "2023-04-19T16:33:09.414Z"
   },
   {
    "duration": 15,
    "start_time": "2023-04-19T16:33:09.714Z"
   },
   {
    "duration": 6,
    "start_time": "2023-04-19T16:33:10.046Z"
   },
   {
    "duration": 6,
    "start_time": "2023-04-19T16:33:16.153Z"
   },
   {
    "duration": 1530,
    "start_time": "2023-04-19T16:34:31.286Z"
   },
   {
    "duration": 20,
    "start_time": "2023-04-19T16:35:22.189Z"
   },
   {
    "duration": 26,
    "start_time": "2023-04-19T16:35:39.485Z"
   },
   {
    "duration": 17,
    "start_time": "2023-04-19T16:36:12.597Z"
   },
   {
    "duration": 19,
    "start_time": "2023-04-19T16:36:22.058Z"
   },
   {
    "duration": 12,
    "start_time": "2023-04-19T16:36:26.320Z"
   },
   {
    "duration": 6,
    "start_time": "2023-04-19T16:36:31.644Z"
   },
   {
    "duration": 6,
    "start_time": "2023-04-19T16:36:32.010Z"
   },
   {
    "duration": 6,
    "start_time": "2023-04-19T16:36:32.389Z"
   },
   {
    "duration": 12,
    "start_time": "2023-04-19T16:36:32.929Z"
   },
   {
    "duration": 12,
    "start_time": "2023-04-19T16:36:38.593Z"
   },
   {
    "duration": 18,
    "start_time": "2023-04-19T16:37:39.311Z"
   },
   {
    "duration": 20,
    "start_time": "2023-04-19T16:38:03.286Z"
   },
   {
    "duration": 588,
    "start_time": "2023-04-19T16:38:28.859Z"
   },
   {
    "duration": 134,
    "start_time": "2023-04-19T16:38:37.733Z"
   },
   {
    "duration": 631,
    "start_time": "2023-04-19T16:38:41.298Z"
   },
   {
    "duration": 3139,
    "start_time": "2023-04-19T16:39:00.151Z"
   },
   {
    "duration": 1297,
    "start_time": "2023-04-19T16:39:22.548Z"
   },
   {
    "duration": 11,
    "start_time": "2023-04-19T16:39:47.132Z"
   },
   {
    "duration": 1230,
    "start_time": "2023-04-19T16:39:49.329Z"
   },
   {
    "duration": 587,
    "start_time": "2023-04-19T16:39:56.343Z"
   },
   {
    "duration": 1950,
    "start_time": "2023-04-19T16:40:54.268Z"
   },
   {
    "duration": 1715,
    "start_time": "2023-04-19T16:41:03.951Z"
   },
   {
    "duration": 1687,
    "start_time": "2023-04-19T16:41:12.747Z"
   },
   {
    "duration": 1862,
    "start_time": "2023-04-19T16:42:51.751Z"
   },
   {
    "duration": 1735,
    "start_time": "2023-04-19T16:43:13.730Z"
   },
   {
    "duration": 1746,
    "start_time": "2023-04-19T16:43:45.389Z"
   },
   {
    "duration": 1881,
    "start_time": "2023-04-19T16:44:25.952Z"
   },
   {
    "duration": 1752,
    "start_time": "2023-04-19T16:45:32.602Z"
   },
   {
    "duration": 1733,
    "start_time": "2023-04-19T16:45:44.084Z"
   },
   {
    "duration": 1893,
    "start_time": "2023-04-19T16:45:51.357Z"
   },
   {
    "duration": 1772,
    "start_time": "2023-04-19T16:46:08.294Z"
   },
   {
    "duration": 1875,
    "start_time": "2023-04-19T16:46:16.218Z"
   },
   {
    "duration": 1755,
    "start_time": "2023-04-19T16:46:24.008Z"
   },
   {
    "duration": 1812,
    "start_time": "2023-04-19T16:57:11.008Z"
   },
   {
    "duration": 1762,
    "start_time": "2023-04-19T16:57:25.730Z"
   },
   {
    "duration": 1865,
    "start_time": "2023-04-19T16:58:02.979Z"
   },
   {
    "duration": 1814,
    "start_time": "2023-04-19T16:58:11.353Z"
   },
   {
    "duration": 2010,
    "start_time": "2023-04-19T16:58:20.800Z"
   },
   {
    "duration": 1863,
    "start_time": "2023-04-19T16:59:08.778Z"
   },
   {
    "duration": 694,
    "start_time": "2023-04-19T17:01:13.786Z"
   },
   {
    "duration": 10,
    "start_time": "2023-04-19T17:01:40.613Z"
   },
   {
    "duration": 10,
    "start_time": "2023-04-19T17:01:40.892Z"
   },
   {
    "duration": 395,
    "start_time": "2023-04-19T17:03:45.518Z"
   },
   {
    "duration": 316,
    "start_time": "2023-04-19T17:04:28.182Z"
   },
   {
    "duration": 1871,
    "start_time": "2023-04-19T17:04:48.384Z"
   },
   {
    "duration": 601,
    "start_time": "2023-04-19T17:05:12.887Z"
   },
   {
    "duration": 618,
    "start_time": "2023-04-19T17:05:52.164Z"
   },
   {
    "duration": 11,
    "start_time": "2023-04-19T17:07:49.148Z"
   },
   {
    "duration": 13,
    "start_time": "2023-04-19T17:08:04.088Z"
   },
   {
    "duration": 7,
    "start_time": "2023-04-19T17:30:08.541Z"
   },
   {
    "duration": 680,
    "start_time": "2023-04-19T17:30:08.762Z"
   },
   {
    "duration": 812,
    "start_time": "2023-04-19T17:30:14.399Z"
   },
   {
    "duration": 736,
    "start_time": "2023-04-19T17:30:20.487Z"
   },
   {
    "duration": 666,
    "start_time": "2023-04-19T17:30:28.803Z"
   },
   {
    "duration": 831,
    "start_time": "2023-04-19T17:30:34.965Z"
   },
   {
    "duration": 674,
    "start_time": "2023-04-19T17:30:43.569Z"
   },
   {
    "duration": 657,
    "start_time": "2023-04-19T17:30:53.046Z"
   },
   {
    "duration": 7,
    "start_time": "2023-04-19T17:32:35.898Z"
   },
   {
    "duration": 825,
    "start_time": "2023-04-19T17:32:36.146Z"
   },
   {
    "duration": 15,
    "start_time": "2023-04-19T17:32:36.974Z"
   },
   {
    "duration": 641,
    "start_time": "2023-04-19T17:32:36.991Z"
   },
   {
    "duration": 681,
    "start_time": "2023-04-19T17:32:53.645Z"
   },
   {
    "duration": 854,
    "start_time": "2023-04-19T17:32:57.773Z"
   },
   {
    "duration": 6,
    "start_time": "2023-04-19T17:33:00.392Z"
   },
   {
    "duration": 645,
    "start_time": "2023-04-19T17:33:09.625Z"
   },
   {
    "duration": 648,
    "start_time": "2023-04-19T17:33:12.340Z"
   },
   {
    "duration": 7,
    "start_time": "2023-04-19T17:34:22.699Z"
   },
   {
    "duration": 936,
    "start_time": "2023-04-19T17:34:23.371Z"
   },
   {
    "duration": 366,
    "start_time": "2023-04-19T17:35:46.982Z"
   },
   {
    "duration": 315,
    "start_time": "2023-04-19T17:35:53.483Z"
   },
   {
    "duration": 359,
    "start_time": "2023-04-19T17:36:02.474Z"
   },
   {
    "duration": 15,
    "start_time": "2023-04-19T17:38:06.469Z"
   },
   {
    "duration": 321,
    "start_time": "2023-04-19T17:38:06.994Z"
   },
   {
    "duration": 6,
    "start_time": "2023-04-19T17:38:16.523Z"
   },
   {
    "duration": 309,
    "start_time": "2023-04-19T17:38:17.097Z"
   },
   {
    "duration": 14,
    "start_time": "2023-04-19T17:38:22.115Z"
   },
   {
    "duration": 309,
    "start_time": "2023-04-19T17:38:22.333Z"
   },
   {
    "duration": 5,
    "start_time": "2023-04-19T17:39:19.177Z"
   },
   {
    "duration": 7,
    "start_time": "2023-04-19T17:39:36.696Z"
   },
   {
    "duration": 472,
    "start_time": "2023-04-19T17:39:38.095Z"
   },
   {
    "duration": 17,
    "start_time": "2023-04-19T17:39:45.526Z"
   },
   {
    "duration": 352,
    "start_time": "2023-04-19T17:39:45.710Z"
   },
   {
    "duration": 9,
    "start_time": "2023-04-19T17:39:51.647Z"
   },
   {
    "duration": 9,
    "start_time": "2023-04-19T17:39:59.206Z"
   },
   {
    "duration": 346,
    "start_time": "2023-04-19T17:39:59.665Z"
   },
   {
    "duration": 6,
    "start_time": "2023-04-19T17:40:23.285Z"
   },
   {
    "duration": 312,
    "start_time": "2023-04-19T17:42:16.134Z"
   },
   {
    "duration": 676,
    "start_time": "2023-04-19T17:42:17.156Z"
   },
   {
    "duration": 6,
    "start_time": "2023-04-19T17:43:13.574Z"
   },
   {
    "duration": 6,
    "start_time": "2023-04-19T17:43:27.378Z"
   },
   {
    "duration": 7,
    "start_time": "2023-04-19T17:43:43.367Z"
   },
   {
    "duration": 5,
    "start_time": "2023-04-19T17:43:51.177Z"
   },
   {
    "duration": 15,
    "start_time": "2023-04-19T17:44:07.585Z"
   },
   {
    "duration": 6,
    "start_time": "2023-04-19T17:44:15.471Z"
   },
   {
    "duration": 6,
    "start_time": "2023-04-19T17:44:20.417Z"
   },
   {
    "duration": 5,
    "start_time": "2023-04-19T17:44:22.163Z"
   },
   {
    "duration": 7,
    "start_time": "2023-04-19T17:46:15.732Z"
   },
   {
    "duration": 6,
    "start_time": "2023-04-19T17:48:30.389Z"
   },
   {
    "duration": 6,
    "start_time": "2023-04-19T17:48:33.496Z"
   },
   {
    "duration": 5,
    "start_time": "2023-04-19T17:48:36.281Z"
   },
   {
    "duration": 5,
    "start_time": "2023-04-19T17:51:54.397Z"
   },
   {
    "duration": 12,
    "start_time": "2023-04-19T17:51:57.725Z"
   },
   {
    "duration": 8,
    "start_time": "2023-04-19T17:52:01.630Z"
   },
   {
    "duration": 29,
    "start_time": "2023-04-19T17:52:06.564Z"
   },
   {
    "duration": 5,
    "start_time": "2023-04-19T17:53:07.925Z"
   },
   {
    "duration": 4,
    "start_time": "2023-04-19T17:53:17.277Z"
   },
   {
    "duration": 5,
    "start_time": "2023-04-19T17:53:27.847Z"
   },
   {
    "duration": 9,
    "start_time": "2023-04-19T17:54:06.439Z"
   },
   {
    "duration": 7,
    "start_time": "2023-04-19T17:54:13.867Z"
   },
   {
    "duration": 18,
    "start_time": "2023-04-19T17:56:35.270Z"
   },
   {
    "duration": 11,
    "start_time": "2023-04-19T17:56:43.870Z"
   },
   {
    "duration": 11,
    "start_time": "2023-04-19T17:56:50.427Z"
   },
   {
    "duration": 18,
    "start_time": "2023-04-19T17:56:53.392Z"
   },
   {
    "duration": 9,
    "start_time": "2023-04-19T17:57:12.105Z"
   },
   {
    "duration": 37,
    "start_time": "2023-04-19T17:57:30.389Z"
   },
   {
    "duration": 20,
    "start_time": "2023-04-19T17:57:41.652Z"
   },
   {
    "duration": 18,
    "start_time": "2023-04-19T17:57:49.434Z"
   },
   {
    "duration": 17,
    "start_time": "2023-04-19T17:57:52.474Z"
   },
   {
    "duration": 32,
    "start_time": "2023-04-19T17:59:02.583Z"
   },
   {
    "duration": 16,
    "start_time": "2023-04-19T17:59:23.106Z"
   },
   {
    "duration": 6,
    "start_time": "2023-04-19T18:00:14.407Z"
   },
   {
    "duration": 13,
    "start_time": "2023-04-19T18:01:51.073Z"
   },
   {
    "duration": 10,
    "start_time": "2023-04-19T18:01:59.628Z"
   },
   {
    "duration": 11,
    "start_time": "2023-04-19T18:02:19.084Z"
   },
   {
    "duration": 13,
    "start_time": "2023-04-19T18:03:16.569Z"
   },
   {
    "duration": 317,
    "start_time": "2023-04-19T18:03:42.080Z"
   },
   {
    "duration": 314,
    "start_time": "2023-04-19T18:03:54.500Z"
   },
   {
    "duration": 305,
    "start_time": "2023-04-19T18:04:13.309Z"
   },
   {
    "duration": 326,
    "start_time": "2023-04-19T18:04:27.849Z"
   },
   {
    "duration": 13,
    "start_time": "2023-04-19T18:04:40.884Z"
   },
   {
    "duration": 343,
    "start_time": "2023-04-19T18:04:41.424Z"
   },
   {
    "duration": 305,
    "start_time": "2023-04-19T18:04:52.024Z"
   },
   {
    "duration": 44,
    "start_time": "2023-04-19T18:05:08.038Z"
   },
   {
    "duration": 17,
    "start_time": "2023-04-19T18:06:16.904Z"
   },
   {
    "duration": 11,
    "start_time": "2023-04-19T18:06:25.346Z"
   },
   {
    "duration": 42,
    "start_time": "2023-04-19T18:06:27.512Z"
   },
   {
    "duration": 13,
    "start_time": "2023-04-19T18:06:31.078Z"
   },
   {
    "duration": 324,
    "start_time": "2023-04-19T18:06:31.569Z"
   },
   {
    "duration": 21,
    "start_time": "2023-04-19T18:06:40.913Z"
   },
   {
    "duration": 309,
    "start_time": "2023-04-19T18:06:41.597Z"
   },
   {
    "duration": 306,
    "start_time": "2023-04-19T18:06:52.069Z"
   },
   {
    "duration": 10,
    "start_time": "2023-04-19T18:07:03.608Z"
   },
   {
    "duration": 11,
    "start_time": "2023-04-19T18:07:08.234Z"
   },
   {
    "duration": 20,
    "start_time": "2023-04-19T18:07:14.886Z"
   },
   {
    "duration": 303,
    "start_time": "2023-04-19T18:07:15.908Z"
   },
   {
    "duration": 10,
    "start_time": "2023-04-19T18:07:18.860Z"
   },
   {
    "duration": 21,
    "start_time": "2023-04-19T18:07:20.018Z"
   },
   {
    "duration": 726,
    "start_time": "2023-04-19T18:07:20.586Z"
   },
   {
    "duration": 13,
    "start_time": "2023-04-19T18:07:22.652Z"
   },
   {
    "duration": 13,
    "start_time": "2023-04-19T18:07:24.584Z"
   },
   {
    "duration": 12,
    "start_time": "2023-04-19T18:07:26.269Z"
   },
   {
    "duration": 13,
    "start_time": "2023-04-19T18:07:26.849Z"
   },
   {
    "duration": 10,
    "start_time": "2023-04-19T18:07:28.489Z"
   },
   {
    "duration": 13,
    "start_time": "2023-04-19T18:08:23.230Z"
   },
   {
    "duration": 308,
    "start_time": "2023-04-19T18:08:26.033Z"
   },
   {
    "duration": 13,
    "start_time": "2023-04-19T18:08:57.298Z"
   },
   {
    "duration": 328,
    "start_time": "2023-04-19T18:08:58.815Z"
   },
   {
    "duration": 10,
    "start_time": "2023-04-19T18:09:05.530Z"
   },
   {
    "duration": 12,
    "start_time": "2023-04-19T18:09:32.287Z"
   },
   {
    "duration": 1511,
    "start_time": "2023-04-19T18:09:42.753Z"
   },
   {
    "duration": 744,
    "start_time": "2023-04-19T18:09:44.266Z"
   },
   {
    "duration": 27,
    "start_time": "2023-04-19T18:09:45.011Z"
   },
   {
    "duration": 23,
    "start_time": "2023-04-19T18:09:45.041Z"
   },
   {
    "duration": 27,
    "start_time": "2023-04-19T18:09:45.065Z"
   },
   {
    "duration": 26,
    "start_time": "2023-04-19T18:09:45.094Z"
   },
   {
    "duration": 5,
    "start_time": "2023-04-19T18:09:45.122Z"
   },
   {
    "duration": 10,
    "start_time": "2023-04-19T18:09:45.128Z"
   },
   {
    "duration": 9,
    "start_time": "2023-04-19T18:09:45.140Z"
   },
   {
    "duration": 634,
    "start_time": "2023-04-19T18:09:45.189Z"
   },
   {
    "duration": 5,
    "start_time": "2023-04-19T18:09:45.825Z"
   },
   {
    "duration": 7,
    "start_time": "2023-04-19T18:09:45.832Z"
   },
   {
    "duration": 6,
    "start_time": "2023-04-19T18:09:45.841Z"
   },
   {
    "duration": 6,
    "start_time": "2023-04-19T18:09:45.849Z"
   },
   {
    "duration": 33,
    "start_time": "2023-04-19T18:09:45.856Z"
   },
   {
    "duration": 12,
    "start_time": "2023-04-19T18:09:45.891Z"
   },
   {
    "duration": 5,
    "start_time": "2023-04-19T18:09:45.906Z"
   },
   {
    "duration": 6,
    "start_time": "2023-04-19T18:09:45.913Z"
   },
   {
    "duration": 17,
    "start_time": "2023-04-19T18:09:45.922Z"
   },
   {
    "duration": 6,
    "start_time": "2023-04-19T18:09:45.942Z"
   },
   {
    "duration": 46,
    "start_time": "2023-04-19T18:09:45.951Z"
   },
   {
    "duration": 194,
    "start_time": "2023-04-19T18:09:45.999Z"
   },
   {
    "duration": 40,
    "start_time": "2023-04-19T18:09:46.195Z"
   },
   {
    "duration": 5,
    "start_time": "2023-04-19T18:09:46.237Z"
   },
   {
    "duration": 12,
    "start_time": "2023-04-19T18:09:46.244Z"
   },
   {
    "duration": 8,
    "start_time": "2023-04-19T18:09:46.258Z"
   },
   {
    "duration": 1923,
    "start_time": "2023-04-19T18:09:46.267Z"
   },
   {
    "duration": 9,
    "start_time": "2023-04-19T18:09:48.194Z"
   },
   {
    "duration": 8,
    "start_time": "2023-04-19T18:09:48.205Z"
   },
   {
    "duration": 653,
    "start_time": "2023-04-19T18:09:48.215Z"
   },
   {
    "duration": 6,
    "start_time": "2023-04-19T18:09:48.870Z"
   },
   {
    "duration": 424,
    "start_time": "2023-04-19T18:09:48.877Z"
   },
   {
    "duration": 6,
    "start_time": "2023-04-19T18:09:49.303Z"
   },
   {
    "duration": 333,
    "start_time": "2023-04-19T18:09:49.310Z"
   },
   {
    "duration": 7,
    "start_time": "2023-04-19T18:09:49.645Z"
   },
   {
    "duration": 371,
    "start_time": "2023-04-19T18:09:49.654Z"
   },
   {
    "duration": 5,
    "start_time": "2023-04-19T18:09:50.027Z"
   },
   {
    "duration": 11,
    "start_time": "2023-04-19T18:09:50.033Z"
   },
   {
    "duration": 5,
    "start_time": "2023-04-19T18:09:50.046Z"
   },
   {
    "duration": 10,
    "start_time": "2023-04-19T18:09:50.052Z"
   },
   {
    "duration": 35,
    "start_time": "2023-04-19T18:09:50.064Z"
   },
   {
    "duration": 139,
    "start_time": "2023-04-19T18:09:50.101Z"
   },
   {
    "duration": 0,
    "start_time": "2023-04-19T18:09:50.242Z"
   },
   {
    "duration": 0,
    "start_time": "2023-04-19T18:09:50.244Z"
   },
   {
    "duration": 0,
    "start_time": "2023-04-19T18:09:50.246Z"
   },
   {
    "duration": 5,
    "start_time": "2023-04-19T18:10:12.796Z"
   },
   {
    "duration": 6,
    "start_time": "2023-04-19T18:10:13.320Z"
   },
   {
    "duration": 5,
    "start_time": "2023-04-19T18:10:13.717Z"
   },
   {
    "duration": 12,
    "start_time": "2023-04-19T18:10:15.202Z"
   },
   {
    "duration": 16,
    "start_time": "2023-04-19T18:10:16.724Z"
   },
   {
    "duration": 13,
    "start_time": "2023-04-19T18:10:20.406Z"
   },
   {
    "duration": 21,
    "start_time": "2023-04-19T18:10:21.254Z"
   },
   {
    "duration": 12,
    "start_time": "2023-04-19T18:10:32.395Z"
   },
   {
    "duration": 16,
    "start_time": "2023-04-19T18:10:37.638Z"
   },
   {
    "duration": 20,
    "start_time": "2023-04-19T18:10:48.186Z"
   },
   {
    "duration": 14,
    "start_time": "2023-04-19T18:10:51.677Z"
   },
   {
    "duration": 11,
    "start_time": "2023-04-19T18:11:03.275Z"
   },
   {
    "duration": 328,
    "start_time": "2023-04-19T18:11:05.592Z"
   },
   {
    "duration": 1516,
    "start_time": "2023-04-19T18:11:25.432Z"
   },
   {
    "duration": 779,
    "start_time": "2023-04-19T18:11:26.950Z"
   },
   {
    "duration": 27,
    "start_time": "2023-04-19T18:11:27.731Z"
   },
   {
    "duration": 37,
    "start_time": "2023-04-19T18:11:27.761Z"
   },
   {
    "duration": 14,
    "start_time": "2023-04-19T18:11:27.803Z"
   },
   {
    "duration": 20,
    "start_time": "2023-04-19T18:11:27.818Z"
   },
   {
    "duration": 4,
    "start_time": "2023-04-19T18:11:27.840Z"
   },
   {
    "duration": 11,
    "start_time": "2023-04-19T18:11:27.845Z"
   },
   {
    "duration": 37,
    "start_time": "2023-04-19T18:11:27.858Z"
   },
   {
    "duration": 733,
    "start_time": "2023-04-19T18:11:27.896Z"
   },
   {
    "duration": 4,
    "start_time": "2023-04-19T18:11:28.631Z"
   },
   {
    "duration": 6,
    "start_time": "2023-04-19T18:11:28.636Z"
   },
   {
    "duration": 8,
    "start_time": "2023-04-19T18:11:28.643Z"
   },
   {
    "duration": 10,
    "start_time": "2023-04-19T18:11:28.654Z"
   },
   {
    "duration": 3,
    "start_time": "2023-04-19T18:11:28.666Z"
   },
   {
    "duration": 20,
    "start_time": "2023-04-19T18:11:28.671Z"
   },
   {
    "duration": 5,
    "start_time": "2023-04-19T18:11:28.700Z"
   },
   {
    "duration": 5,
    "start_time": "2023-04-19T18:11:28.707Z"
   },
   {
    "duration": 15,
    "start_time": "2023-04-19T18:11:28.713Z"
   },
   {
    "duration": 5,
    "start_time": "2023-04-19T18:11:28.730Z"
   },
   {
    "duration": 25,
    "start_time": "2023-04-19T18:11:28.736Z"
   },
   {
    "duration": 215,
    "start_time": "2023-04-19T18:11:28.763Z"
   },
   {
    "duration": 46,
    "start_time": "2023-04-19T18:11:28.979Z"
   },
   {
    "duration": 5,
    "start_time": "2023-04-19T18:11:29.027Z"
   },
   {
    "duration": 11,
    "start_time": "2023-04-19T18:11:29.034Z"
   },
   {
    "duration": 6,
    "start_time": "2023-04-19T18:11:29.047Z"
   },
   {
    "duration": 2018,
    "start_time": "2023-04-19T18:11:29.055Z"
   },
   {
    "duration": 17,
    "start_time": "2023-04-19T18:11:31.076Z"
   },
   {
    "duration": 28,
    "start_time": "2023-04-19T18:11:31.096Z"
   },
   {
    "duration": 675,
    "start_time": "2023-04-19T18:11:31.126Z"
   },
   {
    "duration": 7,
    "start_time": "2023-04-19T18:11:31.803Z"
   },
   {
    "duration": 464,
    "start_time": "2023-04-19T18:11:31.811Z"
   },
   {
    "duration": 12,
    "start_time": "2023-04-19T18:11:32.277Z"
   },
   {
    "duration": 344,
    "start_time": "2023-04-19T18:11:32.292Z"
   },
   {
    "duration": 6,
    "start_time": "2023-04-19T18:11:32.637Z"
   },
   {
    "duration": 365,
    "start_time": "2023-04-19T18:11:32.644Z"
   },
   {
    "duration": 5,
    "start_time": "2023-04-19T18:11:33.010Z"
   },
   {
    "duration": 5,
    "start_time": "2023-04-19T18:11:33.017Z"
   },
   {
    "duration": 5,
    "start_time": "2023-04-19T18:11:33.024Z"
   },
   {
    "duration": 10,
    "start_time": "2023-04-19T18:11:33.030Z"
   },
   {
    "duration": 46,
    "start_time": "2023-04-19T18:11:33.044Z"
   },
   {
    "duration": 17,
    "start_time": "2023-04-19T18:11:33.092Z"
   },
   {
    "duration": 23,
    "start_time": "2023-04-19T18:11:33.111Z"
   },
   {
    "duration": 12,
    "start_time": "2023-04-19T18:11:33.136Z"
   },
   {
    "duration": 364,
    "start_time": "2023-04-19T18:11:33.149Z"
   },
   {
    "duration": 163,
    "start_time": "2023-04-19T18:11:50.277Z"
   },
   {
    "duration": 1481,
    "start_time": "2023-04-19T18:12:17.397Z"
   },
   {
    "duration": 740,
    "start_time": "2023-04-19T18:12:18.880Z"
   },
   {
    "duration": 27,
    "start_time": "2023-04-19T18:12:19.621Z"
   },
   {
    "duration": 18,
    "start_time": "2023-04-19T18:12:19.651Z"
   },
   {
    "duration": 30,
    "start_time": "2023-04-19T18:12:19.671Z"
   },
   {
    "duration": 20,
    "start_time": "2023-04-19T18:12:19.703Z"
   },
   {
    "duration": 3,
    "start_time": "2023-04-19T18:12:19.725Z"
   },
   {
    "duration": 10,
    "start_time": "2023-04-19T18:12:19.729Z"
   },
   {
    "duration": 22,
    "start_time": "2023-04-19T18:12:19.740Z"
   },
   {
    "duration": 797,
    "start_time": "2023-04-19T18:12:19.765Z"
   },
   {
    "duration": 4,
    "start_time": "2023-04-19T18:12:20.563Z"
   },
   {
    "duration": 6,
    "start_time": "2023-04-19T18:12:20.569Z"
   },
   {
    "duration": 14,
    "start_time": "2023-04-19T18:12:20.577Z"
   },
   {
    "duration": 11,
    "start_time": "2023-04-19T18:12:20.593Z"
   },
   {
    "duration": 31,
    "start_time": "2023-04-19T18:12:20.606Z"
   },
   {
    "duration": 14,
    "start_time": "2023-04-19T18:12:20.639Z"
   },
   {
    "duration": 11,
    "start_time": "2023-04-19T18:12:20.655Z"
   },
   {
    "duration": 11,
    "start_time": "2023-04-19T18:12:20.668Z"
   },
   {
    "duration": 23,
    "start_time": "2023-04-19T18:12:20.680Z"
   },
   {
    "duration": 5,
    "start_time": "2023-04-19T18:12:20.706Z"
   },
   {
    "duration": 12,
    "start_time": "2023-04-19T18:12:20.712Z"
   },
   {
    "duration": 207,
    "start_time": "2023-04-19T18:12:20.726Z"
   },
   {
    "duration": 42,
    "start_time": "2023-04-19T18:12:20.935Z"
   },
   {
    "duration": 15,
    "start_time": "2023-04-19T18:12:20.979Z"
   },
   {
    "duration": 10,
    "start_time": "2023-04-19T18:12:20.996Z"
   },
   {
    "duration": 11,
    "start_time": "2023-04-19T18:12:21.008Z"
   },
   {
    "duration": 1855,
    "start_time": "2023-04-19T18:12:21.021Z"
   },
   {
    "duration": 9,
    "start_time": "2023-04-19T18:12:22.890Z"
   },
   {
    "duration": 8,
    "start_time": "2023-04-19T18:12:22.901Z"
   },
   {
    "duration": 665,
    "start_time": "2023-04-19T18:12:22.911Z"
   },
   {
    "duration": 11,
    "start_time": "2023-04-19T18:12:23.578Z"
   },
   {
    "duration": 433,
    "start_time": "2023-04-19T18:12:23.592Z"
   },
   {
    "duration": 5,
    "start_time": "2023-04-19T18:12:24.028Z"
   },
   {
    "duration": 323,
    "start_time": "2023-04-19T18:12:24.035Z"
   },
   {
    "duration": 5,
    "start_time": "2023-04-19T18:12:24.360Z"
   },
   {
    "duration": 342,
    "start_time": "2023-04-19T18:12:24.366Z"
   },
   {
    "duration": 4,
    "start_time": "2023-04-19T18:12:24.710Z"
   },
   {
    "duration": 20,
    "start_time": "2023-04-19T18:12:24.716Z"
   },
   {
    "duration": 13,
    "start_time": "2023-04-19T18:12:24.738Z"
   },
   {
    "duration": 14,
    "start_time": "2023-04-19T18:12:24.753Z"
   },
   {
    "duration": 17,
    "start_time": "2023-04-19T18:12:24.769Z"
   },
   {
    "duration": 12,
    "start_time": "2023-04-19T18:12:24.789Z"
   },
   {
    "duration": 28,
    "start_time": "2023-04-19T18:12:24.802Z"
   },
   {
    "duration": 10,
    "start_time": "2023-04-19T18:12:24.832Z"
   },
   {
    "duration": 342,
    "start_time": "2023-04-19T18:12:24.843Z"
   },
   {
    "duration": 13,
    "start_time": "2023-04-19T18:13:50.375Z"
   },
   {
    "duration": 10,
    "start_time": "2023-04-19T18:14:07.614Z"
   },
   {
    "duration": 8,
    "start_time": "2023-04-19T18:40:17.426Z"
   },
   {
    "duration": 13,
    "start_time": "2023-04-19T18:40:18.497Z"
   },
   {
    "duration": 118,
    "start_time": "2023-04-19T18:40:58.229Z"
   },
   {
    "duration": 17,
    "start_time": "2023-04-19T18:41:26.322Z"
   },
   {
    "duration": 4,
    "start_time": "2023-04-19T18:41:45.790Z"
   },
   {
    "duration": 6,
    "start_time": "2023-04-19T18:42:10.600Z"
   },
   {
    "duration": 21,
    "start_time": "2023-04-19T18:47:55.025Z"
   },
   {
    "duration": 4,
    "start_time": "2023-04-19T18:51:45.338Z"
   },
   {
    "duration": 3,
    "start_time": "2023-04-19T18:51:45.563Z"
   },
   {
    "duration": 2,
    "start_time": "2023-04-19T18:53:54.410Z"
   },
   {
    "duration": 3,
    "start_time": "2023-04-19T18:55:12.421Z"
   },
   {
    "duration": 13,
    "start_time": "2023-04-19T18:55:12.710Z"
   },
   {
    "duration": 3,
    "start_time": "2023-04-19T18:56:00.469Z"
   },
   {
    "duration": 4,
    "start_time": "2023-04-19T18:56:02.107Z"
   },
   {
    "duration": 3,
    "start_time": "2023-04-19T18:56:02.662Z"
   },
   {
    "duration": 12,
    "start_time": "2023-04-19T18:56:13.656Z"
   },
   {
    "duration": 31,
    "start_time": "2023-04-19T18:56:36.214Z"
   },
   {
    "duration": 10,
    "start_time": "2023-04-19T18:57:23.585Z"
   },
   {
    "duration": 3,
    "start_time": "2023-04-19T18:57:23.927Z"
   },
   {
    "duration": 6,
    "start_time": "2023-04-19T18:58:36.317Z"
   },
   {
    "duration": 11,
    "start_time": "2023-04-19T18:58:42.121Z"
   },
   {
    "duration": 6,
    "start_time": "2023-04-19T18:59:04.290Z"
   },
   {
    "duration": 3,
    "start_time": "2023-04-19T18:59:10.194Z"
   },
   {
    "duration": 3,
    "start_time": "2023-04-19T18:59:10.802Z"
   },
   {
    "duration": 4,
    "start_time": "2023-04-19T18:59:11.294Z"
   },
   {
    "duration": 48618,
    "start_time": "2023-04-19T18:59:12.538Z"
   },
   {
    "duration": 489230,
    "start_time": "2023-04-19T19:00:48.792Z"
   },
   {
    "duration": 11,
    "start_time": "2023-04-19T19:18:01.217Z"
   },
   {
    "duration": 10,
    "start_time": "2023-04-19T19:18:37.582Z"
   },
   {
    "duration": 13,
    "start_time": "2023-04-19T19:19:26.583Z"
   },
   {
    "duration": 4,
    "start_time": "2023-04-19T19:19:42.934Z"
   },
   {
    "duration": 5,
    "start_time": "2023-04-19T19:19:43.200Z"
   },
   {
    "duration": 4,
    "start_time": "2023-04-19T19:20:06.523Z"
   },
   {
    "duration": 4,
    "start_time": "2023-04-19T19:20:16.335Z"
   },
   {
    "duration": 12,
    "start_time": "2023-04-19T19:20:30.593Z"
   },
   {
    "duration": 18,
    "start_time": "2023-04-19T19:21:42.321Z"
   },
   {
    "duration": 12,
    "start_time": "2023-04-19T19:22:16.614Z"
   },
   {
    "duration": 2919,
    "start_time": "2023-04-19T19:23:38.976Z"
   },
   {
    "duration": 3562,
    "start_time": "2023-04-19T19:23:52.827Z"
   },
   {
    "duration": 22655,
    "start_time": "2023-04-19T19:24:19.071Z"
   },
   {
    "duration": 35758,
    "start_time": "2023-04-19T19:25:14.721Z"
   },
   {
    "duration": 2953,
    "start_time": "2023-04-19T19:39:40.337Z"
   },
   {
    "duration": 13,
    "start_time": "2023-04-19T19:42:29.779Z"
   },
   {
    "duration": 358582,
    "start_time": "2023-04-19T19:42:50.219Z"
   },
   {
    "duration": 4,
    "start_time": "2023-04-19T19:54:58.284Z"
   },
   {
    "duration": 10,
    "start_time": "2023-04-19T19:55:19.186Z"
   },
   {
    "duration": 76,
    "start_time": "2023-04-19T19:57:39.383Z"
   },
   {
    "duration": 10,
    "start_time": "2023-04-19T19:57:39.877Z"
   },
   {
    "duration": 5,
    "start_time": "2023-04-19T19:57:48.486Z"
   },
   {
    "duration": 27,
    "start_time": "2023-04-19T19:57:49.037Z"
   },
   {
    "duration": 7,
    "start_time": "2023-04-19T19:59:20.420Z"
   },
   {
    "duration": 28,
    "start_time": "2023-04-19T19:59:20.713Z"
   },
   {
    "duration": 11,
    "start_time": "2023-04-19T20:01:48.231Z"
   },
   {
    "duration": 2623,
    "start_time": "2023-04-19T20:02:06.976Z"
   },
   {
    "duration": 3107,
    "start_time": "2023-04-19T20:02:15.191Z"
   },
   {
    "duration": 2502,
    "start_time": "2023-04-19T20:02:28.597Z"
   },
   {
    "duration": 3194,
    "start_time": "2023-04-19T20:03:03.695Z"
   },
   {
    "duration": 2886,
    "start_time": "2023-04-19T20:03:38.604Z"
   },
   {
    "duration": 11,
    "start_time": "2023-04-19T20:04:07.427Z"
   },
   {
    "duration": 3390,
    "start_time": "2023-04-19T20:05:11.118Z"
   },
   {
    "duration": 3379,
    "start_time": "2023-04-19T20:05:21.313Z"
   },
   {
    "duration": 3,
    "start_time": "2023-04-19T20:08:01.466Z"
   },
   {
    "duration": 3309,
    "start_time": "2023-04-19T20:08:10.102Z"
   },
   {
    "duration": 36258,
    "start_time": "2023-04-19T20:08:42.136Z"
   },
   {
    "duration": 3,
    "start_time": "2023-04-19T20:09:38.295Z"
   },
   {
    "duration": 2996,
    "start_time": "2023-04-19T20:09:43.202Z"
   },
   {
    "duration": 2780,
    "start_time": "2023-04-19T20:10:20.010Z"
   },
   {
    "duration": 35496,
    "start_time": "2023-04-19T20:10:25.289Z"
   },
   {
    "duration": 1527,
    "start_time": "2023-04-19T20:11:36.213Z"
   },
   {
    "duration": 733,
    "start_time": "2023-04-19T20:11:37.742Z"
   },
   {
    "duration": 27,
    "start_time": "2023-04-19T20:11:38.477Z"
   },
   {
    "duration": 18,
    "start_time": "2023-04-19T20:11:38.506Z"
   },
   {
    "duration": 13,
    "start_time": "2023-04-19T20:11:38.525Z"
   },
   {
    "duration": 22,
    "start_time": "2023-04-19T20:11:38.540Z"
   },
   {
    "duration": 4,
    "start_time": "2023-04-19T20:11:38.588Z"
   },
   {
    "duration": 19,
    "start_time": "2023-04-19T20:11:38.594Z"
   },
   {
    "duration": 9,
    "start_time": "2023-04-19T20:11:38.614Z"
   },
   {
    "duration": 702,
    "start_time": "2023-04-19T20:11:38.626Z"
   },
   {
    "duration": 3,
    "start_time": "2023-04-19T20:11:39.330Z"
   },
   {
    "duration": 6,
    "start_time": "2023-04-19T20:11:39.335Z"
   },
   {
    "duration": 6,
    "start_time": "2023-04-19T20:11:39.342Z"
   },
   {
    "duration": 4,
    "start_time": "2023-04-19T20:11:39.350Z"
   },
   {
    "duration": 4,
    "start_time": "2023-04-19T20:11:39.356Z"
   },
   {
    "duration": 5,
    "start_time": "2023-04-19T20:11:39.389Z"
   },
   {
    "duration": 7,
    "start_time": "2023-04-19T20:11:39.396Z"
   },
   {
    "duration": 12,
    "start_time": "2023-04-19T20:11:39.405Z"
   },
   {
    "duration": 24,
    "start_time": "2023-04-19T20:11:39.419Z"
   },
   {
    "duration": 20,
    "start_time": "2023-04-19T20:11:39.445Z"
   },
   {
    "duration": 14,
    "start_time": "2023-04-19T20:11:39.467Z"
   },
   {
    "duration": 192,
    "start_time": "2023-04-19T20:11:39.483Z"
   },
   {
    "duration": 49,
    "start_time": "2023-04-19T20:11:39.677Z"
   },
   {
    "duration": 5,
    "start_time": "2023-04-19T20:11:39.728Z"
   },
   {
    "duration": 7,
    "start_time": "2023-04-19T20:11:39.734Z"
   },
   {
    "duration": 9,
    "start_time": "2023-04-19T20:11:39.743Z"
   },
   {
    "duration": 1836,
    "start_time": "2023-04-19T20:11:39.754Z"
   },
   {
    "duration": 10,
    "start_time": "2023-04-19T20:11:41.595Z"
   },
   {
    "duration": 8,
    "start_time": "2023-04-19T20:11:41.607Z"
   },
   {
    "duration": 647,
    "start_time": "2023-04-19T20:11:41.616Z"
   },
   {
    "duration": 5,
    "start_time": "2023-04-19T20:11:42.265Z"
   },
   {
    "duration": 427,
    "start_time": "2023-04-19T20:11:42.272Z"
   },
   {
    "duration": 6,
    "start_time": "2023-04-19T20:11:42.701Z"
   },
   {
    "duration": 317,
    "start_time": "2023-04-19T20:11:42.709Z"
   },
   {
    "duration": 5,
    "start_time": "2023-04-19T20:11:43.029Z"
   },
   {
    "duration": 338,
    "start_time": "2023-04-19T20:11:43.036Z"
   },
   {
    "duration": 13,
    "start_time": "2023-04-19T20:11:43.376Z"
   },
   {
    "duration": 5,
    "start_time": "2023-04-19T20:11:43.391Z"
   },
   {
    "duration": 9,
    "start_time": "2023-04-19T20:11:43.397Z"
   },
   {
    "duration": 10,
    "start_time": "2023-04-19T20:11:43.408Z"
   },
   {
    "duration": 16,
    "start_time": "2023-04-19T20:11:43.420Z"
   },
   {
    "duration": 13,
    "start_time": "2023-04-19T20:11:43.437Z"
   },
   {
    "duration": 20,
    "start_time": "2023-04-19T20:11:43.488Z"
   },
   {
    "duration": 9,
    "start_time": "2023-04-19T20:11:43.510Z"
   },
   {
    "duration": 10,
    "start_time": "2023-04-19T20:11:43.521Z"
   },
   {
    "duration": 2,
    "start_time": "2023-04-19T20:11:43.533Z"
   },
   {
    "duration": 5,
    "start_time": "2023-04-19T20:11:43.537Z"
   },
   {
    "duration": 6,
    "start_time": "2023-04-19T20:11:43.544Z"
   },
   {
    "duration": 41,
    "start_time": "2023-04-19T20:11:43.551Z"
   },
   {
    "duration": 8,
    "start_time": "2023-04-19T20:11:43.593Z"
   },
   {
    "duration": 9,
    "start_time": "2023-04-19T20:11:43.603Z"
   },
   {
    "duration": 2978,
    "start_time": "2023-04-19T20:11:43.614Z"
   },
   {
    "duration": 35568,
    "start_time": "2023-04-19T20:11:46.594Z"
   },
   {
    "duration": 2834,
    "start_time": "2023-04-19T20:12:22.165Z"
   },
   {
    "duration": 2946,
    "start_time": "2023-04-19T20:12:41.542Z"
   },
   {
    "duration": 4,
    "start_time": "2023-04-19T20:14:31.437Z"
   },
   {
    "duration": 2772,
    "start_time": "2023-04-19T20:14:34.421Z"
   },
   {
    "duration": 35764,
    "start_time": "2023-04-19T20:14:40.313Z"
   },
   {
    "duration": 3,
    "start_time": "2023-04-19T20:15:21.361Z"
   },
   {
    "duration": 3,
    "start_time": "2023-04-19T20:15:21.530Z"
   },
   {
    "duration": 218376,
    "start_time": "2023-04-19T20:19:58.806Z"
   },
   {
    "duration": 619,
    "start_time": "2023-04-19T20:38:12.282Z"
   },
   {
    "duration": 511,
    "start_time": "2023-04-19T20:38:46.885Z"
   },
   {
    "duration": 67,
    "start_time": "2023-04-19T20:39:33.828Z"
   },
   {
    "duration": 474,
    "start_time": "2023-04-19T20:39:41.121Z"
   },
   {
    "duration": 711,
    "start_time": "2023-04-19T20:40:18.886Z"
   },
   {
    "duration": 26,
    "start_time": "2023-04-19T20:42:41.303Z"
   },
   {
    "duration": 27,
    "start_time": "2023-04-19T20:42:51.199Z"
   },
   {
    "duration": 4,
    "start_time": "2023-04-19T20:43:49.286Z"
   },
   {
    "duration": 4,
    "start_time": "2023-04-19T20:43:58.882Z"
   },
   {
    "duration": 5,
    "start_time": "2023-04-19T20:44:06.986Z"
   },
   {
    "duration": 5,
    "start_time": "2023-04-19T20:44:21.152Z"
   },
   {
    "duration": 24,
    "start_time": "2023-04-19T20:58:53.831Z"
   },
   {
    "duration": 21,
    "start_time": "2023-04-19T20:58:54.351Z"
   },
   {
    "duration": 23,
    "start_time": "2023-04-19T20:59:31.138Z"
   },
   {
    "duration": 12,
    "start_time": "2023-04-19T20:59:43.373Z"
   },
   {
    "duration": 5,
    "start_time": "2023-04-19T20:59:48.813Z"
   },
   {
    "duration": 7,
    "start_time": "2023-04-19T21:01:38.003Z"
   },
   {
    "duration": 5,
    "start_time": "2023-04-19T21:01:38.242Z"
   },
   {
    "duration": 97,
    "start_time": "2023-04-19T21:01:43.009Z"
   },
   {
    "duration": 22,
    "start_time": "2023-04-19T21:01:59.977Z"
   },
   {
    "duration": 20,
    "start_time": "2023-04-19T21:02:14.783Z"
   },
   {
    "duration": 6,
    "start_time": "2023-04-19T21:02:15.303Z"
   },
   {
    "duration": 19,
    "start_time": "2023-04-19T21:02:59.661Z"
   },
   {
    "duration": 6,
    "start_time": "2023-04-19T21:04:17.660Z"
   },
   {
    "duration": 22,
    "start_time": "2023-04-19T21:04:33.706Z"
   },
   {
    "duration": 26,
    "start_time": "2023-04-19T21:06:18.660Z"
   },
   {
    "duration": 10,
    "start_time": "2023-04-19T21:06:40.574Z"
   },
   {
    "duration": 8,
    "start_time": "2023-04-19T21:06:42.104Z"
   },
   {
    "duration": 2695,
    "start_time": "2023-04-19T21:06:47.595Z"
   },
   {
    "duration": 24036,
    "start_time": "2023-04-19T21:06:50.293Z"
   },
   {
    "duration": 146209,
    "start_time": "2023-04-19T21:07:14.332Z"
   },
   {
    "duration": 6,
    "start_time": "2023-04-19T21:09:40.543Z"
   },
   {
    "duration": 341,
    "start_time": "2023-04-19T21:09:40.551Z"
   },
   {
    "duration": 25097,
    "start_time": "2023-04-19T21:10:31.039Z"
   },
   {
    "duration": 12,
    "start_time": "2023-04-19T21:11:27.627Z"
   },
   {
    "duration": 6,
    "start_time": "2023-04-19T21:11:58.979Z"
   },
   {
    "duration": 10,
    "start_time": "2023-04-19T21:12:02.029Z"
   },
   {
    "duration": 13,
    "start_time": "2023-04-19T21:12:16.333Z"
   },
   {
    "duration": 8,
    "start_time": "2023-04-19T21:12:37.297Z"
   },
   {
    "duration": 25099,
    "start_time": "2023-04-19T21:12:44.217Z"
   },
   {
    "duration": 8,
    "start_time": "2023-04-19T21:14:25.093Z"
   },
   {
    "duration": 7,
    "start_time": "2023-04-19T21:14:27.324Z"
   },
   {
    "duration": 6,
    "start_time": "2023-04-19T21:15:22.011Z"
   },
   {
    "duration": 10,
    "start_time": "2023-04-19T21:15:23.676Z"
   },
   {
    "duration": 8,
    "start_time": "2023-04-19T21:16:05.756Z"
   },
   {
    "duration": 21782,
    "start_time": "2023-04-19T21:22:31.251Z"
   },
   {
    "duration": 0,
    "start_time": "2023-04-19T21:25:48.280Z"
   },
   {
    "duration": 63904,
    "start_time": "2023-04-19T21:25:55.484Z"
   },
   {
    "duration": 30648,
    "start_time": "2023-04-19T21:26:59.392Z"
   },
   {
    "duration": 6,
    "start_time": "2023-04-19T21:27:56.887Z"
   },
   {
    "duration": 8,
    "start_time": "2023-04-19T21:27:58.296Z"
   },
   {
    "duration": 5,
    "start_time": "2023-04-19T21:28:18.700Z"
   },
   {
    "duration": 5,
    "start_time": "2023-04-19T21:28:27.756Z"
   },
   {
    "duration": 8,
    "start_time": "2023-04-19T21:29:12.560Z"
   },
   {
    "duration": 82,
    "start_time": "2023-04-19T21:30:53.103Z"
   }
  ],
  "kernelspec": {
   "display_name": "Python 3 (ipykernel)",
   "language": "python",
   "name": "python3"
  },
  "language_info": {
   "codemirror_mode": {
    "name": "ipython",
    "version": 3
   },
   "file_extension": ".py",
   "mimetype": "text/x-python",
   "name": "python",
   "nbconvert_exporter": "python",
   "pygments_lexer": "ipython3",
   "version": "3.11.4"
  },
  "toc": {
   "base_numbering": 1,
   "nav_menu": {},
   "number_sections": true,
   "sideBar": true,
   "skip_h1_title": true,
   "title_cell": "Содержание",
   "title_sidebar": "Contents",
   "toc_cell": true,
   "toc_position": {},
   "toc_section_display": true,
   "toc_window_display": false
  }
 },
 "nbformat": 4,
 "nbformat_minor": 2
}
