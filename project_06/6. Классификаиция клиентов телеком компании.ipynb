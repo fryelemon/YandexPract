{
 "cells": [
  {
   "cell_type": "markdown",
   "metadata": {},
   "source": [
    "# Рекомендация тарифов"
   ]
  },
  {
   "cell_type": "markdown",
   "metadata": {},
   "source": [
    "В вашем распоряжении данные о поведении клиентов, которые уже перешли на эти тарифы (из проекта курса «Статистический анализ данных»). Нужно построить модель для задачи классификации, которая выберет подходящий тариф. Предобработка данных не понадобится — вы её уже сделали.\n",
    "\n",
    "Постройте модель с максимально большим значением *accuracy*. Чтобы сдать проект успешно, нужно довести долю правильных ответов по крайней мере до 0.75. Проверьте *accuracy* на тестовой выборке самостоятельно."
   ]
  },
  {
   "cell_type": "code",
   "execution_count": 1,
   "metadata": {},
   "outputs": [],
   "source": [
    "# Для работы с данными\n",
    "import pandas as pd\n",
    "import matplotlib.pyplot as plt\n",
    "import seaborn as sns\n",
    "\n",
    "#Деревое решений\n",
    "from sklearn.tree import DecisionTreeClassifier\n",
    "#Случайный лес \n",
    "from sklearn.ensemble import RandomForestClassifier\n",
    "#Линейная регрессия\n",
    "from sklearn.linear_model import LogisticRegression \n",
    "\n",
    "# Для деления данных\n",
    "from sklearn.model_selection import train_test_split\n",
    "\n",
    "# Оценка точности модели\n",
    "from sklearn.metrics import mean_squared_error as mse\n",
    "from sklearn.metrics import accuracy_score \n",
    "\n",
    "#точность\n",
    "from sklearn.metrics import precision_score"
   ]
  },
  {
   "cell_type": "markdown",
   "metadata": {},
   "source": [
    "## Откройте и изучите файл"
   ]
  },
  {
   "cell_type": "code",
   "execution_count": 2,
   "metadata": {},
   "outputs": [],
   "source": [
    "df = pd.read_csv('/datasets/users_behavior.csv')"
   ]
  },
  {
   "cell_type": "code",
   "execution_count": 3,
   "metadata": {},
   "outputs": [
    {
     "data": {
      "text/html": [
       "<div>\n",
       "<style scoped>\n",
       "    .dataframe tbody tr th:only-of-type {\n",
       "        vertical-align: middle;\n",
       "    }\n",
       "\n",
       "    .dataframe tbody tr th {\n",
       "        vertical-align: top;\n",
       "    }\n",
       "\n",
       "    .dataframe thead th {\n",
       "        text-align: right;\n",
       "    }\n",
       "</style>\n",
       "<table border=\"1\" class=\"dataframe\">\n",
       "  <thead>\n",
       "    <tr style=\"text-align: right;\">\n",
       "      <th></th>\n",
       "      <th>calls</th>\n",
       "      <th>minutes</th>\n",
       "      <th>messages</th>\n",
       "      <th>mb_used</th>\n",
       "      <th>is_ultra</th>\n",
       "    </tr>\n",
       "  </thead>\n",
       "  <tbody>\n",
       "    <tr>\n",
       "      <th>0</th>\n",
       "      <td>40.0</td>\n",
       "      <td>311.90</td>\n",
       "      <td>83.0</td>\n",
       "      <td>19915.42</td>\n",
       "      <td>0</td>\n",
       "    </tr>\n",
       "    <tr>\n",
       "      <th>1</th>\n",
       "      <td>85.0</td>\n",
       "      <td>516.75</td>\n",
       "      <td>56.0</td>\n",
       "      <td>22696.96</td>\n",
       "      <td>0</td>\n",
       "    </tr>\n",
       "    <tr>\n",
       "      <th>2</th>\n",
       "      <td>77.0</td>\n",
       "      <td>467.66</td>\n",
       "      <td>86.0</td>\n",
       "      <td>21060.45</td>\n",
       "      <td>0</td>\n",
       "    </tr>\n",
       "    <tr>\n",
       "      <th>3</th>\n",
       "      <td>106.0</td>\n",
       "      <td>745.53</td>\n",
       "      <td>81.0</td>\n",
       "      <td>8437.39</td>\n",
       "      <td>1</td>\n",
       "    </tr>\n",
       "    <tr>\n",
       "      <th>4</th>\n",
       "      <td>66.0</td>\n",
       "      <td>418.74</td>\n",
       "      <td>1.0</td>\n",
       "      <td>14502.75</td>\n",
       "      <td>0</td>\n",
       "    </tr>\n",
       "  </tbody>\n",
       "</table>\n",
       "</div>"
      ],
      "text/plain": [
       "   calls  minutes  messages   mb_used  is_ultra\n",
       "0   40.0   311.90      83.0  19915.42         0\n",
       "1   85.0   516.75      56.0  22696.96         0\n",
       "2   77.0   467.66      86.0  21060.45         0\n",
       "3  106.0   745.53      81.0   8437.39         1\n",
       "4   66.0   418.74       1.0  14502.75         0"
      ]
     },
     "execution_count": 3,
     "metadata": {},
     "output_type": "execute_result"
    }
   ],
   "source": [
    "df.head()"
   ]
  },
  {
   "cell_type": "code",
   "execution_count": 4,
   "metadata": {},
   "outputs": [
    {
     "name": "stdout",
     "output_type": "stream",
     "text": [
      "<class 'pandas.core.frame.DataFrame'>\n",
      "RangeIndex: 3214 entries, 0 to 3213\n",
      "Data columns (total 5 columns):\n",
      " #   Column    Non-Null Count  Dtype  \n",
      "---  ------    --------------  -----  \n",
      " 0   calls     3214 non-null   float64\n",
      " 1   minutes   3214 non-null   float64\n",
      " 2   messages  3214 non-null   float64\n",
      " 3   mb_used   3214 non-null   float64\n",
      " 4   is_ultra  3214 non-null   int64  \n",
      "dtypes: float64(4), int64(1)\n",
      "memory usage: 125.7 KB\n"
     ]
    }
   ],
   "source": [
    "df.info()"
   ]
  },
  {
   "cell_type": "markdown",
   "metadata": {},
   "source": [
    "- сalls — количество звонков\n",
    "- minutes — суммарная длительность звонков в минутах\n",
    "- messages — количество sms-сообщений\n",
    "- mb_used — израсходованный интернет-трафик в Мб\n",
    "- is_ultra — каким тарифом пользовался в течение месяца («Ультра» — 1, «Смарт» — 0)"
   ]
  },
  {
   "cell_type": "code",
   "execution_count": 5,
   "metadata": {},
   "outputs": [
    {
     "data": {
      "text/html": [
       "<div>\n",
       "<style scoped>\n",
       "    .dataframe tbody tr th:only-of-type {\n",
       "        vertical-align: middle;\n",
       "    }\n",
       "\n",
       "    .dataframe tbody tr th {\n",
       "        vertical-align: top;\n",
       "    }\n",
       "\n",
       "    .dataframe thead th {\n",
       "        text-align: right;\n",
       "    }\n",
       "</style>\n",
       "<table border=\"1\" class=\"dataframe\">\n",
       "  <thead>\n",
       "    <tr style=\"text-align: right;\">\n",
       "      <th></th>\n",
       "      <th>calls</th>\n",
       "      <th>minutes</th>\n",
       "      <th>messages</th>\n",
       "      <th>mb_used</th>\n",
       "      <th>is_ultra</th>\n",
       "    </tr>\n",
       "  </thead>\n",
       "  <tbody>\n",
       "    <tr>\n",
       "      <th>count</th>\n",
       "      <td>3214.000000</td>\n",
       "      <td>3214.000000</td>\n",
       "      <td>3214.000000</td>\n",
       "      <td>3214.000000</td>\n",
       "      <td>3214.000000</td>\n",
       "    </tr>\n",
       "    <tr>\n",
       "      <th>mean</th>\n",
       "      <td>63.038892</td>\n",
       "      <td>438.208787</td>\n",
       "      <td>38.281269</td>\n",
       "      <td>17207.673836</td>\n",
       "      <td>0.306472</td>\n",
       "    </tr>\n",
       "    <tr>\n",
       "      <th>std</th>\n",
       "      <td>33.236368</td>\n",
       "      <td>234.569872</td>\n",
       "      <td>36.148326</td>\n",
       "      <td>7570.968246</td>\n",
       "      <td>0.461100</td>\n",
       "    </tr>\n",
       "    <tr>\n",
       "      <th>min</th>\n",
       "      <td>0.000000</td>\n",
       "      <td>0.000000</td>\n",
       "      <td>0.000000</td>\n",
       "      <td>0.000000</td>\n",
       "      <td>0.000000</td>\n",
       "    </tr>\n",
       "    <tr>\n",
       "      <th>25%</th>\n",
       "      <td>40.000000</td>\n",
       "      <td>274.575000</td>\n",
       "      <td>9.000000</td>\n",
       "      <td>12491.902500</td>\n",
       "      <td>0.000000</td>\n",
       "    </tr>\n",
       "    <tr>\n",
       "      <th>50%</th>\n",
       "      <td>62.000000</td>\n",
       "      <td>430.600000</td>\n",
       "      <td>30.000000</td>\n",
       "      <td>16943.235000</td>\n",
       "      <td>0.000000</td>\n",
       "    </tr>\n",
       "    <tr>\n",
       "      <th>75%</th>\n",
       "      <td>82.000000</td>\n",
       "      <td>571.927500</td>\n",
       "      <td>57.000000</td>\n",
       "      <td>21424.700000</td>\n",
       "      <td>1.000000</td>\n",
       "    </tr>\n",
       "    <tr>\n",
       "      <th>max</th>\n",
       "      <td>244.000000</td>\n",
       "      <td>1632.060000</td>\n",
       "      <td>224.000000</td>\n",
       "      <td>49745.730000</td>\n",
       "      <td>1.000000</td>\n",
       "    </tr>\n",
       "  </tbody>\n",
       "</table>\n",
       "</div>"
      ],
      "text/plain": [
       "             calls      minutes     messages       mb_used     is_ultra\n",
       "count  3214.000000  3214.000000  3214.000000   3214.000000  3214.000000\n",
       "mean     63.038892   438.208787    38.281269  17207.673836     0.306472\n",
       "std      33.236368   234.569872    36.148326   7570.968246     0.461100\n",
       "min       0.000000     0.000000     0.000000      0.000000     0.000000\n",
       "25%      40.000000   274.575000     9.000000  12491.902500     0.000000\n",
       "50%      62.000000   430.600000    30.000000  16943.235000     0.000000\n",
       "75%      82.000000   571.927500    57.000000  21424.700000     1.000000\n",
       "max     244.000000  1632.060000   224.000000  49745.730000     1.000000"
      ]
     },
     "execution_count": 5,
     "metadata": {},
     "output_type": "execute_result"
    }
   ],
   "source": [
    "df.describe()"
   ]
  },
  {
   "cell_type": "code",
   "execution_count": 6,
   "metadata": {},
   "outputs": [
    {
     "data": {
      "image/png": "[encoded data removed]",
      "text/plain": [
       "<Figure size 1080x432 with 4 Axes>"
      ]
     },
     "metadata": {},
     "output_type": "display_data"
    }
   ],
   "source": [
    "sns.set_style(\"whitegrid\")\n",
    "f, ax = plt.subplots(2, 2, figsize=(15, 6))\n",
    "\n",
    "sns.boxplot(data=df, x='calls', ax=ax[0, 0], color='#8DFF70');\n",
    "sns.boxplot(data=df, x='minutes', ax=ax[0, 1], color='#EBDE5E');\n",
    "sns.boxplot(data=df, x='messages', ax=ax[1, 0], color='#FFC97D');\n",
    "sns.boxplot(data=df, x='mb_used', ax=ax[1, 1], color='#E87566');"
   ]
  },
  {
   "cell_type": "markdown",
   "metadata": {},
   "source": [
    "Виднеются некоторые выбросы."
   ]
  },
  {
   "cell_type": "markdown",
   "metadata": {},
   "source": [
    "## Разбейте данные на выборки"
   ]
  },
  {
   "cell_type": "markdown",
   "metadata": {},
   "source": [
    "Конечная цель - выбор подходящего тарифа, а остальные данные будут помогать в выборе."
   ]
  },
  {
   "cell_type": "code",
   "execution_count": 7,
   "metadata": {},
   "outputs": [],
   "source": [
    "features = df.drop(['is_ultra'], axis=1)\n",
    "target = df['is_ultra']"
   ]
  },
  {
   "cell_type": "markdown",
   "metadata": {},
   "source": [
    "Разделим на 3 части: 60% тренировочная, 20% валидационная, 20% тестовая."
   ]
  },
  {
   "cell_type": "markdown",
   "metadata": {},
   "source": [
    "Вначале разделим на тренировочную и валидационную+тестовую."
   ]
  },
  {
   "cell_type": "code",
   "execution_count": 8,
   "metadata": {},
   "outputs": [],
   "source": [
    "features_train, features_valid, target_train, target_valid = train_test_split(\n",
    "    features, target, test_size=.4, random_state=12345\n",
    ")"
   ]
  },
  {
   "cell_type": "markdown",
   "metadata": {},
   "source": [
    "А теперь поделить уже на валидационную и тестовую. Получается от оставшихся данных в каждую категорию пойдет по 50%."
   ]
  },
  {
   "cell_type": "code",
   "execution_count": 9,
   "metadata": {},
   "outputs": [],
   "source": [
    "features_test, features_valid, target_test, target_valid = train_test_split(\n",
    "    features_valid, target_valid, test_size=.5, random_state=12345\n",
    ")"
   ]
  },
  {
   "cell_type": "markdown",
   "metadata": {},
   "source": [
    "### Проверим баланс классов выборки"
   ]
  },
  {
   "cell_type": "code",
   "execution_count": 10,
   "metadata": {},
   "outputs": [
    {
     "data": {
      "text/plain": [
       "0    0.692427\n",
       "1    0.307573\n",
       "Name: is_ultra, dtype: float64"
      ]
     },
     "execution_count": 10,
     "metadata": {},
     "output_type": "execute_result"
    }
   ],
   "source": [
    "target_train.value_counts(normalize=1)"
   ]
  },
  {
   "cell_type": "code",
   "execution_count": 11,
   "metadata": {
    "scrolled": true
   },
   "outputs": [
    {
     "data": {
      "text/plain": [
       "0    0.684292\n",
       "1    0.315708\n",
       "Name: is_ultra, dtype: float64"
      ]
     },
     "execution_count": 11,
     "metadata": {},
     "output_type": "execute_result"
    }
   ],
   "source": [
    "target_valid.value_counts(normalize=1)"
   ]
  },
  {
   "cell_type": "code",
   "execution_count": 12,
   "metadata": {},
   "outputs": [
    {
     "data": {
      "text/plain": [
       "0    0.706065\n",
       "1    0.293935\n",
       "Name: is_ultra, dtype: float64"
      ]
     },
     "execution_count": 12,
     "metadata": {},
     "output_type": "execute_result"
    }
   ],
   "source": [
    "target_test.value_counts(normalize=1)"
   ]
  },
  {
   "cell_type": "markdown",
   "metadata": {},
   "source": [
    "Наблюдается заметный дисбаланс классов. Значит результаты предсказаний будут склонятся к 0."
   ]
  },
  {
   "cell_type": "markdown",
   "metadata": {},
   "source": [
    "## Исследуйте модели"
   ]
  },
  {
   "cell_type": "markdown",
   "metadata": {},
   "source": [
    "### Точность моделей"
   ]
  },
  {
   "cell_type": "markdown",
   "metadata": {},
   "source": [
    "Предварительно проверим модели не используя гиперпараметры."
   ]
  },
  {
   "cell_type": "code",
   "execution_count": 13,
   "metadata": {},
   "outputs": [],
   "source": [
    "# Функция для сравнения трех моделей без гиперпараметров\n",
    "def all_models_accuracy(features_train, target_train, features_valid, target_valid):\n",
    "    model_dtc = DecisionTreeClassifier(random_state=12345)\n",
    "    trained_dtc = model_dtc.fit(features_train, target_train)\n",
    "    dtc_score = trained_dtc.score(features_valid, target_valid)\n",
    "    \n",
    "    model_rfc = RandomForestClassifier(random_state=12345)\n",
    "    trained_rfc = model_rfc.fit(features_train, target_train)\n",
    "    rfc_score = trained_rfc.score(features_valid, target_valid)\n",
    "    \n",
    "    model_lr = LogisticRegression()\n",
    "    trained_lr = model_lr.fit(features_train, target_train)\n",
    "    lr_score = trained_lr.score(features_valid, target_valid)\n",
    "    \n",
    "    print('Точность')\n",
    "    print(f'Дерево решений: {round(dtc_score * 100, 2)}%')\n",
    "    print(f'Случайный лес: {round(rfc_score * 100, 2)}%')\n",
    "    print(f'Логистическая регрессия: {round(lr_score * 100, 2)}%')"
   ]
  },
  {
   "cell_type": "code",
   "execution_count": 14,
   "metadata": {},
   "outputs": [
    {
     "name": "stdout",
     "output_type": "stream",
     "text": [
      "Точность\n",
      "Дерево решений: 73.09%\n",
      "Случайный лес: 78.54%\n",
      "Логистическая регрессия: 68.43%\n"
     ]
    }
   ],
   "source": [
    "all_models_accuracy(features_train, target_train, features_valid, target_valid)"
   ]
  },
  {
   "cell_type": "markdown",
   "metadata": {},
   "source": [
    "Победителем вышел Случайный Лес."
   ]
  },
  {
   "cell_type": "markdown",
   "metadata": {},
   "source": [
    "В целом Случайный Лес уже 78% угадывает правильно. Переберем гиперпараметры, чтобы улучшить модель. "
   ]
  },
  {
   "cell_type": "markdown",
   "metadata": {},
   "source": [
    "### Улучшение модели"
   ]
  },
  {
   "cell_type": "markdown",
   "metadata": {},
   "source": [
    "Переберем гиперпараметры для победившей модели, чтобы оптимизировать ее."
   ]
  },
  {
   "cell_type": "code",
   "execution_count": 15,
   "metadata": {},
   "outputs": [],
   "source": [
    "# Функция, которая будет обучать модель и выводить точность и mse\n",
    "def accuracy_best_model(features_train, target_train, features_valid, target_valid, est, max_depth):\n",
    "    # Обучим модель\n",
    "    model = RandomForestClassifier(random_state=12345, n_estimators=est, max_depth=max_depth)\n",
    "    trained_model = model.fit(features_train, target_train)\n",
    "    \n",
    "    # Посчитаем ее точность и mse\n",
    "    rfc_score = trained_model.score(features_valid, target_valid)\n",
    "    rfc_precision_score = precision_score(target_valid, trained_model.predict(features_valid))\n",
    "    \n",
    "    return rfc_score, rfc_precision_score"
   ]
  },
  {
   "cell_type": "code",
   "execution_count": 16,
   "metadata": {},
   "outputs": [
    {
     "name": "stdout",
     "output_type": "stream",
     "text": [
      "У лучшей модели:    \n",
      "\t- 9 - глубина деревьев    \n",
      "\t- 81.34% - аккуратность    \n",
      "\t- 80.29% - точность\n"
     ]
    }
   ],
   "source": [
    "best_model = None\n",
    "best_score = 0\n",
    "best_precision_score = 0\n",
    "\n",
    "# Глубина деревьев\n",
    "for max_depth in range(1, 100):          \n",
    "        score, rfc_precision_score = accuracy_best_model(\n",
    "            features_train, target_train, features_valid, target_valid, 10, max_depth\n",
    "        )\n",
    "        \n",
    "        # Запишем характеристики лучшей модели\n",
    "        if best_score < score:\n",
    "            best_score = score\n",
    "            best_depth = max_depth\n",
    "            best_precision_score = rfc_precision_score\n",
    "\n",
    "print(\n",
    "    f'У лучшей модели:\\\n",
    "    \\n\\t- {best_depth} - глубина деревьев\\\n",
    "    \\n\\t- {round(best_score*100, 2)}% - аккуратность\\\n",
    "    \\n\\t- {round(best_precision_score*100, 2)}% - точность'\n",
    ")"
   ]
  },
  {
   "cell_type": "markdown",
   "metadata": {},
   "source": [
    "## Проверьте модель на тестовой выборке"
   ]
  },
  {
   "cell_type": "code",
   "execution_count": 17,
   "metadata": {},
   "outputs": [
    {
     "name": "stdout",
     "output_type": "stream",
     "text": [
      "Аккуратность: 79.47122861586314 %    \n",
      "Точность: 72.8 %\n"
     ]
    }
   ],
   "source": [
    "final_model = RandomForestClassifier(random_state=12345, n_estimators=100, max_depth=best_depth)\n",
    "final_model.fit(features_train, target_train)\n",
    "\n",
    "final_predict = final_model.predict(features_test)\n",
    "\n",
    "final_model_accuracy = accuracy_score(target_test, final_predict)\n",
    "final_precision_score = precision_score(target_test, final_predict)\n",
    "\n",
    "print(\n",
    "    f'Аккуратность: {final_model_accuracy * 100} %\\\n",
    "    \\nТочность: {final_precision_score * 100} %'\n",
    ")"
   ]
  },
  {
   "cell_type": "markdown",
   "metadata": {},
   "source": [
    "Точность получется ниже."
   ]
  },
  {
   "cell_type": "markdown",
   "metadata": {},
   "source": [
    "## (бонус) Проверьте модели на адекватность"
   ]
  },
  {
   "cell_type": "markdown",
   "metadata": {},
   "source": [
    "Чтобы проверить сравнить модель со случайной, посмотрим на общие данные еще раз, а именно на цель."
   ]
  },
  {
   "cell_type": "code",
   "execution_count": 18,
   "metadata": {},
   "outputs": [
    {
     "data": {
      "text/plain": [
       "0    0.693528\n",
       "1    0.306472\n",
       "Name: is_ultra, dtype: float64"
      ]
     },
     "execution_count": 18,
     "metadata": {},
     "output_type": "execute_result"
    }
   ],
   "source": [
    "target.value_counts(normalize=1)"
   ]
  },
  {
   "cell_type": "markdown",
   "metadata": {},
   "source": [
    "В выборках будет примерно такое же распределение данных. Тогда посчитаем каков шанс угадать значения. Так как 0 в данных 69%, значит процент угадать его именно такой. Для 1 - 31%."
   ]
  },
  {
   "cell_type": "code",
   "execution_count": 19,
   "metadata": {},
   "outputs": [
    {
     "data": {
      "text/plain": [
       "0.5735407591785937"
      ]
     },
     "execution_count": 19,
     "metadata": {},
     "output_type": "execute_result"
    }
   ],
   "source": [
    "(target.value_counts()[0] * .69 + target.value_counts()[1] * .31) / target.shape[0]"
   ]
  },
  {
   "cell_type": "markdown",
   "metadata": {},
   "source": [
    "Более того, самая репрезентованный класс здесь встречается в 69%, лучшая же модель бьет и этот показатель"
   ]
  },
  {
   "cell_type": "markdown",
   "metadata": {},
   "source": [
    "Точность финальной модели выше случайной, значит модель относительно адекватна."
   ]
  },
  {
   "cell_type": "markdown",
   "metadata": {},
   "source": [
    "## Вывод"
   ]
  },
  {
   "cell_type": "markdown",
   "metadata": {},
   "source": [
    "1. В данных наблюдается дисбаланс (0.7 / 0.3).\n",
    "2. Лучший результат по предсказанию без изменения гиперпараметров среди моделей был у *Random Forest Classifier*, потому эта модель и была выбрана.\n",
    "3. Для улучшения модели перебирался гиперпараметр max_depth. После чего удалось добиться точности 81.34%.\n",
    "4. После проверки на тестовой выборке модель показала точность ниже: 79.47%.\n",
    "5. Чтобы проверить модель на адекватность она мы ее сравнили с случайной. Так у случайной модели точность была бы примерно 57%, когда наша модель на тестовой выборке показала результат в 79.47%, чем прошла проверку."
   ]
  }
 ],
 "metadata": {
  "ExecuteTimeLog": [
   {
    "duration": 399,
    "start_time": "2023-02-27T16:30:12.584Z"
   },
   {
    "duration": 119,
    "start_time": "2023-02-27T16:30:40.860Z"
   },
   {
    "duration": 16,
    "start_time": "2023-02-27T16:30:59.673Z"
   },
   {
    "duration": 3,
    "start_time": "2023-02-27T16:32:56.504Z"
   },
   {
    "duration": 31,
    "start_time": "2023-02-27T16:34:16.463Z"
   },
   {
    "duration": 33,
    "start_time": "2023-02-27T16:34:34.764Z"
   },
   {
    "duration": 22,
    "start_time": "2023-02-27T16:34:39.785Z"
   },
   {
    "duration": 24,
    "start_time": "2023-02-27T16:34:41.392Z"
   },
   {
    "duration": 961,
    "start_time": "2023-02-27T16:37:45.915Z"
   },
   {
    "duration": 13,
    "start_time": "2023-02-27T16:39:35.749Z"
   },
   {
    "duration": 8,
    "start_time": "2023-02-27T16:39:43.228Z"
   },
   {
    "duration": 11,
    "start_time": "2023-02-27T16:39:48.328Z"
   },
   {
    "duration": 7,
    "start_time": "2023-02-27T16:40:00.334Z"
   },
   {
    "duration": 107,
    "start_time": "2023-02-27T16:40:42.633Z"
   },
   {
    "duration": 21,
    "start_time": "2023-02-27T16:41:18.968Z"
   },
   {
    "duration": 18,
    "start_time": "2023-02-27T16:41:31.601Z"
   },
   {
    "duration": 24,
    "start_time": "2023-02-27T16:42:41.219Z"
   },
   {
    "duration": 168,
    "start_time": "2023-02-27T16:42:50.297Z"
   },
   {
    "duration": 2,
    "start_time": "2023-02-27T16:45:33.624Z"
   },
   {
    "duration": 315,
    "start_time": "2023-02-27T16:47:05.435Z"
   },
   {
    "duration": 520,
    "start_time": "2023-02-27T16:47:22.421Z"
   },
   {
    "duration": 536,
    "start_time": "2023-02-27T16:47:30.899Z"
   },
   {
    "duration": 725,
    "start_time": "2023-02-27T16:47:36.156Z"
   },
   {
    "duration": 654,
    "start_time": "2023-02-27T16:48:29.401Z"
   },
   {
    "duration": 605,
    "start_time": "2023-02-27T16:48:43.788Z"
   },
   {
    "duration": 651,
    "start_time": "2023-02-27T16:50:27.161Z"
   },
   {
    "duration": 414,
    "start_time": "2023-02-27T16:50:44.492Z"
   },
   {
    "duration": 512,
    "start_time": "2023-02-27T16:50:58.526Z"
   },
   {
    "duration": 465,
    "start_time": "2023-02-27T16:51:03.819Z"
   },
   {
    "duration": 254,
    "start_time": "2023-02-27T16:53:00.974Z"
   },
   {
    "duration": 8,
    "start_time": "2023-02-27T17:01:30.211Z"
   },
   {
    "duration": 4,
    "start_time": "2023-02-27T17:02:57.188Z"
   },
   {
    "duration": 4,
    "start_time": "2023-02-27T17:07:27.275Z"
   },
   {
    "duration": 27,
    "start_time": "2023-02-27T17:09:24.480Z"
   },
   {
    "duration": 15,
    "start_time": "2023-02-27T17:09:30.435Z"
   },
   {
    "duration": 17,
    "start_time": "2023-02-27T17:09:38.865Z"
   },
   {
    "duration": 34,
    "start_time": "2023-02-27T17:09:46.084Z"
   },
   {
    "duration": 31,
    "start_time": "2023-02-27T17:10:24.286Z"
   },
   {
    "duration": 69,
    "start_time": "2023-02-27T17:10:33.113Z"
   },
   {
    "duration": 69,
    "start_time": "2023-02-27T17:11:05.402Z"
   },
   {
    "duration": 3,
    "start_time": "2023-02-27T17:16:26.329Z"
   },
   {
    "duration": 19,
    "start_time": "2023-02-27T17:18:16.808Z"
   },
   {
    "duration": 24,
    "start_time": "2023-02-27T17:18:47.646Z"
   },
   {
    "duration": 61,
    "start_time": "2023-02-27T17:19:04.485Z"
   },
   {
    "duration": 17,
    "start_time": "2023-02-27T17:19:08.675Z"
   },
   {
    "duration": 16,
    "start_time": "2023-02-27T17:25:07.895Z"
   },
   {
    "duration": 22,
    "start_time": "2023-02-27T17:27:05.456Z"
   },
   {
    "duration": 17,
    "start_time": "2023-02-27T17:27:20.259Z"
   },
   {
    "duration": 73,
    "start_time": "2023-02-27T17:27:26.699Z"
   },
   {
    "duration": 32,
    "start_time": "2023-02-27T17:27:32.572Z"
   },
   {
    "duration": 5082,
    "start_time": "2023-02-27T17:27:44.073Z"
   },
   {
    "duration": 109,
    "start_time": "2023-02-27T17:28:05.870Z"
   },
   {
    "duration": 13048,
    "start_time": "2023-02-27T17:28:21.496Z"
   },
   {
    "duration": 36915,
    "start_time": "2023-02-27T17:28:46.981Z"
   },
   {
    "duration": 4,
    "start_time": "2023-02-27T17:29:52.874Z"
   },
   {
    "duration": 138,
    "start_time": "2023-02-27T17:31:24.688Z"
   },
   {
    "duration": 40684,
    "start_time": "2023-02-27T17:31:31.405Z"
   },
   {
    "duration": 62927,
    "start_time": "2023-02-27T17:33:26.814Z"
   },
   {
    "duration": 64950,
    "start_time": "2023-02-27T17:36:39.047Z"
   },
   {
    "duration": 3,
    "start_time": "2023-02-27T17:39:18.652Z"
   },
   {
    "duration": 150,
    "start_time": "2023-02-27T17:39:35.238Z"
   },
   {
    "duration": 59662,
    "start_time": "2023-02-27T17:39:55.663Z"
   },
   {
    "duration": 11,
    "start_time": "2023-02-27T17:41:28.714Z"
   },
   {
    "duration": 4,
    "start_time": "2023-02-27T17:41:45.393Z"
   },
   {
    "duration": 21,
    "start_time": "2023-02-27T17:41:49.677Z"
   },
   {
    "duration": 16,
    "start_time": "2023-02-27T17:41:55.927Z"
   },
   {
    "duration": 9,
    "start_time": "2023-02-27T17:42:01.652Z"
   },
   {
    "duration": 13,
    "start_time": "2023-02-27T17:43:11.755Z"
   },
   {
    "duration": 15,
    "start_time": "2023-02-27T17:43:33.813Z"
   },
   {
    "duration": 200569,
    "start_time": "2023-02-27T17:43:42.965Z"
   },
   {
    "duration": 62347,
    "start_time": "2023-02-27T17:47:14.671Z"
   },
   {
    "duration": 4,
    "start_time": "2023-02-27T17:49:05.089Z"
   },
   {
    "duration": 820,
    "start_time": "2023-02-27T17:50:37.261Z"
   },
   {
    "duration": 18,
    "start_time": "2023-02-27T17:51:27.213Z"
   },
   {
    "duration": 26,
    "start_time": "2023-02-27T17:52:11.981Z"
   },
   {
    "duration": 149,
    "start_time": "2023-02-27T17:52:53.845Z"
   },
   {
    "duration": 117,
    "start_time": "2023-02-27T17:53:15.501Z"
   },
   {
    "duration": 186,
    "start_time": "2023-02-27T17:53:42.783Z"
   },
   {
    "duration": 161,
    "start_time": "2023-02-27T17:55:30.620Z"
   },
   {
    "duration": 114,
    "start_time": "2023-02-27T17:59:45.503Z"
   },
   {
    "duration": 128,
    "start_time": "2023-02-27T18:00:22.131Z"
   },
   {
    "duration": 108,
    "start_time": "2023-02-27T18:00:54.568Z"
   },
   {
    "duration": 11710,
    "start_time": "2023-02-27T18:01:16.969Z"
   },
   {
    "duration": 57866,
    "start_time": "2023-02-27T18:01:30.675Z"
   },
   {
    "duration": 110,
    "start_time": "2023-02-27T18:03:00.637Z"
   },
   {
    "duration": 57941,
    "start_time": "2023-02-27T18:03:05.961Z"
   },
   {
    "duration": 10,
    "start_time": "2023-02-27T18:04:12.309Z"
   },
   {
    "duration": 11,
    "start_time": "2023-02-27T18:04:59.052Z"
   },
   {
    "duration": 111,
    "start_time": "2023-02-27T18:05:07.914Z"
   },
   {
    "duration": 59316,
    "start_time": "2023-02-27T18:05:10.149Z"
   },
   {
    "duration": 18,
    "start_time": "2023-02-27T18:06:26.408Z"
   },
   {
    "duration": 103,
    "start_time": "2023-02-27T18:08:55.012Z"
   },
   {
    "duration": 59341,
    "start_time": "2023-02-27T18:08:56.399Z"
   },
   {
    "duration": 11,
    "start_time": "2023-02-27T18:09:55.741Z"
   },
   {
    "duration": 10,
    "start_time": "2023-02-27T18:14:40.103Z"
   },
   {
    "duration": 61363,
    "start_time": "2023-02-27T18:15:12.516Z"
   },
   {
    "duration": 10,
    "start_time": "2023-02-27T18:16:18.864Z"
   },
   {
    "duration": 62870,
    "start_time": "2023-02-27T18:18:00.583Z"
   },
   {
    "duration": 38,
    "start_time": "2023-02-27T18:19:26.366Z"
   },
   {
    "duration": 382,
    "start_time": "2023-02-27T18:19:49.874Z"
   },
   {
    "duration": 394,
    "start_time": "2023-02-27T18:20:38.966Z"
   },
   {
    "duration": 56742,
    "start_time": "2023-02-27T18:22:35.969Z"
   },
   {
    "duration": 201,
    "start_time": "2023-02-27T18:23:45.584Z"
   },
   {
    "duration": 205,
    "start_time": "2023-02-27T18:24:00.409Z"
   },
   {
    "duration": 13,
    "start_time": "2023-02-27T18:24:26.504Z"
   },
   {
    "duration": 13,
    "start_time": "2023-02-27T18:24:36.933Z"
   },
   {
    "duration": 198,
    "start_time": "2023-02-27T18:24:42.964Z"
   },
   {
    "duration": 10,
    "start_time": "2023-02-27T18:24:53.858Z"
   },
   {
    "duration": 107,
    "start_time": "2023-02-27T18:25:09.411Z"
   },
   {
    "duration": 56901,
    "start_time": "2023-02-27T18:25:32.554Z"
   },
   {
    "duration": 64,
    "start_time": "2023-02-27T18:26:57.012Z"
   },
   {
    "duration": 64,
    "start_time": "2023-02-27T18:27:01.338Z"
   },
   {
    "duration": 73,
    "start_time": "2023-02-27T18:27:06.333Z"
   },
   {
    "duration": 311,
    "start_time": "2023-02-27T18:27:11.433Z"
   },
   {
    "duration": 341,
    "start_time": "2023-02-27T18:27:26.314Z"
   },
   {
    "duration": 316,
    "start_time": "2023-02-27T18:27:31.975Z"
   },
   {
    "duration": 905,
    "start_time": "2023-02-27T18:27:37.087Z"
   },
   {
    "duration": 9057,
    "start_time": "2023-02-27T18:27:42.435Z"
   },
   {
    "duration": 72,
    "start_time": "2023-02-27T18:28:12.472Z"
   },
   {
    "duration": 118,
    "start_time": "2023-02-27T18:28:15.776Z"
   },
   {
    "duration": 82,
    "start_time": "2023-02-27T18:28:22.274Z"
   },
   {
    "duration": 103,
    "start_time": "2023-02-27T18:28:27.239Z"
   },
   {
    "duration": 57009,
    "start_time": "2023-02-27T18:29:37.660Z"
   },
   {
    "duration": 76,
    "start_time": "2023-02-27T18:30:59.529Z"
   },
   {
    "duration": 223,
    "start_time": "2023-02-27T18:31:02.800Z"
   },
   {
    "duration": 186782,
    "start_time": "2023-02-27T18:31:17.662Z"
   },
   {
    "duration": 298,
    "start_time": "2023-02-27T18:34:54.885Z"
   },
   {
    "duration": 1301,
    "start_time": "2023-02-27T18:40:41.402Z"
   },
   {
    "duration": 28,
    "start_time": "2023-02-27T18:40:42.706Z"
   },
   {
    "duration": 13,
    "start_time": "2023-02-27T18:40:42.736Z"
   },
   {
    "duration": 590,
    "start_time": "2023-02-27T18:40:42.751Z"
   },
   {
    "duration": 518,
    "start_time": "2023-02-27T18:40:43.343Z"
   },
   {
    "duration": 7,
    "start_time": "2023-02-27T18:40:43.863Z"
   },
   {
    "duration": 206,
    "start_time": "2023-02-27T18:40:43.872Z"
   },
   {
    "duration": 193019,
    "start_time": "2023-02-27T18:40:44.080Z"
   },
   {
    "duration": 12,
    "start_time": "2023-02-27T18:43:57.103Z"
   },
   {
    "duration": 317,
    "start_time": "2023-02-27T18:43:57.117Z"
   },
   {
    "duration": 365803,
    "start_time": "2023-02-27T18:44:19.052Z"
   },
   {
    "duration": 268,
    "start_time": "2023-02-27T18:51:18.173Z"
   },
   {
    "duration": 136485,
    "start_time": "2023-02-27T18:54:57.581Z"
   },
   {
    "duration": 281,
    "start_time": "2023-02-27T18:57:14.068Z"
   },
   {
    "duration": 286,
    "start_time": "2023-02-27T18:57:38.375Z"
   },
   {
    "duration": 267,
    "start_time": "2023-02-27T18:57:55.192Z"
   },
   {
    "duration": 429,
    "start_time": "2023-02-27T18:58:11.210Z"
   },
   {
    "duration": 141490,
    "start_time": "2023-02-27T18:59:30.063Z"
   },
   {
    "duration": 227,
    "start_time": "2023-02-27T19:02:09.673Z"
   },
   {
    "duration": 107,
    "start_time": "2023-02-27T19:02:38.765Z"
   },
   {
    "duration": 62,
    "start_time": "2023-02-27T19:04:08.671Z"
   },
   {
    "duration": 6,
    "start_time": "2023-02-27T19:04:50.186Z"
   },
   {
    "duration": 92,
    "start_time": "2023-02-27T19:04:54.378Z"
   },
   {
    "duration": 5,
    "start_time": "2023-02-27T19:04:59.638Z"
   },
   {
    "duration": 100,
    "start_time": "2023-02-27T19:05:01.981Z"
   },
   {
    "duration": 7,
    "start_time": "2023-02-27T19:05:08.766Z"
   },
   {
    "duration": 97,
    "start_time": "2023-02-27T19:05:11.087Z"
   },
   {
    "duration": 6,
    "start_time": "2023-02-27T19:05:21.083Z"
   },
   {
    "duration": 102,
    "start_time": "2023-02-27T19:05:23.566Z"
   },
   {
    "duration": 734,
    "start_time": "2023-02-27T19:07:39.388Z"
   },
   {
    "duration": 101713,
    "start_time": "2023-02-27T19:08:08.853Z"
   },
   {
    "duration": 10,
    "start_time": "2023-02-27T19:09:50.568Z"
   },
   {
    "duration": 173,
    "start_time": "2023-02-27T19:10:19.302Z"
   },
   {
    "duration": 139,
    "start_time": "2023-02-27T19:11:05.004Z"
   },
   {
    "duration": 154,
    "start_time": "2023-02-27T19:11:08.418Z"
   },
   {
    "duration": 218,
    "start_time": "2023-02-27T19:11:14.142Z"
   },
   {
    "duration": 260,
    "start_time": "2023-02-27T19:11:19.360Z"
   },
   {
    "duration": 338,
    "start_time": "2023-02-27T19:11:24.755Z"
   },
   {
    "duration": 641,
    "start_time": "2023-02-27T19:11:43.344Z"
   },
   {
    "duration": 6,
    "start_time": "2023-02-27T19:11:51.918Z"
   },
   {
    "duration": 485,
    "start_time": "2023-02-27T19:11:54.189Z"
   },
   {
    "duration": 5,
    "start_time": "2023-02-27T19:12:06.025Z"
   },
   {
    "duration": 442,
    "start_time": "2023-02-27T19:12:09.035Z"
   },
   {
    "duration": 59193,
    "start_time": "2023-02-27T19:12:19.218Z"
   },
   {
    "duration": 12,
    "start_time": "2023-02-27T19:13:29.135Z"
   },
   {
    "duration": 178,
    "start_time": "2023-02-27T19:13:33.450Z"
   },
   {
    "duration": 55,
    "start_time": "2023-02-27T19:13:44.292Z"
   },
   {
    "duration": 206,
    "start_time": "2023-02-27T19:13:50.376Z"
   },
   {
    "duration": 52,
    "start_time": "2023-02-27T19:13:53.896Z"
   },
   {
    "duration": 154,
    "start_time": "2023-02-27T19:13:56.176Z"
   },
   {
    "duration": 142,
    "start_time": "2023-02-27T19:14:01.107Z"
   },
   {
    "duration": 4,
    "start_time": "2023-02-27T19:29:07.073Z"
   },
   {
    "duration": 4,
    "start_time": "2023-02-27T19:31:12.375Z"
   },
   {
    "duration": 5,
    "start_time": "2023-02-27T19:31:13.373Z"
   },
   {
    "duration": 560,
    "start_time": "2023-02-27T19:31:17.494Z"
   },
   {
    "duration": 78782,
    "start_time": "2023-02-27T19:31:22.137Z"
   },
   {
    "duration": 9,
    "start_time": "2023-02-27T19:32:40.921Z"
   },
   {
    "duration": 296,
    "start_time": "2023-02-27T19:32:40.932Z"
   },
   {
    "duration": 189,
    "start_time": "2023-02-27T19:34:34.276Z"
   },
   {
    "duration": 53,
    "start_time": "2023-02-27T19:34:52.416Z"
   },
   {
    "duration": 66176,
    "start_time": "2023-02-27T19:35:12.397Z"
   },
   {
    "duration": 65749,
    "start_time": "2023-02-27T19:37:50.569Z"
   },
   {
    "duration": 9641,
    "start_time": "2023-02-27T19:39:49.314Z"
   },
   {
    "duration": 9987,
    "start_time": "2023-02-27T19:41:15.631Z"
   },
   {
    "duration": 38241,
    "start_time": "2023-02-27T19:41:35.100Z"
   },
   {
    "duration": 560,
    "start_time": "2023-02-27T20:31:31.897Z"
   },
   {
    "duration": 611,
    "start_time": "2023-02-27T20:32:22.545Z"
   },
   {
    "duration": 10,
    "start_time": "2023-02-27T20:34:06.062Z"
   },
   {
    "duration": 63,
    "start_time": "2023-02-27T20:38:27.177Z"
   },
   {
    "duration": 4,
    "start_time": "2023-02-27T20:57:04.973Z"
   },
   {
    "duration": 9,
    "start_time": "2023-02-27T20:57:22.811Z"
   },
   {
    "duration": 4,
    "start_time": "2023-02-27T20:57:28.804Z"
   },
   {
    "duration": 4,
    "start_time": "2023-02-27T21:14:59.534Z"
   },
   {
    "duration": 7,
    "start_time": "2023-02-27T21:17:41.089Z"
   },
   {
    "duration": 9,
    "start_time": "2023-02-27T21:18:09.345Z"
   },
   {
    "duration": 10,
    "start_time": "2023-02-27T21:18:19.684Z"
   },
   {
    "duration": 9,
    "start_time": "2023-02-27T21:18:51.288Z"
   },
   {
    "duration": 11,
    "start_time": "2023-02-27T21:18:57.636Z"
   },
   {
    "duration": 10,
    "start_time": "2023-02-27T21:19:03.645Z"
   },
   {
    "duration": 9,
    "start_time": "2023-02-27T21:19:10.583Z"
   },
   {
    "duration": 6,
    "start_time": "2023-02-27T21:21:22.547Z"
   },
   {
    "duration": 6,
    "start_time": "2023-02-27T21:21:24.054Z"
   },
   {
    "duration": 7,
    "start_time": "2023-02-27T21:21:29.404Z"
   },
   {
    "duration": 14,
    "start_time": "2023-02-27T21:21:29.995Z"
   },
   {
    "duration": 10,
    "start_time": "2023-02-27T21:21:40.022Z"
   },
   {
    "duration": 5,
    "start_time": "2023-02-27T21:21:44.566Z"
   },
   {
    "duration": 6,
    "start_time": "2023-02-27T21:21:45.772Z"
   },
   {
    "duration": 6,
    "start_time": "2023-02-27T21:21:47.478Z"
   },
   {
    "duration": 17,
    "start_time": "2023-02-27T21:21:57.563Z"
   },
   {
    "duration": 13,
    "start_time": "2023-02-27T21:22:02.438Z"
   },
   {
    "duration": 12,
    "start_time": "2023-02-27T21:22:50.182Z"
   },
   {
    "duration": 12,
    "start_time": "2023-02-27T21:23:26.163Z"
   },
   {
    "duration": 4,
    "start_time": "2023-02-27T21:25:45.969Z"
   },
   {
    "duration": 44,
    "start_time": "2023-02-27T21:26:59.881Z"
   },
   {
    "duration": 5,
    "start_time": "2023-02-27T21:28:12.147Z"
   },
   {
    "duration": 12,
    "start_time": "2023-02-27T21:29:25.322Z"
   },
   {
    "duration": 12,
    "start_time": "2023-02-27T21:29:33.359Z"
   },
   {
    "duration": 5,
    "start_time": "2023-02-27T21:29:58.186Z"
   },
   {
    "duration": 11,
    "start_time": "2023-02-27T21:29:58.766Z"
   },
   {
    "duration": 12,
    "start_time": "2023-02-27T21:29:59.540Z"
   },
   {
    "duration": 12,
    "start_time": "2023-02-27T21:30:00.156Z"
   },
   {
    "duration": 6,
    "start_time": "2023-02-27T21:30:55.099Z"
   },
   {
    "duration": 2,
    "start_time": "2023-02-27T21:31:27.865Z"
   },
   {
    "duration": 4,
    "start_time": "2023-02-27T21:40:39.968Z"
   },
   {
    "duration": 24,
    "start_time": "2023-02-27T21:41:06.884Z"
   },
   {
    "duration": 1481,
    "start_time": "2023-02-27T21:41:53.179Z"
   },
   {
    "duration": 29,
    "start_time": "2023-02-27T21:41:54.661Z"
   },
   {
    "duration": 13,
    "start_time": "2023-02-27T21:41:54.692Z"
   },
   {
    "duration": 11,
    "start_time": "2023-02-27T21:41:54.706Z"
   },
   {
    "duration": 6,
    "start_time": "2023-02-27T21:41:54.719Z"
   },
   {
    "duration": 8,
    "start_time": "2023-02-27T21:41:54.726Z"
   },
   {
    "duration": 7,
    "start_time": "2023-02-27T21:41:54.735Z"
   },
   {
    "duration": 7,
    "start_time": "2023-02-27T21:41:54.743Z"
   },
   {
    "duration": 13,
    "start_time": "2023-02-27T21:41:54.751Z"
   },
   {
    "duration": 38,
    "start_time": "2023-02-27T21:41:54.765Z"
   },
   {
    "duration": 12,
    "start_time": "2023-02-27T21:41:54.805Z"
   },
   {
    "duration": 2,
    "start_time": "2023-02-27T21:41:54.819Z"
   },
   {
    "duration": 4,
    "start_time": "2023-02-27T21:41:58.245Z"
   },
   {
    "duration": 125,
    "start_time": "2023-02-27T21:42:00.283Z"
   },
   {
    "duration": 5,
    "start_time": "2023-02-27T21:46:40.394Z"
   },
   {
    "duration": 5,
    "start_time": "2023-02-27T21:46:41.022Z"
   },
   {
    "duration": 23,
    "start_time": "2023-02-27T21:46:46.258Z"
   },
   {
    "duration": 6,
    "start_time": "2023-02-27T21:47:35.977Z"
   },
   {
    "duration": 12,
    "start_time": "2023-02-27T21:47:36.333Z"
   },
   {
    "duration": 11,
    "start_time": "2023-02-27T21:47:36.894Z"
   },
   {
    "duration": 11,
    "start_time": "2023-02-27T21:47:37.674Z"
   },
   {
    "duration": 3,
    "start_time": "2023-02-27T21:47:39.454Z"
   },
   {
    "duration": 22,
    "start_time": "2023-02-27T21:47:42.086Z"
   },
   {
    "duration": 4,
    "start_time": "2023-02-27T21:47:44.346Z"
   },
   {
    "duration": 299,
    "start_time": "2023-02-27T21:47:44.979Z"
   },
   {
    "duration": 5,
    "start_time": "2023-02-27T21:48:22.877Z"
   },
   {
    "duration": 306,
    "start_time": "2023-02-27T21:48:23.157Z"
   },
   {
    "duration": 5,
    "start_time": "2023-02-27T21:48:58.921Z"
   },
   {
    "duration": 304,
    "start_time": "2023-02-27T21:49:08.831Z"
   },
   {
    "duration": 4,
    "start_time": "2023-02-27T21:49:21.760Z"
   },
   {
    "duration": 318,
    "start_time": "2023-02-27T21:49:24.508Z"
   },
   {
    "duration": 8,
    "start_time": "2023-02-27T21:51:16.709Z"
   },
   {
    "duration": 6,
    "start_time": "2023-02-27T21:51:36.339Z"
   },
   {
    "duration": 8,
    "start_time": "2023-02-27T21:51:53.037Z"
   },
   {
    "duration": 6,
    "start_time": "2023-02-27T21:52:28.090Z"
   },
   {
    "duration": 9,
    "start_time": "2023-02-28T14:26:47.465Z"
   },
   {
    "duration": 1814,
    "start_time": "2023-02-28T14:26:52.712Z"
   },
   {
    "duration": 1738,
    "start_time": "2023-03-09T16:02:42.257Z"
   },
   {
    "duration": 111,
    "start_time": "2023-03-09T16:02:43.997Z"
   },
   {
    "duration": 15,
    "start_time": "2023-03-09T16:02:44.110Z"
   },
   {
    "duration": 13,
    "start_time": "2023-03-09T16:02:44.127Z"
   },
   {
    "duration": 6,
    "start_time": "2023-03-09T16:02:44.143Z"
   },
   {
    "duration": 9,
    "start_time": "2023-03-09T16:02:44.150Z"
   },
   {
    "duration": 10,
    "start_time": "2023-03-09T16:02:44.160Z"
   },
   {
    "duration": 9,
    "start_time": "2023-03-09T16:02:44.171Z"
   },
   {
    "duration": 485,
    "start_time": "2023-03-09T16:02:46.890Z"
   },
   {
    "duration": 5,
    "start_time": "2023-03-09T16:02:58.145Z"
   },
   {
    "duration": 339,
    "start_time": "2023-03-09T16:02:58.410Z"
   },
   {
    "duration": 7,
    "start_time": "2023-03-09T16:06:30.867Z"
   },
   {
    "duration": 5,
    "start_time": "2023-03-09T16:06:33.295Z"
   },
   {
    "duration": 9,
    "start_time": "2023-03-09T16:07:01.175Z"
   },
   {
    "duration": 5,
    "start_time": "2023-03-09T16:07:06.905Z"
   },
   {
    "duration": 7,
    "start_time": "2023-03-09T16:07:17.397Z"
   },
   {
    "duration": 9,
    "start_time": "2023-03-09T16:12:27.555Z"
   },
   {
    "duration": 8,
    "start_time": "2023-03-09T16:13:13.566Z"
   },
   {
    "duration": 51,
    "start_time": "2023-03-10T13:13:05.460Z"
   },
   {
    "duration": 1548,
    "start_time": "2023-03-10T13:13:10.703Z"
   },
   {
    "duration": 64,
    "start_time": "2023-03-10T13:13:12.254Z"
   },
   {
    "duration": 16,
    "start_time": "2023-03-10T13:13:12.319Z"
   },
   {
    "duration": 12,
    "start_time": "2023-03-10T13:13:12.336Z"
   },
   {
    "duration": 4,
    "start_time": "2023-03-10T13:13:12.350Z"
   },
   {
    "duration": 10,
    "start_time": "2023-03-10T13:13:12.355Z"
   },
   {
    "duration": 6,
    "start_time": "2023-03-10T13:13:12.366Z"
   },
   {
    "duration": 8,
    "start_time": "2023-03-10T13:13:12.374Z"
   },
   {
    "duration": 5,
    "start_time": "2023-03-10T13:13:12.384Z"
   },
   {
    "duration": 6,
    "start_time": "2023-03-10T13:13:16.593Z"
   },
   {
    "duration": 7,
    "start_time": "2023-03-10T13:13:32.426Z"
   },
   {
    "duration": 13,
    "start_time": "2023-03-10T13:25:30.384Z"
   },
   {
    "duration": 100,
    "start_time": "2023-03-10T13:25:35.181Z"
   },
   {
    "duration": 12,
    "start_time": "2023-03-10T13:25:38.012Z"
   },
   {
    "duration": 12,
    "start_time": "2023-03-10T13:25:39.911Z"
   },
   {
    "duration": 26,
    "start_time": "2023-03-10T13:25:46.242Z"
   },
   {
    "duration": 312,
    "start_time": "2023-03-10T13:31:14.291Z"
   },
   {
    "duration": 427,
    "start_time": "2023-03-10T13:31:40.447Z"
   },
   {
    "duration": 459,
    "start_time": "2023-03-10T13:31:59.807Z"
   },
   {
    "duration": 332,
    "start_time": "2023-03-10T13:32:15.675Z"
   },
   {
    "duration": 379,
    "start_time": "2023-03-10T13:36:16.649Z"
   },
   {
    "duration": 347,
    "start_time": "2023-03-10T13:36:36.140Z"
   },
   {
    "duration": 441,
    "start_time": "2023-03-10T13:36:48.050Z"
   },
   {
    "duration": 320,
    "start_time": "2023-03-10T13:37:18.265Z"
   },
   {
    "duration": 347,
    "start_time": "2023-03-10T13:37:28.408Z"
   },
   {
    "duration": 310,
    "start_time": "2023-03-10T13:37:40.705Z"
   },
   {
    "duration": 330,
    "start_time": "2023-03-10T13:37:46.743Z"
   },
   {
    "duration": 334,
    "start_time": "2023-03-10T13:37:51.555Z"
   },
   {
    "duration": 513,
    "start_time": "2023-03-10T13:37:56.394Z"
   },
   {
    "duration": 315,
    "start_time": "2023-03-10T13:38:01.394Z"
   },
   {
    "duration": 309,
    "start_time": "2023-03-10T13:38:05.599Z"
   },
   {
    "duration": 315,
    "start_time": "2023-03-10T13:38:09.307Z"
   },
   {
    "duration": 315,
    "start_time": "2023-03-10T13:38:12.323Z"
   },
   {
    "duration": 307,
    "start_time": "2023-03-10T13:38:16.903Z"
   },
   {
    "duration": 67,
    "start_time": "2023-03-10T13:38:59.218Z"
   },
   {
    "duration": 375,
    "start_time": "2023-03-10T13:39:02.970Z"
   },
   {
    "duration": 497,
    "start_time": "2023-03-10T13:39:25.973Z"
   },
   {
    "duration": 336,
    "start_time": "2023-03-10T13:39:35.604Z"
   },
   {
    "duration": 350,
    "start_time": "2023-03-10T13:39:40.006Z"
   },
   {
    "duration": 76,
    "start_time": "2023-03-10T13:39:58.941Z"
   },
   {
    "duration": 317,
    "start_time": "2023-03-10T13:40:02.714Z"
   },
   {
    "duration": 302,
    "start_time": "2023-03-10T13:40:08.309Z"
   },
   {
    "duration": 365,
    "start_time": "2023-03-10T13:40:20.012Z"
   },
   {
    "duration": 331,
    "start_time": "2023-03-10T13:40:23.410Z"
   },
   {
    "duration": 493,
    "start_time": "2023-03-10T13:40:27.549Z"
   },
   {
    "duration": 379,
    "start_time": "2023-03-10T13:40:31.606Z"
   },
   {
    "duration": 400,
    "start_time": "2023-03-10T13:40:33.896Z"
   },
   {
    "duration": 323,
    "start_time": "2023-03-10T13:41:18.413Z"
   },
   {
    "duration": 171,
    "start_time": "2023-03-10T13:42:16.167Z"
   },
   {
    "duration": 131,
    "start_time": "2023-03-10T13:42:35.116Z"
   },
   {
    "duration": 329,
    "start_time": "2023-03-10T13:42:40.313Z"
   },
   {
    "duration": 342,
    "start_time": "2023-03-10T13:43:45.742Z"
   },
   {
    "duration": 506,
    "start_time": "2023-03-10T13:43:53.325Z"
   },
   {
    "duration": 314,
    "start_time": "2023-03-10T13:43:58.757Z"
   },
   {
    "duration": 76,
    "start_time": "2023-03-10T13:44:02.686Z"
   },
   {
    "duration": 346,
    "start_time": "2023-03-10T13:44:05.153Z"
   },
   {
    "duration": 342,
    "start_time": "2023-03-10T13:44:10.948Z"
   },
   {
    "duration": 347,
    "start_time": "2023-03-10T13:44:16.982Z"
   },
   {
    "duration": 379,
    "start_time": "2023-03-10T13:44:23.922Z"
   },
   {
    "duration": 385,
    "start_time": "2023-03-10T13:44:32.019Z"
   },
   {
    "duration": 539,
    "start_time": "2023-03-10T13:44:48.933Z"
   },
   {
    "duration": 6,
    "start_time": "2023-03-10T13:44:59.043Z"
   },
   {
    "duration": 9,
    "start_time": "2023-03-10T13:45:07.529Z"
   },
   {
    "duration": 4,
    "start_time": "2023-03-10T13:45:10.942Z"
   },
   {
    "duration": 482,
    "start_time": "2023-03-10T13:45:48.881Z"
   },
   {
    "duration": 432,
    "start_time": "2023-03-10T13:45:54.618Z"
   },
   {
    "duration": 475,
    "start_time": "2023-03-10T13:45:58.490Z"
   },
   {
    "duration": 483,
    "start_time": "2023-03-10T13:46:03.348Z"
   },
   {
    "duration": 446,
    "start_time": "2023-03-10T13:46:08.410Z"
   },
   {
    "duration": 468,
    "start_time": "2023-03-10T13:46:17.453Z"
   },
   {
    "duration": 734,
    "start_time": "2023-03-10T13:46:32.955Z"
   },
   {
    "duration": 464,
    "start_time": "2023-03-10T13:46:38.952Z"
   },
   {
    "duration": 454,
    "start_time": "2023-03-10T13:46:43.095Z"
   },
   {
    "duration": 496,
    "start_time": "2023-03-10T13:46:59.653Z"
   },
   {
    "duration": 6,
    "start_time": "2023-03-10T13:47:04.595Z"
   },
   {
    "duration": 487,
    "start_time": "2023-03-10T13:47:13.151Z"
   },
   {
    "duration": 433,
    "start_time": "2023-03-10T13:47:16.305Z"
   },
   {
    "duration": 482,
    "start_time": "2023-03-10T13:47:20.611Z"
   },
   {
    "duration": 728,
    "start_time": "2023-03-10T13:48:10.642Z"
   },
   {
    "duration": 5,
    "start_time": "2023-03-10T13:48:16.342Z"
   },
   {
    "duration": 13,
    "start_time": "2023-03-10T13:48:19.050Z"
   },
   {
    "duration": 6,
    "start_time": "2023-03-10T13:48:24.304Z"
   },
   {
    "duration": 542,
    "start_time": "2023-03-10T13:48:33.657Z"
   },
   {
    "duration": 471,
    "start_time": "2023-03-10T13:48:45.353Z"
   },
   {
    "duration": 438,
    "start_time": "2023-03-10T13:49:23.388Z"
   },
   {
    "duration": 458,
    "start_time": "2023-03-10T13:49:27.654Z"
   },
   {
    "duration": 479,
    "start_time": "2023-03-10T13:49:32.467Z"
   },
   {
    "duration": 430,
    "start_time": "2023-03-10T13:49:40.415Z"
   },
   {
    "duration": 647,
    "start_time": "2023-03-10T13:49:51.493Z"
   },
   {
    "duration": 472,
    "start_time": "2023-03-10T13:49:59.444Z"
   },
   {
    "duration": 408,
    "start_time": "2023-03-10T13:51:55.940Z"
   },
   {
    "duration": 5,
    "start_time": "2023-03-10T14:03:05.781Z"
   },
   {
    "duration": 5,
    "start_time": "2023-03-10T14:03:06.582Z"
   },
   {
    "duration": 8,
    "start_time": "2023-03-10T14:03:10.135Z"
   },
   {
    "duration": 5,
    "start_time": "2023-03-10T14:03:15.078Z"
   },
   {
    "duration": 5,
    "start_time": "2023-03-10T14:03:16.208Z"
   },
   {
    "duration": 7,
    "start_time": "2023-03-10T14:03:17.334Z"
   },
   {
    "duration": 5,
    "start_time": "2023-03-10T14:03:22.976Z"
   },
   {
    "duration": 7,
    "start_time": "2023-03-10T14:03:23.937Z"
   },
   {
    "duration": 6,
    "start_time": "2023-03-10T14:03:30.795Z"
   },
   {
    "duration": 7,
    "start_time": "2023-03-10T14:03:32.746Z"
   },
   {
    "duration": 5,
    "start_time": "2023-03-10T14:03:40.996Z"
   },
   {
    "duration": 5,
    "start_time": "2023-03-10T14:03:41.791Z"
   },
   {
    "duration": 6,
    "start_time": "2023-03-10T14:03:42.808Z"
   },
   {
    "duration": 5,
    "start_time": "2023-03-10T14:03:47.103Z"
   },
   {
    "duration": 6,
    "start_time": "2023-03-10T14:03:47.776Z"
   },
   {
    "duration": 7,
    "start_time": "2023-03-10T14:03:50.602Z"
   },
   {
    "duration": 6,
    "start_time": "2023-03-10T14:03:51.499Z"
   },
   {
    "duration": 5,
    "start_time": "2023-03-10T14:03:54.599Z"
   },
   {
    "duration": 6,
    "start_time": "2023-03-10T14:03:55.851Z"
   },
   {
    "duration": 4,
    "start_time": "2023-03-10T14:03:59.023Z"
   },
   {
    "duration": 7,
    "start_time": "2023-03-10T14:04:00.371Z"
   },
   {
    "duration": 6,
    "start_time": "2023-03-10T14:10:32.201Z"
   },
   {
    "duration": 8,
    "start_time": "2023-03-10T14:10:34.125Z"
   },
   {
    "duration": 8,
    "start_time": "2023-03-10T14:10:36.089Z"
   },
   {
    "duration": 4,
    "start_time": "2023-03-10T14:10:54.450Z"
   },
   {
    "duration": 4,
    "start_time": "2023-03-10T14:10:57.679Z"
   },
   {
    "duration": 6,
    "start_time": "2023-03-10T14:11:07.170Z"
   },
   {
    "duration": 4,
    "start_time": "2023-03-10T14:11:13.617Z"
   },
   {
    "duration": 4,
    "start_time": "2023-03-10T14:11:54.911Z"
   },
   {
    "duration": 4,
    "start_time": "2023-03-10T14:12:05.685Z"
   },
   {
    "duration": 6,
    "start_time": "2023-03-10T14:12:09.080Z"
   },
   {
    "duration": 5,
    "start_time": "2023-03-10T14:12:10.147Z"
   },
   {
    "duration": 6,
    "start_time": "2023-03-10T14:12:14.927Z"
   },
   {
    "duration": 4,
    "start_time": "2023-03-10T14:12:18.513Z"
   },
   {
    "duration": 11,
    "start_time": "2023-03-10T14:12:31.243Z"
   },
   {
    "duration": 4,
    "start_time": "2023-03-10T14:12:35.699Z"
   },
   {
    "duration": 4,
    "start_time": "2023-03-10T14:12:47.130Z"
   },
   {
    "duration": 5,
    "start_time": "2023-03-10T14:12:58.285Z"
   },
   {
    "duration": 6,
    "start_time": "2023-03-10T14:13:11.411Z"
   },
   {
    "duration": 4,
    "start_time": "2023-03-10T14:13:12.434Z"
   },
   {
    "duration": 6,
    "start_time": "2023-03-10T14:13:14.351Z"
   },
   {
    "duration": 5,
    "start_time": "2023-03-10T14:13:19.145Z"
   },
   {
    "duration": 6,
    "start_time": "2023-03-10T14:13:20.499Z"
   },
   {
    "duration": 4,
    "start_time": "2023-03-10T14:13:22.375Z"
   },
   {
    "duration": 5,
    "start_time": "2023-03-10T14:13:24.441Z"
   },
   {
    "duration": 7,
    "start_time": "2023-03-10T14:13:25.714Z"
   },
   {
    "duration": 5,
    "start_time": "2023-03-10T14:13:28.386Z"
   },
   {
    "duration": 7,
    "start_time": "2023-03-10T14:13:29.640Z"
   },
   {
    "duration": 6,
    "start_time": "2023-03-10T14:13:34.570Z"
   },
   {
    "duration": 5,
    "start_time": "2023-03-10T14:13:35.919Z"
   },
   {
    "duration": 5,
    "start_time": "2023-03-10T14:13:42.295Z"
   },
   {
    "duration": 6,
    "start_time": "2023-03-10T14:13:43.737Z"
   },
   {
    "duration": 5,
    "start_time": "2023-03-10T14:13:48.242Z"
   },
   {
    "duration": 5,
    "start_time": "2023-03-10T14:13:49.495Z"
   },
   {
    "duration": 7,
    "start_time": "2023-03-10T14:13:50.416Z"
   },
   {
    "duration": 4,
    "start_time": "2023-03-10T14:13:53.104Z"
   },
   {
    "duration": 7,
    "start_time": "2023-03-10T14:13:54.090Z"
   },
   {
    "duration": 5,
    "start_time": "2023-03-10T14:13:58.271Z"
   },
   {
    "duration": 6,
    "start_time": "2023-03-10T14:13:59.520Z"
   },
   {
    "duration": 7,
    "start_time": "2023-03-10T14:14:03.344Z"
   },
   {
    "duration": 5,
    "start_time": "2023-03-10T14:14:04.550Z"
   },
   {
    "duration": 5,
    "start_time": "2023-03-10T14:14:15.135Z"
   },
   {
    "duration": 393,
    "start_time": "2023-03-10T14:14:16.330Z"
   },
   {
    "duration": 11,
    "start_time": "2023-03-10T14:15:01.065Z"
   },
   {
    "duration": 62,
    "start_time": "2023-03-10T14:15:13.823Z"
   },
   {
    "duration": 95,
    "start_time": "2023-03-10T14:15:20.053Z"
   },
   {
    "duration": 157,
    "start_time": "2023-03-10T14:15:25.059Z"
   },
   {
    "duration": 102,
    "start_time": "2023-03-10T14:15:29.099Z"
   },
   {
    "duration": 86,
    "start_time": "2023-03-10T14:15:43.510Z"
   },
   {
    "duration": 7,
    "start_time": "2023-03-10T15:02:31.364Z"
   },
   {
    "duration": 4,
    "start_time": "2023-03-10T15:02:42.518Z"
   },
   {
    "duration": 411,
    "start_time": "2023-03-10T15:02:42.948Z"
   },
   {
    "duration": 1798,
    "start_time": "2023-03-13T12:58:08.905Z"
   },
   {
    "duration": 6,
    "start_time": "2023-03-13T12:58:24.638Z"
   },
   {
    "duration": 83,
    "start_time": "2023-03-13T12:58:24.647Z"
   },
   {
    "duration": 18,
    "start_time": "2023-03-13T12:58:24.733Z"
   },
   {
    "duration": 12,
    "start_time": "2023-03-13T12:58:24.753Z"
   },
   {
    "duration": 25,
    "start_time": "2023-03-13T12:58:24.768Z"
   },
   {
    "duration": 544,
    "start_time": "2023-03-13T12:58:24.795Z"
   },
   {
    "duration": 5,
    "start_time": "2023-03-13T12:58:25.341Z"
   },
   {
    "duration": 33,
    "start_time": "2023-03-13T12:58:25.347Z"
   },
   {
    "duration": 38,
    "start_time": "2023-03-13T12:58:25.382Z"
   },
   {
    "duration": 14,
    "start_time": "2023-03-13T12:58:25.422Z"
   },
   {
    "duration": 8,
    "start_time": "2023-03-13T12:58:25.438Z"
   },
   {
    "duration": 8,
    "start_time": "2023-03-13T12:59:34.286Z"
   },
   {
    "duration": 5,
    "start_time": "2023-03-13T13:01:51.248Z"
   },
   {
    "duration": 5,
    "start_time": "2023-03-13T13:04:53.522Z"
   },
   {
    "duration": 413,
    "start_time": "2023-03-13T13:04:55.257Z"
   },
   {
    "duration": 5,
    "start_time": "2023-03-13T13:05:37.713Z"
   },
   {
    "duration": 414,
    "start_time": "2023-03-13T13:05:37.964Z"
   },
   {
    "duration": 4,
    "start_time": "2023-03-13T13:08:56.210Z"
   },
   {
    "duration": 4,
    "start_time": "2023-03-13T13:09:13.722Z"
   },
   {
    "duration": 555,
    "start_time": "2023-03-13T13:09:14.271Z"
   },
   {
    "duration": 4,
    "start_time": "2023-03-13T13:09:23.403Z"
   },
   {
    "duration": 399,
    "start_time": "2023-03-13T13:09:24.423Z"
   },
   {
    "duration": 4,
    "start_time": "2023-03-13T13:09:29.388Z"
   },
   {
    "duration": 410,
    "start_time": "2023-03-13T13:09:29.989Z"
   },
   {
    "duration": 6,
    "start_time": "2023-03-13T13:09:38.241Z"
   },
   {
    "duration": 424,
    "start_time": "2023-03-13T13:09:38.774Z"
   },
   {
    "duration": 4,
    "start_time": "2023-03-13T13:14:33.044Z"
   },
   {
    "duration": 15,
    "start_time": "2023-03-13T13:19:00.190Z"
   },
   {
    "duration": 3,
    "start_time": "2023-03-13T13:19:28.064Z"
   },
   {
    "duration": 69,
    "start_time": "2023-03-13T13:19:28.600Z"
   },
   {
    "duration": 69,
    "start_time": "2023-03-13T13:19:38.396Z"
   },
   {
    "duration": 65,
    "start_time": "2023-03-13T13:19:41.354Z"
   },
   {
    "duration": 64,
    "start_time": "2023-03-13T13:20:29.900Z"
   },
   {
    "duration": 65,
    "start_time": "2023-03-13T13:20:36.394Z"
   },
   {
    "duration": 62,
    "start_time": "2023-03-13T13:20:59.362Z"
   },
   {
    "duration": 1915,
    "start_time": "2023-03-13T13:21:08.741Z"
   },
   {
    "duration": 19672,
    "start_time": "2023-03-13T13:21:18.367Z"
   },
   {
    "duration": 452266,
    "start_time": "2023-03-13T13:21:54.469Z"
   },
   {
    "duration": 130587,
    "start_time": "2023-03-13T13:29:34.958Z"
   },
   {
    "duration": 9,
    "start_time": "2023-03-14T12:27:06.014Z"
   },
   {
    "duration": 1530,
    "start_time": "2023-03-14T12:27:11.779Z"
   },
   {
    "duration": 61,
    "start_time": "2023-03-14T12:27:13.311Z"
   },
   {
    "duration": 14,
    "start_time": "2023-03-14T12:27:13.373Z"
   },
   {
    "duration": 11,
    "start_time": "2023-03-14T12:27:13.388Z"
   },
   {
    "duration": 42,
    "start_time": "2023-03-14T12:27:13.401Z"
   },
   {
    "duration": 442,
    "start_time": "2023-03-14T12:27:13.445Z"
   },
   {
    "duration": 4,
    "start_time": "2023-03-14T12:27:13.889Z"
   },
   {
    "duration": 6,
    "start_time": "2023-03-14T12:27:13.894Z"
   },
   {
    "duration": 20,
    "start_time": "2023-03-14T12:27:13.902Z"
   },
   {
    "duration": 22,
    "start_time": "2023-03-14T12:27:13.924Z"
   },
   {
    "duration": 15,
    "start_time": "2023-03-14T12:27:13.947Z"
   },
   {
    "duration": 7,
    "start_time": "2023-03-14T12:27:13.964Z"
   },
   {
    "duration": 4,
    "start_time": "2023-03-14T12:27:13.973Z"
   },
   {
    "duration": 6,
    "start_time": "2023-03-14T12:27:13.979Z"
   },
   {
    "duration": 6,
    "start_time": "2023-03-14T12:27:13.987Z"
   },
   {
    "duration": 4,
    "start_time": "2023-03-14T12:32:33.678Z"
   },
   {
    "duration": 130,
    "start_time": "2023-03-14T12:32:34.034Z"
   },
   {
    "duration": 5,
    "start_time": "2023-03-14T12:34:46.537Z"
   },
   {
    "duration": 463,
    "start_time": "2023-03-14T12:34:46.790Z"
   },
   {
    "duration": 6,
    "start_time": "2023-03-14T12:36:14.902Z"
   },
   {
    "duration": 429,
    "start_time": "2023-03-14T12:36:15.224Z"
   },
   {
    "duration": 5,
    "start_time": "2023-03-14T12:36:48.817Z"
   },
   {
    "duration": 29,
    "start_time": "2023-03-14T12:36:49.340Z"
   },
   {
    "duration": 5,
    "start_time": "2023-03-14T12:38:08.147Z"
   },
   {
    "duration": 439,
    "start_time": "2023-03-14T12:38:08.495Z"
   },
   {
    "duration": 4,
    "start_time": "2023-03-14T12:38:52.522Z"
   },
   {
    "duration": 6,
    "start_time": "2023-03-14T12:39:07.342Z"
   },
   {
    "duration": 437,
    "start_time": "2023-03-14T12:39:07.643Z"
   },
   {
    "duration": 6,
    "start_time": "2023-03-14T12:39:22.730Z"
   },
   {
    "duration": 471,
    "start_time": "2023-03-14T12:39:23.352Z"
   },
   {
    "duration": 18,
    "start_time": "2023-03-14T12:47:56.510Z"
   },
   {
    "duration": 6,
    "start_time": "2023-03-14T12:47:59.971Z"
   },
   {
    "duration": 24469,
    "start_time": "2023-03-14T12:48:00.343Z"
   },
   {
    "duration": 6,
    "start_time": "2023-03-14T12:49:13.257Z"
   },
   {
    "duration": 4,
    "start_time": "2023-03-14T12:51:38.414Z"
   },
   {
    "duration": 30,
    "start_time": "2023-03-14T12:51:39.387Z"
   },
   {
    "duration": 4,
    "start_time": "2023-03-14T12:53:12.439Z"
   },
   {
    "duration": 6,
    "start_time": "2023-03-14T12:54:16.430Z"
   },
   {
    "duration": 26,
    "start_time": "2023-03-14T12:55:58.020Z"
   },
   {
    "duration": 4,
    "start_time": "2023-03-14T12:58:34.272Z"
   },
   {
    "duration": 26,
    "start_time": "2023-03-14T12:58:34.661Z"
   },
   {
    "duration": 30,
    "start_time": "2023-03-14T12:59:02.934Z"
   },
   {
    "duration": 4,
    "start_time": "2023-03-14T13:00:36.594Z"
   },
   {
    "duration": 22,
    "start_time": "2023-03-14T13:00:37.038Z"
   },
   {
    "duration": 5,
    "start_time": "2023-03-14T13:01:29.830Z"
   },
   {
    "duration": 26,
    "start_time": "2023-03-14T13:01:30.505Z"
   },
   {
    "duration": 4,
    "start_time": "2023-03-14T13:04:00.100Z"
   },
   {
    "duration": 31,
    "start_time": "2023-03-14T13:04:00.959Z"
   },
   {
    "duration": 4,
    "start_time": "2023-03-14T13:04:25.155Z"
   },
   {
    "duration": 27,
    "start_time": "2023-03-14T13:04:25.406Z"
   },
   {
    "duration": 6,
    "start_time": "2023-03-14T13:05:17.660Z"
   },
   {
    "duration": 25,
    "start_time": "2023-03-14T13:05:18.012Z"
   },
   {
    "duration": 4,
    "start_time": "2023-03-14T13:05:25.165Z"
   },
   {
    "duration": 27,
    "start_time": "2023-03-14T13:05:25.171Z"
   },
   {
    "duration": 9,
    "start_time": "2023-03-14T13:05:25.200Z"
   },
   {
    "duration": 20,
    "start_time": "2023-03-14T13:05:25.211Z"
   },
   {
    "duration": 32,
    "start_time": "2023-03-14T13:05:25.234Z"
   },
   {
    "duration": 455,
    "start_time": "2023-03-14T13:05:25.268Z"
   },
   {
    "duration": 4,
    "start_time": "2023-03-14T13:05:25.724Z"
   },
   {
    "duration": 18,
    "start_time": "2023-03-14T13:05:25.729Z"
   },
   {
    "duration": 7,
    "start_time": "2023-03-14T13:05:25.748Z"
   },
   {
    "duration": 24,
    "start_time": "2023-03-14T13:05:25.757Z"
   },
   {
    "duration": 4,
    "start_time": "2023-03-14T13:05:25.783Z"
   },
   {
    "duration": 7,
    "start_time": "2023-03-14T13:05:25.788Z"
   },
   {
    "duration": 8,
    "start_time": "2023-03-14T13:05:25.796Z"
   },
   {
    "duration": 16,
    "start_time": "2023-03-14T13:05:25.806Z"
   },
   {
    "duration": 6,
    "start_time": "2023-03-14T13:05:28.619Z"
   },
   {
    "duration": 449,
    "start_time": "2023-03-14T13:05:29.278Z"
   },
   {
    "duration": 4,
    "start_time": "2023-03-14T13:05:33.107Z"
   },
   {
    "duration": 24476,
    "start_time": "2023-03-14T13:05:33.606Z"
   },
   {
    "duration": 78,
    "start_time": "2023-03-14T13:08:14.207Z"
   },
   {
    "duration": 70,
    "start_time": "2023-03-14T13:08:26.506Z"
   },
   {
    "duration": 24476,
    "start_time": "2023-03-14T13:08:38.652Z"
   },
   {
    "duration": 75256,
    "start_time": "2023-03-14T13:09:22.169Z"
   },
   {
    "duration": 30,
    "start_time": "2023-03-14T13:12:28.721Z"
   },
   {
    "duration": 4,
    "start_time": "2023-03-14T13:12:36.906Z"
   },
   {
    "duration": 80569,
    "start_time": "2023-03-14T13:13:54.546Z"
   },
   {
    "duration": 496313,
    "start_time": "2023-03-14T13:15:37.401Z"
   },
   {
    "duration": 4487925,
    "start_time": "2023-03-14T13:27:13.711Z"
   },
   {
    "duration": 238,
    "start_time": "2023-03-14T15:29:01.149Z"
   },
   {
    "duration": 5026,
    "start_time": "2023-03-14T15:29:14.131Z"
   },
   {
    "duration": 243,
    "start_time": "2023-03-14T15:29:24.298Z"
   },
   {
    "duration": 20907,
    "start_time": "2023-03-14T15:29:51.852Z"
   },
   {
    "duration": 178,
    "start_time": "2023-03-14T15:30:16.303Z"
   },
   {
    "duration": 370,
    "start_time": "2023-03-14T15:30:48.652Z"
   },
   {
    "duration": 26,
    "start_time": "2023-03-14T15:35:46.445Z"
   },
   {
    "duration": 22398,
    "start_time": "2023-03-14T15:36:04.134Z"
   },
   {
    "duration": 9,
    "start_time": "2023-03-14T15:39:06.065Z"
   },
   {
    "duration": 10,
    "start_time": "2023-03-14T15:39:12.480Z"
   },
   {
    "duration": 18604,
    "start_time": "2023-03-14T15:39:52.987Z"
   },
   {
    "duration": 15,
    "start_time": "2023-03-14T15:41:20.008Z"
   },
   {
    "duration": 8,
    "start_time": "2023-03-14T15:41:55.802Z"
   },
   {
    "duration": 5412,
    "start_time": "2023-03-14T15:41:56.202Z"
   },
   {
    "duration": 16,
    "start_time": "2023-03-14T15:42:01.615Z"
   },
   {
    "duration": 13,
    "start_time": "2023-03-14T15:42:15.557Z"
   },
   {
    "duration": 9,
    "start_time": "2023-03-14T15:44:37.213Z"
   },
   {
    "duration": 26,
    "start_time": "2023-03-14T15:44:38.068Z"
   },
   {
    "duration": 7,
    "start_time": "2023-03-14T15:47:33.350Z"
   },
   {
    "duration": 38,
    "start_time": "2023-03-14T15:47:33.817Z"
   },
   {
    "duration": 8,
    "start_time": "2023-03-14T15:48:45.646Z"
   },
   {
    "duration": 19,
    "start_time": "2023-03-14T15:48:46.118Z"
   },
   {
    "duration": 10,
    "start_time": "2023-03-14T15:49:35.119Z"
   },
   {
    "duration": 1121,
    "start_time": "2023-03-14T15:49:35.941Z"
   },
   {
    "duration": 7,
    "start_time": "2023-03-14T15:49:55.876Z"
   },
   {
    "duration": 819,
    "start_time": "2023-03-14T15:49:56.431Z"
   },
   {
    "duration": 18,
    "start_time": "2023-03-14T15:49:59.001Z"
   },
   {
    "duration": 14,
    "start_time": "2023-03-14T15:50:27.226Z"
   },
   {
    "duration": 11,
    "start_time": "2023-03-14T15:50:35.022Z"
   },
   {
    "duration": 7070,
    "start_time": "2023-03-14T15:50:35.534Z"
   },
   {
    "duration": 14,
    "start_time": "2023-03-14T15:50:45.213Z"
   },
   {
    "duration": 12,
    "start_time": "2023-03-14T15:51:53.449Z"
   },
   {
    "duration": 7396,
    "start_time": "2023-03-14T15:51:53.953Z"
   },
   {
    "duration": 15,
    "start_time": "2023-03-14T15:52:01.945Z"
   },
   {
    "duration": 10,
    "start_time": "2023-03-14T15:52:34.601Z"
   },
   {
    "duration": 22926,
    "start_time": "2023-03-14T15:52:34.954Z"
   },
   {
    "duration": 24,
    "start_time": "2023-03-14T15:52:57.884Z"
   },
   {
    "duration": 12,
    "start_time": "2023-03-14T15:53:17.700Z"
   },
   {
    "duration": 45769,
    "start_time": "2023-03-14T15:53:18.267Z"
   },
   {
    "duration": 16,
    "start_time": "2023-03-14T15:54:04.038Z"
   },
   {
    "duration": 20,
    "start_time": "2023-03-14T15:54:13.531Z"
   },
   {
    "duration": 18,
    "start_time": "2023-03-14T15:55:08.892Z"
   },
   {
    "duration": 355,
    "start_time": "2023-03-14T15:56:11.237Z"
   },
   {
    "duration": 196,
    "start_time": "2023-03-14T15:57:28.434Z"
   },
   {
    "duration": 14,
    "start_time": "2023-03-14T15:57:40.294Z"
   },
   {
    "duration": 372,
    "start_time": "2023-03-14T15:57:47.702Z"
   },
   {
    "duration": 198,
    "start_time": "2023-03-14T15:57:58.706Z"
   },
   {
    "duration": 47,
    "start_time": "2023-03-14T15:59:48.234Z"
   },
   {
    "duration": 22232,
    "start_time": "2023-03-14T16:01:16.910Z"
   },
   {
    "duration": 27,
    "start_time": "2023-03-14T16:04:06.830Z"
   },
   {
    "duration": 5,
    "start_time": "2023-03-14T16:04:42.655Z"
   },
   {
    "duration": 30623,
    "start_time": "2023-03-14T16:04:43.076Z"
   },
   {
    "duration": 30949,
    "start_time": "2023-03-14T16:06:42.544Z"
   },
   {
    "duration": 38,
    "start_time": "2023-03-14T16:10:03.904Z"
   },
   {
    "duration": 29101,
    "start_time": "2023-03-14T16:10:14.833Z"
   },
   {
    "duration": 85926,
    "start_time": "2023-03-14T16:11:07.504Z"
   },
   {
    "duration": 100285,
    "start_time": "2023-03-14T16:15:39.964Z"
   },
   {
    "duration": 174,
    "start_time": "2023-03-14T16:18:18.650Z"
   },
   {
    "duration": 169,
    "start_time": "2023-03-14T16:18:36.017Z"
   },
   {
    "duration": 261,
    "start_time": "2023-03-14T16:18:44.925Z"
   },
   {
    "duration": 1447,
    "start_time": "2023-03-14T16:18:52.398Z"
   },
   {
    "duration": 4271,
    "start_time": "2023-03-14T16:19:06.129Z"
   },
   {
    "duration": 5,
    "start_time": "2023-03-14T16:20:13.903Z"
   },
   {
    "duration": 80935,
    "start_time": "2023-03-14T16:20:14.654Z"
   },
   {
    "duration": 1169,
    "start_time": "2023-03-14T16:22:04.325Z"
   },
   {
    "duration": 84065,
    "start_time": "2023-03-14T16:22:56.991Z"
   },
   {
    "duration": 1203,
    "start_time": "2023-03-14T16:25:40.829Z"
   },
   {
    "duration": 4086,
    "start_time": "2023-03-14T16:26:37.595Z"
   },
   {
    "duration": 52,
    "start_time": "2023-03-14T16:27:07.739Z"
   },
   {
    "duration": 37773,
    "start_time": "2023-03-14T16:28:11.470Z"
   },
   {
    "duration": 37116,
    "start_time": "2023-03-14T16:29:18.507Z"
   },
   {
    "duration": 36401,
    "start_time": "2023-03-14T16:31:17.143Z"
   },
   {
    "duration": 6,
    "start_time": "2023-03-14T16:32:41.770Z"
   },
   {
    "duration": 5,
    "start_time": "2023-03-14T16:32:42.410Z"
   },
   {
    "duration": 7,
    "start_time": "2023-03-14T16:32:43.918Z"
   },
   {
    "duration": 6,
    "start_time": "2023-03-14T16:32:45.032Z"
   },
   {
    "duration": 7,
    "start_time": "2023-03-14T16:32:45.842Z"
   },
   {
    "duration": 5,
    "start_time": "2023-03-14T16:33:00.801Z"
   },
   {
    "duration": 77,
    "start_time": "2023-03-14T16:33:00.808Z"
   },
   {
    "duration": 32,
    "start_time": "2023-03-14T16:33:00.886Z"
   },
   {
    "duration": 50,
    "start_time": "2023-03-14T16:33:00.920Z"
   },
   {
    "duration": 61,
    "start_time": "2023-03-14T16:33:00.973Z"
   },
   {
    "duration": 466,
    "start_time": "2023-03-14T16:33:01.036Z"
   },
   {
    "duration": 4,
    "start_time": "2023-03-14T16:33:01.503Z"
   },
   {
    "duration": 31,
    "start_time": "2023-03-14T16:33:01.509Z"
   },
   {
    "duration": 22,
    "start_time": "2023-03-14T16:33:01.541Z"
   },
   {
    "duration": 40,
    "start_time": "2023-03-14T16:33:01.564Z"
   },
   {
    "duration": 22,
    "start_time": "2023-03-14T16:33:01.606Z"
   },
   {
    "duration": 46,
    "start_time": "2023-03-14T16:33:01.629Z"
   },
   {
    "duration": 63,
    "start_time": "2023-03-14T16:33:01.677Z"
   },
   {
    "duration": 36,
    "start_time": "2023-03-14T16:33:01.742Z"
   },
   {
    "duration": 43,
    "start_time": "2023-03-14T16:33:01.780Z"
   },
   {
    "duration": 543,
    "start_time": "2023-03-14T16:33:01.825Z"
   },
   {
    "duration": 4,
    "start_time": "2023-03-14T16:33:02.370Z"
   },
   {
    "duration": 38275,
    "start_time": "2023-03-14T16:33:05.194Z"
   },
   {
    "duration": 36264,
    "start_time": "2023-03-14T16:36:08.294Z"
   },
   {
    "duration": 49,
    "start_time": "2023-03-15T15:27:31.810Z"
   },
   {
    "duration": 0,
    "start_time": "2023-03-15T15:27:31.862Z"
   },
   {
    "duration": 0,
    "start_time": "2023-03-15T15:27:31.863Z"
   },
   {
    "duration": 0,
    "start_time": "2023-03-15T15:27:31.865Z"
   },
   {
    "duration": 0,
    "start_time": "2023-03-15T15:27:31.866Z"
   },
   {
    "duration": 0,
    "start_time": "2023-03-15T15:27:31.868Z"
   },
   {
    "duration": 0,
    "start_time": "2023-03-15T15:27:31.869Z"
   },
   {
    "duration": 0,
    "start_time": "2023-03-15T15:27:31.871Z"
   },
   {
    "duration": 0,
    "start_time": "2023-03-15T15:27:31.873Z"
   },
   {
    "duration": 0,
    "start_time": "2023-03-15T15:27:31.874Z"
   },
   {
    "duration": 0,
    "start_time": "2023-03-15T15:27:31.875Z"
   },
   {
    "duration": 1763,
    "start_time": "2023-03-15T15:27:39.025Z"
   },
   {
    "duration": 69,
    "start_time": "2023-03-15T15:27:40.791Z"
   },
   {
    "duration": 16,
    "start_time": "2023-03-15T15:27:40.862Z"
   },
   {
    "duration": 21,
    "start_time": "2023-03-15T15:27:40.880Z"
   },
   {
    "duration": 51,
    "start_time": "2023-03-15T15:27:40.904Z"
   },
   {
    "duration": 486,
    "start_time": "2023-03-15T15:27:40.957Z"
   },
   {
    "duration": 5,
    "start_time": "2023-03-15T15:28:06.558Z"
   },
   {
    "duration": 7,
    "start_time": "2023-03-15T15:28:07.851Z"
   },
   {
    "duration": 7,
    "start_time": "2023-03-15T15:28:08.531Z"
   },
   {
    "duration": 8,
    "start_time": "2023-03-15T15:28:10.558Z"
   },
   {
    "duration": 15,
    "start_time": "2023-03-15T15:28:10.864Z"
   },
   {
    "duration": 6,
    "start_time": "2023-03-15T15:28:11.177Z"
   },
   {
    "duration": 5,
    "start_time": "2023-03-15T15:28:15.985Z"
   },
   {
    "duration": 485,
    "start_time": "2023-03-15T15:28:17.141Z"
   },
   {
    "duration": 4,
    "start_time": "2023-03-15T15:29:06.781Z"
   },
   {
    "duration": 76,
    "start_time": "2023-03-15T15:33:20.294Z"
   },
   {
    "duration": 334,
    "start_time": "2023-03-15T15:33:55.690Z"
   },
   {
    "duration": 4771,
    "start_time": "2023-03-15T15:34:03.347Z"
   },
   {
    "duration": 10,
    "start_time": "2023-03-15T15:38:25.171Z"
   },
   {
    "duration": 5409,
    "start_time": "2023-03-15T15:38:25.429Z"
   },
   {
    "duration": 5492,
    "start_time": "2023-03-15T15:38:59.634Z"
   },
   {
    "duration": 4,
    "start_time": "2023-03-15T15:40:31.482Z"
   },
   {
    "duration": 5293,
    "start_time": "2023-03-15T15:40:32.316Z"
   },
   {
    "duration": 4,
    "start_time": "2023-03-15T15:41:10.159Z"
   },
   {
    "duration": 5159,
    "start_time": "2023-03-15T15:41:10.465Z"
   },
   {
    "duration": 332,
    "start_time": "2023-03-15T15:41:32.806Z"
   },
   {
    "duration": 316,
    "start_time": "2023-03-15T15:41:46.545Z"
   },
   {
    "duration": 356,
    "start_time": "2023-03-15T15:41:54.118Z"
   },
   {
    "duration": 328,
    "start_time": "2023-03-15T15:42:03.717Z"
   },
   {
    "duration": 318,
    "start_time": "2023-03-15T15:42:35.906Z"
   },
   {
    "duration": 336,
    "start_time": "2023-03-15T15:42:46.634Z"
   },
   {
    "duration": 4,
    "start_time": "2023-03-15T15:42:58.943Z"
   },
   {
    "duration": 1647,
    "start_time": "2023-03-15T15:43:14.997Z"
   },
   {
    "duration": 32,
    "start_time": "2023-03-15T15:43:16.646Z"
   },
   {
    "duration": 16,
    "start_time": "2023-03-15T15:43:16.681Z"
   },
   {
    "duration": 12,
    "start_time": "2023-03-15T15:43:16.699Z"
   },
   {
    "duration": 24,
    "start_time": "2023-03-15T15:43:16.714Z"
   },
   {
    "duration": 495,
    "start_time": "2023-03-15T15:43:16.740Z"
   },
   {
    "duration": 3,
    "start_time": "2023-03-15T15:43:17.237Z"
   },
   {
    "duration": 10,
    "start_time": "2023-03-15T15:43:17.242Z"
   },
   {
    "duration": 7,
    "start_time": "2023-03-15T15:43:17.253Z"
   },
   {
    "duration": 17,
    "start_time": "2023-03-15T15:43:17.262Z"
   },
   {
    "duration": 15,
    "start_time": "2023-03-15T15:43:17.281Z"
   },
   {
    "duration": 6,
    "start_time": "2023-03-15T15:43:17.298Z"
   },
   {
    "duration": 6,
    "start_time": "2023-03-15T15:43:17.305Z"
   },
   {
    "duration": 481,
    "start_time": "2023-03-15T15:43:17.318Z"
   },
   {
    "duration": 4,
    "start_time": "2023-03-15T15:43:17.801Z"
   },
   {
    "duration": 151,
    "start_time": "2023-03-15T15:43:17.806Z"
   },
   {
    "duration": 0,
    "start_time": "2023-03-15T15:43:17.958Z"
   },
   {
    "duration": 4921,
    "start_time": "2023-03-15T15:43:56.457Z"
   },
   {
    "duration": 4994,
    "start_time": "2023-03-15T15:44:34.327Z"
   },
   {
    "duration": 294,
    "start_time": "2023-03-15T15:44:41.717Z"
   },
   {
    "duration": 4,
    "start_time": "2023-03-15T15:45:15.719Z"
   },
   {
    "duration": 4652,
    "start_time": "2023-03-15T15:45:44.227Z"
   },
   {
    "duration": 4377,
    "start_time": "2023-03-15T15:45:53.841Z"
   },
   {
    "duration": 4530,
    "start_time": "2023-03-15T15:46:15.847Z"
   },
   {
    "duration": 67,
    "start_time": "2023-03-15T15:47:22.426Z"
   },
   {
    "duration": 332,
    "start_time": "2023-03-15T15:47:26.802Z"
   },
   {
    "duration": 327,
    "start_time": "2023-03-15T15:48:12.161Z"
   },
   {
    "duration": 10,
    "start_time": "2023-03-15T15:50:47.983Z"
   },
   {
    "duration": 12,
    "start_time": "2023-03-15T15:51:20.285Z"
   },
   {
    "duration": 7,
    "start_time": "2023-03-15T15:51:38.383Z"
   },
   {
    "duration": 6,
    "start_time": "2023-03-15T15:51:44.404Z"
   },
   {
    "duration": 11,
    "start_time": "2023-03-15T15:54:33.197Z"
   },
   {
    "duration": 6,
    "start_time": "2023-03-15T15:54:47.733Z"
   },
   {
    "duration": 6,
    "start_time": "2023-03-15T15:55:32.647Z"
   },
   {
    "duration": 8,
    "start_time": "2023-03-15T15:56:17.572Z"
   },
   {
    "duration": 12,
    "start_time": "2023-03-15T15:57:43.246Z"
   },
   {
    "duration": 6,
    "start_time": "2023-03-15T15:57:48.083Z"
   },
   {
    "duration": 6,
    "start_time": "2023-03-15T15:58:09.508Z"
   },
   {
    "duration": 7,
    "start_time": "2023-03-15T16:00:18.055Z"
   },
   {
    "duration": 319,
    "start_time": "2023-03-15T16:03:13.206Z"
   },
   {
    "duration": 326,
    "start_time": "2023-03-15T16:03:20.486Z"
   },
   {
    "duration": 324,
    "start_time": "2023-03-15T16:03:28.765Z"
   },
   {
    "duration": 362,
    "start_time": "2023-03-15T16:04:19.414Z"
   },
   {
    "duration": 2566,
    "start_time": "2023-03-15T16:55:31.182Z"
   },
   {
    "duration": 131,
    "start_time": "2023-03-15T16:55:33.750Z"
   },
   {
    "duration": 15,
    "start_time": "2023-03-15T16:55:33.883Z"
   },
   {
    "duration": 11,
    "start_time": "2023-03-15T16:55:33.900Z"
   },
   {
    "duration": 46,
    "start_time": "2023-03-15T16:55:33.913Z"
   },
   {
    "duration": 531,
    "start_time": "2023-03-15T16:55:33.962Z"
   },
   {
    "duration": 5,
    "start_time": "2023-03-15T16:55:34.494Z"
   },
   {
    "duration": 12,
    "start_time": "2023-03-15T16:55:34.502Z"
   },
   {
    "duration": 17,
    "start_time": "2023-03-15T16:55:34.516Z"
   },
   {
    "duration": 25,
    "start_time": "2023-03-15T16:55:34.535Z"
   },
   {
    "duration": 7,
    "start_time": "2023-03-15T16:55:34.562Z"
   },
   {
    "duration": 12,
    "start_time": "2023-03-15T16:55:34.571Z"
   },
   {
    "duration": 7,
    "start_time": "2023-03-15T16:55:34.585Z"
   },
   {
    "duration": 538,
    "start_time": "2023-03-15T16:55:34.595Z"
   },
   {
    "duration": 9,
    "start_time": "2023-03-15T16:55:35.135Z"
   },
   {
    "duration": 4781,
    "start_time": "2023-03-15T16:55:35.145Z"
   },
   {
    "duration": 452,
    "start_time": "2023-03-15T16:55:39.927Z"
   },
   {
    "duration": 0,
    "start_time": "2023-03-15T16:55:40.381Z"
   },
   {
    "duration": 0,
    "start_time": "2023-03-15T16:55:40.383Z"
   },
   {
    "duration": 1644,
    "start_time": "2023-03-15T18:39:48.214Z"
   },
   {
    "duration": 172,
    "start_time": "2023-03-15T18:39:49.860Z"
   },
   {
    "duration": 18,
    "start_time": "2023-03-15T18:39:50.034Z"
   },
   {
    "duration": 49,
    "start_time": "2023-03-15T18:39:50.054Z"
   },
   {
    "duration": 47,
    "start_time": "2023-03-15T18:39:50.105Z"
   },
   {
    "duration": 504,
    "start_time": "2023-03-15T18:39:50.154Z"
   },
   {
    "duration": 5,
    "start_time": "2023-03-15T18:39:50.660Z"
   },
   {
    "duration": 30,
    "start_time": "2023-03-15T18:39:50.667Z"
   },
   {
    "duration": 17,
    "start_time": "2023-03-15T18:39:50.698Z"
   },
   {
    "duration": 41,
    "start_time": "2023-03-15T18:39:50.716Z"
   },
   {
    "duration": 28,
    "start_time": "2023-03-15T18:39:50.759Z"
   },
   {
    "duration": 24,
    "start_time": "2023-03-15T18:39:50.789Z"
   },
   {
    "duration": 28,
    "start_time": "2023-03-15T18:39:50.815Z"
   },
   {
    "duration": 478,
    "start_time": "2023-03-15T18:39:50.847Z"
   },
   {
    "duration": 3,
    "start_time": "2023-03-15T18:39:51.327Z"
   },
   {
    "duration": 4657,
    "start_time": "2023-03-15T18:39:51.332Z"
   },
   {
    "duration": 344,
    "start_time": "2023-03-15T18:40:15.266Z"
   },
   {
    "duration": 5,
    "start_time": "2023-03-15T18:50:44.820Z"
   },
   {
    "duration": 418,
    "start_time": "2023-03-15T18:50:46.832Z"
   },
   {
    "duration": 298,
    "start_time": "2023-03-15T18:50:54.867Z"
   },
   {
    "duration": 1513,
    "start_time": "2023-03-15T18:51:02.979Z"
   },
   {
    "duration": 32,
    "start_time": "2023-03-15T18:51:04.494Z"
   },
   {
    "duration": 16,
    "start_time": "2023-03-15T18:51:04.527Z"
   },
   {
    "duration": 16,
    "start_time": "2023-03-15T18:51:04.544Z"
   },
   {
    "duration": 25,
    "start_time": "2023-03-15T18:51:04.562Z"
   },
   {
    "duration": 479,
    "start_time": "2023-03-15T18:51:04.589Z"
   },
   {
    "duration": 12,
    "start_time": "2023-03-15T18:51:05.070Z"
   },
   {
    "duration": 21,
    "start_time": "2023-03-15T18:51:05.084Z"
   },
   {
    "duration": 19,
    "start_time": "2023-03-15T18:51:05.106Z"
   },
   {
    "duration": 20,
    "start_time": "2023-03-15T18:51:05.127Z"
   },
   {
    "duration": 25,
    "start_time": "2023-03-15T18:51:05.148Z"
   },
   {
    "duration": 20,
    "start_time": "2023-03-15T18:51:05.175Z"
   },
   {
    "duration": 20,
    "start_time": "2023-03-15T18:51:05.197Z"
   },
   {
    "duration": 479,
    "start_time": "2023-03-15T18:51:05.220Z"
   },
   {
    "duration": 3,
    "start_time": "2023-03-15T18:51:05.702Z"
   },
   {
    "duration": 4843,
    "start_time": "2023-03-15T18:51:05.707Z"
   },
   {
    "duration": 332,
    "start_time": "2023-03-15T18:51:10.552Z"
   },
   {
    "duration": 6,
    "start_time": "2023-03-15T18:51:10.886Z"
   },
   {
    "duration": 18,
    "start_time": "2023-03-15T18:51:10.901Z"
   },
   {
    "duration": 3,
    "start_time": "2023-03-15T20:00:02.962Z"
   },
   {
    "duration": 4,
    "start_time": "2023-03-15T20:00:13.349Z"
   },
   {
    "duration": 36,
    "start_time": "2023-03-15T20:00:13.355Z"
   },
   {
    "duration": 10,
    "start_time": "2023-03-15T20:00:13.393Z"
   },
   {
    "duration": 14,
    "start_time": "2023-03-15T20:00:13.404Z"
   },
   {
    "duration": 25,
    "start_time": "2023-03-15T20:00:13.421Z"
   },
   {
    "duration": 552,
    "start_time": "2023-03-15T20:00:13.447Z"
   },
   {
    "duration": 4,
    "start_time": "2023-03-15T20:00:14.001Z"
   },
   {
    "duration": 34,
    "start_time": "2023-03-15T20:00:14.007Z"
   },
   {
    "duration": 12,
    "start_time": "2023-03-15T20:00:14.043Z"
   },
   {
    "duration": 25,
    "start_time": "2023-03-15T20:00:14.057Z"
   },
   {
    "duration": 10,
    "start_time": "2023-03-15T20:00:14.083Z"
   },
   {
    "duration": 19,
    "start_time": "2023-03-15T20:00:14.095Z"
   },
   {
    "duration": 6,
    "start_time": "2023-03-15T20:00:14.116Z"
   },
   {
    "duration": 426,
    "start_time": "2023-03-15T20:00:14.124Z"
   },
   {
    "duration": 4335,
    "start_time": "2023-03-15T20:01:06.228Z"
   },
   {
    "duration": 1461,
    "start_time": "2023-03-15T20:01:28.694Z"
   },
   {
    "duration": 31,
    "start_time": "2023-03-15T20:01:30.157Z"
   },
   {
    "duration": 15,
    "start_time": "2023-03-15T20:01:30.190Z"
   },
   {
    "duration": 21,
    "start_time": "2023-03-15T20:01:30.206Z"
   },
   {
    "duration": 44,
    "start_time": "2023-03-15T20:01:30.230Z"
   },
   {
    "duration": 479,
    "start_time": "2023-03-15T20:01:30.275Z"
   },
   {
    "duration": 4,
    "start_time": "2023-03-15T20:01:30.756Z"
   },
   {
    "duration": 47,
    "start_time": "2023-03-15T20:01:30.762Z"
   },
   {
    "duration": 42,
    "start_time": "2023-03-15T20:01:30.811Z"
   },
   {
    "duration": 45,
    "start_time": "2023-03-15T20:01:30.855Z"
   },
   {
    "duration": 51,
    "start_time": "2023-03-15T20:01:30.901Z"
   },
   {
    "duration": 37,
    "start_time": "2023-03-15T20:01:30.953Z"
   },
   {
    "duration": 43,
    "start_time": "2023-03-15T20:01:30.992Z"
   },
   {
    "duration": 494,
    "start_time": "2023-03-15T20:01:31.038Z"
   },
   {
    "duration": 4,
    "start_time": "2023-03-15T20:01:31.534Z"
   },
   {
    "duration": 250,
    "start_time": "2023-03-15T20:01:31.540Z"
   },
   {
    "duration": 0,
    "start_time": "2023-03-15T20:01:31.792Z"
   },
   {
    "duration": 0,
    "start_time": "2023-03-15T20:01:31.793Z"
   },
   {
    "duration": 0,
    "start_time": "2023-03-15T20:01:31.795Z"
   },
   {
    "duration": 4556,
    "start_time": "2023-03-15T20:02:26.090Z"
   },
   {
    "duration": 4840,
    "start_time": "2023-03-15T20:03:01.753Z"
   },
   {
    "duration": 5,
    "start_time": "2023-03-15T20:04:54.942Z"
   },
   {
    "duration": 43,
    "start_time": "2023-03-15T20:04:55.224Z"
   },
   {
    "duration": 5,
    "start_time": "2023-03-15T20:07:09.220Z"
   },
   {
    "duration": 4,
    "start_time": "2023-03-15T20:07:25.893Z"
   },
   {
    "duration": 4710,
    "start_time": "2023-03-15T20:07:26.126Z"
   },
   {
    "duration": 4,
    "start_time": "2023-03-15T20:08:24.838Z"
   },
   {
    "duration": 4841,
    "start_time": "2023-03-15T20:08:25.093Z"
   },
   {
    "duration": 332,
    "start_time": "2023-03-15T20:09:13.055Z"
   },
   {
    "duration": 307,
    "start_time": "2023-03-15T20:09:39.719Z"
   },
   {
    "duration": 1709,
    "start_time": "2023-03-15T20:10:33.657Z"
   },
   {
    "duration": 33,
    "start_time": "2023-03-15T20:10:35.368Z"
   },
   {
    "duration": 18,
    "start_time": "2023-03-15T20:10:35.403Z"
   },
   {
    "duration": 18,
    "start_time": "2023-03-15T20:10:35.423Z"
   },
   {
    "duration": 41,
    "start_time": "2023-03-15T20:10:35.445Z"
   },
   {
    "duration": 704,
    "start_time": "2023-03-15T20:10:35.489Z"
   },
   {
    "duration": 4,
    "start_time": "2023-03-15T20:10:36.195Z"
   },
   {
    "duration": 28,
    "start_time": "2023-03-15T20:10:36.201Z"
   },
   {
    "duration": 6,
    "start_time": "2023-03-15T20:10:36.232Z"
   },
   {
    "duration": 19,
    "start_time": "2023-03-15T20:10:36.240Z"
   },
   {
    "duration": 12,
    "start_time": "2023-03-15T20:10:36.261Z"
   },
   {
    "duration": 16,
    "start_time": "2023-03-15T20:10:36.275Z"
   },
   {
    "duration": 21,
    "start_time": "2023-03-15T20:10:36.293Z"
   },
   {
    "duration": 532,
    "start_time": "2023-03-15T20:10:36.318Z"
   },
   {
    "duration": 5,
    "start_time": "2023-03-15T20:10:36.851Z"
   },
   {
    "duration": 4847,
    "start_time": "2023-03-15T20:10:36.857Z"
   },
   {
    "duration": 496,
    "start_time": "2023-03-15T20:10:41.706Z"
   },
   {
    "duration": 8,
    "start_time": "2023-03-15T20:10:42.204Z"
   },
   {
    "duration": 28,
    "start_time": "2023-03-15T20:10:42.215Z"
   }
  ],
  "kernelspec": {
   "display_name": "Python 3 (ipykernel)",
   "language": "python",
   "name": "python3"
  },
  "language_info": {
   "codemirror_mode": {
    "name": "ipython",
    "version": 3
   },
   "file_extension": ".py",
   "mimetype": "text/x-python",
   "name": "python",
   "nbconvert_exporter": "python",
   "pygments_lexer": "ipython3",
   "version": "3.9.5"
  },
  "toc": {
   "base_numbering": 1,
   "nav_menu": {},
   "number_sections": true,
   "sideBar": true,
   "skip_h1_title": true,
   "title_cell": "Table of Contents",
   "title_sidebar": "Contents",
   "toc_cell": false,
   "toc_position": {},
   "toc_section_display": true,
   "toc_window_display": false
  }
 },
 "nbformat": 4,
 "nbformat_minor": 2
}
