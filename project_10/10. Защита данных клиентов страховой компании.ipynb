{
 "cells": [
  {
   "cell_type": "markdown",
   "metadata": {
    "toc": true
   },
   "source": [
    "<h1>Содержание<span class=\"tocSkip\"></span></h1>\n",
    "<div class=\"toc\"><ul class=\"toc-item\"><li><span><a href=\"#Загрузка-данных\" data-toc-modified-id=\"Загрузка-данных-1\"><span class=\"toc-item-num\">1&nbsp;&nbsp;</span>Загрузка данных</a></span><ul class=\"toc-item\"><li><span><a href=\"#Вывод\" data-toc-modified-id=\"Вывод-1.1\"><span class=\"toc-item-num\">1.1&nbsp;&nbsp;</span>Вывод</a></span></li></ul></li><li><span><a href=\"#Умножение-матриц\" data-toc-modified-id=\"Умножение-матриц-2\"><span class=\"toc-item-num\">2&nbsp;&nbsp;</span>Умножение матриц</a></span></li><li><span><a href=\"#Алгоритм-преобразования\" data-toc-modified-id=\"Алгоритм-преобразования-3\"><span class=\"toc-item-num\">3&nbsp;&nbsp;</span>Алгоритм преобразования</a></span></li><li><span><a href=\"#Проверка-алгоритма\" data-toc-modified-id=\"Проверка-алгоритма-4\"><span class=\"toc-item-num\">4&nbsp;&nbsp;</span>Проверка алгоритма</a></span><ul class=\"toc-item\"><li><span><a href=\"#Вывод\" data-toc-modified-id=\"Вывод-4.1\"><span class=\"toc-item-num\">4.1&nbsp;&nbsp;</span>Вывод</a></span></li></ul></li><li><span><a href=\"#Чек-лист-проверки\" data-toc-modified-id=\"Чек-лист-проверки-5\"><span class=\"toc-item-num\">5&nbsp;&nbsp;</span>Чек-лист проверки</a></span></li></ul></div>"
   ]
  },
  {
   "cell_type": "markdown",
   "metadata": {},
   "source": [
    "# Защита персональных данных клиентов"
   ]
  },
  {
   "cell_type": "markdown",
   "metadata": {},
   "source": [
    "Вам нужно защитить данные клиентов страховой компании «Хоть потоп». Разработайте такой метод преобразования данных, чтобы по ним было сложно восстановить персональную информацию. Обоснуйте корректность его работы.\n",
    "\n",
    "Нужно защитить данные, чтобы при преобразовании качество моделей машинного обучения не ухудшилось. Подбирать наилучшую модель не требуется."
   ]
  },
  {
   "cell_type": "code",
   "execution_count": 1,
   "metadata": {},
   "outputs": [],
   "source": [
    "import pandas as pd\n",
    "import numpy as np\n",
    "\n",
    "import matplotlib.pyplot as plt\n",
    "import seaborn as sns\n",
    "\n",
    "from sklearn.metrics import r2_score\n",
    "from sklearn.linear_model import LinearRegression"
   ]
  },
  {
   "cell_type": "markdown",
   "metadata": {},
   "source": [
    "## Загрузка данных"
   ]
  },
  {
   "cell_type": "code",
   "execution_count": 2,
   "metadata": {
    "scrolled": true
   },
   "outputs": [
    {
     "data": {
      "text/html": [
       "<div>\n",
       "<style scoped>\n",
       "    .dataframe tbody tr th:only-of-type {\n",
       "        vertical-align: middle;\n",
       "    }\n",
       "\n",
       "    .dataframe tbody tr th {\n",
       "        vertical-align: top;\n",
       "    }\n",
       "\n",
       "    .dataframe thead th {\n",
       "        text-align: right;\n",
       "    }\n",
       "</style>\n",
       "<table border=\"1\" class=\"dataframe\">\n",
       "  <thead>\n",
       "    <tr style=\"text-align: right;\">\n",
       "      <th></th>\n",
       "      <th>Пол</th>\n",
       "      <th>Возраст</th>\n",
       "      <th>Зарплата</th>\n",
       "      <th>Члены семьи</th>\n",
       "      <th>Страховые выплаты</th>\n",
       "    </tr>\n",
       "  </thead>\n",
       "  <tbody>\n",
       "    <tr>\n",
       "      <th>0</th>\n",
       "      <td>1</td>\n",
       "      <td>41.0</td>\n",
       "      <td>49600.0</td>\n",
       "      <td>1</td>\n",
       "      <td>0</td>\n",
       "    </tr>\n",
       "    <tr>\n",
       "      <th>1</th>\n",
       "      <td>0</td>\n",
       "      <td>46.0</td>\n",
       "      <td>38000.0</td>\n",
       "      <td>1</td>\n",
       "      <td>1</td>\n",
       "    </tr>\n",
       "    <tr>\n",
       "      <th>2</th>\n",
       "      <td>0</td>\n",
       "      <td>29.0</td>\n",
       "      <td>21000.0</td>\n",
       "      <td>0</td>\n",
       "      <td>0</td>\n",
       "    </tr>\n",
       "    <tr>\n",
       "      <th>3</th>\n",
       "      <td>0</td>\n",
       "      <td>21.0</td>\n",
       "      <td>41700.0</td>\n",
       "      <td>2</td>\n",
       "      <td>0</td>\n",
       "    </tr>\n",
       "    <tr>\n",
       "      <th>4</th>\n",
       "      <td>1</td>\n",
       "      <td>28.0</td>\n",
       "      <td>26100.0</td>\n",
       "      <td>0</td>\n",
       "      <td>0</td>\n",
       "    </tr>\n",
       "    <tr>\n",
       "      <th>...</th>\n",
       "      <td>...</td>\n",
       "      <td>...</td>\n",
       "      <td>...</td>\n",
       "      <td>...</td>\n",
       "      <td>...</td>\n",
       "    </tr>\n",
       "    <tr>\n",
       "      <th>4995</th>\n",
       "      <td>0</td>\n",
       "      <td>28.0</td>\n",
       "      <td>35700.0</td>\n",
       "      <td>2</td>\n",
       "      <td>0</td>\n",
       "    </tr>\n",
       "    <tr>\n",
       "      <th>4996</th>\n",
       "      <td>0</td>\n",
       "      <td>34.0</td>\n",
       "      <td>52400.0</td>\n",
       "      <td>1</td>\n",
       "      <td>0</td>\n",
       "    </tr>\n",
       "    <tr>\n",
       "      <th>4997</th>\n",
       "      <td>0</td>\n",
       "      <td>20.0</td>\n",
       "      <td>33900.0</td>\n",
       "      <td>2</td>\n",
       "      <td>0</td>\n",
       "    </tr>\n",
       "    <tr>\n",
       "      <th>4998</th>\n",
       "      <td>1</td>\n",
       "      <td>22.0</td>\n",
       "      <td>32700.0</td>\n",
       "      <td>3</td>\n",
       "      <td>0</td>\n",
       "    </tr>\n",
       "    <tr>\n",
       "      <th>4999</th>\n",
       "      <td>1</td>\n",
       "      <td>28.0</td>\n",
       "      <td>40600.0</td>\n",
       "      <td>1</td>\n",
       "      <td>0</td>\n",
       "    </tr>\n",
       "  </tbody>\n",
       "</table>\n",
       "<p>5000 rows × 5 columns</p>\n",
       "</div>"
      ],
      "text/plain": [
       "      Пол  Возраст  Зарплата  Члены семьи  Страховые выплаты\n",
       "0       1     41.0   49600.0            1                  0\n",
       "1       0     46.0   38000.0            1                  1\n",
       "2       0     29.0   21000.0            0                  0\n",
       "3       0     21.0   41700.0            2                  0\n",
       "4       1     28.0   26100.0            0                  0\n",
       "...   ...      ...       ...          ...                ...\n",
       "4995    0     28.0   35700.0            2                  0\n",
       "4996    0     34.0   52400.0            1                  0\n",
       "4997    0     20.0   33900.0            2                  0\n",
       "4998    1     22.0   32700.0            3                  0\n",
       "4999    1     28.0   40600.0            1                  0\n",
       "\n",
       "[5000 rows x 5 columns]"
      ]
     },
     "execution_count": 2,
     "metadata": {},
     "output_type": "execute_result"
    }
   ],
   "source": [
    "data = pd.read_csv('/datasets/insurance.csv')\n",
    "data"
   ]
  },
  {
   "cell_type": "code",
   "execution_count": 3,
   "metadata": {},
   "outputs": [
    {
     "name": "stdout",
     "output_type": "stream",
     "text": [
      "<class 'pandas.core.frame.DataFrame'>\n",
      "RangeIndex: 5000 entries, 0 to 4999\n",
      "Data columns (total 5 columns):\n",
      " #   Column             Non-Null Count  Dtype  \n",
      "---  ------             --------------  -----  \n",
      " 0   Пол                5000 non-null   int64  \n",
      " 1   Возраст            5000 non-null   float64\n",
      " 2   Зарплата           5000 non-null   float64\n",
      " 3   Члены семьи        5000 non-null   int64  \n",
      " 4   Страховые выплаты  5000 non-null   int64  \n",
      "dtypes: float64(2), int64(3)\n",
      "memory usage: 195.4 KB\n"
     ]
    }
   ],
   "source": [
    "data.info()"
   ]
  },
  {
   "cell_type": "code",
   "execution_count": 4,
   "metadata": {},
   "outputs": [
    {
     "data": {
      "text/html": [
       "<div>\n",
       "<style scoped>\n",
       "    .dataframe tbody tr th:only-of-type {\n",
       "        vertical-align: middle;\n",
       "    }\n",
       "\n",
       "    .dataframe tbody tr th {\n",
       "        vertical-align: top;\n",
       "    }\n",
       "\n",
       "    .dataframe thead th {\n",
       "        text-align: right;\n",
       "    }\n",
       "</style>\n",
       "<table border=\"1\" class=\"dataframe\">\n",
       "  <thead>\n",
       "    <tr style=\"text-align: right;\">\n",
       "      <th></th>\n",
       "      <th>Пол</th>\n",
       "      <th>Возраст</th>\n",
       "      <th>Зарплата</th>\n",
       "      <th>Члены семьи</th>\n",
       "      <th>Страховые выплаты</th>\n",
       "    </tr>\n",
       "  </thead>\n",
       "  <tbody>\n",
       "    <tr>\n",
       "      <th>281</th>\n",
       "      <td>1</td>\n",
       "      <td>39.0</td>\n",
       "      <td>48100.0</td>\n",
       "      <td>1</td>\n",
       "      <td>0</td>\n",
       "    </tr>\n",
       "    <tr>\n",
       "      <th>488</th>\n",
       "      <td>1</td>\n",
       "      <td>24.0</td>\n",
       "      <td>32900.0</td>\n",
       "      <td>1</td>\n",
       "      <td>0</td>\n",
       "    </tr>\n",
       "    <tr>\n",
       "      <th>513</th>\n",
       "      <td>0</td>\n",
       "      <td>31.0</td>\n",
       "      <td>37400.0</td>\n",
       "      <td>2</td>\n",
       "      <td>0</td>\n",
       "    </tr>\n",
       "    <tr>\n",
       "      <th>718</th>\n",
       "      <td>1</td>\n",
       "      <td>22.0</td>\n",
       "      <td>32600.0</td>\n",
       "      <td>1</td>\n",
       "      <td>0</td>\n",
       "    </tr>\n",
       "    <tr>\n",
       "      <th>785</th>\n",
       "      <td>0</td>\n",
       "      <td>20.0</td>\n",
       "      <td>35800.0</td>\n",
       "      <td>0</td>\n",
       "      <td>0</td>\n",
       "    </tr>\n",
       "    <tr>\n",
       "      <th>...</th>\n",
       "      <td>...</td>\n",
       "      <td>...</td>\n",
       "      <td>...</td>\n",
       "      <td>...</td>\n",
       "      <td>...</td>\n",
       "    </tr>\n",
       "    <tr>\n",
       "      <th>4793</th>\n",
       "      <td>1</td>\n",
       "      <td>24.0</td>\n",
       "      <td>37800.0</td>\n",
       "      <td>0</td>\n",
       "      <td>0</td>\n",
       "    </tr>\n",
       "    <tr>\n",
       "      <th>4902</th>\n",
       "      <td>1</td>\n",
       "      <td>35.0</td>\n",
       "      <td>38700.0</td>\n",
       "      <td>1</td>\n",
       "      <td>0</td>\n",
       "    </tr>\n",
       "    <tr>\n",
       "      <th>4935</th>\n",
       "      <td>1</td>\n",
       "      <td>19.0</td>\n",
       "      <td>32700.0</td>\n",
       "      <td>0</td>\n",
       "      <td>0</td>\n",
       "    </tr>\n",
       "    <tr>\n",
       "      <th>4945</th>\n",
       "      <td>1</td>\n",
       "      <td>21.0</td>\n",
       "      <td>45800.0</td>\n",
       "      <td>0</td>\n",
       "      <td>0</td>\n",
       "    </tr>\n",
       "    <tr>\n",
       "      <th>4965</th>\n",
       "      <td>0</td>\n",
       "      <td>22.0</td>\n",
       "      <td>40100.0</td>\n",
       "      <td>1</td>\n",
       "      <td>0</td>\n",
       "    </tr>\n",
       "  </tbody>\n",
       "</table>\n",
       "<p>153 rows × 5 columns</p>\n",
       "</div>"
      ],
      "text/plain": [
       "      Пол  Возраст  Зарплата  Члены семьи  Страховые выплаты\n",
       "281     1     39.0   48100.0            1                  0\n",
       "488     1     24.0   32900.0            1                  0\n",
       "513     0     31.0   37400.0            2                  0\n",
       "718     1     22.0   32600.0            1                  0\n",
       "785     0     20.0   35800.0            0                  0\n",
       "...   ...      ...       ...          ...                ...\n",
       "4793    1     24.0   37800.0            0                  0\n",
       "4902    1     35.0   38700.0            1                  0\n",
       "4935    1     19.0   32700.0            0                  0\n",
       "4945    1     21.0   45800.0            0                  0\n",
       "4965    0     22.0   40100.0            1                  0\n",
       "\n",
       "[153 rows x 5 columns]"
      ]
     },
     "execution_count": 4,
     "metadata": {},
     "output_type": "execute_result"
    }
   ],
   "source": [
    "data[data.duplicated()]"
   ]
  },
  {
   "cell_type": "code",
   "execution_count": 5,
   "metadata": {},
   "outputs": [
    {
     "data": {
      "image/png": "[encoded data removed]",
      "text/plain": [
       "<Figure size 1224x360 with 1 Axes>"
      ]
     },
     "metadata": {},
     "output_type": "display_data"
    }
   ],
   "source": [
    "sns.set()\n",
    "fig, ax = plt.subplots(figsize=(17, 5))\n",
    "\n",
    "sns.countplot(data=data, y='Пол')\n",
    "ax.set_title('Пол');\n",
    "ax.set_title('Количество');"
   ]
  },
  {
   "cell_type": "code",
   "execution_count": 6,
   "metadata": {},
   "outputs": [
    {
     "data": {
      "image/png": "[encoded data removed]",
      "text/plain": [
       "<Figure size 864x360 with 1 Axes>"
      ]
     },
     "metadata": {},
     "output_type": "display_data"
    }
   ],
   "source": [
    "sns.set()\n",
    "fig, ax = plt.subplots(figsize=(12, 5))\n",
    "\n",
    "sns.countplot(x='Члены семьи', data=data)\n",
    "plt.ylabel('Количество');"
   ]
  },
  {
   "cell_type": "code",
   "execution_count": 7,
   "metadata": {},
   "outputs": [
    {
     "data": {
      "image/png": "[encoded data removed]",
      "text/plain": [
       "<Figure size 1224x360 with 1 Axes>"
      ]
     },
     "metadata": {},
     "output_type": "display_data"
    }
   ],
   "source": [
    "sns.set()\n",
    "fig, ax = plt.subplots(figsize=(17, 5))\n",
    "\n",
    "sns.countplot(data=data, y='Страховые выплаты')\n",
    "plt.xlabel('Количество');"
   ]
  },
  {
   "cell_type": "code",
   "execution_count": 8,
   "metadata": {},
   "outputs": [
    {
     "data": {
      "image/png": "[encoded data removed]",
      "text/plain": [
       "<Figure size 1224x432 with 1 Axes>"
      ]
     },
     "metadata": {},
     "output_type": "display_data"
    }
   ],
   "source": [
    "sns.set()\n",
    "fig, ax = plt.subplots(figsize=(17, 6))\n",
    "\n",
    "sns.histplot(data['Возраст'], bins=len(data['Возраст'].unique()))\n",
    "plt.ylabel('Плотность частоты');"
   ]
  },
  {
   "cell_type": "code",
   "execution_count": 9,
   "metadata": {},
   "outputs": [
    {
     "data": {
      "image/png": "[encoded data removed]",
      "text/plain": [
       "<Figure size 1224x432 with 1 Axes>"
      ]
     },
     "metadata": {},
     "output_type": "display_data"
    }
   ],
   "source": [
    "sns.set()\n",
    "fig, ax = plt.subplots(figsize=(17, 6))\n",
    "\n",
    "sns.histplot(data['Зарплата'])\n",
    "plt.ylabel('Плотность частоты');"
   ]
  },
  {
   "cell_type": "markdown",
   "metadata": {},
   "source": [
    "<div class=\"alert alert-warning\">\n",
    "    <h2> Комментарий ревьюера <a class=\"tocSkip\"> </h2>\n",
    "    \n",
    "<b>Некоторые замечания и рекомендации💡:</b> \n",
    "        \n",
    "На графики стоит добавить заголовки "
   ]
  },
  {
   "cell_type": "markdown",
   "metadata": {},
   "source": [
    "Разделим данные на признаки и целевой признак."
   ]
  },
  {
   "cell_type": "code",
   "execution_count": 10,
   "metadata": {},
   "outputs": [],
   "source": [
    "features = data.drop('Страховые выплаты', axis=1)"
   ]
  },
  {
   "cell_type": "code",
   "execution_count": 11,
   "metadata": {},
   "outputs": [],
   "source": [
    "target = data['Страховые выплаты']"
   ]
  },
  {
   "cell_type": "markdown",
   "metadata": {},
   "source": [
    "### Вывод"
   ]
  },
  {
   "cell_type": "markdown",
   "metadata": {},
   "source": [
    "Данные нормальные и не требуют дальнейшей предобработки."
   ]
  },
  {
   "cell_type": "markdown",
   "metadata": {},
   "source": [
    "## Умножение матриц"
   ]
  },
  {
   "cell_type": "markdown",
   "metadata": {},
   "source": [
    "Обозначения:\n",
    "\n",
    "- $X$ — матрица признаков (нулевой столбец состоит из единиц)\n",
    "\n",
    "- $y$ — вектор целевого признака\n",
    "\n",
    "- $P$ — матрица, на которую умножаются признаки\n",
    "\n",
    "- $w$ — вектор весов линейной регрессии (нулевой элемент равен сдвигу)"
   ]
  },
  {
   "cell_type": "markdown",
   "metadata": {},
   "source": [
    "Предсказания:\n",
    "\n",
    "$$\n",
    "a = Xw\n",
    "$$\n",
    "\n",
    "Задача обучения:\n",
    "\n",
    "$$\n",
    "w = \\arg\\min_w MSE(Xw, y)\n",
    "$$\n",
    "\n",
    "Формула обучения:\n",
    "\n",
    "$$\n",
    "w = (X^T X)^{-1} X^T y\n",
    "$$"
   ]
  },
  {
   "cell_type": "markdown",
   "metadata": {},
   "source": [
    "**Ответ:** "
   ]
  },
  {
   "cell_type": "markdown",
   "metadata": {},
   "source": [
    "$$\n",
    "w' = P^{-1} w\n",
    "$$\n",
    "$$\n",
    "a=a'\n",
    "$$\n",
    "$$\n",
    "MSE=MSE'\n",
    "$$"
   ]
  },
  {
   "cell_type": "markdown",
   "metadata": {},
   "source": [
    "Качество линейной регрессии не изменится."
   ]
  },
  {
   "cell_type": "markdown",
   "metadata": {},
   "source": [
    "**Обоснование:** "
   ]
  },
  {
   "cell_type": "markdown",
   "metadata": {},
   "source": [
    "$$\n",
    "w' = ((XP)^T XP)^{-1} (XP)^T\n",
    "$$\n",
    "$$\n",
    "w' = (P^T X^T XP)^{-1} (XP)^T y\n",
    "$$\n",
    "$$\n",
    "w' = P^{-1} (X^T X)^{-1} (P^T)^{-1} P^T X^T y\n",
    "$$\n",
    "$$\n",
    "w' = P^{-1} (X^T X)^{-1} E X^T y\n",
    "$$\n",
    "\n",
    "$$\n",
    "w' = P^{-1} ((X^T X)^{-1} X^T y)\n",
    "$$\n",
    "$$\n",
    "w = (X^T X)^{-1} X^T y\n",
    "$$\n",
    "\n",
    "$$\n",
    "w' = P^{-1} w\n",
    "$$"
   ]
  },
  {
   "cell_type": "markdown",
   "metadata": {},
   "source": [
    "$$\n",
    "a' = (XP) P^{-1} w\n",
    "$$\n",
    "$$\n",
    "a' = Xw\n",
    "$$\n",
    "$$\n",
    "a' = a\n",
    "$$"
   ]
  },
  {
   "cell_type": "markdown",
   "metadata": {},
   "source": [
    "$$\n",
    "MSE = n^{-1} \\displaystyle\\sum_{i=1}^{n} (y-a)^2\n",
    "$$\n",
    "$$\n",
    "MSE' = n^{-1} \\displaystyle\\sum_{i=1}^{n} (y-a')^2\\\n",
    "$$\n",
    "\n",
    "$$\n",
    "a' = a \\Rightarrow MSE' = MSE\n",
    "$$"
   ]
  },
  {
   "cell_type": "markdown",
   "metadata": {},
   "source": [
    "## Алгоритм преобразования"
   ]
  },
  {
   "cell_type": "markdown",
   "metadata": {},
   "source": [
    "**Алгоритм**"
   ]
  },
  {
   "cell_type": "markdown",
   "metadata": {},
   "source": [
    "Создадим две матрицы: одна будет случайной для кодирования, другая будет для декодирования и обратной первой."
   ]
  },
  {
   "cell_type": "markdown",
   "metadata": {},
   "source": [
    "*Матрица кодирования*:\n",
    "- Матрица должна быть обратимой (детерминатор не равен нулю)\n",
    "- Матрица должна быть квадратной\n",
    "- Размер матрицы соответствует кол-ву признаков"
   ]
  },
  {
   "cell_type": "markdown",
   "metadata": {},
   "source": [
    "*Матрица декодирования*:\n",
    "- Обратная первой матрице "
   ]
  },
  {
   "cell_type": "markdown",
   "metadata": {},
   "source": [
    "**Обоснование**\n",
    "$$\n",
    "a' = XPw'\n",
    "$$\n",
    "$$\n",
    "a' = XP P^{-1} w\n",
    "$$\n",
    "$$\n",
    "a' = XEw\n",
    "$$\n",
    "$$\n",
    "a' = Xw = a\n",
    "$$\n"
   ]
  },
  {
   "cell_type": "markdown",
   "metadata": {},
   "source": [
    "## Проверка алгоритма"
   ]
  },
  {
   "cell_type": "markdown",
   "metadata": {},
   "source": [
    "Создадим две случайные квадратные матрицы, обратные друг другу. При умножении на одну признаки будут кодироваться, а для получения первоначальных признаков достаточно умножить на обратную матрицу."
   ]
  },
  {
   "cell_type": "code",
   "execution_count": 12,
   "metadata": {},
   "outputs": [],
   "source": [
    "def cod(n):  \n",
    "    det = 0\n",
    "    while det == 0:\n",
    "        matrix = np.random.normal(size = (n, n))\n",
    "        det = np.linalg.det(matrix) \n",
    "    matrix_inv = np.linalg.inv(matrix)\n",
    "    return matrix, matrix_inv"
   ]
  },
  {
   "cell_type": "code",
   "execution_count": 13,
   "metadata": {},
   "outputs": [],
   "source": [
    "key, key_inv = cod(features.shape[1])"
   ]
  },
  {
   "cell_type": "code",
   "execution_count": 14,
   "metadata": {},
   "outputs": [],
   "source": [
    "features_cod = features @ key"
   ]
  },
  {
   "cell_type": "code",
   "execution_count": 15,
   "metadata": {},
   "outputs": [
    {
     "data": {
      "text/html": [
       "<div>\n",
       "<style scoped>\n",
       "    .dataframe tbody tr th:only-of-type {\n",
       "        vertical-align: middle;\n",
       "    }\n",
       "\n",
       "    .dataframe tbody tr th {\n",
       "        vertical-align: top;\n",
       "    }\n",
       "\n",
       "    .dataframe thead th {\n",
       "        text-align: right;\n",
       "    }\n",
       "</style>\n",
       "<table border=\"1\" class=\"dataframe\">\n",
       "  <thead>\n",
       "    <tr style=\"text-align: right;\">\n",
       "      <th></th>\n",
       "      <th>0</th>\n",
       "      <th>1</th>\n",
       "      <th>2</th>\n",
       "      <th>3</th>\n",
       "    </tr>\n",
       "  </thead>\n",
       "  <tbody>\n",
       "    <tr>\n",
       "      <th>0</th>\n",
       "      <td>22342.520759</td>\n",
       "      <td>31211.568677</td>\n",
       "      <td>-6085.616792</td>\n",
       "      <td>-6684.554218</td>\n",
       "    </tr>\n",
       "    <tr>\n",
       "      <th>1</th>\n",
       "      <td>17127.949710</td>\n",
       "      <td>23924.085098</td>\n",
       "      <td>-4659.559027</td>\n",
       "      <td>-5121.039722</td>\n",
       "    </tr>\n",
       "    <tr>\n",
       "      <th>2</th>\n",
       "      <td>9469.619485</td>\n",
       "      <td>13223.639752</td>\n",
       "      <td>-2574.433550</td>\n",
       "      <td>-2830.424947</td>\n",
       "    </tr>\n",
       "    <tr>\n",
       "      <th>3</th>\n",
       "      <td>18770.016498</td>\n",
       "      <td>26229.475811</td>\n",
       "      <td>-5118.117561</td>\n",
       "      <td>-5619.640409</td>\n",
       "    </tr>\n",
       "    <tr>\n",
       "      <th>4</th>\n",
       "      <td>11763.460956</td>\n",
       "      <td>16429.118698</td>\n",
       "      <td>-3201.497295</td>\n",
       "      <td>-3517.532474</td>\n",
       "    </tr>\n",
       "  </tbody>\n",
       "</table>\n",
       "</div>"
      ],
      "text/plain": [
       "              0             1            2            3\n",
       "0  22342.520759  31211.568677 -6085.616792 -6684.554218\n",
       "1  17127.949710  23924.085098 -4659.559027 -5121.039722\n",
       "2   9469.619485  13223.639752 -2574.433550 -2830.424947\n",
       "3  18770.016498  26229.475811 -5118.117561 -5619.640409\n",
       "4  11763.460956  16429.118698 -3201.497295 -3517.532474"
      ]
     },
     "execution_count": 15,
     "metadata": {},
     "output_type": "execute_result"
    }
   ],
   "source": [
    "features_cod.head()"
   ]
  },
  {
   "cell_type": "markdown",
   "metadata": {},
   "source": [
    "Обучим две модели, одна будет обучена на оригинальных данных, другая на преобразованных и сравним их."
   ]
  },
  {
   "cell_type": "code",
   "execution_count": 16,
   "metadata": {},
   "outputs": [
    {
     "name": "stdout",
     "output_type": "stream",
     "text": [
      "R2: 0.4249455028666801\n"
     ]
    }
   ],
   "source": [
    "model = LinearRegression()\n",
    "model.fit(features, target)\n",
    "predictions = model.predict(features)\n",
    "print('R2:', r2_score(target, predictions))"
   ]
  },
  {
   "cell_type": "code",
   "execution_count": 17,
   "metadata": {},
   "outputs": [
    {
     "name": "stdout",
     "output_type": "stream",
     "text": [
      "R2: 0.4249455028666801\n"
     ]
    }
   ],
   "source": [
    "model_cod = LinearRegression()\n",
    "model_cod.fit(features_cod, target)\n",
    "predictions_cod = model.predict(features)\n",
    "print('R2:', r2_score(target, predictions_cod))"
   ]
  },
  {
   "cell_type": "code",
   "execution_count": 18,
   "metadata": {},
   "outputs": [
    {
     "name": "stdout",
     "output_type": "stream",
     "text": [
      "Не сходятся: 0\n"
     ]
    }
   ],
   "source": [
    "print('Не сходятся:', predictions.shape[0] - sum(predictions_cod == predictions))"
   ]
  },
  {
   "cell_type": "markdown",
   "metadata": {},
   "source": [
    "Метрика R2 сходится на обеих моделях, предсказывают модели тоже похоже одинаково."
   ]
  },
  {
   "cell_type": "code",
   "execution_count": 19,
   "metadata": {},
   "outputs": [
    {
     "data": {
      "text/html": [
       "<div>\n",
       "<style scoped>\n",
       "    .dataframe tbody tr th:only-of-type {\n",
       "        vertical-align: middle;\n",
       "    }\n",
       "\n",
       "    .dataframe tbody tr th {\n",
       "        vertical-align: top;\n",
       "    }\n",
       "\n",
       "    .dataframe thead th {\n",
       "        text-align: right;\n",
       "    }\n",
       "</style>\n",
       "<table border=\"1\" class=\"dataframe\">\n",
       "  <thead>\n",
       "    <tr style=\"text-align: right;\">\n",
       "      <th></th>\n",
       "      <th>0</th>\n",
       "      <th>1</th>\n",
       "      <th>2</th>\n",
       "      <th>3</th>\n",
       "    </tr>\n",
       "  </thead>\n",
       "  <tbody>\n",
       "    <tr>\n",
       "      <th>0</th>\n",
       "      <td>22342.520759</td>\n",
       "      <td>31211.568677</td>\n",
       "      <td>-6085.616792</td>\n",
       "      <td>-6684.554218</td>\n",
       "    </tr>\n",
       "    <tr>\n",
       "      <th>1</th>\n",
       "      <td>17127.949710</td>\n",
       "      <td>23924.085098</td>\n",
       "      <td>-4659.559027</td>\n",
       "      <td>-5121.039722</td>\n",
       "    </tr>\n",
       "    <tr>\n",
       "      <th>2</th>\n",
       "      <td>9469.619485</td>\n",
       "      <td>13223.639752</td>\n",
       "      <td>-2574.433550</td>\n",
       "      <td>-2830.424947</td>\n",
       "    </tr>\n",
       "    <tr>\n",
       "      <th>3</th>\n",
       "      <td>18770.016498</td>\n",
       "      <td>26229.475811</td>\n",
       "      <td>-5118.117561</td>\n",
       "      <td>-5619.640409</td>\n",
       "    </tr>\n",
       "    <tr>\n",
       "      <th>4</th>\n",
       "      <td>11763.460956</td>\n",
       "      <td>16429.118698</td>\n",
       "      <td>-3201.497295</td>\n",
       "      <td>-3517.532474</td>\n",
       "    </tr>\n",
       "  </tbody>\n",
       "</table>\n",
       "</div>"
      ],
      "text/plain": [
       "              0             1            2            3\n",
       "0  22342.520759  31211.568677 -6085.616792 -6684.554218\n",
       "1  17127.949710  23924.085098 -4659.559027 -5121.039722\n",
       "2   9469.619485  13223.639752 -2574.433550 -2830.424947\n",
       "3  18770.016498  26229.475811 -5118.117561 -5619.640409\n",
       "4  11763.460956  16429.118698 -3201.497295 -3517.532474"
      ]
     },
     "execution_count": 19,
     "metadata": {},
     "output_type": "execute_result"
    }
   ],
   "source": [
    "features_cod.head()"
   ]
  },
  {
   "cell_type": "code",
   "execution_count": 20,
   "metadata": {},
   "outputs": [],
   "source": [
    "features_decod = features_cod @ key_inv\n",
    "features_decod = np.around(features_decod)\n",
    "\n",
    "features_decod.columns = features.columns.tolist()\n",
    "features_decod = abs(features_decod)"
   ]
  },
  {
   "cell_type": "code",
   "execution_count": 21,
   "metadata": {},
   "outputs": [
    {
     "data": {
      "text/plain": [
       "Пол            5000\n",
       "Возраст        5000\n",
       "Зарплата       4960\n",
       "Члены семьи    5000\n",
       "dtype: int64"
      ]
     },
     "execution_count": 21,
     "metadata": {},
     "output_type": "execute_result"
    }
   ],
   "source": [
    "(features_decod == features).sum()"
   ]
  },
  {
   "cell_type": "markdown",
   "metadata": {},
   "source": [
    "Похоже при округлении не все значения зарплаты вернулись к первоначальному значению."
   ]
  },
  {
   "cell_type": "code",
   "execution_count": 22,
   "metadata": {
    "scrolled": true
   },
   "outputs": [
    {
     "data": {
      "text/html": [
       "<div>\n",
       "<style scoped>\n",
       "    .dataframe tbody tr th:only-of-type {\n",
       "        vertical-align: middle;\n",
       "    }\n",
       "\n",
       "    .dataframe tbody tr th {\n",
       "        vertical-align: top;\n",
       "    }\n",
       "\n",
       "    .dataframe thead th {\n",
       "        text-align: right;\n",
       "    }\n",
       "</style>\n",
       "<table border=\"1\" class=\"dataframe\">\n",
       "  <thead>\n",
       "    <tr style=\"text-align: right;\">\n",
       "      <th></th>\n",
       "      <th>Зарплата</th>\n",
       "      <th>Зарплата</th>\n",
       "    </tr>\n",
       "  </thead>\n",
       "  <tbody>\n",
       "    <tr>\n",
       "      <th>80</th>\n",
       "      <td>32700.0</td>\n",
       "      <td>32700.0</td>\n",
       "    </tr>\n",
       "    <tr>\n",
       "      <th>159</th>\n",
       "      <td>64900.0</td>\n",
       "      <td>64900.0</td>\n",
       "    </tr>\n",
       "    <tr>\n",
       "      <th>313</th>\n",
       "      <td>32700.0</td>\n",
       "      <td>32700.0</td>\n",
       "    </tr>\n",
       "    <tr>\n",
       "      <th>392</th>\n",
       "      <td>32700.0</td>\n",
       "      <td>32700.0</td>\n",
       "    </tr>\n",
       "    <tr>\n",
       "      <th>448</th>\n",
       "      <td>32700.0</td>\n",
       "      <td>32700.0</td>\n",
       "    </tr>\n",
       "    <tr>\n",
       "      <th>772</th>\n",
       "      <td>65100.0</td>\n",
       "      <td>65100.0</td>\n",
       "    </tr>\n",
       "    <tr>\n",
       "      <th>820</th>\n",
       "      <td>32200.0</td>\n",
       "      <td>32200.0</td>\n",
       "    </tr>\n",
       "    <tr>\n",
       "      <th>872</th>\n",
       "      <td>32200.0</td>\n",
       "      <td>32200.0</td>\n",
       "    </tr>\n",
       "    <tr>\n",
       "      <th>911</th>\n",
       "      <td>32200.0</td>\n",
       "      <td>32200.0</td>\n",
       "    </tr>\n",
       "    <tr>\n",
       "      <th>963</th>\n",
       "      <td>64100.0</td>\n",
       "      <td>64100.0</td>\n",
       "    </tr>\n",
       "    <tr>\n",
       "      <th>1020</th>\n",
       "      <td>32700.0</td>\n",
       "      <td>32700.0</td>\n",
       "    </tr>\n",
       "    <tr>\n",
       "      <th>1078</th>\n",
       "      <td>32200.0</td>\n",
       "      <td>32200.0</td>\n",
       "    </tr>\n",
       "    <tr>\n",
       "      <th>1336</th>\n",
       "      <td>32700.0</td>\n",
       "      <td>32700.0</td>\n",
       "    </tr>\n",
       "    <tr>\n",
       "      <th>1485</th>\n",
       "      <td>32700.0</td>\n",
       "      <td>32700.0</td>\n",
       "    </tr>\n",
       "    <tr>\n",
       "      <th>1486</th>\n",
       "      <td>32200.0</td>\n",
       "      <td>32200.0</td>\n",
       "    </tr>\n",
       "    <tr>\n",
       "      <th>1847</th>\n",
       "      <td>32700.0</td>\n",
       "      <td>32700.0</td>\n",
       "    </tr>\n",
       "    <tr>\n",
       "      <th>1981</th>\n",
       "      <td>32200.0</td>\n",
       "      <td>32200.0</td>\n",
       "    </tr>\n",
       "    <tr>\n",
       "      <th>2191</th>\n",
       "      <td>32200.0</td>\n",
       "      <td>32200.0</td>\n",
       "    </tr>\n",
       "    <tr>\n",
       "      <th>2287</th>\n",
       "      <td>32200.0</td>\n",
       "      <td>32200.0</td>\n",
       "    </tr>\n",
       "    <tr>\n",
       "      <th>2342</th>\n",
       "      <td>32700.0</td>\n",
       "      <td>32700.0</td>\n",
       "    </tr>\n",
       "    <tr>\n",
       "      <th>2385</th>\n",
       "      <td>32700.0</td>\n",
       "      <td>32700.0</td>\n",
       "    </tr>\n",
       "    <tr>\n",
       "      <th>2439</th>\n",
       "      <td>32200.0</td>\n",
       "      <td>32200.0</td>\n",
       "    </tr>\n",
       "    <tr>\n",
       "      <th>2443</th>\n",
       "      <td>32700.0</td>\n",
       "      <td>32700.0</td>\n",
       "    </tr>\n",
       "    <tr>\n",
       "      <th>2805</th>\n",
       "      <td>32700.0</td>\n",
       "      <td>32700.0</td>\n",
       "    </tr>\n",
       "    <tr>\n",
       "      <th>2994</th>\n",
       "      <td>32200.0</td>\n",
       "      <td>32200.0</td>\n",
       "    </tr>\n",
       "    <tr>\n",
       "      <th>3063</th>\n",
       "      <td>64400.0</td>\n",
       "      <td>64400.0</td>\n",
       "    </tr>\n",
       "    <tr>\n",
       "      <th>3139</th>\n",
       "      <td>32200.0</td>\n",
       "      <td>32200.0</td>\n",
       "    </tr>\n",
       "    <tr>\n",
       "      <th>3352</th>\n",
       "      <td>32200.0</td>\n",
       "      <td>32200.0</td>\n",
       "    </tr>\n",
       "    <tr>\n",
       "      <th>3466</th>\n",
       "      <td>32700.0</td>\n",
       "      <td>32700.0</td>\n",
       "    </tr>\n",
       "    <tr>\n",
       "      <th>3499</th>\n",
       "      <td>65100.0</td>\n",
       "      <td>65100.0</td>\n",
       "    </tr>\n",
       "    <tr>\n",
       "      <th>3614</th>\n",
       "      <td>32700.0</td>\n",
       "      <td>32700.0</td>\n",
       "    </tr>\n",
       "    <tr>\n",
       "      <th>3717</th>\n",
       "      <td>32700.0</td>\n",
       "      <td>32700.0</td>\n",
       "    </tr>\n",
       "    <tr>\n",
       "      <th>3788</th>\n",
       "      <td>32700.0</td>\n",
       "      <td>32700.0</td>\n",
       "    </tr>\n",
       "    <tr>\n",
       "      <th>3824</th>\n",
       "      <td>32700.0</td>\n",
       "      <td>32700.0</td>\n",
       "    </tr>\n",
       "    <tr>\n",
       "      <th>3938</th>\n",
       "      <td>32200.0</td>\n",
       "      <td>32200.0</td>\n",
       "    </tr>\n",
       "    <tr>\n",
       "      <th>4182</th>\n",
       "      <td>32200.0</td>\n",
       "      <td>32200.0</td>\n",
       "    </tr>\n",
       "    <tr>\n",
       "      <th>4520</th>\n",
       "      <td>32700.0</td>\n",
       "      <td>32700.0</td>\n",
       "    </tr>\n",
       "    <tr>\n",
       "      <th>4833</th>\n",
       "      <td>32200.0</td>\n",
       "      <td>32200.0</td>\n",
       "    </tr>\n",
       "    <tr>\n",
       "      <th>4935</th>\n",
       "      <td>32700.0</td>\n",
       "      <td>32700.0</td>\n",
       "    </tr>\n",
       "    <tr>\n",
       "      <th>4998</th>\n",
       "      <td>32700.0</td>\n",
       "      <td>32700.0</td>\n",
       "    </tr>\n",
       "  </tbody>\n",
       "</table>\n",
       "</div>"
      ],
      "text/plain": [
       "      Зарплата  Зарплата\n",
       "80     32700.0   32700.0\n",
       "159    64900.0   64900.0\n",
       "313    32700.0   32700.0\n",
       "392    32700.0   32700.0\n",
       "448    32700.0   32700.0\n",
       "772    65100.0   65100.0\n",
       "820    32200.0   32200.0\n",
       "872    32200.0   32200.0\n",
       "911    32200.0   32200.0\n",
       "963    64100.0   64100.0\n",
       "1020   32700.0   32700.0\n",
       "1078   32200.0   32200.0\n",
       "1336   32700.0   32700.0\n",
       "1485   32700.0   32700.0\n",
       "1486   32200.0   32200.0\n",
       "1847   32700.0   32700.0\n",
       "1981   32200.0   32200.0\n",
       "2191   32200.0   32200.0\n",
       "2287   32200.0   32200.0\n",
       "2342   32700.0   32700.0\n",
       "2385   32700.0   32700.0\n",
       "2439   32200.0   32200.0\n",
       "2443   32700.0   32700.0\n",
       "2805   32700.0   32700.0\n",
       "2994   32200.0   32200.0\n",
       "3063   64400.0   64400.0\n",
       "3139   32200.0   32200.0\n",
       "3352   32200.0   32200.0\n",
       "3466   32700.0   32700.0\n",
       "3499   65100.0   65100.0\n",
       "3614   32700.0   32700.0\n",
       "3717   32700.0   32700.0\n",
       "3788   32700.0   32700.0\n",
       "3824   32700.0   32700.0\n",
       "3938   32200.0   32200.0\n",
       "4182   32200.0   32200.0\n",
       "4520   32700.0   32700.0\n",
       "4833   32200.0   32200.0\n",
       "4935   32700.0   32700.0\n",
       "4998   32700.0   32700.0"
      ]
     },
     "execution_count": 22,
     "metadata": {},
     "output_type": "execute_result"
    }
   ],
   "source": [
    "pd.DataFrame([\n",
    "    features_decod[features_decod['Зарплата'] != features['Зарплата']]['Зарплата'],\n",
    "    features[features_decod['Зарплата'] != features['Зарплата']]['Зарплата']]).T"
   ]
  },
  {
   "cell_type": "markdown",
   "metadata": {},
   "source": [
    "На первый взгляд значения одинаковы."
   ]
  },
  {
   "cell_type": "code",
   "execution_count": 23,
   "metadata": {},
   "outputs": [
    {
     "data": {
      "text/plain": [
       "(32700.0, 32700.000000000004)"
      ]
     },
     "execution_count": 23,
     "metadata": {},
     "output_type": "execute_result"
    }
   ],
   "source": [
    "features_decod.loc[80, 'Зарплата'], features.loc[80, 'Зарплата']"
   ]
  },
  {
   "cell_type": "markdown",
   "metadata": {},
   "source": [
    "Из-за округления похоже потерялось немного информации, но это в пределах допустимого, потому будем считать, что данные восстановились полностью."
   ]
  },
  {
   "cell_type": "markdown",
   "metadata": {},
   "source": [
    "### Вывод"
   ]
  },
  {
   "cell_type": "markdown",
   "metadata": {},
   "source": [
    "Качество метрики R2 для матриц до преобразования и после равны."
   ]
  }
 ],
 "metadata": {
  "ExecuteTimeLog": [
   {
    "duration": 409,
    "start_time": "2023-05-08T08:21:23.099Z"
   },
   {
    "duration": 92,
    "start_time": "2023-05-08T08:21:40.667Z"
   },
   {
    "duration": 31,
    "start_time": "2023-05-08T08:21:45.596Z"
   },
   {
    "duration": 56,
    "start_time": "2023-05-24T11:47:49.249Z"
   },
   {
    "duration": 394,
    "start_time": "2023-05-24T11:47:52.997Z"
   },
   {
    "duration": 136,
    "start_time": "2023-05-24T11:47:54.420Z"
   },
   {
    "duration": 11,
    "start_time": "2023-05-24T11:48:40.995Z"
   },
   {
    "duration": 8,
    "start_time": "2023-05-24T11:50:58.082Z"
   },
   {
    "duration": 13,
    "start_time": "2023-05-24T11:51:07.352Z"
   },
   {
    "duration": 1402,
    "start_time": "2023-05-24T11:54:55.395Z"
   },
   {
    "duration": 5,
    "start_time": "2023-05-24T11:55:44.356Z"
   },
   {
    "duration": 76,
    "start_time": "2023-05-24T11:56:21.854Z"
   },
   {
    "duration": 192,
    "start_time": "2023-05-24T11:56:34.115Z"
   },
   {
    "duration": 154,
    "start_time": "2023-05-24T11:57:29.554Z"
   },
   {
    "duration": 153,
    "start_time": "2023-05-24T11:57:33.454Z"
   },
   {
    "duration": 207,
    "start_time": "2023-05-24T11:57:44.161Z"
   },
   {
    "duration": 142,
    "start_time": "2023-05-24T11:57:47.303Z"
   },
   {
    "duration": 147,
    "start_time": "2023-05-24T11:57:49.082Z"
   },
   {
    "duration": 156,
    "start_time": "2023-05-24T11:57:51.889Z"
   },
   {
    "duration": 151,
    "start_time": "2023-05-24T11:57:58.456Z"
   },
   {
    "duration": 141,
    "start_time": "2023-05-24T11:58:20.583Z"
   },
   {
    "duration": 151,
    "start_time": "2023-05-24T11:58:24.548Z"
   },
   {
    "duration": 376,
    "start_time": "2023-05-24T11:58:50.983Z"
   },
   {
    "duration": 186,
    "start_time": "2023-05-24T11:58:59.211Z"
   },
   {
    "duration": 178,
    "start_time": "2023-05-24T11:59:05.469Z"
   },
   {
    "duration": 3,
    "start_time": "2023-05-24T11:59:56.259Z"
   },
   {
    "duration": 139,
    "start_time": "2023-05-24T11:59:56.612Z"
   },
   {
    "duration": 3,
    "start_time": "2023-05-24T11:59:59.314Z"
   },
   {
    "duration": 149,
    "start_time": "2023-05-24T11:59:59.601Z"
   },
   {
    "duration": 174,
    "start_time": "2023-05-24T12:00:00.316Z"
   },
   {
    "duration": 190,
    "start_time": "2023-05-24T12:00:04.060Z"
   },
   {
    "duration": 219,
    "start_time": "2023-05-24T12:00:04.764Z"
   },
   {
    "duration": 3,
    "start_time": "2023-05-24T12:00:27.209Z"
   },
   {
    "duration": 165,
    "start_time": "2023-05-24T12:00:27.474Z"
   },
   {
    "duration": 188,
    "start_time": "2023-05-24T12:00:28.903Z"
   },
   {
    "duration": 3,
    "start_time": "2023-05-24T12:00:55.008Z"
   },
   {
    "duration": 148,
    "start_time": "2023-05-24T12:00:55.252Z"
   },
   {
    "duration": 167,
    "start_time": "2023-05-24T12:00:55.864Z"
   },
   {
    "duration": 150,
    "start_time": "2023-05-24T12:01:03.646Z"
   },
   {
    "duration": 177,
    "start_time": "2023-05-24T12:01:07.364Z"
   },
   {
    "duration": 4,
    "start_time": "2023-05-24T12:01:32.551Z"
   },
   {
    "duration": 140,
    "start_time": "2023-05-24T12:01:32.793Z"
   },
   {
    "duration": 179,
    "start_time": "2023-05-24T12:01:33.363Z"
   },
   {
    "duration": 146,
    "start_time": "2023-05-24T12:01:44.411Z"
   },
   {
    "duration": 195,
    "start_time": "2023-05-24T12:01:47.195Z"
   },
   {
    "duration": 170,
    "start_time": "2023-05-24T12:01:51.759Z"
   },
   {
    "duration": 4,
    "start_time": "2023-05-24T12:03:05.632Z"
   },
   {
    "duration": 172,
    "start_time": "2023-05-24T12:03:05.861Z"
   },
   {
    "duration": 190,
    "start_time": "2023-05-24T12:03:06.638Z"
   },
   {
    "duration": 158,
    "start_time": "2023-05-24T12:03:17.354Z"
   },
   {
    "duration": 175,
    "start_time": "2023-05-24T12:04:27.453Z"
   },
   {
    "duration": 207,
    "start_time": "2023-05-24T12:04:28.006Z"
   },
   {
    "duration": 211,
    "start_time": "2023-05-24T12:04:52.048Z"
   },
   {
    "duration": 184,
    "start_time": "2023-05-24T12:04:57.228Z"
   },
   {
    "duration": 180,
    "start_time": "2023-05-24T12:05:19.390Z"
   },
   {
    "duration": 167,
    "start_time": "2023-05-24T12:05:36.952Z"
   },
   {
    "duration": 175,
    "start_time": "2023-05-24T12:05:43.410Z"
   },
   {
    "duration": 156,
    "start_time": "2023-05-24T12:07:06.436Z"
   },
   {
    "duration": 240,
    "start_time": "2023-05-24T12:07:20.765Z"
   },
   {
    "duration": 865,
    "start_time": "2023-05-24T12:07:31.467Z"
   },
   {
    "duration": 540,
    "start_time": "2023-05-24T12:07:38.909Z"
   },
   {
    "duration": 223,
    "start_time": "2023-05-24T12:07:49.125Z"
   },
   {
    "duration": 222,
    "start_time": "2023-05-24T12:08:09.701Z"
   },
   {
    "duration": 166,
    "start_time": "2023-05-24T12:08:52.962Z"
   },
   {
    "duration": 240,
    "start_time": "2023-05-24T12:08:58.491Z"
   },
   {
    "duration": 544,
    "start_time": "2023-05-24T12:09:12.354Z"
   },
   {
    "duration": 391,
    "start_time": "2023-05-24T12:09:23.590Z"
   },
   {
    "duration": 233,
    "start_time": "2023-05-24T12:09:37.507Z"
   },
   {
    "duration": 245,
    "start_time": "2023-05-24T12:09:44.362Z"
   },
   {
    "duration": 167,
    "start_time": "2023-05-24T12:11:20.505Z"
   },
   {
    "duration": 167,
    "start_time": "2023-05-24T12:11:26.789Z"
   },
   {
    "duration": 183,
    "start_time": "2023-05-24T12:11:59.968Z"
   },
   {
    "duration": 147,
    "start_time": "2023-05-24T12:12:10.666Z"
   },
   {
    "duration": 174,
    "start_time": "2023-05-24T12:12:17.291Z"
   },
   {
    "duration": 161,
    "start_time": "2023-05-24T12:12:40.587Z"
   },
   {
    "duration": 198,
    "start_time": "2023-05-24T12:12:51.594Z"
   },
   {
    "duration": 211,
    "start_time": "2023-05-24T12:13:15.028Z"
   },
   {
    "duration": 158,
    "start_time": "2023-05-24T12:13:22.866Z"
   },
   {
    "duration": 411,
    "start_time": "2023-05-24T12:13:27.946Z"
   },
   {
    "duration": 261,
    "start_time": "2023-05-24T12:14:38.262Z"
   },
   {
    "duration": 262,
    "start_time": "2023-05-24T12:14:54.622Z"
   },
   {
    "duration": 268,
    "start_time": "2023-05-24T12:15:15.678Z"
   },
   {
    "duration": 269,
    "start_time": "2023-05-24T12:15:21.201Z"
   },
   {
    "duration": 274,
    "start_time": "2023-05-24T12:15:46.366Z"
   },
   {
    "duration": 299,
    "start_time": "2023-05-24T12:15:50.417Z"
   },
   {
    "duration": 10,
    "start_time": "2023-05-24T13:00:03.313Z"
   },
   {
    "duration": 4,
    "start_time": "2023-05-24T13:00:10.163Z"
   },
   {
    "duration": 2120,
    "start_time": "2023-05-28T16:29:14.478Z"
   },
   {
    "duration": 117,
    "start_time": "2023-05-28T16:29:16.600Z"
   },
   {
    "duration": 16,
    "start_time": "2023-05-28T16:29:16.718Z"
   },
   {
    "duration": 65,
    "start_time": "2023-05-28T16:29:16.736Z"
   },
   {
    "duration": 194,
    "start_time": "2023-05-28T16:29:16.804Z"
   },
   {
    "duration": 276,
    "start_time": "2023-05-28T16:29:17.000Z"
   },
   {
    "duration": 209,
    "start_time": "2023-05-28T16:29:17.278Z"
   },
   {
    "duration": 356,
    "start_time": "2023-05-28T16:29:17.488Z"
   },
   {
    "duration": 333,
    "start_time": "2023-05-28T16:29:17.852Z"
   },
   {
    "duration": 1509,
    "start_time": "2023-05-29T10:32:46.426Z"
   },
   {
    "duration": 114,
    "start_time": "2023-05-29T10:32:47.937Z"
   },
   {
    "duration": 0,
    "start_time": "2023-05-29T10:32:48.053Z"
   },
   {
    "duration": 0,
    "start_time": "2023-05-29T10:32:48.054Z"
   },
   {
    "duration": 0,
    "start_time": "2023-05-29T10:32:48.055Z"
   },
   {
    "duration": 0,
    "start_time": "2023-05-29T10:32:48.056Z"
   },
   {
    "duration": 0,
    "start_time": "2023-05-29T10:32:48.058Z"
   },
   {
    "duration": 0,
    "start_time": "2023-05-29T10:32:48.059Z"
   },
   {
    "duration": 0,
    "start_time": "2023-05-29T10:32:48.060Z"
   },
   {
    "duration": 4,
    "start_time": "2023-05-29T10:43:06.210Z"
   },
   {
    "duration": 153,
    "start_time": "2023-05-29T10:43:06.884Z"
   },
   {
    "duration": 12,
    "start_time": "2023-05-29T10:43:08.284Z"
   },
   {
    "duration": 15,
    "start_time": "2023-05-29T10:43:08.545Z"
   },
   {
    "duration": 154,
    "start_time": "2023-05-29T10:43:08.895Z"
   },
   {
    "duration": 146,
    "start_time": "2023-05-29T10:43:14.916Z"
   },
   {
    "duration": 152,
    "start_time": "2023-05-29T10:43:15.064Z"
   },
   {
    "duration": 244,
    "start_time": "2023-05-29T10:43:15.218Z"
   },
   {
    "duration": 244,
    "start_time": "2023-05-29T10:43:15.464Z"
   },
   {
    "duration": 1450,
    "start_time": "2023-05-31T09:52:17.904Z"
   },
   {
    "duration": 135,
    "start_time": "2023-05-31T09:52:19.356Z"
   },
   {
    "duration": 10,
    "start_time": "2023-05-31T09:52:19.493Z"
   },
   {
    "duration": 15,
    "start_time": "2023-05-31T09:52:19.505Z"
   },
   {
    "duration": 172,
    "start_time": "2023-05-31T09:52:19.522Z"
   },
   {
    "duration": 175,
    "start_time": "2023-05-31T09:52:19.696Z"
   },
   {
    "duration": 167,
    "start_time": "2023-05-31T09:52:19.873Z"
   },
   {
    "duration": 235,
    "start_time": "2023-05-31T09:52:20.041Z"
   },
   {
    "duration": 235,
    "start_time": "2023-05-31T09:52:20.278Z"
   },
   {
    "duration": 3,
    "start_time": "2023-05-31T09:58:27.133Z"
   },
   {
    "duration": 4,
    "start_time": "2023-05-31T11:26:11.481Z"
   },
   {
    "duration": 4,
    "start_time": "2023-05-31T12:36:48.404Z"
   },
   {
    "duration": 7,
    "start_time": "2023-05-31T12:37:07.122Z"
   },
   {
    "duration": 3,
    "start_time": "2023-05-31T12:38:18.281Z"
   },
   {
    "duration": 109,
    "start_time": "2023-05-31T12:38:19.085Z"
   },
   {
    "duration": 4,
    "start_time": "2023-05-31T12:39:07.842Z"
   },
   {
    "duration": 3,
    "start_time": "2023-05-31T12:39:08.040Z"
   },
   {
    "duration": 7,
    "start_time": "2023-05-31T12:39:41.314Z"
   },
   {
    "duration": 5,
    "start_time": "2023-05-31T12:39:47.989Z"
   },
   {
    "duration": 3,
    "start_time": "2023-05-31T12:40:20.698Z"
   },
   {
    "duration": 3,
    "start_time": "2023-05-31T12:42:58.207Z"
   },
   {
    "duration": 3,
    "start_time": "2023-05-31T12:43:12.182Z"
   },
   {
    "duration": 11,
    "start_time": "2023-05-31T12:43:19.036Z"
   },
   {
    "duration": 8,
    "start_time": "2023-05-31T12:43:26.249Z"
   },
   {
    "duration": 13,
    "start_time": "2023-05-31T12:44:57.486Z"
   },
   {
    "duration": 10,
    "start_time": "2023-05-31T12:44:58.286Z"
   },
   {
    "duration": 9,
    "start_time": "2023-05-31T12:45:09.406Z"
   },
   {
    "duration": 13,
    "start_time": "2023-05-31T12:45:26.102Z"
   },
   {
    "duration": 11,
    "start_time": "2023-05-31T12:45:27.611Z"
   },
   {
    "duration": 10,
    "start_time": "2023-05-31T12:45:28.486Z"
   },
   {
    "duration": 9,
    "start_time": "2023-05-31T12:45:29.186Z"
   },
   {
    "duration": 10,
    "start_time": "2023-05-31T12:45:29.910Z"
   },
   {
    "duration": 1370,
    "start_time": "2023-05-31T12:45:37.587Z"
   },
   {
    "duration": 44,
    "start_time": "2023-05-31T12:45:38.959Z"
   },
   {
    "duration": 11,
    "start_time": "2023-05-31T12:45:39.005Z"
   },
   {
    "duration": 14,
    "start_time": "2023-05-31T12:45:39.018Z"
   },
   {
    "duration": 156,
    "start_time": "2023-05-31T12:45:39.034Z"
   },
   {
    "duration": 168,
    "start_time": "2023-05-31T12:45:39.192Z"
   },
   {
    "duration": 154,
    "start_time": "2023-05-31T12:45:39.361Z"
   },
   {
    "duration": 320,
    "start_time": "2023-05-31T12:45:39.517Z"
   },
   {
    "duration": 305,
    "start_time": "2023-05-31T12:45:39.839Z"
   },
   {
    "duration": 4,
    "start_time": "2023-05-31T12:45:40.146Z"
   },
   {
    "duration": 16,
    "start_time": "2023-05-31T12:45:40.152Z"
   },
   {
    "duration": 13,
    "start_time": "2023-05-31T12:45:40.171Z"
   },
   {
    "duration": 7,
    "start_time": "2023-05-31T12:45:40.185Z"
   },
   {
    "duration": 32,
    "start_time": "2023-05-31T12:45:40.195Z"
   },
   {
    "duration": 14,
    "start_time": "2023-05-31T12:45:40.229Z"
   },
   {
    "duration": 10,
    "start_time": "2023-05-31T12:45:40.326Z"
   },
   {
    "duration": 188,
    "start_time": "2023-05-31T12:45:40.340Z"
   },
   {
    "duration": 4,
    "start_time": "2023-05-31T12:46:40.454Z"
   },
   {
    "duration": 4,
    "start_time": "2023-05-31T12:46:41.790Z"
   },
   {
    "duration": 3,
    "start_time": "2023-05-31T12:46:42.422Z"
   },
   {
    "duration": 11,
    "start_time": "2023-05-31T12:46:43.234Z"
   },
   {
    "duration": 20,
    "start_time": "2023-05-31T12:46:44.492Z"
   },
   {
    "duration": 13,
    "start_time": "2023-05-31T12:46:44.896Z"
   },
   {
    "duration": 3,
    "start_time": "2023-05-31T12:47:00.438Z"
   },
   {
    "duration": 10,
    "start_time": "2023-05-31T12:47:00.983Z"
   },
   {
    "duration": 14,
    "start_time": "2023-05-31T12:47:02.059Z"
   },
   {
    "duration": 10,
    "start_time": "2023-05-31T12:47:02.464Z"
   },
   {
    "duration": 0,
    "start_time": "2023-05-31T12:47:28.903Z"
   },
   {
    "duration": 0,
    "start_time": "2023-05-31T12:47:28.904Z"
   },
   {
    "duration": 1430,
    "start_time": "2023-05-31T12:48:49.637Z"
   },
   {
    "duration": 43,
    "start_time": "2023-05-31T12:48:51.069Z"
   },
   {
    "duration": 12,
    "start_time": "2023-05-31T12:48:51.113Z"
   },
   {
    "duration": 21,
    "start_time": "2023-05-31T12:48:51.126Z"
   },
   {
    "duration": 151,
    "start_time": "2023-05-31T12:48:51.150Z"
   },
   {
    "duration": 156,
    "start_time": "2023-05-31T12:48:51.302Z"
   },
   {
    "duration": 169,
    "start_time": "2023-05-31T12:48:51.460Z"
   },
   {
    "duration": 250,
    "start_time": "2023-05-31T12:48:51.631Z"
   },
   {
    "duration": 288,
    "start_time": "2023-05-31T12:48:51.882Z"
   },
   {
    "duration": 4,
    "start_time": "2023-05-31T12:48:52.171Z"
   },
   {
    "duration": 7,
    "start_time": "2023-05-31T12:48:52.176Z"
   },
   {
    "duration": 5,
    "start_time": "2023-05-31T12:48:52.185Z"
   },
   {
    "duration": 7,
    "start_time": "2023-05-31T12:48:52.192Z"
   },
   {
    "duration": 4,
    "start_time": "2023-05-31T12:48:52.227Z"
   },
   {
    "duration": 94,
    "start_time": "2023-05-31T12:48:52.233Z"
   },
   {
    "duration": 10,
    "start_time": "2023-05-31T12:48:52.328Z"
   },
   {
    "duration": 89,
    "start_time": "2023-05-31T12:48:52.341Z"
   },
   {
    "duration": 9,
    "start_time": "2023-05-31T12:49:16.263Z"
   },
   {
    "duration": 9,
    "start_time": "2023-05-31T12:49:16.568Z"
   },
   {
    "duration": 4,
    "start_time": "2023-05-31T12:51:48.846Z"
   },
   {
    "duration": 9,
    "start_time": "2023-05-31T12:51:49.175Z"
   },
   {
    "duration": 9,
    "start_time": "2023-05-31T12:51:50.481Z"
   },
   {
    "duration": 11,
    "start_time": "2023-05-31T12:51:52.765Z"
   },
   {
    "duration": 11,
    "start_time": "2023-05-31T12:52:05.800Z"
   },
   {
    "duration": 4,
    "start_time": "2023-05-31T12:52:47.398Z"
   },
   {
    "duration": 11,
    "start_time": "2023-05-31T12:52:55.969Z"
   },
   {
    "duration": 12,
    "start_time": "2023-05-31T12:53:14.694Z"
   },
   {
    "duration": 12,
    "start_time": "2023-05-31T12:53:38.112Z"
   },
   {
    "duration": 11,
    "start_time": "2023-05-31T12:53:55.644Z"
   },
   {
    "duration": 10,
    "start_time": "2023-05-31T12:53:57.927Z"
   },
   {
    "duration": 12,
    "start_time": "2023-05-31T13:07:37.646Z"
   },
   {
    "duration": 10,
    "start_time": "2023-05-31T13:07:41.940Z"
   },
   {
    "duration": 9,
    "start_time": "2023-05-31T13:07:48.071Z"
   },
   {
    "duration": 4,
    "start_time": "2023-05-31T13:08:03.522Z"
   },
   {
    "duration": 10,
    "start_time": "2023-05-31T13:08:05.839Z"
   },
   {
    "duration": 9,
    "start_time": "2023-05-31T13:08:06.253Z"
   },
   {
    "duration": 12,
    "start_time": "2023-05-31T13:08:06.728Z"
   },
   {
    "duration": 8,
    "start_time": "2023-05-31T13:08:07.665Z"
   },
   {
    "duration": 105,
    "start_time": "2023-05-31T13:08:14.950Z"
   },
   {
    "duration": 13,
    "start_time": "2023-05-31T13:08:20.633Z"
   },
   {
    "duration": 1291,
    "start_time": "2023-05-31T13:08:33.266Z"
   },
   {
    "duration": 43,
    "start_time": "2023-05-31T13:08:34.560Z"
   },
   {
    "duration": 11,
    "start_time": "2023-05-31T13:08:34.605Z"
   },
   {
    "duration": 13,
    "start_time": "2023-05-31T13:08:34.619Z"
   },
   {
    "duration": 154,
    "start_time": "2023-05-31T13:08:34.634Z"
   },
   {
    "duration": 172,
    "start_time": "2023-05-31T13:08:34.790Z"
   },
   {
    "duration": 161,
    "start_time": "2023-05-31T13:08:34.965Z"
   },
   {
    "duration": 243,
    "start_time": "2023-05-31T13:08:35.128Z"
   },
   {
    "duration": 260,
    "start_time": "2023-05-31T13:08:35.373Z"
   },
   {
    "duration": 4,
    "start_time": "2023-05-31T13:08:35.635Z"
   },
   {
    "duration": 8,
    "start_time": "2023-05-31T13:08:35.640Z"
   },
   {
    "duration": 18,
    "start_time": "2023-05-31T13:08:35.649Z"
   },
   {
    "duration": 14,
    "start_time": "2023-05-31T13:08:35.669Z"
   },
   {
    "duration": 40,
    "start_time": "2023-05-31T13:08:35.685Z"
   },
   {
    "duration": 100,
    "start_time": "2023-05-31T13:08:35.727Z"
   },
   {
    "duration": 96,
    "start_time": "2023-05-31T13:08:35.829Z"
   },
   {
    "duration": 123,
    "start_time": "2023-05-31T13:08:35.927Z"
   },
   {
    "duration": 176,
    "start_time": "2023-05-31T13:08:36.052Z"
   },
   {
    "duration": 8,
    "start_time": "2023-05-31T13:08:36.230Z"
   },
   {
    "duration": 100,
    "start_time": "2023-05-31T13:08:36.240Z"
   },
   {
    "duration": 105,
    "start_time": "2023-05-31T13:09:52.091Z"
   },
   {
    "duration": 6,
    "start_time": "2023-05-31T13:09:56.656Z"
   },
   {
    "duration": 14,
    "start_time": "2023-05-31T13:10:00.857Z"
   },
   {
    "duration": 12,
    "start_time": "2023-05-31T13:10:09.078Z"
   },
   {
    "duration": 8,
    "start_time": "2023-05-31T13:10:22.776Z"
   },
   {
    "duration": 13,
    "start_time": "2023-05-31T13:12:29.531Z"
   },
   {
    "duration": 12,
    "start_time": "2023-05-31T13:12:43.611Z"
   },
   {
    "duration": 16,
    "start_time": "2023-05-31T13:13:00.075Z"
   },
   {
    "duration": 29,
    "start_time": "2023-05-31T13:13:19.024Z"
   },
   {
    "duration": 21,
    "start_time": "2023-05-31T13:13:25.850Z"
   },
   {
    "duration": 14,
    "start_time": "2023-05-31T13:13:33.141Z"
   },
   {
    "duration": 19,
    "start_time": "2023-05-31T13:14:08.407Z"
   },
   {
    "duration": 7,
    "start_time": "2023-05-31T13:14:13.479Z"
   },
   {
    "duration": 7,
    "start_time": "2023-05-31T13:14:23.525Z"
   },
   {
    "duration": 7,
    "start_time": "2023-05-31T13:15:26.194Z"
   },
   {
    "duration": 126,
    "start_time": "2023-05-31T13:15:59.070Z"
   },
   {
    "duration": 9,
    "start_time": "2023-05-31T13:16:11.540Z"
   },
   {
    "duration": 14,
    "start_time": "2023-05-31T13:16:26.249Z"
   },
   {
    "duration": 14,
    "start_time": "2023-05-31T13:17:08.328Z"
   },
   {
    "duration": 22,
    "start_time": "2023-05-31T13:17:11.325Z"
   },
   {
    "duration": 15,
    "start_time": "2023-05-31T13:17:26.659Z"
   },
   {
    "duration": 1222,
    "start_time": "2023-05-31T13:18:07.309Z"
   },
   {
    "duration": 5,
    "start_time": "2023-05-31T13:18:12.345Z"
   },
   {
    "duration": 5,
    "start_time": "2023-05-31T13:18:21.049Z"
   },
   {
    "duration": 5,
    "start_time": "2023-05-31T13:19:48.117Z"
   },
   {
    "duration": 7,
    "start_time": "2023-05-31T13:19:48.607Z"
   },
   {
    "duration": 6,
    "start_time": "2023-05-31T13:19:51.824Z"
   },
   {
    "duration": 7,
    "start_time": "2023-05-31T13:19:52.159Z"
   },
   {
    "duration": 2656,
    "start_time": "2023-05-31T17:46:39.167Z"
   },
   {
    "duration": 73,
    "start_time": "2023-05-31T17:46:41.825Z"
   },
   {
    "duration": 17,
    "start_time": "2023-05-31T17:46:41.900Z"
   },
   {
    "duration": 20,
    "start_time": "2023-05-31T17:46:41.919Z"
   },
   {
    "duration": 251,
    "start_time": "2023-05-31T17:46:41.942Z"
   },
   {
    "duration": 302,
    "start_time": "2023-05-31T17:46:42.195Z"
   },
   {
    "duration": 291,
    "start_time": "2023-05-31T17:46:42.498Z"
   },
   {
    "duration": 421,
    "start_time": "2023-05-31T17:46:42.791Z"
   },
   {
    "duration": 356,
    "start_time": "2023-05-31T17:46:43.215Z"
   },
   {
    "duration": 9,
    "start_time": "2023-05-31T17:46:43.577Z"
   },
   {
    "duration": 12,
    "start_time": "2023-05-31T17:46:43.596Z"
   },
   {
    "duration": 10,
    "start_time": "2023-05-31T17:46:43.610Z"
   },
   {
    "duration": 12,
    "start_time": "2023-05-31T17:46:43.622Z"
   },
   {
    "duration": 105,
    "start_time": "2023-05-31T17:46:43.647Z"
   },
   {
    "duration": 54,
    "start_time": "2023-05-31T17:46:43.757Z"
   },
   {
    "duration": 149,
    "start_time": "2023-05-31T17:46:43.813Z"
   },
   {
    "duration": 99,
    "start_time": "2023-05-31T17:46:43.965Z"
   },
   {
    "duration": 126,
    "start_time": "2023-05-31T17:46:44.074Z"
   },
   {
    "duration": 14,
    "start_time": "2023-05-31T17:46:44.202Z"
   },
   {
    "duration": 18,
    "start_time": "2023-05-31T17:46:44.218Z"
   },
   {
    "duration": 11,
    "start_time": "2023-05-31T17:46:44.238Z"
   },
   {
    "duration": 162,
    "start_time": "2023-05-31T17:46:44.251Z"
   },
   {
    "duration": 7,
    "start_time": "2023-05-31T17:46:44.415Z"
   },
   {
    "duration": 45,
    "start_time": "2023-05-31T19:21:11.438Z"
   },
   {
    "duration": 6,
    "start_time": "2023-05-31T19:21:14.625Z"
   },
   {
    "duration": 6,
    "start_time": "2023-05-31T19:21:14.973Z"
   },
   {
    "duration": 1563,
    "start_time": "2023-05-31T19:21:17.569Z"
   },
   {
    "duration": 99,
    "start_time": "2023-05-31T19:21:19.729Z"
   },
   {
    "duration": 10,
    "start_time": "2023-05-31T19:21:27.784Z"
   },
   {
    "duration": 1424,
    "start_time": "2023-10-15T13:29:46.041Z"
   },
   {
    "duration": 92,
    "start_time": "2023-10-15T13:29:47.467Z"
   },
   {
    "duration": 10,
    "start_time": "2023-10-15T13:29:47.561Z"
   },
   {
    "duration": 29,
    "start_time": "2023-10-15T13:29:47.573Z"
   },
   {
    "duration": 143,
    "start_time": "2023-10-15T13:29:47.605Z"
   },
   {
    "duration": 163,
    "start_time": "2023-10-15T13:29:47.750Z"
   },
   {
    "duration": 154,
    "start_time": "2023-10-15T13:29:47.914Z"
   },
   {
    "duration": 238,
    "start_time": "2023-10-15T13:29:48.069Z"
   },
   {
    "duration": 254,
    "start_time": "2023-10-15T13:29:48.308Z"
   },
   {
    "duration": 3,
    "start_time": "2023-10-15T13:29:48.564Z"
   },
   {
    "duration": 13,
    "start_time": "2023-10-15T13:29:48.569Z"
   },
   {
    "duration": 5,
    "start_time": "2023-10-15T13:29:48.584Z"
   },
   {
    "duration": 16,
    "start_time": "2023-10-15T13:29:48.590Z"
   },
   {
    "duration": 4,
    "start_time": "2023-10-15T13:29:48.610Z"
   },
   {
    "duration": 98,
    "start_time": "2023-10-15T13:29:48.616Z"
   },
   {
    "duration": 93,
    "start_time": "2023-10-15T13:29:48.716Z"
   },
   {
    "duration": 117,
    "start_time": "2023-10-15T13:29:48.811Z"
   },
   {
    "duration": 177,
    "start_time": "2023-10-15T13:29:48.933Z"
   },
   {
    "duration": 7,
    "start_time": "2023-10-15T13:29:49.112Z"
   },
   {
    "duration": 11,
    "start_time": "2023-10-15T13:29:49.121Z"
   },
   {
    "duration": 8,
    "start_time": "2023-10-15T13:29:49.134Z"
   },
   {
    "duration": 97,
    "start_time": "2023-10-15T13:29:49.144Z"
   },
   {
    "duration": 5,
    "start_time": "2023-10-15T13:29:49.242Z"
   }
  ],
  "kernelspec": {
   "display_name": "Python 3 (ipykernel)",
   "language": "python",
   "name": "python3"
  },
  "language_info": {
   "codemirror_mode": {
    "name": "ipython",
    "version": 3
   },
   "file_extension": ".py",
   "mimetype": "text/x-python",
   "name": "python",
   "nbconvert_exporter": "python",
   "pygments_lexer": "ipython3",
   "version": "3.9.5"
  },
  "toc": {
   "base_numbering": 1,
   "nav_menu": {},
   "number_sections": true,
   "sideBar": true,
   "skip_h1_title": true,
   "title_cell": "Содержание",
   "title_sidebar": "Contents",
   "toc_cell": true,
   "toc_position": {},
   "toc_section_display": true,
   "toc_window_display": false
  }
 },
 "nbformat": 4,
 "nbformat_minor": 2
}
