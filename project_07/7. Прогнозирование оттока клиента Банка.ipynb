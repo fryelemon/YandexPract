{
 "cells": [
  {
   "cell_type": "markdown",
   "metadata": {
    "toc": true
   },
   "source": [
    "<h1>Содержание<span class=\"tocSkip\"></span></h1>\n",
    "<div class=\"toc\"><ul class=\"toc-item\"><li><span><a href=\"#Подготовка-данных\" data-toc-modified-id=\"Подготовка-данных-1\"><span class=\"toc-item-num\">1&nbsp;&nbsp;</span>Подготовка данных</a></span><ul class=\"toc-item\"><li><span><a href=\"#Импортируем-данные\" data-toc-modified-id=\"Импортируем-данные-1.1\"><span class=\"toc-item-num\">1.1&nbsp;&nbsp;</span>Импортируем данные</a></span></li><li><span><a href=\"#Корректировка-наименований-столбцов\" data-toc-modified-id=\"Корректировка-наименований-столбцов-1.2\"><span class=\"toc-item-num\">1.2&nbsp;&nbsp;</span>Корректировка наименований столбцов</a></span></li><li><span><a href=\"#Изучение-и-корректировка-данных\" data-toc-modified-id=\"Изучение-и-корректировка-данных-1.3\"><span class=\"toc-item-num\">1.3&nbsp;&nbsp;</span>Изучение и корректировка данных</a></span></li><li><span><a href=\"#One-hot-Encoding\" data-toc-modified-id=\"One-hot-Encoding-1.4\"><span class=\"toc-item-num\">1.4&nbsp;&nbsp;</span>One-hot Encoding</a></span></li><li><span><a href=\"#Разделение-данных\" data-toc-modified-id=\"Разделение-данных-1.5\"><span class=\"toc-item-num\">1.5&nbsp;&nbsp;</span>Разделение данных</a></span></li><li><span><a href=\"#Масштабирование-признаков\" data-toc-modified-id=\"Масштабирование-признаков-1.6\"><span class=\"toc-item-num\">1.6&nbsp;&nbsp;</span>Масштабирование признаков</a></span></li></ul></li><li><span><a href=\"#Исследование-задачи\" data-toc-modified-id=\"Исследование-задачи-2\"><span class=\"toc-item-num\">2&nbsp;&nbsp;</span>Исследование задачи</a></span><ul class=\"toc-item\"><li><span><a href=\"#Логистическая-регрессия\" data-toc-modified-id=\"Логистическая-регрессия-2.1\"><span class=\"toc-item-num\">2.1&nbsp;&nbsp;</span>Логистическая регрессия</a></span></li><li><span><a href=\"#Случайный-лес\" data-toc-modified-id=\"Случайный-лес-2.2\"><span class=\"toc-item-num\">2.2&nbsp;&nbsp;</span>Случайный лес</a></span></li><li><span><a href=\"#Вывод\" data-toc-modified-id=\"Вывод-2.3\"><span class=\"toc-item-num\">2.3&nbsp;&nbsp;</span>Вывод</a></span></li></ul></li><li><span><a href=\"#Борьба-с-дисбалансом\" data-toc-modified-id=\"Борьба-с-дисбалансом-3\"><span class=\"toc-item-num\">3&nbsp;&nbsp;</span>Борьба с дисбалансом</a></span><ul class=\"toc-item\"><li><span><a href=\"#Upsampling\" data-toc-modified-id=\"Upsampling-3.1\"><span class=\"toc-item-num\">3.1&nbsp;&nbsp;</span>Upsampling</a></span><ul class=\"toc-item\"><li><span><a href=\"#Проверка\" data-toc-modified-id=\"Проверка-3.1.1\"><span class=\"toc-item-num\">3.1.1&nbsp;&nbsp;</span>Проверка</a></span></li></ul></li><li><span><a href=\"#Downsampling\" data-toc-modified-id=\"Downsampling-3.2\"><span class=\"toc-item-num\">3.2&nbsp;&nbsp;</span>Downsampling</a></span><ul class=\"toc-item\"><li><span><a href=\"#Проверка\" data-toc-modified-id=\"Проверка-3.2.1\"><span class=\"toc-item-num\">3.2.1&nbsp;&nbsp;</span>Проверка</a></span></li></ul></li><li><span><a href=\"#Изменение-порога\" data-toc-modified-id=\"Изменение-порога-3.3\"><span class=\"toc-item-num\">3.3&nbsp;&nbsp;</span>Изменение порога</a></span><ul class=\"toc-item\"><li><span><a href=\"#Логистическая-регрессия\" data-toc-modified-id=\"Логистическая-регрессия-3.3.1\"><span class=\"toc-item-num\">3.3.1&nbsp;&nbsp;</span>Логистическая регрессия</a></span></li><li><span><a href=\"#Случайный-лес\" data-toc-modified-id=\"Случайный-лес-3.3.2\"><span class=\"toc-item-num\">3.3.2&nbsp;&nbsp;</span>Случайный лес</a></span></li></ul></li><li><span><a href=\"#Вывод\" data-toc-modified-id=\"Вывод-3.4\"><span class=\"toc-item-num\">3.4&nbsp;&nbsp;</span>Вывод</a></span></li></ul></li><li><span><a href=\"#Тестирование-модели\" data-toc-modified-id=\"Тестирование-модели-4\"><span class=\"toc-item-num\">4&nbsp;&nbsp;</span>Тестирование модели</a></span><ul class=\"toc-item\"><li><span><a href=\"#Обучение-модели\" data-toc-modified-id=\"Обучение-модели-4.1\"><span class=\"toc-item-num\">4.1&nbsp;&nbsp;</span>Обучение модели</a></span></li><li><span><a href=\"#Тестирование\" data-toc-modified-id=\"Тестирование-4.2\"><span class=\"toc-item-num\">4.2&nbsp;&nbsp;</span>Тестирование</a></span></li></ul></li><li><span><a href=\"#Вывод\" data-toc-modified-id=\"Вывод-5\"><span class=\"toc-item-num\">5&nbsp;&nbsp;</span>Вывод</a></span></li><li><span><a href=\"#Чек-лист-готовности-проекта\" data-toc-modified-id=\"Чек-лист-готовности-проекта-6\"><span class=\"toc-item-num\">6&nbsp;&nbsp;</span>Чек-лист готовности проекта</a></span></li></ul></div>"
   ]
  },
  {
   "cell_type": "markdown",
   "metadata": {},
   "source": [
    "# Отток клиентов"
   ]
  },
  {
   "cell_type": "markdown",
   "metadata": {},
   "source": [
    "Из «Бета-Банка» стали уходить клиенты. Каждый месяц. Немного, но заметно. Банковские маркетологи посчитали: сохранять текущих клиентов дешевле, чем привлекать новых.\n",
    "\n",
    "Нужно спрогнозировать, уйдёт клиент из банка в ближайшее время или нет. Вам предоставлены исторические данные о поведении клиентов и расторжении договоров с банком. \n",
    "\n",
    "Постройте модель с предельно большим значением *F1*-меры. Чтобы сдать проект успешно, нужно довести метрику до 0.59. Проверьте *F1*-меру на тестовой выборке самостоятельно.\n",
    "\n",
    "Дополнительно измеряйте *AUC-ROC*, сравнивайте её значение с *F1*-мерой.\n",
    "\n",
    "Источник данных: [https://www.kaggle.com/barelydedicated/bank-customer-churn-modeling](https://www.kaggle.com/barelydedicated/bank-customer-churn-modeling)"
   ]
  },
  {
   "cell_type": "code",
   "execution_count": 69,
   "metadata": {},
   "outputs": [],
   "source": [
    "# Работа с данными\n",
    "import pandas as pd\n",
    "import numpy as np\n",
    "\n",
    "# Модели\n",
    "from sklearn.linear_model import LogisticRegression\n",
    "from sklearn.ensemble import RandomForestClassifier\n",
    "\n",
    "# Предобработка даты\n",
    "from sklearn.preprocessing import StandardScaler\n",
    "from sklearn.model_selection import train_test_split\n",
    "from sklearn.utils import shuffle\n",
    "\n",
    "# Проверка моделей\n",
    "from sklearn.metrics import (\n",
    "    f1_score, \n",
    "    roc_auc_score, \n",
    "    roc_curve, \n",
    "    precision_score, \n",
    "    recall_score, \n",
    "    precision_recall_curve, \n",
    "    accuracy_score\n",
    ")"
   ]
  },
  {
   "cell_type": "code",
   "execution_count": 70,
   "metadata": {},
   "outputs": [],
   "source": [
    "# Визуализация\n",
    "%matplotlib inline\n",
    "import matplotlib.pyplot as plt\n",
    "import seaborn as sns\n",
    "sns.set_style(\"darkgrid\")"
   ]
  },
  {
   "cell_type": "markdown",
   "metadata": {},
   "source": [
    "## Подготовка данных"
   ]
  },
  {
   "cell_type": "markdown",
   "metadata": {},
   "source": [
    "### Импортируем данные"
   ]
  },
  {
   "cell_type": "code",
   "execution_count": 71,
   "metadata": {},
   "outputs": [
    {
     "name": "stdout",
     "output_type": "stream",
     "text": [
      "Данные загружены\n"
     ]
    }
   ],
   "source": [
    "try:\n",
    "    data = pd.read_csv('/datasets/Churn.csv')\n",
    "    print('Данные загружены')\n",
    "    \n",
    "except FileNotFoundError:\n",
    "    print('Данные не найдены')"
   ]
  },
  {
   "cell_type": "markdown",
   "metadata": {},
   "source": [
    "### Корректировка наименований столбцов"
   ]
  },
  {
   "cell_type": "markdown",
   "metadata": {},
   "source": [
    "Для удобства переименуем наименования столбцов"
   ]
  },
  {
   "cell_type": "code",
   "execution_count": 72,
   "metadata": {},
   "outputs": [],
   "source": [
    "data.columns = ['row_number', 'customer_id', 'surname', 'credit_score', 'geography',\n",
    "       'gender', 'age', 'tenure', 'balance', 'num_of_products', 'has_crcard',\n",
    "       'isactive_member', 'estimated_salary', 'exited']"
   ]
  },
  {
   "cell_type": "markdown",
   "metadata": {},
   "source": [
    "### Изучение и корректировка данных"
   ]
  },
  {
   "cell_type": "code",
   "execution_count": 73,
   "metadata": {},
   "outputs": [
    {
     "data": {
      "text/html": [
       "<div>\n",
       "<style scoped>\n",
       "    .dataframe tbody tr th:only-of-type {\n",
       "        vertical-align: middle;\n",
       "    }\n",
       "\n",
       "    .dataframe tbody tr th {\n",
       "        vertical-align: top;\n",
       "    }\n",
       "\n",
       "    .dataframe thead th {\n",
       "        text-align: right;\n",
       "    }\n",
       "</style>\n",
       "<table border=\"1\" class=\"dataframe\">\n",
       "  <thead>\n",
       "    <tr style=\"text-align: right;\">\n",
       "      <th></th>\n",
       "      <th>row_number</th>\n",
       "      <th>customer_id</th>\n",
       "      <th>surname</th>\n",
       "      <th>credit_score</th>\n",
       "      <th>geography</th>\n",
       "      <th>gender</th>\n",
       "      <th>age</th>\n",
       "      <th>tenure</th>\n",
       "      <th>balance</th>\n",
       "      <th>num_of_products</th>\n",
       "      <th>has_crcard</th>\n",
       "      <th>isactive_member</th>\n",
       "      <th>estimated_salary</th>\n",
       "      <th>exited</th>\n",
       "    </tr>\n",
       "  </thead>\n",
       "  <tbody>\n",
       "    <tr>\n",
       "      <th>0</th>\n",
       "      <td>1</td>\n",
       "      <td>15634602</td>\n",
       "      <td>Hargrave</td>\n",
       "      <td>619</td>\n",
       "      <td>France</td>\n",
       "      <td>Female</td>\n",
       "      <td>42</td>\n",
       "      <td>2.0</td>\n",
       "      <td>0.00</td>\n",
       "      <td>1</td>\n",
       "      <td>1</td>\n",
       "      <td>1</td>\n",
       "      <td>101348.88</td>\n",
       "      <td>1</td>\n",
       "    </tr>\n",
       "    <tr>\n",
       "      <th>1</th>\n",
       "      <td>2</td>\n",
       "      <td>15647311</td>\n",
       "      <td>Hill</td>\n",
       "      <td>608</td>\n",
       "      <td>Spain</td>\n",
       "      <td>Female</td>\n",
       "      <td>41</td>\n",
       "      <td>1.0</td>\n",
       "      <td>83807.86</td>\n",
       "      <td>1</td>\n",
       "      <td>0</td>\n",
       "      <td>1</td>\n",
       "      <td>112542.58</td>\n",
       "      <td>0</td>\n",
       "    </tr>\n",
       "    <tr>\n",
       "      <th>2</th>\n",
       "      <td>3</td>\n",
       "      <td>15619304</td>\n",
       "      <td>Onio</td>\n",
       "      <td>502</td>\n",
       "      <td>France</td>\n",
       "      <td>Female</td>\n",
       "      <td>42</td>\n",
       "      <td>8.0</td>\n",
       "      <td>159660.80</td>\n",
       "      <td>3</td>\n",
       "      <td>1</td>\n",
       "      <td>0</td>\n",
       "      <td>113931.57</td>\n",
       "      <td>1</td>\n",
       "    </tr>\n",
       "    <tr>\n",
       "      <th>3</th>\n",
       "      <td>4</td>\n",
       "      <td>15701354</td>\n",
       "      <td>Boni</td>\n",
       "      <td>699</td>\n",
       "      <td>France</td>\n",
       "      <td>Female</td>\n",
       "      <td>39</td>\n",
       "      <td>1.0</td>\n",
       "      <td>0.00</td>\n",
       "      <td>2</td>\n",
       "      <td>0</td>\n",
       "      <td>0</td>\n",
       "      <td>93826.63</td>\n",
       "      <td>0</td>\n",
       "    </tr>\n",
       "    <tr>\n",
       "      <th>4</th>\n",
       "      <td>5</td>\n",
       "      <td>15737888</td>\n",
       "      <td>Mitchell</td>\n",
       "      <td>850</td>\n",
       "      <td>Spain</td>\n",
       "      <td>Female</td>\n",
       "      <td>43</td>\n",
       "      <td>2.0</td>\n",
       "      <td>125510.82</td>\n",
       "      <td>1</td>\n",
       "      <td>1</td>\n",
       "      <td>1</td>\n",
       "      <td>79084.10</td>\n",
       "      <td>0</td>\n",
       "    </tr>\n",
       "  </tbody>\n",
       "</table>\n",
       "</div>"
      ],
      "text/plain": [
       "   row_number  customer_id   surname  credit_score geography  gender  age  \\\n",
       "0           1     15634602  Hargrave           619    France  Female   42   \n",
       "1           2     15647311      Hill           608     Spain  Female   41   \n",
       "2           3     15619304      Onio           502    France  Female   42   \n",
       "3           4     15701354      Boni           699    France  Female   39   \n",
       "4           5     15737888  Mitchell           850     Spain  Female   43   \n",
       "\n",
       "   tenure    balance  num_of_products  has_crcard  isactive_member  \\\n",
       "0     2.0       0.00                1           1                1   \n",
       "1     1.0   83807.86                1           0                1   \n",
       "2     8.0  159660.80                3           1                0   \n",
       "3     1.0       0.00                2           0                0   \n",
       "4     2.0  125510.82                1           1                1   \n",
       "\n",
       "   estimated_salary  exited  \n",
       "0         101348.88       1  \n",
       "1         112542.58       0  \n",
       "2         113931.57       1  \n",
       "3          93826.63       0  \n",
       "4          79084.10       0  "
      ]
     },
     "execution_count": 73,
     "metadata": {},
     "output_type": "execute_result"
    }
   ],
   "source": [
    "data.head()"
   ]
  },
  {
   "cell_type": "markdown",
   "metadata": {},
   "source": [
    "В данных есть несколько ненужных столбцов: *RowNumber, CustomerId, Surname*. Они не несут полезной информации для обучения модели, только ее запутают."
   ]
  },
  {
   "cell_type": "code",
   "execution_count": 74,
   "metadata": {},
   "outputs": [],
   "source": [
    "# Создадим дубликат датафрейма и удалим из него ненужные столбцы.\n",
    "train_data = data.copy()\n",
    "train_data = train_data.drop(['row_number', 'customer_id', 'surname'], axis=1)"
   ]
  },
  {
   "cell_type": "markdown",
   "metadata": {},
   "source": [
    "Теперь изучим данные поближе."
   ]
  },
  {
   "cell_type": "code",
   "execution_count": 75,
   "metadata": {},
   "outputs": [
    {
     "name": "stdout",
     "output_type": "stream",
     "text": [
      "<class 'pandas.core.frame.DataFrame'>\n",
      "RangeIndex: 10000 entries, 0 to 9999\n",
      "Data columns (total 11 columns):\n",
      " #   Column            Non-Null Count  Dtype  \n",
      "---  ------            --------------  -----  \n",
      " 0   credit_score      10000 non-null  int64  \n",
      " 1   geography         10000 non-null  object \n",
      " 2   gender            10000 non-null  object \n",
      " 3   age               10000 non-null  int64  \n",
      " 4   tenure            9091 non-null   float64\n",
      " 5   balance           10000 non-null  float64\n",
      " 6   num_of_products   10000 non-null  int64  \n",
      " 7   has_crcard        10000 non-null  int64  \n",
      " 8   isactive_member   10000 non-null  int64  \n",
      " 9   estimated_salary  10000 non-null  float64\n",
      " 10  exited            10000 non-null  int64  \n",
      "dtypes: float64(3), int64(6), object(2)\n",
      "memory usage: 859.5+ KB\n"
     ]
    }
   ],
   "source": [
    "train_data.info()"
   ]
  },
  {
   "cell_type": "markdown",
   "metadata": {},
   "source": [
    "В целом типы выглядят нормально, единственное нужно посмотреть стобец *tenure*. Там есть пропуски."
   ]
  },
  {
   "cell_type": "code",
   "execution_count": 76,
   "metadata": {},
   "outputs": [
    {
     "data": {
      "text/plain": [
       "array([ 2.,  1.,  8.,  7.,  4.,  6.,  3., 10.,  5.,  9.,  0., nan])"
      ]
     },
     "execution_count": 76,
     "metadata": {},
     "output_type": "execute_result"
    }
   ],
   "source": [
    "train_data['tenure'].unique()"
   ]
  },
  {
   "cell_type": "markdown",
   "metadata": {},
   "source": [
    "Рассмотрим ближе строки с отсутствующими значениями."
   ]
  },
  {
   "cell_type": "code",
   "execution_count": 77,
   "metadata": {},
   "outputs": [
    {
     "data": {
      "text/html": [
       "<div>\n",
       "<style scoped>\n",
       "    .dataframe tbody tr th:only-of-type {\n",
       "        vertical-align: middle;\n",
       "    }\n",
       "\n",
       "    .dataframe tbody tr th {\n",
       "        vertical-align: top;\n",
       "    }\n",
       "\n",
       "    .dataframe thead th {\n",
       "        text-align: right;\n",
       "    }\n",
       "</style>\n",
       "<table border=\"1\" class=\"dataframe\">\n",
       "  <thead>\n",
       "    <tr style=\"text-align: right;\">\n",
       "      <th></th>\n",
       "      <th>count</th>\n",
       "      <th>mean</th>\n",
       "      <th>std</th>\n",
       "      <th>min</th>\n",
       "      <th>25%</th>\n",
       "      <th>50%</th>\n",
       "      <th>75%</th>\n",
       "      <th>max</th>\n",
       "    </tr>\n",
       "  </thead>\n",
       "  <tbody>\n",
       "    <tr>\n",
       "      <th>credit_score</th>\n",
       "      <td>909.0</td>\n",
       "      <td>648.451045</td>\n",
       "      <td>99.079381</td>\n",
       "      <td>359.00</td>\n",
       "      <td>580.00</td>\n",
       "      <td>647.00</td>\n",
       "      <td>718.00</td>\n",
       "      <td>850.00</td>\n",
       "    </tr>\n",
       "    <tr>\n",
       "      <th>age</th>\n",
       "      <td>909.0</td>\n",
       "      <td>38.647965</td>\n",
       "      <td>9.785438</td>\n",
       "      <td>18.00</td>\n",
       "      <td>32.00</td>\n",
       "      <td>37.00</td>\n",
       "      <td>43.00</td>\n",
       "      <td>92.00</td>\n",
       "    </tr>\n",
       "    <tr>\n",
       "      <th>tenure</th>\n",
       "      <td>0.0</td>\n",
       "      <td>NaN</td>\n",
       "      <td>NaN</td>\n",
       "      <td>NaN</td>\n",
       "      <td>NaN</td>\n",
       "      <td>NaN</td>\n",
       "      <td>NaN</td>\n",
       "      <td>NaN</td>\n",
       "    </tr>\n",
       "    <tr>\n",
       "      <th>balance</th>\n",
       "      <td>909.0</td>\n",
       "      <td>76117.341474</td>\n",
       "      <td>63105.690715</td>\n",
       "      <td>0.00</td>\n",
       "      <td>0.00</td>\n",
       "      <td>96674.55</td>\n",
       "      <td>128554.98</td>\n",
       "      <td>206663.75</td>\n",
       "    </tr>\n",
       "    <tr>\n",
       "      <th>num_of_products</th>\n",
       "      <td>909.0</td>\n",
       "      <td>1.530253</td>\n",
       "      <td>0.588452</td>\n",
       "      <td>1.00</td>\n",
       "      <td>1.00</td>\n",
       "      <td>1.00</td>\n",
       "      <td>2.00</td>\n",
       "      <td>4.00</td>\n",
       "    </tr>\n",
       "    <tr>\n",
       "      <th>has_crcard</th>\n",
       "      <td>909.0</td>\n",
       "      <td>0.710671</td>\n",
       "      <td>0.453701</td>\n",
       "      <td>0.00</td>\n",
       "      <td>0.00</td>\n",
       "      <td>1.00</td>\n",
       "      <td>1.00</td>\n",
       "      <td>1.00</td>\n",
       "    </tr>\n",
       "    <tr>\n",
       "      <th>isactive_member</th>\n",
       "      <td>909.0</td>\n",
       "      <td>0.510451</td>\n",
       "      <td>0.500166</td>\n",
       "      <td>0.00</td>\n",
       "      <td>0.00</td>\n",
       "      <td>1.00</td>\n",
       "      <td>1.00</td>\n",
       "      <td>1.00</td>\n",
       "    </tr>\n",
       "    <tr>\n",
       "      <th>estimated_salary</th>\n",
       "      <td>909.0</td>\n",
       "      <td>99180.389373</td>\n",
       "      <td>56378.063765</td>\n",
       "      <td>106.67</td>\n",
       "      <td>49872.33</td>\n",
       "      <td>99444.02</td>\n",
       "      <td>145759.70</td>\n",
       "      <td>199390.45</td>\n",
       "    </tr>\n",
       "    <tr>\n",
       "      <th>exited</th>\n",
       "      <td>909.0</td>\n",
       "      <td>0.201320</td>\n",
       "      <td>0.401207</td>\n",
       "      <td>0.00</td>\n",
       "      <td>0.00</td>\n",
       "      <td>0.00</td>\n",
       "      <td>0.00</td>\n",
       "      <td>1.00</td>\n",
       "    </tr>\n",
       "  </tbody>\n",
       "</table>\n",
       "</div>"
      ],
      "text/plain": [
       "                  count          mean           std     min       25%  \\\n",
       "credit_score      909.0    648.451045     99.079381  359.00    580.00   \n",
       "age               909.0     38.647965      9.785438   18.00     32.00   \n",
       "tenure              0.0           NaN           NaN     NaN       NaN   \n",
       "balance           909.0  76117.341474  63105.690715    0.00      0.00   \n",
       "num_of_products   909.0      1.530253      0.588452    1.00      1.00   \n",
       "has_crcard        909.0      0.710671      0.453701    0.00      0.00   \n",
       "isactive_member   909.0      0.510451      0.500166    0.00      0.00   \n",
       "estimated_salary  909.0  99180.389373  56378.063765  106.67  49872.33   \n",
       "exited            909.0      0.201320      0.401207    0.00      0.00   \n",
       "\n",
       "                       50%        75%        max  \n",
       "credit_score        647.00     718.00     850.00  \n",
       "age                  37.00      43.00      92.00  \n",
       "tenure                 NaN        NaN        NaN  \n",
       "balance           96674.55  128554.98  206663.75  \n",
       "num_of_products       1.00       2.00       4.00  \n",
       "has_crcard            1.00       1.00       1.00  \n",
       "isactive_member       1.00       1.00       1.00  \n",
       "estimated_salary  99444.02  145759.70  199390.45  \n",
       "exited                0.00       0.00       1.00  "
      ]
     },
     "execution_count": 77,
     "metadata": {},
     "output_type": "execute_result"
    }
   ],
   "source": [
    "train_data[train_data['tenure'].isna()].describe().T"
   ]
  },
  {
   "cell_type": "code",
   "execution_count": 78,
   "metadata": {},
   "outputs": [
    {
     "data": {
      "text/html": [
       "<div>\n",
       "<style scoped>\n",
       "    .dataframe tbody tr th:only-of-type {\n",
       "        vertical-align: middle;\n",
       "    }\n",
       "\n",
       "    .dataframe tbody tr th {\n",
       "        vertical-align: top;\n",
       "    }\n",
       "\n",
       "    .dataframe thead th {\n",
       "        text-align: right;\n",
       "    }\n",
       "</style>\n",
       "<table border=\"1\" class=\"dataframe\">\n",
       "  <thead>\n",
       "    <tr style=\"text-align: right;\">\n",
       "      <th></th>\n",
       "      <th>credit_score</th>\n",
       "      <th>geography</th>\n",
       "      <th>gender</th>\n",
       "      <th>age</th>\n",
       "      <th>tenure</th>\n",
       "      <th>balance</th>\n",
       "      <th>num_of_products</th>\n",
       "      <th>has_crcard</th>\n",
       "      <th>isactive_member</th>\n",
       "      <th>estimated_salary</th>\n",
       "      <th>exited</th>\n",
       "    </tr>\n",
       "  </thead>\n",
       "  <tbody>\n",
       "    <tr>\n",
       "      <th>30</th>\n",
       "      <td>591</td>\n",
       "      <td>Spain</td>\n",
       "      <td>Female</td>\n",
       "      <td>39</td>\n",
       "      <td>NaN</td>\n",
       "      <td>0.00</td>\n",
       "      <td>3</td>\n",
       "      <td>1</td>\n",
       "      <td>0</td>\n",
       "      <td>140469.38</td>\n",
       "      <td>1</td>\n",
       "    </tr>\n",
       "    <tr>\n",
       "      <th>48</th>\n",
       "      <td>550</td>\n",
       "      <td>Germany</td>\n",
       "      <td>Male</td>\n",
       "      <td>38</td>\n",
       "      <td>NaN</td>\n",
       "      <td>103391.38</td>\n",
       "      <td>1</td>\n",
       "      <td>0</td>\n",
       "      <td>1</td>\n",
       "      <td>90878.13</td>\n",
       "      <td>0</td>\n",
       "    </tr>\n",
       "    <tr>\n",
       "      <th>51</th>\n",
       "      <td>585</td>\n",
       "      <td>Germany</td>\n",
       "      <td>Male</td>\n",
       "      <td>36</td>\n",
       "      <td>NaN</td>\n",
       "      <td>146050.97</td>\n",
       "      <td>2</td>\n",
       "      <td>0</td>\n",
       "      <td>0</td>\n",
       "      <td>86424.57</td>\n",
       "      <td>0</td>\n",
       "    </tr>\n",
       "    <tr>\n",
       "      <th>53</th>\n",
       "      <td>655</td>\n",
       "      <td>Germany</td>\n",
       "      <td>Male</td>\n",
       "      <td>41</td>\n",
       "      <td>NaN</td>\n",
       "      <td>125561.97</td>\n",
       "      <td>1</td>\n",
       "      <td>0</td>\n",
       "      <td>0</td>\n",
       "      <td>164040.94</td>\n",
       "      <td>1</td>\n",
       "    </tr>\n",
       "    <tr>\n",
       "      <th>60</th>\n",
       "      <td>742</td>\n",
       "      <td>Germany</td>\n",
       "      <td>Male</td>\n",
       "      <td>35</td>\n",
       "      <td>NaN</td>\n",
       "      <td>136857.00</td>\n",
       "      <td>1</td>\n",
       "      <td>0</td>\n",
       "      <td>0</td>\n",
       "      <td>84509.57</td>\n",
       "      <td>0</td>\n",
       "    </tr>\n",
       "  </tbody>\n",
       "</table>\n",
       "</div>"
      ],
      "text/plain": [
       "    credit_score geography  gender  age  tenure    balance  num_of_products  \\\n",
       "30           591     Spain  Female   39     NaN       0.00                3   \n",
       "48           550   Germany    Male   38     NaN  103391.38                1   \n",
       "51           585   Germany    Male   36     NaN  146050.97                2   \n",
       "53           655   Germany    Male   41     NaN  125561.97                1   \n",
       "60           742   Germany    Male   35     NaN  136857.00                1   \n",
       "\n",
       "    has_crcard  isactive_member  estimated_salary  exited  \n",
       "30           1                0         140469.38       1  \n",
       "48           0                1          90878.13       0  \n",
       "51           0                0          86424.57       0  \n",
       "53           0                0         164040.94       1  \n",
       "60           0                0          84509.57       0  "
      ]
     },
     "execution_count": 78,
     "metadata": {},
     "output_type": "execute_result"
    }
   ],
   "source": [
    "train_data[train_data['tenure'].isna()].head()"
   ]
  },
  {
   "cell_type": "markdown",
   "metadata": {},
   "source": [
    "Неочевидно почему отсутствуют эти значения. "
   ]
  },
  {
   "cell_type": "code",
   "execution_count": 79,
   "metadata": {},
   "outputs": [
    {
     "data": {
      "image/png": "[encoded data removed]",
      "text/plain": [
       "<Figure size 432x288 with 1 Axes>"
      ]
     },
     "metadata": {},
     "output_type": "display_data"
    }
   ],
   "source": [
    "# Посмотрим как распределены данные\n",
    "sns.countplot(data=train_data, x='tenure');"
   ]
  },
  {
   "cell_type": "markdown",
   "metadata": {},
   "source": [
    "Значения распределены довольно равномерно, потому целесообразно будет заменить на медиану."
   ]
  },
  {
   "cell_type": "code",
   "execution_count": 80,
   "metadata": {},
   "outputs": [],
   "source": [
    "train_data.loc[train_data['tenure'].isna(), ['tenure']] = train_data['tenure'].median()"
   ]
  },
  {
   "cell_type": "markdown",
   "metadata": {},
   "source": [
    "### One-hot Encoding"
   ]
  },
  {
   "cell_type": "markdown",
   "metadata": {},
   "source": [
    "Есть еще два столбца, которые нужно обработать: *geography*, *gender*. Так как это текстовые столбцы, обработаем их с помощью get_dummies."
   ]
  },
  {
   "cell_type": "code",
   "execution_count": 81,
   "metadata": {},
   "outputs": [
    {
     "data": {
      "text/plain": [
       "array(['France', 'Spain', 'Germany'], dtype=object)"
      ]
     },
     "execution_count": 81,
     "metadata": {},
     "output_type": "execute_result"
    }
   ],
   "source": [
    "train_data['geography'].unique()"
   ]
  },
  {
   "cell_type": "code",
   "execution_count": 82,
   "metadata": {},
   "outputs": [
    {
     "data": {
      "text/plain": [
       "array(['Female', 'Male'], dtype=object)"
      ]
     },
     "execution_count": 82,
     "metadata": {},
     "output_type": "execute_result"
    }
   ],
   "source": [
    "train_data['gender'].unique()"
   ]
  },
  {
   "cell_type": "code",
   "execution_count": 83,
   "metadata": {},
   "outputs": [
    {
     "data": {
      "text/html": [
       "<div>\n",
       "<style scoped>\n",
       "    .dataframe tbody tr th:only-of-type {\n",
       "        vertical-align: middle;\n",
       "    }\n",
       "\n",
       "    .dataframe tbody tr th {\n",
       "        vertical-align: top;\n",
       "    }\n",
       "\n",
       "    .dataframe thead th {\n",
       "        text-align: right;\n",
       "    }\n",
       "</style>\n",
       "<table border=\"1\" class=\"dataframe\">\n",
       "  <thead>\n",
       "    <tr style=\"text-align: right;\">\n",
       "      <th></th>\n",
       "      <th>credit_score</th>\n",
       "      <th>age</th>\n",
       "      <th>tenure</th>\n",
       "      <th>balance</th>\n",
       "      <th>num_of_products</th>\n",
       "      <th>has_crcard</th>\n",
       "      <th>isactive_member</th>\n",
       "      <th>estimated_salary</th>\n",
       "      <th>exited</th>\n",
       "      <th>Male</th>\n",
       "      <th>Germany</th>\n",
       "      <th>Spain</th>\n",
       "    </tr>\n",
       "  </thead>\n",
       "  <tbody>\n",
       "    <tr>\n",
       "      <th>0</th>\n",
       "      <td>619</td>\n",
       "      <td>42</td>\n",
       "      <td>2.0</td>\n",
       "      <td>0.00</td>\n",
       "      <td>1</td>\n",
       "      <td>1</td>\n",
       "      <td>1</td>\n",
       "      <td>101348.88</td>\n",
       "      <td>1</td>\n",
       "      <td>0</td>\n",
       "      <td>0</td>\n",
       "      <td>0</td>\n",
       "    </tr>\n",
       "    <tr>\n",
       "      <th>1</th>\n",
       "      <td>608</td>\n",
       "      <td>41</td>\n",
       "      <td>1.0</td>\n",
       "      <td>83807.86</td>\n",
       "      <td>1</td>\n",
       "      <td>0</td>\n",
       "      <td>1</td>\n",
       "      <td>112542.58</td>\n",
       "      <td>0</td>\n",
       "      <td>0</td>\n",
       "      <td>0</td>\n",
       "      <td>1</td>\n",
       "    </tr>\n",
       "    <tr>\n",
       "      <th>2</th>\n",
       "      <td>502</td>\n",
       "      <td>42</td>\n",
       "      <td>8.0</td>\n",
       "      <td>159660.80</td>\n",
       "      <td>3</td>\n",
       "      <td>1</td>\n",
       "      <td>0</td>\n",
       "      <td>113931.57</td>\n",
       "      <td>1</td>\n",
       "      <td>0</td>\n",
       "      <td>0</td>\n",
       "      <td>0</td>\n",
       "    </tr>\n",
       "    <tr>\n",
       "      <th>3</th>\n",
       "      <td>699</td>\n",
       "      <td>39</td>\n",
       "      <td>1.0</td>\n",
       "      <td>0.00</td>\n",
       "      <td>2</td>\n",
       "      <td>0</td>\n",
       "      <td>0</td>\n",
       "      <td>93826.63</td>\n",
       "      <td>0</td>\n",
       "      <td>0</td>\n",
       "      <td>0</td>\n",
       "      <td>0</td>\n",
       "    </tr>\n",
       "    <tr>\n",
       "      <th>4</th>\n",
       "      <td>850</td>\n",
       "      <td>43</td>\n",
       "      <td>2.0</td>\n",
       "      <td>125510.82</td>\n",
       "      <td>1</td>\n",
       "      <td>1</td>\n",
       "      <td>1</td>\n",
       "      <td>79084.10</td>\n",
       "      <td>0</td>\n",
       "      <td>0</td>\n",
       "      <td>0</td>\n",
       "      <td>1</td>\n",
       "    </tr>\n",
       "  </tbody>\n",
       "</table>\n",
       "</div>"
      ],
      "text/plain": [
       "   credit_score  age  tenure    balance  num_of_products  has_crcard  \\\n",
       "0           619   42     2.0       0.00                1           1   \n",
       "1           608   41     1.0   83807.86                1           0   \n",
       "2           502   42     8.0  159660.80                3           1   \n",
       "3           699   39     1.0       0.00                2           0   \n",
       "4           850   43     2.0  125510.82                1           1   \n",
       "\n",
       "   isactive_member  estimated_salary  exited  Male  Germany  Spain  \n",
       "0                1         101348.88       1     0        0      0  \n",
       "1                1         112542.58       0     0        0      1  \n",
       "2                0         113931.57       1     0        0      0  \n",
       "3                0          93826.63       0     0        0      0  \n",
       "4                1          79084.10       0     0        0      1  "
      ]
     },
     "execution_count": 83,
     "metadata": {},
     "output_type": "execute_result"
    }
   ],
   "source": [
    "gender_ohe = pd.get_dummies(train_data['gender'], drop_first=True)\n",
    "country_ohe = pd.get_dummies(train_data['geography'], drop_first=True)\n",
    "\n",
    "train_data.drop(['gender', 'geography'], axis=1, inplace=True)\n",
    "\n",
    "data_ohe = pd.concat([train_data, gender_ohe, country_ohe], axis=1)\n",
    "\n",
    "data_ohe.head()"
   ]
  },
  {
   "cell_type": "markdown",
   "metadata": {},
   "source": [
    "### Разделение данных"
   ]
  },
  {
   "cell_type": "code",
   "execution_count": 84,
   "metadata": {},
   "outputs": [],
   "source": [
    "features = data_ohe.drop(['exited'], axis=1)\n",
    "target = data_ohe['exited']"
   ]
  },
  {
   "cell_type": "markdown",
   "metadata": {},
   "source": [
    "Разделим данные на три части: тренировочная (60%), валилационная (20%), тестовая (20%)."
   ]
  },
  {
   "cell_type": "code",
   "execution_count": 85,
   "metadata": {},
   "outputs": [],
   "source": [
    "features_train, features_valid, target_train, target_valid = train_test_split(\n",
    "    features, target, test_size=.4, random_state=12345\n",
    ")"
   ]
  },
  {
   "cell_type": "code",
   "execution_count": 86,
   "metadata": {},
   "outputs": [],
   "source": [
    "features_test, features_valid, target_test, target_valid = train_test_split(\n",
    "    features_valid, target_valid, test_size=.5, random_state=12345\n",
    ")"
   ]
  },
  {
   "cell_type": "code",
   "execution_count": 87,
   "metadata": {},
   "outputs": [
    {
     "name": "stdout",
     "output_type": "stream",
     "text": [
      "train: (6000, 11)\n",
      "valid: (2000, 11)\n",
      "test: (2000, 11)\n",
      "Суммарно: 10000\n",
      "\n",
      "В оригинальном датафрейме: (10000, 12)\n"
     ]
    }
   ],
   "source": [
    "print('train:', features_train.shape)\n",
    "print('valid:', features_valid.shape)\n",
    "print('test:', features_test.shape)\n",
    "print('Суммарно:', features_train.shape[0] + features_valid.shape[0] + features_test.shape[0])\n",
    "print()\n",
    "print('В оригинальном датафрейме:', data_ohe.shape)"
   ]
  },
  {
   "cell_type": "markdown",
   "metadata": {},
   "source": [
    "Ничего не потеряно.\n"
   ]
  },
  {
   "cell_type": "markdown",
   "metadata": {},
   "source": [
    "### Масштабирование признаков"
   ]
  },
  {
   "cell_type": "code",
   "execution_count": 88,
   "metadata": {},
   "outputs": [],
   "source": [
    "# Запишем все столбцы, которые нужно масштабировать\n",
    "numeric = ['credit_score', 'age', 'balance', 'estimated_salary']\n",
    "\n",
    "# Масштабировать будем на основе обучающей выборки\n",
    "scaler = StandardScaler()\n",
    "scaler.fit(features_train[numeric])\n",
    "\n",
    "pd.options.mode.chained_assignment = None"
   ]
  },
  {
   "cell_type": "code",
   "execution_count": 89,
   "metadata": {},
   "outputs": [
    {
     "data": {
      "text/html": [
       "<div>\n",
       "<style scoped>\n",
       "    .dataframe tbody tr th:only-of-type {\n",
       "        vertical-align: middle;\n",
       "    }\n",
       "\n",
       "    .dataframe tbody tr th {\n",
       "        vertical-align: top;\n",
       "    }\n",
       "\n",
       "    .dataframe thead th {\n",
       "        text-align: right;\n",
       "    }\n",
       "</style>\n",
       "<table border=\"1\" class=\"dataframe\">\n",
       "  <thead>\n",
       "    <tr style=\"text-align: right;\">\n",
       "      <th></th>\n",
       "      <th>credit_score</th>\n",
       "      <th>age</th>\n",
       "      <th>tenure</th>\n",
       "      <th>balance</th>\n",
       "      <th>num_of_products</th>\n",
       "      <th>has_crcard</th>\n",
       "      <th>isactive_member</th>\n",
       "      <th>estimated_salary</th>\n",
       "      <th>Male</th>\n",
       "      <th>Germany</th>\n",
       "      <th>Spain</th>\n",
       "    </tr>\n",
       "  </thead>\n",
       "  <tbody>\n",
       "    <tr>\n",
       "      <th>7479</th>\n",
       "      <td>-0.886751</td>\n",
       "      <td>-0.373192</td>\n",
       "      <td>8.0</td>\n",
       "      <td>1.232271</td>\n",
       "      <td>1</td>\n",
       "      <td>1</td>\n",
       "      <td>0</td>\n",
       "      <td>-0.187705</td>\n",
       "      <td>1</td>\n",
       "      <td>0</td>\n",
       "      <td>1</td>\n",
       "    </tr>\n",
       "    <tr>\n",
       "      <th>3411</th>\n",
       "      <td>0.608663</td>\n",
       "      <td>-0.183385</td>\n",
       "      <td>8.0</td>\n",
       "      <td>0.600563</td>\n",
       "      <td>1</td>\n",
       "      <td>0</td>\n",
       "      <td>0</td>\n",
       "      <td>-0.333945</td>\n",
       "      <td>0</td>\n",
       "      <td>0</td>\n",
       "      <td>0</td>\n",
       "    </tr>\n",
       "    <tr>\n",
       "      <th>6027</th>\n",
       "      <td>2.052152</td>\n",
       "      <td>0.480939</td>\n",
       "      <td>3.0</td>\n",
       "      <td>1.027098</td>\n",
       "      <td>2</td>\n",
       "      <td>0</td>\n",
       "      <td>1</td>\n",
       "      <td>1.503095</td>\n",
       "      <td>1</td>\n",
       "      <td>1</td>\n",
       "      <td>0</td>\n",
       "    </tr>\n",
       "    <tr>\n",
       "      <th>1247</th>\n",
       "      <td>-1.457915</td>\n",
       "      <td>-1.417129</td>\n",
       "      <td>6.0</td>\n",
       "      <td>-1.233163</td>\n",
       "      <td>2</td>\n",
       "      <td>1</td>\n",
       "      <td>0</td>\n",
       "      <td>-1.071061</td>\n",
       "      <td>1</td>\n",
       "      <td>0</td>\n",
       "      <td>0</td>\n",
       "    </tr>\n",
       "    <tr>\n",
       "      <th>3716</th>\n",
       "      <td>0.130961</td>\n",
       "      <td>-1.132419</td>\n",
       "      <td>2.0</td>\n",
       "      <td>1.140475</td>\n",
       "      <td>1</td>\n",
       "      <td>0</td>\n",
       "      <td>0</td>\n",
       "      <td>1.524268</td>\n",
       "      <td>0</td>\n",
       "      <td>1</td>\n",
       "      <td>0</td>\n",
       "    </tr>\n",
       "  </tbody>\n",
       "</table>\n",
       "</div>"
      ],
      "text/plain": [
       "      credit_score       age  tenure   balance  num_of_products  has_crcard  \\\n",
       "7479     -0.886751 -0.373192     8.0  1.232271                1           1   \n",
       "3411      0.608663 -0.183385     8.0  0.600563                1           0   \n",
       "6027      2.052152  0.480939     3.0  1.027098                2           0   \n",
       "1247     -1.457915 -1.417129     6.0 -1.233163                2           1   \n",
       "3716      0.130961 -1.132419     2.0  1.140475                1           0   \n",
       "\n",
       "      isactive_member  estimated_salary  Male  Germany  Spain  \n",
       "7479                0         -0.187705     1        0      1  \n",
       "3411                0         -0.333945     0        0      0  \n",
       "6027                1          1.503095     1        1      0  \n",
       "1247                0         -1.071061     1        0      0  \n",
       "3716                0          1.524268     0        1      0  "
      ]
     },
     "execution_count": 89,
     "metadata": {},
     "output_type": "execute_result"
    }
   ],
   "source": [
    "features_train[numeric] = scaler.transform(features_train[numeric])\n",
    "features_train.head()"
   ]
  },
  {
   "cell_type": "code",
   "execution_count": 90,
   "metadata": {},
   "outputs": [
    {
     "data": {
      "text/html": [
       "<div>\n",
       "<style scoped>\n",
       "    .dataframe tbody tr th:only-of-type {\n",
       "        vertical-align: middle;\n",
       "    }\n",
       "\n",
       "    .dataframe tbody tr th {\n",
       "        vertical-align: top;\n",
       "    }\n",
       "\n",
       "    .dataframe thead th {\n",
       "        text-align: right;\n",
       "    }\n",
       "</style>\n",
       "<table border=\"1\" class=\"dataframe\">\n",
       "  <thead>\n",
       "    <tr style=\"text-align: right;\">\n",
       "      <th></th>\n",
       "      <th>credit_score</th>\n",
       "      <th>age</th>\n",
       "      <th>tenure</th>\n",
       "      <th>balance</th>\n",
       "      <th>num_of_products</th>\n",
       "      <th>has_crcard</th>\n",
       "      <th>isactive_member</th>\n",
       "      <th>estimated_salary</th>\n",
       "      <th>Male</th>\n",
       "      <th>Germany</th>\n",
       "      <th>Spain</th>\n",
       "    </tr>\n",
       "  </thead>\n",
       "  <tbody>\n",
       "    <tr>\n",
       "      <th>7041</th>\n",
       "      <td>-2.226392</td>\n",
       "      <td>-0.088482</td>\n",
       "      <td>2.0</td>\n",
       "      <td>-1.233163</td>\n",
       "      <td>2</td>\n",
       "      <td>1</td>\n",
       "      <td>0</td>\n",
       "      <td>0.647083</td>\n",
       "      <td>1</td>\n",
       "      <td>0</td>\n",
       "      <td>0</td>\n",
       "    </tr>\n",
       "    <tr>\n",
       "      <th>5709</th>\n",
       "      <td>-0.087120</td>\n",
       "      <td>0.006422</td>\n",
       "      <td>9.0</td>\n",
       "      <td>-1.233163</td>\n",
       "      <td>1</td>\n",
       "      <td>1</td>\n",
       "      <td>0</td>\n",
       "      <td>-1.658410</td>\n",
       "      <td>0</td>\n",
       "      <td>0</td>\n",
       "      <td>0</td>\n",
       "    </tr>\n",
       "    <tr>\n",
       "      <th>7117</th>\n",
       "      <td>-0.917905</td>\n",
       "      <td>-0.752805</td>\n",
       "      <td>5.0</td>\n",
       "      <td>0.722307</td>\n",
       "      <td>1</td>\n",
       "      <td>1</td>\n",
       "      <td>1</td>\n",
       "      <td>-1.369334</td>\n",
       "      <td>1</td>\n",
       "      <td>0</td>\n",
       "      <td>1</td>\n",
       "    </tr>\n",
       "    <tr>\n",
       "      <th>7775</th>\n",
       "      <td>-0.253277</td>\n",
       "      <td>0.101325</td>\n",
       "      <td>10.0</td>\n",
       "      <td>-1.233163</td>\n",
       "      <td>2</td>\n",
       "      <td>1</td>\n",
       "      <td>0</td>\n",
       "      <td>0.075086</td>\n",
       "      <td>1</td>\n",
       "      <td>0</td>\n",
       "      <td>1</td>\n",
       "    </tr>\n",
       "    <tr>\n",
       "      <th>8735</th>\n",
       "      <td>0.785204</td>\n",
       "      <td>-0.847708</td>\n",
       "      <td>10.0</td>\n",
       "      <td>0.615625</td>\n",
       "      <td>1</td>\n",
       "      <td>0</td>\n",
       "      <td>1</td>\n",
       "      <td>-1.070919</td>\n",
       "      <td>1</td>\n",
       "      <td>0</td>\n",
       "      <td>0</td>\n",
       "    </tr>\n",
       "  </tbody>\n",
       "</table>\n",
       "</div>"
      ],
      "text/plain": [
       "      credit_score       age  tenure   balance  num_of_products  has_crcard  \\\n",
       "7041     -2.226392 -0.088482     2.0 -1.233163                2           1   \n",
       "5709     -0.087120  0.006422     9.0 -1.233163                1           1   \n",
       "7117     -0.917905 -0.752805     5.0  0.722307                1           1   \n",
       "7775     -0.253277  0.101325    10.0 -1.233163                2           1   \n",
       "8735      0.785204 -0.847708    10.0  0.615625                1           0   \n",
       "\n",
       "      isactive_member  estimated_salary  Male  Germany  Spain  \n",
       "7041                0          0.647083     1        0      0  \n",
       "5709                0         -1.658410     0        0      0  \n",
       "7117                1         -1.369334     1        0      1  \n",
       "7775                0          0.075086     1        0      1  \n",
       "8735                1         -1.070919     1        0      0  "
      ]
     },
     "execution_count": 90,
     "metadata": {},
     "output_type": "execute_result"
    }
   ],
   "source": [
    "features_valid[numeric] = scaler.transform(features_valid[numeric])\n",
    "features_valid.head()"
   ]
  },
  {
   "cell_type": "code",
   "execution_count": 91,
   "metadata": {},
   "outputs": [
    {
     "data": {
      "text/html": [
       "<div>\n",
       "<style scoped>\n",
       "    .dataframe tbody tr th:only-of-type {\n",
       "        vertical-align: middle;\n",
       "    }\n",
       "\n",
       "    .dataframe tbody tr th {\n",
       "        vertical-align: top;\n",
       "    }\n",
       "\n",
       "    .dataframe thead th {\n",
       "        text-align: right;\n",
       "    }\n",
       "</style>\n",
       "<table border=\"1\" class=\"dataframe\">\n",
       "  <thead>\n",
       "    <tr style=\"text-align: right;\">\n",
       "      <th></th>\n",
       "      <th>credit_score</th>\n",
       "      <th>age</th>\n",
       "      <th>tenure</th>\n",
       "      <th>balance</th>\n",
       "      <th>num_of_products</th>\n",
       "      <th>has_crcard</th>\n",
       "      <th>isactive_member</th>\n",
       "      <th>estimated_salary</th>\n",
       "      <th>Male</th>\n",
       "      <th>Germany</th>\n",
       "      <th>Spain</th>\n",
       "    </tr>\n",
       "  </thead>\n",
       "  <tbody>\n",
       "    <tr>\n",
       "      <th>8532</th>\n",
       "      <td>-0.699824</td>\n",
       "      <td>-0.373192</td>\n",
       "      <td>2.0</td>\n",
       "      <td>-1.233163</td>\n",
       "      <td>2</td>\n",
       "      <td>1</td>\n",
       "      <td>0</td>\n",
       "      <td>-0.015173</td>\n",
       "      <td>0</td>\n",
       "      <td>0</td>\n",
       "      <td>0</td>\n",
       "    </tr>\n",
       "    <tr>\n",
       "      <th>5799</th>\n",
       "      <td>-0.284431</td>\n",
       "      <td>0.575842</td>\n",
       "      <td>3.0</td>\n",
       "      <td>-1.233163</td>\n",
       "      <td>1</td>\n",
       "      <td>1</td>\n",
       "      <td>1</td>\n",
       "      <td>1.471724</td>\n",
       "      <td>0</td>\n",
       "      <td>0</td>\n",
       "      <td>0</td>\n",
       "    </tr>\n",
       "    <tr>\n",
       "      <th>5511</th>\n",
       "      <td>0.151731</td>\n",
       "      <td>-0.657902</td>\n",
       "      <td>0.0</td>\n",
       "      <td>0.438711</td>\n",
       "      <td>1</td>\n",
       "      <td>1</td>\n",
       "      <td>0</td>\n",
       "      <td>-1.367107</td>\n",
       "      <td>1</td>\n",
       "      <td>1</td>\n",
       "      <td>0</td>\n",
       "    </tr>\n",
       "    <tr>\n",
       "      <th>7365</th>\n",
       "      <td>-0.876366</td>\n",
       "      <td>-0.278288</td>\n",
       "      <td>10.0</td>\n",
       "      <td>1.239884</td>\n",
       "      <td>1</td>\n",
       "      <td>1</td>\n",
       "      <td>1</td>\n",
       "      <td>-0.786517</td>\n",
       "      <td>0</td>\n",
       "      <td>0</td>\n",
       "      <td>1</td>\n",
       "    </tr>\n",
       "    <tr>\n",
       "      <th>7367</th>\n",
       "      <td>-0.481743</td>\n",
       "      <td>0.291132</td>\n",
       "      <td>10.0</td>\n",
       "      <td>-1.233163</td>\n",
       "      <td>2</td>\n",
       "      <td>1</td>\n",
       "      <td>0</td>\n",
       "      <td>1.358533</td>\n",
       "      <td>1</td>\n",
       "      <td>0</td>\n",
       "      <td>1</td>\n",
       "    </tr>\n",
       "  </tbody>\n",
       "</table>\n",
       "</div>"
      ],
      "text/plain": [
       "      credit_score       age  tenure   balance  num_of_products  has_crcard  \\\n",
       "8532     -0.699824 -0.373192     2.0 -1.233163                2           1   \n",
       "5799     -0.284431  0.575842     3.0 -1.233163                1           1   \n",
       "5511      0.151731 -0.657902     0.0  0.438711                1           1   \n",
       "7365     -0.876366 -0.278288    10.0  1.239884                1           1   \n",
       "7367     -0.481743  0.291132    10.0 -1.233163                2           1   \n",
       "\n",
       "      isactive_member  estimated_salary  Male  Germany  Spain  \n",
       "8532                0         -0.015173     0        0      0  \n",
       "5799                1          1.471724     0        0      0  \n",
       "5511                0         -1.367107     1        1      0  \n",
       "7365                1         -0.786517     0        0      1  \n",
       "7367                0          1.358533     1        0      1  "
      ]
     },
     "execution_count": 91,
     "metadata": {},
     "output_type": "execute_result"
    }
   ],
   "source": [
    "features_test[numeric] = scaler.transform(features_test[numeric])\n",
    "features_test.head()"
   ]
  },
  {
   "cell_type": "markdown",
   "metadata": {},
   "source": [
    "## Исследование задачи"
   ]
  },
  {
   "cell_type": "markdown",
   "metadata": {},
   "source": [
    "Попробуем обучить LogisticRegression и RandomForest, чтобы посмотреть на результаты f1 меры."
   ]
  },
  {
   "cell_type": "markdown",
   "metadata": {},
   "source": [
    "### Логистическая регрессия"
   ]
  },
  {
   "cell_type": "code",
   "execution_count": 92,
   "metadata": {},
   "outputs": [
    {
     "name": "stdout",
     "output_type": "stream",
     "text": [
      "F1: 0.27177700348432055\n"
     ]
    }
   ],
   "source": [
    "model = LogisticRegression(random_state=12345, solver='liblinear')\n",
    "model.fit(features_train, target_train)\n",
    "predicted_valid = model.predict(features_valid)\n",
    "\n",
    "print(\"F1:\", f1_score(target_valid, predicted_valid))"
   ]
  },
  {
   "cell_type": "markdown",
   "metadata": {},
   "source": [
    "Показатель довольно низкий."
   ]
  },
  {
   "cell_type": "markdown",
   "metadata": {},
   "source": [
    "### Случайный лес"
   ]
  },
  {
   "cell_type": "code",
   "execution_count": 93,
   "metadata": {},
   "outputs": [
    {
     "name": "stdout",
     "output_type": "stream",
     "text": [
      "При лучших гиперпараметрах удается достичь f1: 0.5555555555555556      \n",
      "Глубина: - 15,      \n",
      "Деревьев: 15.\n"
     ]
    }
   ],
   "source": [
    "best_f1 = 0\n",
    "best_est = 0\n",
    "best_depth = 0\n",
    "\n",
    "for est in range(10, 151, 10):\n",
    "    for depth in range(1, 16):\n",
    "        model = RandomForestClassifier(random_state=12345, n_estimators=est, max_depth=depth)\n",
    "        model.fit(features_train, target_train)\n",
    "        predicted_valid = model.predict(features_valid)\n",
    "\n",
    "        f1 = f1_score(target_valid, predicted_valid)\n",
    "        if f1 > best_f1:\n",
    "            best_f1 = f1\n",
    "            best_est = est\n",
    "            best_depth = depth\n",
    "\n",
    "print(f'При лучших гиперпараметрах удается достичь f1: {best_f1}\\\n",
    "      \\nГлубина: - {best_depth},\\\n",
    "      \\nДеревьев: {best_depth}.')"
   ]
  },
  {
   "cell_type": "markdown",
   "metadata": {},
   "source": [
    "Случайный лес гораздо лучше справляется в несбалансированностью классов."
   ]
  },
  {
   "cell_type": "markdown",
   "metadata": {},
   "source": [
    "### Вывод"
   ]
  },
  {
   "cell_type": "markdown",
   "metadata": {},
   "source": [
    "Дисбаланс классов влияет на финальное качество моделей."
   ]
  },
  {
   "cell_type": "markdown",
   "metadata": {},
   "source": [
    "## Борьба с дисбалансом"
   ]
  },
  {
   "cell_type": "code",
   "execution_count": 94,
   "metadata": {},
   "outputs": [
    {
     "data": {
      "text/plain": [
       "0    0.7963\n",
       "1    0.2037\n",
       "Name: exited, dtype: float64"
      ]
     },
     "execution_count": 94,
     "metadata": {},
     "output_type": "execute_result"
    }
   ],
   "source": [
    "target.value_counts(normalize=True)"
   ]
  },
  {
   "cell_type": "markdown",
   "metadata": {},
   "source": [
    "Отношение примерно 4:1. Попробуем решить эту проблему несколькими способами."
   ]
  },
  {
   "cell_type": "markdown",
   "metadata": {},
   "source": [
    "### Upsampling"
   ]
  },
  {
   "cell_type": "markdown",
   "metadata": {},
   "source": [
    "Будем бороться с балансировкой классов, увеличением менее репрезетованной."
   ]
  },
  {
   "cell_type": "code",
   "execution_count": 95,
   "metadata": {},
   "outputs": [],
   "source": [
    "def upsample(features, target, repeat):\n",
    "    features_zeros = features[target == 0]\n",
    "    features_ones = features[target == 1]\n",
    "    target_zeros = target[target == 0]\n",
    "    target_ones = target[target == 1]\n",
    "\n",
    "    features_upsampled = pd.concat([features_zeros] + [features_ones] * repeat)\n",
    "    target_upsampled = pd.concat([target_zeros] + [target_ones] * repeat)\n",
    "    \n",
    "    features_upsampled, target_upsampled = shuffle(\n",
    "        features_upsampled, target_upsampled, random_state=12345)\n",
    "    \n",
    "    return features_upsampled, target_upsampled"
   ]
  },
  {
   "cell_type": "code",
   "execution_count": 96,
   "metadata": {},
   "outputs": [
    {
     "name": "stdout",
     "output_type": "stream",
     "text": [
      "(9588,)\n",
      "\n",
      "0    0.501043\n",
      "1    0.498957\n",
      "Name: exited, dtype: float64\n"
     ]
    }
   ],
   "source": [
    "features_upsampled, target_upsampled = upsample(features_train, target_train, 4)\n",
    "\n",
    "print(target_upsampled.shape)\n",
    "print()\n",
    "print(target_upsampled.value_counts(normalize=True))"
   ]
  },
  {
   "cell_type": "markdown",
   "metadata": {},
   "source": [
    "#### Проверка"
   ]
  },
  {
   "cell_type": "markdown",
   "metadata": {},
   "source": [
    "**Логистическая регрессия**"
   ]
  },
  {
   "cell_type": "code",
   "execution_count": 97,
   "metadata": {},
   "outputs": [
    {
     "name": "stdout",
     "output_type": "stream",
     "text": [
      "F1: 0.4775086505190312\n"
     ]
    }
   ],
   "source": [
    "model = LogisticRegression(random_state=12345, solver='liblinear')\n",
    "model.fit(features_upsampled, target_upsampled)\n",
    "predicted_valid = model.predict(features_valid)\n",
    "\n",
    "print(\"F1:\", f1_score(target_valid, predicted_valid))"
   ]
  },
  {
   "cell_type": "markdown",
   "metadata": {},
   "source": [
    "Модель показывает себя чуть хуже, чем с class_weight='balanced'."
   ]
  },
  {
   "cell_type": "markdown",
   "metadata": {},
   "source": [
    "**Случайный лес**"
   ]
  },
  {
   "cell_type": "code",
   "execution_count": 103,
   "metadata": {},
   "outputs": [
    {
     "name": "stdout",
     "output_type": "stream",
     "text": [
      "При лучших гиперпараметрах удается достичь f1: 0.6228813559322034      \n",
      "Глубина: - 10,      \n",
      "Деревьев: 10.\n"
     ]
    }
   ],
   "source": [
    "best_f1 = 0\n",
    "best_est = 0\n",
    "best_depth = 0\n",
    "\n",
    "for est in range(10, 151, 10):\n",
    "    for depth in range(1, 16):\n",
    "        model = RandomForestClassifier(random_state=12345, n_estimators=est, max_depth=depth)\n",
    "        model.fit(features_upsampled, target_upsampled)\n",
    "        predicted_valid = model.predict(features_valid)\n",
    "\n",
    "        f1 = f1_score(target_valid, predicted_valid)\n",
    "        if f1 > best_f1:\n",
    "            best_f1 = f1\n",
    "            best_est = est\n",
    "            best_depth = depth\n",
    "\n",
    "print(f'При лучших гиперпараметрах удается достичь f1: {best_f1}\\\n",
    "      \\nГлубина: - {best_depth},\\\n",
    "      \\nДеревьев: {best_depth}.')"
   ]
  },
  {
   "cell_type": "markdown",
   "metadata": {},
   "source": [
    "### Downsampling"
   ]
  },
  {
   "cell_type": "markdown",
   "metadata": {},
   "source": [
    "Случайный лес показывает себя лучше, чем со сбалансированными классами."
   ]
  },
  {
   "cell_type": "markdown",
   "metadata": {},
   "source": [
    "Будем бороться с балансировкой классов, уменьшая более репрезетованную."
   ]
  },
  {
   "cell_type": "code",
   "execution_count": 105,
   "metadata": {},
   "outputs": [],
   "source": [
    "def downsample(features, target, fraction):\n",
    "    features_zeros = features[target == 0]\n",
    "    features_ones = features[target == 1]\n",
    "    target_zeros = target[target == 0]\n",
    "    target_ones = target[target == 1]\n",
    "\n",
    "    features_downsampled = pd.concat(\n",
    "        [features_zeros.sample(frac=fraction, random_state=12345)] + [features_ones])\n",
    "    target_downsampled = pd.concat(\n",
    "        [target_zeros.sample(frac=fraction, random_state=12345)] + [target_ones])\n",
    "    \n",
    "    features_downsampled, target_downsampled = shuffle(\n",
    "        features_downsampled, target_downsampled, random_state=12345)\n",
    "    \n",
    "    return features_downsampled, target_downsampled"
   ]
  },
  {
   "cell_type": "code",
   "execution_count": 106,
   "metadata": {},
   "outputs": [
    {
     "name": "stdout",
     "output_type": "stream",
     "text": [
      "(2397,)\n",
      "\n",
      "0    0.501043\n",
      "1    0.498957\n",
      "Name: exited, dtype: float64\n"
     ]
    }
   ],
   "source": [
    "features_downsampled, target_downsampled = downsample(features_train, target_train, .25)\n",
    "\n",
    "print(target_downsampled.shape)\n",
    "print()\n",
    "print(target_downsampled.value_counts(normalize=True))"
   ]
  },
  {
   "cell_type": "markdown",
   "metadata": {},
   "source": [
    "#### Проверка"
   ]
  },
  {
   "cell_type": "markdown",
   "metadata": {},
   "source": [
    "**Логистическая регрессия**"
   ]
  },
  {
   "cell_type": "code",
   "execution_count": 107,
   "metadata": {},
   "outputs": [
    {
     "name": "stdout",
     "output_type": "stream",
     "text": [
      "F1: 0.48417450812660395\n"
     ]
    }
   ],
   "source": [
    "model = LogisticRegression(random_state=12345, solver='liblinear')\n",
    "model.fit(features_downsampled, target_downsampled)\n",
    "predicted_valid = model.predict(features_valid)\n",
    "\n",
    "print(\"F1:\", f1_score(target_valid, predicted_valid))"
   ]
  },
  {
   "cell_type": "markdown",
   "metadata": {},
   "source": [
    "В данном случае модель снова показывает себя примерно также, как и с *upsample*."
   ]
  },
  {
   "cell_type": "markdown",
   "metadata": {},
   "source": [
    "**Случайный лес**"
   ]
  },
  {
   "cell_type": "code",
   "execution_count": 108,
   "metadata": {},
   "outputs": [
    {
     "name": "stdout",
     "output_type": "stream",
     "text": [
      "При лучших гиперпараметрах удается достичь f1: 0.5942432683379758      \n",
      "Глубина: - 7,      \n",
      "Деревьев: 7.\n"
     ]
    }
   ],
   "source": [
    "best_f1 = 0\n",
    "best_est = 0\n",
    "best_depth = 0\n",
    "\n",
    "for est in range(10, 151, 10):\n",
    "    for depth in range(1, 16):\n",
    "        model = RandomForestClassifier(random_state=12345, n_estimators=est, max_depth=depth)\n",
    "        model.fit(features_downsampled, target_downsampled)\n",
    "        predicted_valid = model.predict(features_valid)\n",
    "\n",
    "        f1 = f1_score(target_valid, predicted_valid)\n",
    "        if f1 > best_f1:\n",
    "            best_f1 = f1\n",
    "            best_est = est\n",
    "            best_depth = depth\n",
    "\n",
    "print(f'При лучших гиперпараметрах удается достичь f1: {best_f1}\\\n",
    "      \\nГлубина: - {best_depth},\\\n",
    "      \\nДеревьев: {best_depth}.')"
   ]
  },
  {
   "cell_type": "markdown",
   "metadata": {},
   "source": [
    "Модель показывает себя хуже, чем с *upsample*."
   ]
  },
  {
   "cell_type": "markdown",
   "metadata": {},
   "source": [
    "### Изменение порога"
   ]
  },
  {
   "cell_type": "markdown",
   "metadata": {},
   "source": [
    "#### Логистическая регрессия"
   ]
  },
  {
   "cell_type": "code",
   "execution_count": 109,
   "metadata": {},
   "outputs": [],
   "source": [
    "model = LogisticRegression(random_state=12345, solver='liblinear')\n",
    "\n",
    "model.fit(features_train, target_train)\n",
    "probabilities_valid = model.predict_proba(features_valid)\n",
    "\n",
    "probabilities_one_valid = probabilities_valid[:, 1]"
   ]
  },
  {
   "cell_type": "code",
   "execution_count": 110,
   "metadata": {},
   "outputs": [
    {
     "name": "stdout",
     "output_type": "stream",
     "text": [
      "Порог = 0.00 | Точность = 0.211, Полнота = 1.000 | F1-score = 0.349\n",
      "Порог = 0.05 | Точность = 0.233, Полнота = 0.957 | F1-score = 0.374\n",
      "Порог = 0.10 | Точность = 0.286, Полнота = 0.887 | F1-score = 0.433\n",
      "Порог = 0.15 | Точность = 0.330, Полнота = 0.778 | F1-score = 0.463\n",
      "Порог = 0.20 | Точность = 0.372, Полнота = 0.660 | F1-score = 0.475\n",
      "Порог = 0.25 | Точность = 0.402, Полнота = 0.558 | F1-score = 0.467\n",
      "Порог = 0.30 | Точность = 0.421, Полнота = 0.459 | F1-score = 0.439\n",
      "Порог = 0.35 | Точность = 0.460, Полнота = 0.385 | F1-score = 0.420\n",
      "Порог = 0.40 | Точность = 0.487, Полнота = 0.319 | F1-score = 0.386\n",
      "Порог = 0.45 | Точность = 0.512, Полнота = 0.248 | F1-score = 0.334\n",
      "Порог = 0.50 | Точность = 0.517, Полнота = 0.184 | F1-score = 0.272\n",
      "Порог = 0.55 | Точность = 0.578, Полнота = 0.158 | F1-score = 0.249\n",
      "Порог = 0.60 | Точность = 0.581, Полнота = 0.102 | F1-score = 0.173\n",
      "Порог = 0.65 | Точность = 0.588, Полнота = 0.071 | F1-score = 0.127\n",
      "Порог = 0.70 | Точность = 0.656, Полнота = 0.050 | F1-score = 0.092\n",
      "Порог = 0.75 | Точность = 0.688, Полнота = 0.026 | F1-score = 0.050\n",
      "Порог = 0.80 | Точность = 0.556, Полнота = 0.012 | F1-score = 0.023\n",
      "Порог = 0.85 | Точность = 0.250, Полнота = 0.002 | F1-score = 0.005\n"
     ]
    },
    {
     "data": {
      "image/png": "[encoded data removed]",
      "text/plain": [
       "<Figure size 720x720 with 1 Axes>"
      ]
     },
     "metadata": {},
     "output_type": "display_data"
    }
   ],
   "source": [
    "for threshold in np.arange(0, .9, .05):\n",
    "    predicted_valid = probabilities_one_valid > threshold \n",
    "    precision = precision_score(target_valid, predicted_valid)\n",
    "    recall = recall_score(target_valid, predicted_valid)\n",
    "    f1 = f1_score(target_valid, predicted_valid)\n",
    "\n",
    "    print(\"Порог = {:.2f} | Точность = {:.3f}, Полнота = {:.3f} | F1-score = {:.3f}\".format(\n",
    "        threshold, precision, recall, f1))\n",
    "\n",
    "precision, recall, thresholds = precision_recall_curve(target_valid, probabilities_valid[:, 1])    \n",
    "plt.figure(figsize=(10, 10))\n",
    "plt.step(recall, precision, where='post')\n",
    "plt.xlabel('Recall')\n",
    "plt.ylabel('Precision')\n",
    "plt.ylim([0.0, 1.05])\n",
    "plt.xlim([0.0, 1.0])\n",
    "plt.title('PR curve')\n",
    "plt.show() "
   ]
  },
  {
   "cell_type": "markdown",
   "metadata": {},
   "source": [
    "Самый высокий показатель f1-score **0.498** достигается при пороге **0.2**."
   ]
  },
  {
   "cell_type": "markdown",
   "metadata": {},
   "source": [
    "#### Случайный лес"
   ]
  },
  {
   "cell_type": "code",
   "execution_count": 111,
   "metadata": {},
   "outputs": [],
   "source": [
    "model = RandomForestClassifier(random_state=42, n_estimators=10)\n",
    "model.fit(features_train, target_train)\n",
    "probabilities_valid = model.predict_proba(features_valid)\n",
    "probabilities_one_valid = probabilities_valid[:, 1]"
   ]
  },
  {
   "cell_type": "code",
   "execution_count": 112,
   "metadata": {},
   "outputs": [
    {
     "name": "stdout",
     "output_type": "stream",
     "text": [
      "Порог = 0.00 | Точность = 0.300, Полнота = 0.898 | F1-score = 0.450\n",
      "Порог = 0.05 | Точность = 0.300, Полнота = 0.898 | F1-score = 0.450\n",
      "Порог = 0.10 | Точность = 0.400, Полнота = 0.823 | F1-score = 0.539\n",
      "Порог = 0.15 | Точность = 0.400, Полнота = 0.823 | F1-score = 0.539\n",
      "Порог = 0.20 | Точность = 0.489, Полнота = 0.723 | F1-score = 0.583\n",
      "Порог = 0.25 | Точность = 0.489, Полнота = 0.723 | F1-score = 0.583\n",
      "Порог = 0.30 | Точность = 0.573, Полнота = 0.624 | F1-score = 0.597\n",
      "Порог = 0.35 | Точность = 0.573, Полнота = 0.624 | F1-score = 0.597\n",
      "Порог = 0.40 | Точность = 0.654, Полнота = 0.518 | F1-score = 0.578\n",
      "Порог = 0.45 | Точность = 0.654, Полнота = 0.518 | F1-score = 0.578\n",
      "Порог = 0.50 | Точность = 0.715, Полнота = 0.374 | F1-score = 0.491\n",
      "Порог = 0.55 | Точность = 0.715, Полнота = 0.374 | F1-score = 0.491\n",
      "Порог = 0.60 | Точность = 0.777, Полнота = 0.272 | F1-score = 0.403\n",
      "Порог = 0.65 | Точность = 0.777, Полнота = 0.272 | F1-score = 0.403\n",
      "Порог = 0.70 | Точность = 0.873, Полнота = 0.210 | F1-score = 0.339\n",
      "Порог = 0.75 | Точность = 0.873, Полнота = 0.210 | F1-score = 0.339\n",
      "Порог = 0.80 | Точность = 0.931, Полнота = 0.128 | F1-score = 0.225\n",
      "Порог = 0.85 | Точность = 0.931, Полнота = 0.128 | F1-score = 0.225\n"
     ]
    },
    {
     "data": {
      "image/png": "[encoded data removed]",
      "text/plain": [
       "<Figure size 720x720 with 1 Axes>"
      ]
     },
     "metadata": {},
     "output_type": "display_data"
    }
   ],
   "source": [
    "for threshold in np.arange(0, .9, .05):\n",
    "    predicted_valid = probabilities_one_valid > threshold \n",
    "    precision = precision_score(target_valid, predicted_valid)\n",
    "    recall = recall_score(target_valid, predicted_valid)\n",
    "    f1 = f1_score(target_valid, predicted_valid)\n",
    "\n",
    "    print(\"Порог = {:.2f} | Точность = {:.3f}, Полнота = {:.3f} | F1-score = {:.3f}\".format(\n",
    "        threshold, precision, recall, f1))\n",
    "\n",
    "precision, recall, thresholds = precision_recall_curve(target_valid, probabilities_valid[:, 1])    \n",
    "plt.figure(figsize=(10, 10))\n",
    "plt.step(recall, precision, where='post')\n",
    "plt.xlabel('Recall')\n",
    "plt.ylabel('Precision')\n",
    "plt.ylim([0.0, 1.05])\n",
    "plt.xlim([0.0, 1.0])\n",
    "plt.title('PR curve')\n",
    "plt.show() "
   ]
  },
  {
   "cell_type": "markdown",
   "metadata": {},
   "source": [
    "С 0.3 до 0.35 не меняется f1-score. Проверим чуть ближе, может там будет счет выше."
   ]
  },
  {
   "cell_type": "code",
   "execution_count": 113,
   "metadata": {},
   "outputs": [
    {
     "name": "stdout",
     "output_type": "stream",
     "text": [
      "Порог = 0.25 | Точность = 0.489, Полнота = 0.723 | F1-score = 0.583\n",
      "Порог = 0.26 | Точность = 0.489, Полнота = 0.723 | F1-score = 0.583\n",
      "Порог = 0.27 | Точность = 0.489, Полнота = 0.723 | F1-score = 0.583\n",
      "Порог = 0.28 | Точность = 0.489, Полнота = 0.723 | F1-score = 0.583\n",
      "Порог = 0.29 | Точность = 0.489, Полнота = 0.723 | F1-score = 0.583\n",
      "Порог = 0.30 | Точность = 0.573, Полнота = 0.624 | F1-score = 0.597\n",
      "Порог = 0.31 | Точность = 0.573, Полнота = 0.624 | F1-score = 0.597\n",
      "Порог = 0.32 | Точность = 0.573, Полнота = 0.624 | F1-score = 0.597\n",
      "Порог = 0.33 | Точность = 0.573, Полнота = 0.624 | F1-score = 0.597\n",
      "Порог = 0.34 | Точность = 0.573, Полнота = 0.624 | F1-score = 0.597\n",
      "Порог = 0.35 | Точность = 0.573, Полнота = 0.624 | F1-score = 0.597\n",
      "Порог = 0.36 | Точность = 0.573, Полнота = 0.624 | F1-score = 0.597\n",
      "Порог = 0.37 | Точность = 0.573, Полнота = 0.624 | F1-score = 0.597\n",
      "Порог = 0.38 | Точность = 0.573, Полнота = 0.624 | F1-score = 0.597\n",
      "Порог = 0.39 | Точность = 0.573, Полнота = 0.624 | F1-score = 0.597\n",
      "Порог = 0.40 | Точность = 0.654, Полнота = 0.518 | F1-score = 0.578\n",
      "Порог = 0.41 | Точность = 0.654, Полнота = 0.518 | F1-score = 0.578\n",
      "Порог = 0.42 | Точность = 0.654, Полнота = 0.518 | F1-score = 0.578\n",
      "Порог = 0.43 | Точность = 0.654, Полнота = 0.518 | F1-score = 0.578\n",
      "Порог = 0.44 | Точность = 0.654, Полнота = 0.518 | F1-score = 0.578\n"
     ]
    },
    {
     "data": {
      "image/png": "[encoded data removed]",
      "text/plain": [
       "<Figure size 720x720 with 1 Axes>"
      ]
     },
     "metadata": {},
     "output_type": "display_data"
    }
   ],
   "source": [
    "for threshold in np.arange(.25, .45, .01):\n",
    "    predicted_valid = probabilities_one_valid > threshold \n",
    "    precision = precision_score(target_valid, predicted_valid)\n",
    "    recall = recall_score(target_valid, predicted_valid)\n",
    "    f1 = f1_score(target_valid, predicted_valid)\n",
    "\n",
    "    print(\"Порог = {:.2f} | Точность = {:.3f}, Полнота = {:.3f} | F1-score = {:.3f}\".format(\n",
    "        threshold, precision, recall, f1))\n",
    "\n",
    "precision, recall, thresholds = precision_recall_curve(target_valid, probabilities_valid[:, 1])    \n",
    "plt.figure(figsize=(10, 10))\n",
    "plt.step(recall, precision, where='post')\n",
    "plt.xlabel('Recall')\n",
    "plt.ylabel('Precision')\n",
    "plt.ylim([0.0, 1.05])\n",
    "plt.xlim([0.0, 1.0])\n",
    "plt.title('PR curve')\n",
    "plt.show() "
   ]
  },
  {
   "cell_type": "markdown",
   "metadata": {},
   "source": [
    "Самый высокий показатель f1-score **0.597** достигается при пороге **0.3 - 0.4**."
   ]
  },
  {
   "cell_type": "markdown",
   "metadata": {},
   "source": [
    "### Вывод"
   ]
  },
  {
   "cell_type": "markdown",
   "metadata": {},
   "source": [
    "Лучшим способом борьбы с несбалансированность является **Upsampling**."
   ]
  },
  {
   "cell_type": "markdown",
   "metadata": {},
   "source": [
    "## Тестирование модели"
   ]
  },
  {
   "cell_type": "markdown",
   "metadata": {},
   "source": [
    "### Обучение модели"
   ]
  },
  {
   "cell_type": "markdown",
   "metadata": {},
   "source": [
    "Будем использовать **RandomForest**, как лучшую модель из проверенных."
   ]
  },
  {
   "cell_type": "code",
   "execution_count": 117,
   "metadata": {},
   "outputs": [
    {
     "name": "stdout",
     "output_type": "stream",
     "text": [
      "Лучшая модель:      \n",
      "Accuracy: 80.95      \n",
      "F1-score: 0.5951115834218916      \n"
     ]
    }
   ],
   "source": [
    "model_rfc = RandomForestClassifier(random_state=12345, n_estimators=10, max_depth=10)\n",
    "model_rfc.fit(features_upsampled, target_upsampled)\n",
    "predicted_valid = model_rfc.predict(features_valid)\n",
    "accuracy = accuracy_score(target_valid, predicted_valid)\n",
    "f1 = f1 = f1_score(target_valid, predicted_valid)\n",
    "\n",
    "print(f'Лучшая модель:\\\n",
    "      \\nAccuracy: {accuracy * 100}\\\n",
    "      \\nF1-score: {f1}\\\n",
    "      ')"
   ]
  },
  {
   "cell_type": "code",
   "execution_count": 118,
   "metadata": {
    "scrolled": false
   },
   "outputs": [
    {
     "data": {
      "image/png": "[encoded data removed]",
      "text/plain": [
       "<Figure size 720x720 with 1 Axes>"
      ]
     },
     "metadata": {},
     "output_type": "display_data"
    },
    {
     "name": "stdout",
     "output_type": "stream",
     "text": [
      "AUC: 0.843330769888063\n"
     ]
    }
   ],
   "source": [
    "probabilities_valid = model_rfc.predict_proba(features_valid)\n",
    "probabilities_one_valid = probabilities_valid[:, 1]\n",
    "\n",
    "fpr, tpr, thresholds = roc_curve(target_valid, probabilities_one_valid) \n",
    "\n",
    "plt.figure(figsize=(10, 10))\n",
    "plt.plot(fpr, tpr, linestyle='-')\n",
    "plt.plot([0, 1], [0, 1], linestyle='--')\n",
    "plt.xlim([0.0, 1.0])\n",
    "plt.ylim([0.0, 1.0])\n",
    "plt.xlabel('False Positive Rate')\n",
    "plt.ylabel('True Positive Rate')\n",
    "plt.title('ROC-curve')\n",
    "plt.show()\n",
    "\n",
    "auc_roc = roc_auc_score (target_valid, probabilities_one_valid)\n",
    "\n",
    "print(\"AUC:\", auc_roc)"
   ]
  },
  {
   "cell_type": "markdown",
   "metadata": {},
   "source": [
    "### Тестирование"
   ]
  },
  {
   "cell_type": "code",
   "execution_count": 123,
   "metadata": {},
   "outputs": [
    {
     "name": "stdout",
     "output_type": "stream",
     "text": [
      "Accuracy: 0.8115\n",
      "F1-мера: 0.6010582010582012\n",
      "AUC: 0.8441210629147284\n"
     ]
    }
   ],
   "source": [
    "predictions_test = model_rfc.predict(features_test)\n",
    "test_f1 = f1_score(target_test, predictions_test)\n",
    "test_acc = accuracy_score(target_test, predictions_test)\n",
    "\n",
    "probabilities_valid = model_rfc.predict_proba(features_test)\n",
    "probabilities_one_valid = probabilities_valid[:, 1]\n",
    "auc_roc = roc_auc_score (target_test, probabilities_one_valid)\n",
    "\n",
    "print(\"Accuracy:\", test_acc)\n",
    "print(\"F1-мера:\", test_f1)\n",
    "print(\"AUC:\", auc_roc)"
   ]
  },
  {
   "cell_type": "markdown",
   "metadata": {},
   "source": [
    "## Вывод"
   ]
  },
  {
   "cell_type": "markdown",
   "metadata": {},
   "source": [
    "1. Чтобы бороться с дизбаланосом был использован способ *Upsampling*, т.к. он показал наилучший результат.\n",
    "2. Лучший результат показала модель *Random Forest Classifier*, потому она и была выбрана как финальная.\n",
    "3. После перебора гиперпараметров удалось достичь результатов:\n",
    "    - Accuracy: 85%\n",
    "    - F1-мера: 0.6\n",
    "    - AUC: 0.84"
   ]
  }
 ],
 "metadata": {
  "ExecuteTimeLog": [
   {
    "duration": 455,
    "start_time": "2023-03-28T09:32:29.152Z"
   },
   {
    "duration": 115,
    "start_time": "2023-03-28T09:32:52.915Z"
   },
   {
    "duration": 115,
    "start_time": "2023-03-28T09:32:59.238Z"
   },
   {
    "duration": 148,
    "start_time": "2023-03-28T09:33:07.261Z"
   },
   {
    "duration": 55,
    "start_time": "2023-03-28T09:33:47.737Z"
   },
   {
    "duration": 40,
    "start_time": "2023-03-28T09:34:05.786Z"
   },
   {
    "duration": 28,
    "start_time": "2023-03-28T09:34:29.504Z"
   },
   {
    "duration": 41,
    "start_time": "2023-03-28T09:34:33.310Z"
   },
   {
    "duration": 38,
    "start_time": "2023-03-28T09:37:09.088Z"
   },
   {
    "duration": 37,
    "start_time": "2023-03-28T09:41:28.980Z"
   },
   {
    "duration": 21,
    "start_time": "2023-03-28T09:42:09.969Z"
   },
   {
    "duration": 3,
    "start_time": "2023-03-28T09:45:03.206Z"
   },
   {
    "duration": 16,
    "start_time": "2023-03-28T09:51:17.135Z"
   },
   {
    "duration": 6,
    "start_time": "2023-03-28T09:51:26.754Z"
   },
   {
    "duration": 19,
    "start_time": "2023-03-28T09:51:37.725Z"
   },
   {
    "duration": 12,
    "start_time": "2023-03-28T09:51:44.924Z"
   },
   {
    "duration": 38,
    "start_time": "2023-03-28T09:53:10.481Z"
   },
   {
    "duration": 19,
    "start_time": "2023-03-28T09:53:15.398Z"
   },
   {
    "duration": 6,
    "start_time": "2023-03-28T09:55:43.648Z"
   },
   {
    "duration": 5,
    "start_time": "2023-03-28T09:55:50.214Z"
   },
   {
    "duration": 3,
    "start_time": "2023-03-28T09:57:20.923Z"
   },
   {
    "duration": 6,
    "start_time": "2023-03-28T09:57:30.506Z"
   },
   {
    "duration": 6,
    "start_time": "2023-03-28T09:57:39.554Z"
   },
   {
    "duration": 10,
    "start_time": "2023-03-28T09:57:48.169Z"
   },
   {
    "duration": 20,
    "start_time": "2023-03-28T09:57:56.945Z"
   },
   {
    "duration": 11,
    "start_time": "2023-03-28T09:58:46.901Z"
   },
   {
    "duration": 34,
    "start_time": "2023-03-28T09:58:57.084Z"
   },
   {
    "duration": 14,
    "start_time": "2023-03-28T10:00:28.685Z"
   },
   {
    "duration": 9,
    "start_time": "2023-03-28T10:01:51.243Z"
   },
   {
    "duration": 18,
    "start_time": "2023-03-28T10:02:01.553Z"
   },
   {
    "duration": 6,
    "start_time": "2023-03-28T10:06:40.108Z"
   },
   {
    "duration": 7,
    "start_time": "2023-03-28T10:06:51.832Z"
   },
   {
    "duration": 20,
    "start_time": "2023-03-28T10:07:00.614Z"
   },
   {
    "duration": 43,
    "start_time": "2023-03-28T10:07:16.137Z"
   },
   {
    "duration": 19,
    "start_time": "2023-03-28T10:10:52.599Z"
   },
   {
    "duration": 8,
    "start_time": "2023-03-28T10:11:28.482Z"
   },
   {
    "duration": 8,
    "start_time": "2023-03-28T10:11:32.194Z"
   },
   {
    "duration": 23,
    "start_time": "2023-03-28T10:11:35.423Z"
   },
   {
    "duration": 6,
    "start_time": "2023-03-28T10:11:45.977Z"
   },
   {
    "duration": 34,
    "start_time": "2023-03-28T10:11:54.802Z"
   },
   {
    "duration": 11,
    "start_time": "2023-03-28T10:11:59.658Z"
   },
   {
    "duration": 4,
    "start_time": "2023-03-28T10:12:55.277Z"
   },
   {
    "duration": 431,
    "start_time": "2023-03-28T10:13:09.692Z"
   },
   {
    "duration": 39,
    "start_time": "2023-03-28T10:13:10.125Z"
   },
   {
    "duration": 22,
    "start_time": "2023-03-28T10:13:10.166Z"
   },
   {
    "duration": 6,
    "start_time": "2023-03-28T10:13:10.190Z"
   },
   {
    "duration": 13,
    "start_time": "2023-03-28T10:13:10.198Z"
   },
   {
    "duration": 6,
    "start_time": "2023-03-28T10:13:10.213Z"
   },
   {
    "duration": 67,
    "start_time": "2023-03-28T10:13:10.221Z"
   },
   {
    "duration": 13,
    "start_time": "2023-03-28T10:13:10.289Z"
   },
   {
    "duration": 8,
    "start_time": "2023-03-28T10:13:10.304Z"
   },
   {
    "duration": 5,
    "start_time": "2023-03-28T10:13:10.313Z"
   },
   {
    "duration": 65,
    "start_time": "2023-03-28T10:13:10.319Z"
   },
   {
    "duration": 6,
    "start_time": "2023-03-28T10:13:10.386Z"
   },
   {
    "duration": 5,
    "start_time": "2023-03-28T10:13:34.325Z"
   },
   {
    "duration": 4,
    "start_time": "2023-03-28T10:14:20.018Z"
   },
   {
    "duration": 56,
    "start_time": "2023-03-28T10:23:41.498Z"
   },
   {
    "duration": 37,
    "start_time": "2023-03-28T10:23:51.374Z"
   },
   {
    "duration": 36,
    "start_time": "2023-03-28T10:25:35.435Z"
   },
   {
    "duration": 5,
    "start_time": "2023-03-28T10:31:32.658Z"
   },
   {
    "duration": 4,
    "start_time": "2023-03-28T10:31:37.953Z"
   },
   {
    "duration": 12,
    "start_time": "2023-03-28T10:31:46.597Z"
   },
   {
    "duration": 4,
    "start_time": "2023-03-28T10:31:51.359Z"
   },
   {
    "duration": 36,
    "start_time": "2023-03-28T10:31:52.653Z"
   },
   {
    "duration": 38,
    "start_time": "2023-03-28T10:38:06.985Z"
   },
   {
    "duration": 34,
    "start_time": "2023-03-28T10:38:12.690Z"
   },
   {
    "duration": 44,
    "start_time": "2023-03-28T10:38:17.328Z"
   },
   {
    "duration": 379,
    "start_time": "2023-03-29T11:58:53.317Z"
   },
   {
    "duration": 84,
    "start_time": "2023-03-29T11:58:53.698Z"
   },
   {
    "duration": 19,
    "start_time": "2023-03-29T11:58:53.784Z"
   },
   {
    "duration": 5,
    "start_time": "2023-03-29T11:58:53.805Z"
   },
   {
    "duration": 13,
    "start_time": "2023-03-29T11:58:53.812Z"
   },
   {
    "duration": 4,
    "start_time": "2023-03-29T11:58:53.826Z"
   },
   {
    "duration": 38,
    "start_time": "2023-03-29T11:58:53.831Z"
   },
   {
    "duration": 12,
    "start_time": "2023-03-29T11:58:53.889Z"
   },
   {
    "duration": 9,
    "start_time": "2023-03-29T11:58:53.902Z"
   },
   {
    "duration": 14,
    "start_time": "2023-03-29T11:58:53.913Z"
   },
   {
    "duration": 41,
    "start_time": "2023-03-29T11:58:53.929Z"
   },
   {
    "duration": 6,
    "start_time": "2023-03-29T11:58:53.972Z"
   },
   {
    "duration": 12,
    "start_time": "2023-03-29T11:58:53.980Z"
   },
   {
    "duration": 3,
    "start_time": "2023-03-29T12:04:01.460Z"
   },
   {
    "duration": 14,
    "start_time": "2023-03-29T12:04:02.823Z"
   },
   {
    "duration": 3,
    "start_time": "2023-03-29T12:04:10.396Z"
   },
   {
    "duration": 13,
    "start_time": "2023-03-29T12:04:11.348Z"
   },
   {
    "duration": 423,
    "start_time": "2023-03-29T12:05:03.384Z"
   },
   {
    "duration": 40,
    "start_time": "2023-03-29T12:05:03.809Z"
   },
   {
    "duration": 4,
    "start_time": "2023-03-29T12:05:03.850Z"
   },
   {
    "duration": 22,
    "start_time": "2023-03-29T12:05:03.856Z"
   },
   {
    "duration": 74,
    "start_time": "2023-03-29T12:05:03.880Z"
   },
   {
    "duration": 0,
    "start_time": "2023-03-29T12:05:03.956Z"
   },
   {
    "duration": 0,
    "start_time": "2023-03-29T12:05:03.958Z"
   },
   {
    "duration": 0,
    "start_time": "2023-03-29T12:05:03.959Z"
   },
   {
    "duration": 0,
    "start_time": "2023-03-29T12:05:03.960Z"
   },
   {
    "duration": 0,
    "start_time": "2023-03-29T12:05:03.961Z"
   },
   {
    "duration": 0,
    "start_time": "2023-03-29T12:05:03.962Z"
   },
   {
    "duration": 0,
    "start_time": "2023-03-29T12:05:03.963Z"
   },
   {
    "duration": 0,
    "start_time": "2023-03-29T12:05:03.965Z"
   },
   {
    "duration": 0,
    "start_time": "2023-03-29T12:05:03.966Z"
   },
   {
    "duration": 6,
    "start_time": "2023-03-29T12:05:28.188Z"
   },
   {
    "duration": 12,
    "start_time": "2023-03-29T12:05:30.845Z"
   },
   {
    "duration": 2174,
    "start_time": "2023-03-29T12:05:31.928Z"
   },
   {
    "duration": 7,
    "start_time": "2023-03-29T12:05:35.624Z"
   },
   {
    "duration": 34,
    "start_time": "2023-03-29T12:05:40.904Z"
   },
   {
    "duration": 16,
    "start_time": "2023-03-29T12:05:45.522Z"
   },
   {
    "duration": 12,
    "start_time": "2023-03-29T12:05:49.161Z"
   },
   {
    "duration": 12,
    "start_time": "2023-03-29T12:05:54.369Z"
   },
   {
    "duration": 6,
    "start_time": "2023-03-29T12:05:58.792Z"
   },
   {
    "duration": 4,
    "start_time": "2023-03-29T12:06:03.765Z"
   },
   {
    "duration": 35,
    "start_time": "2023-03-29T12:06:07.662Z"
   },
   {
    "duration": 6,
    "start_time": "2023-03-29T12:06:14.404Z"
   },
   {
    "duration": 5,
    "start_time": "2023-03-29T12:06:17.580Z"
   },
   {
    "duration": 8,
    "start_time": "2023-03-29T12:10:00.761Z"
   },
   {
    "duration": 16,
    "start_time": "2023-03-29T12:10:46.160Z"
   },
   {
    "duration": 1305,
    "start_time": "2023-03-29T12:13:46.858Z"
   },
   {
    "duration": 1558,
    "start_time": "2023-03-29T12:13:59.967Z"
   },
   {
    "duration": 397,
    "start_time": "2023-03-29T12:14:50.912Z"
   },
   {
    "duration": 39,
    "start_time": "2023-03-29T12:14:51.310Z"
   },
   {
    "duration": 3,
    "start_time": "2023-03-29T12:14:51.350Z"
   },
   {
    "duration": 32,
    "start_time": "2023-03-29T12:14:51.355Z"
   },
   {
    "duration": 18,
    "start_time": "2023-03-29T12:14:51.388Z"
   },
   {
    "duration": 33,
    "start_time": "2023-03-29T12:14:51.407Z"
   },
   {
    "duration": 5,
    "start_time": "2023-03-29T12:14:51.442Z"
   },
   {
    "duration": 47,
    "start_time": "2023-03-29T12:14:51.449Z"
   },
   {
    "duration": 15,
    "start_time": "2023-03-29T12:14:51.497Z"
   },
   {
    "duration": 14,
    "start_time": "2023-03-29T12:14:51.515Z"
   },
   {
    "duration": 28,
    "start_time": "2023-03-29T12:14:51.531Z"
   },
   {
    "duration": 49,
    "start_time": "2023-03-29T12:14:51.560Z"
   },
   {
    "duration": 8,
    "start_time": "2023-03-29T12:14:51.611Z"
   },
   {
    "duration": 6,
    "start_time": "2023-03-29T12:14:51.621Z"
   },
   {
    "duration": 25,
    "start_time": "2023-03-29T12:14:51.629Z"
   },
   {
    "duration": 407,
    "start_time": "2023-03-29T12:15:13.495Z"
   },
   {
    "duration": 37,
    "start_time": "2023-03-29T12:15:13.904Z"
   },
   {
    "duration": 4,
    "start_time": "2023-03-29T12:15:13.942Z"
   },
   {
    "duration": 36,
    "start_time": "2023-03-29T12:15:13.947Z"
   },
   {
    "duration": 9,
    "start_time": "2023-03-29T12:15:13.985Z"
   },
   {
    "duration": 33,
    "start_time": "2023-03-29T12:15:13.995Z"
   },
   {
    "duration": 23,
    "start_time": "2023-03-29T12:15:14.030Z"
   },
   {
    "duration": 42,
    "start_time": "2023-03-29T12:15:14.054Z"
   },
   {
    "duration": 12,
    "start_time": "2023-03-29T12:15:14.098Z"
   },
   {
    "duration": 9,
    "start_time": "2023-03-29T12:15:14.111Z"
   },
   {
    "duration": 4,
    "start_time": "2023-03-29T12:15:14.122Z"
   },
   {
    "duration": 39,
    "start_time": "2023-03-29T12:15:14.128Z"
   },
   {
    "duration": 24,
    "start_time": "2023-03-29T12:15:14.168Z"
   },
   {
    "duration": 4,
    "start_time": "2023-03-29T12:15:14.195Z"
   },
   {
    "duration": 21,
    "start_time": "2023-03-29T12:15:14.201Z"
   },
   {
    "duration": 18,
    "start_time": "2023-03-29T12:15:30.658Z"
   },
   {
    "duration": 432,
    "start_time": "2023-03-29T12:15:45.763Z"
   },
   {
    "duration": 38,
    "start_time": "2023-03-29T12:15:46.197Z"
   },
   {
    "duration": 3,
    "start_time": "2023-03-29T12:15:46.237Z"
   },
   {
    "duration": 25,
    "start_time": "2023-03-29T12:15:46.242Z"
   },
   {
    "duration": 14,
    "start_time": "2023-03-29T12:15:46.269Z"
   },
   {
    "duration": 19,
    "start_time": "2023-03-29T12:15:46.284Z"
   },
   {
    "duration": 4,
    "start_time": "2023-03-29T12:15:46.305Z"
   },
   {
    "duration": 34,
    "start_time": "2023-03-29T12:15:46.311Z"
   },
   {
    "duration": 12,
    "start_time": "2023-03-29T12:15:46.347Z"
   },
   {
    "duration": 30,
    "start_time": "2023-03-29T12:15:46.362Z"
   },
   {
    "duration": 6,
    "start_time": "2023-03-29T12:15:46.394Z"
   },
   {
    "duration": 39,
    "start_time": "2023-03-29T12:15:46.401Z"
   },
   {
    "duration": 6,
    "start_time": "2023-03-29T12:15:46.442Z"
   },
   {
    "duration": 14,
    "start_time": "2023-03-29T12:15:46.450Z"
   },
   {
    "duration": 27,
    "start_time": "2023-03-29T12:15:46.466Z"
   },
   {
    "duration": 17,
    "start_time": "2023-03-29T12:16:06.600Z"
   },
   {
    "duration": 20,
    "start_time": "2023-03-29T12:16:20.936Z"
   },
   {
    "duration": 16,
    "start_time": "2023-03-29T12:16:31.738Z"
   },
   {
    "duration": 765,
    "start_time": "2023-03-29T12:19:13.856Z"
   },
   {
    "duration": 5,
    "start_time": "2023-03-29T12:20:04.343Z"
   },
   {
    "duration": 17,
    "start_time": "2023-03-29T12:20:08.059Z"
   },
   {
    "duration": 6,
    "start_time": "2023-03-29T12:20:12.373Z"
   },
   {
    "duration": 105,
    "start_time": "2023-03-29T12:25:28.791Z"
   },
   {
    "duration": 9,
    "start_time": "2023-03-29T12:25:29.075Z"
   },
   {
    "duration": 5,
    "start_time": "2023-03-29T12:25:39.231Z"
   },
   {
    "duration": 8,
    "start_time": "2023-03-29T12:25:39.713Z"
   },
   {
    "duration": 7,
    "start_time": "2023-03-29T12:25:40.147Z"
   },
   {
    "duration": 13,
    "start_time": "2023-03-29T12:26:08.446Z"
   },
   {
    "duration": 5,
    "start_time": "2023-03-29T12:26:14.028Z"
   },
   {
    "duration": 5,
    "start_time": "2023-03-29T12:26:35.994Z"
   },
   {
    "duration": 50,
    "start_time": "2023-03-29T12:26:36.002Z"
   },
   {
    "duration": 4,
    "start_time": "2023-03-29T12:26:36.055Z"
   },
   {
    "duration": 34,
    "start_time": "2023-03-29T12:26:36.061Z"
   },
   {
    "duration": 11,
    "start_time": "2023-03-29T12:26:36.098Z"
   },
   {
    "duration": 40,
    "start_time": "2023-03-29T12:26:36.111Z"
   },
   {
    "duration": 9,
    "start_time": "2023-03-29T12:26:36.153Z"
   },
   {
    "duration": 49,
    "start_time": "2023-03-29T12:26:36.164Z"
   },
   {
    "duration": 19,
    "start_time": "2023-03-29T12:26:36.216Z"
   },
   {
    "duration": 10,
    "start_time": "2023-03-29T12:26:36.237Z"
   },
   {
    "duration": 6,
    "start_time": "2023-03-29T12:26:36.249Z"
   },
   {
    "duration": 59,
    "start_time": "2023-03-29T12:26:36.256Z"
   },
   {
    "duration": 6,
    "start_time": "2023-03-29T12:26:36.317Z"
   },
   {
    "duration": 10,
    "start_time": "2023-03-29T12:26:36.324Z"
   },
   {
    "duration": 25,
    "start_time": "2023-03-29T12:26:36.335Z"
   },
   {
    "duration": 5,
    "start_time": "2023-03-29T12:26:36.362Z"
   },
   {
    "duration": 36,
    "start_time": "2023-03-29T12:26:36.369Z"
   },
   {
    "duration": 22,
    "start_time": "2023-03-29T12:26:36.407Z"
   },
   {
    "duration": 7,
    "start_time": "2023-03-29T12:26:37.995Z"
   },
   {
    "duration": 5,
    "start_time": "2023-03-29T12:27:36.285Z"
   },
   {
    "duration": 5,
    "start_time": "2023-03-29T12:28:33.458Z"
   },
   {
    "duration": 5,
    "start_time": "2023-03-29T12:28:43.005Z"
   },
   {
    "duration": 6,
    "start_time": "2023-03-29T12:28:50.710Z"
   },
   {
    "duration": 5,
    "start_time": "2023-03-29T12:29:00.057Z"
   },
   {
    "duration": 6,
    "start_time": "2023-03-29T12:29:26.658Z"
   },
   {
    "duration": 6,
    "start_time": "2023-03-29T12:29:51.505Z"
   },
   {
    "duration": 5,
    "start_time": "2023-03-29T12:30:15.271Z"
   },
   {
    "duration": 33,
    "start_time": "2023-03-29T12:33:38.356Z"
   },
   {
    "duration": 26,
    "start_time": "2023-03-29T12:34:55.572Z"
   },
   {
    "duration": 16,
    "start_time": "2023-03-29T12:35:11.560Z"
   },
   {
    "duration": 14,
    "start_time": "2023-03-29T12:35:15.383Z"
   },
   {
    "duration": 12,
    "start_time": "2023-03-29T12:35:19.520Z"
   },
   {
    "duration": 28,
    "start_time": "2023-03-29T12:36:31.864Z"
   },
   {
    "duration": 14,
    "start_time": "2023-03-29T12:36:34.532Z"
   },
   {
    "duration": 17,
    "start_time": "2023-03-29T12:36:35.071Z"
   },
   {
    "duration": 12,
    "start_time": "2023-03-29T12:36:56.012Z"
   },
   {
    "duration": 26,
    "start_time": "2023-03-29T12:37:02.730Z"
   },
   {
    "duration": 13,
    "start_time": "2023-03-29T12:37:30.393Z"
   },
   {
    "duration": 15,
    "start_time": "2023-03-29T12:37:34.896Z"
   },
   {
    "duration": 13,
    "start_time": "2023-03-29T12:37:40.192Z"
   },
   {
    "duration": 14,
    "start_time": "2023-03-29T12:40:44.960Z"
   },
   {
    "duration": 20,
    "start_time": "2023-03-29T12:40:58.467Z"
   },
   {
    "duration": 28,
    "start_time": "2023-03-29T12:41:13.481Z"
   },
   {
    "duration": 12,
    "start_time": "2023-03-29T12:41:37.359Z"
   },
   {
    "duration": 10,
    "start_time": "2023-03-29T12:41:42.774Z"
   },
   {
    "duration": 23,
    "start_time": "2023-03-29T12:41:50.395Z"
   },
   {
    "duration": 14,
    "start_time": "2023-03-29T12:41:55.087Z"
   },
   {
    "duration": 26,
    "start_time": "2023-03-29T12:41:55.521Z"
   },
   {
    "duration": 30,
    "start_time": "2023-03-29T12:41:58.880Z"
   },
   {
    "duration": 28,
    "start_time": "2023-03-29T12:41:59.762Z"
   },
   {
    "duration": 17,
    "start_time": "2023-03-29T12:42:32.178Z"
   },
   {
    "duration": 7,
    "start_time": "2023-03-29T12:42:35.211Z"
   },
   {
    "duration": 20,
    "start_time": "2023-03-29T12:42:35.740Z"
   },
   {
    "duration": 18,
    "start_time": "2023-03-29T12:42:36.685Z"
   },
   {
    "duration": 1171,
    "start_time": "2023-03-29T12:43:13.928Z"
   },
   {
    "duration": 39,
    "start_time": "2023-03-29T12:43:15.102Z"
   },
   {
    "duration": 3,
    "start_time": "2023-03-29T12:43:15.143Z"
   },
   {
    "duration": 26,
    "start_time": "2023-03-29T12:43:15.148Z"
   },
   {
    "duration": 45,
    "start_time": "2023-03-29T12:43:15.176Z"
   },
   {
    "duration": 13,
    "start_time": "2023-03-29T12:43:15.223Z"
   },
   {
    "duration": 6,
    "start_time": "2023-03-29T12:43:15.238Z"
   },
   {
    "duration": 39,
    "start_time": "2023-03-29T12:43:15.246Z"
   },
   {
    "duration": 14,
    "start_time": "2023-03-29T12:43:15.286Z"
   },
   {
    "duration": 10,
    "start_time": "2023-03-29T12:43:15.302Z"
   },
   {
    "duration": 10,
    "start_time": "2023-03-29T12:43:15.313Z"
   },
   {
    "duration": 66,
    "start_time": "2023-03-29T12:43:15.324Z"
   },
   {
    "duration": 6,
    "start_time": "2023-03-29T12:43:15.392Z"
   },
   {
    "duration": 12,
    "start_time": "2023-03-29T12:43:15.400Z"
   },
   {
    "duration": 28,
    "start_time": "2023-03-29T12:43:15.414Z"
   },
   {
    "duration": 6,
    "start_time": "2023-03-29T12:43:15.444Z"
   },
   {
    "duration": 31,
    "start_time": "2023-03-29T12:43:15.453Z"
   },
   {
    "duration": 7,
    "start_time": "2023-03-29T12:43:15.486Z"
   },
   {
    "duration": 30,
    "start_time": "2023-03-29T12:43:15.495Z"
   },
   {
    "duration": 16,
    "start_time": "2023-03-29T12:43:15.527Z"
   },
   {
    "duration": 28,
    "start_time": "2023-03-29T12:43:15.545Z"
   },
   {
    "duration": 16,
    "start_time": "2023-03-29T12:43:15.575Z"
   },
   {
    "duration": 56,
    "start_time": "2023-03-29T12:43:15.593Z"
   },
   {
    "duration": 82,
    "start_time": "2023-03-29T13:21:55.810Z"
   },
   {
    "duration": 27,
    "start_time": "2023-03-29T13:22:05.138Z"
   },
   {
    "duration": 77,
    "start_time": "2023-03-29T13:29:09.452Z"
   },
   {
    "duration": 100,
    "start_time": "2023-03-29T13:29:19.968Z"
   },
   {
    "duration": 12,
    "start_time": "2023-03-29T13:45:40.314Z"
   },
   {
    "duration": 7,
    "start_time": "2023-03-29T13:45:55.080Z"
   },
   {
    "duration": 6,
    "start_time": "2023-03-29T13:46:09.468Z"
   },
   {
    "duration": 6,
    "start_time": "2023-03-29T13:46:25.282Z"
   },
   {
    "duration": 6,
    "start_time": "2023-03-29T13:46:36.034Z"
   },
   {
    "duration": 6,
    "start_time": "2023-03-29T13:46:44.464Z"
   },
   {
    "duration": 5,
    "start_time": "2023-03-29T13:57:23.722Z"
   },
   {
    "duration": 16,
    "start_time": "2023-03-29T13:57:42.648Z"
   },
   {
    "duration": 16,
    "start_time": "2023-03-29T13:58:53.269Z"
   },
   {
    "duration": 13,
    "start_time": "2023-03-29T13:59:04.730Z"
   },
   {
    "duration": 78,
    "start_time": "2023-03-29T13:59:09.998Z"
   },
   {
    "duration": 16,
    "start_time": "2023-03-29T13:59:12.889Z"
   },
   {
    "duration": 33,
    "start_time": "2023-03-29T14:07:33.845Z"
   },
   {
    "duration": 61,
    "start_time": "2023-03-29T14:08:14.429Z"
   },
   {
    "duration": 37,
    "start_time": "2023-03-29T14:10:58.253Z"
   },
   {
    "duration": 107,
    "start_time": "2023-03-29T14:11:08.488Z"
   },
   {
    "duration": 97,
    "start_time": "2023-03-29T14:11:55.467Z"
   },
   {
    "duration": 4,
    "start_time": "2023-03-29T14:13:25.751Z"
   },
   {
    "duration": 11,
    "start_time": "2023-03-29T14:15:46.688Z"
   },
   {
    "duration": 12,
    "start_time": "2023-03-29T14:16:16.408Z"
   },
   {
    "duration": 12,
    "start_time": "2023-03-29T14:16:25.969Z"
   },
   {
    "duration": 16,
    "start_time": "2023-03-29T14:16:35.364Z"
   },
   {
    "duration": 129,
    "start_time": "2023-03-29T14:17:24.960Z"
   },
   {
    "duration": 57,
    "start_time": "2023-03-29T14:17:26.459Z"
   },
   {
    "duration": 24,
    "start_time": "2023-03-29T14:22:33.712Z"
   },
   {
    "duration": 44,
    "start_time": "2023-03-29T14:22:34.117Z"
   },
   {
    "duration": 587,
    "start_time": "2023-03-29T14:23:32.384Z"
   },
   {
    "duration": 288,
    "start_time": "2023-03-29T14:23:38.404Z"
   },
   {
    "duration": 112,
    "start_time": "2023-03-29T14:24:46.712Z"
   },
   {
    "duration": 254,
    "start_time": "2023-03-29T14:25:00.084Z"
   },
   {
    "duration": 225,
    "start_time": "2023-03-29T14:25:25.522Z"
   },
   {
    "duration": 269,
    "start_time": "2023-03-29T14:25:39.469Z"
   },
   {
    "duration": 200,
    "start_time": "2023-03-29T14:27:59.203Z"
   },
   {
    "duration": 253,
    "start_time": "2023-03-29T14:28:06.042Z"
   },
   {
    "duration": 228,
    "start_time": "2023-03-29T14:28:16.097Z"
   },
   {
    "duration": 74,
    "start_time": "2023-03-29T14:30:41.985Z"
   },
   {
    "duration": 263,
    "start_time": "2023-03-29T14:30:42.650Z"
   },
   {
    "duration": 230,
    "start_time": "2023-03-29T14:31:37.884Z"
   },
   {
    "duration": 233,
    "start_time": "2023-03-29T14:31:45.320Z"
   },
   {
    "duration": 16,
    "start_time": "2023-03-29T14:46:23.435Z"
   },
   {
    "duration": 15,
    "start_time": "2023-03-29T14:46:30.580Z"
   },
   {
    "duration": 29,
    "start_time": "2023-03-29T14:46:36.955Z"
   },
   {
    "duration": 27,
    "start_time": "2023-03-29T14:46:41.874Z"
   },
   {
    "duration": 29,
    "start_time": "2023-03-29T14:54:08.611Z"
   },
   {
    "duration": 372,
    "start_time": "2023-03-29T14:54:08.900Z"
   },
   {
    "duration": 266,
    "start_time": "2023-03-29T14:55:04.066Z"
   },
   {
    "duration": 258,
    "start_time": "2023-03-29T14:55:11.734Z"
   },
   {
    "duration": 257,
    "start_time": "2023-03-29T14:55:16.902Z"
   },
   {
    "duration": 141,
    "start_time": "2023-03-29T14:55:20.758Z"
   },
   {
    "duration": 405,
    "start_time": "2023-03-29T14:55:24.558Z"
   },
   {
    "duration": 468,
    "start_time": "2023-03-29T14:55:28.576Z"
   },
   {
    "duration": 202,
    "start_time": "2023-03-29T14:55:51.619Z"
   },
   {
    "duration": 78,
    "start_time": "2023-03-29T15:05:39.817Z"
   },
   {
    "duration": 12,
    "start_time": "2023-03-29T15:05:48.006Z"
   },
   {
    "duration": 64,
    "start_time": "2023-03-29T15:05:55.681Z"
   },
   {
    "duration": 67,
    "start_time": "2023-03-29T15:06:56.421Z"
   },
   {
    "duration": 785,
    "start_time": "2023-03-29T15:07:04.215Z"
   },
   {
    "duration": 1039,
    "start_time": "2023-03-29T15:07:17.698Z"
   },
   {
    "duration": 904,
    "start_time": "2023-03-29T15:07:30.662Z"
   },
   {
    "duration": 956,
    "start_time": "2023-03-29T15:07:57.854Z"
   },
   {
    "duration": 245,
    "start_time": "2023-03-29T15:07:59.782Z"
   },
   {
    "duration": 227,
    "start_time": "2023-03-29T15:11:03.803Z"
   },
   {
    "duration": 55,
    "start_time": "2023-03-29T15:13:06.479Z"
   },
   {
    "duration": 61,
    "start_time": "2023-03-29T15:20:51.344Z"
   },
   {
    "duration": 6,
    "start_time": "2023-03-29T15:24:15.021Z"
   },
   {
    "duration": 1138,
    "start_time": "2023-03-29T15:24:24.054Z"
   },
   {
    "duration": 349,
    "start_time": "2023-03-29T15:24:25.194Z"
   },
   {
    "duration": 39,
    "start_time": "2023-03-29T15:24:25.544Z"
   },
   {
    "duration": 2,
    "start_time": "2023-03-29T15:24:25.585Z"
   },
   {
    "duration": 36,
    "start_time": "2023-03-29T15:24:25.589Z"
   },
   {
    "duration": 25,
    "start_time": "2023-03-29T15:24:25.627Z"
   },
   {
    "duration": 21,
    "start_time": "2023-03-29T15:24:25.653Z"
   },
   {
    "duration": 4,
    "start_time": "2023-03-29T15:24:25.676Z"
   },
   {
    "duration": 48,
    "start_time": "2023-03-29T15:24:25.681Z"
   },
   {
    "duration": 12,
    "start_time": "2023-03-29T15:24:25.730Z"
   },
   {
    "duration": 14,
    "start_time": "2023-03-29T15:24:25.743Z"
   },
   {
    "duration": 35,
    "start_time": "2023-03-29T15:24:25.759Z"
   },
   {
    "duration": 33,
    "start_time": "2023-03-29T15:24:25.796Z"
   },
   {
    "duration": 6,
    "start_time": "2023-03-29T15:24:25.832Z"
   },
   {
    "duration": 16,
    "start_time": "2023-03-29T15:24:25.839Z"
   },
   {
    "duration": 21,
    "start_time": "2023-03-29T15:24:25.857Z"
   },
   {
    "duration": 16,
    "start_time": "2023-03-29T15:24:25.879Z"
   },
   {
    "duration": 21,
    "start_time": "2023-03-29T15:24:25.897Z"
   },
   {
    "duration": 8,
    "start_time": "2023-03-29T15:24:25.920Z"
   },
   {
    "duration": 5,
    "start_time": "2023-03-29T15:24:25.930Z"
   },
   {
    "duration": 15,
    "start_time": "2023-03-29T15:24:25.936Z"
   },
   {
    "duration": 46,
    "start_time": "2023-03-29T15:24:25.953Z"
   },
   {
    "duration": 23,
    "start_time": "2023-03-29T15:24:26.001Z"
   },
   {
    "duration": 16,
    "start_time": "2023-03-29T15:24:26.025Z"
   },
   {
    "duration": 48,
    "start_time": "2023-03-29T15:24:26.043Z"
   },
   {
    "duration": 113,
    "start_time": "2023-03-29T15:24:26.095Z"
   },
   {
    "duration": 243,
    "start_time": "2023-03-29T15:24:26.210Z"
   },
   {
    "duration": 94,
    "start_time": "2023-03-29T15:24:26.455Z"
   },
   {
    "duration": 6,
    "start_time": "2023-03-29T15:24:26.551Z"
   },
   {
    "duration": 4,
    "start_time": "2023-03-29T15:24:26.559Z"
   },
   {
    "duration": 32,
    "start_time": "2023-03-29T15:24:26.564Z"
   },
   {
    "duration": 91,
    "start_time": "2023-03-29T15:24:26.597Z"
   },
   {
    "duration": 209,
    "start_time": "2023-03-29T15:24:26.696Z"
   },
   {
    "duration": 6,
    "start_time": "2023-03-29T15:24:26.906Z"
   },
   {
    "duration": 16,
    "start_time": "2023-03-29T15:24:26.916Z"
   },
   {
    "duration": 17,
    "start_time": "2023-03-29T15:24:26.934Z"
   },
   {
    "duration": 149,
    "start_time": "2023-03-29T15:24:26.990Z"
   },
   {
    "duration": 19,
    "start_time": "2023-03-29T15:24:27.141Z"
   },
   {
    "duration": 384,
    "start_time": "2023-03-29T15:24:27.194Z"
   },
   {
    "duration": 95,
    "start_time": "2023-03-29T15:24:27.580Z"
   },
   {
    "duration": 279,
    "start_time": "2023-03-29T15:24:27.679Z"
   },
   {
    "duration": 285,
    "start_time": "2023-03-29T15:24:27.960Z"
   },
   {
    "duration": 1028,
    "start_time": "2023-03-29T15:24:28.247Z"
   },
   {
    "duration": 1067,
    "start_time": "2023-03-29T15:24:29.276Z"
   },
   {
    "duration": 256,
    "start_time": "2023-03-29T15:24:30.344Z"
   },
   {
    "duration": 65,
    "start_time": "2023-03-29T15:24:30.602Z"
   },
   {
    "duration": 8,
    "start_time": "2023-03-29T15:27:31.624Z"
   },
   {
    "duration": 1095,
    "start_time": "2023-03-30T12:46:24.071Z"
   },
   {
    "duration": 494,
    "start_time": "2023-03-30T12:47:25.354Z"
   },
   {
    "duration": 76,
    "start_time": "2023-03-30T12:47:27.917Z"
   },
   {
    "duration": 3,
    "start_time": "2023-03-30T12:47:28.946Z"
   },
   {
    "duration": 16,
    "start_time": "2023-03-30T12:47:38.603Z"
   },
   {
    "duration": 5,
    "start_time": "2023-03-30T12:47:40.452Z"
   },
   {
    "duration": 12,
    "start_time": "2023-03-30T12:47:42.850Z"
   },
   {
    "duration": 5,
    "start_time": "2023-03-30T12:47:46.363Z"
   },
   {
    "duration": 115,
    "start_time": "2023-03-30T12:49:34.184Z"
   },
   {
    "duration": 5,
    "start_time": "2023-03-30T12:49:38.439Z"
   },
   {
    "duration": 6,
    "start_time": "2023-03-30T12:49:43.320Z"
   },
   {
    "duration": 5,
    "start_time": "2023-03-30T12:49:45.819Z"
   },
   {
    "duration": 8,
    "start_time": "2023-03-30T12:51:13.277Z"
   },
   {
    "duration": 7,
    "start_time": "2023-03-30T12:51:24.790Z"
   },
   {
    "duration": 7,
    "start_time": "2023-03-30T12:51:27.732Z"
   },
   {
    "duration": 13,
    "start_time": "2023-03-30T12:52:46.815Z"
   },
   {
    "duration": 161,
    "start_time": "2023-03-30T12:53:13.978Z"
   },
   {
    "duration": 108,
    "start_time": "2023-03-30T12:53:47.078Z"
   },
   {
    "duration": 31,
    "start_time": "2023-03-30T12:54:01.138Z"
   },
   {
    "duration": 121,
    "start_time": "2023-03-30T12:54:24.722Z"
   },
   {
    "duration": 111,
    "start_time": "2023-03-30T12:54:32.088Z"
   },
   {
    "duration": 15,
    "start_time": "2023-03-30T12:54:51.392Z"
   },
   {
    "duration": 256,
    "start_time": "2023-03-30T12:54:57.209Z"
   },
   {
    "duration": 151,
    "start_time": "2023-03-30T12:55:00.792Z"
   },
   {
    "duration": 21,
    "start_time": "2023-03-30T12:55:14.119Z"
   },
   {
    "duration": 97,
    "start_time": "2023-03-30T12:55:53.964Z"
   },
   {
    "duration": 192,
    "start_time": "2023-03-30T12:56:11.925Z"
   },
   {
    "duration": 188,
    "start_time": "2023-03-30T12:56:44.577Z"
   },
   {
    "duration": 188,
    "start_time": "2023-03-30T12:56:52.280Z"
   },
   {
    "duration": 195,
    "start_time": "2023-03-30T12:57:03.779Z"
   },
   {
    "duration": 154,
    "start_time": "2023-03-30T12:57:11.549Z"
   },
   {
    "duration": 14,
    "start_time": "2023-03-30T12:57:55.848Z"
   },
   {
    "duration": 13,
    "start_time": "2023-03-30T12:58:03.234Z"
   },
   {
    "duration": 19,
    "start_time": "2023-03-30T12:58:44.017Z"
   },
   {
    "duration": 228,
    "start_time": "2023-03-30T12:58:50.029Z"
   },
   {
    "duration": 529,
    "start_time": "2023-03-30T12:59:04.095Z"
   },
   {
    "duration": 17,
    "start_time": "2023-03-30T12:59:21.965Z"
   },
   {
    "duration": 17,
    "start_time": "2023-03-30T12:59:49.655Z"
   },
   {
    "duration": 9,
    "start_time": "2023-03-30T13:00:13.186Z"
   },
   {
    "duration": 11,
    "start_time": "2023-03-30T13:00:41.115Z"
   },
   {
    "duration": 12,
    "start_time": "2023-03-30T13:00:49.141Z"
   },
   {
    "duration": 197,
    "start_time": "2023-03-30T13:00:59.327Z"
   },
   {
    "duration": 7,
    "start_time": "2023-03-30T13:01:52.698Z"
   },
   {
    "duration": 4,
    "start_time": "2023-03-30T13:02:09.510Z"
   },
   {
    "duration": 14,
    "start_time": "2023-03-30T13:02:09.516Z"
   },
   {
    "duration": 44,
    "start_time": "2023-03-30T13:02:09.532Z"
   },
   {
    "duration": 3,
    "start_time": "2023-03-30T13:02:09.578Z"
   },
   {
    "duration": 21,
    "start_time": "2023-03-30T13:02:09.584Z"
   },
   {
    "duration": 21,
    "start_time": "2023-03-30T13:02:09.607Z"
   },
   {
    "duration": 36,
    "start_time": "2023-03-30T13:02:09.630Z"
   },
   {
    "duration": 17,
    "start_time": "2023-03-30T13:02:09.668Z"
   },
   {
    "duration": 48,
    "start_time": "2023-03-30T13:02:09.687Z"
   },
   {
    "duration": 13,
    "start_time": "2023-03-30T13:02:09.737Z"
   },
   {
    "duration": 214,
    "start_time": "2023-03-30T13:02:09.752Z"
   },
   {
    "duration": 6,
    "start_time": "2023-03-30T13:02:09.968Z"
   },
   {
    "duration": 27,
    "start_time": "2023-03-30T13:02:09.976Z"
   },
   {
    "duration": 17,
    "start_time": "2023-03-30T13:02:10.006Z"
   },
   {
    "duration": 40,
    "start_time": "2023-03-30T13:02:10.025Z"
   },
   {
    "duration": 35,
    "start_time": "2023-03-30T13:02:10.067Z"
   },
   {
    "duration": 16,
    "start_time": "2023-03-30T13:02:10.104Z"
   },
   {
    "duration": 27,
    "start_time": "2023-03-30T13:02:10.122Z"
   },
   {
    "duration": 17,
    "start_time": "2023-03-30T13:02:10.151Z"
   },
   {
    "duration": 38,
    "start_time": "2023-03-30T13:02:10.170Z"
   },
   {
    "duration": 41,
    "start_time": "2023-03-30T13:02:10.210Z"
   },
   {
    "duration": 22,
    "start_time": "2023-03-30T13:02:10.254Z"
   },
   {
    "duration": 17,
    "start_time": "2023-03-30T13:02:14.416Z"
   },
   {
    "duration": 88025,
    "start_time": "2023-03-30T13:09:08.519Z"
   },
   {
    "duration": 10,
    "start_time": "2023-03-30T13:13:08.512Z"
   },
   {
    "duration": 4,
    "start_time": "2023-03-30T13:13:22.520Z"
   },
   {
    "duration": 5,
    "start_time": "2023-03-30T13:13:22.526Z"
   },
   {
    "duration": 43,
    "start_time": "2023-03-30T13:13:22.532Z"
   },
   {
    "duration": 4,
    "start_time": "2023-03-30T13:13:22.577Z"
   },
   {
    "duration": 29,
    "start_time": "2023-03-30T13:13:22.583Z"
   },
   {
    "duration": 14,
    "start_time": "2023-03-30T13:13:22.614Z"
   },
   {
    "duration": 17,
    "start_time": "2023-03-30T13:13:22.630Z"
   },
   {
    "duration": 11,
    "start_time": "2023-03-30T13:13:22.649Z"
   },
   {
    "duration": 38,
    "start_time": "2023-03-30T13:13:22.661Z"
   },
   {
    "duration": 13,
    "start_time": "2023-03-30T13:13:22.701Z"
   },
   {
    "duration": 201,
    "start_time": "2023-03-30T13:13:22.724Z"
   },
   {
    "duration": 5,
    "start_time": "2023-03-30T13:13:22.927Z"
   },
   {
    "duration": 12,
    "start_time": "2023-03-30T13:13:22.934Z"
   },
   {
    "duration": 6,
    "start_time": "2023-03-30T13:13:22.948Z"
   },
   {
    "duration": 30,
    "start_time": "2023-03-30T13:13:22.955Z"
   },
   {
    "duration": 5,
    "start_time": "2023-03-30T13:13:22.987Z"
   },
   {
    "duration": 31,
    "start_time": "2023-03-30T13:13:22.994Z"
   },
   {
    "duration": 12,
    "start_time": "2023-03-30T13:13:23.026Z"
   },
   {
    "duration": 17,
    "start_time": "2023-03-30T13:13:23.040Z"
   },
   {
    "duration": 14,
    "start_time": "2023-03-30T13:13:23.059Z"
   },
   {
    "duration": 18,
    "start_time": "2023-03-30T13:13:23.075Z"
   },
   {
    "duration": 31,
    "start_time": "2023-03-30T13:13:23.095Z"
   },
   {
    "duration": 19,
    "start_time": "2023-03-30T13:13:23.128Z"
   },
   {
    "duration": 74,
    "start_time": "2023-03-30T13:13:23.149Z"
   },
   {
    "duration": 88153,
    "start_time": "2023-03-30T13:13:23.225Z"
   },
   {
    "duration": 8,
    "start_time": "2023-03-30T13:14:51.380Z"
   },
   {
    "duration": 27,
    "start_time": "2023-03-30T13:14:51.390Z"
   },
   {
    "duration": 32,
    "start_time": "2023-03-30T13:14:51.419Z"
   },
   {
    "duration": 33,
    "start_time": "2023-03-30T13:15:30.970Z"
   },
   {
    "duration": 136,
    "start_time": "2023-03-30T13:15:48.158Z"
   },
   {
    "duration": 28,
    "start_time": "2023-03-30T13:15:51.430Z"
   },
   {
    "duration": 108,
    "start_time": "2023-03-30T13:16:20.595Z"
   },
   {
    "duration": 109,
    "start_time": "2023-03-30T13:16:27.052Z"
   },
   {
    "duration": 51,
    "start_time": "2023-03-30T13:21:14.205Z"
   },
   {
    "duration": 118796,
    "start_time": "2023-03-30T13:21:29.232Z"
   },
   {
    "duration": 29,
    "start_time": "2023-03-30T13:23:28.030Z"
   },
   {
    "duration": 4,
    "start_time": "2023-03-30T13:26:26.169Z"
   },
   {
    "duration": 15,
    "start_time": "2023-03-30T13:26:26.572Z"
   },
   {
    "duration": 15,
    "start_time": "2023-03-30T13:26:29.379Z"
   },
   {
    "duration": 51097,
    "start_time": "2023-03-30T13:26:31.055Z"
   },
   {
    "duration": 97,
    "start_time": "2023-03-30T13:27:41.927Z"
   },
   {
    "duration": 252,
    "start_time": "2023-03-30T13:27:42.284Z"
   },
   {
    "duration": 85,
    "start_time": "2023-03-30T13:27:52.626Z"
   },
   {
    "duration": 237,
    "start_time": "2023-03-30T13:27:53.074Z"
   },
   {
    "duration": 274,
    "start_time": "2023-03-30T13:27:56.139Z"
   },
   {
    "duration": 86,
    "start_time": "2023-03-30T13:30:16.877Z"
   },
   {
    "duration": 72,
    "start_time": "2023-03-30T13:31:10.575Z"
   },
   {
    "duration": 86,
    "start_time": "2023-03-30T13:31:14.770Z"
   },
   {
    "duration": 96,
    "start_time": "2023-03-30T13:32:02.692Z"
   },
   {
    "duration": 192,
    "start_time": "2023-03-30T13:32:07.653Z"
   },
   {
    "duration": 309,
    "start_time": "2023-03-30T13:32:41.916Z"
   },
   {
    "duration": 17,
    "start_time": "2023-03-30T13:33:30.930Z"
   },
   {
    "duration": 30,
    "start_time": "2023-03-30T13:33:50.383Z"
   },
   {
    "duration": 24,
    "start_time": "2023-03-30T13:34:01.933Z"
   },
   {
    "duration": 21,
    "start_time": "2023-03-30T13:34:12.228Z"
   }
  ],
  "kernelspec": {
   "display_name": "Python 3 (ipykernel)",
   "language": "python",
   "name": "python3"
  },
  "language_info": {
   "codemirror_mode": {
    "name": "ipython",
    "version": 3
   },
   "file_extension": ".py",
   "mimetype": "text/x-python",
   "name": "python",
   "nbconvert_exporter": "python",
   "pygments_lexer": "ipython3",
   "version": "3.11.4"
  },
  "toc": {
   "base_numbering": 1,
   "nav_menu": {},
   "number_sections": true,
   "sideBar": true,
   "skip_h1_title": true,
   "title_cell": "Содержание",
   "title_sidebar": "Contents",
   "toc_cell": true,
   "toc_position": {
    "height": "calc(100% - 180px)",
    "left": "10px",
    "top": "150px",
    "width": "268.475px"
   },
   "toc_section_display": true,
   "toc_window_display": false
  }
 },
 "nbformat": 4,
 "nbformat_minor": 2
}
