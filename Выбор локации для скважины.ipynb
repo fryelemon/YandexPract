{
 "cells": [
  {
   "cell_type": "markdown",
   "metadata": {},
   "source": [
    "# Выбор локации для скважины"
   ]
  },
  {
   "cell_type": "markdown",
   "metadata": {},
   "source": [
    "Допустим, вы работаете в добывающей компании «ГлавРосГосНефть». Нужно решить, где бурить новую скважину.\n",
    "\n",
    "Вам предоставлены пробы нефти в трёх регионах: в каждом 10 000 месторождений, где измерили качество нефти и объём её запасов. Постройте модель машинного обучения, которая поможет определить регион, где добыча принесёт наибольшую прибыль. Проанализируйте возможную прибыль и риски техникой *Bootstrap.*\n",
    "\n",
    "Шаги для выбора локации:\n",
    "\n",
    "- В избранном регионе ищут месторождения, для каждого определяют значения признаков;\n",
    "- Строят модель и оценивают объём запасов;\n",
    "- Выбирают месторождения с самым высокими оценками значений. Количество месторождений зависит от бюджета компании и стоимости разработки одной скважины;\n",
    "- Прибыль равна суммарной прибыли отобранных месторождений."
   ]
  },
  {
   "cell_type": "code",
   "execution_count": 1,
   "metadata": {},
   "outputs": [],
   "source": [
    "# Для работы с данными\n",
    "import pandas as pd\n",
    "import numpy as np\n",
    "from scipy import stats as st \n",
    "\n",
    "# Для обучения модели\n",
    "from sklearn.model_selection import train_test_split\n",
    "from sklearn.linear_model import LinearRegression\n",
    "\n",
    "# Для оценки модели\n",
    "from sklearn.metrics import mean_squared_error\n",
    "from sklearn.metrics import r2_score"
   ]
  },
  {
   "cell_type": "code",
   "execution_count": 2,
   "metadata": {},
   "outputs": [],
   "source": [
    "import warnings\n",
    "warnings.filterwarnings('ignore')  # \"error\", \"ignore\", \"always\", \"default\", \"module\" or \"once\""
   ]
  },
  {
   "cell_type": "markdown",
   "metadata": {},
   "source": [
    "## Загрузка и подготовка данных"
   ]
  },
  {
   "cell_type": "markdown",
   "metadata": {},
   "source": [
    "Нахожу нецелесообразным объединять регионы, так как обучать модель и проверять ее будем отдельно на каждом."
   ]
  },
  {
   "cell_type": "code",
   "execution_count": 3,
   "metadata": {},
   "outputs": [],
   "source": [
    "# Загрузим данные в словарь, ключем же будет индекс региона\n",
    "data = {}\n",
    "\n",
    "data[0] = pd.read_csv('/datasets/geo_data_0.csv')\n",
    "data[1] = pd.read_csv('/datasets/geo_data_1.csv')\n",
    "data[2] = pd.read_csv('/datasets/geo_data_2.csv')"
   ]
  },
  {
   "cell_type": "markdown",
   "metadata": {},
   "source": [
    "### Изучение данных"
   ]
  },
  {
   "cell_type": "code",
   "execution_count": 4,
   "metadata": {},
   "outputs": [
    {
     "data": {
      "text/html": [
       "<div>\n",
       "<style scoped>\n",
       "    .dataframe tbody tr th:only-of-type {\n",
       "        vertical-align: middle;\n",
       "    }\n",
       "\n",
       "    .dataframe tbody tr th {\n",
       "        vertical-align: top;\n",
       "    }\n",
       "\n",
       "    .dataframe thead th {\n",
       "        text-align: right;\n",
       "    }\n",
       "</style>\n",
       "<table border=\"1\" class=\"dataframe\">\n",
       "  <thead>\n",
       "    <tr style=\"text-align: right;\">\n",
       "      <th></th>\n",
       "      <th>id</th>\n",
       "      <th>f0</th>\n",
       "      <th>f1</th>\n",
       "      <th>f2</th>\n",
       "      <th>product</th>\n",
       "    </tr>\n",
       "  </thead>\n",
       "  <tbody>\n",
       "    <tr>\n",
       "      <th>0</th>\n",
       "      <td>txEyH</td>\n",
       "      <td>0.705745</td>\n",
       "      <td>-0.497823</td>\n",
       "      <td>1.221170</td>\n",
       "      <td>105.280062</td>\n",
       "    </tr>\n",
       "    <tr>\n",
       "      <th>1</th>\n",
       "      <td>2acmU</td>\n",
       "      <td>1.334711</td>\n",
       "      <td>-0.340164</td>\n",
       "      <td>4.365080</td>\n",
       "      <td>73.037750</td>\n",
       "    </tr>\n",
       "    <tr>\n",
       "      <th>2</th>\n",
       "      <td>409Wp</td>\n",
       "      <td>1.022732</td>\n",
       "      <td>0.151990</td>\n",
       "      <td>1.419926</td>\n",
       "      <td>85.265647</td>\n",
       "    </tr>\n",
       "    <tr>\n",
       "      <th>3</th>\n",
       "      <td>iJLyR</td>\n",
       "      <td>-0.032172</td>\n",
       "      <td>0.139033</td>\n",
       "      <td>2.978566</td>\n",
       "      <td>168.620776</td>\n",
       "    </tr>\n",
       "    <tr>\n",
       "      <th>4</th>\n",
       "      <td>Xdl7t</td>\n",
       "      <td>1.988431</td>\n",
       "      <td>0.155413</td>\n",
       "      <td>4.751769</td>\n",
       "      <td>154.036647</td>\n",
       "    </tr>\n",
       "  </tbody>\n",
       "</table>\n",
       "</div>"
      ],
      "text/plain": [
       "      id        f0        f1        f2     product\n",
       "0  txEyH  0.705745 -0.497823  1.221170  105.280062\n",
       "1  2acmU  1.334711 -0.340164  4.365080   73.037750\n",
       "2  409Wp  1.022732  0.151990  1.419926   85.265647\n",
       "3  iJLyR -0.032172  0.139033  2.978566  168.620776\n",
       "4  Xdl7t  1.988431  0.155413  4.751769  154.036647"
      ]
     },
     "metadata": {},
     "output_type": "display_data"
    },
    {
     "data": {
      "text/html": [
       "<div>\n",
       "<style scoped>\n",
       "    .dataframe tbody tr th:only-of-type {\n",
       "        vertical-align: middle;\n",
       "    }\n",
       "\n",
       "    .dataframe tbody tr th {\n",
       "        vertical-align: top;\n",
       "    }\n",
       "\n",
       "    .dataframe thead th {\n",
       "        text-align: right;\n",
       "    }\n",
       "</style>\n",
       "<table border=\"1\" class=\"dataframe\">\n",
       "  <thead>\n",
       "    <tr style=\"text-align: right;\">\n",
       "      <th></th>\n",
       "      <th>id</th>\n",
       "      <th>f0</th>\n",
       "      <th>f1</th>\n",
       "      <th>f2</th>\n",
       "      <th>product</th>\n",
       "    </tr>\n",
       "  </thead>\n",
       "  <tbody>\n",
       "    <tr>\n",
       "      <th>0</th>\n",
       "      <td>kBEdx</td>\n",
       "      <td>-15.001348</td>\n",
       "      <td>-8.276000</td>\n",
       "      <td>-0.005876</td>\n",
       "      <td>3.179103</td>\n",
       "    </tr>\n",
       "    <tr>\n",
       "      <th>1</th>\n",
       "      <td>62mP7</td>\n",
       "      <td>14.272088</td>\n",
       "      <td>-3.475083</td>\n",
       "      <td>0.999183</td>\n",
       "      <td>26.953261</td>\n",
       "    </tr>\n",
       "    <tr>\n",
       "      <th>2</th>\n",
       "      <td>vyE1P</td>\n",
       "      <td>6.263187</td>\n",
       "      <td>-5.948386</td>\n",
       "      <td>5.001160</td>\n",
       "      <td>134.766305</td>\n",
       "    </tr>\n",
       "    <tr>\n",
       "      <th>3</th>\n",
       "      <td>KcrkZ</td>\n",
       "      <td>-13.081196</td>\n",
       "      <td>-11.506057</td>\n",
       "      <td>4.999415</td>\n",
       "      <td>137.945408</td>\n",
       "    </tr>\n",
       "    <tr>\n",
       "      <th>4</th>\n",
       "      <td>AHL4O</td>\n",
       "      <td>12.702195</td>\n",
       "      <td>-8.147433</td>\n",
       "      <td>5.004363</td>\n",
       "      <td>134.766305</td>\n",
       "    </tr>\n",
       "  </tbody>\n",
       "</table>\n",
       "</div>"
      ],
      "text/plain": [
       "      id         f0         f1        f2     product\n",
       "0  kBEdx -15.001348  -8.276000 -0.005876    3.179103\n",
       "1  62mP7  14.272088  -3.475083  0.999183   26.953261\n",
       "2  vyE1P   6.263187  -5.948386  5.001160  134.766305\n",
       "3  KcrkZ -13.081196 -11.506057  4.999415  137.945408\n",
       "4  AHL4O  12.702195  -8.147433  5.004363  134.766305"
      ]
     },
     "metadata": {},
     "output_type": "display_data"
    },
    {
     "data": {
      "text/html": [
       "<div>\n",
       "<style scoped>\n",
       "    .dataframe tbody tr th:only-of-type {\n",
       "        vertical-align: middle;\n",
       "    }\n",
       "\n",
       "    .dataframe tbody tr th {\n",
       "        vertical-align: top;\n",
       "    }\n",
       "\n",
       "    .dataframe thead th {\n",
       "        text-align: right;\n",
       "    }\n",
       "</style>\n",
       "<table border=\"1\" class=\"dataframe\">\n",
       "  <thead>\n",
       "    <tr style=\"text-align: right;\">\n",
       "      <th></th>\n",
       "      <th>id</th>\n",
       "      <th>f0</th>\n",
       "      <th>f1</th>\n",
       "      <th>f2</th>\n",
       "      <th>product</th>\n",
       "    </tr>\n",
       "  </thead>\n",
       "  <tbody>\n",
       "    <tr>\n",
       "      <th>0</th>\n",
       "      <td>fwXo0</td>\n",
       "      <td>-1.146987</td>\n",
       "      <td>0.963328</td>\n",
       "      <td>-0.828965</td>\n",
       "      <td>27.758673</td>\n",
       "    </tr>\n",
       "    <tr>\n",
       "      <th>1</th>\n",
       "      <td>WJtFt</td>\n",
       "      <td>0.262778</td>\n",
       "      <td>0.269839</td>\n",
       "      <td>-2.530187</td>\n",
       "      <td>56.069697</td>\n",
       "    </tr>\n",
       "    <tr>\n",
       "      <th>2</th>\n",
       "      <td>ovLUW</td>\n",
       "      <td>0.194587</td>\n",
       "      <td>0.289035</td>\n",
       "      <td>-5.586433</td>\n",
       "      <td>62.871910</td>\n",
       "    </tr>\n",
       "    <tr>\n",
       "      <th>3</th>\n",
       "      <td>q6cA6</td>\n",
       "      <td>2.236060</td>\n",
       "      <td>-0.553760</td>\n",
       "      <td>0.930038</td>\n",
       "      <td>114.572842</td>\n",
       "    </tr>\n",
       "    <tr>\n",
       "      <th>4</th>\n",
       "      <td>WPMUX</td>\n",
       "      <td>-0.515993</td>\n",
       "      <td>1.716266</td>\n",
       "      <td>5.899011</td>\n",
       "      <td>149.600746</td>\n",
       "    </tr>\n",
       "  </tbody>\n",
       "</table>\n",
       "</div>"
      ],
      "text/plain": [
       "      id        f0        f1        f2     product\n",
       "0  fwXo0 -1.146987  0.963328 -0.828965   27.758673\n",
       "1  WJtFt  0.262778  0.269839 -2.530187   56.069697\n",
       "2  ovLUW  0.194587  0.289035 -5.586433   62.871910\n",
       "3  q6cA6  2.236060 -0.553760  0.930038  114.572842\n",
       "4  WPMUX -0.515993  1.716266  5.899011  149.600746"
      ]
     },
     "metadata": {},
     "output_type": "display_data"
    }
   ],
   "source": [
    "for region in data:\n",
    "    display(data[region].head())"
   ]
  },
  {
   "cell_type": "markdown",
   "metadata": {},
   "source": [
    "Есть столбец *id*. Он не понадобится при обучении модели, потому впоследствии избавимся от него."
   ]
  },
  {
   "cell_type": "code",
   "execution_count": 5,
   "metadata": {},
   "outputs": [
    {
     "name": "stdout",
     "output_type": "stream",
     "text": [
      "<class 'pandas.core.frame.DataFrame'>\n",
      "RangeIndex: 100000 entries, 0 to 99999\n",
      "Data columns (total 5 columns):\n",
      " #   Column   Non-Null Count   Dtype  \n",
      "---  ------   --------------   -----  \n",
      " 0   id       100000 non-null  object \n",
      " 1   f0       100000 non-null  float64\n",
      " 2   f1       100000 non-null  float64\n",
      " 3   f2       100000 non-null  float64\n",
      " 4   product  100000 non-null  float64\n",
      "dtypes: float64(4), object(1)\n",
      "memory usage: 3.8+ MB\n",
      "<class 'pandas.core.frame.DataFrame'>\n",
      "RangeIndex: 100000 entries, 0 to 99999\n",
      "Data columns (total 5 columns):\n",
      " #   Column   Non-Null Count   Dtype  \n",
      "---  ------   --------------   -----  \n",
      " 0   id       100000 non-null  object \n",
      " 1   f0       100000 non-null  float64\n",
      " 2   f1       100000 non-null  float64\n",
      " 3   f2       100000 non-null  float64\n",
      " 4   product  100000 non-null  float64\n",
      "dtypes: float64(4), object(1)\n",
      "memory usage: 3.8+ MB\n",
      "<class 'pandas.core.frame.DataFrame'>\n",
      "RangeIndex: 100000 entries, 0 to 99999\n",
      "Data columns (total 5 columns):\n",
      " #   Column   Non-Null Count   Dtype  \n",
      "---  ------   --------------   -----  \n",
      " 0   id       100000 non-null  object \n",
      " 1   f0       100000 non-null  float64\n",
      " 2   f1       100000 non-null  float64\n",
      " 3   f2       100000 non-null  float64\n",
      " 4   product  100000 non-null  float64\n",
      "dtypes: float64(4), object(1)\n",
      "memory usage: 3.8+ MB\n"
     ]
    }
   ],
   "source": [
    "for region in data:\n",
    "    data[region].info()"
   ]
  },
  {
   "cell_type": "markdown",
   "metadata": {},
   "source": [
    "Не похоже, что есть очевидные пропуски."
   ]
  },
  {
   "cell_type": "code",
   "execution_count": 6,
   "metadata": {},
   "outputs": [
    {
     "data": {
      "text/html": [
       "<div>\n",
       "<style scoped>\n",
       "    .dataframe tbody tr th:only-of-type {\n",
       "        vertical-align: middle;\n",
       "    }\n",
       "\n",
       "    .dataframe tbody tr th {\n",
       "        vertical-align: top;\n",
       "    }\n",
       "\n",
       "    .dataframe thead th {\n",
       "        text-align: right;\n",
       "    }\n",
       "</style>\n",
       "<table border=\"1\" class=\"dataframe\">\n",
       "  <thead>\n",
       "    <tr style=\"text-align: right;\">\n",
       "      <th></th>\n",
       "      <th>count</th>\n",
       "      <th>mean</th>\n",
       "      <th>std</th>\n",
       "      <th>min</th>\n",
       "      <th>25%</th>\n",
       "      <th>50%</th>\n",
       "      <th>75%</th>\n",
       "      <th>max</th>\n",
       "    </tr>\n",
       "  </thead>\n",
       "  <tbody>\n",
       "    <tr>\n",
       "      <th>f0</th>\n",
       "      <td>100000.0</td>\n",
       "      <td>0.500419</td>\n",
       "      <td>0.871832</td>\n",
       "      <td>-1.408605</td>\n",
       "      <td>-0.072580</td>\n",
       "      <td>0.502360</td>\n",
       "      <td>1.073581</td>\n",
       "      <td>2.362331</td>\n",
       "    </tr>\n",
       "    <tr>\n",
       "      <th>f1</th>\n",
       "      <td>100000.0</td>\n",
       "      <td>0.250143</td>\n",
       "      <td>0.504433</td>\n",
       "      <td>-0.848218</td>\n",
       "      <td>-0.200881</td>\n",
       "      <td>0.250252</td>\n",
       "      <td>0.700646</td>\n",
       "      <td>1.343769</td>\n",
       "    </tr>\n",
       "    <tr>\n",
       "      <th>f2</th>\n",
       "      <td>100000.0</td>\n",
       "      <td>2.502647</td>\n",
       "      <td>3.248248</td>\n",
       "      <td>-12.088328</td>\n",
       "      <td>0.287748</td>\n",
       "      <td>2.515969</td>\n",
       "      <td>4.715088</td>\n",
       "      <td>16.003790</td>\n",
       "    </tr>\n",
       "    <tr>\n",
       "      <th>product</th>\n",
       "      <td>100000.0</td>\n",
       "      <td>92.500000</td>\n",
       "      <td>44.288691</td>\n",
       "      <td>0.000000</td>\n",
       "      <td>56.497507</td>\n",
       "      <td>91.849972</td>\n",
       "      <td>128.564089</td>\n",
       "      <td>185.364347</td>\n",
       "    </tr>\n",
       "  </tbody>\n",
       "</table>\n",
       "</div>"
      ],
      "text/plain": [
       "            count       mean        std        min        25%        50%  \\\n",
       "f0       100000.0   0.500419   0.871832  -1.408605  -0.072580   0.502360   \n",
       "f1       100000.0   0.250143   0.504433  -0.848218  -0.200881   0.250252   \n",
       "f2       100000.0   2.502647   3.248248 -12.088328   0.287748   2.515969   \n",
       "product  100000.0  92.500000  44.288691   0.000000  56.497507  91.849972   \n",
       "\n",
       "                75%         max  \n",
       "f0         1.073581    2.362331  \n",
       "f1         0.700646    1.343769  \n",
       "f2         4.715088   16.003790  \n",
       "product  128.564089  185.364347  "
      ]
     },
     "execution_count": 6,
     "metadata": {},
     "output_type": "execute_result"
    }
   ],
   "source": [
    "data[0].describe().T"
   ]
  },
  {
   "cell_type": "code",
   "execution_count": 7,
   "metadata": {},
   "outputs": [
    {
     "name": "stdout",
     "output_type": "stream",
     "text": [
      "0\t0\t0\t"
     ]
    }
   ],
   "source": [
    "for region in data:\n",
    "    print(data[region].shape[0] - data[region].drop_duplicates().shape[0], end='\\t')"
   ]
  },
  {
   "cell_type": "code",
   "execution_count": 8,
   "metadata": {},
   "outputs": [
    {
     "name": "stdout",
     "output_type": "stream",
     "text": [
      "10\t4\t4\t"
     ]
    }
   ],
   "source": [
    "for region in data:\n",
    "    print(data[region][data[region].duplicated(subset=['id'])].shape[0], end='\\t')"
   ]
  },
  {
   "cell_type": "markdown",
   "metadata": {},
   "source": [
    "Очевидных дубликатов тоже не обнаружено, дубликатов по *id* мало, потому не оставим как есть."
   ]
  },
  {
   "cell_type": "markdown",
   "metadata": {},
   "source": [
    "Создадим дублирующий датафрейм, но без id."
   ]
  },
  {
   "cell_type": "code",
   "execution_count": 9,
   "metadata": {},
   "outputs": [],
   "source": [
    "train_data = {}\n",
    "for region in data:\n",
    "    train_data[region] = data[region].drop(['id'], axis=1)"
   ]
  },
  {
   "cell_type": "code",
   "execution_count": 10,
   "metadata": {
    "scrolled": true
   },
   "outputs": [
    {
     "data": {
      "text/html": [
       "<div>\n",
       "<style scoped>\n",
       "    .dataframe tbody tr th:only-of-type {\n",
       "        vertical-align: middle;\n",
       "    }\n",
       "\n",
       "    .dataframe tbody tr th {\n",
       "        vertical-align: top;\n",
       "    }\n",
       "\n",
       "    .dataframe thead th {\n",
       "        text-align: right;\n",
       "    }\n",
       "</style>\n",
       "<table border=\"1\" class=\"dataframe\">\n",
       "  <thead>\n",
       "    <tr style=\"text-align: right;\">\n",
       "      <th></th>\n",
       "      <th>f0</th>\n",
       "      <th>f1</th>\n",
       "      <th>f2</th>\n",
       "      <th>product</th>\n",
       "    </tr>\n",
       "  </thead>\n",
       "  <tbody>\n",
       "    <tr>\n",
       "      <th>0</th>\n",
       "      <td>0.705745</td>\n",
       "      <td>-0.497823</td>\n",
       "      <td>1.22117</td>\n",
       "      <td>105.280062</td>\n",
       "    </tr>\n",
       "  </tbody>\n",
       "</table>\n",
       "</div>"
      ],
      "text/plain": [
       "         f0        f1       f2     product\n",
       "0  0.705745 -0.497823  1.22117  105.280062"
      ]
     },
     "metadata": {},
     "output_type": "display_data"
    },
    {
     "data": {
      "text/html": [
       "<div>\n",
       "<style scoped>\n",
       "    .dataframe tbody tr th:only-of-type {\n",
       "        vertical-align: middle;\n",
       "    }\n",
       "\n",
       "    .dataframe tbody tr th {\n",
       "        vertical-align: top;\n",
       "    }\n",
       "\n",
       "    .dataframe thead th {\n",
       "        text-align: right;\n",
       "    }\n",
       "</style>\n",
       "<table border=\"1\" class=\"dataframe\">\n",
       "  <thead>\n",
       "    <tr style=\"text-align: right;\">\n",
       "      <th></th>\n",
       "      <th>f0</th>\n",
       "      <th>f1</th>\n",
       "      <th>f2</th>\n",
       "      <th>product</th>\n",
       "    </tr>\n",
       "  </thead>\n",
       "  <tbody>\n",
       "    <tr>\n",
       "      <th>0</th>\n",
       "      <td>-15.001348</td>\n",
       "      <td>-8.276</td>\n",
       "      <td>-0.005876</td>\n",
       "      <td>3.179103</td>\n",
       "    </tr>\n",
       "  </tbody>\n",
       "</table>\n",
       "</div>"
      ],
      "text/plain": [
       "          f0     f1        f2   product\n",
       "0 -15.001348 -8.276 -0.005876  3.179103"
      ]
     },
     "metadata": {},
     "output_type": "display_data"
    },
    {
     "data": {
      "text/html": [
       "<div>\n",
       "<style scoped>\n",
       "    .dataframe tbody tr th:only-of-type {\n",
       "        vertical-align: middle;\n",
       "    }\n",
       "\n",
       "    .dataframe tbody tr th {\n",
       "        vertical-align: top;\n",
       "    }\n",
       "\n",
       "    .dataframe thead th {\n",
       "        text-align: right;\n",
       "    }\n",
       "</style>\n",
       "<table border=\"1\" class=\"dataframe\">\n",
       "  <thead>\n",
       "    <tr style=\"text-align: right;\">\n",
       "      <th></th>\n",
       "      <th>f0</th>\n",
       "      <th>f1</th>\n",
       "      <th>f2</th>\n",
       "      <th>product</th>\n",
       "    </tr>\n",
       "  </thead>\n",
       "  <tbody>\n",
       "    <tr>\n",
       "      <th>0</th>\n",
       "      <td>-1.146987</td>\n",
       "      <td>0.963328</td>\n",
       "      <td>-0.828965</td>\n",
       "      <td>27.758673</td>\n",
       "    </tr>\n",
       "  </tbody>\n",
       "</table>\n",
       "</div>"
      ],
      "text/plain": [
       "         f0        f1        f2    product\n",
       "0 -1.146987  0.963328 -0.828965  27.758673"
      ]
     },
     "metadata": {},
     "output_type": "display_data"
    }
   ],
   "source": [
    "for region in data:\n",
    "    display(train_data[region].head(1))"
   ]
  },
  {
   "cell_type": "markdown",
   "metadata": {},
   "source": [
    "### Разделение данных"
   ]
  },
  {
   "cell_type": "code",
   "execution_count": 11,
   "metadata": {},
   "outputs": [],
   "source": [
    "target = {}\n",
    "features = {}\n",
    "\n",
    "for region in train_data:\n",
    "    target[region] = train_data[region]['product']\n",
    "    features[region] = train_data[region].drop(['product'], axis=1)"
   ]
  },
  {
   "cell_type": "code",
   "execution_count": 12,
   "metadata": {},
   "outputs": [
    {
     "data": {
      "text/plain": [
       "0    105.280062\n",
       "1     73.037750\n",
       "2     85.265647\n",
       "3    168.620776\n",
       "4    154.036647\n",
       "Name: product, dtype: float64"
      ]
     },
     "execution_count": 12,
     "metadata": {},
     "output_type": "execute_result"
    }
   ],
   "source": [
    "target[0].head()"
   ]
  },
  {
   "cell_type": "code",
   "execution_count": 13,
   "metadata": {},
   "outputs": [
    {
     "data": {
      "text/html": [
       "<div>\n",
       "<style scoped>\n",
       "    .dataframe tbody tr th:only-of-type {\n",
       "        vertical-align: middle;\n",
       "    }\n",
       "\n",
       "    .dataframe tbody tr th {\n",
       "        vertical-align: top;\n",
       "    }\n",
       "\n",
       "    .dataframe thead th {\n",
       "        text-align: right;\n",
       "    }\n",
       "</style>\n",
       "<table border=\"1\" class=\"dataframe\">\n",
       "  <thead>\n",
       "    <tr style=\"text-align: right;\">\n",
       "      <th></th>\n",
       "      <th>f0</th>\n",
       "      <th>f1</th>\n",
       "      <th>f2</th>\n",
       "    </tr>\n",
       "  </thead>\n",
       "  <tbody>\n",
       "    <tr>\n",
       "      <th>0</th>\n",
       "      <td>0.705745</td>\n",
       "      <td>-0.497823</td>\n",
       "      <td>1.221170</td>\n",
       "    </tr>\n",
       "    <tr>\n",
       "      <th>1</th>\n",
       "      <td>1.334711</td>\n",
       "      <td>-0.340164</td>\n",
       "      <td>4.365080</td>\n",
       "    </tr>\n",
       "    <tr>\n",
       "      <th>2</th>\n",
       "      <td>1.022732</td>\n",
       "      <td>0.151990</td>\n",
       "      <td>1.419926</td>\n",
       "    </tr>\n",
       "    <tr>\n",
       "      <th>3</th>\n",
       "      <td>-0.032172</td>\n",
       "      <td>0.139033</td>\n",
       "      <td>2.978566</td>\n",
       "    </tr>\n",
       "    <tr>\n",
       "      <th>4</th>\n",
       "      <td>1.988431</td>\n",
       "      <td>0.155413</td>\n",
       "      <td>4.751769</td>\n",
       "    </tr>\n",
       "  </tbody>\n",
       "</table>\n",
       "</div>"
      ],
      "text/plain": [
       "         f0        f1        f2\n",
       "0  0.705745 -0.497823  1.221170\n",
       "1  1.334711 -0.340164  4.365080\n",
       "2  1.022732  0.151990  1.419926\n",
       "3 -0.032172  0.139033  2.978566\n",
       "4  1.988431  0.155413  4.751769"
      ]
     },
     "execution_count": 13,
     "metadata": {},
     "output_type": "execute_result"
    }
   ],
   "source": [
    "features[0].head()"
   ]
  },
  {
   "cell_type": "markdown",
   "metadata": {},
   "source": [
    "Данные будем делить 3 к 1."
   ]
  },
  {
   "cell_type": "code",
   "execution_count": 14,
   "metadata": {},
   "outputs": [],
   "source": [
    "target_train = {}\n",
    "features_train = {}\n",
    "\n",
    "target_valid = {}\n",
    "features_valid = {}\n",
    "\n",
    "# Просто пройдемся по регионам и для каждого разделим\n",
    "for region in train_data:\n",
    "    features_train[region], features_valid[region], target_train[region], target_valid[region] = (\n",
    "        train_test_split(features[region], target[region], test_size=0.25, random_state=12345, shuffle = True)\n",
    "    )"
   ]
  },
  {
   "cell_type": "code",
   "execution_count": 15,
   "metadata": {},
   "outputs": [
    {
     "data": {
      "text/plain": [
       "((75000,), (25000,))"
      ]
     },
     "execution_count": 15,
     "metadata": {},
     "output_type": "execute_result"
    }
   ],
   "source": [
    "target_train[0].shape, target_valid[0].shape"
   ]
  },
  {
   "cell_type": "markdown",
   "metadata": {},
   "source": [
    "### Промежуточный итог"
   ]
  },
  {
   "cell_type": "markdown",
   "metadata": {},
   "source": [
    "Изучили данные. Пропусков не найдено. Полных дубликатов нет. Дубликатов по *id* почти нет, потому было решено их оставить. Сам столбец *id* лишь помешает обучению модели, потому от него мы избавились. Данные  разделили для каждого региона на валидационный датасет и тренировочный(75:25)."
   ]
  },
  {
   "cell_type": "markdown",
   "metadata": {},
   "source": [
    "## Обучение и проверка модели"
   ]
  },
  {
   "cell_type": "markdown",
   "metadata": {},
   "source": [
    "Обучать мы будем для каждого региона, потому добавим функцию для удобного обучения."
   ]
  },
  {
   "cell_type": "code",
   "execution_count": 16,
   "metadata": {},
   "outputs": [],
   "source": [
    "def lin_model(features, target):\n",
    "    model = LinearRegression()\n",
    "    model.fit(features, target)\n",
    "    \n",
    "    return model"
   ]
  },
  {
   "cell_type": "code",
   "execution_count": 17,
   "metadata": {},
   "outputs": [],
   "source": [
    "# Для оценки работы модели добавим параметры.\n",
    "def param(target, predict):\n",
    "    print('Средний предсказанный запас сырья:', predict.mean())\n",
    "    print('Средний реальный запас сырья:', target.mean())\n",
    "    print('MSE:', mean_squared_error(target, predict))\n",
    "    print('RMSE:', mean_squared_error(target, predict) ** 0.5)\n",
    "    print('R2:', r2_score(target, predict))\n",
    "    print('\\n')"
   ]
  },
  {
   "cell_type": "markdown",
   "metadata": {},
   "source": [
    "### Обучение и тестирование модели"
   ]
  },
  {
   "cell_type": "code",
   "execution_count": 18,
   "metadata": {},
   "outputs": [
    {
     "name": "stdout",
     "output_type": "stream",
     "text": [
      "Регион - 0\n",
      "Средний предсказанный запас сырья: 92.59256778438035\n",
      "Средний реальный запас сырья: 92.07859674082927\n",
      "MSE: 1412.2129364399243\n",
      "RMSE: 37.5794217150813\n",
      "R2: 0.27994321524487786\n",
      "\n",
      "\n",
      "Регион - 1\n",
      "Средний предсказанный запас сырья: 68.728546895446\n",
      "Средний реальный запас сырья: 68.72313602435997\n",
      "MSE: 0.7976263360391157\n",
      "RMSE: 0.893099286775617\n",
      "R2: 0.9996233978805127\n",
      "\n",
      "\n",
      "Регион - 2\n",
      "Средний предсказанный запас сырья: 94.96504596800489\n",
      "Средний реальный запас сырья: 94.88423280885438\n",
      "MSE: 1602.3775813236196\n",
      "RMSE: 40.02970873393434\n",
      "R2: 0.20524758386040443\n",
      "\n",
      "\n"
     ]
    }
   ],
   "source": [
    "prediction = {}\n",
    "for region in range(3):\n",
    "    print(f'Регион - {region}')\n",
    "    model = lin_model(features_train[region], target_train[region])\n",
    "    prediction[region] = pd.Series(model.predict(features_valid[region]), index=target_valid[region].index)\n",
    "    \n",
    "    param(target_valid[region], prediction[region])"
   ]
  },
  {
   "cell_type": "markdown",
   "metadata": {},
   "source": [
    "### Промежуточный вывод"
   ]
  },
  {
   "cell_type": "markdown",
   "metadata": {},
   "source": [
    "**0** и **2** регионы показывают примерно одинаковые результаты, но вот **1** регион показывает самые лучшие показатели (как модель), похоже параметр или параметры почти напрямую коррелировали с запасом сырья."
   ]
  },
  {
   "cell_type": "markdown",
   "metadata": {},
   "source": [
    "На первый взгляд по средним запасам самой перспективным выглядит **2-й регион**."
   ]
  },
  {
   "cell_type": "markdown",
   "metadata": {},
   "source": [
    "## Подготовка к расчёту прибыли"
   ]
  },
  {
   "cell_type": "markdown",
   "metadata": {},
   "source": [
    "### Прибыльность"
   ]
  },
  {
   "cell_type": "markdown",
   "metadata": {},
   "source": [
    "Наша цель исследовать 500 точек, из которых надо выбрать 200 лучших для разработки. Бюджет для разработки 10 млрд рублей. Один баррель стоит 450 рублей. Доход с каждой единицы продукта составляет 450 тыс. рублей, поскольку объём указан в тысячах баррелей."
   ]
  },
  {
   "cell_type": "code",
   "execution_count": 19,
   "metadata": {},
   "outputs": [],
   "source": [
    "BUDGET_OF_REGION = 10 * 10**9\n",
    "PRICE = 450 * 10**3\n",
    "BEST_SPOT = 200"
   ]
  },
  {
   "cell_type": "code",
   "execution_count": 20,
   "metadata": {},
   "outputs": [
    {
     "name": "stdout",
     "output_type": "stream",
     "text": [
      "Объем сырья для безубыточной разработки скважины: 111.11111111111111\n"
     ]
    }
   ],
   "source": [
    "print('Объем сырья для безубыточной разработки скважины:', BUDGET_OF_REGION / PRICE / BEST_SPOT)"
   ]
  },
  {
   "cell_type": "markdown",
   "metadata": {},
   "source": [
    "Сравним со средним объемом сырья по регионам."
   ]
  },
  {
   "cell_type": "code",
   "execution_count": 21,
   "metadata": {},
   "outputs": [
    {
     "name": "stdout",
     "output_type": "stream",
     "text": [
      "Средний объем запасов скважин в 0-м регионе:  92.50000000000001\n",
      "Средний объем запасов скважин в 1-м регионе:  68.82500000000002\n",
      "Средний объем запасов скважин в 2-м регионе:  95.00000000000004\n"
     ]
    }
   ],
   "source": [
    "print('Средний объем запасов скважин в 0-м регионе: ', target[0].mean())\n",
    "print('Средний объем запасов скважин в 1-м регионе: ', target[1].mean())\n",
    "print('Средний объем запасов скважин в 2-м регионе: ', target[2].mean())"
   ]
  },
  {
   "cell_type": "markdown",
   "metadata": {},
   "source": [
    "### Промежуточный вывод"
   ]
  },
  {
   "cell_type": "markdown",
   "metadata": {},
   "source": [
    "Средний объем значительно ниже во всех регионах, чем необходимое кол-во для безубыточной разработки."
   ]
  },
  {
   "cell_type": "markdown",
   "metadata": {},
   "source": [
    "Интересно, что в **1** регионе гораздо ниже средний объем запасов скважин, чем 111. Однако в этом именно по этому региону наша модель прогнозирует лучше всего.\n"
   ]
  },
  {
   "cell_type": "markdown",
   "metadata": {},
   "source": [
    "## Расчёт прибыли и рисков "
   ]
  },
  {
   "cell_type": "code",
   "execution_count": 22,
   "metadata": {},
   "outputs": [],
   "source": [
    "# Прибыль для выбранных скважин\n",
    "def revenue(target, predictions, cost, count):\n",
    "    probs_sorted = predictions.sort_values(ascending=False)\n",
    "    deposits = target[probs_sorted.index][:count]\n",
    "    return cost * deposits.sum() - BUDGET_OF_REGION"
   ]
  },
  {
   "cell_type": "code",
   "execution_count": 23,
   "metadata": {},
   "outputs": [],
   "source": [
    "def bootstrap(target, predictions):\n",
    "    state = np.random.RandomState(12345)\n",
    "\n",
    "    values = []\n",
    "    for i in range(1000):\n",
    "        target_subsample = target.sample(n=500, replace=True, random_state=state)\n",
    "        probs_subsample = predictions[target_subsample.index]\n",
    "    \n",
    "        values.append(revenue(target_subsample, probs_subsample, PRICE, 200))\n",
    "\n",
    "    values = pd.Series(values)\n",
    "    return values "
   ]
  },
  {
   "cell_type": "markdown",
   "metadata": {},
   "source": [
    "### Расчет прибыли"
   ]
  },
  {
   "cell_type": "code",
   "execution_count": 24,
   "metadata": {},
   "outputs": [],
   "source": [
    "distribution = {}\n",
    "\n",
    "for region in range(3):\n",
    "    distribution[region] = bootstrap(target_valid[region], prediction[region])"
   ]
  },
  {
   "cell_type": "code",
   "execution_count": 25,
   "metadata": {},
   "outputs": [],
   "source": [
    "# Сюда будем записывать распределение по регионам\n",
    "results = pd.DataFrame(columns=['Регион', 'Средняя прибыль', '95%-й Доверительный интервал', 'Риск убытков'])"
   ]
  },
  {
   "cell_type": "markdown",
   "metadata": {},
   "source": [
    "Будем проходится *Бутстрепом* по регионам и записывать результаты."
   ]
  },
  {
   "cell_type": "code",
   "execution_count": 26,
   "metadata": {},
   "outputs": [],
   "source": [
    "for region in range(3):\n",
    "    results.loc[region, 'Регион'] =  f'{region}-й регион'\n",
    "    results.loc[region, 'Средняя прибыль'] = round(distribution[region].mean())\n",
    "    results.loc[region, '95%-й Доверительный интервал'] = (\n",
    "        f'{round(distribution[region].quantile(.025))} - {round(distribution[region].quantile(.975))}')\n",
    "    results.loc[region, 'Риск убытков'] = f'{st.percentileofscore(distribution[region], 0)}%'\n",
    "    "
   ]
  },
  {
   "cell_type": "code",
   "execution_count": 27,
   "metadata": {},
   "outputs": [
    {
     "data": {
      "text/html": [
       "<div>\n",
       "<style scoped>\n",
       "    .dataframe tbody tr th:only-of-type {\n",
       "        vertical-align: middle;\n",
       "    }\n",
       "\n",
       "    .dataframe tbody tr th {\n",
       "        vertical-align: top;\n",
       "    }\n",
       "\n",
       "    .dataframe thead th {\n",
       "        text-align: right;\n",
       "    }\n",
       "</style>\n",
       "<table border=\"1\" class=\"dataframe\">\n",
       "  <thead>\n",
       "    <tr style=\"text-align: right;\">\n",
       "      <th></th>\n",
       "      <th>Регион</th>\n",
       "      <th>Средняя прибыль</th>\n",
       "      <th>95%-й Доверительный интервал</th>\n",
       "      <th>Риск убытков</th>\n",
       "    </tr>\n",
       "  </thead>\n",
       "  <tbody>\n",
       "    <tr>\n",
       "      <th>0</th>\n",
       "      <td>0-й регион</td>\n",
       "      <td>425938527</td>\n",
       "      <td>-102090095 - 947976353</td>\n",
       "      <td>6.0%</td>\n",
       "    </tr>\n",
       "    <tr>\n",
       "      <th>1</th>\n",
       "      <td>1-й регион</td>\n",
       "      <td>515222773</td>\n",
       "      <td>68873225 - 931547591</td>\n",
       "      <td>1.0%</td>\n",
       "    </tr>\n",
       "    <tr>\n",
       "      <th>2</th>\n",
       "      <td>2-й регион</td>\n",
       "      <td>435008363</td>\n",
       "      <td>-128880547 - 969706954</td>\n",
       "      <td>6.4%</td>\n",
       "    </tr>\n",
       "  </tbody>\n",
       "</table>\n",
       "</div>"
      ],
      "text/plain": [
       "       Регион Средняя прибыль 95%-й Доверительный интервал Риск убытков\n",
       "0  0-й регион       425938527       -102090095 - 947976353         6.0%\n",
       "1  1-й регион       515222773         68873225 - 931547591         1.0%\n",
       "2  2-й регион       435008363       -128880547 - 969706954         6.4%"
      ]
     },
     "execution_count": 27,
     "metadata": {},
     "output_type": "execute_result"
    }
   ],
   "source": [
    "results"
   ]
  },
  {
   "cell_type": "markdown",
   "metadata": {},
   "source": [
    "### Промежуточный вывод"
   ]
  },
  {
   "cell_type": "markdown",
   "metadata": {},
   "source": [
    "По итогу 1-й регион самый перспективный регион по цифрам."
   ]
  },
  {
   "cell_type": "markdown",
   "metadata": {},
   "source": [
    "## Вывод"
   ]
  },
  {
   "cell_type": "markdown",
   "metadata": {},
   "source": [
    "# Подготовка данных"
   ]
  },
  {
   "cell_type": "markdown",
   "metadata": {},
   "source": [
    "Данные сразу не пришлось сильно предобрабатывать. Не оказалось дубликатов или ошибок. "
   ]
  },
  {
   "cell_type": "markdown",
   "metadata": {},
   "source": [
    "# Обучение и проверка модели"
   ]
  },
  {
   "cell_type": "markdown",
   "metadata": {},
   "source": [
    "Исходя из значений RMSE, наилучшей выглядит модель для региона 1 со значением **0.89**"
   ]
  },
  {
   "cell_type": "markdown",
   "metadata": {},
   "source": [
    "Наиболее прибыльным же регионом выглядел под номером 2 - **94.8**."
   ]
  },
  {
   "cell_type": "markdown",
   "metadata": {},
   "source": [
    "# Расчет прибыли и рисков"
   ]
  },
  {
   "cell_type": "markdown",
   "metadata": {},
   "source": [
    "Наименьший риск убытка после анализа был в регионе 1 (1%), что показали и средняя прибыль, и доверительный интервал. \n",
    "\n",
    "1 регион -  самый стабильный и вариант. Даже при выборе не самых удачных скважин, все окупится."
   ]
  }
 ],
 "metadata": {
  "ExecuteTimeLog": [
   {
    "duration": 412,
    "start_time": "2023-04-03T09:21:24.727Z"
   },
   {
    "duration": 60,
    "start_time": "2023-04-03T09:22:02.730Z"
   },
   {
    "duration": 1437,
    "start_time": "2023-04-03T09:22:16.094Z"
   },
   {
    "duration": 17,
    "start_time": "2023-04-03T09:22:19.996Z"
   },
   {
    "duration": 7,
    "start_time": "2023-04-03T09:22:25.835Z"
   },
   {
    "duration": 7,
    "start_time": "2023-04-03T09:22:35.359Z"
   },
   {
    "duration": 11,
    "start_time": "2023-04-03T09:23:57.270Z"
   },
   {
    "duration": 343,
    "start_time": "2023-04-03T09:25:25.857Z"
   },
   {
    "duration": 9,
    "start_time": "2023-04-03T09:25:31.248Z"
   },
   {
    "duration": 4,
    "start_time": "2023-04-03T09:25:40.990Z"
   },
   {
    "duration": 4,
    "start_time": "2023-04-03T09:25:47.549Z"
   },
   {
    "duration": 4,
    "start_time": "2023-04-03T09:25:50.868Z"
   },
   {
    "duration": 4,
    "start_time": "2023-04-03T09:25:55.695Z"
   },
   {
    "duration": 8,
    "start_time": "2023-04-03T09:26:35.771Z"
   },
   {
    "duration": 60,
    "start_time": "2023-04-03T09:26:44.032Z"
   },
   {
    "duration": 64,
    "start_time": "2023-04-03T09:26:49.807Z"
   },
   {
    "duration": 19,
    "start_time": "2023-04-03T09:27:19.209Z"
   },
   {
    "duration": 19,
    "start_time": "2023-04-03T09:27:23.804Z"
   },
   {
    "duration": 21,
    "start_time": "2023-04-03T09:27:27.380Z"
   },
   {
    "duration": 120,
    "start_time": "2023-04-03T09:28:04.849Z"
   },
   {
    "duration": 56,
    "start_time": "2023-04-03T09:33:39.699Z"
   },
   {
    "duration": 7,
    "start_time": "2023-04-03T09:33:50.715Z"
   },
   {
    "duration": 10,
    "start_time": "2023-04-03T09:33:58.749Z"
   },
   {
    "duration": 334,
    "start_time": "2023-04-03T09:37:05.812Z"
   },
   {
    "duration": 10,
    "start_time": "2023-04-03T09:38:04.765Z"
   },
   {
    "duration": 34,
    "start_time": "2023-04-03T09:38:13.462Z"
   },
   {
    "duration": 75,
    "start_time": "2023-04-03T09:38:15.373Z"
   },
   {
    "duration": 138,
    "start_time": "2023-04-03T09:38:34.876Z"
   },
   {
    "duration": 5,
    "start_time": "2023-04-03T09:38:41.010Z"
   },
   {
    "duration": 7,
    "start_time": "2023-04-03T09:38:41.419Z"
   },
   {
    "duration": 75,
    "start_time": "2023-04-04T14:17:30.721Z"
   },
   {
    "duration": 370,
    "start_time": "2023-04-04T14:17:35.578Z"
   },
   {
    "duration": 1239,
    "start_time": "2023-04-04T14:17:36.766Z"
   },
   {
    "duration": 23,
    "start_time": "2023-04-04T14:18:15.958Z"
   },
   {
    "duration": 13,
    "start_time": "2023-04-04T14:18:25.035Z"
   },
   {
    "duration": 14,
    "start_time": "2023-04-04T14:18:44.573Z"
   },
   {
    "duration": 45,
    "start_time": "2023-04-04T14:19:03.380Z"
   },
   {
    "duration": 179,
    "start_time": "2023-04-04T14:19:55.840Z"
   },
   {
    "duration": 148,
    "start_time": "2023-04-04T14:19:59.806Z"
   },
   {
    "duration": 157,
    "start_time": "2023-04-04T14:20:41.549Z"
   },
   {
    "duration": 166,
    "start_time": "2023-04-04T14:21:26.597Z"
   },
   {
    "duration": 10,
    "start_time": "2023-04-04T14:21:54.289Z"
   },
   {
    "duration": 10,
    "start_time": "2023-04-04T14:22:03.539Z"
   },
   {
    "duration": 849,
    "start_time": "2023-04-04T15:09:24.684Z"
   },
   {
    "duration": 3,
    "start_time": "2023-04-04T15:18:50.980Z"
   },
   {
    "duration": 1079,
    "start_time": "2023-04-05T11:56:58.079Z"
   },
   {
    "duration": 1180,
    "start_time": "2023-04-05T11:57:36.514Z"
   },
   {
    "duration": 19,
    "start_time": "2023-04-05T11:57:39.125Z"
   },
   {
    "duration": 23,
    "start_time": "2023-04-05T11:58:06.175Z"
   },
   {
    "duration": 1048,
    "start_time": "2023-04-06T08:58:55.135Z"
   },
   {
    "duration": 909,
    "start_time": "2023-04-06T08:59:15.502Z"
   },
   {
    "duration": 28,
    "start_time": "2023-04-06T08:59:16.580Z"
   },
   {
    "duration": 32,
    "start_time": "2023-04-06T08:59:22.420Z"
   },
   {
    "duration": 40,
    "start_time": "2023-04-06T08:59:45.699Z"
   },
   {
    "duration": 128,
    "start_time": "2023-04-06T08:59:49.122Z"
   },
   {
    "duration": 159,
    "start_time": "2023-04-06T09:00:10.843Z"
   },
   {
    "duration": 147,
    "start_time": "2023-04-06T09:00:19.958Z"
   },
   {
    "duration": 143,
    "start_time": "2023-04-06T09:00:43.967Z"
   },
   {
    "duration": 139,
    "start_time": "2023-04-06T09:01:23.345Z"
   },
   {
    "duration": 168,
    "start_time": "2023-04-06T09:01:29.599Z"
   },
   {
    "duration": 9,
    "start_time": "2023-04-06T09:02:19.650Z"
   },
   {
    "duration": 11,
    "start_time": "2023-04-06T09:02:19.983Z"
   },
   {
    "duration": 3,
    "start_time": "2023-04-06T09:02:41.206Z"
   },
   {
    "duration": 3,
    "start_time": "2023-04-06T09:02:48.211Z"
   },
   {
    "duration": 19,
    "start_time": "2023-04-06T09:02:58.305Z"
   },
   {
    "duration": 17,
    "start_time": "2023-04-06T09:03:14.020Z"
   },
   {
    "duration": 21,
    "start_time": "2023-04-06T09:03:19.840Z"
   },
   {
    "duration": 12,
    "start_time": "2023-04-06T09:11:33.250Z"
   },
   {
    "duration": 6,
    "start_time": "2023-04-06T09:11:41.975Z"
   },
   {
    "duration": 4,
    "start_time": "2023-04-06T09:11:49.664Z"
   },
   {
    "duration": 5,
    "start_time": "2023-04-06T09:11:52.736Z"
   },
   {
    "duration": 9,
    "start_time": "2023-04-06T09:12:02.669Z"
   },
   {
    "duration": 9,
    "start_time": "2023-04-06T12:16:10.081Z"
   },
   {
    "duration": 1506,
    "start_time": "2023-04-06T12:16:15.213Z"
   },
   {
    "duration": 5,
    "start_time": "2023-04-06T12:16:35.342Z"
   },
   {
    "duration": 1954,
    "start_time": "2023-04-06T12:16:38.336Z"
   },
   {
    "duration": 37,
    "start_time": "2023-04-06T12:16:40.293Z"
   },
   {
    "duration": 57,
    "start_time": "2023-04-06T12:16:40.435Z"
   },
   {
    "duration": 53,
    "start_time": "2023-04-06T12:16:42.219Z"
   },
   {
    "duration": 198,
    "start_time": "2023-04-06T12:16:42.576Z"
   },
   {
    "duration": 12,
    "start_time": "2023-04-06T12:16:44.670Z"
   },
   {
    "duration": 37,
    "start_time": "2023-04-06T12:16:44.928Z"
   },
   {
    "duration": 13,
    "start_time": "2023-04-06T12:16:46.843Z"
   },
   {
    "duration": 5,
    "start_time": "2023-04-06T12:16:47.060Z"
   },
   {
    "duration": 12,
    "start_time": "2023-04-06T12:16:48.539Z"
   },
   {
    "duration": 3,
    "start_time": "2023-04-06T12:16:50.359Z"
   },
   {
    "duration": 3,
    "start_time": "2023-04-06T12:16:50.588Z"
   },
   {
    "duration": 70,
    "start_time": "2023-04-06T12:18:23.847Z"
   },
   {
    "duration": 441,
    "start_time": "2023-04-06T12:18:42.038Z"
   },
   {
    "duration": 292,
    "start_time": "2023-04-06T12:19:09.391Z"
   },
   {
    "duration": 70,
    "start_time": "2023-04-06T12:19:44.277Z"
   },
   {
    "duration": 92,
    "start_time": "2023-04-06T12:20:01.089Z"
   },
   {
    "duration": 74,
    "start_time": "2023-04-06T12:20:11.593Z"
   },
   {
    "duration": 59,
    "start_time": "2023-04-06T12:20:54.357Z"
   },
   {
    "duration": 239,
    "start_time": "2023-04-06T12:22:31.841Z"
   },
   {
    "duration": 208,
    "start_time": "2023-04-06T12:22:38.171Z"
   },
   {
    "duration": 584,
    "start_time": "2023-04-06T12:27:04.366Z"
   },
   {
    "duration": 8,
    "start_time": "2023-04-06T12:27:18.720Z"
   },
   {
    "duration": 725,
    "start_time": "2023-04-06T12:27:18.737Z"
   },
   {
    "duration": 36,
    "start_time": "2023-04-06T12:27:19.473Z"
   },
   {
    "duration": 92,
    "start_time": "2023-04-06T12:27:19.512Z"
   },
   {
    "duration": 78,
    "start_time": "2023-04-06T12:27:19.609Z"
   },
   {
    "duration": 185,
    "start_time": "2023-04-06T12:27:19.689Z"
   },
   {
    "duration": 87,
    "start_time": "2023-04-06T12:27:19.876Z"
   },
   {
    "duration": 18,
    "start_time": "2023-04-06T12:27:19.966Z"
   },
   {
    "duration": 51,
    "start_time": "2023-04-06T12:27:19.986Z"
   },
   {
    "duration": 60,
    "start_time": "2023-04-06T12:27:20.039Z"
   },
   {
    "duration": 86,
    "start_time": "2023-04-06T12:27:20.102Z"
   },
   {
    "duration": 27,
    "start_time": "2023-04-06T12:27:20.191Z"
   },
   {
    "duration": 10,
    "start_time": "2023-04-12T09:36:17.108Z"
   },
   {
    "duration": 1244,
    "start_time": "2023-04-12T09:36:20.952Z"
   },
   {
    "duration": 1587,
    "start_time": "2023-04-12T09:36:31.917Z"
   },
   {
    "duration": 30,
    "start_time": "2023-04-12T09:36:36.736Z"
   },
   {
    "duration": 38,
    "start_time": "2023-04-12T09:36:39.443Z"
   },
   {
    "duration": 42,
    "start_time": "2023-04-12T09:36:41.696Z"
   },
   {
    "duration": 160,
    "start_time": "2023-04-12T09:36:43.448Z"
   },
   {
    "duration": 62,
    "start_time": "2023-04-12T09:36:44.201Z"
   },
   {
    "duration": 11,
    "start_time": "2023-04-12T09:36:46.783Z"
   },
   {
    "duration": 19,
    "start_time": "2023-04-12T09:36:47.195Z"
   },
   {
    "duration": 4,
    "start_time": "2023-04-12T09:38:29.304Z"
   },
   {
    "duration": 11,
    "start_time": "2023-04-12T09:38:41.448Z"
   },
   {
    "duration": 5,
    "start_time": "2023-04-12T09:38:44.101Z"
   },
   {
    "duration": 9,
    "start_time": "2023-04-12T09:38:44.499Z"
   },
   {
    "duration": 5,
    "start_time": "2023-04-12T09:38:52.851Z"
   },
   {
    "duration": 5,
    "start_time": "2023-04-12T09:38:55.256Z"
   },
   {
    "duration": 5,
    "start_time": "2023-04-12T09:38:58.144Z"
   },
   {
    "duration": 104,
    "start_time": "2023-04-12T09:58:04.548Z"
   },
   {
    "duration": 11,
    "start_time": "2023-04-12T09:59:13.315Z"
   },
   {
    "duration": 10,
    "start_time": "2023-04-12T09:59:20.356Z"
   },
   {
    "duration": 5,
    "start_time": "2023-04-12T09:59:21.752Z"
   },
   {
    "duration": 8,
    "start_time": "2023-04-12T09:59:26.532Z"
   },
   {
    "duration": 11,
    "start_time": "2023-04-12T09:59:29.085Z"
   },
   {
    "duration": 33,
    "start_time": "2023-04-12T09:59:35.683Z"
   },
   {
    "duration": 4,
    "start_time": "2023-04-12T09:59:56.113Z"
   },
   {
    "duration": 5,
    "start_time": "2023-04-12T10:00:07.481Z"
   },
   {
    "duration": 34,
    "start_time": "2023-04-12T10:00:49.644Z"
   },
   {
    "duration": 386,
    "start_time": "2023-04-12T10:04:09.328Z"
   },
   {
    "duration": 4,
    "start_time": "2023-04-12T10:19:02.951Z"
   },
   {
    "duration": 3,
    "start_time": "2023-04-12T10:20:22.108Z"
   },
   {
    "duration": 3,
    "start_time": "2023-04-12T10:20:43.894Z"
   },
   {
    "duration": 3,
    "start_time": "2023-04-12T10:23:11.780Z"
   },
   {
    "duration": 5,
    "start_time": "2023-04-12T10:25:14.873Z"
   },
   {
    "duration": 4,
    "start_time": "2023-04-12T10:25:35.656Z"
   },
   {
    "duration": 4,
    "start_time": "2023-04-12T10:25:57.597Z"
   },
   {
    "duration": 11,
    "start_time": "2023-04-12T10:26:47.140Z"
   },
   {
    "duration": 3,
    "start_time": "2023-04-12T10:26:56.356Z"
   },
   {
    "duration": 20,
    "start_time": "2023-04-12T10:27:01.471Z"
   },
   {
    "duration": 17,
    "start_time": "2023-04-12T10:27:15.736Z"
   },
   {
    "duration": 3,
    "start_time": "2023-04-12T10:27:54.369Z"
   },
   {
    "duration": 18,
    "start_time": "2023-04-12T10:27:55.570Z"
   },
   {
    "duration": 26,
    "start_time": "2023-04-12T10:28:13.540Z"
   },
   {
    "duration": 18,
    "start_time": "2023-04-12T10:29:44.674Z"
   },
   {
    "duration": 35457,
    "start_time": "2023-04-12T10:32:05.420Z"
   },
   {
    "duration": 4,
    "start_time": "2023-04-12T10:32:56.064Z"
   },
   {
    "duration": 3,
    "start_time": "2023-04-12T10:33:06.377Z"
   },
   {
    "duration": 14,
    "start_time": "2023-04-12T10:33:07.943Z"
   },
   {
    "duration": 3,
    "start_time": "2023-04-12T10:33:20.748Z"
   },
   {
    "duration": 19,
    "start_time": "2023-04-12T10:33:21.840Z"
   },
   {
    "duration": 4,
    "start_time": "2023-04-12T10:33:28.008Z"
   },
   {
    "duration": 22,
    "start_time": "2023-04-12T10:33:29.648Z"
   },
   {
    "duration": 216,
    "start_time": "2023-04-12T10:34:44.212Z"
   },
   {
    "duration": 4,
    "start_time": "2023-04-12T10:35:03.506Z"
   },
   {
    "duration": 161,
    "start_time": "2023-04-12T10:35:04.964Z"
   },
   {
    "duration": 176,
    "start_time": "2023-04-12T10:35:13.747Z"
   },
   {
    "duration": 304,
    "start_time": "2023-04-12T10:36:01.940Z"
   },
   {
    "duration": 5,
    "start_time": "2023-04-12T10:37:19.905Z"
   },
   {
    "duration": 225,
    "start_time": "2023-04-12T10:37:20.311Z"
   },
   {
    "duration": 2,
    "start_time": "2023-04-12T10:57:04.136Z"
   },
   {
    "duration": 4,
    "start_time": "2023-04-12T10:58:46.635Z"
   },
   {
    "duration": 6,
    "start_time": "2023-04-12T11:00:01.620Z"
   },
   {
    "duration": 6,
    "start_time": "2023-04-12T11:00:32.140Z"
   },
   {
    "duration": 73,
    "start_time": "2023-04-12T11:03:11.802Z"
   },
   {
    "duration": 3,
    "start_time": "2023-04-12T11:10:24.156Z"
   },
   {
    "duration": 6,
    "start_time": "2023-04-12T11:11:34.917Z"
   },
   {
    "duration": 4,
    "start_time": "2023-04-12T11:14:20.396Z"
   },
   {
    "duration": 4,
    "start_time": "2023-04-12T11:15:22.579Z"
   },
   {
    "duration": 6,
    "start_time": "2023-04-12T11:17:12.868Z"
   },
   {
    "duration": 4,
    "start_time": "2023-04-12T11:19:51.740Z"
   },
   {
    "duration": 3,
    "start_time": "2023-04-12T11:20:44.431Z"
   },
   {
    "duration": 2,
    "start_time": "2023-04-12T11:23:04.250Z"
   },
   {
    "duration": 3,
    "start_time": "2023-04-12T11:25:26.443Z"
   },
   {
    "duration": 6,
    "start_time": "2023-04-12T11:27:16.740Z"
   },
   {
    "duration": 6,
    "start_time": "2023-04-12T11:32:52.590Z"
   },
   {
    "duration": 4,
    "start_time": "2023-04-12T11:34:46.296Z"
   },
   {
    "duration": 8,
    "start_time": "2023-04-12T11:37:32.195Z"
   },
   {
    "duration": 272,
    "start_time": "2023-04-12T11:37:39.948Z"
   },
   {
    "duration": 12,
    "start_time": "2023-04-12T11:37:45.893Z"
   },
   {
    "duration": 336,
    "start_time": "2023-04-12T11:40:20.103Z"
   },
   {
    "duration": 3,
    "start_time": "2023-04-12T11:40:29.653Z"
   },
   {
    "duration": 4,
    "start_time": "2023-04-12T11:40:29.956Z"
   },
   {
    "duration": 4,
    "start_time": "2023-04-12T11:40:30.311Z"
   },
   {
    "duration": 4,
    "start_time": "2023-04-12T11:40:30.700Z"
   },
   {
    "duration": 14,
    "start_time": "2023-04-12T11:40:34.749Z"
   },
   {
    "duration": 20,
    "start_time": "2023-04-12T11:41:02.913Z"
   },
   {
    "duration": 3,
    "start_time": "2023-04-12T11:41:33.117Z"
   },
   {
    "duration": 4,
    "start_time": "2023-04-12T11:41:41.352Z"
   },
   {
    "duration": 4,
    "start_time": "2023-04-12T11:46:11.547Z"
   },
   {
    "duration": 14,
    "start_time": "2023-04-12T11:46:20.635Z"
   },
   {
    "duration": 4,
    "start_time": "2023-04-12T11:46:34.601Z"
   },
   {
    "duration": 19,
    "start_time": "2023-04-12T11:46:36.969Z"
   },
   {
    "duration": 4,
    "start_time": "2023-04-12T11:47:15.759Z"
   },
   {
    "duration": 30,
    "start_time": "2023-04-12T11:47:18.530Z"
   },
   {
    "duration": 4,
    "start_time": "2023-04-12T11:47:33.629Z"
   },
   {
    "duration": 5,
    "start_time": "2023-04-12T11:48:29.310Z"
   },
   {
    "duration": 50,
    "start_time": "2023-04-12T11:48:29.317Z"
   },
   {
    "duration": 513,
    "start_time": "2023-04-12T11:48:29.368Z"
   },
   {
    "duration": 21,
    "start_time": "2023-04-12T11:48:29.883Z"
   },
   {
    "duration": 61,
    "start_time": "2023-04-12T11:48:29.906Z"
   },
   {
    "duration": 58,
    "start_time": "2023-04-12T11:48:29.969Z"
   },
   {
    "duration": 165,
    "start_time": "2023-04-12T11:48:30.029Z"
   },
   {
    "duration": 80,
    "start_time": "2023-04-12T11:48:30.196Z"
   },
   {
    "duration": 42,
    "start_time": "2023-04-12T11:48:30.278Z"
   },
   {
    "duration": 110,
    "start_time": "2023-04-12T11:48:30.322Z"
   },
   {
    "duration": 67,
    "start_time": "2023-04-12T11:48:30.435Z"
   },
   {
    "duration": 105,
    "start_time": "2023-04-12T11:48:30.504Z"
   },
   {
    "duration": 63,
    "start_time": "2023-04-12T11:48:30.611Z"
   },
   {
    "duration": 68,
    "start_time": "2023-04-12T11:48:30.677Z"
   },
   {
    "duration": 11,
    "start_time": "2023-04-12T11:48:30.748Z"
   },
   {
    "duration": 35,
    "start_time": "2023-04-12T11:48:30.762Z"
   },
   {
    "duration": 74,
    "start_time": "2023-04-12T11:48:30.799Z"
   },
   {
    "duration": 443,
    "start_time": "2023-04-12T11:48:30.875Z"
   },
   {
    "duration": 6,
    "start_time": "2023-04-12T11:48:31.338Z"
   },
   {
    "duration": 36,
    "start_time": "2023-04-12T11:48:31.429Z"
   },
   {
    "duration": 27,
    "start_time": "2023-04-12T11:48:31.468Z"
   },
   {
    "duration": 39,
    "start_time": "2023-04-12T11:48:31.497Z"
   },
   {
    "duration": 27,
    "start_time": "2023-04-12T11:48:31.539Z"
   },
   {
    "duration": 45,
    "start_time": "2023-04-12T11:48:31.567Z"
   },
   {
    "duration": 47,
    "start_time": "2023-04-12T11:48:31.614Z"
   },
   {
    "duration": 5,
    "start_time": "2023-04-12T11:48:33.156Z"
   },
   {
    "duration": 14,
    "start_time": "2023-04-12T11:48:33.862Z"
   },
   {
    "duration": 15,
    "start_time": "2023-04-12T11:55:22.831Z"
   },
   {
    "duration": 1319,
    "start_time": "2023-04-12T12:04:41.781Z"
   },
   {
    "duration": 3,
    "start_time": "2023-04-12T12:04:43.102Z"
   },
   {
    "duration": 440,
    "start_time": "2023-04-12T12:04:43.107Z"
   },
   {
    "duration": 31,
    "start_time": "2023-04-12T12:04:43.549Z"
   },
   {
    "duration": 55,
    "start_time": "2023-04-12T12:04:43.582Z"
   },
   {
    "duration": 42,
    "start_time": "2023-04-12T12:04:43.639Z"
   },
   {
    "duration": 180,
    "start_time": "2023-04-12T12:04:43.683Z"
   },
   {
    "duration": 71,
    "start_time": "2023-04-12T12:04:43.864Z"
   },
   {
    "duration": 12,
    "start_time": "2023-04-12T12:04:43.938Z"
   },
   {
    "duration": 54,
    "start_time": "2023-04-12T12:04:43.952Z"
   },
   {
    "duration": 34,
    "start_time": "2023-04-12T12:04:44.008Z"
   },
   {
    "duration": 38,
    "start_time": "2023-04-12T12:04:44.044Z"
   },
   {
    "duration": 46,
    "start_time": "2023-04-12T12:04:44.084Z"
   },
   {
    "duration": 87,
    "start_time": "2023-04-12T12:04:44.134Z"
   },
   {
    "duration": 24,
    "start_time": "2023-04-12T12:04:44.223Z"
   },
   {
    "duration": 58,
    "start_time": "2023-04-12T12:04:44.248Z"
   },
   {
    "duration": 40,
    "start_time": "2023-04-12T12:04:44.308Z"
   },
   {
    "duration": 275,
    "start_time": "2023-04-12T12:04:44.350Z"
   },
   {
    "duration": 92,
    "start_time": "2023-04-12T12:04:44.627Z"
   },
   {
    "duration": 37,
    "start_time": "2023-04-12T12:04:44.722Z"
   },
   {
    "duration": 26,
    "start_time": "2023-04-12T12:04:44.761Z"
   },
   {
    "duration": 8,
    "start_time": "2023-04-12T12:04:44.789Z"
   },
   {
    "duration": 95,
    "start_time": "2023-04-12T12:04:44.799Z"
   },
   {
    "duration": 31,
    "start_time": "2023-04-12T12:04:44.896Z"
   },
   {
    "duration": 27,
    "start_time": "2023-04-12T12:04:44.928Z"
   },
   {
    "duration": 37,
    "start_time": "2023-04-12T12:04:44.957Z"
   },
   {
    "duration": 163,
    "start_time": "2023-04-12T12:04:44.996Z"
   },
   {
    "duration": 0,
    "start_time": "2023-04-12T12:04:45.161Z"
   },
   {
    "duration": 0,
    "start_time": "2023-04-12T12:04:45.162Z"
   },
   {
    "duration": 13,
    "start_time": "2023-04-12T12:10:18.503Z"
   },
   {
    "duration": 13,
    "start_time": "2023-04-12T12:10:24.270Z"
   },
   {
    "duration": 13,
    "start_time": "2023-04-12T12:10:30.324Z"
   },
   {
    "duration": 8,
    "start_time": "2023-04-12T12:10:52.562Z"
   },
   {
    "duration": 4,
    "start_time": "2023-04-12T12:11:17.054Z"
   },
   {
    "duration": 284,
    "start_time": "2023-04-12T12:11:54.843Z"
   },
   {
    "duration": 19,
    "start_time": "2023-04-12T12:12:00.080Z"
   },
   {
    "duration": 355,
    "start_time": "2023-04-12T12:16:39.362Z"
   },
   {
    "duration": 4086,
    "start_time": "2023-04-12T12:16:44.952Z"
   },
   {
    "duration": 5,
    "start_time": "2023-04-12T12:16:58.700Z"
   },
   {
    "duration": 15,
    "start_time": "2023-04-12T12:17:12.716Z"
   },
   {
    "duration": 5,
    "start_time": "2023-04-12T12:18:45.279Z"
   },
   {
    "duration": 14,
    "start_time": "2023-04-12T12:18:49.241Z"
   },
   {
    "duration": 5,
    "start_time": "2023-04-12T12:52:01.472Z"
   },
   {
    "duration": 18,
    "start_time": "2023-04-12T12:52:03.172Z"
   },
   {
    "duration": 6,
    "start_time": "2023-04-12T12:53:41.669Z"
   },
   {
    "duration": 4,
    "start_time": "2023-04-12T12:53:45.360Z"
   },
   {
    "duration": 10,
    "start_time": "2023-04-12T12:53:50.852Z"
   },
   {
    "duration": 3,
    "start_time": "2023-04-12T12:54:08.619Z"
   },
   {
    "duration": 9,
    "start_time": "2023-04-12T12:54:08.907Z"
   },
   {
    "duration": 5,
    "start_time": "2023-04-12T12:54:59.541Z"
   },
   {
    "duration": 68,
    "start_time": "2023-04-12T12:55:59.891Z"
   },
   {
    "duration": 10,
    "start_time": "2023-04-12T12:56:04.055Z"
   },
   {
    "duration": 10,
    "start_time": "2023-04-12T12:56:18.340Z"
   },
   {
    "duration": 14,
    "start_time": "2023-04-12T12:56:28.492Z"
   },
   {
    "duration": 9,
    "start_time": "2023-04-12T12:56:28.623Z"
   },
   {
    "duration": 7,
    "start_time": "2023-04-12T12:56:56.316Z"
   },
   {
    "duration": 9,
    "start_time": "2023-04-12T12:56:57.042Z"
   },
   {
    "duration": 12,
    "start_time": "2023-04-12T12:58:31.562Z"
   },
   {
    "duration": 9,
    "start_time": "2023-04-12T12:58:31.995Z"
   },
   {
    "duration": 10,
    "start_time": "2023-04-12T12:58:52.322Z"
   },
   {
    "duration": 8,
    "start_time": "2023-04-12T12:58:52.696Z"
   },
   {
    "duration": 1258,
    "start_time": "2023-04-12T13:00:06.692Z"
   },
   {
    "duration": 3,
    "start_time": "2023-04-12T13:00:07.953Z"
   },
   {
    "duration": 446,
    "start_time": "2023-04-12T13:00:07.958Z"
   },
   {
    "duration": 35,
    "start_time": "2023-04-12T13:00:08.405Z"
   },
   {
    "duration": 40,
    "start_time": "2023-04-12T13:00:08.442Z"
   },
   {
    "duration": 61,
    "start_time": "2023-04-12T13:00:08.485Z"
   },
   {
    "duration": 164,
    "start_time": "2023-04-12T13:00:08.548Z"
   },
   {
    "duration": 55,
    "start_time": "2023-04-12T13:00:08.718Z"
   },
   {
    "duration": 9,
    "start_time": "2023-04-12T13:00:08.775Z"
   },
   {
    "duration": 53,
    "start_time": "2023-04-12T13:00:08.786Z"
   },
   {
    "duration": 25,
    "start_time": "2023-04-12T13:00:08.840Z"
   },
   {
    "duration": 18,
    "start_time": "2023-04-12T13:00:08.867Z"
   },
   {
    "duration": 25,
    "start_time": "2023-04-12T13:00:08.886Z"
   },
   {
    "duration": 46,
    "start_time": "2023-04-12T13:00:08.913Z"
   },
   {
    "duration": 10,
    "start_time": "2023-04-12T13:00:08.961Z"
   },
   {
    "duration": 21,
    "start_time": "2023-04-12T13:00:08.973Z"
   },
   {
    "duration": 21,
    "start_time": "2023-04-12T13:00:08.996Z"
   },
   {
    "duration": 308,
    "start_time": "2023-04-12T13:00:09.019Z"
   },
   {
    "duration": 89,
    "start_time": "2023-04-12T13:00:09.329Z"
   },
   {
    "duration": 98,
    "start_time": "2023-04-12T13:00:09.421Z"
   },
   {
    "duration": 9,
    "start_time": "2023-04-12T13:00:09.522Z"
   },
   {
    "duration": 6,
    "start_time": "2023-04-12T13:00:09.532Z"
   },
   {
    "duration": 16,
    "start_time": "2023-04-12T13:00:09.540Z"
   },
   {
    "duration": 4196,
    "start_time": "2023-04-12T13:00:09.557Z"
   },
   {
    "duration": 5,
    "start_time": "2023-04-12T13:00:13.755Z"
   },
   {
    "duration": 21,
    "start_time": "2023-04-12T13:00:13.762Z"
   },
   {
    "duration": 14,
    "start_time": "2023-04-12T13:00:13.785Z"
   },
   {
    "duration": 1261,
    "start_time": "2023-04-12T13:02:05.992Z"
   },
   {
    "duration": 2,
    "start_time": "2023-04-12T13:02:07.255Z"
   },
   {
    "duration": 413,
    "start_time": "2023-04-12T13:02:07.259Z"
   },
   {
    "duration": 30,
    "start_time": "2023-04-12T13:02:07.674Z"
   },
   {
    "duration": 45,
    "start_time": "2023-04-12T13:02:07.706Z"
   },
   {
    "duration": 42,
    "start_time": "2023-04-12T13:02:07.753Z"
   },
   {
    "duration": 171,
    "start_time": "2023-04-12T13:02:07.797Z"
   },
   {
    "duration": 71,
    "start_time": "2023-04-12T13:02:07.970Z"
   },
   {
    "duration": 10,
    "start_time": "2023-04-12T13:02:08.043Z"
   },
   {
    "duration": 25,
    "start_time": "2023-04-12T13:02:08.054Z"
   },
   {
    "duration": 10,
    "start_time": "2023-04-12T13:02:08.081Z"
   },
   {
    "duration": 25,
    "start_time": "2023-04-12T13:02:08.093Z"
   },
   {
    "duration": 23,
    "start_time": "2023-04-12T13:02:08.120Z"
   },
   {
    "duration": 50,
    "start_time": "2023-04-12T13:02:08.146Z"
   },
   {
    "duration": 5,
    "start_time": "2023-04-12T13:02:08.198Z"
   },
   {
    "duration": 28,
    "start_time": "2023-04-12T13:02:08.205Z"
   },
   {
    "duration": 20,
    "start_time": "2023-04-12T13:02:08.235Z"
   },
   {
    "duration": 263,
    "start_time": "2023-04-12T13:02:08.257Z"
   },
   {
    "duration": 4,
    "start_time": "2023-04-12T13:02:08.523Z"
   },
   {
    "duration": 6,
    "start_time": "2023-04-12T13:02:08.619Z"
   },
   {
    "duration": 18,
    "start_time": "2023-04-12T13:02:08.627Z"
   },
   {
    "duration": 5,
    "start_time": "2023-04-12T13:02:08.647Z"
   },
   {
    "duration": 11,
    "start_time": "2023-04-12T13:02:08.653Z"
   },
   {
    "duration": 4279,
    "start_time": "2023-04-12T13:02:08.665Z"
   },
   {
    "duration": 5,
    "start_time": "2023-04-12T13:02:12.945Z"
   },
   {
    "duration": 25,
    "start_time": "2023-04-12T13:02:12.951Z"
   },
   {
    "duration": 20,
    "start_time": "2023-04-12T13:02:12.978Z"
   },
   {
    "duration": 1237,
    "start_time": "2023-04-12T13:02:54.424Z"
   },
   {
    "duration": 3,
    "start_time": "2023-04-12T13:02:55.663Z"
   },
   {
    "duration": 431,
    "start_time": "2023-04-12T13:02:55.669Z"
   },
   {
    "duration": 34,
    "start_time": "2023-04-12T13:02:56.102Z"
   },
   {
    "duration": 38,
    "start_time": "2023-04-12T13:02:56.138Z"
   },
   {
    "duration": 66,
    "start_time": "2023-04-12T13:02:56.177Z"
   },
   {
    "duration": 157,
    "start_time": "2023-04-12T13:02:56.245Z"
   },
   {
    "duration": 65,
    "start_time": "2023-04-12T13:02:56.404Z"
   },
   {
    "duration": 9,
    "start_time": "2023-04-12T13:02:56.471Z"
   },
   {
    "duration": 38,
    "start_time": "2023-04-12T13:02:56.482Z"
   },
   {
    "duration": 21,
    "start_time": "2023-04-12T13:02:56.521Z"
   },
   {
    "duration": 14,
    "start_time": "2023-04-12T13:02:56.544Z"
   },
   {
    "duration": 29,
    "start_time": "2023-04-12T13:02:56.560Z"
   },
   {
    "duration": 39,
    "start_time": "2023-04-12T13:02:56.593Z"
   },
   {
    "duration": 6,
    "start_time": "2023-04-12T13:02:56.634Z"
   },
   {
    "duration": 13,
    "start_time": "2023-04-12T13:02:56.641Z"
   },
   {
    "duration": 15,
    "start_time": "2023-04-12T13:02:56.656Z"
   },
   {
    "duration": 352,
    "start_time": "2023-04-12T13:02:56.673Z"
   },
   {
    "duration": 93,
    "start_time": "2023-04-12T13:02:57.027Z"
   },
   {
    "duration": 96,
    "start_time": "2023-04-12T13:02:57.122Z"
   },
   {
    "duration": 7,
    "start_time": "2023-04-12T13:02:57.220Z"
   },
   {
    "duration": 22,
    "start_time": "2023-04-12T13:02:57.229Z"
   },
   {
    "duration": 30,
    "start_time": "2023-04-12T13:02:57.253Z"
   },
   {
    "duration": 4184,
    "start_time": "2023-04-12T13:02:57.284Z"
   },
   {
    "duration": 5,
    "start_time": "2023-04-12T13:03:01.470Z"
   },
   {
    "duration": 51,
    "start_time": "2023-04-12T13:03:01.476Z"
   },
   {
    "duration": 47,
    "start_time": "2023-04-12T13:03:01.529Z"
   },
   {
    "duration": 29,
    "start_time": "2023-04-12T13:03:30.721Z"
   },
   {
    "duration": 1154,
    "start_time": "2023-04-12T13:03:36.967Z"
   },
   {
    "duration": 3,
    "start_time": "2023-04-12T13:03:38.123Z"
   },
   {
    "duration": 395,
    "start_time": "2023-04-12T13:03:38.128Z"
   },
   {
    "duration": 30,
    "start_time": "2023-04-12T13:03:38.525Z"
   },
   {
    "duration": 46,
    "start_time": "2023-04-12T13:03:38.557Z"
   },
   {
    "duration": 42,
    "start_time": "2023-04-12T13:03:38.618Z"
   },
   {
    "duration": 166,
    "start_time": "2023-04-12T13:03:38.661Z"
   },
   {
    "duration": 56,
    "start_time": "2023-04-12T13:03:38.828Z"
   },
   {
    "duration": 9,
    "start_time": "2023-04-12T13:03:38.885Z"
   },
   {
    "duration": 34,
    "start_time": "2023-04-12T13:03:38.896Z"
   },
   {
    "duration": 10,
    "start_time": "2023-04-12T13:03:38.932Z"
   },
   {
    "duration": 16,
    "start_time": "2023-04-12T13:03:38.944Z"
   },
   {
    "duration": 25,
    "start_time": "2023-04-12T13:03:38.962Z"
   },
   {
    "duration": 60,
    "start_time": "2023-04-12T13:03:38.990Z"
   },
   {
    "duration": 4,
    "start_time": "2023-04-12T13:03:39.052Z"
   },
   {
    "duration": 17,
    "start_time": "2023-04-12T13:03:39.057Z"
   },
   {
    "duration": 24,
    "start_time": "2023-04-12T13:03:39.076Z"
   },
   {
    "duration": 322,
    "start_time": "2023-04-12T13:03:39.102Z"
   },
   {
    "duration": 92,
    "start_time": "2023-04-12T13:03:39.426Z"
   },
   {
    "duration": 29,
    "start_time": "2023-04-12T13:03:39.520Z"
   },
   {
    "duration": 13,
    "start_time": "2023-04-12T13:03:39.551Z"
   },
   {
    "duration": 7,
    "start_time": "2023-04-12T13:03:39.567Z"
   },
   {
    "duration": 25,
    "start_time": "2023-04-12T13:03:39.576Z"
   },
   {
    "duration": 4240,
    "start_time": "2023-04-12T13:03:39.603Z"
   },
   {
    "duration": 6,
    "start_time": "2023-04-12T13:03:43.844Z"
   },
   {
    "duration": 27,
    "start_time": "2023-04-12T13:03:43.852Z"
   },
   {
    "duration": 21,
    "start_time": "2023-04-12T13:03:43.881Z"
   },
   {
    "duration": 96,
    "start_time": "2023-04-12T13:34:41.249Z"
   }
  ],
  "kernelspec": {
   "display_name": "Python 3 (ipykernel)",
   "language": "python",
   "name": "python3"
  },
  "language_info": {
   "codemirror_mode": {
    "name": "ipython",
    "version": 3
   },
   "file_extension": ".py",
   "mimetype": "text/x-python",
   "name": "python",
   "nbconvert_exporter": "python",
   "pygments_lexer": "ipython3",
   "version": "3.11.4"
  },
  "toc": {
   "base_numbering": 1,
   "nav_menu": {},
   "number_sections": true,
   "sideBar": true,
   "skip_h1_title": true,
   "title_cell": "Table of Contents",
   "title_sidebar": "Contents",
   "toc_cell": false,
   "toc_position": {
    "height": "calc(100% - 180px)",
    "left": "10px",
    "top": "150px",
    "width": "193.875px"
   },
   "toc_section_display": true,
   "toc_window_display": true
  }
 },
 "nbformat": 4,
 "nbformat_minor": 2
}
