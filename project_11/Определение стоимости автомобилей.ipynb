{
 "cells": [
  {
   "cell_type": "markdown",
   "metadata": {},
   "source": [
    "# Определение стоимости автомобилей"
   ]
  },
  {
   "cell_type": "markdown",
   "metadata": {},
   "source": [
    "Сервис по продаже автомобилей с пробегом «Не бит, не крашен» разрабатывает приложение для привлечения новых клиентов. В нём можно быстро узнать рыночную стоимость своего автомобиля. В вашем распоряжении исторические данные: технические характеристики, комплектации и цены автомобилей. Вам нужно построить модель для определения стоимости. \n",
    "\n",
    "Заказчику важны:\n",
    "\n",
    "- качество предсказания;\n",
    "- скорость предсказания;\n",
    "- время обучения."
   ]
  },
  {
   "cell_type": "code",
   "execution_count": 1,
   "metadata": {},
   "outputs": [],
   "source": [
    "# Работа с данными\n",
    "import pandas as pd\n",
    "import numpy as np\n",
    "from scipy import stats as st\n",
    "from sklearn.preprocessing import OrdinalEncoder\n",
    "from sklearn.preprocessing import OneHotEncoder\n",
    "\n",
    "# Визуализация данных\n",
    "import matplotlib.pyplot as plt\n",
    "import seaborn as sns\n",
    "import re\n",
    "\n",
    "from sklearn.model_selection import train_test_split, cross_val_score, GridSearchCV\n",
    "from sklearn.preprocessing import StandardScaler\n",
    "from sklearn.metrics import mean_squared_error, make_scorer\n",
    "from sklearn.inspection import permutation_importance\n",
    "\n",
    "from sklearn.linear_model import LinearRegression\n",
    "from sklearn.ensemble import GradientBoostingRegressor, RandomForestRegressor\n",
    "import lightgbm\n",
    "import catboost"
   ]
  },
  {
   "cell_type": "code",
   "execution_count": 2,
   "metadata": {},
   "outputs": [],
   "source": [
    "import warnings\n",
    "warnings.filterwarnings(\"ignore\")"
   ]
  },
  {
   "cell_type": "markdown",
   "metadata": {},
   "source": [
    "## Подготовка данных"
   ]
  },
  {
   "cell_type": "markdown",
   "metadata": {},
   "source": [
    "### Изучение данных"
   ]
  },
  {
   "cell_type": "code",
   "execution_count": 3,
   "metadata": {},
   "outputs": [],
   "source": [
    "try:\n",
    "    df = pd.read_csv('autos.csv')\n",
    "except:\n",
    "    df = pd.read_csv('/datasets/autos.csv')"
   ]
  },
  {
   "cell_type": "code",
   "execution_count": 4,
   "metadata": {
    "scrolled": false
   },
   "outputs": [
    {
     "data": {
      "text/html": [
       "<div>\n",
       "<style scoped>\n",
       "    .dataframe tbody tr th:only-of-type {\n",
       "        vertical-align: middle;\n",
       "    }\n",
       "\n",
       "    .dataframe tbody tr th {\n",
       "        vertical-align: top;\n",
       "    }\n",
       "\n",
       "    .dataframe thead th {\n",
       "        text-align: right;\n",
       "    }\n",
       "</style>\n",
       "<table border=\"1\" class=\"dataframe\">\n",
       "  <thead>\n",
       "    <tr style=\"text-align: right;\">\n",
       "      <th></th>\n",
       "      <th>DateCrawled</th>\n",
       "      <th>Price</th>\n",
       "      <th>VehicleType</th>\n",
       "      <th>RegistrationYear</th>\n",
       "      <th>Gearbox</th>\n",
       "      <th>Power</th>\n",
       "      <th>Model</th>\n",
       "      <th>Kilometer</th>\n",
       "      <th>RegistrationMonth</th>\n",
       "      <th>FuelType</th>\n",
       "      <th>Brand</th>\n",
       "      <th>Repaired</th>\n",
       "      <th>DateCreated</th>\n",
       "      <th>NumberOfPictures</th>\n",
       "      <th>PostalCode</th>\n",
       "      <th>LastSeen</th>\n",
       "    </tr>\n",
       "  </thead>\n",
       "  <tbody>\n",
       "    <tr>\n",
       "      <th>0</th>\n",
       "      <td>2016-03-24 11:52:17</td>\n",
       "      <td>480</td>\n",
       "      <td>NaN</td>\n",
       "      <td>1993</td>\n",
       "      <td>manual</td>\n",
       "      <td>0</td>\n",
       "      <td>golf</td>\n",
       "      <td>150000</td>\n",
       "      <td>0</td>\n",
       "      <td>petrol</td>\n",
       "      <td>volkswagen</td>\n",
       "      <td>NaN</td>\n",
       "      <td>2016-03-24 00:00:00</td>\n",
       "      <td>0</td>\n",
       "      <td>70435</td>\n",
       "      <td>2016-04-07 03:16:57</td>\n",
       "    </tr>\n",
       "    <tr>\n",
       "      <th>1</th>\n",
       "      <td>2016-03-24 10:58:45</td>\n",
       "      <td>18300</td>\n",
       "      <td>coupe</td>\n",
       "      <td>2011</td>\n",
       "      <td>manual</td>\n",
       "      <td>190</td>\n",
       "      <td>NaN</td>\n",
       "      <td>125000</td>\n",
       "      <td>5</td>\n",
       "      <td>gasoline</td>\n",
       "      <td>audi</td>\n",
       "      <td>yes</td>\n",
       "      <td>2016-03-24 00:00:00</td>\n",
       "      <td>0</td>\n",
       "      <td>66954</td>\n",
       "      <td>2016-04-07 01:46:50</td>\n",
       "    </tr>\n",
       "    <tr>\n",
       "      <th>2</th>\n",
       "      <td>2016-03-14 12:52:21</td>\n",
       "      <td>9800</td>\n",
       "      <td>suv</td>\n",
       "      <td>2004</td>\n",
       "      <td>auto</td>\n",
       "      <td>163</td>\n",
       "      <td>grand</td>\n",
       "      <td>125000</td>\n",
       "      <td>8</td>\n",
       "      <td>gasoline</td>\n",
       "      <td>jeep</td>\n",
       "      <td>NaN</td>\n",
       "      <td>2016-03-14 00:00:00</td>\n",
       "      <td>0</td>\n",
       "      <td>90480</td>\n",
       "      <td>2016-04-05 12:47:46</td>\n",
       "    </tr>\n",
       "    <tr>\n",
       "      <th>3</th>\n",
       "      <td>2016-03-17 16:54:04</td>\n",
       "      <td>1500</td>\n",
       "      <td>small</td>\n",
       "      <td>2001</td>\n",
       "      <td>manual</td>\n",
       "      <td>75</td>\n",
       "      <td>golf</td>\n",
       "      <td>150000</td>\n",
       "      <td>6</td>\n",
       "      <td>petrol</td>\n",
       "      <td>volkswagen</td>\n",
       "      <td>no</td>\n",
       "      <td>2016-03-17 00:00:00</td>\n",
       "      <td>0</td>\n",
       "      <td>91074</td>\n",
       "      <td>2016-03-17 17:40:17</td>\n",
       "    </tr>\n",
       "    <tr>\n",
       "      <th>4</th>\n",
       "      <td>2016-03-31 17:25:20</td>\n",
       "      <td>3600</td>\n",
       "      <td>small</td>\n",
       "      <td>2008</td>\n",
       "      <td>manual</td>\n",
       "      <td>69</td>\n",
       "      <td>fabia</td>\n",
       "      <td>90000</td>\n",
       "      <td>7</td>\n",
       "      <td>gasoline</td>\n",
       "      <td>skoda</td>\n",
       "      <td>no</td>\n",
       "      <td>2016-03-31 00:00:00</td>\n",
       "      <td>0</td>\n",
       "      <td>60437</td>\n",
       "      <td>2016-04-06 10:17:21</td>\n",
       "    </tr>\n",
       "  </tbody>\n",
       "</table>\n",
       "</div>"
      ],
      "text/plain": [
       "           DateCrawled  Price VehicleType  RegistrationYear Gearbox  Power  \\\n",
       "0  2016-03-24 11:52:17    480         NaN              1993  manual      0   \n",
       "1  2016-03-24 10:58:45  18300       coupe              2011  manual    190   \n",
       "2  2016-03-14 12:52:21   9800         suv              2004    auto    163   \n",
       "3  2016-03-17 16:54:04   1500       small              2001  manual     75   \n",
       "4  2016-03-31 17:25:20   3600       small              2008  manual     69   \n",
       "\n",
       "   Model  Kilometer  RegistrationMonth  FuelType       Brand Repaired  \\\n",
       "0   golf     150000                  0    petrol  volkswagen      NaN   \n",
       "1    NaN     125000                  5  gasoline        audi      yes   \n",
       "2  grand     125000                  8  gasoline        jeep      NaN   \n",
       "3   golf     150000                  6    petrol  volkswagen       no   \n",
       "4  fabia      90000                  7  gasoline       skoda       no   \n",
       "\n",
       "           DateCreated  NumberOfPictures  PostalCode             LastSeen  \n",
       "0  2016-03-24 00:00:00                 0       70435  2016-04-07 03:16:57  \n",
       "1  2016-03-24 00:00:00                 0       66954  2016-04-07 01:46:50  \n",
       "2  2016-03-14 00:00:00                 0       90480  2016-04-05 12:47:46  \n",
       "3  2016-03-17 00:00:00                 0       91074  2016-03-17 17:40:17  \n",
       "4  2016-03-31 00:00:00                 0       60437  2016-04-06 10:17:21  "
      ]
     },
     "execution_count": 4,
     "metadata": {},
     "output_type": "execute_result"
    }
   ],
   "source": [
    "df.head()"
   ]
  },
  {
   "cell_type": "code",
   "execution_count": 5,
   "metadata": {},
   "outputs": [
    {
     "name": "stdout",
     "output_type": "stream",
     "text": [
      "<class 'pandas.core.frame.DataFrame'>\n",
      "RangeIndex: 354369 entries, 0 to 354368\n",
      "Data columns (total 16 columns):\n",
      " #   Column             Non-Null Count   Dtype \n",
      "---  ------             --------------   ----- \n",
      " 0   DateCrawled        354369 non-null  object\n",
      " 1   Price              354369 non-null  int64 \n",
      " 2   VehicleType        316879 non-null  object\n",
      " 3   RegistrationYear   354369 non-null  int64 \n",
      " 4   Gearbox            334536 non-null  object\n",
      " 5   Power              354369 non-null  int64 \n",
      " 6   Model              334664 non-null  object\n",
      " 7   Kilometer          354369 non-null  int64 \n",
      " 8   RegistrationMonth  354369 non-null  int64 \n",
      " 9   FuelType           321474 non-null  object\n",
      " 10  Brand              354369 non-null  object\n",
      " 11  Repaired           283215 non-null  object\n",
      " 12  DateCreated        354369 non-null  object\n",
      " 13  NumberOfPictures   354369 non-null  int64 \n",
      " 14  PostalCode         354369 non-null  int64 \n",
      " 15  LastSeen           354369 non-null  object\n",
      "dtypes: int64(7), object(9)\n",
      "memory usage: 43.3+ MB\n"
     ]
    }
   ],
   "source": [
    "df.info()"
   ]
  },
  {
   "cell_type": "code",
   "execution_count": 6,
   "metadata": {
    "scrolled": true
   },
   "outputs": [
    {
     "data": {
      "text/html": [
       "<div>\n",
       "<style scoped>\n",
       "    .dataframe tbody tr th:only-of-type {\n",
       "        vertical-align: middle;\n",
       "    }\n",
       "\n",
       "    .dataframe tbody tr th {\n",
       "        vertical-align: top;\n",
       "    }\n",
       "\n",
       "    .dataframe thead th {\n",
       "        text-align: right;\n",
       "    }\n",
       "</style>\n",
       "<table border=\"1\" class=\"dataframe\">\n",
       "  <thead>\n",
       "    <tr style=\"text-align: right;\">\n",
       "      <th></th>\n",
       "      <th>Price</th>\n",
       "      <th>RegistrationYear</th>\n",
       "      <th>Power</th>\n",
       "      <th>Kilometer</th>\n",
       "      <th>RegistrationMonth</th>\n",
       "      <th>NumberOfPictures</th>\n",
       "      <th>PostalCode</th>\n",
       "    </tr>\n",
       "  </thead>\n",
       "  <tbody>\n",
       "    <tr>\n",
       "      <th>count</th>\n",
       "      <td>354369.000000</td>\n",
       "      <td>354369.000000</td>\n",
       "      <td>354369.000000</td>\n",
       "      <td>354369.000000</td>\n",
       "      <td>354369.000000</td>\n",
       "      <td>354369.0</td>\n",
       "      <td>354369.000000</td>\n",
       "    </tr>\n",
       "    <tr>\n",
       "      <th>mean</th>\n",
       "      <td>4416.656776</td>\n",
       "      <td>2004.234448</td>\n",
       "      <td>110.094337</td>\n",
       "      <td>128211.172535</td>\n",
       "      <td>5.714645</td>\n",
       "      <td>0.0</td>\n",
       "      <td>50508.689087</td>\n",
       "    </tr>\n",
       "    <tr>\n",
       "      <th>std</th>\n",
       "      <td>4514.158514</td>\n",
       "      <td>90.227958</td>\n",
       "      <td>189.850405</td>\n",
       "      <td>37905.341530</td>\n",
       "      <td>3.726421</td>\n",
       "      <td>0.0</td>\n",
       "      <td>25783.096248</td>\n",
       "    </tr>\n",
       "    <tr>\n",
       "      <th>min</th>\n",
       "      <td>0.000000</td>\n",
       "      <td>1000.000000</td>\n",
       "      <td>0.000000</td>\n",
       "      <td>5000.000000</td>\n",
       "      <td>0.000000</td>\n",
       "      <td>0.0</td>\n",
       "      <td>1067.000000</td>\n",
       "    </tr>\n",
       "    <tr>\n",
       "      <th>25%</th>\n",
       "      <td>1050.000000</td>\n",
       "      <td>1999.000000</td>\n",
       "      <td>69.000000</td>\n",
       "      <td>125000.000000</td>\n",
       "      <td>3.000000</td>\n",
       "      <td>0.0</td>\n",
       "      <td>30165.000000</td>\n",
       "    </tr>\n",
       "    <tr>\n",
       "      <th>50%</th>\n",
       "      <td>2700.000000</td>\n",
       "      <td>2003.000000</td>\n",
       "      <td>105.000000</td>\n",
       "      <td>150000.000000</td>\n",
       "      <td>6.000000</td>\n",
       "      <td>0.0</td>\n",
       "      <td>49413.000000</td>\n",
       "    </tr>\n",
       "    <tr>\n",
       "      <th>75%</th>\n",
       "      <td>6400.000000</td>\n",
       "      <td>2008.000000</td>\n",
       "      <td>143.000000</td>\n",
       "      <td>150000.000000</td>\n",
       "      <td>9.000000</td>\n",
       "      <td>0.0</td>\n",
       "      <td>71083.000000</td>\n",
       "    </tr>\n",
       "    <tr>\n",
       "      <th>max</th>\n",
       "      <td>20000.000000</td>\n",
       "      <td>9999.000000</td>\n",
       "      <td>20000.000000</td>\n",
       "      <td>150000.000000</td>\n",
       "      <td>12.000000</td>\n",
       "      <td>0.0</td>\n",
       "      <td>99998.000000</td>\n",
       "    </tr>\n",
       "  </tbody>\n",
       "</table>\n",
       "</div>"
      ],
      "text/plain": [
       "               Price  RegistrationYear          Power      Kilometer  \\\n",
       "count  354369.000000     354369.000000  354369.000000  354369.000000   \n",
       "mean     4416.656776       2004.234448     110.094337  128211.172535   \n",
       "std      4514.158514         90.227958     189.850405   37905.341530   \n",
       "min         0.000000       1000.000000       0.000000    5000.000000   \n",
       "25%      1050.000000       1999.000000      69.000000  125000.000000   \n",
       "50%      2700.000000       2003.000000     105.000000  150000.000000   \n",
       "75%      6400.000000       2008.000000     143.000000  150000.000000   \n",
       "max     20000.000000       9999.000000   20000.000000  150000.000000   \n",
       "\n",
       "       RegistrationMonth  NumberOfPictures     PostalCode  \n",
       "count      354369.000000          354369.0  354369.000000  \n",
       "mean            5.714645               0.0   50508.689087  \n",
       "std             3.726421               0.0   25783.096248  \n",
       "min             0.000000               0.0    1067.000000  \n",
       "25%             3.000000               0.0   30165.000000  \n",
       "50%             6.000000               0.0   49413.000000  \n",
       "75%             9.000000               0.0   71083.000000  \n",
       "max            12.000000               0.0   99998.000000  "
      ]
     },
     "execution_count": 6,
     "metadata": {},
     "output_type": "execute_result"
    }
   ],
   "source": [
    "df.describe()"
   ]
  },
  {
   "cell_type": "markdown",
   "metadata": {},
   "source": [
    "В данных есть несколько столбцов, которые являются неинформативные. Избавимся от них"
   ]
  },
  {
   "cell_type": "code",
   "execution_count": 7,
   "metadata": {},
   "outputs": [
    {
     "data": {
      "text/html": [
       "<div>\n",
       "<style scoped>\n",
       "    .dataframe tbody tr th:only-of-type {\n",
       "        vertical-align: middle;\n",
       "    }\n",
       "\n",
       "    .dataframe tbody tr th {\n",
       "        vertical-align: top;\n",
       "    }\n",
       "\n",
       "    .dataframe thead th {\n",
       "        text-align: right;\n",
       "    }\n",
       "</style>\n",
       "<table border=\"1\" class=\"dataframe\">\n",
       "  <thead>\n",
       "    <tr style=\"text-align: right;\">\n",
       "      <th></th>\n",
       "      <th>Price</th>\n",
       "      <th>VehicleType</th>\n",
       "      <th>RegistrationYear</th>\n",
       "      <th>Gearbox</th>\n",
       "      <th>Power</th>\n",
       "      <th>Model</th>\n",
       "      <th>Kilometer</th>\n",
       "      <th>FuelType</th>\n",
       "      <th>Brand</th>\n",
       "      <th>Repaired</th>\n",
       "    </tr>\n",
       "  </thead>\n",
       "  <tbody>\n",
       "    <tr>\n",
       "      <th>0</th>\n",
       "      <td>480</td>\n",
       "      <td>NaN</td>\n",
       "      <td>1993</td>\n",
       "      <td>manual</td>\n",
       "      <td>0</td>\n",
       "      <td>golf</td>\n",
       "      <td>150000</td>\n",
       "      <td>petrol</td>\n",
       "      <td>volkswagen</td>\n",
       "      <td>NaN</td>\n",
       "    </tr>\n",
       "    <tr>\n",
       "      <th>1</th>\n",
       "      <td>18300</td>\n",
       "      <td>coupe</td>\n",
       "      <td>2011</td>\n",
       "      <td>manual</td>\n",
       "      <td>190</td>\n",
       "      <td>NaN</td>\n",
       "      <td>125000</td>\n",
       "      <td>gasoline</td>\n",
       "      <td>audi</td>\n",
       "      <td>yes</td>\n",
       "    </tr>\n",
       "    <tr>\n",
       "      <th>2</th>\n",
       "      <td>9800</td>\n",
       "      <td>suv</td>\n",
       "      <td>2004</td>\n",
       "      <td>auto</td>\n",
       "      <td>163</td>\n",
       "      <td>grand</td>\n",
       "      <td>125000</td>\n",
       "      <td>gasoline</td>\n",
       "      <td>jeep</td>\n",
       "      <td>NaN</td>\n",
       "    </tr>\n",
       "    <tr>\n",
       "      <th>3</th>\n",
       "      <td>1500</td>\n",
       "      <td>small</td>\n",
       "      <td>2001</td>\n",
       "      <td>manual</td>\n",
       "      <td>75</td>\n",
       "      <td>golf</td>\n",
       "      <td>150000</td>\n",
       "      <td>petrol</td>\n",
       "      <td>volkswagen</td>\n",
       "      <td>no</td>\n",
       "    </tr>\n",
       "    <tr>\n",
       "      <th>4</th>\n",
       "      <td>3600</td>\n",
       "      <td>small</td>\n",
       "      <td>2008</td>\n",
       "      <td>manual</td>\n",
       "      <td>69</td>\n",
       "      <td>fabia</td>\n",
       "      <td>90000</td>\n",
       "      <td>gasoline</td>\n",
       "      <td>skoda</td>\n",
       "      <td>no</td>\n",
       "    </tr>\n",
       "    <tr>\n",
       "      <th>...</th>\n",
       "      <td>...</td>\n",
       "      <td>...</td>\n",
       "      <td>...</td>\n",
       "      <td>...</td>\n",
       "      <td>...</td>\n",
       "      <td>...</td>\n",
       "      <td>...</td>\n",
       "      <td>...</td>\n",
       "      <td>...</td>\n",
       "      <td>...</td>\n",
       "    </tr>\n",
       "    <tr>\n",
       "      <th>354364</th>\n",
       "      <td>0</td>\n",
       "      <td>NaN</td>\n",
       "      <td>2005</td>\n",
       "      <td>manual</td>\n",
       "      <td>0</td>\n",
       "      <td>colt</td>\n",
       "      <td>150000</td>\n",
       "      <td>petrol</td>\n",
       "      <td>mitsubishi</td>\n",
       "      <td>yes</td>\n",
       "    </tr>\n",
       "    <tr>\n",
       "      <th>354365</th>\n",
       "      <td>2200</td>\n",
       "      <td>NaN</td>\n",
       "      <td>2005</td>\n",
       "      <td>NaN</td>\n",
       "      <td>0</td>\n",
       "      <td>NaN</td>\n",
       "      <td>20000</td>\n",
       "      <td>NaN</td>\n",
       "      <td>sonstige_autos</td>\n",
       "      <td>NaN</td>\n",
       "    </tr>\n",
       "    <tr>\n",
       "      <th>354366</th>\n",
       "      <td>1199</td>\n",
       "      <td>convertible</td>\n",
       "      <td>2000</td>\n",
       "      <td>auto</td>\n",
       "      <td>101</td>\n",
       "      <td>fortwo</td>\n",
       "      <td>125000</td>\n",
       "      <td>petrol</td>\n",
       "      <td>smart</td>\n",
       "      <td>no</td>\n",
       "    </tr>\n",
       "    <tr>\n",
       "      <th>354367</th>\n",
       "      <td>9200</td>\n",
       "      <td>bus</td>\n",
       "      <td>1996</td>\n",
       "      <td>manual</td>\n",
       "      <td>102</td>\n",
       "      <td>transporter</td>\n",
       "      <td>150000</td>\n",
       "      <td>gasoline</td>\n",
       "      <td>volkswagen</td>\n",
       "      <td>no</td>\n",
       "    </tr>\n",
       "    <tr>\n",
       "      <th>354368</th>\n",
       "      <td>3400</td>\n",
       "      <td>wagon</td>\n",
       "      <td>2002</td>\n",
       "      <td>manual</td>\n",
       "      <td>100</td>\n",
       "      <td>golf</td>\n",
       "      <td>150000</td>\n",
       "      <td>gasoline</td>\n",
       "      <td>volkswagen</td>\n",
       "      <td>NaN</td>\n",
       "    </tr>\n",
       "  </tbody>\n",
       "</table>\n",
       "<p>354369 rows × 10 columns</p>\n",
       "</div>"
      ],
      "text/plain": [
       "        Price  VehicleType  RegistrationYear Gearbox  Power        Model  \\\n",
       "0         480          NaN              1993  manual      0         golf   \n",
       "1       18300        coupe              2011  manual    190          NaN   \n",
       "2        9800          suv              2004    auto    163        grand   \n",
       "3        1500        small              2001  manual     75         golf   \n",
       "4        3600        small              2008  manual     69        fabia   \n",
       "...       ...          ...               ...     ...    ...          ...   \n",
       "354364      0          NaN              2005  manual      0         colt   \n",
       "354365   2200          NaN              2005     NaN      0          NaN   \n",
       "354366   1199  convertible              2000    auto    101       fortwo   \n",
       "354367   9200          bus              1996  manual    102  transporter   \n",
       "354368   3400        wagon              2002  manual    100         golf   \n",
       "\n",
       "        Kilometer  FuelType           Brand Repaired  \n",
       "0          150000    petrol      volkswagen      NaN  \n",
       "1          125000  gasoline            audi      yes  \n",
       "2          125000  gasoline            jeep      NaN  \n",
       "3          150000    petrol      volkswagen       no  \n",
       "4           90000  gasoline           skoda       no  \n",
       "...           ...       ...             ...      ...  \n",
       "354364     150000    petrol      mitsubishi      yes  \n",
       "354365      20000       NaN  sonstige_autos      NaN  \n",
       "354366     125000    petrol           smart       no  \n",
       "354367     150000  gasoline      volkswagen       no  \n",
       "354368     150000  gasoline      volkswagen      NaN  \n",
       "\n",
       "[354369 rows x 10 columns]"
      ]
     },
     "execution_count": 7,
     "metadata": {},
     "output_type": "execute_result"
    }
   ],
   "source": [
    "df = df.drop(['NumberOfPictures', 'PostalCode', 'DateCrawled', 'RegistrationMonth', 'DateCreated', 'LastSeen'], axis=1)\n",
    "df"
   ]
  },
  {
   "cell_type": "markdown",
   "metadata": {},
   "source": [
    "Приведем заголовки к стандарту."
   ]
  },
  {
   "cell_type": "code",
   "execution_count": null,
   "metadata": {},
   "outputs": [],
   "source": []
  },
  {
   "cell_type": "code",
   "execution_count": 8,
   "metadata": {
    "scrolled": true
   },
   "outputs": [
    {
     "data": {
      "text/plain": [
       "Index(['price', 'vehicle_type', 'registration_year', 'gearbox', 'power',\n",
       "       'model', 'kilometer', 'fuel_type', 'brand', 'repaired'],\n",
       "      dtype='object')"
      ]
     },
     "execution_count": 8,
     "metadata": {},
     "output_type": "execute_result"
    }
   ],
   "source": [
    "df.columns = [re.sub(r'([A-Z])', r' \\1', x).strip().replace(' ', '_').lower() for x in df.columns]\n",
    "df.columns"
   ]
  },
  {
   "cell_type": "code",
   "execution_count": 9,
   "metadata": {
    "scrolled": true
   },
   "outputs": [
    {
     "name": "stdout",
     "output_type": "stream",
     "text": [
      "price :\n",
      " [    0     1     2 ... 19998 19999 20000]\n",
      "\n",
      "vehicle_type :\n",
      " ['bus' 'convertible' 'coupe' 'other' 'sedan' 'small' 'suv' 'wagon' nan]\n",
      "\n",
      "registration_year :\n",
      " [1000 1001 1039 1111 1200 1234 1253 1255 1300 1400 1500 1600 1602 1688\n",
      " 1800 1910 1915 1919 1920 1923 1925 1927 1928 1929 1930 1931 1932 1933\n",
      " 1934 1935 1936 1937 1938 1940 1941 1942 1943 1944 1945 1946 1947 1948\n",
      " 1949 1950 1951 1952 1953 1954 1955 1956 1957 1958 1959 1960 1961 1962\n",
      " 1963 1964 1965 1966 1967 1968 1969 1970 1971 1972 1973 1974 1975 1976\n",
      " 1977 1978 1979 1980 1981 1982 1983 1984 1985 1986 1987 1988 1989 1990\n",
      " 1991 1992 1993 1994 1995 1996 1997 1998 1999 2000 2001 2002 2003 2004\n",
      " 2005 2006 2007 2008 2009 2010 2011 2012 2013 2014 2015 2016 2017 2018\n",
      " 2019 2066 2200 2222 2290 2500 2800 2900 3000 3200 3500 3700 3800 4000\n",
      " 4100 4500 4800 5000 5300 5555 5600 5900 5911 6000 6500 7000 7100 7500\n",
      " 7800 8000 8200 8455 8500 8888 9000 9229 9450 9996 9999]\n",
      "\n",
      "gearbox :\n",
      " ['auto' 'manual' nan]\n",
      "\n",
      "power :\n",
      " [    0     1     2     3     4     5     6     7     8     9    10    11\n",
      "    12    13    14    15    16    17    18    19    20    21    22    23\n",
      "    24    25    26    27    28    29    30    31    32    33    34    35\n",
      "    36    37    38    39    40    41    42    43    44    45    46    47\n",
      "    48    49    50    51    52    53    54    55    56    57    58    59\n",
      "    60    61    62    63    64    65    66    67    68    69    70    71\n",
      "    72    73    74    75    76    77    78    79    80    81    82    83\n",
      "    84    85    86    87    88    89    90    91    92    93    94    95\n",
      "    96    97    98    99   100   101   102   103   104   105   106   107\n",
      "   108   109   110   111   112   113   114   115   116   117   118   119\n",
      "   120   121   122   123   124   125   126   127   128   129   130   131\n",
      "   132   133   134   135   136   137   138   139   140   141   142   143\n",
      "   144   145   146   147   148   149   150   151   152   153   154   155\n",
      "   156   157   158   159   160   161   162   163   164   165   166   167\n",
      "   168   169   170   171   172   173   174   175   176   177   178   179\n",
      "   180   181   182   183   184   185   186   187   188   189   190   191\n",
      "   192   193   194   195   196   197   198   199   200   201   202   203\n",
      "   204   205   206   207   208   209   210   211   212   213   214   215\n",
      "   216   217   218   219   220   221   222   223   224   225   226   227\n",
      "   228   229   230   231   232   233   234   235   236   237   238   239\n",
      "   240   241   242   243   244   245   246   247   248   249   250   251\n",
      "   252   253   254   255   256   257   258   259   260   261   262   264\n",
      "   265   266   267   268   269   270   271   272   273   274   275   276\n",
      "   277   278   279   280   281   282   283   284   285   286   287   288\n",
      "   289   290   292   293   294   295   296   297   298   299   300   301\n",
      "   303   304   305   306   307   308   309   310   311   313   314   315\n",
      "   316   317   318   320   321   322   323   324   325   326   327   328\n",
      "   329   330   331   332   333   334   335   336   337   338   339   340\n",
      "   341   343   344   345   346   347   348   349   350   351   352   353\n",
      "   354   355   356   357   358   360   361   362   363   364   365   367\n",
      "   368   370   371   374   375   376   377   379   380   381   382   385\n",
      "   386   387   388   390   392   394   396   398   399   400   401   402\n",
      "   405   408   409   411   416   420   421   425   426   428   430   431\n",
      "   435   440   442   445   449   450   454   457   459   460   475   476\n",
      "   485   487   489   490   500   504   505   507   508   510   514   515\n",
      "   517   519   520   521   525   530   540   541   544   550   551   553\n",
      "   560   572   574   579   580   584   585   599   600   601   602   603\n",
      "   604   606   607   610   612   620   640   645   650   651   671   678\n",
      "   682   685   696   700   702   703   732   743   750   751   754   771\n",
      "   776   800   805   808   850   851   871   900   901   902   903   907\n",
      "   909   923   950   952   953   960   998   999  1000  1001  1002  1003\n",
      "  1004  1005  1011  1012  1016  1017  1021  1024  1054  1055  1056  1062\n",
      "  1079  1082  1090  1100  1102  1103  1105  1111  1115  1120  1149  1151\n",
      "  1158  1160  1162  1164  1199  1200  1202  1221  1223  1230  1239  1240\n",
      "  1241  1250  1252  1256  1275  1288  1299  1300  1312  1317  1324  1339\n",
      "  1351  1360  1362  1363  1367  1390  1394  1398  1399  1400  1401  1403\n",
      "  1405  1416  1432  1433  1436  1500  1501  1502  1503  1506  1521  1548\n",
      "  1595  1596  1597  1598  1600  1625  1631  1653  1659  1689  1700  1701\n",
      "  1703  1704  1707  1753  1771  1779  1780  1781  1783  1793  1796  1799\n",
      "  1800  1801  1870  1895  1896  1900  1910  1920  1922  1933  1937  1968\n",
      "  1986  1988  1992  1993  1995  1998  1999  2000  2004  2005  2007  2009\n",
      "  2016  2017  2018  2172  2200  2201  2331  2340  2389  2402  2461  2598\n",
      "  2729  2789  2792  2799  3000  3199  3454  3500  3750  4400  4507  4700\n",
      "  5000  5411  5420  5575  5809  5815  5867  6006  6010  6011  6012  6018\n",
      "  6045  6062  6226  6512  6920  7508  7511  7512  7515  7518  7529  7544\n",
      "  8011  8259  8404  8500  9000  9007  9010  9011  9012  9013  9710 10000\n",
      " 10110 10218 10311 10317 10520 10522 10710 10910 10912 11011 11025 11111\n",
      " 11509 11530 11635 12012 12510 12512 12684 13616 13636 14009 15001 15016\n",
      " 15017 15020 15033 16011 16051 16311 16312 17011 17019 17410 17700 17932\n",
      " 19208 19211 19312 20000]\n",
      "\n",
      "model :\n",
      " ['100' '145' '147' '156' '159' '1_reihe' '1er' '200' '2_reihe' '300c'\n",
      " '3_reihe' '3er' '4_reihe' '500' '5_reihe' '5er' '601' '6_reihe' '6er'\n",
      " '7er' '80' '850' '90' '900' '9000' '911' 'a1' 'a2' 'a3' 'a4' 'a5' 'a6'\n",
      " 'a8' 'a_klasse' 'accord' 'agila' 'alhambra' 'almera' 'altea' 'amarok'\n",
      " 'antara' 'arosa' 'astra' 'auris' 'avensis' 'aveo' 'aygo' 'b_klasse'\n",
      " 'b_max' 'beetle' 'berlingo' 'bora' 'boxster' 'bravo' 'c1' 'c2' 'c3' 'c4'\n",
      " 'c5' 'c_klasse' 'c_max' 'c_reihe' 'caddy' 'calibra' 'captiva' 'carisma'\n",
      " 'carnival' 'cayenne' 'cc' 'ceed' 'charade' 'cherokee' 'citigo' 'civic'\n",
      " 'cl' 'clio' 'clk' 'clubman' 'colt' 'combo' 'cooper' 'cordoba' 'corolla'\n",
      " 'corsa' 'cr_reihe' 'croma' 'crossfire' 'cuore' 'cx_reihe' 'defender'\n",
      " 'delta' 'discovery' 'doblo' 'ducato' 'duster' 'e_klasse' 'elefantino'\n",
      " 'eos' 'escort' 'espace' 'exeo' 'fabia' 'fiesta' 'focus' 'forester'\n",
      " 'forfour' 'fortwo' 'fox' 'freelander' 'fusion' 'g_klasse' 'galant'\n",
      " 'galaxy' 'getz' 'gl' 'glk' 'golf' 'grand' 'i3' 'i_reihe' 'ibiza'\n",
      " 'impreza' 'insignia' 'jazz' 'jetta' 'jimny' 'juke' 'justy' 'ka' 'kadett'\n",
      " 'kaefer' 'kalina' 'kalos' 'kangoo' 'kappa' 'kuga' 'laguna' 'lancer'\n",
      " 'lanos' 'legacy' 'leon' 'lodgy' 'logan' 'lupo' 'lybra' 'm_klasse'\n",
      " 'm_reihe' 'materia' 'matiz' 'megane' 'meriva' 'micra' 'mii' 'modus'\n",
      " 'mondeo' 'move' 'musa' 'mustang' 'mx_reihe' 'navara' 'niva' 'note'\n",
      " 'nubira' 'octavia' 'omega' 'one' 'other' 'outlander' 'pajero' 'panda'\n",
      " 'passat' 'phaeton' 'picanto' 'polo' 'primera' 'ptcruiser' 'punto' 'q3'\n",
      " 'q5' 'q7' 'qashqai' 'r19' 'range_rover' 'range_rover_evoque'\n",
      " 'range_rover_sport' 'rangerover' 'rav' 'rio' 'roadster' 'roomster'\n",
      " 'rx_reihe' 's60' 's_klasse' 's_max' 's_type' 'samara' 'sandero' 'santa'\n",
      " 'scenic' 'scirocco' 'seicento' 'serie_1' 'serie_2' 'serie_3' 'sharan'\n",
      " 'signum' 'sirion' 'sl' 'slk' 'sorento' 'spark' 'spider' 'sportage'\n",
      " 'sprinter' 'stilo' 'superb' 'swift' 'terios' 'tigra' 'tiguan' 'toledo'\n",
      " 'touareg' 'touran' 'transit' 'transporter' 'tt' 'tucson' 'twingo' 'up'\n",
      " 'v40' 'v50' 'v60' 'v70' 'v_klasse' 'vectra' 'verso' 'viano' 'vito'\n",
      " 'vivaro' 'voyager' 'wrangler' 'x_reihe' 'x_trail' 'x_type' 'xc_reihe'\n",
      " 'yaris' 'yeti' 'ypsilon' 'z_reihe' 'zafira' nan]\n",
      "\n",
      "kilometer :\n",
      " [  5000  10000  20000  30000  40000  50000  60000  70000  80000  90000\n",
      " 100000 125000 150000]\n",
      "\n",
      "fuel_type :\n",
      " ['cng' 'electric' 'gasoline' 'hybrid' 'lpg' 'other' 'petrol' nan]\n",
      "\n",
      "brand :\n",
      " ['alfa_romeo' 'audi' 'bmw' 'chevrolet' 'chrysler' 'citroen' 'dacia'\n",
      " 'daewoo' 'daihatsu' 'fiat' 'ford' 'honda' 'hyundai' 'jaguar' 'jeep' 'kia'\n",
      " 'lada' 'lancia' 'land_rover' 'mazda' 'mercedes_benz' 'mini' 'mitsubishi'\n",
      " 'nissan' 'opel' 'peugeot' 'porsche' 'renault' 'rover' 'saab' 'seat'\n",
      " 'skoda' 'smart' 'sonstige_autos' 'subaru' 'suzuki' 'toyota' 'trabant'\n",
      " 'volkswagen' 'volvo']\n",
      "\n",
      "repaired :\n",
      " ['no' 'yes' nan]\n",
      "\n"
     ]
    }
   ],
   "source": [
    "for i in df.columns:\n",
    "    print(i, ':\\n', df[i].sort_values().unique())\n",
    "    print()\n",
    "    if df[i].dtypes == 'int':\n",
    "        plt.boxplot(df[i])\n",
    "        plt.show()"
   ]
  },
  {
   "cell_type": "code",
   "execution_count": 10,
   "metadata": {},
   "outputs": [
    {
     "data": {
      "image/png": "[encoded data removed]",
      "text/plain": [
       "<Figure size 1000x1000 with 20 Axes>"
      ]
     },
     "metadata": {},
     "output_type": "display_data"
    }
   ],
   "source": [
    "sns.pairplot(df);"
   ]
  },
  {
   "cell_type": "markdown",
   "metadata": {},
   "source": [
    "В некоторых столбцах (`power, registration_year, price`) еще есть аномальные значения, надо их рассмотреть поближе."
   ]
  },
  {
   "cell_type": "markdown",
   "metadata": {},
   "source": [
    "### Дубликаты"
   ]
  },
  {
   "cell_type": "code",
   "execution_count": 11,
   "metadata": {
    "scrolled": false
   },
   "outputs": [
    {
     "name": "stdout",
     "output_type": "stream",
     "text": [
      "Количество дубликатов: 45040\n"
     ]
    }
   ],
   "source": [
    "print('Количество дубликатов:', sum(df.duplicated()))"
   ]
  },
  {
   "cell_type": "code",
   "execution_count": 12,
   "metadata": {},
   "outputs": [
    {
     "data": {
      "text/plain": [
       "45040"
      ]
     },
     "execution_count": 12,
     "metadata": {},
     "output_type": "execute_result"
    }
   ],
   "source": [
    "dubl_df = df.drop_duplicates()\n",
    "df.shape[0] - dubl_df.shape[0]"
   ]
  },
  {
   "cell_type": "markdown",
   "metadata": {},
   "source": [
    "### Пропуски"
   ]
  },
  {
   "cell_type": "code",
   "execution_count": 13,
   "metadata": {
    "scrolled": true
   },
   "outputs": [
    {
     "data": {
      "text/plain": [
       "(18361, 10)"
      ]
     },
     "execution_count": 13,
     "metadata": {},
     "output_type": "execute_result"
    }
   ],
   "source": [
    "dubl_df.loc[dubl_df['model'].isna()].shape"
   ]
  },
  {
   "cell_type": "markdown",
   "metadata": {},
   "source": [
    "Модель автомобиля очень важный показатель."
   ]
  },
  {
   "cell_type": "code",
   "execution_count": 14,
   "metadata": {},
   "outputs": [],
   "source": [
    "dubl_df.loc[dubl_df['model'].isna(), 'model'] = 'unknown'"
   ]
  },
  {
   "cell_type": "markdown",
   "metadata": {},
   "source": [
    "* repaired - не столь важный признак, потому заменим пропуски на `unknown`"
   ]
  },
  {
   "cell_type": "code",
   "execution_count": 15,
   "metadata": {},
   "outputs": [],
   "source": [
    "dubl_df['repaired'] = dubl_df['repaired'].fillna('unknown')"
   ]
  },
  {
   "cell_type": "markdown",
   "metadata": {},
   "source": [
    "### Аномалии"
   ]
  },
  {
   "cell_type": "markdown",
   "metadata": {},
   "source": [
    "#### price"
   ]
  },
  {
   "cell_type": "code",
   "execution_count": 16,
   "metadata": {},
   "outputs": [
    {
     "data": {
      "text/plain": [
       "price\n",
       "0        8904\n",
       "1        1075\n",
       "2          12\n",
       "3           7\n",
       "4           1\n",
       "         ... \n",
       "19995       9\n",
       "19997       1\n",
       "19998       5\n",
       "19999     252\n",
       "20000     223\n",
       "Name: count, Length: 3731, dtype: int64"
      ]
     },
     "execution_count": 16,
     "metadata": {},
     "output_type": "execute_result"
    }
   ],
   "source": [
    "dubl_df['price'].value_counts().sort_index()"
   ]
  },
  {
   "cell_type": "markdown",
   "metadata": {},
   "source": [
    "Невероятное количество значений `0`. "
   ]
  },
  {
   "cell_type": "markdown",
   "metadata": {},
   "source": [
    "Цена - признак крайне важный, потому удалим строки с `0`."
   ]
  },
  {
   "cell_type": "code",
   "execution_count": 17,
   "metadata": {},
   "outputs": [],
   "source": [
    "dubl_df = dubl_df.loc[dubl_df['price'] != 0]"
   ]
  },
  {
   "cell_type": "markdown",
   "metadata": {},
   "source": [
    "#### power"
   ]
  },
  {
   "cell_type": "code",
   "execution_count": 18,
   "metadata": {},
   "outputs": [
    {
     "data": {
      "text/plain": [
       "power\n",
       "0        32972\n",
       "1           26\n",
       "2            9\n",
       "3            9\n",
       "4           26\n",
       "         ...  \n",
       "17932        1\n",
       "19208        1\n",
       "19211        1\n",
       "19312        1\n",
       "20000        1\n",
       "Name: count, Length: 701, dtype: int64"
      ]
     },
     "execution_count": 18,
     "metadata": {},
     "output_type": "execute_result"
    }
   ],
   "source": [
    "dubl_df['power'].value_counts().sort_index()"
   ]
  },
  {
   "cell_type": "code",
   "execution_count": 19,
   "metadata": {},
   "outputs": [
    {
     "data": {
      "text/plain": [
       "(33253,)"
      ]
     },
     "execution_count": 19,
     "metadata": {},
     "output_type": "execute_result"
    }
   ],
   "source": [
    "dubl_df.loc[(dubl_df['power'] > 1000) | (dubl_df['power'] <= 0), 'power'].shape"
   ]
  },
  {
   "cell_type": "markdown",
   "metadata": {},
   "source": [
    "Заменим неправдоподобные значения медианами среди автомобилей той же модели."
   ]
  },
  {
   "cell_type": "code",
   "execution_count": 20,
   "metadata": {},
   "outputs": [],
   "source": [
    "dubl_df.loc[(dubl_df['power'] > 1000) | (dubl_df['power'] <= 0), 'power'] = None\n",
    "\n",
    "dubl_df['power'] = dubl_df['power'].fillna(dubl_df.groupby('model')['power'].transform('median'))\n",
    "dubl_df = dubl_df.loc[~dubl_df['power'].isna()]\n",
    "\n",
    "dubl_df['power'] = dubl_df['power'].astype('int64')"
   ]
  },
  {
   "cell_type": "markdown",
   "metadata": {},
   "source": [
    "#### registration_year"
   ]
  },
  {
   "cell_type": "code",
   "execution_count": 21,
   "metadata": {},
   "outputs": [
    {
     "data": {
      "text/plain": [
       "(83, 10)"
      ]
     },
     "execution_count": 21,
     "metadata": {},
     "output_type": "execute_result"
    }
   ],
   "source": [
    "dubl_df.loc[dubl_df['registration_year'] > 2020].shape"
   ]
  },
  {
   "cell_type": "code",
   "execution_count": 22,
   "metadata": {
    "scrolled": true
   },
   "outputs": [
    {
     "data": {
      "text/html": [
       "<div>\n",
       "<style scoped>\n",
       "    .dataframe tbody tr th:only-of-type {\n",
       "        vertical-align: middle;\n",
       "    }\n",
       "\n",
       "    .dataframe tbody tr th {\n",
       "        vertical-align: top;\n",
       "    }\n",
       "\n",
       "    .dataframe thead th {\n",
       "        text-align: right;\n",
       "    }\n",
       "</style>\n",
       "<table border=\"1\" class=\"dataframe\">\n",
       "  <thead>\n",
       "    <tr style=\"text-align: right;\">\n",
       "      <th></th>\n",
       "      <th>price</th>\n",
       "      <th>vehicle_type</th>\n",
       "      <th>registration_year</th>\n",
       "      <th>gearbox</th>\n",
       "      <th>power</th>\n",
       "      <th>model</th>\n",
       "      <th>kilometer</th>\n",
       "      <th>fuel_type</th>\n",
       "      <th>brand</th>\n",
       "      <th>repaired</th>\n",
       "    </tr>\n",
       "  </thead>\n",
       "  <tbody>\n",
       "    <tr>\n",
       "      <th>12946</th>\n",
       "      <td>49</td>\n",
       "      <td>NaN</td>\n",
       "      <td>5000</td>\n",
       "      <td>NaN</td>\n",
       "      <td>101</td>\n",
       "      <td>golf</td>\n",
       "      <td>5000</td>\n",
       "      <td>NaN</td>\n",
       "      <td>volkswagen</td>\n",
       "      <td>unknown</td>\n",
       "    </tr>\n",
       "    <tr>\n",
       "      <th>15870</th>\n",
       "      <td>1700</td>\n",
       "      <td>NaN</td>\n",
       "      <td>3200</td>\n",
       "      <td>NaN</td>\n",
       "      <td>106</td>\n",
       "      <td>unknown</td>\n",
       "      <td>5000</td>\n",
       "      <td>NaN</td>\n",
       "      <td>sonstige_autos</td>\n",
       "      <td>unknown</td>\n",
       "    </tr>\n",
       "    <tr>\n",
       "      <th>17271</th>\n",
       "      <td>700</td>\n",
       "      <td>NaN</td>\n",
       "      <td>9999</td>\n",
       "      <td>NaN</td>\n",
       "      <td>116</td>\n",
       "      <td>other</td>\n",
       "      <td>10000</td>\n",
       "      <td>NaN</td>\n",
       "      <td>opel</td>\n",
       "      <td>unknown</td>\n",
       "    </tr>\n",
       "    <tr>\n",
       "      <th>17346</th>\n",
       "      <td>6500</td>\n",
       "      <td>NaN</td>\n",
       "      <td>8888</td>\n",
       "      <td>NaN</td>\n",
       "      <td>106</td>\n",
       "      <td>unknown</td>\n",
       "      <td>10000</td>\n",
       "      <td>NaN</td>\n",
       "      <td>sonstige_autos</td>\n",
       "      <td>unknown</td>\n",
       "    </tr>\n",
       "    <tr>\n",
       "      <th>18259</th>\n",
       "      <td>300</td>\n",
       "      <td>NaN</td>\n",
       "      <td>2200</td>\n",
       "      <td>NaN</td>\n",
       "      <td>58</td>\n",
       "      <td>twingo</td>\n",
       "      <td>5000</td>\n",
       "      <td>NaN</td>\n",
       "      <td>renault</td>\n",
       "      <td>unknown</td>\n",
       "    </tr>\n",
       "    <tr>\n",
       "      <th>20159</th>\n",
       "      <td>1600</td>\n",
       "      <td>NaN</td>\n",
       "      <td>4100</td>\n",
       "      <td>NaN</td>\n",
       "      <td>106</td>\n",
       "      <td>unknown</td>\n",
       "      <td>5000</td>\n",
       "      <td>NaN</td>\n",
       "      <td>sonstige_autos</td>\n",
       "      <td>unknown</td>\n",
       "    </tr>\n",
       "    <tr>\n",
       "      <th>26382</th>\n",
       "      <td>150</td>\n",
       "      <td>NaN</td>\n",
       "      <td>3000</td>\n",
       "      <td>NaN</td>\n",
       "      <td>95</td>\n",
       "      <td>a_klasse</td>\n",
       "      <td>5000</td>\n",
       "      <td>NaN</td>\n",
       "      <td>mercedes_benz</td>\n",
       "      <td>unknown</td>\n",
       "    </tr>\n",
       "    <tr>\n",
       "      <th>26560</th>\n",
       "      <td>800</td>\n",
       "      <td>NaN</td>\n",
       "      <td>2066</td>\n",
       "      <td>NaN</td>\n",
       "      <td>125</td>\n",
       "      <td>zafira</td>\n",
       "      <td>5000</td>\n",
       "      <td>gasoline</td>\n",
       "      <td>opel</td>\n",
       "      <td>unknown</td>\n",
       "    </tr>\n",
       "    <tr>\n",
       "      <th>28390</th>\n",
       "      <td>799</td>\n",
       "      <td>NaN</td>\n",
       "      <td>9999</td>\n",
       "      <td>NaN</td>\n",
       "      <td>150</td>\n",
       "      <td>3er</td>\n",
       "      <td>10000</td>\n",
       "      <td>petrol</td>\n",
       "      <td>bmw</td>\n",
       "      <td>unknown</td>\n",
       "    </tr>\n",
       "    <tr>\n",
       "      <th>28965</th>\n",
       "      <td>18000</td>\n",
       "      <td>NaN</td>\n",
       "      <td>9999</td>\n",
       "      <td>NaN</td>\n",
       "      <td>95</td>\n",
       "      <td>a_klasse</td>\n",
       "      <td>10000</td>\n",
       "      <td>petrol</td>\n",
       "      <td>mercedes_benz</td>\n",
       "      <td>unknown</td>\n",
       "    </tr>\n",
       "  </tbody>\n",
       "</table>\n",
       "</div>"
      ],
      "text/plain": [
       "       price vehicle_type  registration_year gearbox  power     model  \\\n",
       "12946     49          NaN               5000     NaN    101      golf   \n",
       "15870   1700          NaN               3200     NaN    106   unknown   \n",
       "17271    700          NaN               9999     NaN    116     other   \n",
       "17346   6500          NaN               8888     NaN    106   unknown   \n",
       "18259    300          NaN               2200     NaN     58    twingo   \n",
       "20159   1600          NaN               4100     NaN    106   unknown   \n",
       "26382    150          NaN               3000     NaN     95  a_klasse   \n",
       "26560    800          NaN               2066     NaN    125    zafira   \n",
       "28390    799          NaN               9999     NaN    150       3er   \n",
       "28965  18000          NaN               9999     NaN     95  a_klasse   \n",
       "\n",
       "       kilometer fuel_type           brand repaired  \n",
       "12946       5000       NaN      volkswagen  unknown  \n",
       "15870       5000       NaN  sonstige_autos  unknown  \n",
       "17271      10000       NaN            opel  unknown  \n",
       "17346      10000       NaN  sonstige_autos  unknown  \n",
       "18259       5000       NaN         renault  unknown  \n",
       "20159       5000       NaN  sonstige_autos  unknown  \n",
       "26382       5000       NaN   mercedes_benz  unknown  \n",
       "26560       5000  gasoline            opel  unknown  \n",
       "28390      10000    petrol             bmw  unknown  \n",
       "28965      10000    petrol   mercedes_benz  unknown  "
      ]
     },
     "execution_count": 22,
     "metadata": {},
     "output_type": "execute_result"
    }
   ],
   "source": [
    "dubl_df.loc[dubl_df['registration_year'] > 2020].head(10)"
   ]
  },
  {
   "cell_type": "code",
   "execution_count": 23,
   "metadata": {
    "scrolled": true
   },
   "outputs": [
    {
     "data": {
      "image/png": "[encoded data removed]",
      "text/plain": [
       "<Figure size 1500x500 with 1 Axes>"
      ]
     },
     "metadata": {},
     "output_type": "display_data"
    }
   ],
   "source": [
    "fig, ax = plt.subplots(figsize=(15, 5))\n",
    "\n",
    "sns.histplot(data=dubl_df, x='registration_year')\n",
    "plt.ylim(0, 100);"
   ]
  },
  {
   "cell_type": "markdown",
   "metadata": {},
   "source": [
    "Первая машина появилась в 1886 году, а значит раньше этой даты вообще не могло быть машин. Округлим до 1900 и посмотрим сколько машин попало в отрезок до."
   ]
  },
  {
   "cell_type": "code",
   "execution_count": 24,
   "metadata": {},
   "outputs": [
    {
     "data": {
      "text/plain": [
       "(51, 10)"
      ]
     },
     "execution_count": 24,
     "metadata": {},
     "output_type": "execute_result"
    }
   ],
   "source": [
    "dubl_df.loc[dubl_df['registration_year'] <= 1900].shape"
   ]
  },
  {
   "cell_type": "markdown",
   "metadata": {},
   "source": [
    "Строк с аномальным годом регистрации немного и у них пропущено достаточное количество других признаков, потому просто удалим."
   ]
  },
  {
   "cell_type": "code",
   "execution_count": 25,
   "metadata": {},
   "outputs": [],
   "source": [
    "dubl_df = dubl_df.loc[(dubl_df['registration_year'] <= 2020) & (dubl_df['registration_year'] > 1900)]"
   ]
  },
  {
   "cell_type": "code",
   "execution_count": 26,
   "metadata": {},
   "outputs": [
    {
     "data": {
      "text/plain": [
       "1910"
      ]
     },
     "execution_count": 26,
     "metadata": {},
     "output_type": "execute_result"
    }
   ],
   "source": [
    "# КОД РЕВЬЮЕРА\n",
    "dubl_df['registration_year'].min()"
   ]
  },
  {
   "cell_type": "markdown",
   "metadata": {},
   "source": [
    "#### vehicle_type, gearbox, fuel_type"
   ]
  },
  {
   "cell_type": "markdown",
   "metadata": {},
   "source": [
    "Эти данные наиболее вероятно будут одинаковы в одинаковых моделях автомобилей. Заполним пропуски наиболее частым значением для модели."
   ]
  },
  {
   "cell_type": "code",
   "execution_count": 27,
   "metadata": {},
   "outputs": [],
   "source": [
    "dubl_df['vehicle_type'] = dubl_df['vehicle_type'].fillna(dubl_df\n",
    "                                                         .groupby('model')['vehicle_type']\n",
    "                                                         .transform(lambda x: x.value_counts().idxmax())\n",
    "                                                        )\n",
    "\n",
    "dubl_df['gearbox'] = dubl_df['gearbox'].fillna(dubl_df\n",
    "                                               .groupby('model')['gearbox']\n",
    "                                               .transform(lambda x: x.value_counts().idxmax())\n",
    "                                              )\n",
    "\n",
    "dubl_df['fuel_type'] = dubl_df['fuel_type'].fillna(dubl_df\n",
    "                                                 .groupby('model')['fuel_type']\n",
    "                                                 .transform(lambda x: x.value_counts().idxmax())\n",
    "                                                )"
   ]
  },
  {
   "cell_type": "markdown",
   "metadata": {},
   "source": [
    "Перед подсчетом потерь, снова проверим дубликаты, может они снова появились после замен."
   ]
  },
  {
   "cell_type": "code",
   "execution_count": 28,
   "metadata": {
    "scrolled": true
   },
   "outputs": [
    {
     "name": "stdout",
     "output_type": "stream",
     "text": [
      "Количество дубликатов: 5307\n"
     ]
    }
   ],
   "source": [
    "print('Количество дубликатов:', sum(dubl_df.duplicated()))"
   ]
  },
  {
   "cell_type": "markdown",
   "metadata": {},
   "source": [
    "Избавимся от дубликатов."
   ]
  },
  {
   "cell_type": "code",
   "execution_count": 29,
   "metadata": {},
   "outputs": [],
   "source": [
    "dubl_df = dubl_df.drop_duplicates()"
   ]
  },
  {
   "cell_type": "markdown",
   "metadata": {},
   "source": [
    "### Итоговые потери"
   ]
  },
  {
   "cell_type": "code",
   "execution_count": 30,
   "metadata": {},
   "outputs": [
    {
     "name": "stdout",
     "output_type": "stream",
     "text": [
      "Удалено данных: 16.76% или 59386 строк\n"
     ]
    }
   ],
   "source": [
    "print('Удалено данных:', f'{1-len(dubl_df) / len(df):.2%}', 'или', len(df) - len(dubl_df), 'строк')"
   ]
  },
  {
   "cell_type": "markdown",
   "metadata": {},
   "source": [
    "### Подготовка к обучению"
   ]
  },
  {
   "cell_type": "markdown",
   "metadata": {},
   "source": [
    "Для обучения нам понадобится `random_state`, создадим переменную для него."
   ]
  },
  {
   "cell_type": "code",
   "execution_count": 32,
   "metadata": {},
   "outputs": [],
   "source": [
    "random_state = 12345"
   ]
  },
  {
   "cell_type": "markdown",
   "metadata": {},
   "source": [
    "Разделим данные"
   ]
  },
  {
   "cell_type": "code",
   "execution_count": 33,
   "metadata": {},
   "outputs": [],
   "source": [
    "target = dubl_df['price']\n",
    "features = dubl_df.drop('price', axis=1)\n",
    "\n",
    "temp_x, features_test, temp_y, target_test = train_test_split(\n",
    "    features, target, test_size=0.2, train_size=0.8, random_state=random_state)\n",
    "\n",
    "features_train, features_valid, target_train, target_valid = train_test_split(\n",
    "    temp_x, temp_y, test_size=0.25, random_state=random_state)"
   ]
  },
  {
   "cell_type": "code",
   "execution_count": 34,
   "metadata": {},
   "outputs": [
    {
     "name": "stdout",
     "output_type": "stream",
     "text": [
      "0.5999972879793073\n",
      "0.20000135601034635\n",
      "0.20000135601034635\n"
     ]
    }
   ],
   "source": [
    "print(features_train.shape[0] / features.shape[0])\n",
    "print(features_valid.shape[0] / features.shape[0])\n",
    "print(features_test.shape[0] / features.shape[0])"
   ]
  },
  {
   "cell_type": "markdown",
   "metadata": {},
   "source": [
    "В столбце model много значений, преобразуем его методом `ordinal`."
   ]
  },
  {
   "cell_type": "code",
   "execution_count": 35,
   "metadata": {},
   "outputs": [
    {
     "data": {
      "text/plain": [
       "0"
      ]
     },
     "execution_count": 35,
     "metadata": {},
     "output_type": "execute_result"
    }
   ],
   "source": [
    "features['model'].isna().sum()"
   ]
  },
  {
   "cell_type": "code",
   "execution_count": 36,
   "metadata": {},
   "outputs": [],
   "source": [
    "encoder = OrdinalEncoder()\n",
    "encoder.fit(features[['model']])\n",
    "\n",
    "features_train['model'] = encoder.transform(features_train[['model']])\n",
    "features_valid['model'] = encoder.transform(features_valid[['model']])\n",
    "features_test['model'] = encoder.transform(features_test[['model']])"
   ]
  },
  {
   "cell_type": "markdown",
   "metadata": {},
   "source": [
    "Остальные методом `OHE`."
   ]
  },
  {
   "cell_type": "code",
   "execution_count": 37,
   "metadata": {
    "scrolled": true
   },
   "outputs": [
    {
     "data": {
      "text/plain": [
       "Index(['vehicle_type', 'registration_year', 'gearbox', 'power', 'model',\n",
       "       'kilometer', 'fuel_type', 'brand', 'repaired'],\n",
       "      dtype='object')"
      ]
     },
     "execution_count": 37,
     "metadata": {},
     "output_type": "execute_result"
    }
   ],
   "source": [
    "features_train.columns"
   ]
  },
  {
   "cell_type": "code",
   "execution_count": 38,
   "metadata": {},
   "outputs": [],
   "source": [
    "cat_features = ['vehicle_type','gearbox', 'fuel_type', 'brand', 'repaired']\n",
    "\n",
    "ohe_encoder = OneHotEncoder(drop='first', sparse=False)\n",
    "\n",
    "features_temp = ohe_encoder.fit_transform(features_train[cat_features])\n",
    "features_train[ohe_encoder.get_feature_names_out()] = features_temp\n",
    "features_train.drop(cat_features, axis=1, inplace=True)\n",
    "\n",
    "valid_temp = ohe_encoder.transform(features_valid[cat_features])\n",
    "features_valid[ohe_encoder.get_feature_names_out()] = valid_temp\n",
    "features_valid.drop(cat_features, axis=1, inplace=True)\n",
    "\n",
    "test_temp = ohe_encoder.transform(features_test[cat_features])\n",
    "features_test[ohe_encoder.get_feature_names_out()] = test_temp\n",
    "features_test.drop(cat_features, axis=1, inplace=True)"
   ]
  },
  {
   "cell_type": "code",
   "execution_count": 39,
   "metadata": {},
   "outputs": [
    {
     "data": {
      "text/html": [
       "<div>\n",
       "<style scoped>\n",
       "    .dataframe tbody tr th:only-of-type {\n",
       "        vertical-align: middle;\n",
       "    }\n",
       "\n",
       "    .dataframe tbody tr th {\n",
       "        vertical-align: top;\n",
       "    }\n",
       "\n",
       "    .dataframe thead th {\n",
       "        text-align: right;\n",
       "    }\n",
       "</style>\n",
       "<table border=\"1\" class=\"dataframe\">\n",
       "  <thead>\n",
       "    <tr style=\"text-align: right;\">\n",
       "      <th></th>\n",
       "      <th>registration_year</th>\n",
       "      <th>power</th>\n",
       "      <th>model</th>\n",
       "      <th>kilometer</th>\n",
       "      <th>vehicle_type_convertible</th>\n",
       "      <th>vehicle_type_coupe</th>\n",
       "      <th>vehicle_type_other</th>\n",
       "      <th>vehicle_type_sedan</th>\n",
       "      <th>vehicle_type_small</th>\n",
       "      <th>vehicle_type_suv</th>\n",
       "      <th>...</th>\n",
       "      <th>brand_smart</th>\n",
       "      <th>brand_sonstige_autos</th>\n",
       "      <th>brand_subaru</th>\n",
       "      <th>brand_suzuki</th>\n",
       "      <th>brand_toyota</th>\n",
       "      <th>brand_trabant</th>\n",
       "      <th>brand_volkswagen</th>\n",
       "      <th>brand_volvo</th>\n",
       "      <th>repaired_unknown</th>\n",
       "      <th>repaired_yes</th>\n",
       "    </tr>\n",
       "  </thead>\n",
       "  <tbody>\n",
       "    <tr>\n",
       "      <th>313061</th>\n",
       "      <td>2001</td>\n",
       "      <td>163</td>\n",
       "      <td>232.0</td>\n",
       "      <td>150000</td>\n",
       "      <td>0.0</td>\n",
       "      <td>0.0</td>\n",
       "      <td>0.0</td>\n",
       "      <td>0.0</td>\n",
       "      <td>0.0</td>\n",
       "      <td>0.0</td>\n",
       "      <td>...</td>\n",
       "      <td>0.0</td>\n",
       "      <td>0.0</td>\n",
       "      <td>0.0</td>\n",
       "      <td>0.0</td>\n",
       "      <td>0.0</td>\n",
       "      <td>0.0</td>\n",
       "      <td>0.0</td>\n",
       "      <td>1.0</td>\n",
       "      <td>0.0</td>\n",
       "      <td>1.0</td>\n",
       "    </tr>\n",
       "    <tr>\n",
       "      <th>200324</th>\n",
       "      <td>1999</td>\n",
       "      <td>116</td>\n",
       "      <td>103.0</td>\n",
       "      <td>100000</td>\n",
       "      <td>0.0</td>\n",
       "      <td>0.0</td>\n",
       "      <td>0.0</td>\n",
       "      <td>1.0</td>\n",
       "      <td>0.0</td>\n",
       "      <td>0.0</td>\n",
       "      <td>...</td>\n",
       "      <td>0.0</td>\n",
       "      <td>0.0</td>\n",
       "      <td>0.0</td>\n",
       "      <td>0.0</td>\n",
       "      <td>0.0</td>\n",
       "      <td>0.0</td>\n",
       "      <td>0.0</td>\n",
       "      <td>0.0</td>\n",
       "      <td>0.0</td>\n",
       "      <td>0.0</td>\n",
       "    </tr>\n",
       "    <tr>\n",
       "      <th>346819</th>\n",
       "      <td>2003</td>\n",
       "      <td>102</td>\n",
       "      <td>149.0</td>\n",
       "      <td>150000</td>\n",
       "      <td>0.0</td>\n",
       "      <td>0.0</td>\n",
       "      <td>0.0</td>\n",
       "      <td>0.0</td>\n",
       "      <td>0.0</td>\n",
       "      <td>0.0</td>\n",
       "      <td>...</td>\n",
       "      <td>0.0</td>\n",
       "      <td>0.0</td>\n",
       "      <td>0.0</td>\n",
       "      <td>0.0</td>\n",
       "      <td>0.0</td>\n",
       "      <td>0.0</td>\n",
       "      <td>0.0</td>\n",
       "      <td>0.0</td>\n",
       "      <td>0.0</td>\n",
       "      <td>0.0</td>\n",
       "    </tr>\n",
       "    <tr>\n",
       "      <th>912</th>\n",
       "      <td>2004</td>\n",
       "      <td>60</td>\n",
       "      <td>83.0</td>\n",
       "      <td>150000</td>\n",
       "      <td>0.0</td>\n",
       "      <td>0.0</td>\n",
       "      <td>0.0</td>\n",
       "      <td>0.0</td>\n",
       "      <td>1.0</td>\n",
       "      <td>0.0</td>\n",
       "      <td>...</td>\n",
       "      <td>0.0</td>\n",
       "      <td>0.0</td>\n",
       "      <td>0.0</td>\n",
       "      <td>0.0</td>\n",
       "      <td>0.0</td>\n",
       "      <td>0.0</td>\n",
       "      <td>0.0</td>\n",
       "      <td>0.0</td>\n",
       "      <td>0.0</td>\n",
       "      <td>0.0</td>\n",
       "    </tr>\n",
       "    <tr>\n",
       "      <th>325300</th>\n",
       "      <td>2006</td>\n",
       "      <td>60</td>\n",
       "      <td>83.0</td>\n",
       "      <td>20000</td>\n",
       "      <td>0.0</td>\n",
       "      <td>0.0</td>\n",
       "      <td>0.0</td>\n",
       "      <td>0.0</td>\n",
       "      <td>1.0</td>\n",
       "      <td>0.0</td>\n",
       "      <td>...</td>\n",
       "      <td>0.0</td>\n",
       "      <td>0.0</td>\n",
       "      <td>0.0</td>\n",
       "      <td>0.0</td>\n",
       "      <td>0.0</td>\n",
       "      <td>0.0</td>\n",
       "      <td>0.0</td>\n",
       "      <td>0.0</td>\n",
       "      <td>0.0</td>\n",
       "      <td>0.0</td>\n",
       "    </tr>\n",
       "  </tbody>\n",
       "</table>\n",
       "<p>5 rows × 59 columns</p>\n",
       "</div>"
      ],
      "text/plain": [
       "        registration_year  power  model  kilometer  vehicle_type_convertible  \\\n",
       "313061               2001    163  232.0     150000                       0.0   \n",
       "200324               1999    116  103.0     100000                       0.0   \n",
       "346819               2003    102  149.0     150000                       0.0   \n",
       "912                  2004     60   83.0     150000                       0.0   \n",
       "325300               2006     60   83.0      20000                       0.0   \n",
       "\n",
       "        vehicle_type_coupe  vehicle_type_other  vehicle_type_sedan  \\\n",
       "313061                 0.0                 0.0                 0.0   \n",
       "200324                 0.0                 0.0                 1.0   \n",
       "346819                 0.0                 0.0                 0.0   \n",
       "912                    0.0                 0.0                 0.0   \n",
       "325300                 0.0                 0.0                 0.0   \n",
       "\n",
       "        vehicle_type_small  vehicle_type_suv  ...  brand_smart  \\\n",
       "313061                 0.0               0.0  ...          0.0   \n",
       "200324                 0.0               0.0  ...          0.0   \n",
       "346819                 0.0               0.0  ...          0.0   \n",
       "912                    1.0               0.0  ...          0.0   \n",
       "325300                 1.0               0.0  ...          0.0   \n",
       "\n",
       "        brand_sonstige_autos  brand_subaru  brand_suzuki  brand_toyota  \\\n",
       "313061                   0.0           0.0           0.0           0.0   \n",
       "200324                   0.0           0.0           0.0           0.0   \n",
       "346819                   0.0           0.0           0.0           0.0   \n",
       "912                      0.0           0.0           0.0           0.0   \n",
       "325300                   0.0           0.0           0.0           0.0   \n",
       "\n",
       "        brand_trabant  brand_volkswagen  brand_volvo  repaired_unknown  \\\n",
       "313061            0.0               0.0          1.0               0.0   \n",
       "200324            0.0               0.0          0.0               0.0   \n",
       "346819            0.0               0.0          0.0               0.0   \n",
       "912               0.0               0.0          0.0               0.0   \n",
       "325300            0.0               0.0          0.0               0.0   \n",
       "\n",
       "        repaired_yes  \n",
       "313061           1.0  \n",
       "200324           0.0  \n",
       "346819           0.0  \n",
       "912              0.0  \n",
       "325300           0.0  \n",
       "\n",
       "[5 rows x 59 columns]"
      ]
     },
     "execution_count": 39,
     "metadata": {},
     "output_type": "execute_result"
    }
   ],
   "source": [
    "features_train.head()"
   ]
  },
  {
   "cell_type": "markdown",
   "metadata": {},
   "source": [
    "Разделим данные"
   ]
  },
  {
   "cell_type": "code",
   "execution_count": 40,
   "metadata": {},
   "outputs": [],
   "source": [
    "numeric = ['registration_year', 'power', 'model', 'kilometer']\n",
    "\n",
    "scaler = StandardScaler()\n",
    "scaler.fit(features_train[numeric])\n",
    "\n",
    "features_train[numeric] = scaler.transform(features_train[numeric])\n",
    "features_valid[numeric] = scaler.transform(features_valid[numeric])\n",
    "features_test[numeric] = scaler.transform(features_test[numeric])"
   ]
  },
  {
   "cell_type": "code",
   "execution_count": 41,
   "metadata": {},
   "outputs": [
    {
     "data": {
      "text/html": [
       "<div>\n",
       "<style scoped>\n",
       "    .dataframe tbody tr th:only-of-type {\n",
       "        vertical-align: middle;\n",
       "    }\n",
       "\n",
       "    .dataframe tbody tr th {\n",
       "        vertical-align: top;\n",
       "    }\n",
       "\n",
       "    .dataframe thead th {\n",
       "        text-align: right;\n",
       "    }\n",
       "</style>\n",
       "<table border=\"1\" class=\"dataframe\">\n",
       "  <thead>\n",
       "    <tr style=\"text-align: right;\">\n",
       "      <th></th>\n",
       "      <th>registration_year</th>\n",
       "      <th>power</th>\n",
       "      <th>model</th>\n",
       "      <th>kilometer</th>\n",
       "      <th>vehicle_type_convertible</th>\n",
       "      <th>vehicle_type_coupe</th>\n",
       "      <th>vehicle_type_other</th>\n",
       "      <th>vehicle_type_sedan</th>\n",
       "      <th>vehicle_type_small</th>\n",
       "      <th>vehicle_type_suv</th>\n",
       "      <th>...</th>\n",
       "      <th>brand_smart</th>\n",
       "      <th>brand_sonstige_autos</th>\n",
       "      <th>brand_subaru</th>\n",
       "      <th>brand_suzuki</th>\n",
       "      <th>brand_toyota</th>\n",
       "      <th>brand_trabant</th>\n",
       "      <th>brand_volkswagen</th>\n",
       "      <th>brand_volvo</th>\n",
       "      <th>repaired_unknown</th>\n",
       "      <th>repaired_yes</th>\n",
       "    </tr>\n",
       "  </thead>\n",
       "  <tbody>\n",
       "    <tr>\n",
       "      <th>313061</th>\n",
       "      <td>-0.292797</td>\n",
       "      <td>0.795469</td>\n",
       "      <td>1.576662</td>\n",
       "      <td>0.597422</td>\n",
       "      <td>0.0</td>\n",
       "      <td>0.0</td>\n",
       "      <td>0.0</td>\n",
       "      <td>0.0</td>\n",
       "      <td>0.0</td>\n",
       "      <td>0.0</td>\n",
       "      <td>...</td>\n",
       "      <td>0.0</td>\n",
       "      <td>0.0</td>\n",
       "      <td>0.0</td>\n",
       "      <td>0.0</td>\n",
       "      <td>0.0</td>\n",
       "      <td>0.0</td>\n",
       "      <td>0.0</td>\n",
       "      <td>1.0</td>\n",
       "      <td>0.0</td>\n",
       "      <td>1.0</td>\n",
       "    </tr>\n",
       "    <tr>\n",
       "      <th>200324</th>\n",
       "      <td>-0.555728</td>\n",
       "      <td>-0.076382</td>\n",
       "      <td>-0.172125</td>\n",
       "      <td>-0.708609</td>\n",
       "      <td>0.0</td>\n",
       "      <td>0.0</td>\n",
       "      <td>0.0</td>\n",
       "      <td>1.0</td>\n",
       "      <td>0.0</td>\n",
       "      <td>0.0</td>\n",
       "      <td>...</td>\n",
       "      <td>0.0</td>\n",
       "      <td>0.0</td>\n",
       "      <td>0.0</td>\n",
       "      <td>0.0</td>\n",
       "      <td>0.0</td>\n",
       "      <td>0.0</td>\n",
       "      <td>0.0</td>\n",
       "      <td>0.0</td>\n",
       "      <td>0.0</td>\n",
       "      <td>0.0</td>\n",
       "    </tr>\n",
       "    <tr>\n",
       "      <th>346819</th>\n",
       "      <td>-0.029866</td>\n",
       "      <td>-0.336083</td>\n",
       "      <td>0.451473</td>\n",
       "      <td>0.597422</td>\n",
       "      <td>0.0</td>\n",
       "      <td>0.0</td>\n",
       "      <td>0.0</td>\n",
       "      <td>0.0</td>\n",
       "      <td>0.0</td>\n",
       "      <td>0.0</td>\n",
       "      <td>...</td>\n",
       "      <td>0.0</td>\n",
       "      <td>0.0</td>\n",
       "      <td>0.0</td>\n",
       "      <td>0.0</td>\n",
       "      <td>0.0</td>\n",
       "      <td>0.0</td>\n",
       "      <td>0.0</td>\n",
       "      <td>0.0</td>\n",
       "      <td>0.0</td>\n",
       "      <td>0.0</td>\n",
       "    </tr>\n",
       "    <tr>\n",
       "      <th>912</th>\n",
       "      <td>0.101599</td>\n",
       "      <td>-1.115184</td>\n",
       "      <td>-0.443255</td>\n",
       "      <td>0.597422</td>\n",
       "      <td>0.0</td>\n",
       "      <td>0.0</td>\n",
       "      <td>0.0</td>\n",
       "      <td>0.0</td>\n",
       "      <td>1.0</td>\n",
       "      <td>0.0</td>\n",
       "      <td>...</td>\n",
       "      <td>0.0</td>\n",
       "      <td>0.0</td>\n",
       "      <td>0.0</td>\n",
       "      <td>0.0</td>\n",
       "      <td>0.0</td>\n",
       "      <td>0.0</td>\n",
       "      <td>0.0</td>\n",
       "      <td>0.0</td>\n",
       "      <td>0.0</td>\n",
       "      <td>0.0</td>\n",
       "    </tr>\n",
       "    <tr>\n",
       "      <th>325300</th>\n",
       "      <td>0.364531</td>\n",
       "      <td>-1.115184</td>\n",
       "      <td>-0.443255</td>\n",
       "      <td>-2.798259</td>\n",
       "      <td>0.0</td>\n",
       "      <td>0.0</td>\n",
       "      <td>0.0</td>\n",
       "      <td>0.0</td>\n",
       "      <td>1.0</td>\n",
       "      <td>0.0</td>\n",
       "      <td>...</td>\n",
       "      <td>0.0</td>\n",
       "      <td>0.0</td>\n",
       "      <td>0.0</td>\n",
       "      <td>0.0</td>\n",
       "      <td>0.0</td>\n",
       "      <td>0.0</td>\n",
       "      <td>0.0</td>\n",
       "      <td>0.0</td>\n",
       "      <td>0.0</td>\n",
       "      <td>0.0</td>\n",
       "    </tr>\n",
       "  </tbody>\n",
       "</table>\n",
       "<p>5 rows × 59 columns</p>\n",
       "</div>"
      ],
      "text/plain": [
       "        registration_year     power     model  kilometer  \\\n",
       "313061          -0.292797  0.795469  1.576662   0.597422   \n",
       "200324          -0.555728 -0.076382 -0.172125  -0.708609   \n",
       "346819          -0.029866 -0.336083  0.451473   0.597422   \n",
       "912              0.101599 -1.115184 -0.443255   0.597422   \n",
       "325300           0.364531 -1.115184 -0.443255  -2.798259   \n",
       "\n",
       "        vehicle_type_convertible  vehicle_type_coupe  vehicle_type_other  \\\n",
       "313061                       0.0                 0.0                 0.0   \n",
       "200324                       0.0                 0.0                 0.0   \n",
       "346819                       0.0                 0.0                 0.0   \n",
       "912                          0.0                 0.0                 0.0   \n",
       "325300                       0.0                 0.0                 0.0   \n",
       "\n",
       "        vehicle_type_sedan  vehicle_type_small  vehicle_type_suv  ...  \\\n",
       "313061                 0.0                 0.0               0.0  ...   \n",
       "200324                 1.0                 0.0               0.0  ...   \n",
       "346819                 0.0                 0.0               0.0  ...   \n",
       "912                    0.0                 1.0               0.0  ...   \n",
       "325300                 0.0                 1.0               0.0  ...   \n",
       "\n",
       "        brand_smart  brand_sonstige_autos  brand_subaru  brand_suzuki  \\\n",
       "313061          0.0                   0.0           0.0           0.0   \n",
       "200324          0.0                   0.0           0.0           0.0   \n",
       "346819          0.0                   0.0           0.0           0.0   \n",
       "912             0.0                   0.0           0.0           0.0   \n",
       "325300          0.0                   0.0           0.0           0.0   \n",
       "\n",
       "        brand_toyota  brand_trabant  brand_volkswagen  brand_volvo  \\\n",
       "313061           0.0            0.0               0.0          1.0   \n",
       "200324           0.0            0.0               0.0          0.0   \n",
       "346819           0.0            0.0               0.0          0.0   \n",
       "912              0.0            0.0               0.0          0.0   \n",
       "325300           0.0            0.0               0.0          0.0   \n",
       "\n",
       "        repaired_unknown  repaired_yes  \n",
       "313061               0.0           1.0  \n",
       "200324               0.0           0.0  \n",
       "346819               0.0           0.0  \n",
       "912                  0.0           0.0  \n",
       "325300               0.0           0.0  \n",
       "\n",
       "[5 rows x 59 columns]"
      ]
     },
     "execution_count": 41,
     "metadata": {},
     "output_type": "execute_result"
    }
   ],
   "source": [
    "features_train.head()"
   ]
  },
  {
   "cell_type": "markdown",
   "metadata": {},
   "source": [
    "## Обучение моделей"
   ]
  },
  {
   "cell_type": "code",
   "execution_count": 42,
   "metadata": {},
   "outputs": [],
   "source": [
    "# Для удобства создадим функцию, которая будет возвращать RMSE\n",
    "def rmse(y, pred):\n",
    "    return np.sqrt(mean_squared_error(y, pred))\n",
    "\n",
    "rmse_score = make_scorer(rmse, greater_is_better = False)"
   ]
  },
  {
   "cell_type": "markdown",
   "metadata": {},
   "source": [
    "### Линейная регрессия"
   ]
  },
  {
   "cell_type": "code",
   "execution_count": 43,
   "metadata": {
    "scrolled": true
   },
   "outputs": [],
   "source": [
    "columns_lr = list(features_train.columns.values)\n",
    "columns_lr.remove('model')\n",
    "\n",
    "features_train_lr = features_train[columns_lr]\n",
    "features_valid_lr = features_valid[columns_lr]\n",
    "features_test_lr = features_test[columns_lr]"
   ]
  },
  {
   "cell_type": "code",
   "execution_count": 44,
   "metadata": {},
   "outputs": [
    {
     "data": {
      "text/plain": [
       "Index(['registration_year', 'power', 'kilometer', 'vehicle_type_convertible',\n",
       "       'vehicle_type_coupe', 'vehicle_type_other', 'vehicle_type_sedan',\n",
       "       'vehicle_type_small', 'vehicle_type_suv', 'vehicle_type_wagon',\n",
       "       'gearbox_manual', 'fuel_type_electric', 'fuel_type_gasoline',\n",
       "       'fuel_type_hybrid', 'fuel_type_lpg', 'fuel_type_other',\n",
       "       'fuel_type_petrol', 'brand_audi', 'brand_bmw', 'brand_chevrolet',\n",
       "       'brand_chrysler', 'brand_citroen', 'brand_dacia', 'brand_daewoo',\n",
       "       'brand_daihatsu', 'brand_fiat', 'brand_ford', 'brand_honda',\n",
       "       'brand_hyundai', 'brand_jaguar', 'brand_jeep', 'brand_kia',\n",
       "       'brand_lada', 'brand_lancia', 'brand_land_rover', 'brand_mazda',\n",
       "       'brand_mercedes_benz', 'brand_mini', 'brand_mitsubishi', 'brand_nissan',\n",
       "       'brand_opel', 'brand_peugeot', 'brand_porsche', 'brand_renault',\n",
       "       'brand_rover', 'brand_saab', 'brand_seat', 'brand_skoda', 'brand_smart',\n",
       "       'brand_sonstige_autos', 'brand_subaru', 'brand_suzuki', 'brand_toyota',\n",
       "       'brand_trabant', 'brand_volkswagen', 'brand_volvo', 'repaired_unknown',\n",
       "       'repaired_yes'],\n",
       "      dtype='object')"
      ]
     },
     "execution_count": 44,
     "metadata": {},
     "output_type": "execute_result"
    }
   ],
   "source": [
    "features_train_lr.columns"
   ]
  },
  {
   "cell_type": "markdown",
   "metadata": {},
   "source": [
    "Посмотрим как справиться модель без изменения гиперпараметров."
   ]
  },
  {
   "cell_type": "code",
   "execution_count": 45,
   "metadata": {},
   "outputs": [
    {
     "name": "stdout",
     "output_type": "stream",
     "text": [
      "RMSE: 2984.50852112594\n"
     ]
    }
   ],
   "source": [
    "model_lr = LinearRegression()\n",
    "model_lr.fit(features_train_lr, target_train)\n",
    "\n",
    "lr_pred = model_lr.predict(features_valid_lr)\n",
    "rmse_lr = rmse(target_valid, lr_pred)\n",
    "\n",
    "print('RMSE:', rmse_lr)"
   ]
  },
  {
   "cell_type": "markdown",
   "metadata": {},
   "source": [
    "Переберем гиперпараметры и найдем лучшую комбинацию."
   ]
  },
  {
   "cell_type": "code",
   "execution_count": 46,
   "metadata": {},
   "outputs": [
    {
     "name": "stdout",
     "output_type": "stream",
     "text": [
      "CPU times: total: 19.6 s\n",
      "Wall time: 7.29 s\n"
     ]
    },
    {
     "data": {
      "text/plain": [
       "{'copy_X': True, 'fit_intercept': True}"
      ]
     },
     "execution_count": 46,
     "metadata": {},
     "output_type": "execute_result"
    }
   ],
   "source": [
    "%%time\n",
    "\n",
    "parameters = {'fit_intercept':[True, False], 'copy_X':[True, False]}\n",
    "grid = GridSearchCV(model_lr, parameters, cv=5, scoring=rmse_score)\n",
    "grid.fit(features_train_lr, target_train)\n",
    "\n",
    "grid.best_params_"
   ]
  },
  {
   "cell_type": "markdown",
   "metadata": {},
   "source": [
    "Так как заказчику важны скорость обучения и скорость предсказания, посмотрим на них в лучшей модели по отдельности."
   ]
  },
  {
   "cell_type": "code",
   "execution_count": 47,
   "metadata": {},
   "outputs": [
    {
     "name": "stdout",
     "output_type": "stream",
     "text": [
      "CPU times: total: 938 ms\n",
      "Wall time: 398 ms\n"
     ]
    },
    {
     "data": {
      "text/html": [
       "<style>#sk-container-id-1 {color: black;}#sk-container-id-1 pre{padding: 0;}#sk-container-id-1 div.sk-toggleable {background-color: white;}#sk-container-id-1 label.sk-toggleable__label {cursor: pointer;display: block;width: 100%;margin-bottom: 0;padding: 0.3em;box-sizing: border-box;text-align: center;}#sk-container-id-1 label.sk-toggleable__label-arrow:before {content: \"▸\";float: left;margin-right: 0.25em;color: #696969;}#sk-container-id-1 label.sk-toggleable__label-arrow:hover:before {color: black;}#sk-container-id-1 div.sk-estimator:hover label.sk-toggleable__label-arrow:before {color: black;}#sk-container-id-1 div.sk-toggleable__content {max-height: 0;max-width: 0;overflow: hidden;text-align: left;background-color: #f0f8ff;}#sk-container-id-1 div.sk-toggleable__content pre {margin: 0.2em;color: black;border-radius: 0.25em;background-color: #f0f8ff;}#sk-container-id-1 input.sk-toggleable__control:checked~div.sk-toggleable__content {max-height: 200px;max-width: 100%;overflow: auto;}#sk-container-id-1 input.sk-toggleable__control:checked~label.sk-toggleable__label-arrow:before {content: \"▾\";}#sk-container-id-1 div.sk-estimator input.sk-toggleable__control:checked~label.sk-toggleable__label {background-color: #d4ebff;}#sk-container-id-1 div.sk-label input.sk-toggleable__control:checked~label.sk-toggleable__label {background-color: #d4ebff;}#sk-container-id-1 input.sk-hidden--visually {border: 0;clip: rect(1px 1px 1px 1px);clip: rect(1px, 1px, 1px, 1px);height: 1px;margin: -1px;overflow: hidden;padding: 0;position: absolute;width: 1px;}#sk-container-id-1 div.sk-estimator {font-family: monospace;background-color: #f0f8ff;border: 1px dotted black;border-radius: 0.25em;box-sizing: border-box;margin-bottom: 0.5em;}#sk-container-id-1 div.sk-estimator:hover {background-color: #d4ebff;}#sk-container-id-1 div.sk-parallel-item::after {content: \"\";width: 100%;border-bottom: 1px solid gray;flex-grow: 1;}#sk-container-id-1 div.sk-label:hover label.sk-toggleable__label {background-color: #d4ebff;}#sk-container-id-1 div.sk-serial::before {content: \"\";position: absolute;border-left: 1px solid gray;box-sizing: border-box;top: 0;bottom: 0;left: 50%;z-index: 0;}#sk-container-id-1 div.sk-serial {display: flex;flex-direction: column;align-items: center;background-color: white;padding-right: 0.2em;padding-left: 0.2em;position: relative;}#sk-container-id-1 div.sk-item {position: relative;z-index: 1;}#sk-container-id-1 div.sk-parallel {display: flex;align-items: stretch;justify-content: center;background-color: white;position: relative;}#sk-container-id-1 div.sk-item::before, #sk-container-id-1 div.sk-parallel-item::before {content: \"\";position: absolute;border-left: 1px solid gray;box-sizing: border-box;top: 0;bottom: 0;left: 50%;z-index: -1;}#sk-container-id-1 div.sk-parallel-item {display: flex;flex-direction: column;z-index: 1;position: relative;background-color: white;}#sk-container-id-1 div.sk-parallel-item:first-child::after {align-self: flex-end;width: 50%;}#sk-container-id-1 div.sk-parallel-item:last-child::after {align-self: flex-start;width: 50%;}#sk-container-id-1 div.sk-parallel-item:only-child::after {width: 0;}#sk-container-id-1 div.sk-dashed-wrapped {border: 1px dashed gray;margin: 0 0.4em 0.5em 0.4em;box-sizing: border-box;padding-bottom: 0.4em;background-color: white;}#sk-container-id-1 div.sk-label label {font-family: monospace;font-weight: bold;display: inline-block;line-height: 1.2em;}#sk-container-id-1 div.sk-label-container {text-align: center;}#sk-container-id-1 div.sk-container {/* jupyter's `normalize.less` sets `[hidden] { display: none; }` but bootstrap.min.css set `[hidden] { display: none !important; }` so we also need the `!important` here to be able to override the default hidden behavior on the sphinx rendered scikit-learn.org. See: https://github.com/scikit-learn/scikit-learn/issues/21755 */display: inline-block !important;position: relative;}#sk-container-id-1 div.sk-text-repr-fallback {display: none;}</style><div id=\"sk-container-id-1\" class=\"sk-top-container\"><div class=\"sk-text-repr-fallback\"><pre>LinearRegression()</pre><b>In a Jupyter environment, please rerun this cell to show the HTML representation or trust the notebook. <br />On GitHub, the HTML representation is unable to render, please try loading this page with nbviewer.org.</b></div><div class=\"sk-container\" hidden><div class=\"sk-item\"><div class=\"sk-estimator sk-toggleable\"><input class=\"sk-toggleable__control sk-hidden--visually\" id=\"sk-estimator-id-1\" type=\"checkbox\" checked><label for=\"sk-estimator-id-1\" class=\"sk-toggleable__label sk-toggleable__label-arrow\">LinearRegression</label><div class=\"sk-toggleable__content\"><pre>LinearRegression()</pre></div></div></div></div></div>"
      ],
      "text/plain": [
       "LinearRegression()"
      ]
     },
     "execution_count": 47,
     "metadata": {},
     "output_type": "execute_result"
    }
   ],
   "source": [
    "%%time\n",
    "\n",
    "model_lr_tuned = LinearRegression(**grid.best_params_)\n",
    "model_lr_tuned.fit(features_train_lr, target_train)"
   ]
  },
  {
   "cell_type": "code",
   "execution_count": 48,
   "metadata": {},
   "outputs": [
    {
     "name": "stdout",
     "output_type": "stream",
     "text": [
      "CPU times: total: 15.6 ms\n",
      "Wall time: 16 ms\n"
     ]
    }
   ],
   "source": [
    "%%time\n",
    "\n",
    "lr_pred = model_lr_tuned.predict(features_test_lr)"
   ]
  },
  {
   "cell_type": "code",
   "execution_count": 49,
   "metadata": {},
   "outputs": [
    {
     "name": "stdout",
     "output_type": "stream",
     "text": [
      "RMSE: 2981.67\n"
     ]
    }
   ],
   "source": [
    "final_rmse_lr = rmse(target_test, lr_pred)\n",
    "print(f'RMSE: {round(final_rmse_lr, 2)}') "
   ]
  },
  {
   "cell_type": "markdown",
   "metadata": {},
   "source": [
    "### LightGBM"
   ]
  },
  {
   "cell_type": "code",
   "execution_count": 50,
   "metadata": {},
   "outputs": [
    {
     "name": "stdout",
     "output_type": "stream",
     "text": [
      "RMSE: 1799.1225842479757\n",
      "CPU times: total: 2.52 s\n",
      "Wall time: 639 ms\n"
     ]
    }
   ],
   "source": [
    "%%time\n",
    "\n",
    "lgbm_model = lightgbm.LGBMRegressor(random_state=random_state)\n",
    "lgbm_model.fit(features_train, target_train)\n",
    "\n",
    "y_pred = lgbm_model.predict(features_valid)\n",
    "rmse_lgbm = rmse(target_valid, y_pred)\n",
    "\n",
    "print('RMSE:', rmse_lgbm)"
   ]
  },
  {
   "cell_type": "code",
   "execution_count": 51,
   "metadata": {},
   "outputs": [
    {
     "name": "stdout",
     "output_type": "stream",
     "text": [
      "CPU times: total: 2min 48s\n",
      "Wall time: 33.1 s\n"
     ]
    },
    {
     "data": {
      "text/plain": [
       "{'max_depth': 12, 'n_estimators': 1000}"
      ]
     },
     "execution_count": 51,
     "metadata": {},
     "output_type": "execute_result"
    }
   ],
   "source": [
    "%%time\n",
    "\n",
    "lgbm_params = {\"n_estimators\": [1000, 1200],\n",
    "               \"max_depth\": [12, 14]\n",
    "              }\n",
    "\n",
    "lgbm_model_tuned = GridSearchCV(lgbm_model, lgbm_params, cv=4, scoring=rmse)\n",
    "lgbm_model_tuned.fit(features_train, target_train)\n",
    "\n",
    "lgbm_model_tuned.best_params_"
   ]
  },
  {
   "cell_type": "code",
   "execution_count": 52,
   "metadata": {},
   "outputs": [
    {
     "name": "stdout",
     "output_type": "stream",
     "text": [
      "CPU times: total: 10.6 s\n",
      "Wall time: 2.12 s\n"
     ]
    },
    {
     "data": {
      "text/html": [
       "<style>#sk-container-id-2 {color: black;}#sk-container-id-2 pre{padding: 0;}#sk-container-id-2 div.sk-toggleable {background-color: white;}#sk-container-id-2 label.sk-toggleable__label {cursor: pointer;display: block;width: 100%;margin-bottom: 0;padding: 0.3em;box-sizing: border-box;text-align: center;}#sk-container-id-2 label.sk-toggleable__label-arrow:before {content: \"▸\";float: left;margin-right: 0.25em;color: #696969;}#sk-container-id-2 label.sk-toggleable__label-arrow:hover:before {color: black;}#sk-container-id-2 div.sk-estimator:hover label.sk-toggleable__label-arrow:before {color: black;}#sk-container-id-2 div.sk-toggleable__content {max-height: 0;max-width: 0;overflow: hidden;text-align: left;background-color: #f0f8ff;}#sk-container-id-2 div.sk-toggleable__content pre {margin: 0.2em;color: black;border-radius: 0.25em;background-color: #f0f8ff;}#sk-container-id-2 input.sk-toggleable__control:checked~div.sk-toggleable__content {max-height: 200px;max-width: 100%;overflow: auto;}#sk-container-id-2 input.sk-toggleable__control:checked~label.sk-toggleable__label-arrow:before {content: \"▾\";}#sk-container-id-2 div.sk-estimator input.sk-toggleable__control:checked~label.sk-toggleable__label {background-color: #d4ebff;}#sk-container-id-2 div.sk-label input.sk-toggleable__control:checked~label.sk-toggleable__label {background-color: #d4ebff;}#sk-container-id-2 input.sk-hidden--visually {border: 0;clip: rect(1px 1px 1px 1px);clip: rect(1px, 1px, 1px, 1px);height: 1px;margin: -1px;overflow: hidden;padding: 0;position: absolute;width: 1px;}#sk-container-id-2 div.sk-estimator {font-family: monospace;background-color: #f0f8ff;border: 1px dotted black;border-radius: 0.25em;box-sizing: border-box;margin-bottom: 0.5em;}#sk-container-id-2 div.sk-estimator:hover {background-color: #d4ebff;}#sk-container-id-2 div.sk-parallel-item::after {content: \"\";width: 100%;border-bottom: 1px solid gray;flex-grow: 1;}#sk-container-id-2 div.sk-label:hover label.sk-toggleable__label {background-color: #d4ebff;}#sk-container-id-2 div.sk-serial::before {content: \"\";position: absolute;border-left: 1px solid gray;box-sizing: border-box;top: 0;bottom: 0;left: 50%;z-index: 0;}#sk-container-id-2 div.sk-serial {display: flex;flex-direction: column;align-items: center;background-color: white;padding-right: 0.2em;padding-left: 0.2em;position: relative;}#sk-container-id-2 div.sk-item {position: relative;z-index: 1;}#sk-container-id-2 div.sk-parallel {display: flex;align-items: stretch;justify-content: center;background-color: white;position: relative;}#sk-container-id-2 div.sk-item::before, #sk-container-id-2 div.sk-parallel-item::before {content: \"\";position: absolute;border-left: 1px solid gray;box-sizing: border-box;top: 0;bottom: 0;left: 50%;z-index: -1;}#sk-container-id-2 div.sk-parallel-item {display: flex;flex-direction: column;z-index: 1;position: relative;background-color: white;}#sk-container-id-2 div.sk-parallel-item:first-child::after {align-self: flex-end;width: 50%;}#sk-container-id-2 div.sk-parallel-item:last-child::after {align-self: flex-start;width: 50%;}#sk-container-id-2 div.sk-parallel-item:only-child::after {width: 0;}#sk-container-id-2 div.sk-dashed-wrapped {border: 1px dashed gray;margin: 0 0.4em 0.5em 0.4em;box-sizing: border-box;padding-bottom: 0.4em;background-color: white;}#sk-container-id-2 div.sk-label label {font-family: monospace;font-weight: bold;display: inline-block;line-height: 1.2em;}#sk-container-id-2 div.sk-label-container {text-align: center;}#sk-container-id-2 div.sk-container {/* jupyter's `normalize.less` sets `[hidden] { display: none; }` but bootstrap.min.css set `[hidden] { display: none !important; }` so we also need the `!important` here to be able to override the default hidden behavior on the sphinx rendered scikit-learn.org. See: https://github.com/scikit-learn/scikit-learn/issues/21755 */display: inline-block !important;position: relative;}#sk-container-id-2 div.sk-text-repr-fallback {display: none;}</style><div id=\"sk-container-id-2\" class=\"sk-top-container\"><div class=\"sk-text-repr-fallback\"><pre>LGBMRegressor(max_depth=12, n_estimators=1000, random_state=12345)</pre><b>In a Jupyter environment, please rerun this cell to show the HTML representation or trust the notebook. <br />On GitHub, the HTML representation is unable to render, please try loading this page with nbviewer.org.</b></div><div class=\"sk-container\" hidden><div class=\"sk-item\"><div class=\"sk-estimator sk-toggleable\"><input class=\"sk-toggleable__control sk-hidden--visually\" id=\"sk-estimator-id-2\" type=\"checkbox\" checked><label for=\"sk-estimator-id-2\" class=\"sk-toggleable__label sk-toggleable__label-arrow\">LGBMRegressor</label><div class=\"sk-toggleable__content\"><pre>LGBMRegressor(max_depth=12, n_estimators=1000, random_state=12345)</pre></div></div></div></div></div>"
      ],
      "text/plain": [
       "LGBMRegressor(max_depth=12, n_estimators=1000, random_state=12345)"
      ]
     },
     "execution_count": 52,
     "metadata": {},
     "output_type": "execute_result"
    }
   ],
   "source": [
    "%%time\n",
    "\n",
    "lgbm_tuned = lightgbm.LGBMRegressor(**lgbm_model_tuned.best_params_, random_state=random_state)\n",
    "lgbm_tuned.fit(features_train, target_train)"
   ]
  },
  {
   "cell_type": "code",
   "execution_count": 53,
   "metadata": {},
   "outputs": [
    {
     "name": "stdout",
     "output_type": "stream",
     "text": [
      "CPU times: total: 2.66 s\n",
      "Wall time: 492 ms\n"
     ]
    }
   ],
   "source": [
    "%%time\n",
    "\n",
    "lgbm_predict = lgbm_tuned.predict(features_test)"
   ]
  },
  {
   "cell_type": "code",
   "execution_count": 54,
   "metadata": {},
   "outputs": [
    {
     "name": "stdout",
     "output_type": "stream",
     "text": [
      "RMSE: 1691.10767794715\n"
     ]
    }
   ],
   "source": [
    "rmse_lgbm = rmse(target_test, lgbm_predict)\n",
    "print(f'RMSE: {rmse_lgbm}')"
   ]
  },
  {
   "cell_type": "markdown",
   "metadata": {},
   "source": [
    "### Catboost"
   ]
  },
  {
   "cell_type": "code",
   "execution_count": 55,
   "metadata": {},
   "outputs": [
    {
     "name": "stdout",
     "output_type": "stream",
     "text": [
      "CPU times: total: 54.2 s\n",
      "Wall time: 11.3 s\n"
     ]
    },
    {
     "data": {
      "text/plain": [
       "<catboost.core.CatBoostRegressor at 0x16c22607390>"
      ]
     },
     "execution_count": 55,
     "metadata": {},
     "output_type": "execute_result"
    }
   ],
   "source": [
    "%%time\n",
    "\n",
    "cbr_model = catboost.CatBoostRegressor(logging_level='Silent', random_state=random_state)\n",
    "cbr_model.fit(features_train, target_train)"
   ]
  },
  {
   "cell_type": "code",
   "execution_count": 56,
   "metadata": {},
   "outputs": [
    {
     "name": "stdout",
     "output_type": "stream",
     "text": [
      "CPU times: total: 31.2 ms\n",
      "Wall time: 25.9 ms\n"
     ]
    }
   ],
   "source": [
    "%%time\n",
    "\n",
    "cbr_predict = cbr_model.predict(features_valid)"
   ]
  },
  {
   "cell_type": "code",
   "execution_count": 57,
   "metadata": {},
   "outputs": [
    {
     "name": "stdout",
     "output_type": "stream",
     "text": [
      "RMSE: 1722.8774172477792\n"
     ]
    }
   ],
   "source": [
    "rmse_cbr = rmse(target_valid, cbr_predict)\n",
    "print(f'RMSE: {rmse_cbr}')"
   ]
  },
  {
   "cell_type": "code",
   "execution_count": 58,
   "metadata": {},
   "outputs": [
    {
     "name": "stdout",
     "output_type": "stream",
     "text": [
      "CPU times: total: 27min 29s\n",
      "Wall time: 5min 36s\n"
     ]
    },
    {
     "data": {
      "text/plain": [
       "{'depth': 6, 'iterations': 1000, 'l2_leaf_reg': 1, 'learning_rate': 0.03}"
      ]
     },
     "execution_count": 58,
     "metadata": {},
     "output_type": "execute_result"
    }
   ],
   "source": [
    "%%time\n",
    "\n",
    "parameters_cb = {'iterations': [1000],\n",
    "                 'learning_rate': [0.03, 0.1],\n",
    "                 'depth': [6, 8],\n",
    "                 'l2_leaf_reg': [1, 3]\n",
    "                }\n",
    "\n",
    "cbr_model = catboost.CatBoostRegressor(\n",
    "    loss_function='RMSE', eval_metric = 'RMSE', logging_level='Silent', random_state=random_state\n",
    ")\n",
    "cbr_model_tuned = GridSearchCV(estimator=cbr_model, param_grid=parameters_cb, cv=4, scoring=rmse)\n",
    "\n",
    "cbr_model_tuned.fit(features_train, target_train)\n",
    "cbr_model_tuned.best_params_"
   ]
  },
  {
   "cell_type": "code",
   "execution_count": 59,
   "metadata": {},
   "outputs": [
    {
     "name": "stdout",
     "output_type": "stream",
     "text": [
      "CPU times: total: 55.1 s\n",
      "Wall time: 11 s\n"
     ]
    },
    {
     "data": {
      "text/plain": [
       "<catboost.core.CatBoostRegressor at 0x16c12af6c90>"
      ]
     },
     "execution_count": 59,
     "metadata": {},
     "output_type": "execute_result"
    }
   ],
   "source": [
    "%%time\n",
    "cbr_tuned = catboost.CatBoostRegressor(**cbr_model_tuned.best_params_, logging_level='Silent', random_state=random_state)\n",
    "cbr_tuned.fit(features_train, target_train)"
   ]
  },
  {
   "cell_type": "code",
   "execution_count": 60,
   "metadata": {},
   "outputs": [
    {
     "name": "stdout",
     "output_type": "stream",
     "text": [
      "CPU times: total: 31.2 ms\n",
      "Wall time: 27 ms\n"
     ]
    }
   ],
   "source": [
    "%%time\n",
    "cbr_predict = cbr_tuned.predict(features_test)"
   ]
  },
  {
   "cell_type": "code",
   "execution_count": 61,
   "metadata": {},
   "outputs": [
    {
     "name": "stdout",
     "output_type": "stream",
     "text": [
      "RMSE: 1792.5850755498623\n"
     ]
    }
   ],
   "source": [
    "rmse_cbr_tuned = rmse(target_test, cbr_predict)\n",
    "print(f'RMSE: {rmse_cbr_tuned}')"
   ]
  },
  {
   "cell_type": "markdown",
   "metadata": {},
   "source": [
    "## Анализ моделей"
   ]
  },
  {
   "cell_type": "code",
   "execution_count": 62,
   "metadata": {
    "scrolled": true
   },
   "outputs": [
    {
     "name": "stdout",
     "output_type": "stream",
     "text": [
      "LinearRegression:\n",
      "RMSE: 2981.6709014190587, скорость предсказания: 18.1 ms, время обучения: 377 ms\n",
      "\n",
      "LightGBM:\n",
      "RMSE: 1691.10767794715, скорость предсказания: 723 ms, время обучения: 4.17 s\n",
      "\n",
      "Catboost:\n",
      "RMSE: 1792.5850755498623, скорость предсказания: 28.3 ms, время обучения: 15.2 s\n",
      "Catboost без изменения гиперпараметров:\n",
      "RMSE: 1722.8774172477792, скорость предсказания: 59.2 ms, время обучения: 14.7 s\n"
     ]
    }
   ],
   "source": [
    "print('LinearRegression:')\n",
    "print(f'RMSE: {final_rmse_lr}, скорость предсказания: 18.1 ms, время обучения: 377 ms')\n",
    "print()\n",
    "print('LightGBM:')\n",
    "print(f'RMSE: {rmse_lgbm}, скорость предсказания: 723 ms, время обучения: 4.17 s')\n",
    "print()\n",
    "print('Catboost:')\n",
    "print(f'RMSE: {rmse_cbr_tuned}, скорость предсказания: 28.3 ms, время обучения: 15.2 s')\n",
    "print('Catboost без изменения гиперпараметров:')\n",
    "print(f'RMSE: {rmse_cbr}, скорость предсказания: 59.2 ms, время обучения: 14.7 s')"
   ]
  },
  {
   "cell_type": "markdown",
   "metadata": {},
   "source": [
    "## Вывод"
   ]
  },
  {
   "cell_type": "markdown",
   "metadata": {},
   "source": [
    "Исходя из требований заказчика, рекомендуем модель лучшую почти по всем показателям `LightGBM`:\n",
    "\n",
    "* У этой модели самый низкий показатель RMSE и высокая скорость предсказания."
   ]
  }
 ],
 "metadata": {
  "ExecuteTimeLog": [
   {
    "duration": 449,
    "start_time": "2023-06-01T18:40:59.469Z"
   },
   {
    "duration": 3459,
    "start_time": "2023-06-01T18:41:00.367Z"
   },
   {
    "duration": 847,
    "start_time": "2023-06-01T18:41:10.626Z"
   },
   {
    "duration": 790,
    "start_time": "2023-06-01T18:41:19.046Z"
   },
   {
    "duration": 25,
    "start_time": "2023-06-01T18:54:42.003Z"
   },
   {
    "duration": 65,
    "start_time": "2023-06-01T18:54:49.890Z"
   },
   {
    "duration": 755,
    "start_time": "2023-06-01T18:54:56.065Z"
   },
   {
    "duration": 12,
    "start_time": "2023-06-01T18:54:59.407Z"
   },
   {
    "duration": 6,
    "start_time": "2023-06-01T18:55:01.800Z"
   },
   {
    "duration": 8,
    "start_time": "2023-06-01T18:55:38.545Z"
   },
   {
    "duration": 4,
    "start_time": "2023-06-01T18:59:16.264Z"
   },
   {
    "duration": 4,
    "start_time": "2023-06-01T18:59:20.364Z"
   },
   {
    "duration": 6,
    "start_time": "2023-06-01T18:59:55.561Z"
   },
   {
    "duration": 4,
    "start_time": "2023-06-01T18:59:56.594Z"
   },
   {
    "duration": 5,
    "start_time": "2023-06-01T19:00:00.410Z"
   },
   {
    "duration": 4,
    "start_time": "2023-06-01T19:00:00.813Z"
   },
   {
    "duration": 5,
    "start_time": "2023-06-01T19:00:02.988Z"
   },
   {
    "duration": 4,
    "start_time": "2023-06-01T19:00:03.277Z"
   },
   {
    "duration": 732,
    "start_time": "2023-06-01T19:00:11.911Z"
   },
   {
    "duration": 11,
    "start_time": "2023-06-01T19:00:14.954Z"
   },
   {
    "duration": 8,
    "start_time": "2023-06-01T19:00:15.347Z"
   },
   {
    "duration": 4,
    "start_time": "2023-06-01T19:00:37.316Z"
   },
   {
    "duration": 5,
    "start_time": "2023-06-01T19:00:37.899Z"
   },
   {
    "duration": 5,
    "start_time": "2023-06-01T19:00:39.194Z"
   },
   {
    "duration": 13,
    "start_time": "2023-06-01T19:00:40.346Z"
   },
   {
    "duration": 4,
    "start_time": "2023-06-01T19:00:40.643Z"
   },
   {
    "duration": 14,
    "start_time": "2023-06-01T19:00:47.448Z"
   },
   {
    "duration": 8,
    "start_time": "2023-06-01T19:00:47.846Z"
   },
   {
    "duration": 751,
    "start_time": "2023-06-01T19:00:50.356Z"
   },
   {
    "duration": 15,
    "start_time": "2023-06-01T19:00:51.109Z"
   },
   {
    "duration": 13,
    "start_time": "2023-06-01T19:00:51.125Z"
   },
   {
    "duration": 5,
    "start_time": "2023-06-01T19:00:54.176Z"
   },
   {
    "duration": 390,
    "start_time": "2023-06-01T19:01:12.669Z"
   },
   {
    "duration": 832,
    "start_time": "2023-06-01T19:01:13.061Z"
   },
   {
    "duration": 19,
    "start_time": "2023-06-01T19:01:13.895Z"
   },
   {
    "duration": 4,
    "start_time": "2023-06-01T19:01:13.916Z"
   },
   {
    "duration": 31,
    "start_time": "2023-06-01T19:01:13.922Z"
   },
   {
    "duration": 17,
    "start_time": "2023-06-01T19:03:44.803Z"
   },
   {
    "duration": 149,
    "start_time": "2023-06-01T19:03:51.828Z"
   },
   {
    "duration": 410,
    "start_time": "2023-06-05T09:48:51.093Z"
   },
   {
    "duration": 2863,
    "start_time": "2023-06-05T09:48:51.505Z"
   },
   {
    "duration": 19,
    "start_time": "2023-06-05T09:48:54.370Z"
   },
   {
    "duration": 4,
    "start_time": "2023-06-05T09:48:54.392Z"
   },
   {
    "duration": 5,
    "start_time": "2023-06-05T09:48:54.398Z"
   },
   {
    "duration": 130,
    "start_time": "2023-06-05T09:48:54.404Z"
   },
   {
    "duration": 58,
    "start_time": "2023-06-05T09:52:02.620Z"
   },
   {
    "duration": 497,
    "start_time": "2023-06-05T09:52:07.575Z"
   },
   {
    "duration": 4,
    "start_time": "2023-06-05T11:12:47.359Z"
   },
   {
    "duration": 5,
    "start_time": "2023-06-05T11:12:49.530Z"
   },
   {
    "duration": 408,
    "start_time": "2023-06-05T11:12:53.905Z"
   },
   {
    "duration": 2,
    "start_time": "2023-06-05T11:12:54.316Z"
   },
   {
    "duration": 770,
    "start_time": "2023-06-05T11:12:54.320Z"
   },
   {
    "duration": 18,
    "start_time": "2023-06-05T11:12:55.091Z"
   },
   {
    "duration": 466,
    "start_time": "2023-06-05T11:12:55.112Z"
   },
   {
    "duration": 5,
    "start_time": "2023-06-05T11:12:55.579Z"
   },
   {
    "duration": 12,
    "start_time": "2023-06-05T11:12:55.586Z"
   },
   {
    "duration": 118,
    "start_time": "2023-06-05T11:12:55.600Z"
   },
   {
    "duration": 1259,
    "start_time": "2023-06-05T11:14:01.350Z"
   },
   {
    "duration": 96,
    "start_time": "2023-06-05T11:19:30.737Z"
   },
   {
    "duration": 113,
    "start_time": "2023-06-05T11:24:10.535Z"
   },
   {
    "duration": 19,
    "start_time": "2023-06-05T11:25:03.085Z"
   },
   {
    "duration": 1492,
    "start_time": "2023-06-05T11:25:55.048Z"
   },
   {
    "duration": 3,
    "start_time": "2023-06-05T11:25:56.542Z"
   },
   {
    "duration": 837,
    "start_time": "2023-06-05T11:25:56.547Z"
   },
   {
    "duration": 16,
    "start_time": "2023-06-05T11:25:57.386Z"
   },
   {
    "duration": 162,
    "start_time": "2023-06-05T11:25:57.404Z"
   },
   {
    "duration": 125,
    "start_time": "2023-06-05T11:25:57.568Z"
   },
   {
    "duration": 57,
    "start_time": "2023-06-05T11:25:57.695Z"
   },
   {
    "duration": 7,
    "start_time": "2023-06-05T11:25:57.754Z"
   },
   {
    "duration": 339,
    "start_time": "2023-06-05T11:25:57.779Z"
   },
   {
    "duration": 2946,
    "start_time": "2023-06-05T11:29:06.646Z"
   },
   {
    "duration": 2831,
    "start_time": "2023-06-05T11:33:21.304Z"
   },
   {
    "duration": 2841,
    "start_time": "2023-06-05T11:34:39.467Z"
   },
   {
    "duration": 2825,
    "start_time": "2023-06-05T11:34:43.299Z"
   },
   {
    "duration": 3005,
    "start_time": "2023-06-05T11:35:03.661Z"
   },
   {
    "duration": 3,
    "start_time": "2023-06-05T11:35:21.732Z"
   },
   {
    "duration": 80,
    "start_time": "2023-06-05T11:40:49.963Z"
   },
   {
    "duration": 165,
    "start_time": "2023-06-05T11:41:24.336Z"
   },
   {
    "duration": 381,
    "start_time": "2023-06-05T11:44:48.459Z"
   },
   {
    "duration": 1514,
    "start_time": "2023-06-05T11:45:06.371Z"
   },
   {
    "duration": 3,
    "start_time": "2023-06-05T11:45:07.887Z"
   },
   {
    "duration": 828,
    "start_time": "2023-06-05T11:45:07.892Z"
   },
   {
    "duration": 18,
    "start_time": "2023-06-05T11:45:08.721Z"
   },
   {
    "duration": 493,
    "start_time": "2023-06-05T11:45:08.741Z"
   },
   {
    "duration": 133,
    "start_time": "2023-06-05T11:45:09.235Z"
   },
   {
    "duration": 106,
    "start_time": "2023-06-05T11:45:09.377Z"
   },
   {
    "duration": 52,
    "start_time": "2023-06-05T11:45:09.485Z"
   },
   {
    "duration": 7,
    "start_time": "2023-06-05T11:45:09.539Z"
   },
   {
    "duration": 3184,
    "start_time": "2023-06-05T11:45:09.548Z"
   },
   {
    "duration": 183,
    "start_time": "2023-06-05T11:45:12.734Z"
   },
   {
    "duration": 352,
    "start_time": "2023-06-05T11:45:12.919Z"
   },
   {
    "duration": 316,
    "start_time": "2023-06-05T11:45:29.242Z"
   },
   {
    "duration": 334,
    "start_time": "2023-06-05T11:47:20.121Z"
   },
   {
    "duration": 322,
    "start_time": "2023-06-05T11:47:27.660Z"
   },
   {
    "duration": 307,
    "start_time": "2023-06-05T11:47:31.824Z"
   },
   {
    "duration": 285,
    "start_time": "2023-06-05T11:56:21.967Z"
   },
   {
    "duration": 10,
    "start_time": "2023-06-05T11:56:49.228Z"
   },
   {
    "duration": 14,
    "start_time": "2023-06-05T11:57:57.765Z"
   },
   {
    "duration": 14,
    "start_time": "2023-06-05T11:58:03.024Z"
   },
   {
    "duration": 22,
    "start_time": "2023-06-05T11:58:05.887Z"
   },
   {
    "duration": 41,
    "start_time": "2023-06-05T11:58:10.360Z"
   },
   {
    "duration": 42,
    "start_time": "2023-06-05T11:58:13.480Z"
   },
   {
    "duration": 47,
    "start_time": "2023-06-05T11:58:21.797Z"
   },
   {
    "duration": 14,
    "start_time": "2023-06-05T11:58:36.268Z"
   },
   {
    "duration": 15,
    "start_time": "2023-06-05T12:00:18.494Z"
   },
   {
    "duration": 102,
    "start_time": "2023-06-05T12:05:59.005Z"
   },
   {
    "duration": 90,
    "start_time": "2023-06-05T12:07:57.360Z"
   },
   {
    "duration": 121,
    "start_time": "2023-06-05T12:08:08.118Z"
   },
   {
    "duration": 3356,
    "start_time": "2023-06-05T12:08:39.229Z"
   },
   {
    "duration": 361,
    "start_time": "2023-06-05T12:08:49.721Z"
   },
   {
    "duration": 361,
    "start_time": "2023-06-05T12:09:36.832Z"
   },
   {
    "duration": 1472,
    "start_time": "2023-06-05T12:10:47.860Z"
   },
   {
    "duration": 3,
    "start_time": "2023-06-05T12:10:49.334Z"
   },
   {
    "duration": 831,
    "start_time": "2023-06-05T12:10:49.339Z"
   },
   {
    "duration": 19,
    "start_time": "2023-06-05T12:10:50.172Z"
   },
   {
    "duration": 115,
    "start_time": "2023-06-05T12:10:50.193Z"
   },
   {
    "duration": 98,
    "start_time": "2023-06-05T12:10:50.309Z"
   },
   {
    "duration": 46,
    "start_time": "2023-06-05T12:10:50.408Z"
   },
   {
    "duration": 7,
    "start_time": "2023-06-05T12:10:50.455Z"
   },
   {
    "duration": 2884,
    "start_time": "2023-06-05T12:10:50.479Z"
   },
   {
    "duration": 167,
    "start_time": "2023-06-05T12:10:53.364Z"
   },
   {
    "duration": 306,
    "start_time": "2023-06-05T12:10:53.533Z"
   },
   {
    "duration": 326,
    "start_time": "2023-06-05T12:10:53.841Z"
   },
   {
    "duration": 20,
    "start_time": "2023-06-05T12:10:54.169Z"
   },
   {
    "duration": 178,
    "start_time": "2023-06-05T12:10:54.192Z"
   },
   {
    "duration": 18,
    "start_time": "2023-06-05T12:10:54.372Z"
   },
   {
    "duration": 162,
    "start_time": "2023-06-05T12:11:04.306Z"
   },
   {
    "duration": 169,
    "start_time": "2023-06-05T12:11:14.347Z"
   },
   {
    "duration": 168,
    "start_time": "2023-06-05T12:11:18.364Z"
   },
   {
    "duration": 25,
    "start_time": "2023-06-05T12:12:45.318Z"
   },
   {
    "duration": 12,
    "start_time": "2023-06-05T12:12:56.520Z"
   },
   {
    "duration": 11,
    "start_time": "2023-06-05T12:13:03.335Z"
   },
   {
    "duration": 13,
    "start_time": "2023-06-05T12:13:15.620Z"
   },
   {
    "duration": 13,
    "start_time": "2023-06-05T12:13:22.003Z"
   },
   {
    "duration": 105,
    "start_time": "2023-06-05T12:18:15.066Z"
   },
   {
    "duration": 73,
    "start_time": "2023-06-05T12:18:20.593Z"
   },
   {
    "duration": 12,
    "start_time": "2023-06-05T12:18:24.880Z"
   },
   {
    "duration": 14,
    "start_time": "2023-06-05T12:18:26.763Z"
   },
   {
    "duration": 52,
    "start_time": "2023-06-05T12:18:32.063Z"
   },
   {
    "duration": 44,
    "start_time": "2023-06-05T12:19:37.316Z"
   },
   {
    "duration": 43,
    "start_time": "2023-06-05T12:19:41.926Z"
   },
   {
    "duration": 38,
    "start_time": "2023-06-05T12:19:55.134Z"
   },
   {
    "duration": 42,
    "start_time": "2023-06-05T12:20:15.945Z"
   },
   {
    "duration": 49,
    "start_time": "2023-06-05T12:20:35.918Z"
   },
   {
    "duration": 9,
    "start_time": "2023-06-05T12:21:03.127Z"
   },
   {
    "duration": 12,
    "start_time": "2023-06-05T12:21:06.433Z"
   },
   {
    "duration": 243,
    "start_time": "2023-06-05T12:29:14.205Z"
   },
   {
    "duration": 227,
    "start_time": "2023-06-05T12:29:20.295Z"
   },
   {
    "duration": 273,
    "start_time": "2023-06-05T12:29:37.515Z"
   },
   {
    "duration": 548,
    "start_time": "2023-06-05T12:29:45.206Z"
   },
   {
    "duration": 220,
    "start_time": "2023-06-05T12:29:49.077Z"
   },
   {
    "duration": 15,
    "start_time": "2023-06-05T12:37:34.440Z"
   },
   {
    "duration": 15,
    "start_time": "2023-06-05T12:37:45.158Z"
   },
   {
    "duration": 5,
    "start_time": "2023-06-05T12:38:15.491Z"
   },
   {
    "duration": 15,
    "start_time": "2023-06-05T12:38:28.649Z"
   },
   {
    "duration": 78,
    "start_time": "2023-06-05T12:38:30.694Z"
   },
   {
    "duration": 15,
    "start_time": "2023-06-05T12:38:32.819Z"
   },
   {
    "duration": 16,
    "start_time": "2023-06-05T12:38:51.539Z"
   },
   {
    "duration": 18,
    "start_time": "2023-06-05T12:38:57.003Z"
   },
   {
    "duration": 15,
    "start_time": "2023-06-05T12:39:00.114Z"
   },
   {
    "duration": 15,
    "start_time": "2023-06-05T12:39:04.034Z"
   },
   {
    "duration": 14,
    "start_time": "2023-06-05T12:42:56.419Z"
   },
   {
    "duration": 14,
    "start_time": "2023-06-05T12:43:02.811Z"
   },
   {
    "duration": 14,
    "start_time": "2023-06-05T12:43:05.813Z"
   },
   {
    "duration": 16,
    "start_time": "2023-06-05T12:43:22.650Z"
   },
   {
    "duration": 29,
    "start_time": "2023-06-05T12:43:26.489Z"
   },
   {
    "duration": 20,
    "start_time": "2023-06-05T12:44:36.530Z"
   },
   {
    "duration": 693,
    "start_time": "2023-06-05T12:51:19.088Z"
   },
   {
    "duration": 686,
    "start_time": "2023-06-05T12:52:01.902Z"
   },
   {
    "duration": 747,
    "start_time": "2023-06-05T12:52:14.086Z"
   },
   {
    "duration": 149,
    "start_time": "2023-06-05T12:52:26.657Z"
   },
   {
    "duration": 214,
    "start_time": "2023-06-05T12:52:33.040Z"
   },
   {
    "duration": 54,
    "start_time": "2023-06-05T12:52:54.542Z"
   },
   {
    "duration": 135,
    "start_time": "2023-06-05T12:54:19.862Z"
   },
   {
    "duration": 127,
    "start_time": "2023-06-05T12:54:25.645Z"
   },
   {
    "duration": 692,
    "start_time": "2023-06-05T12:54:30.466Z"
   },
   {
    "duration": 66,
    "start_time": "2023-06-05T12:56:10.312Z"
   },
   {
    "duration": 13,
    "start_time": "2023-06-05T12:56:26.737Z"
   },
   {
    "duration": 314,
    "start_time": "2023-06-05T12:56:41.825Z"
   },
   {
    "duration": 9,
    "start_time": "2023-06-05T12:57:18.810Z"
   },
   {
    "duration": 125,
    "start_time": "2023-06-05T12:58:49.061Z"
   },
   {
    "duration": 406,
    "start_time": "2023-06-05T12:58:58.982Z"
   },
   {
    "duration": 20,
    "start_time": "2023-06-05T12:59:49.246Z"
   },
   {
    "duration": 7,
    "start_time": "2023-06-05T13:00:35.060Z"
   },
   {
    "duration": 8,
    "start_time": "2023-06-05T13:00:40.324Z"
   },
   {
    "duration": 14,
    "start_time": "2023-06-05T13:01:05.695Z"
   },
   {
    "duration": 7,
    "start_time": "2023-06-05T13:01:10.420Z"
   },
   {
    "duration": 35,
    "start_time": "2023-06-05T13:02:21.958Z"
   },
   {
    "duration": 4,
    "start_time": "2023-06-05T13:02:56.133Z"
   },
   {
    "duration": 5,
    "start_time": "2023-06-05T13:03:20.224Z"
   },
   {
    "duration": 11,
    "start_time": "2023-06-05T13:08:22.155Z"
   },
   {
    "duration": 10,
    "start_time": "2023-06-05T13:08:22.458Z"
   },
   {
    "duration": 10,
    "start_time": "2023-06-05T13:08:23.013Z"
   },
   {
    "duration": 11,
    "start_time": "2023-06-05T13:08:34.503Z"
   },
   {
    "duration": 254,
    "start_time": "2023-06-05T13:08:43.000Z"
   },
   {
    "duration": 276,
    "start_time": "2023-06-05T13:08:51.420Z"
   },
   {
    "duration": 273,
    "start_time": "2023-06-05T13:08:56.754Z"
   },
   {
    "duration": 1470,
    "start_time": "2023-06-05T13:09:03.514Z"
   },
   {
    "duration": 3,
    "start_time": "2023-06-05T13:09:04.987Z"
   },
   {
    "duration": 879,
    "start_time": "2023-06-05T13:09:04.992Z"
   },
   {
    "duration": 19,
    "start_time": "2023-06-05T13:09:05.873Z"
   },
   {
    "duration": 133,
    "start_time": "2023-06-05T13:09:05.895Z"
   },
   {
    "duration": 106,
    "start_time": "2023-06-05T13:09:06.030Z"
   },
   {
    "duration": 55,
    "start_time": "2023-06-05T13:09:06.137Z"
   },
   {
    "duration": 6,
    "start_time": "2023-06-05T13:09:06.193Z"
   },
   {
    "duration": 3003,
    "start_time": "2023-06-05T13:09:06.201Z"
   },
   {
    "duration": 734,
    "start_time": "2023-06-05T13:09:09.206Z"
   },
   {
    "duration": 0,
    "start_time": "2023-06-05T13:09:09.942Z"
   },
   {
    "duration": 0,
    "start_time": "2023-06-05T13:09:09.943Z"
   },
   {
    "duration": 0,
    "start_time": "2023-06-05T13:09:09.944Z"
   },
   {
    "duration": 0,
    "start_time": "2023-06-05T13:09:09.945Z"
   },
   {
    "duration": 0,
    "start_time": "2023-06-05T13:09:09.946Z"
   },
   {
    "duration": 0,
    "start_time": "2023-06-05T13:09:09.947Z"
   },
   {
    "duration": 0,
    "start_time": "2023-06-05T13:09:09.948Z"
   },
   {
    "duration": 0,
    "start_time": "2023-06-05T13:09:09.949Z"
   },
   {
    "duration": 0,
    "start_time": "2023-06-05T13:09:09.950Z"
   },
   {
    "duration": 0,
    "start_time": "2023-06-05T13:09:09.951Z"
   },
   {
    "duration": 0,
    "start_time": "2023-06-05T13:09:09.952Z"
   },
   {
    "duration": 0,
    "start_time": "2023-06-05T13:09:09.953Z"
   },
   {
    "duration": 0,
    "start_time": "2023-06-05T13:09:09.954Z"
   },
   {
    "duration": 0,
    "start_time": "2023-06-05T13:09:09.955Z"
   },
   {
    "duration": 0,
    "start_time": "2023-06-05T13:09:09.956Z"
   },
   {
    "duration": 0,
    "start_time": "2023-06-05T13:09:09.957Z"
   },
   {
    "duration": 0,
    "start_time": "2023-06-05T13:09:09.958Z"
   },
   {
    "duration": 574,
    "start_time": "2023-06-05T13:09:50.792Z"
   },
   {
    "duration": 623,
    "start_time": "2023-06-05T13:09:53.186Z"
   },
   {
    "duration": 0,
    "start_time": "2023-06-05T13:09:53.811Z"
   },
   {
    "duration": 568,
    "start_time": "2023-06-05T13:10:49.874Z"
   },
   {
    "duration": 1497,
    "start_time": "2023-06-05T13:13:38.908Z"
   },
   {
    "duration": 3,
    "start_time": "2023-06-05T13:13:40.408Z"
   },
   {
    "duration": 922,
    "start_time": "2023-06-05T13:13:40.413Z"
   },
   {
    "duration": 20,
    "start_time": "2023-06-05T13:13:41.336Z"
   },
   {
    "duration": 133,
    "start_time": "2023-06-05T13:13:41.359Z"
   },
   {
    "duration": 110,
    "start_time": "2023-06-05T13:13:41.494Z"
   },
   {
    "duration": 49,
    "start_time": "2023-06-05T13:13:41.606Z"
   },
   {
    "duration": 20,
    "start_time": "2023-06-05T13:13:41.661Z"
   },
   {
    "duration": 2945,
    "start_time": "2023-06-05T13:13:41.683Z"
   },
   {
    "duration": 352,
    "start_time": "2023-06-05T13:13:44.629Z"
   },
   {
    "duration": 355,
    "start_time": "2023-06-05T13:13:44.983Z"
   },
   {
    "duration": 11,
    "start_time": "2023-06-05T13:13:45.340Z"
   },
   {
    "duration": 197,
    "start_time": "2023-06-05T13:13:45.352Z"
   },
   {
    "duration": 13,
    "start_time": "2023-06-05T13:13:45.552Z"
   },
   {
    "duration": 70,
    "start_time": "2023-06-05T13:13:45.567Z"
   },
   {
    "duration": 11,
    "start_time": "2023-06-05T13:13:45.639Z"
   },
   {
    "duration": 301,
    "start_time": "2023-06-05T13:13:45.651Z"
   },
   {
    "duration": 81,
    "start_time": "2023-06-05T13:13:45.954Z"
   },
   {
    "duration": 8,
    "start_time": "2023-06-05T13:13:46.037Z"
   },
   {
    "duration": 459,
    "start_time": "2023-06-05T13:13:46.047Z"
   },
   {
    "duration": 7,
    "start_time": "2023-06-05T13:13:46.507Z"
   },
   {
    "duration": 34,
    "start_time": "2023-06-05T13:13:46.515Z"
   },
   {
    "duration": 750,
    "start_time": "2023-06-05T13:13:46.551Z"
   },
   {
    "duration": 0,
    "start_time": "2023-06-05T13:13:47.303Z"
   },
   {
    "duration": 0,
    "start_time": "2023-06-05T13:13:47.304Z"
   },
   {
    "duration": 652,
    "start_time": "2023-06-05T13:18:20.422Z"
   },
   {
    "duration": 553,
    "start_time": "2023-06-05T13:18:38.875Z"
   },
   {
    "duration": 71,
    "start_time": "2023-06-05T13:19:06.728Z"
   },
   {
    "duration": 81,
    "start_time": "2023-06-05T13:19:23.132Z"
   },
   {
    "duration": 559,
    "start_time": "2023-06-05T13:19:30.025Z"
   },
   {
    "duration": 117,
    "start_time": "2023-06-05T13:19:33.580Z"
   },
   {
    "duration": 533,
    "start_time": "2023-06-05T13:19:41.097Z"
   },
   {
    "duration": 12,
    "start_time": "2023-06-05T13:19:53.909Z"
   },
   {
    "duration": 79,
    "start_time": "2023-06-05T13:20:03.274Z"
   },
   {
    "duration": 11,
    "start_time": "2023-06-05T13:20:30.566Z"
   },
   {
    "duration": 68,
    "start_time": "2023-06-05T13:20:39.148Z"
   },
   {
    "duration": 53,
    "start_time": "2023-06-05T13:20:41.489Z"
   },
   {
    "duration": 48,
    "start_time": "2023-06-05T13:20:48.207Z"
   },
   {
    "duration": 611,
    "start_time": "2023-06-05T13:21:29.979Z"
   },
   {
    "duration": 4,
    "start_time": "2023-06-05T13:21:59.311Z"
   },
   {
    "duration": 63,
    "start_time": "2023-06-05T13:22:09.557Z"
   },
   {
    "duration": 10,
    "start_time": "2023-06-05T13:22:20.838Z"
   },
   {
    "duration": 98,
    "start_time": "2023-06-05T13:22:29.899Z"
   },
   {
    "duration": 78,
    "start_time": "2023-06-05T13:22:51.342Z"
   },
   {
    "duration": 226,
    "start_time": "2023-06-05T13:22:58.452Z"
   },
   {
    "duration": 185,
    "start_time": "2023-06-05T13:23:13.910Z"
   },
   {
    "duration": 85,
    "start_time": "2023-06-05T13:23:29.298Z"
   },
   {
    "duration": 81,
    "start_time": "2023-06-05T13:23:43.109Z"
   },
   {
    "duration": 89,
    "start_time": "2023-06-05T13:23:49.560Z"
   },
   {
    "duration": 45,
    "start_time": "2023-06-05T13:24:41.118Z"
   },
   {
    "duration": 82,
    "start_time": "2023-06-05T13:25:09.195Z"
   },
   {
    "duration": 90,
    "start_time": "2023-06-05T13:26:02.484Z"
   },
   {
    "duration": 91,
    "start_time": "2023-06-05T13:26:13.046Z"
   },
   {
    "duration": 99,
    "start_time": "2023-06-05T13:26:23.672Z"
   },
   {
    "duration": 111,
    "start_time": "2023-06-05T13:26:45.614Z"
   },
   {
    "duration": 185,
    "start_time": "2023-06-05T13:26:50.402Z"
   },
   {
    "duration": 81,
    "start_time": "2023-06-05T13:27:02.717Z"
   },
   {
    "duration": 72,
    "start_time": "2023-06-05T13:27:17.271Z"
   },
   {
    "duration": 78,
    "start_time": "2023-06-05T13:27:42.447Z"
   },
   {
    "duration": 84,
    "start_time": "2023-06-05T13:27:48.215Z"
   },
   {
    "duration": 1180,
    "start_time": "2023-06-05T13:28:19.310Z"
   },
   {
    "duration": 596,
    "start_time": "2023-06-05T13:28:40.188Z"
   },
   {
    "duration": 45,
    "start_time": "2023-06-05T14:07:36.124Z"
   },
   {
    "duration": 339,
    "start_time": "2023-06-05T14:07:46.816Z"
   },
   {
    "duration": 74,
    "start_time": "2023-06-05T14:08:16.534Z"
   },
   {
    "duration": 8,
    "start_time": "2023-06-05T14:08:17.010Z"
   },
   {
    "duration": 1411,
    "start_time": "2023-06-05T14:08:41.526Z"
   },
   {
    "duration": 3,
    "start_time": "2023-06-05T14:08:42.939Z"
   },
   {
    "duration": 821,
    "start_time": "2023-06-05T14:08:42.943Z"
   },
   {
    "duration": 23,
    "start_time": "2023-06-05T14:08:43.766Z"
   },
   {
    "duration": 540,
    "start_time": "2023-06-05T14:08:43.790Z"
   },
   {
    "duration": 125,
    "start_time": "2023-06-05T14:08:44.332Z"
   },
   {
    "duration": 99,
    "start_time": "2023-06-05T14:08:44.458Z"
   },
   {
    "duration": 62,
    "start_time": "2023-06-05T14:08:44.559Z"
   },
   {
    "duration": 5,
    "start_time": "2023-06-05T14:08:44.623Z"
   },
   {
    "duration": 3305,
    "start_time": "2023-06-05T14:08:44.631Z"
   },
   {
    "duration": 4,
    "start_time": "2023-06-05T14:08:47.938Z"
   },
   {
    "duration": 146,
    "start_time": "2023-06-05T14:08:47.944Z"
   },
   {
    "duration": 332,
    "start_time": "2023-06-05T14:08:48.094Z"
   },
   {
    "duration": 384,
    "start_time": "2023-06-05T14:08:48.427Z"
   },
   {
    "duration": 15,
    "start_time": "2023-06-05T14:08:48.813Z"
   },
   {
    "duration": 200,
    "start_time": "2023-06-05T14:08:48.829Z"
   },
   {
    "duration": 12,
    "start_time": "2023-06-05T14:08:49.031Z"
   },
   {
    "duration": 76,
    "start_time": "2023-06-05T14:08:49.045Z"
   },
   {
    "duration": 339,
    "start_time": "2023-06-05T14:08:49.123Z"
   },
   {
    "duration": 15,
    "start_time": "2023-06-05T14:08:49.464Z"
   },
   {
    "duration": 277,
    "start_time": "2023-06-05T14:08:49.480Z"
   },
   {
    "duration": 80,
    "start_time": "2023-06-05T14:08:49.759Z"
   },
   {
    "duration": 436,
    "start_time": "2023-06-05T14:08:49.841Z"
   },
   {
    "duration": 7,
    "start_time": "2023-06-05T14:08:50.279Z"
   },
   {
    "duration": 5,
    "start_time": "2023-06-05T14:08:50.287Z"
   },
   {
    "duration": 280,
    "start_time": "2023-06-05T14:11:33.183Z"
   },
   {
    "duration": 324,
    "start_time": "2023-06-05T14:11:43.307Z"
   },
   {
    "duration": 160,
    "start_time": "2023-06-06T10:16:41.959Z"
   },
   {
    "duration": 70,
    "start_time": "2023-06-06T10:16:46.437Z"
   },
   {
    "duration": 2141,
    "start_time": "2023-06-06T12:14:45.091Z"
   },
   {
    "duration": 3,
    "start_time": "2023-06-06T12:14:47.235Z"
   },
   {
    "duration": 3706,
    "start_time": "2023-06-06T12:14:47.240Z"
   },
   {
    "duration": 36,
    "start_time": "2023-06-06T12:14:50.948Z"
   },
   {
    "duration": 205,
    "start_time": "2023-06-06T12:14:50.990Z"
   },
   {
    "duration": 629,
    "start_time": "2023-06-06T12:14:51.200Z"
   },
   {
    "duration": 127,
    "start_time": "2023-06-06T12:14:51.832Z"
   },
   {
    "duration": 57,
    "start_time": "2023-06-06T12:14:51.962Z"
   },
   {
    "duration": 43,
    "start_time": "2023-06-06T12:14:52.021Z"
   },
   {
    "duration": 4142,
    "start_time": "2023-06-06T12:14:52.066Z"
   },
   {
    "duration": 212,
    "start_time": "2023-06-06T12:14:56.210Z"
   },
   {
    "duration": 483,
    "start_time": "2023-06-06T12:14:56.425Z"
   },
   {
    "duration": 515,
    "start_time": "2023-06-06T12:14:56.911Z"
   },
   {
    "duration": 33,
    "start_time": "2023-06-06T12:14:57.429Z"
   },
   {
    "duration": 271,
    "start_time": "2023-06-06T12:14:57.464Z"
   },
   {
    "duration": 26,
    "start_time": "2023-06-06T12:14:57.737Z"
   },
   {
    "duration": 84,
    "start_time": "2023-06-06T12:14:57.765Z"
   },
   {
    "duration": 485,
    "start_time": "2023-06-06T12:14:57.851Z"
   },
   {
    "duration": 27,
    "start_time": "2023-06-06T12:14:58.339Z"
   },
   {
    "duration": 311,
    "start_time": "2023-06-06T12:14:58.383Z"
   },
   {
    "duration": 114,
    "start_time": "2023-06-06T12:14:58.697Z"
   },
   {
    "duration": 725,
    "start_time": "2023-06-06T12:14:58.814Z"
   },
   {
    "duration": 23,
    "start_time": "2023-06-06T12:14:59.541Z"
   },
   {
    "duration": 15,
    "start_time": "2023-06-06T12:14:59.566Z"
   },
   {
    "duration": 99278,
    "start_time": "2023-06-06T12:21:05.314Z"
   },
   {
    "duration": 1568,
    "start_time": "2023-06-06T12:57:39.777Z"
   },
   {
    "duration": 2,
    "start_time": "2023-06-06T12:57:41.347Z"
   },
   {
    "duration": 3085,
    "start_time": "2023-06-06T12:57:41.782Z"
   },
   {
    "duration": 18,
    "start_time": "2023-06-06T12:57:44.870Z"
   },
   {
    "duration": 148,
    "start_time": "2023-06-06T12:57:44.890Z"
   },
   {
    "duration": 572,
    "start_time": "2023-06-06T12:57:45.040Z"
   },
   {
    "duration": 111,
    "start_time": "2023-06-06T12:57:56.851Z"
   },
   {
    "duration": 50,
    "start_time": "2023-06-06T12:57:57.850Z"
   },
   {
    "duration": 6,
    "start_time": "2023-06-06T12:58:08.104Z"
   },
   {
    "duration": 3060,
    "start_time": "2023-06-06T12:58:09.606Z"
   },
   {
    "duration": 89036,
    "start_time": "2023-06-06T12:58:12.668Z"
   },
   {
    "duration": 0,
    "start_time": "2023-06-06T12:59:41.832Z"
   },
   {
    "duration": 75,
    "start_time": "2023-06-06T12:59:44.220Z"
   },
   {
    "duration": 77,
    "start_time": "2023-06-06T13:00:00.829Z"
   },
   {
    "duration": 67,
    "start_time": "2023-06-06T13:00:13.416Z"
   },
   {
    "duration": 15,
    "start_time": "2023-06-06T13:00:25.023Z"
   },
   {
    "duration": 1371,
    "start_time": "2023-06-06T13:00:31.214Z"
   },
   {
    "duration": 1316,
    "start_time": "2023-06-06T13:00:36.523Z"
   },
   {
    "duration": 14,
    "start_time": "2023-06-06T13:00:42.526Z"
   },
   {
    "duration": 303,
    "start_time": "2023-06-06T14:22:47.928Z"
   },
   {
    "duration": 9,
    "start_time": "2023-06-06T14:28:22.982Z"
   },
   {
    "duration": 199,
    "start_time": "2023-06-06T14:28:23.518Z"
   },
   {
    "duration": 313,
    "start_time": "2023-06-06T14:28:42.644Z"
   },
   {
    "duration": 312,
    "start_time": "2023-06-06T14:28:43.032Z"
   },
   {
    "duration": 12,
    "start_time": "2023-06-06T14:30:08.546Z"
   },
   {
    "duration": 1263,
    "start_time": "2023-06-06T14:30:18.002Z"
   },
   {
    "duration": 26,
    "start_time": "2023-06-06T14:30:24.293Z"
   },
   {
    "duration": 14,
    "start_time": "2023-06-06T14:30:29.095Z"
   },
   {
    "duration": 46,
    "start_time": "2023-06-06T14:30:32.228Z"
   },
   {
    "duration": 12,
    "start_time": "2023-06-06T14:31:00.919Z"
   },
   {
    "duration": 13,
    "start_time": "2023-06-06T14:31:20.601Z"
   },
   {
    "duration": 1278,
    "start_time": "2023-06-06T14:31:36.687Z"
   },
   {
    "duration": 0,
    "start_time": "2023-06-06T14:31:37.966Z"
   },
   {
    "duration": 42,
    "start_time": "2023-06-06T14:31:41.351Z"
   },
   {
    "duration": 8,
    "start_time": "2023-06-06T14:31:43.201Z"
   },
   {
    "duration": 9,
    "start_time": "2023-06-06T14:32:24.446Z"
   },
   {
    "duration": 14,
    "start_time": "2023-06-06T14:34:01.180Z"
   },
   {
    "duration": 9,
    "start_time": "2023-06-06T14:34:09.143Z"
   },
   {
    "duration": 1270,
    "start_time": "2023-06-06T14:34:14.587Z"
   },
   {
    "duration": 9,
    "start_time": "2023-06-06T14:34:22.547Z"
   },
   {
    "duration": 102,
    "start_time": "2023-06-06T14:35:08.108Z"
   },
   {
    "duration": 1242,
    "start_time": "2023-06-06T14:36:39.182Z"
   },
   {
    "duration": 17,
    "start_time": "2023-06-06T14:36:47.305Z"
   },
   {
    "duration": 12,
    "start_time": "2023-06-06T14:37:14.240Z"
   },
   {
    "duration": 16,
    "start_time": "2023-06-06T14:37:21.374Z"
   },
   {
    "duration": 35,
    "start_time": "2023-06-06T14:40:20.912Z"
   },
   {
    "duration": 1320,
    "start_time": "2023-06-06T14:40:55.680Z"
   },
   {
    "duration": 271,
    "start_time": "2023-06-06T14:41:15.746Z"
   },
   {
    "duration": 789,
    "start_time": "2023-06-06T14:42:40.325Z"
   },
   {
    "duration": 5,
    "start_time": "2023-06-06T14:49:36.673Z"
   },
   {
    "duration": 18,
    "start_time": "2023-06-06T14:49:45.699Z"
   },
   {
    "duration": 1457,
    "start_time": "2023-06-06T14:55:58.910Z"
   },
   {
    "duration": 2,
    "start_time": "2023-06-06T14:56:00.369Z"
   },
   {
    "duration": 988,
    "start_time": "2023-06-06T14:56:00.373Z"
   },
   {
    "duration": 18,
    "start_time": "2023-06-06T14:56:01.363Z"
   },
   {
    "duration": 133,
    "start_time": "2023-06-06T14:56:01.383Z"
   },
   {
    "duration": 118,
    "start_time": "2023-06-06T14:56:01.517Z"
   },
   {
    "duration": 56,
    "start_time": "2023-06-06T14:56:01.637Z"
   },
   {
    "duration": 48,
    "start_time": "2023-06-06T14:56:01.695Z"
   },
   {
    "duration": 3116,
    "start_time": "2023-06-06T14:56:01.745Z"
   },
   {
    "duration": 87898,
    "start_time": "2023-06-06T14:56:04.863Z"
   },
   {
    "duration": 315,
    "start_time": "2023-06-06T14:57:32.763Z"
   },
   {
    "duration": 341,
    "start_time": "2023-06-06T14:57:33.080Z"
   },
   {
    "duration": 24,
    "start_time": "2023-06-06T14:57:33.423Z"
   },
   {
    "duration": 55,
    "start_time": "2023-06-06T14:57:33.458Z"
   },
   {
    "duration": 19,
    "start_time": "2023-06-06T14:57:33.514Z"
   },
   {
    "duration": 27,
    "start_time": "2023-06-06T14:57:33.535Z"
   },
   {
    "duration": 38,
    "start_time": "2023-06-06T14:57:33.563Z"
   },
   {
    "duration": 9,
    "start_time": "2023-06-06T14:57:33.603Z"
   },
   {
    "duration": 15,
    "start_time": "2023-06-06T14:57:33.613Z"
   },
   {
    "duration": 94,
    "start_time": "2023-06-06T14:57:33.630Z"
   },
   {
    "duration": 12,
    "start_time": "2023-06-06T14:57:33.726Z"
   },
   {
    "duration": 28,
    "start_time": "2023-06-06T14:57:33.740Z"
   },
   {
    "duration": 44,
    "start_time": "2023-06-06T14:57:33.771Z"
   },
   {
    "duration": 765,
    "start_time": "2023-06-06T14:57:33.817Z"
   },
   {
    "duration": 4,
    "start_time": "2023-06-06T14:57:34.584Z"
   },
   {
    "duration": 50,
    "start_time": "2023-06-06T15:01:11.781Z"
   },
   {
    "duration": 1733,
    "start_time": "2023-06-06T15:01:22.976Z"
   },
   {
    "duration": 2,
    "start_time": "2023-06-06T15:01:24.711Z"
   },
   {
    "duration": 3178,
    "start_time": "2023-06-06T15:01:24.715Z"
   },
   {
    "duration": 18,
    "start_time": "2023-06-06T15:01:27.895Z"
   },
   {
    "duration": 132,
    "start_time": "2023-06-06T15:01:27.916Z"
   },
   {
    "duration": 119,
    "start_time": "2023-06-06T15:01:28.056Z"
   },
   {
    "duration": 52,
    "start_time": "2023-06-06T15:01:28.177Z"
   },
   {
    "duration": 26,
    "start_time": "2023-06-06T15:01:28.230Z"
   },
   {
    "duration": 3606,
    "start_time": "2023-06-06T15:01:28.258Z"
   },
   {
    "duration": 89058,
    "start_time": "2023-06-06T15:01:31.867Z"
   },
   {
    "duration": 338,
    "start_time": "2023-06-06T15:03:00.928Z"
   },
   {
    "duration": 361,
    "start_time": "2023-06-06T15:03:01.269Z"
   },
   {
    "duration": 41,
    "start_time": "2023-06-06T15:03:01.632Z"
   },
   {
    "duration": 102,
    "start_time": "2023-06-06T15:03:01.676Z"
   },
   {
    "duration": 28,
    "start_time": "2023-06-06T15:03:01.780Z"
   },
   {
    "duration": 109,
    "start_time": "2023-06-06T15:03:01.811Z"
   },
   {
    "duration": 111,
    "start_time": "2023-06-06T15:03:01.922Z"
   },
   {
    "duration": 25,
    "start_time": "2023-06-06T15:03:02.036Z"
   },
   {
    "duration": 59,
    "start_time": "2023-06-06T15:03:02.063Z"
   },
   {
    "duration": 110,
    "start_time": "2023-06-06T15:03:02.124Z"
   },
   {
    "duration": 22,
    "start_time": "2023-06-06T15:03:02.236Z"
   },
   {
    "duration": 35,
    "start_time": "2023-06-06T15:03:02.260Z"
   },
   {
    "duration": 50,
    "start_time": "2023-06-06T15:03:02.297Z"
   },
   {
    "duration": 804,
    "start_time": "2023-06-06T15:03:02.349Z"
   },
   {
    "duration": 4,
    "start_time": "2023-06-06T15:03:03.157Z"
   },
   {
    "duration": 117,
    "start_time": "2023-06-06T15:04:41.557Z"
   },
   {
    "duration": 26,
    "start_time": "2023-06-06T15:04:41.874Z"
   },
   {
    "duration": 5,
    "start_time": "2023-06-06T15:05:31.332Z"
   },
   {
    "duration": 95,
    "start_time": "2023-06-06T15:05:35.824Z"
   },
   {
    "duration": 40,
    "start_time": "2023-06-06T15:05:36.592Z"
   },
   {
    "duration": 31,
    "start_time": "2023-06-06T15:05:44.432Z"
   },
   {
    "duration": 242,
    "start_time": "2023-06-06T15:05:51.622Z"
   },
   {
    "duration": 109,
    "start_time": "2023-06-06T15:06:02.217Z"
   },
   {
    "duration": 26,
    "start_time": "2023-06-06T15:06:34.729Z"
   },
   {
    "duration": 11,
    "start_time": "2023-06-06T15:07:27.661Z"
   },
   {
    "duration": 17,
    "start_time": "2023-06-06T15:08:43.782Z"
   },
   {
    "duration": 1654,
    "start_time": "2023-06-06T15:09:24.326Z"
   },
   {
    "duration": 3,
    "start_time": "2023-06-06T15:09:25.982Z"
   },
   {
    "duration": 1038,
    "start_time": "2023-06-06T15:09:25.987Z"
   },
   {
    "duration": 31,
    "start_time": "2023-06-06T15:09:27.027Z"
   },
   {
    "duration": 134,
    "start_time": "2023-06-06T15:09:27.060Z"
   },
   {
    "duration": 134,
    "start_time": "2023-06-06T15:09:27.196Z"
   },
   {
    "duration": 62,
    "start_time": "2023-06-06T15:09:27.332Z"
   },
   {
    "duration": 7,
    "start_time": "2023-06-06T15:09:27.396Z"
   },
   {
    "duration": 3419,
    "start_time": "2023-06-06T15:09:27.405Z"
   },
   {
    "duration": 91143,
    "start_time": "2023-06-06T15:09:30.826Z"
   },
   {
    "duration": 341,
    "start_time": "2023-06-06T15:11:01.972Z"
   },
   {
    "duration": 348,
    "start_time": "2023-06-06T15:11:02.315Z"
   },
   {
    "duration": 24,
    "start_time": "2023-06-06T15:11:02.665Z"
   },
   {
    "duration": 69,
    "start_time": "2023-06-06T15:11:02.692Z"
   },
   {
    "duration": 18,
    "start_time": "2023-06-06T15:11:02.763Z"
   },
   {
    "duration": 18,
    "start_time": "2023-06-06T15:11:02.784Z"
   },
   {
    "duration": 53,
    "start_time": "2023-06-06T15:11:02.804Z"
   },
   {
    "duration": 9,
    "start_time": "2023-06-06T15:11:02.858Z"
   },
   {
    "duration": 8,
    "start_time": "2023-06-06T15:11:02.869Z"
   },
   {
    "duration": 106,
    "start_time": "2023-06-06T15:11:02.879Z"
   },
   {
    "duration": 12,
    "start_time": "2023-06-06T15:11:02.987Z"
   },
   {
    "duration": 15,
    "start_time": "2023-06-06T15:11:03.001Z"
   },
   {
    "duration": 71,
    "start_time": "2023-06-06T15:11:03.019Z"
   },
   {
    "duration": 778,
    "start_time": "2023-06-06T15:11:03.092Z"
   },
   {
    "duration": 4,
    "start_time": "2023-06-06T15:11:03.872Z"
   },
   {
    "duration": 111,
    "start_time": "2023-06-06T15:11:03.878Z"
   },
   {
    "duration": 211,
    "start_time": "2023-06-06T15:11:03.991Z"
   },
   {
    "duration": 22,
    "start_time": "2023-06-06T15:11:04.205Z"
   },
   {
    "duration": 238,
    "start_time": "2023-06-06T15:11:04.229Z"
   },
   {
    "duration": 121,
    "start_time": "2023-06-06T15:16:45.073Z"
   },
   {
    "duration": 13,
    "start_time": "2023-06-06T15:17:01.260Z"
   },
   {
    "duration": 1714,
    "start_time": "2023-06-07T10:10:52.035Z"
   },
   {
    "duration": 3,
    "start_time": "2023-06-07T10:10:53.751Z"
   },
   {
    "duration": 1123,
    "start_time": "2023-06-07T10:10:53.755Z"
   },
   {
    "duration": 17,
    "start_time": "2023-06-07T10:10:54.879Z"
   },
   {
    "duration": 125,
    "start_time": "2023-06-07T10:10:54.898Z"
   },
   {
    "duration": 102,
    "start_time": "2023-06-07T10:10:55.025Z"
   },
   {
    "duration": 45,
    "start_time": "2023-06-07T10:10:55.129Z"
   },
   {
    "duration": 6,
    "start_time": "2023-06-07T10:10:55.175Z"
   },
   {
    "duration": 3047,
    "start_time": "2023-06-07T10:10:55.182Z"
   },
   {
    "duration": 70063,
    "start_time": "2023-06-07T10:10:58.231Z"
   },
   {
    "duration": 269,
    "start_time": "2023-06-07T10:12:08.296Z"
   },
   {
    "duration": 284,
    "start_time": "2023-06-07T10:12:08.566Z"
   },
   {
    "duration": 20,
    "start_time": "2023-06-07T10:12:08.852Z"
   },
   {
    "duration": 66,
    "start_time": "2023-06-07T10:12:08.874Z"
   },
   {
    "duration": 34,
    "start_time": "2023-06-07T10:12:08.942Z"
   },
   {
    "duration": 31,
    "start_time": "2023-06-07T10:12:08.978Z"
   },
   {
    "duration": 35,
    "start_time": "2023-06-07T10:12:09.011Z"
   },
   {
    "duration": 10,
    "start_time": "2023-06-07T10:12:09.047Z"
   },
   {
    "duration": 10,
    "start_time": "2023-06-07T10:12:09.058Z"
   },
   {
    "duration": 89,
    "start_time": "2023-06-07T10:12:09.070Z"
   },
   {
    "duration": 9,
    "start_time": "2023-06-07T10:12:09.160Z"
   },
   {
    "duration": 17,
    "start_time": "2023-06-07T10:12:09.170Z"
   },
   {
    "duration": 51,
    "start_time": "2023-06-07T10:12:09.188Z"
   },
   {
    "duration": 666,
    "start_time": "2023-06-07T10:12:09.240Z"
   },
   {
    "duration": 9,
    "start_time": "2023-06-07T10:12:09.907Z"
   },
   {
    "duration": 108,
    "start_time": "2023-06-07T10:12:09.918Z"
   },
   {
    "duration": 187,
    "start_time": "2023-06-07T10:12:10.028Z"
   },
   {
    "duration": 16,
    "start_time": "2023-06-07T10:12:10.216Z"
   },
   {
    "duration": 129,
    "start_time": "2023-06-07T10:12:10.234Z"
   },
   {
    "duration": 131,
    "start_time": "2023-06-07T10:12:10.364Z"
   },
   {
    "duration": 3056,
    "start_time": "2023-06-07T10:16:22.481Z"
   },
   {
    "duration": 1497,
    "start_time": "2023-06-07T10:19:46.518Z"
   },
   {
    "duration": 3,
    "start_time": "2023-06-07T10:19:48.017Z"
   },
   {
    "duration": 812,
    "start_time": "2023-06-07T10:19:48.022Z"
   },
   {
    "duration": 17,
    "start_time": "2023-06-07T10:19:48.836Z"
   },
   {
    "duration": 117,
    "start_time": "2023-06-07T10:19:48.854Z"
   },
   {
    "duration": 119,
    "start_time": "2023-06-07T10:19:48.973Z"
   },
   {
    "duration": 129,
    "start_time": "2023-06-07T10:19:49.093Z"
   },
   {
    "duration": 0,
    "start_time": "2023-06-07T10:19:49.224Z"
   },
   {
    "duration": 0,
    "start_time": "2023-06-07T10:19:49.225Z"
   },
   {
    "duration": 0,
    "start_time": "2023-06-07T10:19:49.227Z"
   },
   {
    "duration": 0,
    "start_time": "2023-06-07T10:19:49.228Z"
   },
   {
    "duration": 0,
    "start_time": "2023-06-07T10:19:49.229Z"
   },
   {
    "duration": 0,
    "start_time": "2023-06-07T10:19:49.230Z"
   },
   {
    "duration": 0,
    "start_time": "2023-06-07T10:19:49.231Z"
   },
   {
    "duration": 0,
    "start_time": "2023-06-07T10:19:49.233Z"
   },
   {
    "duration": 0,
    "start_time": "2023-06-07T10:19:49.234Z"
   },
   {
    "duration": 0,
    "start_time": "2023-06-07T10:19:49.236Z"
   },
   {
    "duration": 0,
    "start_time": "2023-06-07T10:19:49.237Z"
   },
   {
    "duration": 0,
    "start_time": "2023-06-07T10:19:49.239Z"
   },
   {
    "duration": 0,
    "start_time": "2023-06-07T10:19:49.240Z"
   },
   {
    "duration": 0,
    "start_time": "2023-06-07T10:19:49.241Z"
   },
   {
    "duration": 0,
    "start_time": "2023-06-07T10:19:49.242Z"
   },
   {
    "duration": 0,
    "start_time": "2023-06-07T10:19:49.243Z"
   },
   {
    "duration": 0,
    "start_time": "2023-06-07T10:19:49.245Z"
   },
   {
    "duration": 0,
    "start_time": "2023-06-07T10:19:49.246Z"
   },
   {
    "duration": 0,
    "start_time": "2023-06-07T10:19:49.247Z"
   },
   {
    "duration": 0,
    "start_time": "2023-06-07T10:19:49.248Z"
   },
   {
    "duration": 0,
    "start_time": "2023-06-07T10:19:49.250Z"
   },
   {
    "duration": 0,
    "start_time": "2023-06-07T10:19:49.251Z"
   },
   {
    "duration": 0,
    "start_time": "2023-06-07T10:19:49.252Z"
   },
   {
    "duration": 1695,
    "start_time": "2023-06-07T10:20:54.581Z"
   },
   {
    "duration": 3,
    "start_time": "2023-06-07T10:20:56.279Z"
   },
   {
    "duration": 934,
    "start_time": "2023-06-07T10:20:56.284Z"
   },
   {
    "duration": 17,
    "start_time": "2023-06-07T10:20:57.220Z"
   },
   {
    "duration": 116,
    "start_time": "2023-06-07T10:20:57.239Z"
   },
   {
    "duration": 133,
    "start_time": "2023-06-07T10:20:57.357Z"
   },
   {
    "duration": 40,
    "start_time": "2023-06-07T10:20:57.491Z"
   },
   {
    "duration": 12,
    "start_time": "2023-06-07T10:20:57.532Z"
   },
   {
    "duration": 1983,
    "start_time": "2023-06-07T10:20:57.546Z"
   },
   {
    "duration": 69652,
    "start_time": "2023-06-07T10:20:59.530Z"
   },
   {
    "duration": 160,
    "start_time": "2023-06-07T10:22:09.184Z"
   },
   {
    "duration": 167,
    "start_time": "2023-06-07T10:22:09.346Z"
   },
   {
    "duration": 16,
    "start_time": "2023-06-07T10:22:09.515Z"
   },
   {
    "duration": 40,
    "start_time": "2023-06-07T10:22:09.533Z"
   },
   {
    "duration": 17,
    "start_time": "2023-06-07T10:22:09.574Z"
   },
   {
    "duration": 25,
    "start_time": "2023-06-07T10:22:09.593Z"
   },
   {
    "duration": 22,
    "start_time": "2023-06-07T10:22:09.620Z"
   },
   {
    "duration": 9,
    "start_time": "2023-06-07T10:22:09.644Z"
   },
   {
    "duration": 7,
    "start_time": "2023-06-07T10:22:09.655Z"
   },
   {
    "duration": 88,
    "start_time": "2023-06-07T10:22:09.664Z"
   },
   {
    "duration": 10,
    "start_time": "2023-06-07T10:22:09.754Z"
   },
   {
    "duration": 12,
    "start_time": "2023-06-07T10:22:09.765Z"
   },
   {
    "duration": 20,
    "start_time": "2023-06-07T10:22:09.778Z"
   },
   {
    "duration": 644,
    "start_time": "2023-06-07T10:22:09.816Z"
   },
   {
    "duration": 4,
    "start_time": "2023-06-07T10:22:10.462Z"
   },
   {
    "duration": 87,
    "start_time": "2023-06-07T10:22:10.467Z"
   },
   {
    "duration": 160,
    "start_time": "2023-06-07T10:22:10.555Z"
   },
   {
    "duration": 15,
    "start_time": "2023-06-07T10:22:10.717Z"
   },
   {
    "duration": 96,
    "start_time": "2023-06-07T10:22:10.734Z"
   },
   {
    "duration": 3944,
    "start_time": "2023-06-07T10:22:10.832Z"
   },
   {
    "duration": 301,
    "start_time": "2023-06-07T10:22:31.906Z"
   },
   {
    "duration": 345,
    "start_time": "2023-06-07T10:22:51.536Z"
   },
   {
    "duration": 73,
    "start_time": "2023-06-07T10:24:50.846Z"
   },
   {
    "duration": 8,
    "start_time": "2023-06-07T10:25:05.059Z"
   },
   {
    "duration": 9,
    "start_time": "2023-06-07T10:25:10.554Z"
   },
   {
    "duration": 44,
    "start_time": "2023-06-07T10:25:15.657Z"
   },
   {
    "duration": 2963,
    "start_time": "2023-06-07T10:27:07.910Z"
   },
   {
    "duration": 18,
    "start_time": "2023-06-07T10:27:41.643Z"
   },
   {
    "duration": 3,
    "start_time": "2023-06-07T10:29:38.269Z"
   },
   {
    "duration": 2,
    "start_time": "2023-06-07T10:29:55.086Z"
   },
   {
    "duration": 3008,
    "start_time": "2023-06-07T11:10:14.711Z"
   },
   {
    "duration": 3101,
    "start_time": "2023-06-07T11:10:36.918Z"
   },
   {
    "duration": 2918,
    "start_time": "2023-06-07T11:10:47.505Z"
   },
   {
    "duration": 3984,
    "start_time": "2023-06-07T11:11:07.633Z"
   },
   {
    "duration": 3613,
    "start_time": "2023-06-07T11:11:13.109Z"
   },
   {
    "duration": 2,
    "start_time": "2023-06-07T11:11:30.152Z"
   },
   {
    "duration": 2990,
    "start_time": "2023-06-07T11:11:31.830Z"
   },
   {
    "duration": 3073,
    "start_time": "2023-06-07T11:11:40.845Z"
   },
   {
    "duration": 3353,
    "start_time": "2023-06-07T11:11:54.567Z"
   },
   {
    "duration": 3,
    "start_time": "2023-06-07T11:12:51.805Z"
   },
   {
    "duration": 112492,
    "start_time": "2023-06-07T11:13:18.834Z"
   },
   {
    "duration": 3089,
    "start_time": "2023-06-07T11:20:07.335Z"
   },
   {
    "duration": 231,
    "start_time": "2023-06-07T11:20:10.426Z"
   },
   {
    "duration": 9,
    "start_time": "2023-06-07T11:20:10.658Z"
   },
   {
    "duration": 13,
    "start_time": "2023-06-07T11:20:18.189Z"
   },
   {
    "duration": 8,
    "start_time": "2023-06-07T11:20:18.548Z"
   },
   {
    "duration": 10,
    "start_time": "2023-06-07T11:20:26.236Z"
   },
   {
    "duration": 4,
    "start_time": "2023-06-07T11:20:32.238Z"
   },
   {
    "duration": 300,
    "start_time": "2023-06-07T11:21:42.050Z"
   },
   {
    "duration": 4,
    "start_time": "2023-06-07T11:21:47.265Z"
   },
   {
    "duration": 4,
    "start_time": "2023-06-07T11:22:02.282Z"
   },
   {
    "duration": 4,
    "start_time": "2023-06-07T11:22:12.512Z"
   },
   {
    "duration": 4,
    "start_time": "2023-06-07T11:22:15.031Z"
   },
   {
    "duration": 5,
    "start_time": "2023-06-07T11:22:18.953Z"
   },
   {
    "duration": 5,
    "start_time": "2023-06-07T11:22:29.399Z"
   },
   {
    "duration": 362,
    "start_time": "2023-06-07T11:25:12.090Z"
   },
   {
    "duration": 747764,
    "start_time": "2023-06-07T11:26:34.522Z"
   },
   {
    "duration": 141,
    "start_time": "2023-06-07T11:39:02.287Z"
   },
   {
    "duration": 1001246,
    "start_time": "2023-06-07T11:48:18.279Z"
   },
   {
    "duration": 1601,
    "start_time": "2023-06-07T13:26:54.076Z"
   },
   {
    "duration": 3,
    "start_time": "2023-06-07T13:26:55.678Z"
   },
   {
    "duration": 959,
    "start_time": "2023-06-07T13:26:55.683Z"
   },
   {
    "duration": 18,
    "start_time": "2023-06-07T13:26:56.644Z"
   },
   {
    "duration": 150,
    "start_time": "2023-06-07T13:26:56.665Z"
   },
   {
    "duration": 163,
    "start_time": "2023-06-07T13:26:56.820Z"
   },
   {
    "duration": 54,
    "start_time": "2023-06-07T13:26:56.985Z"
   },
   {
    "duration": 17,
    "start_time": "2023-06-07T13:26:57.041Z"
   },
   {
    "duration": 2290,
    "start_time": "2023-06-07T13:26:57.060Z"
   },
   {
    "duration": 71821,
    "start_time": "2023-06-07T13:26:59.352Z"
   },
   {
    "duration": 180,
    "start_time": "2023-06-07T13:28:11.207Z"
   },
   {
    "duration": 177,
    "start_time": "2023-06-07T13:28:11.389Z"
   },
   {
    "duration": 16,
    "start_time": "2023-06-07T13:28:11.568Z"
   },
   {
    "duration": 54,
    "start_time": "2023-06-07T13:28:11.588Z"
   },
   {
    "duration": 21,
    "start_time": "2023-06-07T13:28:11.644Z"
   },
   {
    "duration": 14,
    "start_time": "2023-06-07T13:28:11.667Z"
   },
   {
    "duration": 46,
    "start_time": "2023-06-07T13:28:11.683Z"
   },
   {
    "duration": 10,
    "start_time": "2023-06-07T13:28:11.734Z"
   },
   {
    "duration": 11,
    "start_time": "2023-06-07T13:28:11.745Z"
   },
   {
    "duration": 72,
    "start_time": "2023-06-07T13:28:11.757Z"
   },
   {
    "duration": 10,
    "start_time": "2023-06-07T13:28:11.833Z"
   },
   {
    "duration": 14,
    "start_time": "2023-06-07T13:28:11.845Z"
   },
   {
    "duration": 22,
    "start_time": "2023-06-07T13:28:11.861Z"
   },
   {
    "duration": 628,
    "start_time": "2023-06-07T13:28:11.885Z"
   },
   {
    "duration": 13,
    "start_time": "2023-06-07T13:28:12.515Z"
   },
   {
    "duration": 100,
    "start_time": "2023-06-07T13:28:12.529Z"
   },
   {
    "duration": 197,
    "start_time": "2023-06-07T13:28:12.632Z"
   },
   {
    "duration": 16,
    "start_time": "2023-06-07T13:28:12.833Z"
   },
   {
    "duration": 98,
    "start_time": "2023-06-07T13:28:12.850Z"
   },
   {
    "duration": 3085,
    "start_time": "2023-06-07T13:28:12.950Z"
   },
   {
    "duration": 20,
    "start_time": "2023-06-07T13:28:16.037Z"
   },
   {
    "duration": 6,
    "start_time": "2023-06-07T13:28:16.059Z"
   },
   {
    "duration": 6968,
    "start_time": "2023-06-07T13:28:16.066Z"
   },
   {
    "duration": 147697,
    "start_time": "2023-06-07T13:28:23.039Z"
   },
   {
    "duration": 4084,
    "start_time": "2023-06-07T13:30:50.737Z"
   },
   {
    "duration": 117,
    "start_time": "2023-06-07T13:30:54.823Z"
   },
   {
    "duration": 106,
    "start_time": "2023-06-07T13:30:54.943Z"
   },
   {
    "duration": 1677,
    "start_time": "2023-06-08T00:23:03.840Z"
   },
   {
    "duration": 3,
    "start_time": "2023-06-08T00:23:06.406Z"
   },
   {
    "duration": 984,
    "start_time": "2023-06-08T00:23:08.845Z"
   },
   {
    "duration": 21,
    "start_time": "2023-06-08T00:23:23.035Z"
   },
   {
    "duration": 144,
    "start_time": "2023-06-08T00:23:23.597Z"
   },
   {
    "duration": 98,
    "start_time": "2023-06-08T00:23:24.285Z"
   },
   {
    "duration": 41,
    "start_time": "2023-06-08T00:23:31.866Z"
   },
   {
    "duration": 6,
    "start_time": "2023-06-08T00:24:06.500Z"
   },
   {
    "duration": 2262,
    "start_time": "2023-06-08T00:24:34.543Z"
   },
   {
    "duration": 89842,
    "start_time": "2023-06-08T00:24:36.807Z"
   },
   {
    "duration": 138,
    "start_time": "2023-06-08T00:26:28.903Z"
   },
   {
    "duration": 192,
    "start_time": "2023-06-08T00:26:34.047Z"
   },
   {
    "duration": 186,
    "start_time": "2023-06-08T00:26:34.766Z"
   },
   {
    "duration": 21,
    "start_time": "2023-06-08T00:26:36.340Z"
   },
   {
    "duration": 41,
    "start_time": "2023-06-08T00:27:07.112Z"
   },
   {
    "duration": 20,
    "start_time": "2023-06-08T00:27:08.111Z"
   },
   {
    "duration": 10,
    "start_time": "2023-06-08T00:29:18.672Z"
   },
   {
    "duration": 23,
    "start_time": "2023-06-08T00:29:19.639Z"
   },
   {
    "duration": 9,
    "start_time": "2023-06-08T00:38:06.666Z"
   },
   {
    "duration": 7,
    "start_time": "2023-06-08T00:38:07.894Z"
   },
   {
    "duration": 60,
    "start_time": "2023-06-08T00:38:21.394Z"
   },
   {
    "duration": 11,
    "start_time": "2023-06-08T00:39:11.060Z"
   },
   {
    "duration": 14,
    "start_time": "2023-06-08T00:39:11.822Z"
   },
   {
    "duration": 19,
    "start_time": "2023-06-08T00:39:13.444Z"
   },
   {
    "duration": 5,
    "start_time": "2023-06-08T00:39:26.935Z"
   },
   {
    "duration": 777,
    "start_time": "2023-06-08T00:40:01.849Z"
   },
   {
    "duration": 4,
    "start_time": "2023-06-08T00:40:02.817Z"
   },
   {
    "duration": 13,
    "start_time": "2023-06-08T00:41:31.258Z"
   },
   {
    "duration": 62,
    "start_time": "2023-06-08T00:41:45.457Z"
   },
   {
    "duration": 15661,
    "start_time": "2023-06-08T00:42:02.971Z"
   },
   {
    "duration": 139,
    "start_time": "2023-06-08T00:48:27.725Z"
   },
   {
    "duration": 2002,
    "start_time": "2023-06-08T09:35:03.912Z"
   },
   {
    "duration": 3,
    "start_time": "2023-06-08T09:35:05.916Z"
   },
   {
    "duration": 1368,
    "start_time": "2023-06-08T09:35:05.920Z"
   },
   {
    "duration": 17,
    "start_time": "2023-06-08T09:35:07.289Z"
   },
   {
    "duration": 171,
    "start_time": "2023-06-08T09:35:07.309Z"
   },
   {
    "duration": 112,
    "start_time": "2023-06-08T09:35:07.482Z"
   },
   {
    "duration": 39,
    "start_time": "2023-06-08T09:35:07.596Z"
   },
   {
    "duration": 29,
    "start_time": "2023-06-08T09:35:07.637Z"
   },
   {
    "duration": 2397,
    "start_time": "2023-06-08T09:35:07.667Z"
   },
   {
    "duration": 93730,
    "start_time": "2023-06-08T09:35:10.066Z"
   },
   {
    "duration": 219,
    "start_time": "2023-06-08T09:36:43.798Z"
   },
   {
    "duration": 231,
    "start_time": "2023-06-08T09:36:44.020Z"
   },
   {
    "duration": 39,
    "start_time": "2023-06-08T09:36:44.254Z"
   },
   {
    "duration": 66,
    "start_time": "2023-06-08T09:36:44.297Z"
   },
   {
    "duration": 32,
    "start_time": "2023-06-08T09:36:44.366Z"
   },
   {
    "duration": 44,
    "start_time": "2023-06-08T09:36:44.401Z"
   },
   {
    "duration": 54,
    "start_time": "2023-06-08T09:36:44.456Z"
   },
   {
    "duration": 27,
    "start_time": "2023-06-08T09:36:44.512Z"
   },
   {
    "duration": 38,
    "start_time": "2023-06-08T09:36:44.541Z"
   },
   {
    "duration": 101,
    "start_time": "2023-06-08T09:36:44.581Z"
   },
   {
    "duration": 25,
    "start_time": "2023-06-08T09:36:44.684Z"
   },
   {
    "duration": 36,
    "start_time": "2023-06-08T09:36:44.711Z"
   },
   {
    "duration": 57,
    "start_time": "2023-06-08T09:36:44.749Z"
   },
   {
    "duration": 3,
    "start_time": "2023-06-08T09:39:07.329Z"
   },
   {
    "duration": 171,
    "start_time": "2023-06-08T09:43:54.837Z"
   },
   {
    "duration": 158,
    "start_time": "2023-06-08T09:44:02.594Z"
   },
   {
    "duration": 10,
    "start_time": "2023-06-08T09:44:05.086Z"
   },
   {
    "duration": 7,
    "start_time": "2023-06-08T09:44:08.866Z"
   },
   {
    "duration": 13,
    "start_time": "2023-06-08T09:44:18.872Z"
   },
   {
    "duration": 5,
    "start_time": "2023-06-08T09:44:27.039Z"
   },
   {
    "duration": 115,
    "start_time": "2023-06-08T09:44:33.002Z"
   },
   {
    "duration": 95,
    "start_time": "2023-06-08T09:44:49.071Z"
   },
   {
    "duration": 12510,
    "start_time": "2023-06-08T09:45:24.922Z"
   },
   {
    "duration": 47,
    "start_time": "2023-06-08T09:46:20.250Z"
   },
   {
    "duration": 6550,
    "start_time": "2023-06-08T09:46:29.528Z"
   },
   {
    "duration": 6716,
    "start_time": "2023-06-08T09:47:19.823Z"
   },
   {
    "duration": 2740,
    "start_time": "2023-06-08T09:48:45.334Z"
   },
   {
    "duration": 2788,
    "start_time": "2023-06-08T09:49:03.831Z"
   },
   {
    "duration": 6838,
    "start_time": "2023-06-08T09:49:26.061Z"
   },
   {
    "duration": 6904,
    "start_time": "2023-06-08T09:51:46.391Z"
   },
   {
    "duration": 6471,
    "start_time": "2023-06-08T09:52:03.424Z"
   },
   {
    "duration": 17,
    "start_time": "2023-06-08T09:53:48.705Z"
   },
   {
    "duration": 7,
    "start_time": "2023-06-08T09:53:58.629Z"
   },
   {
    "duration": 18,
    "start_time": "2023-06-08T09:54:53.986Z"
   },
   {
    "duration": 5,
    "start_time": "2023-06-08T09:54:55.406Z"
   },
   {
    "duration": 21,
    "start_time": "2023-06-08T09:54:59.215Z"
   },
   {
    "duration": 20,
    "start_time": "2023-06-08T09:55:16.329Z"
   },
   {
    "duration": 5,
    "start_time": "2023-06-08T09:55:17.426Z"
   },
   {
    "duration": 220,
    "start_time": "2023-06-08T09:58:29.346Z"
   },
   {
    "duration": 192,
    "start_time": "2023-06-08T09:59:44.819Z"
   },
   {
    "duration": 192,
    "start_time": "2023-06-08T09:59:46.112Z"
   },
   {
    "duration": 172,
    "start_time": "2023-06-08T09:59:53.149Z"
   },
   {
    "duration": 5,
    "start_time": "2023-06-08T09:59:54.946Z"
   },
   {
    "duration": 171,
    "start_time": "2023-06-08T09:59:56.373Z"
   },
   {
    "duration": 1581,
    "start_time": "2023-06-08T10:00:16.592Z"
   },
   {
    "duration": 3,
    "start_time": "2023-06-08T10:00:18.175Z"
   },
   {
    "duration": 874,
    "start_time": "2023-06-08T10:00:18.179Z"
   },
   {
    "duration": 18,
    "start_time": "2023-06-08T10:00:19.056Z"
   },
   {
    "duration": 172,
    "start_time": "2023-06-08T10:00:19.075Z"
   },
   {
    "duration": 111,
    "start_time": "2023-06-08T10:00:19.249Z"
   },
   {
    "duration": 40,
    "start_time": "2023-06-08T10:00:19.362Z"
   },
   {
    "duration": 6,
    "start_time": "2023-06-08T10:00:19.404Z"
   },
   {
    "duration": 2377,
    "start_time": "2023-06-08T10:00:19.412Z"
   },
   {
    "duration": 87739,
    "start_time": "2023-06-08T10:00:21.792Z"
   },
   {
    "duration": 198,
    "start_time": "2023-06-08T10:01:49.561Z"
   },
   {
    "duration": 198,
    "start_time": "2023-06-08T10:01:49.761Z"
   },
   {
    "duration": 22,
    "start_time": "2023-06-08T10:01:49.961Z"
   },
   {
    "duration": 50,
    "start_time": "2023-06-08T10:01:49.985Z"
   },
   {
    "duration": 31,
    "start_time": "2023-06-08T10:01:50.037Z"
   },
   {
    "duration": 25,
    "start_time": "2023-06-08T10:01:50.070Z"
   },
   {
    "duration": 28,
    "start_time": "2023-06-08T10:01:50.097Z"
   },
   {
    "duration": 9,
    "start_time": "2023-06-08T10:01:50.126Z"
   },
   {
    "duration": 11,
    "start_time": "2023-06-08T10:01:50.137Z"
   },
   {
    "duration": 63,
    "start_time": "2023-06-08T10:01:50.150Z"
   },
   {
    "duration": 10,
    "start_time": "2023-06-08T10:01:50.215Z"
   },
   {
    "duration": 27,
    "start_time": "2023-06-08T10:01:50.227Z"
   },
   {
    "duration": 57182,
    "start_time": "2023-06-08T10:01:50.256Z"
   },
   {
    "duration": 6,
    "start_time": "2023-06-08T10:02:47.446Z"
   },
   {
    "duration": 37,
    "start_time": "2023-06-08T10:02:47.453Z"
   },
   {
    "duration": 4,
    "start_time": "2023-06-08T10:02:47.492Z"
   },
   {
    "duration": 808,
    "start_time": "2023-06-08T10:02:47.497Z"
   },
   {
    "duration": 187,
    "start_time": "2023-06-08T10:02:48.308Z"
   },
   {
    "duration": 199,
    "start_time": "2023-06-08T10:02:48.497Z"
   },
   {
    "duration": 6,
    "start_time": "2023-06-08T10:02:48.698Z"
   },
   {
    "duration": 214,
    "start_time": "2023-06-08T10:02:48.706Z"
   },
   {
    "duration": 1517,
    "start_time": "2023-06-09T07:03:54.018Z"
   },
   {
    "duration": 2,
    "start_time": "2023-06-09T07:03:55.537Z"
   },
   {
    "duration": 789,
    "start_time": "2023-06-09T07:03:55.540Z"
   },
   {
    "duration": 16,
    "start_time": "2023-06-09T07:03:56.331Z"
   },
   {
    "duration": 129,
    "start_time": "2023-06-09T07:03:56.349Z"
   },
   {
    "duration": 104,
    "start_time": "2023-06-09T07:03:56.480Z"
   },
   {
    "duration": 41,
    "start_time": "2023-06-09T07:03:56.586Z"
   },
   {
    "duration": 11,
    "start_time": "2023-06-09T07:03:56.628Z"
   },
   {
    "duration": 1955,
    "start_time": "2023-06-09T07:03:56.641Z"
   },
   {
    "duration": 77346,
    "start_time": "2023-06-09T07:03:58.599Z"
   },
   {
    "duration": 170,
    "start_time": "2023-06-09T07:05:15.947Z"
   },
   {
    "duration": 164,
    "start_time": "2023-06-09T07:05:16.120Z"
   },
   {
    "duration": 17,
    "start_time": "2023-06-09T07:05:16.286Z"
   },
   {
    "duration": 18,
    "start_time": "2023-06-09T07:05:16.305Z"
   },
   {
    "duration": 27,
    "start_time": "2023-06-09T07:05:16.325Z"
   },
   {
    "duration": 21,
    "start_time": "2023-06-09T07:05:16.354Z"
   },
   {
    "duration": 28,
    "start_time": "2023-06-09T07:05:16.376Z"
   },
   {
    "duration": 8,
    "start_time": "2023-06-09T07:05:16.407Z"
   },
   {
    "duration": 7,
    "start_time": "2023-06-09T07:05:16.417Z"
   },
   {
    "duration": 77,
    "start_time": "2023-06-09T07:05:16.425Z"
   },
   {
    "duration": 9,
    "start_time": "2023-06-09T07:05:16.503Z"
   },
   {
    "duration": 12,
    "start_time": "2023-06-09T07:05:16.514Z"
   },
   {
    "duration": 51268,
    "start_time": "2023-06-09T07:05:16.527Z"
   },
   {
    "duration": 6,
    "start_time": "2023-06-09T07:06:07.797Z"
   },
   {
    "duration": 32,
    "start_time": "2023-06-09T07:06:07.805Z"
   },
   {
    "duration": 7,
    "start_time": "2023-06-09T07:06:07.839Z"
   },
   {
    "duration": 664,
    "start_time": "2023-06-09T07:06:07.848Z"
   },
   {
    "duration": 135,
    "start_time": "2023-06-09T07:06:08.514Z"
   },
   {
    "duration": 152,
    "start_time": "2023-06-09T07:06:08.650Z"
   },
   {
    "duration": 3,
    "start_time": "2023-06-09T07:06:08.805Z"
   },
   {
    "duration": 172,
    "start_time": "2023-06-09T07:06:08.810Z"
   },
   {
    "duration": 3,
    "start_time": "2023-06-09T07:06:08.984Z"
   },
   {
    "duration": 133,
    "start_time": "2023-06-09T07:06:08.988Z"
   },
   {
    "duration": 4,
    "start_time": "2023-06-09T07:06:09.123Z"
   },
   {
    "duration": 21,
    "start_time": "2023-06-09T07:06:09.129Z"
   },
   {
    "duration": 141,
    "start_time": "2023-06-09T07:06:09.153Z"
   },
   {
    "duration": 1692,
    "start_time": "2023-06-09T07:08:21.762Z"
   },
   {
    "duration": 2,
    "start_time": "2023-06-09T07:08:23.456Z"
   },
   {
    "duration": 781,
    "start_time": "2023-06-09T07:08:24.745Z"
   },
   {
    "duration": 16,
    "start_time": "2023-06-09T07:08:26.706Z"
   },
   {
    "duration": 105,
    "start_time": "2023-06-09T07:08:26.873Z"
   },
   {
    "duration": 89,
    "start_time": "2023-06-09T07:08:27.378Z"
   },
   {
    "duration": 38,
    "start_time": "2023-06-09T07:08:28.328Z"
   },
   {
    "duration": 5,
    "start_time": "2023-06-09T07:08:29.192Z"
   },
   {
    "duration": 2004,
    "start_time": "2023-06-09T07:08:29.793Z"
   },
   {
    "duration": 77763,
    "start_time": "2023-06-09T07:08:31.798Z"
   },
   {
    "duration": 188,
    "start_time": "2023-06-09T07:09:49.564Z"
   },
   {
    "duration": 184,
    "start_time": "2023-06-09T07:09:49.755Z"
   },
   {
    "duration": 19,
    "start_time": "2023-06-09T07:09:49.941Z"
   },
   {
    "duration": 24,
    "start_time": "2023-06-09T07:09:49.961Z"
   },
   {
    "duration": 17,
    "start_time": "2023-06-09T07:09:49.987Z"
   },
   {
    "duration": 20,
    "start_time": "2023-06-09T07:09:50.006Z"
   },
   {
    "duration": 49,
    "start_time": "2023-06-09T07:09:50.029Z"
   },
   {
    "duration": 12,
    "start_time": "2023-06-09T07:09:50.079Z"
   },
   {
    "duration": 8,
    "start_time": "2023-06-09T07:09:50.093Z"
   },
   {
    "duration": 81,
    "start_time": "2023-06-09T07:09:50.103Z"
   },
   {
    "duration": 11,
    "start_time": "2023-06-09T07:09:50.186Z"
   },
   {
    "duration": 15,
    "start_time": "2023-06-09T07:09:50.198Z"
   },
   {
    "duration": 52717,
    "start_time": "2023-06-09T07:09:50.215Z"
   },
   {
    "duration": 6,
    "start_time": "2023-06-09T07:10:42.934Z"
   },
   {
    "duration": 48,
    "start_time": "2023-06-09T07:10:42.942Z"
   },
   {
    "duration": 6,
    "start_time": "2023-06-09T07:10:42.993Z"
   },
   {
    "duration": 710,
    "start_time": "2023-06-09T07:10:43.001Z"
   },
   {
    "duration": 137,
    "start_time": "2023-06-09T07:10:43.713Z"
   },
   {
    "duration": 168,
    "start_time": "2023-06-09T07:10:43.853Z"
   },
   {
    "duration": 4,
    "start_time": "2023-06-09T07:10:44.023Z"
   },
   {
    "duration": 154,
    "start_time": "2023-06-09T07:10:44.028Z"
   },
   {
    "duration": 3,
    "start_time": "2023-06-09T07:10:44.184Z"
   },
   {
    "duration": 127,
    "start_time": "2023-06-09T07:10:44.188Z"
   },
   {
    "duration": 4,
    "start_time": "2023-06-09T07:10:44.317Z"
   },
   {
    "duration": 23,
    "start_time": "2023-06-09T07:10:44.322Z"
   },
   {
    "duration": 130,
    "start_time": "2023-06-09T07:10:44.347Z"
   },
   {
    "duration": 1537,
    "start_time": "2023-06-09T07:12:01.841Z"
   },
   {
    "duration": 2,
    "start_time": "2023-06-09T07:12:03.380Z"
   },
   {
    "duration": 811,
    "start_time": "2023-06-09T07:12:03.383Z"
   },
   {
    "duration": 17,
    "start_time": "2023-06-09T07:12:04.197Z"
   },
   {
    "duration": 117,
    "start_time": "2023-06-09T07:12:04.776Z"
   },
   {
    "duration": 92,
    "start_time": "2023-06-09T07:12:05.424Z"
   },
   {
    "duration": 40,
    "start_time": "2023-06-09T07:12:06.679Z"
   },
   {
    "duration": 6,
    "start_time": "2023-06-09T07:12:09.442Z"
   },
   {
    "duration": 190,
    "start_time": "2023-06-09T07:12:15.162Z"
   },
   {
    "duration": 184,
    "start_time": "2023-06-09T07:12:16.206Z"
   },
   {
    "duration": 18,
    "start_time": "2023-06-09T07:12:19.006Z"
   },
   {
    "duration": 23,
    "start_time": "2023-06-09T07:12:19.966Z"
   },
   {
    "duration": 12,
    "start_time": "2023-06-09T07:12:21.263Z"
   },
   {
    "duration": 26,
    "start_time": "2023-06-09T07:12:30.343Z"
   },
   {
    "duration": 11,
    "start_time": "2023-06-09T07:12:32.733Z"
   },
   {
    "duration": 27,
    "start_time": "2023-06-09T07:12:35.116Z"
   },
   {
    "duration": 8,
    "start_time": "2023-06-09T07:12:36.896Z"
   },
   {
    "duration": 7,
    "start_time": "2023-06-09T07:12:37.397Z"
   },
   {
    "duration": 57,
    "start_time": "2023-06-09T07:12:40.629Z"
   },
   {
    "duration": 10,
    "start_time": "2023-06-09T07:12:43.983Z"
   },
   {
    "duration": 12,
    "start_time": "2023-06-09T07:12:44.519Z"
   },
   {
    "duration": 5,
    "start_time": "2023-06-09T07:12:48.111Z"
   },
   {
    "duration": 24,
    "start_time": "2023-06-09T07:12:49.638Z"
   },
   {
    "duration": 4,
    "start_time": "2023-06-09T07:12:50.869Z"
   },
   {
    "duration": 12,
    "start_time": "2023-06-09T07:12:57.604Z"
   },
   {
    "duration": 692,
    "start_time": "2023-06-09T07:13:01.369Z"
   },
   {
    "duration": 131,
    "start_time": "2023-06-09T07:13:02.703Z"
   },
   {
    "duration": 167,
    "start_time": "2023-06-09T07:13:03.751Z"
   },
   {
    "duration": 3,
    "start_time": "2023-06-09T07:13:04.462Z"
   },
   {
    "duration": 157,
    "start_time": "2023-06-09T07:13:04.760Z"
   },
   {
    "duration": 17,
    "start_time": "2023-06-09T07:13:11.975Z"
   },
   {
    "duration": 1518,
    "start_time": "2023-06-09T07:14:21.511Z"
   },
   {
    "duration": 2,
    "start_time": "2023-06-09T07:14:23.031Z"
   },
   {
    "duration": 801,
    "start_time": "2023-06-09T07:14:23.751Z"
   },
   {
    "duration": 18,
    "start_time": "2023-06-09T07:14:24.554Z"
   },
   {
    "duration": 105,
    "start_time": "2023-06-09T07:14:24.786Z"
   },
   {
    "duration": 88,
    "start_time": "2023-06-09T07:14:25.489Z"
   },
   {
    "duration": 37,
    "start_time": "2023-06-09T07:14:26.662Z"
   },
   {
    "duration": 6,
    "start_time": "2023-06-09T07:14:28.283Z"
   },
   {
    "duration": 184,
    "start_time": "2023-06-09T07:14:33.788Z"
   },
   {
    "duration": 180,
    "start_time": "2023-06-09T07:14:34.647Z"
   },
   {
    "duration": 17,
    "start_time": "2023-06-09T07:14:35.631Z"
   },
   {
    "duration": 21,
    "start_time": "2023-06-09T07:14:36.518Z"
   },
   {
    "duration": 13,
    "start_time": "2023-06-09T07:14:42.204Z"
   },
   {
    "duration": 17,
    "start_time": "2023-06-09T07:14:44.359Z"
   },
   {
    "duration": 11,
    "start_time": "2023-06-09T07:14:45.004Z"
   },
   {
    "duration": 30,
    "start_time": "2023-06-09T07:14:45.555Z"
   },
   {
    "duration": 8,
    "start_time": "2023-06-09T07:14:46.611Z"
   },
   {
    "duration": 8,
    "start_time": "2023-06-09T07:14:46.945Z"
   },
   {
    "duration": 54,
    "start_time": "2023-06-09T07:14:47.972Z"
   },
   {
    "duration": 10,
    "start_time": "2023-06-09T07:14:48.965Z"
   },
   {
    "duration": 12,
    "start_time": "2023-06-09T07:14:50.518Z"
   },
   {
    "duration": 43590,
    "start_time": "2023-06-09T07:14:51.286Z"
   },
   {
    "duration": 6,
    "start_time": "2023-06-09T07:15:34.878Z"
   },
   {
    "duration": 41,
    "start_time": "2023-06-09T07:15:34.885Z"
   },
   {
    "duration": 5,
    "start_time": "2023-06-09T07:15:34.928Z"
   },
   {
    "duration": 12,
    "start_time": "2023-06-09T07:15:48.277Z"
   },
   {
    "duration": 2071,
    "start_time": "2023-06-09T07:16:00.362Z"
   },
   {
    "duration": 12,
    "start_time": "2023-06-09T07:16:21.712Z"
   },
   {
    "duration": 2698,
    "start_time": "2023-06-09T09:18:00.035Z"
   },
   {
    "duration": 2,
    "start_time": "2023-06-09T09:18:02.736Z"
   },
   {
    "duration": 1323,
    "start_time": "2023-06-09T09:18:02.740Z"
   },
   {
    "duration": 19,
    "start_time": "2023-06-09T09:18:04.064Z"
   },
   {
    "duration": 149,
    "start_time": "2023-06-09T09:18:04.086Z"
   },
   {
    "duration": 111,
    "start_time": "2023-06-09T09:18:04.237Z"
   },
   {
    "duration": 45,
    "start_time": "2023-06-09T09:18:04.350Z"
   },
   {
    "duration": 21,
    "start_time": "2023-06-09T09:18:04.397Z"
   },
   {
    "duration": 2265,
    "start_time": "2023-06-09T09:18:04.420Z"
   },
   {
    "duration": 85407,
    "start_time": "2023-06-09T09:18:06.686Z"
   },
   {
    "duration": 210,
    "start_time": "2023-06-09T09:19:32.095Z"
   },
   {
    "duration": 178,
    "start_time": "2023-06-09T09:19:32.307Z"
   },
   {
    "duration": 18,
    "start_time": "2023-06-09T09:19:32.487Z"
   },
   {
    "duration": 39,
    "start_time": "2023-06-09T09:19:32.508Z"
   },
   {
    "duration": 18,
    "start_time": "2023-06-09T09:19:32.549Z"
   },
   {
    "duration": 10,
    "start_time": "2023-06-09T09:19:32.569Z"
   },
   {
    "duration": 30,
    "start_time": "2023-06-09T09:19:32.581Z"
   },
   {
    "duration": 31,
    "start_time": "2023-06-09T09:19:32.613Z"
   },
   {
    "duration": 12,
    "start_time": "2023-06-09T09:19:32.645Z"
   },
   {
    "duration": 59,
    "start_time": "2023-06-09T09:19:32.659Z"
   },
   {
    "duration": 13,
    "start_time": "2023-06-09T09:19:32.741Z"
   },
   {
    "duration": 14,
    "start_time": "2023-06-09T09:19:32.755Z"
   },
   {
    "duration": 59332,
    "start_time": "2023-06-09T09:19:32.771Z"
   },
   {
    "duration": 7,
    "start_time": "2023-06-09T09:20:32.106Z"
   },
   {
    "duration": 52,
    "start_time": "2023-06-09T09:20:32.116Z"
   },
   {
    "duration": 6,
    "start_time": "2023-06-09T09:20:32.170Z"
   },
   {
    "duration": 820,
    "start_time": "2023-06-09T09:20:32.177Z"
   },
   {
    "duration": 153,
    "start_time": "2023-06-09T09:20:32.999Z"
   },
   {
    "duration": 190,
    "start_time": "2023-06-09T09:20:33.155Z"
   },
   {
    "duration": 5,
    "start_time": "2023-06-09T09:20:33.348Z"
   },
   {
    "duration": 190,
    "start_time": "2023-06-09T09:20:33.355Z"
   },
   {
    "duration": 3,
    "start_time": "2023-06-09T09:20:33.547Z"
   },
   {
    "duration": 159,
    "start_time": "2023-06-09T09:20:33.553Z"
   },
   {
    "duration": 4,
    "start_time": "2023-06-09T09:20:33.714Z"
   },
   {
    "duration": 40,
    "start_time": "2023-06-09T09:20:33.719Z"
   },
   {
    "duration": 14,
    "start_time": "2023-06-09T09:20:53.408Z"
   },
   {
    "duration": 125,
    "start_time": "2023-06-09T09:21:02.260Z"
   },
   {
    "duration": 168,
    "start_time": "2023-06-09T09:21:41.481Z"
   },
   {
    "duration": 152,
    "start_time": "2023-06-09T09:21:43.819Z"
   },
   {
    "duration": 13,
    "start_time": "2023-06-09T09:21:47.142Z"
   },
   {
    "duration": 17,
    "start_time": "2023-06-09T09:22:09.603Z"
   },
   {
    "duration": 15,
    "start_time": "2023-06-09T09:22:15.783Z"
   },
   {
    "duration": 128,
    "start_time": "2023-06-09T09:22:36.981Z"
   },
   {
    "duration": 15,
    "start_time": "2023-06-09T09:22:39.046Z"
   },
   {
    "duration": 5,
    "start_time": "2023-06-09T09:23:08.843Z"
   },
   {
    "duration": 217,
    "start_time": "2023-06-09T09:23:08.850Z"
   },
   {
    "duration": 832,
    "start_time": "2023-06-09T09:23:09.068Z"
   },
   {
    "duration": 14,
    "start_time": "2023-06-09T09:23:09.902Z"
   },
   {
    "duration": 132,
    "start_time": "2023-06-09T09:23:09.917Z"
   },
   {
    "duration": 116,
    "start_time": "2023-06-09T09:23:10.051Z"
   },
   {
    "duration": 33,
    "start_time": "2023-06-09T09:23:10.169Z"
   },
   {
    "duration": 6,
    "start_time": "2023-06-09T09:23:10.204Z"
   },
   {
    "duration": 2168,
    "start_time": "2023-06-09T09:23:10.241Z"
   },
   {
    "duration": 89727,
    "start_time": "2023-06-09T09:23:12.411Z"
   },
   {
    "duration": 200,
    "start_time": "2023-06-09T09:24:42.139Z"
   },
   {
    "duration": 187,
    "start_time": "2023-06-09T09:24:42.341Z"
   },
   {
    "duration": 22,
    "start_time": "2023-06-09T09:24:54.371Z"
   },
   {
    "duration": 31,
    "start_time": "2023-06-09T09:24:59.268Z"
   },
   {
    "duration": 16,
    "start_time": "2023-06-09T09:25:02.145Z"
   },
   {
    "duration": 24,
    "start_time": "2023-06-09T09:25:13.766Z"
   },
   {
    "duration": 10145,
    "start_time": "2023-06-09T09:25:31.504Z"
   },
   {
    "duration": 15,
    "start_time": "2023-06-09T09:25:55.756Z"
   },
   {
    "duration": 15,
    "start_time": "2023-06-09T09:26:27.244Z"
   },
   {
    "duration": 170,
    "start_time": "2023-06-09T09:26:34.200Z"
   },
   {
    "duration": 152,
    "start_time": "2023-06-09T09:26:42.814Z"
   },
   {
    "duration": 4,
    "start_time": "2023-06-09T09:26:43.983Z"
   },
   {
    "duration": 4,
    "start_time": "2023-06-09T09:26:48.868Z"
   },
   {
    "duration": 11,
    "start_time": "2023-06-09T09:26:48.874Z"
   },
   {
    "duration": 780,
    "start_time": "2023-06-09T09:26:48.929Z"
   },
   {
    "duration": 14,
    "start_time": "2023-06-09T09:26:49.711Z"
   },
   {
    "duration": 123,
    "start_time": "2023-06-09T09:26:49.726Z"
   },
   {
    "duration": 101,
    "start_time": "2023-06-09T09:26:49.851Z"
   },
   {
    "duration": 33,
    "start_time": "2023-06-09T09:26:49.954Z"
   },
   {
    "duration": 6,
    "start_time": "2023-06-09T09:26:49.989Z"
   },
   {
    "duration": 2173,
    "start_time": "2023-06-09T09:26:49.996Z"
   },
   {
    "duration": 90212,
    "start_time": "2023-06-09T09:26:52.171Z"
   },
   {
    "duration": 211,
    "start_time": "2023-06-09T09:28:22.385Z"
   },
   {
    "duration": 204,
    "start_time": "2023-06-09T09:28:22.598Z"
   },
   {
    "duration": 23,
    "start_time": "2023-06-09T09:28:22.804Z"
   },
   {
    "duration": 78,
    "start_time": "2023-06-09T09:28:22.828Z"
   },
   {
    "duration": 92,
    "start_time": "2023-06-09T09:28:22.908Z"
   },
   {
    "duration": 73,
    "start_time": "2023-06-09T09:28:23.003Z"
   },
   {
    "duration": 211,
    "start_time": "2023-06-09T09:28:23.077Z"
   },
   {
    "duration": 15,
    "start_time": "2023-06-09T09:28:23.290Z"
   },
   {
    "duration": 42,
    "start_time": "2023-06-09T09:28:23.306Z"
   },
   {
    "duration": 78,
    "start_time": "2023-06-09T09:28:23.350Z"
   },
   {
    "duration": 23,
    "start_time": "2023-06-09T09:28:23.430Z"
   },
   {
    "duration": 68,
    "start_time": "2023-06-09T09:28:23.456Z"
   },
   {
    "duration": 67470,
    "start_time": "2023-06-09T09:28:23.526Z"
   },
   {
    "duration": 6,
    "start_time": "2023-06-09T09:29:30.999Z"
   },
   {
    "duration": 110,
    "start_time": "2023-06-09T09:29:31.007Z"
   },
   {
    "duration": 89,
    "start_time": "2023-06-09T09:29:31.119Z"
   },
   {
    "duration": 952,
    "start_time": "2023-06-09T09:29:31.210Z"
   },
   {
    "duration": 171,
    "start_time": "2023-06-09T09:29:32.164Z"
   },
   {
    "duration": 168,
    "start_time": "2023-06-09T09:29:32.342Z"
   },
   {
    "duration": 4,
    "start_time": "2023-06-09T09:29:32.512Z"
   },
   {
    "duration": 147,
    "start_time": "2023-06-09T09:30:14.041Z"
   },
   {
    "duration": 4,
    "start_time": "2023-06-09T09:30:15.495Z"
   },
   {
    "duration": 15,
    "start_time": "2023-06-09T09:30:18.655Z"
   },
   {
    "duration": 109,
    "start_time": "2023-06-09T09:30:20.440Z"
   },
   {
    "duration": 2110,
    "start_time": "2023-06-09T20:38:27.711Z"
   },
   {
    "duration": 8,
    "start_time": "2023-06-09T20:38:29.824Z"
   },
   {
    "duration": 3871,
    "start_time": "2023-06-09T20:38:29.835Z"
   },
   {
    "duration": 23,
    "start_time": "2023-06-09T20:38:33.709Z"
   },
   {
    "duration": 192,
    "start_time": "2023-06-09T20:38:33.734Z"
   },
   {
    "duration": 143,
    "start_time": "2023-06-09T20:38:33.928Z"
   },
   {
    "duration": 43,
    "start_time": "2023-06-09T20:38:34.073Z"
   },
   {
    "duration": 26,
    "start_time": "2023-06-09T20:38:34.130Z"
   },
   {
    "duration": 2953,
    "start_time": "2023-06-09T20:38:34.158Z"
   },
   {
    "duration": 106012,
    "start_time": "2023-06-09T20:38:37.115Z"
   },
   {
    "duration": 282,
    "start_time": "2023-06-09T20:40:23.129Z"
   },
   {
    "duration": 267,
    "start_time": "2023-06-09T20:40:23.413Z"
   },
   {
    "duration": 22,
    "start_time": "2023-06-09T20:40:23.681Z"
   },
   {
    "duration": 37,
    "start_time": "2023-06-09T20:40:23.706Z"
   },
   {
    "duration": 30,
    "start_time": "2023-06-09T20:40:23.747Z"
   },
   {
    "duration": 23,
    "start_time": "2023-06-09T20:40:23.779Z"
   },
   {
    "duration": 65,
    "start_time": "2023-06-09T20:40:23.803Z"
   },
   {
    "duration": 15,
    "start_time": "2023-06-09T20:40:23.871Z"
   },
   {
    "duration": 10,
    "start_time": "2023-06-09T20:40:23.888Z"
   },
   {
    "duration": 93,
    "start_time": "2023-06-09T20:40:23.900Z"
   },
   {
    "duration": 11,
    "start_time": "2023-06-09T20:40:23.995Z"
   },
   {
    "duration": 51,
    "start_time": "2023-06-09T20:40:24.007Z"
   },
   {
    "duration": 68336,
    "start_time": "2023-06-09T20:40:24.064Z"
   },
   {
    "duration": 5,
    "start_time": "2023-06-09T20:41:32.402Z"
   },
   {
    "duration": 42,
    "start_time": "2023-06-09T20:41:32.424Z"
   },
   {
    "duration": 5,
    "start_time": "2023-06-09T20:41:32.468Z"
   },
   {
    "duration": 843,
    "start_time": "2023-06-09T20:41:32.477Z"
   },
   {
    "duration": 182,
    "start_time": "2023-06-09T20:41:33.323Z"
   },
   {
    "duration": 173,
    "start_time": "2023-06-09T20:41:33.507Z"
   },
   {
    "duration": 4,
    "start_time": "2023-06-09T20:41:33.682Z"
   },
   {
    "duration": 185,
    "start_time": "2023-06-09T20:41:33.688Z"
   },
   {
    "duration": 3,
    "start_time": "2023-06-09T20:41:33.874Z"
   },
   {
    "duration": 139,
    "start_time": "2023-06-09T20:41:33.879Z"
   },
   {
    "duration": 12,
    "start_time": "2023-06-09T20:41:34.020Z"
   },
   {
    "duration": 31,
    "start_time": "2023-06-09T20:41:34.036Z"
   },
   {
    "duration": 111,
    "start_time": "2023-06-09T20:41:34.069Z"
   }
  ],
  "kernelspec": {
   "display_name": "Python 3 (ipykernel)",
   "language": "python",
   "name": "python3"
  },
  "language_info": {
   "codemirror_mode": {
    "name": "ipython",
    "version": 3
   },
   "file_extension": ".py",
   "mimetype": "text/x-python",
   "name": "python",
   "nbconvert_exporter": "python",
   "pygments_lexer": "ipython3",
   "version": "3.11.4"
  },
  "toc": {
   "base_numbering": 1,
   "nav_menu": {},
   "number_sections": true,
   "sideBar": true,
   "skip_h1_title": true,
   "title_cell": "Table of Contents",
   "title_sidebar": "Contents",
   "toc_cell": false,
   "toc_position": {},
   "toc_section_display": true,
   "toc_window_display": false
  }
 },
 "nbformat": 4,
 "nbformat_minor": 2
}
